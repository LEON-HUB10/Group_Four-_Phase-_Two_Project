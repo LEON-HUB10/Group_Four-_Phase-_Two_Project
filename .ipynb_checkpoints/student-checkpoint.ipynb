{
 "cells": [
  {
   "cell_type": "markdown",
   "metadata": {},
   "source": [
    "## Final Project Submission\n",
    "\n",
    "Please fill out:\n",
    "* Student name: \n",
    "* Student pace: self paced / part time / full time\n",
    "* Scheduled project review date/time: \n",
    "* Instructor name: \n",
    "* Blog post URL:\n"
   ]
  },
  {
   "cell_type": "markdown",
   "metadata": {},
   "source": [
    "# Business Understanding"
   ]
  },
  {
   "cell_type": "markdown",
   "metadata": {},
   "source": [
    "## Problem Statement\n",
    "CineNova Studios is exploring an expansion into the film industry and aims to produce high-grossing movies similar to those created by major film studios. However, the company currently lacks experience in this domain and needs strategic direction. To inform its entry, CineNova is seeking insights into current market trends—specifically, which types of movies are generating the highest revenue."
   ]
  },
  {
   "cell_type": "markdown",
   "metadata": {},
   "source": [
    "## Objectives\n",
    "i) Identify the most profitable movie genres currently dominating the box office.\n",
    "\n",
    "ii) Evaluate key factors (e.g. genre, budget, release date) that contribute to a film’s financial success.\n",
    "\n",
    "iii) Analyze audience reception and critical ratings to understand their influence on box office performance.\n",
    "\n",
    "iv) Quantify the relationship between production budgets and revenue to determine optimal investment levels.\n",
    "\n",
    "v) Assess market trends over recent years to identify emerging opportunities for new film content."
   ]
  },
  {
   "cell_type": "markdown",
   "metadata": {},
   "source": [
    "## Data Understanding\n",
    "A total of 5 datasets and a database were used in the project.\n",
    "bom.movie_gross.csv which has 3387 rows and 5 columns \n",
    "tmd.movies.csv which has 26,517 rows and 10 columns.\n",
    "tn.movie_budgets.csv which has 5782 rows and 6 columns.\n",
    "rt.movie_info.tsv which has 156o rows and 12 columns.\n",
    "rt.reviews.tsv which has 54432 rows and 8 columns\n",
    "im.db where genres, averagerating, numvotes were extracted from the database and converted to a dataframe with 73,856 rows and 3 columns"
   ]
  },
  {
   "cell_type": "markdown",
   "metadata": {},
   "source": [
    "## Data Cleaning"
   ]
  },
  {
   "cell_type": "code",
   "execution_count": 1,
   "metadata": {},
   "outputs": [],
   "source": [
    "# Your code here - remember to use markdown cells for comments as well!\n",
    "import pandas as pd\n",
    "import numpy as np\n",
    "import matplotlib.pyplot as plt\n",
    "import seaborn as sns\n",
    "import scipy.stats as stats\n"
   ]
  },
  {
   "cell_type": "code",
   "execution_count": 2,
   "metadata": {},
   "outputs": [
    {
     "data": {
      "text/html": [
       "<div>\n",
       "<style scoped>\n",
       "    .dataframe tbody tr th:only-of-type {\n",
       "        vertical-align: middle;\n",
       "    }\n",
       "\n",
       "    .dataframe tbody tr th {\n",
       "        vertical-align: top;\n",
       "    }\n",
       "\n",
       "    .dataframe thead th {\n",
       "        text-align: right;\n",
       "    }\n",
       "</style>\n",
       "<table border=\"1\" class=\"dataframe\">\n",
       "  <thead>\n",
       "    <tr style=\"text-align: right;\">\n",
       "      <th></th>\n",
       "      <th>title</th>\n",
       "      <th>studio</th>\n",
       "      <th>domestic_gross</th>\n",
       "      <th>foreign_gross</th>\n",
       "      <th>year</th>\n",
       "    </tr>\n",
       "  </thead>\n",
       "  <tbody>\n",
       "    <tr>\n",
       "      <th>0</th>\n",
       "      <td>Toy Story 3</td>\n",
       "      <td>BV</td>\n",
       "      <td>415000000.0</td>\n",
       "      <td>652000000</td>\n",
       "      <td>2010</td>\n",
       "    </tr>\n",
       "    <tr>\n",
       "      <th>1</th>\n",
       "      <td>Alice in Wonderland (2010)</td>\n",
       "      <td>BV</td>\n",
       "      <td>334200000.0</td>\n",
       "      <td>691300000</td>\n",
       "      <td>2010</td>\n",
       "    </tr>\n",
       "    <tr>\n",
       "      <th>2</th>\n",
       "      <td>Harry Potter and the Deathly Hallows Part 1</td>\n",
       "      <td>WB</td>\n",
       "      <td>296000000.0</td>\n",
       "      <td>664300000</td>\n",
       "      <td>2010</td>\n",
       "    </tr>\n",
       "    <tr>\n",
       "      <th>3</th>\n",
       "      <td>Inception</td>\n",
       "      <td>WB</td>\n",
       "      <td>292600000.0</td>\n",
       "      <td>535700000</td>\n",
       "      <td>2010</td>\n",
       "    </tr>\n",
       "    <tr>\n",
       "      <th>4</th>\n",
       "      <td>Shrek Forever After</td>\n",
       "      <td>P/DW</td>\n",
       "      <td>238700000.0</td>\n",
       "      <td>513900000</td>\n",
       "      <td>2010</td>\n",
       "    </tr>\n",
       "    <tr>\n",
       "      <th>...</th>\n",
       "      <td>...</td>\n",
       "      <td>...</td>\n",
       "      <td>...</td>\n",
       "      <td>...</td>\n",
       "      <td>...</td>\n",
       "    </tr>\n",
       "    <tr>\n",
       "      <th>3382</th>\n",
       "      <td>The Quake</td>\n",
       "      <td>Magn.</td>\n",
       "      <td>6200.0</td>\n",
       "      <td>NaN</td>\n",
       "      <td>2018</td>\n",
       "    </tr>\n",
       "    <tr>\n",
       "      <th>3383</th>\n",
       "      <td>Edward II (2018 re-release)</td>\n",
       "      <td>FM</td>\n",
       "      <td>4800.0</td>\n",
       "      <td>NaN</td>\n",
       "      <td>2018</td>\n",
       "    </tr>\n",
       "    <tr>\n",
       "      <th>3384</th>\n",
       "      <td>El Pacto</td>\n",
       "      <td>Sony</td>\n",
       "      <td>2500.0</td>\n",
       "      <td>NaN</td>\n",
       "      <td>2018</td>\n",
       "    </tr>\n",
       "    <tr>\n",
       "      <th>3385</th>\n",
       "      <td>The Swan</td>\n",
       "      <td>Synergetic</td>\n",
       "      <td>2400.0</td>\n",
       "      <td>NaN</td>\n",
       "      <td>2018</td>\n",
       "    </tr>\n",
       "    <tr>\n",
       "      <th>3386</th>\n",
       "      <td>An Actor Prepares</td>\n",
       "      <td>Grav.</td>\n",
       "      <td>1700.0</td>\n",
       "      <td>NaN</td>\n",
       "      <td>2018</td>\n",
       "    </tr>\n",
       "  </tbody>\n",
       "</table>\n",
       "<p>3387 rows × 5 columns</p>\n",
       "</div>"
      ],
      "text/plain": [
       "                                            title      studio  domestic_gross  \\\n",
       "0                                     Toy Story 3          BV     415000000.0   \n",
       "1                      Alice in Wonderland (2010)          BV     334200000.0   \n",
       "2     Harry Potter and the Deathly Hallows Part 1          WB     296000000.0   \n",
       "3                                       Inception          WB     292600000.0   \n",
       "4                             Shrek Forever After        P/DW     238700000.0   \n",
       "...                                           ...         ...             ...   \n",
       "3382                                    The Quake       Magn.          6200.0   \n",
       "3383                  Edward II (2018 re-release)          FM          4800.0   \n",
       "3384                                     El Pacto        Sony          2500.0   \n",
       "3385                                     The Swan  Synergetic          2400.0   \n",
       "3386                            An Actor Prepares       Grav.          1700.0   \n",
       "\n",
       "     foreign_gross  year  \n",
       "0        652000000  2010  \n",
       "1        691300000  2010  \n",
       "2        664300000  2010  \n",
       "3        535700000  2010  \n",
       "4        513900000  2010  \n",
       "...            ...   ...  \n",
       "3382           NaN  2018  \n",
       "3383           NaN  2018  \n",
       "3384           NaN  2018  \n",
       "3385           NaN  2018  \n",
       "3386           NaN  2018  \n",
       "\n",
       "[3387 rows x 5 columns]"
      ]
     },
     "execution_count": 2,
     "metadata": {},
     "output_type": "execute_result"
    }
   ],
   "source": [
    "data1 = pd.read_csv('zippedData/bom.movie_gross.csv.gz')\n",
    "data1"
   ]
  },
  {
   "cell_type": "code",
   "execution_count": 3,
   "metadata": {},
   "outputs": [
    {
     "data": {
      "text/plain": [
       "(3387, 5)"
      ]
     },
     "execution_count": 3,
     "metadata": {},
     "output_type": "execute_result"
    }
   ],
   "source": [
    "data1.shape"
   ]
  },
  {
   "cell_type": "code",
   "execution_count": 4,
   "metadata": {},
   "outputs": [
    {
     "data": {
      "text/html": [
       "<div>\n",
       "<style scoped>\n",
       "    .dataframe tbody tr th:only-of-type {\n",
       "        vertical-align: middle;\n",
       "    }\n",
       "\n",
       "    .dataframe tbody tr th {\n",
       "        vertical-align: top;\n",
       "    }\n",
       "\n",
       "    .dataframe thead th {\n",
       "        text-align: right;\n",
       "    }\n",
       "</style>\n",
       "<table border=\"1\" class=\"dataframe\">\n",
       "  <thead>\n",
       "    <tr style=\"text-align: right;\">\n",
       "      <th></th>\n",
       "      <th>domestic_gross</th>\n",
       "      <th>year</th>\n",
       "    </tr>\n",
       "  </thead>\n",
       "  <tbody>\n",
       "    <tr>\n",
       "      <th>count</th>\n",
       "      <td>3.359000e+03</td>\n",
       "      <td>3387.000000</td>\n",
       "    </tr>\n",
       "    <tr>\n",
       "      <th>mean</th>\n",
       "      <td>2.874585e+07</td>\n",
       "      <td>2013.958075</td>\n",
       "    </tr>\n",
       "    <tr>\n",
       "      <th>std</th>\n",
       "      <td>6.698250e+07</td>\n",
       "      <td>2.478141</td>\n",
       "    </tr>\n",
       "    <tr>\n",
       "      <th>min</th>\n",
       "      <td>1.000000e+02</td>\n",
       "      <td>2010.000000</td>\n",
       "    </tr>\n",
       "    <tr>\n",
       "      <th>25%</th>\n",
       "      <td>1.200000e+05</td>\n",
       "      <td>2012.000000</td>\n",
       "    </tr>\n",
       "    <tr>\n",
       "      <th>50%</th>\n",
       "      <td>1.400000e+06</td>\n",
       "      <td>2014.000000</td>\n",
       "    </tr>\n",
       "    <tr>\n",
       "      <th>75%</th>\n",
       "      <td>2.790000e+07</td>\n",
       "      <td>2016.000000</td>\n",
       "    </tr>\n",
       "    <tr>\n",
       "      <th>max</th>\n",
       "      <td>9.367000e+08</td>\n",
       "      <td>2018.000000</td>\n",
       "    </tr>\n",
       "  </tbody>\n",
       "</table>\n",
       "</div>"
      ],
      "text/plain": [
       "       domestic_gross         year\n",
       "count    3.359000e+03  3387.000000\n",
       "mean     2.874585e+07  2013.958075\n",
       "std      6.698250e+07     2.478141\n",
       "min      1.000000e+02  2010.000000\n",
       "25%      1.200000e+05  2012.000000\n",
       "50%      1.400000e+06  2014.000000\n",
       "75%      2.790000e+07  2016.000000\n",
       "max      9.367000e+08  2018.000000"
      ]
     },
     "execution_count": 4,
     "metadata": {},
     "output_type": "execute_result"
    }
   ],
   "source": [
    "data1.describe()"
   ]
  },
  {
   "cell_type": "code",
   "execution_count": 5,
   "metadata": {},
   "outputs": [
    {
     "name": "stdout",
     "output_type": "stream",
     "text": [
      "<class 'pandas.core.frame.DataFrame'>\n",
      "RangeIndex: 3387 entries, 0 to 3386\n",
      "Data columns (total 5 columns):\n",
      " #   Column          Non-Null Count  Dtype  \n",
      "---  ------          --------------  -----  \n",
      " 0   title           3387 non-null   object \n",
      " 1   studio          3382 non-null   object \n",
      " 2   domestic_gross  3359 non-null   float64\n",
      " 3   foreign_gross   2037 non-null   object \n",
      " 4   year            3387 non-null   int64  \n",
      "dtypes: float64(1), int64(1), object(3)\n",
      "memory usage: 132.4+ KB\n"
     ]
    }
   ],
   "source": [
    "data1.info()"
   ]
  },
  {
   "cell_type": "markdown",
   "metadata": {},
   "source": [
    "The data types are accurate for each of the variables except for foreign_gross"
   ]
  },
  {
   "cell_type": "code",
   "execution_count": 6,
   "metadata": {},
   "outputs": [],
   "source": [
    "# Create a dataframe copy to be used in data cleaning for the first data set\n",
    "dataf1=data1.copy(deep=True)"
   ]
  },
  {
   "cell_type": "code",
   "execution_count": 7,
   "metadata": {},
   "outputs": [],
   "source": [
    "# change data type\n",
    "dataf1['foreign_gross'] = dataf1['foreign_gross'].str.replace(',', '', regex=False).astype(float)"
   ]
  },
  {
   "cell_type": "code",
   "execution_count": 8,
   "metadata": {},
   "outputs": [
    {
     "name": "stdout",
     "output_type": "stream",
     "text": [
      "<class 'pandas.core.frame.DataFrame'>\n",
      "RangeIndex: 3387 entries, 0 to 3386\n",
      "Data columns (total 5 columns):\n",
      " #   Column          Non-Null Count  Dtype  \n",
      "---  ------          --------------  -----  \n",
      " 0   title           3387 non-null   object \n",
      " 1   studio          3382 non-null   object \n",
      " 2   domestic_gross  3359 non-null   float64\n",
      " 3   foreign_gross   2037 non-null   float64\n",
      " 4   year            3387 non-null   int64  \n",
      "dtypes: float64(2), int64(1), object(2)\n",
      "memory usage: 132.4+ KB\n"
     ]
    }
   ],
   "source": [
    "dataf1.info()"
   ]
  },
  {
   "cell_type": "code",
   "execution_count": 9,
   "metadata": {},
   "outputs": [
    {
     "name": "stdout",
     "output_type": "stream",
     "text": [
      "unique values in column'title', '\n",
      "':['Toy Story 3' 'Alice in Wonderland (2010)'\n",
      " 'Harry Potter and the Deathly Hallows Part 1' ... 'El Pacto' 'The Swan'\n",
      " 'An Actor Prepares'] \n",
      "\n",
      "unique values in column'studio', '\n",
      "':['BV' 'WB' 'P/DW' 'Sum.' 'Par.' 'Uni.' 'Fox' 'Wein.' 'Sony' 'FoxS' 'SGem'\n",
      " 'WB (NL)' 'LGF' 'MBox' 'CL' 'W/Dim.' 'CBS' 'Focus' 'MGM' 'Over.' 'Mira.'\n",
      " 'IFC' 'CJ' 'NM' 'SPC' 'ParV' 'Gold.' 'JS' 'RAtt.' 'Magn.' 'Free' '3D'\n",
      " 'UTV' 'Rela.' 'Zeit.' 'Anch.' 'PDA' 'Lorb.' 'App.' 'Drft.' 'Osci.' 'IW'\n",
      " 'Rog.' nan 'Eros' 'Relbig.' 'Viv.' 'Hann.' 'Strand' 'NGE' 'Scre.' 'Kino'\n",
      " 'Abr.' 'CZ' 'ATO' 'First' 'GK' 'FInd.' 'NFC' 'TFC' 'Pala.' 'Imag.' 'NAV'\n",
      " 'Arth.' 'CLS' 'Mont.' 'Olive' 'CGld' 'FOAK' 'IVP' 'Yash' 'ICir' 'FM'\n",
      " 'Vita.' 'WOW' 'Truly' 'Indic.' 'FD' 'Vari.' 'TriS' 'ORF' 'IM' 'Elev.'\n",
      " 'Cohen' 'NeoC' 'Jan.' 'MNE' 'Trib.' 'Rocket' 'OMNI/FSR' 'KKM' 'Argo.'\n",
      " 'SMod' 'Libre' 'FRun' 'WHE' 'P4' 'KC' 'SD' 'AM' 'MPFT' 'Icar.' 'AGF'\n",
      " 'A23' 'Da.' 'NYer' 'Rialto' 'DF' 'KL' 'ALP' 'LG/S' 'WGUSA' 'MPI' 'RTWC'\n",
      " 'FIP' 'RF' 'ArcEnt' 'PalUni' 'EpicPics' 'EOne' 'LD' 'AF' 'TFA' 'Myr.'\n",
      " 'BM&DH' 'SEG' 'PalT' 'Outs' 'OutF' 'BSM' 'WAMCR' 'PM&E' 'A24' 'Cdgm.'\n",
      " 'Distrib.' 'Imax' 'PH' 'HTR' 'ELS' 'PI' 'E1' 'TVC' 'FEF' 'EXCL' 'MSF'\n",
      " 'P/108' 'FCW' 'XL' 'Shout!' 'SV' 'CE' 'VPD' 'KE' 'Saban' 'CF&SR' 'Triu'\n",
      " 'DR' 'Crnth' 'Ampl.' 'CP' 'Proud' 'BGP' 'Abk.' 'DLA' 'B360' 'BWP' 'SEA'\n",
      " 'RME' 'KS' 'VE' 'LGP' 'EC' 'FUN' 'STX' 'AR' 'BG' 'PFR' 'BST' 'BH Tilt'\n",
      " 'BSC' 'U/P' 'UHE' 'CLF' 'FR' 'AaF' 'Orch.' 'Alc' 'PBS' 'SHO' 'Grav.'\n",
      " 'Gathr' 'Asp.' 'ADC' 'Rel.' 'SM' 'AZ' 'UEP' 'ITL' 'TA' 'MR' 'BBC'\n",
      " 'CFilms' 'Part.' 'FOR' 'TAFC' 'JBG' 'PNT' 'CineGalaxy' 'Fathom' 'Zee'\n",
      " 'Men.' 'YFG' 'Gaatri' 'Mon' 'Ghop' 'Cleopatra' 'Dreamwest' 'SDS' 'Linn'\n",
      " 'Electric' 'Jampa' 'HC' 'GrtIndia' 'Neon' 'ENTMP' 'Good Deed' 'ParC'\n",
      " 'Aviron' 'Annapurna' 'Amazon' 'Affirm' 'MOM' 'Orion' 'CFI' 'UTMW'\n",
      " 'Crimson' 'CAVU' 'EF' 'Arrow' 'Hiber' 'Studio 8' 'Global Road'\n",
      " 'Trafalgar' 'Greenwich' 'Spanglish' 'Blue Fox' 'RLJ' 'Swen' 'PackYourBag'\n",
      " 'Gaum.' 'Grindstone' 'Conglomerate' 'MUBI' 'Darin Southa' 'Super'\n",
      " 'CARUSEL' 'PDF' 'Synergetic'] \n",
      "\n",
      "unique values in column'domestic_gross', '\n",
      "':[4.150e+08 3.342e+08 2.960e+08 ... 2.070e+04 1.290e+04 2.400e+03] \n",
      "\n",
      "unique values in column'foreign_gross', '\n",
      "':[6.520e+08 6.913e+08 6.643e+08 ... 5.300e+05 2.560e+05 3.000e+04] \n",
      "\n",
      "unique values in column'year', '\n",
      "':[2010 2011 2012 2013 2014 2015 2016 2017 2018] \n",
      "\n"
     ]
    }
   ],
   "source": [
    "# Checking for unique values\n",
    "for column in dataf1:\n",
    "    unique_values = dataf1[column].unique()\n",
    "    print(f\"unique values in column'{column}', '\\n':{unique_values}\",'\\n')"
   ]
  },
  {
   "cell_type": "code",
   "execution_count": 10,
   "metadata": {},
   "outputs": [
    {
     "data": {
      "text/plain": [
       "(3387, 5)"
      ]
     },
     "execution_count": 10,
     "metadata": {},
     "output_type": "execute_result"
    }
   ],
   "source": [
    "# Drop Duplicates\n",
    "dataf1=dataf1.drop_duplicates()\n",
    "dataf1.shape"
   ]
  },
  {
   "cell_type": "markdown",
   "metadata": {},
   "source": [
    "The dataset's shape remains the same hence no duplicates were found."
   ]
  },
  {
   "cell_type": "code",
   "execution_count": 11,
   "metadata": {},
   "outputs": [
    {
     "data": {
      "text/plain": [
       "Index(['title', 'studio', 'domestic_gross', 'foreign_gross', 'year'], dtype='object')"
      ]
     },
     "execution_count": 11,
     "metadata": {},
     "output_type": "execute_result"
    }
   ],
   "source": [
    "# Check column names\n",
    "dataf1.columns\n"
   ]
  },
  {
   "cell_type": "code",
   "execution_count": 12,
   "metadata": {},
   "outputs": [
    {
     "data": {
      "text/plain": [
       "Index(['title', 'domestic_gross', 'foreign_gross', 'year'], dtype='object')"
      ]
     },
     "execution_count": 12,
     "metadata": {},
     "output_type": "execute_result"
    }
   ],
   "source": [
    "# Drop unneccessary columns\n",
    "del dataf1[\"studio\"]\n",
    "dataf1.columns"
   ]
  },
  {
   "cell_type": "code",
   "execution_count": 13,
   "metadata": {},
   "outputs": [
    {
     "data": {
      "text/plain": [
       "title                0\n",
       "domestic_gross      28\n",
       "foreign_gross     1350\n",
       "year                 0\n",
       "dtype: int64"
      ]
     },
     "execution_count": 13,
     "metadata": {},
     "output_type": "execute_result"
    }
   ],
   "source": [
    "# Check missing values\n",
    "dataf1.isna().sum()"
   ]
  },
  {
   "cell_type": "code",
   "execution_count": 14,
   "metadata": {},
   "outputs": [
    {
     "data": {
      "image/png": "[encoded data removed]",
      "text/plain": [
       "<Figure size 432x288 with 1 Axes>"
      ]
     },
     "metadata": {
      "needs_background": "light"
     },
     "output_type": "display_data"
    }
   ],
   "source": [
    "# Fill missing values with mean or median\n",
    "dataf1['domestic_gross'].plot.kde()\n",
    "plt.show()"
   ]
  },
  {
   "cell_type": "code",
   "execution_count": 15,
   "metadata": {},
   "outputs": [
    {
     "data": {
      "image/png": "[encoded data removed]",
      "text/plain": [
       "<Figure size 432x288 with 1 Axes>"
      ]
     },
     "metadata": {
      "needs_background": "light"
     },
     "output_type": "display_data"
    }
   ],
   "source": [
    "dataf1['foreign_gross'].plot.kde()\n",
    "plt.show()"
   ]
  },
  {
   "cell_type": "markdown",
   "metadata": {},
   "source": [
    "Distriution is skewed for both column, so replace the null values with the median. "
   ]
  },
  {
   "cell_type": "code",
   "execution_count": 16,
   "metadata": {},
   "outputs": [],
   "source": [
    "dataf1[['domestic_gross', 'foreign_gross']] = dataf1[['domestic_gross', 'foreign_gross']].fillna(dataf1[['domestic_gross', 'foreign_gross']].median())\n"
   ]
  },
  {
   "cell_type": "code",
   "execution_count": null,
   "metadata": {},
   "outputs": [],
   "source": []
  },
  {
   "cell_type": "code",
   "execution_count": 17,
   "metadata": {},
   "outputs": [
    {
     "data": {
      "text/html": [
       "<div>\n",
       "<style scoped>\n",
       "    .dataframe tbody tr th:only-of-type {\n",
       "        vertical-align: middle;\n",
       "    }\n",
       "\n",
       "    .dataframe tbody tr th {\n",
       "        vertical-align: top;\n",
       "    }\n",
       "\n",
       "    .dataframe thead th {\n",
       "        text-align: right;\n",
       "    }\n",
       "</style>\n",
       "<table border=\"1\" class=\"dataframe\">\n",
       "  <thead>\n",
       "    <tr style=\"text-align: right;\">\n",
       "      <th></th>\n",
       "      <th>Unnamed: 0</th>\n",
       "      <th>genre_ids</th>\n",
       "      <th>id</th>\n",
       "      <th>original_language</th>\n",
       "      <th>original_title</th>\n",
       "      <th>popularity</th>\n",
       "      <th>release_date</th>\n",
       "      <th>title</th>\n",
       "      <th>vote_average</th>\n",
       "      <th>vote_count</th>\n",
       "    </tr>\n",
       "  </thead>\n",
       "  <tbody>\n",
       "    <tr>\n",
       "      <th>0</th>\n",
       "      <td>0</td>\n",
       "      <td>[12, 14, 10751]</td>\n",
       "      <td>12444</td>\n",
       "      <td>en</td>\n",
       "      <td>Harry Potter and the Deathly Hallows: Part 1</td>\n",
       "      <td>33.533</td>\n",
       "      <td>2010-11-19</td>\n",
       "      <td>Harry Potter and the Deathly Hallows: Part 1</td>\n",
       "      <td>7.7</td>\n",
       "      <td>10788</td>\n",
       "    </tr>\n",
       "    <tr>\n",
       "      <th>1</th>\n",
       "      <td>1</td>\n",
       "      <td>[14, 12, 16, 10751]</td>\n",
       "      <td>10191</td>\n",
       "      <td>en</td>\n",
       "      <td>How to Train Your Dragon</td>\n",
       "      <td>28.734</td>\n",
       "      <td>2010-03-26</td>\n",
       "      <td>How to Train Your Dragon</td>\n",
       "      <td>7.7</td>\n",
       "      <td>7610</td>\n",
       "    </tr>\n",
       "    <tr>\n",
       "      <th>2</th>\n",
       "      <td>2</td>\n",
       "      <td>[12, 28, 878]</td>\n",
       "      <td>10138</td>\n",
       "      <td>en</td>\n",
       "      <td>Iron Man 2</td>\n",
       "      <td>28.515</td>\n",
       "      <td>2010-05-07</td>\n",
       "      <td>Iron Man 2</td>\n",
       "      <td>6.8</td>\n",
       "      <td>12368</td>\n",
       "    </tr>\n",
       "    <tr>\n",
       "      <th>3</th>\n",
       "      <td>3</td>\n",
       "      <td>[16, 35, 10751]</td>\n",
       "      <td>862</td>\n",
       "      <td>en</td>\n",
       "      <td>Toy Story</td>\n",
       "      <td>28.005</td>\n",
       "      <td>1995-11-22</td>\n",
       "      <td>Toy Story</td>\n",
       "      <td>7.9</td>\n",
       "      <td>10174</td>\n",
       "    </tr>\n",
       "    <tr>\n",
       "      <th>4</th>\n",
       "      <td>4</td>\n",
       "      <td>[28, 878, 12]</td>\n",
       "      <td>27205</td>\n",
       "      <td>en</td>\n",
       "      <td>Inception</td>\n",
       "      <td>27.920</td>\n",
       "      <td>2010-07-16</td>\n",
       "      <td>Inception</td>\n",
       "      <td>8.3</td>\n",
       "      <td>22186</td>\n",
       "    </tr>\n",
       "  </tbody>\n",
       "</table>\n",
       "</div>"
      ],
      "text/plain": [
       "   Unnamed: 0            genre_ids     id original_language  \\\n",
       "0           0      [12, 14, 10751]  12444                en   \n",
       "1           1  [14, 12, 16, 10751]  10191                en   \n",
       "2           2        [12, 28, 878]  10138                en   \n",
       "3           3      [16, 35, 10751]    862                en   \n",
       "4           4        [28, 878, 12]  27205                en   \n",
       "\n",
       "                                 original_title  popularity release_date  \\\n",
       "0  Harry Potter and the Deathly Hallows: Part 1      33.533   2010-11-19   \n",
       "1                      How to Train Your Dragon      28.734   2010-03-26   \n",
       "2                                    Iron Man 2      28.515   2010-05-07   \n",
       "3                                     Toy Story      28.005   1995-11-22   \n",
       "4                                     Inception      27.920   2010-07-16   \n",
       "\n",
       "                                          title  vote_average  vote_count  \n",
       "0  Harry Potter and the Deathly Hallows: Part 1           7.7       10788  \n",
       "1                      How to Train Your Dragon           7.7        7610  \n",
       "2                                    Iron Man 2           6.8       12368  \n",
       "3                                     Toy Story           7.9       10174  \n",
       "4                                     Inception           8.3       22186  "
      ]
     },
     "execution_count": 17,
     "metadata": {},
     "output_type": "execute_result"
    }
   ],
   "source": [
    "data2 = pd.read_csv('tmdb.movies.csv')\n",
    "data2.head()\n"
   ]
  },
  {
   "cell_type": "code",
   "execution_count": 18,
   "metadata": {},
   "outputs": [
    {
     "data": {
      "text/html": [
       "<div>\n",
       "<style scoped>\n",
       "    .dataframe tbody tr th:only-of-type {\n",
       "        vertical-align: middle;\n",
       "    }\n",
       "\n",
       "    .dataframe tbody tr th {\n",
       "        vertical-align: top;\n",
       "    }\n",
       "\n",
       "    .dataframe thead th {\n",
       "        text-align: right;\n",
       "    }\n",
       "</style>\n",
       "<table border=\"1\" class=\"dataframe\">\n",
       "  <thead>\n",
       "    <tr style=\"text-align: right;\">\n",
       "      <th></th>\n",
       "      <th>Unnamed: 0</th>\n",
       "      <th>genre_ids</th>\n",
       "      <th>id</th>\n",
       "      <th>original_language</th>\n",
       "      <th>original_title</th>\n",
       "      <th>popularity</th>\n",
       "      <th>release_date</th>\n",
       "      <th>title</th>\n",
       "      <th>vote_average</th>\n",
       "      <th>vote_count</th>\n",
       "    </tr>\n",
       "  </thead>\n",
       "  <tbody>\n",
       "    <tr>\n",
       "      <th>0</th>\n",
       "      <td>0</td>\n",
       "      <td>[12, 14, 10751]</td>\n",
       "      <td>12444</td>\n",
       "      <td>en</td>\n",
       "      <td>Harry Potter and the Deathly Hallows: Part 1</td>\n",
       "      <td>33.533</td>\n",
       "      <td>2010-11-19</td>\n",
       "      <td>Harry Potter and the Deathly Hallows: Part 1</td>\n",
       "      <td>7.7</td>\n",
       "      <td>10788</td>\n",
       "    </tr>\n",
       "    <tr>\n",
       "      <th>1</th>\n",
       "      <td>1</td>\n",
       "      <td>[14, 12, 16, 10751]</td>\n",
       "      <td>10191</td>\n",
       "      <td>en</td>\n",
       "      <td>How to Train Your Dragon</td>\n",
       "      <td>28.734</td>\n",
       "      <td>2010-03-26</td>\n",
       "      <td>How to Train Your Dragon</td>\n",
       "      <td>7.7</td>\n",
       "      <td>7610</td>\n",
       "    </tr>\n",
       "    <tr>\n",
       "      <th>2</th>\n",
       "      <td>2</td>\n",
       "      <td>[12, 28, 878]</td>\n",
       "      <td>10138</td>\n",
       "      <td>en</td>\n",
       "      <td>Iron Man 2</td>\n",
       "      <td>28.515</td>\n",
       "      <td>2010-05-07</td>\n",
       "      <td>Iron Man 2</td>\n",
       "      <td>6.8</td>\n",
       "      <td>12368</td>\n",
       "    </tr>\n",
       "    <tr>\n",
       "      <th>3</th>\n",
       "      <td>3</td>\n",
       "      <td>[16, 35, 10751]</td>\n",
       "      <td>862</td>\n",
       "      <td>en</td>\n",
       "      <td>Toy Story</td>\n",
       "      <td>28.005</td>\n",
       "      <td>1995-11-22</td>\n",
       "      <td>Toy Story</td>\n",
       "      <td>7.9</td>\n",
       "      <td>10174</td>\n",
       "    </tr>\n",
       "    <tr>\n",
       "      <th>4</th>\n",
       "      <td>4</td>\n",
       "      <td>[28, 878, 12]</td>\n",
       "      <td>27205</td>\n",
       "      <td>en</td>\n",
       "      <td>Inception</td>\n",
       "      <td>27.920</td>\n",
       "      <td>2010-07-16</td>\n",
       "      <td>Inception</td>\n",
       "      <td>8.3</td>\n",
       "      <td>22186</td>\n",
       "    </tr>\n",
       "  </tbody>\n",
       "</table>\n",
       "</div>"
      ],
      "text/plain": [
       "   Unnamed: 0            genre_ids     id original_language  \\\n",
       "0           0      [12, 14, 10751]  12444                en   \n",
       "1           1  [14, 12, 16, 10751]  10191                en   \n",
       "2           2        [12, 28, 878]  10138                en   \n",
       "3           3      [16, 35, 10751]    862                en   \n",
       "4           4        [28, 878, 12]  27205                en   \n",
       "\n",
       "                                 original_title  popularity release_date  \\\n",
       "0  Harry Potter and the Deathly Hallows: Part 1      33.533   2010-11-19   \n",
       "1                      How to Train Your Dragon      28.734   2010-03-26   \n",
       "2                                    Iron Man 2      28.515   2010-05-07   \n",
       "3                                     Toy Story      28.005   1995-11-22   \n",
       "4                                     Inception      27.920   2010-07-16   \n",
       "\n",
       "                                          title  vote_average  vote_count  \n",
       "0  Harry Potter and the Deathly Hallows: Part 1           7.7       10788  \n",
       "1                      How to Train Your Dragon           7.7        7610  \n",
       "2                                    Iron Man 2           6.8       12368  \n",
       "3                                     Toy Story           7.9       10174  \n",
       "4                                     Inception           8.3       22186  "
      ]
     },
     "execution_count": 18,
     "metadata": {},
     "output_type": "execute_result"
    }
   ],
   "source": [
    "# Creating a copy of the data to be used in cleaning\n",
    "dataf2=data2.copy(deep=True)\n",
    "dataf2.head()"
   ]
  },
  {
   "cell_type": "code",
   "execution_count": 19,
   "metadata": {},
   "outputs": [
    {
     "data": {
      "text/plain": [
       "(26517, 10)"
      ]
     },
     "execution_count": 19,
     "metadata": {},
     "output_type": "execute_result"
    }
   ],
   "source": [
    "dataf2.shape"
   ]
  },
  {
   "cell_type": "code",
   "execution_count": 20,
   "metadata": {},
   "outputs": [
    {
     "name": "stdout",
     "output_type": "stream",
     "text": [
      "<class 'pandas.core.frame.DataFrame'>\n",
      "RangeIndex: 26517 entries, 0 to 26516\n",
      "Data columns (total 10 columns):\n",
      " #   Column             Non-Null Count  Dtype  \n",
      "---  ------             --------------  -----  \n",
      " 0   Unnamed: 0         26517 non-null  int64  \n",
      " 1   genre_ids          26517 non-null  object \n",
      " 2   id                 26517 non-null  int64  \n",
      " 3   original_language  26517 non-null  object \n",
      " 4   original_title     26517 non-null  object \n",
      " 5   popularity         26517 non-null  float64\n",
      " 6   release_date       26517 non-null  object \n",
      " 7   title              26517 non-null  object \n",
      " 8   vote_average       26517 non-null  float64\n",
      " 9   vote_count         26517 non-null  int64  \n",
      "dtypes: float64(2), int64(3), object(5)\n",
      "memory usage: 2.0+ MB\n"
     ]
    }
   ],
   "source": [
    "dataf2.info()"
   ]
  },
  {
   "cell_type": "markdown",
   "metadata": {},
   "source": [
    "Observation : The data contains 26517 rows and 10 columns of which 5 are numeric columns and 5 are categorical columns"
   ]
  },
  {
   "cell_type": "code",
   "execution_count": 21,
   "metadata": {},
   "outputs": [
    {
     "data": {
      "text/html": [
       "<div>\n",
       "<style scoped>\n",
       "    .dataframe tbody tr th:only-of-type {\n",
       "        vertical-align: middle;\n",
       "    }\n",
       "\n",
       "    .dataframe tbody tr th {\n",
       "        vertical-align: top;\n",
       "    }\n",
       "\n",
       "    .dataframe thead th {\n",
       "        text-align: right;\n",
       "    }\n",
       "</style>\n",
       "<table border=\"1\" class=\"dataframe\">\n",
       "  <thead>\n",
       "    <tr style=\"text-align: right;\">\n",
       "      <th></th>\n",
       "      <th>count</th>\n",
       "      <th>mean</th>\n",
       "      <th>std</th>\n",
       "      <th>min</th>\n",
       "      <th>25%</th>\n",
       "      <th>50%</th>\n",
       "      <th>75%</th>\n",
       "      <th>max</th>\n",
       "    </tr>\n",
       "  </thead>\n",
       "  <tbody>\n",
       "    <tr>\n",
       "      <th>Unnamed: 0</th>\n",
       "      <td>26517.0</td>\n",
       "      <td>13258.000000</td>\n",
       "      <td>7654.942880</td>\n",
       "      <td>0.0</td>\n",
       "      <td>6629.0</td>\n",
       "      <td>13258.000</td>\n",
       "      <td>19887.000</td>\n",
       "      <td>26516.000</td>\n",
       "    </tr>\n",
       "    <tr>\n",
       "      <th>id</th>\n",
       "      <td>26517.0</td>\n",
       "      <td>295050.153260</td>\n",
       "      <td>153661.615648</td>\n",
       "      <td>27.0</td>\n",
       "      <td>157851.0</td>\n",
       "      <td>309581.000</td>\n",
       "      <td>419542.000</td>\n",
       "      <td>608444.000</td>\n",
       "    </tr>\n",
       "    <tr>\n",
       "      <th>popularity</th>\n",
       "      <td>26517.0</td>\n",
       "      <td>3.130912</td>\n",
       "      <td>4.355229</td>\n",
       "      <td>0.6</td>\n",
       "      <td>0.6</td>\n",
       "      <td>1.374</td>\n",
       "      <td>3.694</td>\n",
       "      <td>80.773</td>\n",
       "    </tr>\n",
       "    <tr>\n",
       "      <th>vote_average</th>\n",
       "      <td>26517.0</td>\n",
       "      <td>5.991281</td>\n",
       "      <td>1.852946</td>\n",
       "      <td>0.0</td>\n",
       "      <td>5.0</td>\n",
       "      <td>6.000</td>\n",
       "      <td>7.000</td>\n",
       "      <td>10.000</td>\n",
       "    </tr>\n",
       "    <tr>\n",
       "      <th>vote_count</th>\n",
       "      <td>26517.0</td>\n",
       "      <td>194.224837</td>\n",
       "      <td>960.961095</td>\n",
       "      <td>1.0</td>\n",
       "      <td>2.0</td>\n",
       "      <td>5.000</td>\n",
       "      <td>28.000</td>\n",
       "      <td>22186.000</td>\n",
       "    </tr>\n",
       "  </tbody>\n",
       "</table>\n",
       "</div>"
      ],
      "text/plain": [
       "                count           mean            std   min       25%  \\\n",
       "Unnamed: 0    26517.0   13258.000000    7654.942880   0.0    6629.0   \n",
       "id            26517.0  295050.153260  153661.615648  27.0  157851.0   \n",
       "popularity    26517.0       3.130912       4.355229   0.6       0.6   \n",
       "vote_average  26517.0       5.991281       1.852946   0.0       5.0   \n",
       "vote_count    26517.0     194.224837     960.961095   1.0       2.0   \n",
       "\n",
       "                     50%         75%         max  \n",
       "Unnamed: 0     13258.000   19887.000   26516.000  \n",
       "id            309581.000  419542.000  608444.000  \n",
       "popularity         1.374       3.694      80.773  \n",
       "vote_average       6.000       7.000      10.000  \n",
       "vote_count         5.000      28.000   22186.000  "
      ]
     },
     "execution_count": 21,
     "metadata": {},
     "output_type": "execute_result"
    }
   ],
   "source": [
    "dataf2.describe().T"
   ]
  },
  {
   "cell_type": "code",
   "execution_count": 22,
   "metadata": {},
   "outputs": [
    {
     "data": {
      "text/html": [
       "<div>\n",
       "<style scoped>\n",
       "    .dataframe tbody tr th:only-of-type {\n",
       "        vertical-align: middle;\n",
       "    }\n",
       "\n",
       "    .dataframe tbody tr th {\n",
       "        vertical-align: top;\n",
       "    }\n",
       "\n",
       "    .dataframe thead th {\n",
       "        text-align: right;\n",
       "    }\n",
       "</style>\n",
       "<table border=\"1\" class=\"dataframe\">\n",
       "  <thead>\n",
       "    <tr style=\"text-align: right;\">\n",
       "      <th></th>\n",
       "      <th>count</th>\n",
       "      <th>unique</th>\n",
       "      <th>top</th>\n",
       "      <th>freq</th>\n",
       "    </tr>\n",
       "  </thead>\n",
       "  <tbody>\n",
       "    <tr>\n",
       "      <th>genre_ids</th>\n",
       "      <td>26517</td>\n",
       "      <td>2477</td>\n",
       "      <td>[99]</td>\n",
       "      <td>3700</td>\n",
       "    </tr>\n",
       "    <tr>\n",
       "      <th>original_language</th>\n",
       "      <td>26517</td>\n",
       "      <td>76</td>\n",
       "      <td>en</td>\n",
       "      <td>23291</td>\n",
       "    </tr>\n",
       "    <tr>\n",
       "      <th>original_title</th>\n",
       "      <td>26517</td>\n",
       "      <td>24835</td>\n",
       "      <td>Eden</td>\n",
       "      <td>7</td>\n",
       "    </tr>\n",
       "    <tr>\n",
       "      <th>release_date</th>\n",
       "      <td>26517</td>\n",
       "      <td>3433</td>\n",
       "      <td>2010-01-01</td>\n",
       "      <td>269</td>\n",
       "    </tr>\n",
       "    <tr>\n",
       "      <th>title</th>\n",
       "      <td>26517</td>\n",
       "      <td>24688</td>\n",
       "      <td>Eden</td>\n",
       "      <td>7</td>\n",
       "    </tr>\n",
       "  </tbody>\n",
       "</table>\n",
       "</div>"
      ],
      "text/plain": [
       "                   count unique         top   freq\n",
       "genre_ids          26517   2477        [99]   3700\n",
       "original_language  26517     76          en  23291\n",
       "original_title     26517  24835        Eden      7\n",
       "release_date       26517   3433  2010-01-01    269\n",
       "title              26517  24688        Eden      7"
      ]
     },
     "execution_count": 22,
     "metadata": {},
     "output_type": "execute_result"
    }
   ],
   "source": [
    "dataf2.describe(include = 'O').T"
   ]
  },
  {
   "cell_type": "code",
   "execution_count": 23,
   "metadata": {},
   "outputs": [
    {
     "name": "stdout",
     "output_type": "stream",
     "text": [
      "unique values in column'Unnamed: 0' are : '\n",
      "':[    0     1     2 ... 26514 26515 26516] \n",
      "\n",
      "unique values in column'genre_ids' are : '\n",
      "':['[12, 14, 10751]' '[14, 12, 16, 10751]' '[12, 28, 878]' ...\n",
      " '[18, 14, 27, 878, 10749, 53]' '[16, 27, 9648]' '[10751, 12, 28]'] \n",
      "\n",
      "unique values in column'id' are : '\n",
      "':[ 12444  10191  10138 ... 381231 366854 309885] \n",
      "\n",
      "unique values in column'original_language' are : '\n",
      "':['en' 'nl' 'es' 'ja' 'sv' 'de' 'fr' 'cn' 'it' 'ru' 'zh' 'hi' 'no' 'ko'\n",
      " 'da' 'fi' 'pl' 'te' 'hu' 'tr' 'pt' 'he' 'fa' 'th' 'cs' 'et' 'tl' 'lt'\n",
      " 'xx' 'bs' 'ar' 'is' 'el' 'mr' 'hr' 'ro' 'sr' 'uk' 'nb' 'hz' 'ca' 'bg'\n",
      " 'sl' 'lv' 'si' 'ab' 'ta' 'bo' 'id' 'sq' 'bn' 'gu' 'lo' 'ne' 'kk' 'hy'\n",
      " 'ps' 'kn' 'vi' 'ku' 'ka' 'ml' 'ur' 'mi' 'eu' 'sn' 'cy' 'ha' 'ky' 'yi'\n",
      " 'pa' 'xh' 'cr' 'sw' 'af' 'dz'] \n",
      "\n",
      "unique values in column'original_title' are : '\n",
      "':['Harry Potter and the Deathly Hallows: Part 1' 'How to Train Your Dragon'\n",
      " 'Iron Man 2' ... 'The Last One' 'Trailer Made' 'The Church'] \n",
      "\n",
      "unique values in column'popularity' are : '\n",
      "':[33.533 28.734 28.515 ...  0.612  0.609  0.607] \n",
      "\n",
      "unique values in column'release_date' are : '\n",
      "':['2010-11-19' '2010-03-26' '2010-05-07' ... '2018-05-08' '2018-08-02'\n",
      " '2018-05-26'] \n",
      "\n",
      "unique values in column'title' are : '\n",
      "':['Harry Potter and the Deathly Hallows: Part 1' 'How to Train Your Dragon'\n",
      " 'Iron Man 2' ... 'The Last One' 'Trailer Made' 'The Church'] \n",
      "\n",
      "unique values in column'vote_average' are : '\n",
      "':[ 7.7  6.8  7.9  8.3  6.1  7.4  7.2  7.5  6.6  6.   6.7  4.5  7.3  8.1\n",
      "  6.3  4.6  5.7  5.9  8.2  6.2  6.4  7.6  6.5  7.1  5.6  5.3  7.   5.8\n",
      "  4.9  5.1  5.5  6.9  5.4  7.8  4.7  4.1  4.8  3.2  8.   3.7  5.2  2.7\n",
      "  4.4  5.   2.9  2.   4.   4.2  3.9  4.3  3.5  3.8  3.6  3.4  3.3  3.1\n",
      "  3.   2.5  2.6 10.   2.2  1.7  2.8  2.3  1.6  1.8  2.4  1.5  8.6  1.9\n",
      "  9.   8.7  0.5  1.   8.4  2.1  8.8  1.3  9.5  8.5  9.8  0.   8.9  9.3\n",
      "  9.4  9.2  0.8  1.2  1.4  9.1  9.7] \n",
      "\n",
      "unique values in column'vote_count' are : '\n",
      "':[10788  7610 12368 ...  1163   285   721] \n",
      "\n"
     ]
    }
   ],
   "source": [
    "# Checking for unique values\n",
    "for column in dataf2:\n",
    "    unique_values = dataf2[column].unique()\n",
    "    print(f\"unique values in column'{column}' are : '\\n':{unique_values}\",'\\n')"
   ]
  },
  {
   "cell_type": "code",
   "execution_count": 24,
   "metadata": {},
   "outputs": [
    {
     "data": {
      "text/plain": [
       "0"
      ]
     },
     "execution_count": 24,
     "metadata": {},
     "output_type": "execute_result"
    }
   ],
   "source": [
    "# checking for Duplicates\n",
    "dataf2.duplicated().sum()\n"
   ]
  },
  {
   "cell_type": "markdown",
   "metadata": {},
   "source": [
    "Observation : There are no duplicated rows in the dataset"
   ]
  },
  {
   "cell_type": "code",
   "execution_count": 25,
   "metadata": {},
   "outputs": [
    {
     "data": {
      "text/plain": [
       "Index(['Unnamed: 0', 'genre_ids', 'id', 'original_language', 'original_title',\n",
       "       'popularity', 'release_date', 'title', 'vote_average', 'vote_count'],\n",
       "      dtype='object')"
      ]
     },
     "execution_count": 25,
     "metadata": {},
     "output_type": "execute_result"
    }
   ],
   "source": [
    "#Checking the column names\n",
    "dataf2.columns"
   ]
  },
  {
   "cell_type": "code",
   "execution_count": 26,
   "metadata": {},
   "outputs": [
    {
     "data": {
      "text/html": [
       "<div>\n",
       "<style scoped>\n",
       "    .dataframe tbody tr th:only-of-type {\n",
       "        vertical-align: middle;\n",
       "    }\n",
       "\n",
       "    .dataframe tbody tr th {\n",
       "        vertical-align: top;\n",
       "    }\n",
       "\n",
       "    .dataframe thead th {\n",
       "        text-align: right;\n",
       "    }\n",
       "</style>\n",
       "<table border=\"1\" class=\"dataframe\">\n",
       "  <thead>\n",
       "    <tr style=\"text-align: right;\">\n",
       "      <th></th>\n",
       "      <th>popularity</th>\n",
       "      <th>release_date</th>\n",
       "      <th>title</th>\n",
       "      <th>vote_average</th>\n",
       "      <th>vote_count</th>\n",
       "    </tr>\n",
       "  </thead>\n",
       "  <tbody>\n",
       "    <tr>\n",
       "      <th>0</th>\n",
       "      <td>33.533</td>\n",
       "      <td>2010-11-19</td>\n",
       "      <td>Harry Potter and the Deathly Hallows: Part 1</td>\n",
       "      <td>7.7</td>\n",
       "      <td>10788</td>\n",
       "    </tr>\n",
       "    <tr>\n",
       "      <th>1</th>\n",
       "      <td>28.734</td>\n",
       "      <td>2010-03-26</td>\n",
       "      <td>How to Train Your Dragon</td>\n",
       "      <td>7.7</td>\n",
       "      <td>7610</td>\n",
       "    </tr>\n",
       "    <tr>\n",
       "      <th>2</th>\n",
       "      <td>28.515</td>\n",
       "      <td>2010-05-07</td>\n",
       "      <td>Iron Man 2</td>\n",
       "      <td>6.8</td>\n",
       "      <td>12368</td>\n",
       "    </tr>\n",
       "    <tr>\n",
       "      <th>3</th>\n",
       "      <td>28.005</td>\n",
       "      <td>1995-11-22</td>\n",
       "      <td>Toy Story</td>\n",
       "      <td>7.9</td>\n",
       "      <td>10174</td>\n",
       "    </tr>\n",
       "    <tr>\n",
       "      <th>4</th>\n",
       "      <td>27.920</td>\n",
       "      <td>2010-07-16</td>\n",
       "      <td>Inception</td>\n",
       "      <td>8.3</td>\n",
       "      <td>22186</td>\n",
       "    </tr>\n",
       "  </tbody>\n",
       "</table>\n",
       "</div>"
      ],
      "text/plain": [
       "   popularity release_date                                         title  \\\n",
       "0      33.533   2010-11-19  Harry Potter and the Deathly Hallows: Part 1   \n",
       "1      28.734   2010-03-26                      How to Train Your Dragon   \n",
       "2      28.515   2010-05-07                                    Iron Man 2   \n",
       "3      28.005   1995-11-22                                     Toy Story   \n",
       "4      27.920   2010-07-16                                     Inception   \n",
       "\n",
       "   vote_average  vote_count  \n",
       "0           7.7       10788  \n",
       "1           7.7        7610  \n",
       "2           6.8       12368  \n",
       "3           7.9       10174  \n",
       "4           8.3       22186  "
      ]
     },
     "execution_count": 26,
     "metadata": {},
     "output_type": "execute_result"
    }
   ],
   "source": [
    "#Dropping unnecessary columns\n",
    "dataf2.drop(['Unnamed: 0','genre_ids', 'id','original_language','original_title' ], axis = 1, inplace = True)\n",
    "dataf2.head()"
   ]
  },
  {
   "cell_type": "code",
   "execution_count": 27,
   "metadata": {},
   "outputs": [
    {
     "data": {
      "text/plain": [
       "popularity      0\n",
       "release_date    0\n",
       "title           0\n",
       "vote_average    0\n",
       "vote_count      0\n",
       "dtype: int64"
      ]
     },
     "execution_count": 27,
     "metadata": {},
     "output_type": "execute_result"
    }
   ],
   "source": [
    "# Checking for missing values\n",
    "dataf2.isna().sum()"
   ]
  },
  {
   "cell_type": "markdown",
   "metadata": {},
   "source": [
    "Observation : There are no missing values in the dataset"
   ]
  },
  {
   "cell_type": "markdown",
   "metadata": {},
   "source": [
    "end of data cleaning"
   ]
  },
  {
   "cell_type": "markdown",
   "metadata": {},
   "source": [
    "### Data3 Data cleaning"
   ]
  },
  {
   "cell_type": "code",
   "execution_count": 28,
   "metadata": {},
   "outputs": [
    {
     "data": {
      "text/html": [
       "<div>\n",
       "<style scoped>\n",
       "    .dataframe tbody tr th:only-of-type {\n",
       "        vertical-align: middle;\n",
       "    }\n",
       "\n",
       "    .dataframe tbody tr th {\n",
       "        vertical-align: top;\n",
       "    }\n",
       "\n",
       "    .dataframe thead th {\n",
       "        text-align: right;\n",
       "    }\n",
       "</style>\n",
       "<table border=\"1\" class=\"dataframe\">\n",
       "  <thead>\n",
       "    <tr style=\"text-align: right;\">\n",
       "      <th></th>\n",
       "      <th>id</th>\n",
       "      <th>release_date</th>\n",
       "      <th>movie</th>\n",
       "      <th>production_budget</th>\n",
       "      <th>domestic_gross</th>\n",
       "      <th>worldwide_gross</th>\n",
       "    </tr>\n",
       "  </thead>\n",
       "  <tbody>\n",
       "    <tr>\n",
       "      <th>0</th>\n",
       "      <td>1</td>\n",
       "      <td>Dec 18, 2009</td>\n",
       "      <td>Avatar</td>\n",
       "      <td>$425,000,000</td>\n",
       "      <td>$760,507,625</td>\n",
       "      <td>$2,776,345,279</td>\n",
       "    </tr>\n",
       "    <tr>\n",
       "      <th>1</th>\n",
       "      <td>2</td>\n",
       "      <td>May 20, 2011</td>\n",
       "      <td>Pirates of the Caribbean: On Stranger Tides</td>\n",
       "      <td>$410,600,000</td>\n",
       "      <td>$241,063,875</td>\n",
       "      <td>$1,045,663,875</td>\n",
       "    </tr>\n",
       "    <tr>\n",
       "      <th>2</th>\n",
       "      <td>3</td>\n",
       "      <td>Jun 7, 2019</td>\n",
       "      <td>Dark Phoenix</td>\n",
       "      <td>$350,000,000</td>\n",
       "      <td>$42,762,350</td>\n",
       "      <td>$149,762,350</td>\n",
       "    </tr>\n",
       "    <tr>\n",
       "      <th>3</th>\n",
       "      <td>4</td>\n",
       "      <td>May 1, 2015</td>\n",
       "      <td>Avengers: Age of Ultron</td>\n",
       "      <td>$330,600,000</td>\n",
       "      <td>$459,005,868</td>\n",
       "      <td>$1,403,013,963</td>\n",
       "    </tr>\n",
       "    <tr>\n",
       "      <th>4</th>\n",
       "      <td>5</td>\n",
       "      <td>Dec 15, 2017</td>\n",
       "      <td>Star Wars Ep. VIII: The Last Jedi</td>\n",
       "      <td>$317,000,000</td>\n",
       "      <td>$620,181,382</td>\n",
       "      <td>$1,316,721,747</td>\n",
       "    </tr>\n",
       "    <tr>\n",
       "      <th>...</th>\n",
       "      <td>...</td>\n",
       "      <td>...</td>\n",
       "      <td>...</td>\n",
       "      <td>...</td>\n",
       "      <td>...</td>\n",
       "      <td>...</td>\n",
       "    </tr>\n",
       "    <tr>\n",
       "      <th>5777</th>\n",
       "      <td>78</td>\n",
       "      <td>Dec 31, 2018</td>\n",
       "      <td>Red 11</td>\n",
       "      <td>$7,000</td>\n",
       "      <td>$0</td>\n",
       "      <td>$0</td>\n",
       "    </tr>\n",
       "    <tr>\n",
       "      <th>5778</th>\n",
       "      <td>79</td>\n",
       "      <td>Apr 2, 1999</td>\n",
       "      <td>Following</td>\n",
       "      <td>$6,000</td>\n",
       "      <td>$48,482</td>\n",
       "      <td>$240,495</td>\n",
       "    </tr>\n",
       "    <tr>\n",
       "      <th>5779</th>\n",
       "      <td>80</td>\n",
       "      <td>Jul 13, 2005</td>\n",
       "      <td>Return to the Land of Wonders</td>\n",
       "      <td>$5,000</td>\n",
       "      <td>$1,338</td>\n",
       "      <td>$1,338</td>\n",
       "    </tr>\n",
       "    <tr>\n",
       "      <th>5780</th>\n",
       "      <td>81</td>\n",
       "      <td>Sep 29, 2015</td>\n",
       "      <td>A Plague So Pleasant</td>\n",
       "      <td>$1,400</td>\n",
       "      <td>$0</td>\n",
       "      <td>$0</td>\n",
       "    </tr>\n",
       "    <tr>\n",
       "      <th>5781</th>\n",
       "      <td>82</td>\n",
       "      <td>Aug 5, 2005</td>\n",
       "      <td>My Date With Drew</td>\n",
       "      <td>$1,100</td>\n",
       "      <td>$181,041</td>\n",
       "      <td>$181,041</td>\n",
       "    </tr>\n",
       "  </tbody>\n",
       "</table>\n",
       "<p>5782 rows × 6 columns</p>\n",
       "</div>"
      ],
      "text/plain": [
       "      id  release_date                                        movie  \\\n",
       "0      1  Dec 18, 2009                                       Avatar   \n",
       "1      2  May 20, 2011  Pirates of the Caribbean: On Stranger Tides   \n",
       "2      3   Jun 7, 2019                                 Dark Phoenix   \n",
       "3      4   May 1, 2015                      Avengers: Age of Ultron   \n",
       "4      5  Dec 15, 2017            Star Wars Ep. VIII: The Last Jedi   \n",
       "...   ..           ...                                          ...   \n",
       "5777  78  Dec 31, 2018                                       Red 11   \n",
       "5778  79   Apr 2, 1999                                    Following   \n",
       "5779  80  Jul 13, 2005                Return to the Land of Wonders   \n",
       "5780  81  Sep 29, 2015                         A Plague So Pleasant   \n",
       "5781  82   Aug 5, 2005                            My Date With Drew   \n",
       "\n",
       "     production_budget domestic_gross worldwide_gross  \n",
       "0         $425,000,000   $760,507,625  $2,776,345,279  \n",
       "1         $410,600,000   $241,063,875  $1,045,663,875  \n",
       "2         $350,000,000    $42,762,350    $149,762,350  \n",
       "3         $330,600,000   $459,005,868  $1,403,013,963  \n",
       "4         $317,000,000   $620,181,382  $1,316,721,747  \n",
       "...                ...            ...             ...  \n",
       "5777            $7,000             $0              $0  \n",
       "5778            $6,000        $48,482        $240,495  \n",
       "5779            $5,000         $1,338          $1,338  \n",
       "5780            $1,400             $0              $0  \n",
       "5781            $1,100       $181,041        $181,041  \n",
       "\n",
       "[5782 rows x 6 columns]"
      ]
     },
     "execution_count": 28,
     "metadata": {},
     "output_type": "execute_result"
    }
   ],
   "source": [
    "# Reading the dataset and creating a dataframe\n",
    "data3 = pd.read_csv('zippedData/tn.movie_budgets.csv.gz')\n",
    "data3"
   ]
  },
  {
   "cell_type": "code",
   "execution_count": 29,
   "metadata": {},
   "outputs": [
    {
     "data": {
      "text/html": [
       "<div>\n",
       "<style scoped>\n",
       "    .dataframe tbody tr th:only-of-type {\n",
       "        vertical-align: middle;\n",
       "    }\n",
       "\n",
       "    .dataframe tbody tr th {\n",
       "        vertical-align: top;\n",
       "    }\n",
       "\n",
       "    .dataframe thead th {\n",
       "        text-align: right;\n",
       "    }\n",
       "</style>\n",
       "<table border=\"1\" class=\"dataframe\">\n",
       "  <thead>\n",
       "    <tr style=\"text-align: right;\">\n",
       "      <th></th>\n",
       "      <th>id</th>\n",
       "      <th>release_date</th>\n",
       "      <th>movie</th>\n",
       "      <th>production_budget</th>\n",
       "      <th>domestic_gross</th>\n",
       "      <th>worldwide_gross</th>\n",
       "    </tr>\n",
       "  </thead>\n",
       "  <tbody>\n",
       "    <tr>\n",
       "      <th>0</th>\n",
       "      <td>1</td>\n",
       "      <td>Dec 18, 2009</td>\n",
       "      <td>Avatar</td>\n",
       "      <td>$425,000,000</td>\n",
       "      <td>$760,507,625</td>\n",
       "      <td>$2,776,345,279</td>\n",
       "    </tr>\n",
       "    <tr>\n",
       "      <th>1</th>\n",
       "      <td>2</td>\n",
       "      <td>May 20, 2011</td>\n",
       "      <td>Pirates of the Caribbean: On Stranger Tides</td>\n",
       "      <td>$410,600,000</td>\n",
       "      <td>$241,063,875</td>\n",
       "      <td>$1,045,663,875</td>\n",
       "    </tr>\n",
       "    <tr>\n",
       "      <th>2</th>\n",
       "      <td>3</td>\n",
       "      <td>Jun 7, 2019</td>\n",
       "      <td>Dark Phoenix</td>\n",
       "      <td>$350,000,000</td>\n",
       "      <td>$42,762,350</td>\n",
       "      <td>$149,762,350</td>\n",
       "    </tr>\n",
       "    <tr>\n",
       "      <th>3</th>\n",
       "      <td>4</td>\n",
       "      <td>May 1, 2015</td>\n",
       "      <td>Avengers: Age of Ultron</td>\n",
       "      <td>$330,600,000</td>\n",
       "      <td>$459,005,868</td>\n",
       "      <td>$1,403,013,963</td>\n",
       "    </tr>\n",
       "    <tr>\n",
       "      <th>4</th>\n",
       "      <td>5</td>\n",
       "      <td>Dec 15, 2017</td>\n",
       "      <td>Star Wars Ep. VIII: The Last Jedi</td>\n",
       "      <td>$317,000,000</td>\n",
       "      <td>$620,181,382</td>\n",
       "      <td>$1,316,721,747</td>\n",
       "    </tr>\n",
       "  </tbody>\n",
       "</table>\n",
       "</div>"
      ],
      "text/plain": [
       "   id  release_date                                        movie  \\\n",
       "0   1  Dec 18, 2009                                       Avatar   \n",
       "1   2  May 20, 2011  Pirates of the Caribbean: On Stranger Tides   \n",
       "2   3   Jun 7, 2019                                 Dark Phoenix   \n",
       "3   4   May 1, 2015                      Avengers: Age of Ultron   \n",
       "4   5  Dec 15, 2017            Star Wars Ep. VIII: The Last Jedi   \n",
       "\n",
       "  production_budget domestic_gross worldwide_gross  \n",
       "0      $425,000,000   $760,507,625  $2,776,345,279  \n",
       "1      $410,600,000   $241,063,875  $1,045,663,875  \n",
       "2      $350,000,000    $42,762,350    $149,762,350  \n",
       "3      $330,600,000   $459,005,868  $1,403,013,963  \n",
       "4      $317,000,000   $620,181,382  $1,316,721,747  "
      ]
     },
     "execution_count": 29,
     "metadata": {},
     "output_type": "execute_result"
    }
   ],
   "source": [
    "# looking at first five rows\n",
    "data3.head()"
   ]
  },
  {
   "cell_type": "code",
   "execution_count": 30,
   "metadata": {},
   "outputs": [
    {
     "data": {
      "text/html": [
       "<div>\n",
       "<style scoped>\n",
       "    .dataframe tbody tr th:only-of-type {\n",
       "        vertical-align: middle;\n",
       "    }\n",
       "\n",
       "    .dataframe tbody tr th {\n",
       "        vertical-align: top;\n",
       "    }\n",
       "\n",
       "    .dataframe thead th {\n",
       "        text-align: right;\n",
       "    }\n",
       "</style>\n",
       "<table border=\"1\" class=\"dataframe\">\n",
       "  <thead>\n",
       "    <tr style=\"text-align: right;\">\n",
       "      <th></th>\n",
       "      <th>id</th>\n",
       "      <th>release_date</th>\n",
       "      <th>movie</th>\n",
       "      <th>production_budget</th>\n",
       "      <th>domestic_gross</th>\n",
       "      <th>worldwide_gross</th>\n",
       "    </tr>\n",
       "  </thead>\n",
       "  <tbody>\n",
       "    <tr>\n",
       "      <th>5777</th>\n",
       "      <td>78</td>\n",
       "      <td>Dec 31, 2018</td>\n",
       "      <td>Red 11</td>\n",
       "      <td>$7,000</td>\n",
       "      <td>$0</td>\n",
       "      <td>$0</td>\n",
       "    </tr>\n",
       "    <tr>\n",
       "      <th>5778</th>\n",
       "      <td>79</td>\n",
       "      <td>Apr 2, 1999</td>\n",
       "      <td>Following</td>\n",
       "      <td>$6,000</td>\n",
       "      <td>$48,482</td>\n",
       "      <td>$240,495</td>\n",
       "    </tr>\n",
       "    <tr>\n",
       "      <th>5779</th>\n",
       "      <td>80</td>\n",
       "      <td>Jul 13, 2005</td>\n",
       "      <td>Return to the Land of Wonders</td>\n",
       "      <td>$5,000</td>\n",
       "      <td>$1,338</td>\n",
       "      <td>$1,338</td>\n",
       "    </tr>\n",
       "    <tr>\n",
       "      <th>5780</th>\n",
       "      <td>81</td>\n",
       "      <td>Sep 29, 2015</td>\n",
       "      <td>A Plague So Pleasant</td>\n",
       "      <td>$1,400</td>\n",
       "      <td>$0</td>\n",
       "      <td>$0</td>\n",
       "    </tr>\n",
       "    <tr>\n",
       "      <th>5781</th>\n",
       "      <td>82</td>\n",
       "      <td>Aug 5, 2005</td>\n",
       "      <td>My Date With Drew</td>\n",
       "      <td>$1,100</td>\n",
       "      <td>$181,041</td>\n",
       "      <td>$181,041</td>\n",
       "    </tr>\n",
       "  </tbody>\n",
       "</table>\n",
       "</div>"
      ],
      "text/plain": [
       "      id  release_date                          movie production_budget  \\\n",
       "5777  78  Dec 31, 2018                         Red 11            $7,000   \n",
       "5778  79   Apr 2, 1999                      Following            $6,000   \n",
       "5779  80  Jul 13, 2005  Return to the Land of Wonders            $5,000   \n",
       "5780  81  Sep 29, 2015           A Plague So Pleasant            $1,400   \n",
       "5781  82   Aug 5, 2005              My Date With Drew            $1,100   \n",
       "\n",
       "     domestic_gross worldwide_gross  \n",
       "5777             $0              $0  \n",
       "5778        $48,482        $240,495  \n",
       "5779         $1,338          $1,338  \n",
       "5780             $0              $0  \n",
       "5781       $181,041        $181,041  "
      ]
     },
     "execution_count": 30,
     "metadata": {},
     "output_type": "execute_result"
    }
   ],
   "source": [
    "# looking at last five rows\n",
    "data3.tail()"
   ]
  },
  {
   "cell_type": "code",
   "execution_count": 31,
   "metadata": {},
   "outputs": [
    {
     "data": {
      "text/plain": [
       "(5782, 6)"
      ]
     },
     "execution_count": 31,
     "metadata": {},
     "output_type": "execute_result"
    }
   ],
   "source": [
    "# shows the number of rows and columns in the dataset\n",
    "data3.shape"
   ]
  },
  {
   "cell_type": "code",
   "execution_count": 32,
   "metadata": {},
   "outputs": [
    {
     "name": "stdout",
     "output_type": "stream",
     "text": [
      "<class 'pandas.core.frame.DataFrame'>\n",
      "RangeIndex: 5782 entries, 0 to 5781\n",
      "Data columns (total 6 columns):\n",
      " #   Column             Non-Null Count  Dtype \n",
      "---  ------             --------------  ----- \n",
      " 0   id                 5782 non-null   int64 \n",
      " 1   release_date       5782 non-null   object\n",
      " 2   movie              5782 non-null   object\n",
      " 3   production_budget  5782 non-null   object\n",
      " 4   domestic_gross     5782 non-null   object\n",
      " 5   worldwide_gross    5782 non-null   object\n",
      "dtypes: int64(1), object(5)\n",
      "memory usage: 271.2+ KB\n"
     ]
    }
   ],
   "source": [
    "# checking data dimensions(rows and columns),datatypes and its completeness\n",
    "data3.info()"
   ]
  },
  {
   "cell_type": "code",
   "execution_count": 33,
   "metadata": {},
   "outputs": [
    {
     "name": "stdout",
     "output_type": "stream",
     "text": [
      "<class 'pandas.core.frame.DataFrame'>\n",
      "RangeIndex: 5782 entries, 0 to 5781\n",
      "Data columns (total 6 columns):\n",
      " #   Column             Non-Null Count  Dtype \n",
      "---  ------             --------------  ----- \n",
      " 0   id                 5782 non-null   int64 \n",
      " 1   release_date       5782 non-null   object\n",
      " 2   movie              5782 non-null   object\n",
      " 3   production_budget  5782 non-null   object\n",
      " 4   domestic_gross     5782 non-null   object\n",
      " 5   worldwide_gross    5782 non-null   object\n",
      "dtypes: int64(1), object(5)\n",
      "memory usage: 271.2+ KB\n"
     ]
    }
   ],
   "source": [
    "# checking data dimensions(rows and columns),datatypes and its completeness\n",
    "data3.info()"
   ]
  },
  {
   "cell_type": "code",
   "execution_count": 34,
   "metadata": {},
   "outputs": [
    {
     "data": {
      "text/plain": [
       "id                   0\n",
       "release_date         0\n",
       "movie                0\n",
       "production_budget    0\n",
       "domestic_gross       0\n",
       "worldwide_gross      0\n",
       "dtype: int64"
      ]
     },
     "execution_count": 34,
     "metadata": {},
     "output_type": "execute_result"
    }
   ],
   "source": [
    "# cheking for null values\n",
    "data3.isna().sum()"
   ]
  },
  {
   "cell_type": "code",
   "execution_count": 35,
   "metadata": {},
   "outputs": [
    {
     "data": {
      "text/html": [
       "<div>\n",
       "<style scoped>\n",
       "    .dataframe tbody tr th:only-of-type {\n",
       "        vertical-align: middle;\n",
       "    }\n",
       "\n",
       "    .dataframe tbody tr th {\n",
       "        vertical-align: top;\n",
       "    }\n",
       "\n",
       "    .dataframe thead th {\n",
       "        text-align: right;\n",
       "    }\n",
       "</style>\n",
       "<table border=\"1\" class=\"dataframe\">\n",
       "  <thead>\n",
       "    <tr style=\"text-align: right;\">\n",
       "      <th></th>\n",
       "      <th>count</th>\n",
       "      <th>mean</th>\n",
       "      <th>std</th>\n",
       "      <th>min</th>\n",
       "      <th>25%</th>\n",
       "      <th>50%</th>\n",
       "      <th>75%</th>\n",
       "      <th>max</th>\n",
       "    </tr>\n",
       "  </thead>\n",
       "  <tbody>\n",
       "    <tr>\n",
       "      <th>id</th>\n",
       "      <td>5782.0</td>\n",
       "      <td>50.372363</td>\n",
       "      <td>28.821076</td>\n",
       "      <td>1.0</td>\n",
       "      <td>25.0</td>\n",
       "      <td>50.0</td>\n",
       "      <td>75.0</td>\n",
       "      <td>100.0</td>\n",
       "    </tr>\n",
       "  </tbody>\n",
       "</table>\n",
       "</div>"
      ],
      "text/plain": [
       "     count       mean        std  min   25%   50%   75%    max\n",
       "id  5782.0  50.372363  28.821076  1.0  25.0  50.0  75.0  100.0"
      ]
     },
     "execution_count": 35,
     "metadata": {},
     "output_type": "execute_result"
    }
   ],
   "source": [
    "# Checking for concise summary and transposing it\n",
    "data3.describe().T"
   ]
  },
  {
   "cell_type": "code",
   "execution_count": 36,
   "metadata": {},
   "outputs": [
    {
     "data": {
      "text/html": [
       "<div>\n",
       "<style scoped>\n",
       "    .dataframe tbody tr th:only-of-type {\n",
       "        vertical-align: middle;\n",
       "    }\n",
       "\n",
       "    .dataframe tbody tr th {\n",
       "        vertical-align: top;\n",
       "    }\n",
       "\n",
       "    .dataframe thead th {\n",
       "        text-align: right;\n",
       "    }\n",
       "</style>\n",
       "<table border=\"1\" class=\"dataframe\">\n",
       "  <thead>\n",
       "    <tr style=\"text-align: right;\">\n",
       "      <th></th>\n",
       "      <th>count</th>\n",
       "      <th>mean</th>\n",
       "      <th>std</th>\n",
       "      <th>min</th>\n",
       "      <th>25%</th>\n",
       "      <th>50%</th>\n",
       "      <th>75%</th>\n",
       "      <th>max</th>\n",
       "    </tr>\n",
       "  </thead>\n",
       "  <tbody>\n",
       "    <tr>\n",
       "      <th>id</th>\n",
       "      <td>5782.0</td>\n",
       "      <td>50.372363</td>\n",
       "      <td>28.821076</td>\n",
       "      <td>1.0</td>\n",
       "      <td>25.0</td>\n",
       "      <td>50.0</td>\n",
       "      <td>75.0</td>\n",
       "      <td>100.0</td>\n",
       "    </tr>\n",
       "  </tbody>\n",
       "</table>\n",
       "</div>"
      ],
      "text/plain": [
       "     count       mean        std  min   25%   50%   75%    max\n",
       "id  5782.0  50.372363  28.821076  1.0  25.0  50.0  75.0  100.0"
      ]
     },
     "execution_count": 36,
     "metadata": {},
     "output_type": "execute_result"
    }
   ],
   "source": [
    "# Checking for concise summary and transposing it\n",
    "data3.describe().T"
   ]
  },
  {
   "cell_type": "code",
   "execution_count": 37,
   "metadata": {},
   "outputs": [
    {
     "data": {
      "text/plain": [
       "0"
      ]
     },
     "execution_count": 37,
     "metadata": {},
     "output_type": "execute_result"
    }
   ],
   "source": [
    "# carrying out duplicate check\n",
    "data3.duplicated().sum()"
   ]
  },
  {
   "cell_type": "code",
   "execution_count": 38,
   "metadata": {},
   "outputs": [
    {
     "data": {
      "text/html": [
       "<div>\n",
       "<style scoped>\n",
       "    .dataframe tbody tr th:only-of-type {\n",
       "        vertical-align: middle;\n",
       "    }\n",
       "\n",
       "    .dataframe tbody tr th {\n",
       "        vertical-align: top;\n",
       "    }\n",
       "\n",
       "    .dataframe thead th {\n",
       "        text-align: right;\n",
       "    }\n",
       "</style>\n",
       "<table border=\"1\" class=\"dataframe\">\n",
       "  <thead>\n",
       "    <tr style=\"text-align: right;\">\n",
       "      <th></th>\n",
       "      <th>id</th>\n",
       "      <th>release_date</th>\n",
       "      <th>movie</th>\n",
       "      <th>production_budget</th>\n",
       "      <th>domestic_gross</th>\n",
       "      <th>worldwide_gross</th>\n",
       "    </tr>\n",
       "  </thead>\n",
       "  <tbody>\n",
       "    <tr>\n",
       "      <th>0</th>\n",
       "      <td>1</td>\n",
       "      <td>Dec 18, 2009</td>\n",
       "      <td>Avatar</td>\n",
       "      <td>$425,000,000</td>\n",
       "      <td>$760,507,625</td>\n",
       "      <td>$2,776,345,279</td>\n",
       "    </tr>\n",
       "    <tr>\n",
       "      <th>1</th>\n",
       "      <td>2</td>\n",
       "      <td>May 20, 2011</td>\n",
       "      <td>Pirates of the Caribbean: On Stranger Tides</td>\n",
       "      <td>$410,600,000</td>\n",
       "      <td>$241,063,875</td>\n",
       "      <td>$1,045,663,875</td>\n",
       "    </tr>\n",
       "    <tr>\n",
       "      <th>2</th>\n",
       "      <td>3</td>\n",
       "      <td>Jun 7, 2019</td>\n",
       "      <td>Dark Phoenix</td>\n",
       "      <td>$350,000,000</td>\n",
       "      <td>$42,762,350</td>\n",
       "      <td>$149,762,350</td>\n",
       "    </tr>\n",
       "    <tr>\n",
       "      <th>3</th>\n",
       "      <td>4</td>\n",
       "      <td>May 1, 2015</td>\n",
       "      <td>Avengers: Age of Ultron</td>\n",
       "      <td>$330,600,000</td>\n",
       "      <td>$459,005,868</td>\n",
       "      <td>$1,403,013,963</td>\n",
       "    </tr>\n",
       "    <tr>\n",
       "      <th>4</th>\n",
       "      <td>5</td>\n",
       "      <td>Dec 15, 2017</td>\n",
       "      <td>Star Wars Ep. VIII: The Last Jedi</td>\n",
       "      <td>$317,000,000</td>\n",
       "      <td>$620,181,382</td>\n",
       "      <td>$1,316,721,747</td>\n",
       "    </tr>\n",
       "  </tbody>\n",
       "</table>\n",
       "</div>"
      ],
      "text/plain": [
       "   id  release_date                                        movie  \\\n",
       "0   1  Dec 18, 2009                                       Avatar   \n",
       "1   2  May 20, 2011  Pirates of the Caribbean: On Stranger Tides   \n",
       "2   3   Jun 7, 2019                                 Dark Phoenix   \n",
       "3   4   May 1, 2015                      Avengers: Age of Ultron   \n",
       "4   5  Dec 15, 2017            Star Wars Ep. VIII: The Last Jedi   \n",
       "\n",
       "  production_budget domestic_gross worldwide_gross  \n",
       "0      $425,000,000   $760,507,625  $2,776,345,279  \n",
       "1      $410,600,000   $241,063,875  $1,045,663,875  \n",
       "2      $350,000,000    $42,762,350    $149,762,350  \n",
       "3      $330,600,000   $459,005,868  $1,403,013,963  \n",
       "4      $317,000,000   $620,181,382  $1,316,721,747  "
      ]
     },
     "execution_count": 38,
     "metadata": {},
     "output_type": "execute_result"
    }
   ],
   "source": [
    "# Creating a copy of the original dataset to avoid modifying the original dataset.\n",
    "data3_copy = data3.copy(deep = True)\n",
    "data3_copy[:5]"
   ]
  },
  {
   "cell_type": "code",
   "execution_count": 39,
   "metadata": {},
   "outputs": [
    {
     "data": {
      "text/plain": [
       "Index(['id', 'release_date', 'movie', 'production_budget', 'domestic_gross',\n",
       "       'worldwide_gross'],\n",
       "      dtype='object')"
      ]
     },
     "execution_count": 39,
     "metadata": {},
     "output_type": "execute_result"
    }
   ],
   "source": [
    "# looking at columns to check for white space in columns name\n",
    "data3_copy.columns"
   ]
  },
  {
   "cell_type": "markdown",
   "metadata": {},
   "source": [
    "#### There are no white spaces between column names and all the columns in data3 three are important for analysis and therefore none will be dropped."
   ]
  },
  {
   "cell_type": "code",
   "execution_count": 40,
   "metadata": {},
   "outputs": [
    {
     "data": {
      "text/plain": [
       "id                   0\n",
       "release_date         0\n",
       "movie                0\n",
       "production_budget    0\n",
       "domestic_gross       0\n",
       "worldwide_gross      0\n",
       "dtype: int64"
      ]
     },
     "execution_count": 40,
     "metadata": {},
     "output_type": "execute_result"
    }
   ],
   "source": [
    "# checking for null values in the resultant dataset\n",
    "data3_copy.isnull().sum()"
   ]
  },
  {
   "cell_type": "markdown",
   "metadata": {},
   "source": [
    "#### The data has no null values hence no need for those rigorous operations for fillingin the missing data"
   ]
  },
  {
   "cell_type": "code",
   "execution_count": 41,
   "metadata": {},
   "outputs": [
    {
     "data": {
      "text/html": [
       "<div>\n",
       "<style scoped>\n",
       "    .dataframe tbody tr th:only-of-type {\n",
       "        vertical-align: middle;\n",
       "    }\n",
       "\n",
       "    .dataframe tbody tr th {\n",
       "        vertical-align: top;\n",
       "    }\n",
       "\n",
       "    .dataframe thead th {\n",
       "        text-align: right;\n",
       "    }\n",
       "</style>\n",
       "<table border=\"1\" class=\"dataframe\">\n",
       "  <thead>\n",
       "    <tr style=\"text-align: right;\">\n",
       "      <th></th>\n",
       "      <th>id</th>\n",
       "      <th>release_date</th>\n",
       "      <th>movie</th>\n",
       "      <th>production_budget</th>\n",
       "      <th>domestic_gross</th>\n",
       "      <th>worldwide_gross</th>\n",
       "    </tr>\n",
       "  </thead>\n",
       "  <tbody>\n",
       "    <tr>\n",
       "      <th>0</th>\n",
       "      <td>1</td>\n",
       "      <td>Dec 18, 2009</td>\n",
       "      <td>Avatar</td>\n",
       "      <td>$425,000,000</td>\n",
       "      <td>$760,507,625</td>\n",
       "      <td>$2,776,345,279</td>\n",
       "    </tr>\n",
       "    <tr>\n",
       "      <th>1</th>\n",
       "      <td>2</td>\n",
       "      <td>May 20, 2011</td>\n",
       "      <td>Pirates of the Caribbean: On Stranger Tides</td>\n",
       "      <td>$410,600,000</td>\n",
       "      <td>$241,063,875</td>\n",
       "      <td>$1,045,663,875</td>\n",
       "    </tr>\n",
       "    <tr>\n",
       "      <th>2</th>\n",
       "      <td>3</td>\n",
       "      <td>Jun 7, 2019</td>\n",
       "      <td>Dark Phoenix</td>\n",
       "      <td>$350,000,000</td>\n",
       "      <td>$42,762,350</td>\n",
       "      <td>$149,762,350</td>\n",
       "    </tr>\n",
       "    <tr>\n",
       "      <th>3</th>\n",
       "      <td>4</td>\n",
       "      <td>May 1, 2015</td>\n",
       "      <td>Avengers: Age of Ultron</td>\n",
       "      <td>$330,600,000</td>\n",
       "      <td>$459,005,868</td>\n",
       "      <td>$1,403,013,963</td>\n",
       "    </tr>\n",
       "    <tr>\n",
       "      <th>4</th>\n",
       "      <td>5</td>\n",
       "      <td>Dec 15, 2017</td>\n",
       "      <td>Star Wars Ep. VIII: The Last Jedi</td>\n",
       "      <td>$317,000,000</td>\n",
       "      <td>$620,181,382</td>\n",
       "      <td>$1,316,721,747</td>\n",
       "    </tr>\n",
       "    <tr>\n",
       "      <th>...</th>\n",
       "      <td>...</td>\n",
       "      <td>...</td>\n",
       "      <td>...</td>\n",
       "      <td>...</td>\n",
       "      <td>...</td>\n",
       "      <td>...</td>\n",
       "    </tr>\n",
       "    <tr>\n",
       "      <th>5777</th>\n",
       "      <td>78</td>\n",
       "      <td>Dec 31, 2018</td>\n",
       "      <td>Red 11</td>\n",
       "      <td>$7,000</td>\n",
       "      <td>$0</td>\n",
       "      <td>$0</td>\n",
       "    </tr>\n",
       "    <tr>\n",
       "      <th>5778</th>\n",
       "      <td>79</td>\n",
       "      <td>Apr 2, 1999</td>\n",
       "      <td>Following</td>\n",
       "      <td>$6,000</td>\n",
       "      <td>$48,482</td>\n",
       "      <td>$240,495</td>\n",
       "    </tr>\n",
       "    <tr>\n",
       "      <th>5779</th>\n",
       "      <td>80</td>\n",
       "      <td>Jul 13, 2005</td>\n",
       "      <td>Return to the Land of Wonders</td>\n",
       "      <td>$5,000</td>\n",
       "      <td>$1,338</td>\n",
       "      <td>$1,338</td>\n",
       "    </tr>\n",
       "    <tr>\n",
       "      <th>5780</th>\n",
       "      <td>81</td>\n",
       "      <td>Sep 29, 2015</td>\n",
       "      <td>A Plague So Pleasant</td>\n",
       "      <td>$1,400</td>\n",
       "      <td>$0</td>\n",
       "      <td>$0</td>\n",
       "    </tr>\n",
       "    <tr>\n",
       "      <th>5781</th>\n",
       "      <td>82</td>\n",
       "      <td>Aug 5, 2005</td>\n",
       "      <td>My Date With Drew</td>\n",
       "      <td>$1,100</td>\n",
       "      <td>$181,041</td>\n",
       "      <td>$181,041</td>\n",
       "    </tr>\n",
       "  </tbody>\n",
       "</table>\n",
       "<p>5782 rows × 6 columns</p>\n",
       "</div>"
      ],
      "text/plain": [
       "      id  release_date                                        movie  \\\n",
       "0      1  Dec 18, 2009                                       Avatar   \n",
       "1      2  May 20, 2011  Pirates of the Caribbean: On Stranger Tides   \n",
       "2      3   Jun 7, 2019                                 Dark Phoenix   \n",
       "3      4   May 1, 2015                      Avengers: Age of Ultron   \n",
       "4      5  Dec 15, 2017            Star Wars Ep. VIII: The Last Jedi   \n",
       "...   ..           ...                                          ...   \n",
       "5777  78  Dec 31, 2018                                       Red 11   \n",
       "5778  79   Apr 2, 1999                                    Following   \n",
       "5779  80  Jul 13, 2005                Return to the Land of Wonders   \n",
       "5780  81  Sep 29, 2015                         A Plague So Pleasant   \n",
       "5781  82   Aug 5, 2005                            My Date With Drew   \n",
       "\n",
       "     production_budget domestic_gross worldwide_gross  \n",
       "0         $425,000,000   $760,507,625  $2,776,345,279  \n",
       "1         $410,600,000   $241,063,875  $1,045,663,875  \n",
       "2         $350,000,000    $42,762,350    $149,762,350  \n",
       "3         $330,600,000   $459,005,868  $1,403,013,963  \n",
       "4         $317,000,000   $620,181,382  $1,316,721,747  \n",
       "...                ...            ...             ...  \n",
       "5777            $7,000             $0              $0  \n",
       "5778            $6,000        $48,482        $240,495  \n",
       "5779            $5,000         $1,338          $1,338  \n",
       "5780            $1,400             $0              $0  \n",
       "5781            $1,100       $181,041        $181,041  \n",
       "\n",
       "[5782 rows x 6 columns]"
      ]
     },
     "execution_count": 41,
     "metadata": {},
     "output_type": "execute_result"
    }
   ],
   "source": [
    "# checking for duplicates in the every column\n",
    "data3_copy.duplicated()\n",
    "data3_copy"
   ]
  },
  {
   "cell_type": "code",
   "execution_count": 42,
   "metadata": {},
   "outputs": [
    {
     "data": {
      "text/html": [
       "<div>\n",
       "<style scoped>\n",
       "    .dataframe tbody tr th:only-of-type {\n",
       "        vertical-align: middle;\n",
       "    }\n",
       "\n",
       "    .dataframe tbody tr th {\n",
       "        vertical-align: top;\n",
       "    }\n",
       "\n",
       "    .dataframe thead th {\n",
       "        text-align: right;\n",
       "    }\n",
       "</style>\n",
       "<table border=\"1\" class=\"dataframe\">\n",
       "  <thead>\n",
       "    <tr style=\"text-align: right;\">\n",
       "      <th></th>\n",
       "      <th>id</th>\n",
       "      <th>release_date</th>\n",
       "      <th>movie</th>\n",
       "      <th>production_budget</th>\n",
       "      <th>domestic_gross</th>\n",
       "      <th>worldwide_gross</th>\n",
       "    </tr>\n",
       "  </thead>\n",
       "  <tbody>\n",
       "    <tr>\n",
       "      <th>0</th>\n",
       "      <td>1</td>\n",
       "      <td>Dec 18, 2009</td>\n",
       "      <td>Avatar</td>\n",
       "      <td>$425,000,000</td>\n",
       "      <td>$760,507,625</td>\n",
       "      <td>$2,776,345,279</td>\n",
       "    </tr>\n",
       "    <tr>\n",
       "      <th>1</th>\n",
       "      <td>2</td>\n",
       "      <td>May 20, 2011</td>\n",
       "      <td>Pirates of the Caribbean: On Stranger Tides</td>\n",
       "      <td>$410,600,000</td>\n",
       "      <td>$241,063,875</td>\n",
       "      <td>$1,045,663,875</td>\n",
       "    </tr>\n",
       "    <tr>\n",
       "      <th>2</th>\n",
       "      <td>3</td>\n",
       "      <td>Jun 7, 2019</td>\n",
       "      <td>Dark Phoenix</td>\n",
       "      <td>$350,000,000</td>\n",
       "      <td>$42,762,350</td>\n",
       "      <td>$149,762,350</td>\n",
       "    </tr>\n",
       "    <tr>\n",
       "      <th>3</th>\n",
       "      <td>4</td>\n",
       "      <td>May 1, 2015</td>\n",
       "      <td>Avengers: Age of Ultron</td>\n",
       "      <td>$330,600,000</td>\n",
       "      <td>$459,005,868</td>\n",
       "      <td>$1,403,013,963</td>\n",
       "    </tr>\n",
       "    <tr>\n",
       "      <th>4</th>\n",
       "      <td>5</td>\n",
       "      <td>Dec 15, 2017</td>\n",
       "      <td>Star Wars Ep. VIII: The Last Jedi</td>\n",
       "      <td>$317,000,000</td>\n",
       "      <td>$620,181,382</td>\n",
       "      <td>$1,316,721,747</td>\n",
       "    </tr>\n",
       "    <tr>\n",
       "      <th>...</th>\n",
       "      <td>...</td>\n",
       "      <td>...</td>\n",
       "      <td>...</td>\n",
       "      <td>...</td>\n",
       "      <td>...</td>\n",
       "      <td>...</td>\n",
       "    </tr>\n",
       "    <tr>\n",
       "      <th>5777</th>\n",
       "      <td>78</td>\n",
       "      <td>Dec 31, 2018</td>\n",
       "      <td>Red 11</td>\n",
       "      <td>$7,000</td>\n",
       "      <td>$0</td>\n",
       "      <td>$0</td>\n",
       "    </tr>\n",
       "    <tr>\n",
       "      <th>5778</th>\n",
       "      <td>79</td>\n",
       "      <td>Apr 2, 1999</td>\n",
       "      <td>Following</td>\n",
       "      <td>$6,000</td>\n",
       "      <td>$48,482</td>\n",
       "      <td>$240,495</td>\n",
       "    </tr>\n",
       "    <tr>\n",
       "      <th>5779</th>\n",
       "      <td>80</td>\n",
       "      <td>Jul 13, 2005</td>\n",
       "      <td>Return to the Land of Wonders</td>\n",
       "      <td>$5,000</td>\n",
       "      <td>$1,338</td>\n",
       "      <td>$1,338</td>\n",
       "    </tr>\n",
       "    <tr>\n",
       "      <th>5780</th>\n",
       "      <td>81</td>\n",
       "      <td>Sep 29, 2015</td>\n",
       "      <td>A Plague So Pleasant</td>\n",
       "      <td>$1,400</td>\n",
       "      <td>$0</td>\n",
       "      <td>$0</td>\n",
       "    </tr>\n",
       "    <tr>\n",
       "      <th>5781</th>\n",
       "      <td>82</td>\n",
       "      <td>Aug 5, 2005</td>\n",
       "      <td>My Date With Drew</td>\n",
       "      <td>$1,100</td>\n",
       "      <td>$181,041</td>\n",
       "      <td>$181,041</td>\n",
       "    </tr>\n",
       "  </tbody>\n",
       "</table>\n",
       "<p>5782 rows × 6 columns</p>\n",
       "</div>"
      ],
      "text/plain": [
       "      id  release_date                                        movie  \\\n",
       "0      1  Dec 18, 2009                                       Avatar   \n",
       "1      2  May 20, 2011  Pirates of the Caribbean: On Stranger Tides   \n",
       "2      3   Jun 7, 2019                                 Dark Phoenix   \n",
       "3      4   May 1, 2015                      Avengers: Age of Ultron   \n",
       "4      5  Dec 15, 2017            Star Wars Ep. VIII: The Last Jedi   \n",
       "...   ..           ...                                          ...   \n",
       "5777  78  Dec 31, 2018                                       Red 11   \n",
       "5778  79   Apr 2, 1999                                    Following   \n",
       "5779  80  Jul 13, 2005                Return to the Land of Wonders   \n",
       "5780  81  Sep 29, 2015                         A Plague So Pleasant   \n",
       "5781  82   Aug 5, 2005                            My Date With Drew   \n",
       "\n",
       "     production_budget domestic_gross worldwide_gross  \n",
       "0         $425,000,000   $760,507,625  $2,776,345,279  \n",
       "1         $410,600,000   $241,063,875  $1,045,663,875  \n",
       "2         $350,000,000    $42,762,350    $149,762,350  \n",
       "3         $330,600,000   $459,005,868  $1,403,013,963  \n",
       "4         $317,000,000   $620,181,382  $1,316,721,747  \n",
       "...                ...            ...             ...  \n",
       "5777            $7,000             $0              $0  \n",
       "5778            $6,000        $48,482        $240,495  \n",
       "5779            $5,000         $1,338          $1,338  \n",
       "5780            $1,400             $0              $0  \n",
       "5781            $1,100       $181,041        $181,041  \n",
       "\n",
       "[5782 rows x 6 columns]"
      ]
     },
     "execution_count": 42,
     "metadata": {},
     "output_type": "execute_result"
    }
   ],
   "source": [
    "# checking for duplicates in the dataframe\n",
    "data3_copy[data3_copy.duplicated()]\n",
    "data3_copy"
   ]
  },
  {
   "cell_type": "code",
   "execution_count": 43,
   "metadata": {},
   "outputs": [
    {
     "name": "stdout",
     "output_type": "stream",
     "text": [
      "id\n",
      "[  1   2   3   4   5   6   7   8   9  10  11  12  13  14  15  16  17  18\n",
      "  19  20  21  22  23  24  25  26  27  28  29  30  31  32  33  34  35  36\n",
      "  37  38  39  40  41  42  43  44  45  46  47  48  49  50  51  52  53  54\n",
      "  55  56  57  58  59  60  61  62  63  64  65  66  67  68  69  70  71  72\n",
      "  73  74  75  76  77  78  79  80  81  82  83  84  85  86  87  88  89  90\n",
      "  91  92  93  94  95  96  97  98  99 100]\n",
      "\n",
      "release_date\n",
      "['Dec 18, 2009' 'May 20, 2011' 'Jun 7, 2019' ... 'Aug 14, 2008'\n",
      " 'Feb 26, 1993' 'Jul 13, 2005']\n",
      "\n",
      "movie\n",
      "['Avatar' 'Pirates of the Caribbean: On Stranger Tides' 'Dark Phoenix' ...\n",
      " 'Return to the Land of Wonders' 'A Plague So Pleasant'\n",
      " 'My Date With Drew']\n",
      "\n",
      "production_budget\n",
      "['$425,000,000' '$410,600,000' '$350,000,000' '$330,600,000'\n",
      " '$317,000,000' '$306,000,000' '$300,000,000' '$275,000,000'\n",
      " '$260,000,000' '$258,000,000' '$250,000,000' '$232,000,000'\n",
      " '$230,000,000' '$225,000,000' '$220,000,000' '$217,000,000'\n",
      " '$215,000,000' '$210,000,000' '$207,000,000' '$205,000,000'\n",
      " '$200,000,000' '$195,000,000' '$190,000,000' '$187,500,000'\n",
      " '$186,000,000' '$185,000,000' '$182,000,000' '$180,000,000'\n",
      " '$179,000,000' '$178,000,000' '$175,000,000' '$170,000,000'\n",
      " '$165,000,000' '$163,000,000' '$160,000,000' '$156,000,000'\n",
      " '$155,000,000' '$152,000,000' '$151,500,000' '$151,000,000'\n",
      " '$150,000,000' '$149,000,000' '$145,000,000' '$144,000,000'\n",
      " '$142,000,000' '$140,000,000' '$139,000,000' '$138,000,000'\n",
      " '$137,500,000' '$137,000,000' '$136,200,000' '$135,000,000'\n",
      " '$132,900,000' '$132,000,000' '$130,000,000' '$129,000,000'\n",
      " '$127,500,000' '$127,000,000' '$125,000,000' '$123,000,000'\n",
      " '$120,000,000' '$117,000,000' '$116,000,000' '$115,000,000'\n",
      " '$113,500,000' '$112,000,000' '$111,000,000' '$110,000,000'\n",
      " '$109,000,000' '$108,000,000' '$106,000,000' '$105,000,000'\n",
      " '$104,000,000' '$103,300,000' '$103,000,000' '$102,500,000'\n",
      " '$102,000,000' '$100,000,000' '$99,000,000' '$98,000,000' '$97,000,000'\n",
      " '$95,000,000' '$94,000,000' '$93,000,000' '$92,500,000' '$92,000,000'\n",
      " '$91,000,000' '$90,000,000' '$88,000,000' '$87,500,000' '$87,000,000'\n",
      " '$86,000,000' '$85,000,000' '$84,000,000' '$82,500,000' '$82,000,000'\n",
      " '$81,000,000' '$80,000,000' '$79,300,000' '$79,000,000' '$78,000,000'\n",
      " '$77,600,000' '$77,500,000' '$77,000,000' '$76,000,000' '$75,000,000'\n",
      " '$74,000,000' '$73,243,106' '$73,000,000' '$72,500,000' '$72,000,000'\n",
      " '$71,682,975' '$71,500,000' '$70,702,619' '$70,000,000' '$69,000,000'\n",
      " '$68,000,000' '$67,500,000' '$67,000,000' '$66,000,000' '$65,000,000'\n",
      " '$64,000,000' '$63,700,000' '$63,000,000' '$62,000,000' '$61,000,000'\n",
      " '$60,720,000' '$60,000,000' '$59,500,000' '$59,000,000' '$58,000,000'\n",
      " '$57,500,000' '$57,000,000' '$56,200,000' '$56,000,000' '$55,000,000'\n",
      " '$54,000,000' '$53,012,938' '$53,000,000' '$52,500,000' '$52,000,000'\n",
      " '$51,000,000' '$50,200,000' '$50,000,000' '$49,800,000' '$49,000,000'\n",
      " '$48,000,000' '$47,500,000' '$47,000,000' '$46,500,000' '$46,000,000'\n",
      " '$45,500,000' '$45,000,000' '$44,500,000' '$44,000,000' '$43,000,000'\n",
      " '$42,500,000' '$42,000,000' '$41,000,000' '$40,000,000' '$39,000,000'\n",
      " '$38,600,000' '$38,000,000' '$37,500,000' '$37,000,000' '$36,500,000'\n",
      " '$36,000,000' '$35,200,000' '$35,000,000' '$34,800,000' '$34,000,000'\n",
      " '$33,500,000' '$33,000,000' '$32,500,000' '$32,000,000' '$31,500,000'\n",
      " '$31,000,000' '$30,250,000' '$30,000,000' '$29,200,000' '$29,000,000'\n",
      " '$28,700,000' '$28,500,000' '$28,000,000' '$27,500,000' '$27,000,000'\n",
      " '$26,700,000' '$26,000,000' '$25,530,000' '$25,500,000' '$25,100,000'\n",
      " '$25,000,000' '$24,200,000' '$24,000,000' '$23,600,000' '$23,000,000'\n",
      " '$22,700,000' '$22,500,000' '$22,000,000' '$21,600,000' '$21,500,000'\n",
      " '$21,000,000' '$20,700,000' '$20,500,000' '$20,000,000' '$19,800,000'\n",
      " '$19,700,000' '$19,500,000' '$19,400,000' '$19,200,000' '$19,100,000'\n",
      " '$19,000,000' '$18,975,000' '$18,900,000' '$18,500,000' '$18,000,000'\n",
      " '$17,900,000' '$17,700,000' '$17,500,000' '$17,000,000' '$16,800,000'\n",
      " '$16,500,000' '$16,400,000' '$16,000,000' '$15,700,000' '$15,600,000'\n",
      " '$15,500,000' '$15,300,000' '$15,250,000' '$15,000,000' '$14,600,000'\n",
      " '$14,500,000' '$14,400,000' '$14,200,000' '$14,000,000' '$13,900,000'\n",
      " '$13,700,000' '$13,500,000' '$13,400,000' '$13,300,000' '$13,200,000'\n",
      " '$13,000,000' '$12,800,000' '$12,700,000' '$12,600,000' '$12,500,000'\n",
      " '$12,300,000' '$12,000,000' '$11,900,000' '$11,800,000' '$11,500,000'\n",
      " '$11,400,000' '$11,000,000' '$10,800,000' '$10,750,000' '$10,700,000'\n",
      " '$10,600,000' '$10,500,000' '$10,400,000' '$10,350,000' '$10,300,000'\n",
      " '$10,100,000' '$10,000,000' '$9,900,000' '$9,800,000' '$9,700,000'\n",
      " '$9,600,000' '$9,500,000' '$9,400,000' '$9,300,000' '$9,200,000'\n",
      " '$9,100,000' '$9,000,000' '$8,900,000' '$8,800,000' '$8,600,000'\n",
      " '$8,500,000' '$8,470,000' '$8,400,000' '$8,300,000' '$8,250,000'\n",
      " '$8,200,000' '$8,000,000' '$7,900,000' '$7,800,000' '$7,700,000'\n",
      " '$7,500,000' '$7,400,000' '$7,303,082' '$7,300,000' '$7,250,000'\n",
      " '$7,200,000' '$7,000,000' '$6,900,000' '$6,840,000' '$6,800,000'\n",
      " '$6,750,000' '$6,700,000' '$6,600,000' '$6,537,890' '$6,500,000'\n",
      " '$6,400,000' '$6,250,000' '$6,200,000' '$6,100,000' '$6,000,000'\n",
      " '$5,952,000' '$5,900,000' '$5,800,000' '$5,700,000' '$5,600,000'\n",
      " '$5,500,000' '$5,400,000' '$5,300,000' '$5,250,000' '$5,200,000'\n",
      " '$5,100,000' '$5,000,000' '$4,900,000' '$4,833,610' '$4,800,000'\n",
      " '$4,750,000' '$4,700,000' '$4,638,783' '$4,600,000' '$4,500,000'\n",
      " '$4,400,000' '$4,357,373' '$4,300,000' '$4,200,000' '$4,030,000'\n",
      " '$4,000,000' '$3,900,000' '$3,800,000' '$3,768,785' '$3,750,000'\n",
      " '$3,716,946' '$3,700,000' '$3,600,000' '$3,500,000' '$3,450,000'\n",
      " '$3,440,000' '$3,400,000' '$3,380,000' '$3,300,000' '$3,250,000'\n",
      " '$3,200,000' '$3,180,000' '$3,100,000' '$3,000,000' '$2,931,000'\n",
      " '$2,900,000' '$2,883,848' '$2,850,000' '$2,800,000' '$2,777,000'\n",
      " '$2,750,000' '$2,700,000' '$2,686,000' '$2,660,000' '$2,650,000'\n",
      " '$2,627,000' '$2,600,000' '$2,540,000' '$2,500,000' '$2,450,000'\n",
      " '$2,400,000' '$2,380,000' '$2,361,000' '$2,300,000' '$2,289,247'\n",
      " '$2,280,000' '$2,250,000' '$2,200,000' '$2,160,000' '$2,150,000'\n",
      " '$2,100,000' '$2,000,000' '$1,987,650' '$1,950,000' '$1,900,000'\n",
      " '$1,800,000' '$1,750,000' '$1,700,000' '$1,660,000' '$1,650,000'\n",
      " '$1,644,000' '$1,600,000' '$1,577,000' '$1,500,000' '$1,488,000'\n",
      " '$1,455,000' '$1,400,000' '$1,377,800' '$1,350,000' '$1,305,000'\n",
      " '$1,300,000' '$1,288,000' '$1,250,000' '$1,200,000' '$1,150,000'\n",
      " '$1,125,000' '$1,100,000' '$1,070,000' '$1,039,000' '$1,000,000'\n",
      " '$989,000' '$950,000' '$930,000' '$916,000' '$913,000' '$910,000'\n",
      " '$900,000' '$858,000' '$850,000' '$840,000' '$825,000' '$820,000'\n",
      " '$800,000' '$780,000' '$777,000' '$775,000' '$750,000' '$747,000'\n",
      " '$730,000' '$700,000' '$672,000' '$658,000' '$650,000' '$640,000'\n",
      " '$625,000' '$609,000' '$600,000' '$560,000' '$558,000' '$550,000'\n",
      " '$546,173' '$500,000' '$475,000' '$450,000' '$439,000' '$430,000'\n",
      " '$425,000' '$420,000' '$400,000' '$385,907' '$379,000' '$375,000'\n",
      " '$350,000' '$340,000' '$325,000' '$323,000' '$312,000' '$300,000'\n",
      " '$290,000' '$270,000' '$250,000' '$245,000' '$240,000' '$230,000'\n",
      " '$225,000' '$210,000' '$200,000' '$190,000' '$180,000' '$175,000'\n",
      " '$170,000' '$168,000' '$160,000' '$150,000' '$140,000' '$135,000'\n",
      " '$134,000' '$125,000' '$120,000' '$114,000' '$110,000' '$103,000'\n",
      " '$100,000' '$87,000' '$79,000' '$75,000' '$70,000' '$68,000' '$66,000'\n",
      " '$65,000' '$60,000' '$55,000' '$50,000' '$45,000' '$42,000' '$40,000'\n",
      " '$35,000' '$30,000' '$27,000' '$25,000' '$23,000' '$22,000' '$20,000'\n",
      " '$17,300' '$15,000' '$12,000' '$10,000' '$9,000' '$7,000' '$6,000'\n",
      " '$5,000' '$1,400' '$1,100']\n",
      "\n",
      "domestic_gross\n",
      "['$760,507,625' '$241,063,875' '$42,762,350' ... '$48,482' '$1,338'\n",
      " '$181,041']\n",
      "\n",
      "worldwide_gross\n",
      "['$2,776,345,279' '$1,045,663,875' '$149,762,350' ... '$240,495' '$1,338'\n",
      " '$181,041']\n",
      "\n"
     ]
    }
   ],
   "source": [
    "# checking for unique  in every column\n",
    "for clom in data3_copy:\n",
    "    clom_val = data3_copy[clom].unique()\n",
    "    print(f\"{clom}\\n{clom_val}\\n\")\n"
   ]
  },
  {
   "cell_type": "code",
   "execution_count": 44,
   "metadata": {},
   "outputs": [
    {
     "data": {
      "text/plain": [
       "0      2009-12-18\n",
       "1      2011-05-20\n",
       "2      2019-06-07\n",
       "3      2015-05-01\n",
       "4      2017-12-15\n",
       "          ...    \n",
       "5777   2018-12-31\n",
       "5778   1999-04-02\n",
       "5779   2005-07-13\n",
       "5780   2015-09-29\n",
       "5781   2005-08-05\n",
       "Name: release_date, Length: 5782, dtype: datetime64[ns]"
      ]
     },
     "execution_count": 44,
     "metadata": {},
     "output_type": "execute_result"
    }
   ],
   "source": [
    "# changing the release_date to datetime\n",
    "data3_copy['release_date'] = pd.to_datetime(data3_copy['release_date'])\n",
    "data3_copy['release_date']\n",
    "# so extract the month and year too\n",
    "# data3_copy['month'] = data3_copy['release_date'].dt.month\n",
    "# data3_copy['year'] = data3_copy['release_date'].dt.year"
   ]
  },
  {
   "cell_type": "code",
   "execution_count": 45,
   "metadata": {},
   "outputs": [
    {
     "data": {
      "text/html": [
       "<div>\n",
       "<style scoped>\n",
       "    .dataframe tbody tr th:only-of-type {\n",
       "        vertical-align: middle;\n",
       "    }\n",
       "\n",
       "    .dataframe tbody tr th {\n",
       "        vertical-align: top;\n",
       "    }\n",
       "\n",
       "    .dataframe thead th {\n",
       "        text-align: right;\n",
       "    }\n",
       "</style>\n",
       "<table border=\"1\" class=\"dataframe\">\n",
       "  <thead>\n",
       "    <tr style=\"text-align: right;\">\n",
       "      <th></th>\n",
       "      <th>production_budget</th>\n",
       "      <th>domestic_gross</th>\n",
       "      <th>worldwide_gross</th>\n",
       "    </tr>\n",
       "  </thead>\n",
       "  <tbody>\n",
       "    <tr>\n",
       "      <th>0</th>\n",
       "      <td>425000000.0</td>\n",
       "      <td>760507625.0</td>\n",
       "      <td>2.776345e+09</td>\n",
       "    </tr>\n",
       "    <tr>\n",
       "      <th>1</th>\n",
       "      <td>410600000.0</td>\n",
       "      <td>241063875.0</td>\n",
       "      <td>1.045664e+09</td>\n",
       "    </tr>\n",
       "    <tr>\n",
       "      <th>2</th>\n",
       "      <td>350000000.0</td>\n",
       "      <td>42762350.0</td>\n",
       "      <td>1.497624e+08</td>\n",
       "    </tr>\n",
       "    <tr>\n",
       "      <th>3</th>\n",
       "      <td>330600000.0</td>\n",
       "      <td>459005868.0</td>\n",
       "      <td>1.403014e+09</td>\n",
       "    </tr>\n",
       "    <tr>\n",
       "      <th>4</th>\n",
       "      <td>317000000.0</td>\n",
       "      <td>620181382.0</td>\n",
       "      <td>1.316722e+09</td>\n",
       "    </tr>\n",
       "  </tbody>\n",
       "</table>\n",
       "</div>"
      ],
      "text/plain": [
       "   production_budget  domestic_gross  worldwide_gross\n",
       "0        425000000.0     760507625.0     2.776345e+09\n",
       "1        410600000.0     241063875.0     1.045664e+09\n",
       "2        350000000.0      42762350.0     1.497624e+08\n",
       "3        330600000.0     459005868.0     1.403014e+09\n",
       "4        317000000.0     620181382.0     1.316722e+09"
      ]
     },
     "execution_count": 45,
     "metadata": {},
     "output_type": "execute_result"
    }
   ],
   "source": [
    "cols = ['production_budget', 'domestic_gross', 'worldwide_gross']\n",
    "\n",
    "for col in cols:\n",
    "    data3_copy[col] = data3_copy[col].replace('[\\$,]', '', regex=True).astype(float)\n",
    "data3_copy[cols].head()"
   ]
  },
  {
   "cell_type": "code",
   "execution_count": 46,
   "metadata": {},
   "outputs": [
    {
     "data": {
      "text/html": [
       "<div>\n",
       "<style scoped>\n",
       "    .dataframe tbody tr th:only-of-type {\n",
       "        vertical-align: middle;\n",
       "    }\n",
       "\n",
       "    .dataframe tbody tr th {\n",
       "        vertical-align: top;\n",
       "    }\n",
       "\n",
       "    .dataframe thead th {\n",
       "        text-align: right;\n",
       "    }\n",
       "</style>\n",
       "<table border=\"1\" class=\"dataframe\">\n",
       "  <thead>\n",
       "    <tr style=\"text-align: right;\">\n",
       "      <th></th>\n",
       "      <th>id</th>\n",
       "      <th>release_date</th>\n",
       "      <th>movie</th>\n",
       "      <th>production_budget</th>\n",
       "      <th>domestic_gross</th>\n",
       "      <th>worldwide_gross</th>\n",
       "    </tr>\n",
       "  </thead>\n",
       "  <tbody>\n",
       "    <tr>\n",
       "      <th>0</th>\n",
       "      <td>1</td>\n",
       "      <td>2009-12-18</td>\n",
       "      <td>Avatar</td>\n",
       "      <td>425000000.0</td>\n",
       "      <td>760507625.0</td>\n",
       "      <td>2.776345e+09</td>\n",
       "    </tr>\n",
       "    <tr>\n",
       "      <th>1</th>\n",
       "      <td>2</td>\n",
       "      <td>2011-05-20</td>\n",
       "      <td>Pirates of the Caribbean: On Stranger Tides</td>\n",
       "      <td>410600000.0</td>\n",
       "      <td>241063875.0</td>\n",
       "      <td>1.045664e+09</td>\n",
       "    </tr>\n",
       "    <tr>\n",
       "      <th>2</th>\n",
       "      <td>3</td>\n",
       "      <td>2019-06-07</td>\n",
       "      <td>Dark Phoenix</td>\n",
       "      <td>350000000.0</td>\n",
       "      <td>42762350.0</td>\n",
       "      <td>1.497624e+08</td>\n",
       "    </tr>\n",
       "    <tr>\n",
       "      <th>3</th>\n",
       "      <td>4</td>\n",
       "      <td>2015-05-01</td>\n",
       "      <td>Avengers: Age of Ultron</td>\n",
       "      <td>330600000.0</td>\n",
       "      <td>459005868.0</td>\n",
       "      <td>1.403014e+09</td>\n",
       "    </tr>\n",
       "    <tr>\n",
       "      <th>4</th>\n",
       "      <td>5</td>\n",
       "      <td>2017-12-15</td>\n",
       "      <td>Star Wars Ep. VIII: The Last Jedi</td>\n",
       "      <td>317000000.0</td>\n",
       "      <td>620181382.0</td>\n",
       "      <td>1.316722e+09</td>\n",
       "    </tr>\n",
       "    <tr>\n",
       "      <th>...</th>\n",
       "      <td>...</td>\n",
       "      <td>...</td>\n",
       "      <td>...</td>\n",
       "      <td>...</td>\n",
       "      <td>...</td>\n",
       "      <td>...</td>\n",
       "    </tr>\n",
       "    <tr>\n",
       "      <th>5777</th>\n",
       "      <td>78</td>\n",
       "      <td>2018-12-31</td>\n",
       "      <td>Red 11</td>\n",
       "      <td>7000.0</td>\n",
       "      <td>0.0</td>\n",
       "      <td>0.000000e+00</td>\n",
       "    </tr>\n",
       "    <tr>\n",
       "      <th>5778</th>\n",
       "      <td>79</td>\n",
       "      <td>1999-04-02</td>\n",
       "      <td>Following</td>\n",
       "      <td>6000.0</td>\n",
       "      <td>48482.0</td>\n",
       "      <td>2.404950e+05</td>\n",
       "    </tr>\n",
       "    <tr>\n",
       "      <th>5779</th>\n",
       "      <td>80</td>\n",
       "      <td>2005-07-13</td>\n",
       "      <td>Return to the Land of Wonders</td>\n",
       "      <td>5000.0</td>\n",
       "      <td>1338.0</td>\n",
       "      <td>1.338000e+03</td>\n",
       "    </tr>\n",
       "    <tr>\n",
       "      <th>5780</th>\n",
       "      <td>81</td>\n",
       "      <td>2015-09-29</td>\n",
       "      <td>A Plague So Pleasant</td>\n",
       "      <td>1400.0</td>\n",
       "      <td>0.0</td>\n",
       "      <td>0.000000e+00</td>\n",
       "    </tr>\n",
       "    <tr>\n",
       "      <th>5781</th>\n",
       "      <td>82</td>\n",
       "      <td>2005-08-05</td>\n",
       "      <td>My Date With Drew</td>\n",
       "      <td>1100.0</td>\n",
       "      <td>181041.0</td>\n",
       "      <td>1.810410e+05</td>\n",
       "    </tr>\n",
       "  </tbody>\n",
       "</table>\n",
       "<p>5782 rows × 6 columns</p>\n",
       "</div>"
      ],
      "text/plain": [
       "      id release_date                                        movie  \\\n",
       "0      1   2009-12-18                                       Avatar   \n",
       "1      2   2011-05-20  Pirates of the Caribbean: On Stranger Tides   \n",
       "2      3   2019-06-07                                 Dark Phoenix   \n",
       "3      4   2015-05-01                      Avengers: Age of Ultron   \n",
       "4      5   2017-12-15            Star Wars Ep. VIII: The Last Jedi   \n",
       "...   ..          ...                                          ...   \n",
       "5777  78   2018-12-31                                       Red 11   \n",
       "5778  79   1999-04-02                                    Following   \n",
       "5779  80   2005-07-13                Return to the Land of Wonders   \n",
       "5780  81   2015-09-29                         A Plague So Pleasant   \n",
       "5781  82   2005-08-05                            My Date With Drew   \n",
       "\n",
       "      production_budget  domestic_gross  worldwide_gross  \n",
       "0           425000000.0     760507625.0     2.776345e+09  \n",
       "1           410600000.0     241063875.0     1.045664e+09  \n",
       "2           350000000.0      42762350.0     1.497624e+08  \n",
       "3           330600000.0     459005868.0     1.403014e+09  \n",
       "4           317000000.0     620181382.0     1.316722e+09  \n",
       "...                 ...             ...              ...  \n",
       "5777             7000.0             0.0     0.000000e+00  \n",
       "5778             6000.0         48482.0     2.404950e+05  \n",
       "5779             5000.0          1338.0     1.338000e+03  \n",
       "5780             1400.0             0.0     0.000000e+00  \n",
       "5781             1100.0        181041.0     1.810410e+05  \n",
       "\n",
       "[5782 rows x 6 columns]"
      ]
     },
     "execution_count": 46,
     "metadata": {},
     "output_type": "execute_result"
    }
   ],
   "source": [
    "data3_copy\n"
   ]
  },
  {
   "cell_type": "code",
   "execution_count": 47,
   "metadata": {},
   "outputs": [
    {
     "name": "stdout",
     "output_type": "stream",
     "text": [
      "Value counts for column: id\n",
      "4      58\n",
      "53     58\n",
      "61     58\n",
      "65     58\n",
      "69     58\n",
      "       ..\n",
      "85     57\n",
      "100    57\n",
      "96     57\n",
      "92     57\n",
      "97     57\n",
      "Name: id, Length: 100, dtype: int64\n",
      "\n",
      "\n",
      "Value counts for column: release_date\n",
      "2014-12-31    24\n",
      "2015-12-31    23\n",
      "2010-12-31    15\n",
      "2008-12-31    14\n",
      "2013-12-31    13\n",
      "              ..\n",
      "2018-04-27     1\n",
      "1982-09-17     1\n",
      "2010-02-10     1\n",
      "1966-07-06     1\n",
      "1977-07-13     1\n",
      "Name: release_date, Length: 2418, dtype: int64\n",
      "\n",
      "\n",
      "Value counts for column: movie\n",
      "Home                           3\n",
      "Halloween                      3\n",
      "King Kong                      3\n",
      "House of Wax                   2\n",
      "Snitch                         2\n",
      "                              ..\n",
      "Mad Max 2: The Road Warrior    1\n",
      "The Grand                      1\n",
      "Mad Max: Fury Road             1\n",
      "Ad Astra                       1\n",
      "Bright                         1\n",
      "Name: movie, Length: 5698, dtype: int64\n",
      "\n",
      "\n",
      "Value counts for column: production_budget\n",
      "20000000.0     231\n",
      "10000000.0     212\n",
      "30000000.0     177\n",
      "15000000.0     173\n",
      "25000000.0     171\n",
      "              ... \n",
      "87500000.0       1\n",
      "187500000.0      1\n",
      "91000000.0       1\n",
      "5100000.0        1\n",
      "151000000.0      1\n",
      "Name: production_budget, Length: 509, dtype: int64\n",
      "\n",
      "\n",
      "Value counts for column: domestic_gross\n",
      "0.0            548\n",
      "8000000.0        9\n",
      "2000000.0        7\n",
      "7000000.0        7\n",
      "10000000.0       6\n",
      "              ... \n",
      "68856263.0       1\n",
      "24474312.0       1\n",
      "30059386.0       1\n",
      "101363301.0      1\n",
      "8355815.0        1\n",
      "Name: domestic_gross, Length: 5164, dtype: int64\n",
      "\n",
      "\n",
      "Value counts for column: worldwide_gross\n",
      "0.0            367\n",
      "8000000.0        9\n",
      "7000000.0        6\n",
      "2000000.0        6\n",
      "9000000.0        4\n",
      "              ... \n",
      "18524496.0       1\n",
      "85632458.0       1\n",
      "527079962.0      1\n",
      "261443242.0      1\n",
      "124827316.0      1\n",
      "Name: worldwide_gross, Length: 5356, dtype: int64\n",
      "\n",
      "\n"
     ]
    }
   ],
   "source": [
    "for clom in data3_copy.columns:\n",
    "    print(f\"Value counts for column: {clom}\")\n",
    "    print(data3_copy[clom].value_counts())\n",
    "    print(\"\\n\")"
   ]
  },
  {
   "cell_type": "code",
   "execution_count": 48,
   "metadata": {
    "scrolled": true
   },
   "outputs": [
    {
     "data": {
      "text/html": [
       "<div>\n",
       "<style scoped>\n",
       "    .dataframe tbody tr th:only-of-type {\n",
       "        vertical-align: middle;\n",
       "    }\n",
       "\n",
       "    .dataframe tbody tr th {\n",
       "        vertical-align: top;\n",
       "    }\n",
       "\n",
       "    .dataframe thead th {\n",
       "        text-align: right;\n",
       "    }\n",
       "</style>\n",
       "<table border=\"1\" class=\"dataframe\">\n",
       "  <thead>\n",
       "    <tr style=\"text-align: right;\">\n",
       "      <th></th>\n",
       "      <th>id</th>\n",
       "      <th>synopsis</th>\n",
       "      <th>rating</th>\n",
       "      <th>genre</th>\n",
       "      <th>director</th>\n",
       "      <th>writer</th>\n",
       "      <th>theater_date</th>\n",
       "      <th>dvd_date</th>\n",
       "      <th>currency</th>\n",
       "      <th>box_office</th>\n",
       "      <th>runtime</th>\n",
       "      <th>studio</th>\n",
       "    </tr>\n",
       "  </thead>\n",
       "  <tbody>\n",
       "    <tr>\n",
       "      <th>0</th>\n",
       "      <td>1</td>\n",
       "      <td>This gritty, fast-paced, and innovative police...</td>\n",
       "      <td>R</td>\n",
       "      <td>Action and Adventure|Classics|Drama</td>\n",
       "      <td>William Friedkin</td>\n",
       "      <td>Ernest Tidyman</td>\n",
       "      <td>Oct 9, 1971</td>\n",
       "      <td>Sep 25, 2001</td>\n",
       "      <td>NaN</td>\n",
       "      <td>NaN</td>\n",
       "      <td>104 minutes</td>\n",
       "      <td>NaN</td>\n",
       "    </tr>\n",
       "    <tr>\n",
       "      <th>1</th>\n",
       "      <td>3</td>\n",
       "      <td>New York City, not-too-distant-future: Eric Pa...</td>\n",
       "      <td>R</td>\n",
       "      <td>Drama|Science Fiction and Fantasy</td>\n",
       "      <td>David Cronenberg</td>\n",
       "      <td>David Cronenberg|Don DeLillo</td>\n",
       "      <td>Aug 17, 2012</td>\n",
       "      <td>Jan 1, 2013</td>\n",
       "      <td>$</td>\n",
       "      <td>600,000</td>\n",
       "      <td>108 minutes</td>\n",
       "      <td>Entertainment One</td>\n",
       "    </tr>\n",
       "    <tr>\n",
       "      <th>2</th>\n",
       "      <td>5</td>\n",
       "      <td>Illeana Douglas delivers a superb performance ...</td>\n",
       "      <td>R</td>\n",
       "      <td>Drama|Musical and Performing Arts</td>\n",
       "      <td>Allison Anders</td>\n",
       "      <td>Allison Anders</td>\n",
       "      <td>Sep 13, 1996</td>\n",
       "      <td>Apr 18, 2000</td>\n",
       "      <td>NaN</td>\n",
       "      <td>NaN</td>\n",
       "      <td>116 minutes</td>\n",
       "      <td>NaN</td>\n",
       "    </tr>\n",
       "    <tr>\n",
       "      <th>3</th>\n",
       "      <td>6</td>\n",
       "      <td>Michael Douglas runs afoul of a treacherous su...</td>\n",
       "      <td>R</td>\n",
       "      <td>Drama|Mystery and Suspense</td>\n",
       "      <td>Barry Levinson</td>\n",
       "      <td>Paul Attanasio|Michael Crichton</td>\n",
       "      <td>Dec 9, 1994</td>\n",
       "      <td>Aug 27, 1997</td>\n",
       "      <td>NaN</td>\n",
       "      <td>NaN</td>\n",
       "      <td>128 minutes</td>\n",
       "      <td>NaN</td>\n",
       "    </tr>\n",
       "    <tr>\n",
       "      <th>4</th>\n",
       "      <td>7</td>\n",
       "      <td>NaN</td>\n",
       "      <td>NR</td>\n",
       "      <td>Drama|Romance</td>\n",
       "      <td>Rodney Bennett</td>\n",
       "      <td>Giles Cooper</td>\n",
       "      <td>NaN</td>\n",
       "      <td>NaN</td>\n",
       "      <td>NaN</td>\n",
       "      <td>NaN</td>\n",
       "      <td>200 minutes</td>\n",
       "      <td>NaN</td>\n",
       "    </tr>\n",
       "  </tbody>\n",
       "</table>\n",
       "</div>"
      ],
      "text/plain": [
       "   id                                           synopsis rating  \\\n",
       "0   1  This gritty, fast-paced, and innovative police...      R   \n",
       "1   3  New York City, not-too-distant-future: Eric Pa...      R   \n",
       "2   5  Illeana Douglas delivers a superb performance ...      R   \n",
       "3   6  Michael Douglas runs afoul of a treacherous su...      R   \n",
       "4   7                                                NaN     NR   \n",
       "\n",
       "                                 genre          director  \\\n",
       "0  Action and Adventure|Classics|Drama  William Friedkin   \n",
       "1    Drama|Science Fiction and Fantasy  David Cronenberg   \n",
       "2    Drama|Musical and Performing Arts    Allison Anders   \n",
       "3           Drama|Mystery and Suspense    Barry Levinson   \n",
       "4                        Drama|Romance    Rodney Bennett   \n",
       "\n",
       "                            writer  theater_date      dvd_date currency  \\\n",
       "0                   Ernest Tidyman   Oct 9, 1971  Sep 25, 2001      NaN   \n",
       "1     David Cronenberg|Don DeLillo  Aug 17, 2012   Jan 1, 2013        $   \n",
       "2                   Allison Anders  Sep 13, 1996  Apr 18, 2000      NaN   \n",
       "3  Paul Attanasio|Michael Crichton   Dec 9, 1994  Aug 27, 1997      NaN   \n",
       "4                     Giles Cooper           NaN           NaN      NaN   \n",
       "\n",
       "  box_office      runtime             studio  \n",
       "0        NaN  104 minutes                NaN  \n",
       "1    600,000  108 minutes  Entertainment One  \n",
       "2        NaN  116 minutes                NaN  \n",
       "3        NaN  128 minutes                NaN  \n",
       "4        NaN  200 minutes                NaN  "
      ]
     },
     "execution_count": 48,
     "metadata": {},
     "output_type": "execute_result"
    }
   ],
   "source": [
    "data4 = pd.read_csv('zippedData/rt.movie_info.tsv.gz', sep = '\\t')\n",
    "data4.head()"
   ]
  },
  {
   "cell_type": "code",
   "execution_count": 49,
   "metadata": {},
   "outputs": [
    {
     "data": {
      "text/html": [
       "<div>\n",
       "<style scoped>\n",
       "    .dataframe tbody tr th:only-of-type {\n",
       "        vertical-align: middle;\n",
       "    }\n",
       "\n",
       "    .dataframe tbody tr th {\n",
       "        vertical-align: top;\n",
       "    }\n",
       "\n",
       "    .dataframe thead th {\n",
       "        text-align: right;\n",
       "    }\n",
       "</style>\n",
       "<table border=\"1\" class=\"dataframe\">\n",
       "  <thead>\n",
       "    <tr style=\"text-align: right;\">\n",
       "      <th></th>\n",
       "      <th>id</th>\n",
       "      <th>synopsis</th>\n",
       "      <th>rating</th>\n",
       "      <th>genre</th>\n",
       "      <th>director</th>\n",
       "      <th>writer</th>\n",
       "      <th>theater_date</th>\n",
       "      <th>dvd_date</th>\n",
       "      <th>currency</th>\n",
       "      <th>box_office</th>\n",
       "      <th>runtime</th>\n",
       "      <th>studio</th>\n",
       "    </tr>\n",
       "  </thead>\n",
       "  <tbody>\n",
       "    <tr>\n",
       "      <th>1555</th>\n",
       "      <td>1996</td>\n",
       "      <td>Forget terrorists or hijackers -- there's a ha...</td>\n",
       "      <td>R</td>\n",
       "      <td>Action and Adventure|Horror|Mystery and Suspense</td>\n",
       "      <td>NaN</td>\n",
       "      <td>NaN</td>\n",
       "      <td>Aug 18, 2006</td>\n",
       "      <td>Jan 2, 2007</td>\n",
       "      <td>$</td>\n",
       "      <td>33,886,034</td>\n",
       "      <td>106 minutes</td>\n",
       "      <td>New Line Cinema</td>\n",
       "    </tr>\n",
       "    <tr>\n",
       "      <th>1556</th>\n",
       "      <td>1997</td>\n",
       "      <td>The popular Saturday Night Live sketch was exp...</td>\n",
       "      <td>PG</td>\n",
       "      <td>Comedy|Science Fiction and Fantasy</td>\n",
       "      <td>Steve Barron</td>\n",
       "      <td>Terry Turner|Tom Davis|Dan Aykroyd|Bonnie Turner</td>\n",
       "      <td>Jul 23, 1993</td>\n",
       "      <td>Apr 17, 2001</td>\n",
       "      <td>NaN</td>\n",
       "      <td>NaN</td>\n",
       "      <td>88 minutes</td>\n",
       "      <td>Paramount Vantage</td>\n",
       "    </tr>\n",
       "    <tr>\n",
       "      <th>1557</th>\n",
       "      <td>1998</td>\n",
       "      <td>Based on a novel by Richard Powell, when the l...</td>\n",
       "      <td>G</td>\n",
       "      <td>Classics|Comedy|Drama|Musical and Performing Arts</td>\n",
       "      <td>Gordon Douglas</td>\n",
       "      <td>NaN</td>\n",
       "      <td>Jan 1, 1962</td>\n",
       "      <td>May 11, 2004</td>\n",
       "      <td>NaN</td>\n",
       "      <td>NaN</td>\n",
       "      <td>111 minutes</td>\n",
       "      <td>NaN</td>\n",
       "    </tr>\n",
       "    <tr>\n",
       "      <th>1558</th>\n",
       "      <td>1999</td>\n",
       "      <td>The Sandlot is a coming-of-age story about a g...</td>\n",
       "      <td>PG</td>\n",
       "      <td>Comedy|Drama|Kids and Family|Sports and Fitness</td>\n",
       "      <td>David Mickey Evans</td>\n",
       "      <td>David Mickey Evans|Robert Gunter</td>\n",
       "      <td>Apr 1, 1993</td>\n",
       "      <td>Jan 29, 2002</td>\n",
       "      <td>NaN</td>\n",
       "      <td>NaN</td>\n",
       "      <td>101 minutes</td>\n",
       "      <td>NaN</td>\n",
       "    </tr>\n",
       "    <tr>\n",
       "      <th>1559</th>\n",
       "      <td>2000</td>\n",
       "      <td>Suspended from the force, Paris cop Hubert is ...</td>\n",
       "      <td>R</td>\n",
       "      <td>Action and Adventure|Art House and Internation...</td>\n",
       "      <td>NaN</td>\n",
       "      <td>Luc Besson</td>\n",
       "      <td>Sep 27, 2001</td>\n",
       "      <td>Feb 11, 2003</td>\n",
       "      <td>NaN</td>\n",
       "      <td>NaN</td>\n",
       "      <td>94 minutes</td>\n",
       "      <td>Columbia Pictures</td>\n",
       "    </tr>\n",
       "  </tbody>\n",
       "</table>\n",
       "</div>"
      ],
      "text/plain": [
       "        id                                           synopsis rating  \\\n",
       "1555  1996  Forget terrorists or hijackers -- there's a ha...      R   \n",
       "1556  1997  The popular Saturday Night Live sketch was exp...     PG   \n",
       "1557  1998  Based on a novel by Richard Powell, when the l...      G   \n",
       "1558  1999  The Sandlot is a coming-of-age story about a g...     PG   \n",
       "1559  2000  Suspended from the force, Paris cop Hubert is ...      R   \n",
       "\n",
       "                                                  genre            director  \\\n",
       "1555   Action and Adventure|Horror|Mystery and Suspense                 NaN   \n",
       "1556                 Comedy|Science Fiction and Fantasy        Steve Barron   \n",
       "1557  Classics|Comedy|Drama|Musical and Performing Arts      Gordon Douglas   \n",
       "1558    Comedy|Drama|Kids and Family|Sports and Fitness  David Mickey Evans   \n",
       "1559  Action and Adventure|Art House and Internation...                 NaN   \n",
       "\n",
       "                                                writer  theater_date  \\\n",
       "1555                                               NaN  Aug 18, 2006   \n",
       "1556  Terry Turner|Tom Davis|Dan Aykroyd|Bonnie Turner  Jul 23, 1993   \n",
       "1557                                               NaN   Jan 1, 1962   \n",
       "1558                  David Mickey Evans|Robert Gunter   Apr 1, 1993   \n",
       "1559                                        Luc Besson  Sep 27, 2001   \n",
       "\n",
       "          dvd_date currency  box_office      runtime             studio  \n",
       "1555   Jan 2, 2007        $  33,886,034  106 minutes    New Line Cinema  \n",
       "1556  Apr 17, 2001      NaN         NaN   88 minutes  Paramount Vantage  \n",
       "1557  May 11, 2004      NaN         NaN  111 minutes                NaN  \n",
       "1558  Jan 29, 2002      NaN         NaN  101 minutes                NaN  \n",
       "1559  Feb 11, 2003      NaN         NaN   94 minutes  Columbia Pictures  "
      ]
     },
     "execution_count": 49,
     "metadata": {},
     "output_type": "execute_result"
    }
   ],
   "source": [
    "data4.tail()"
   ]
  },
  {
   "cell_type": "code",
   "execution_count": 50,
   "metadata": {},
   "outputs": [
    {
     "data": {
      "text/plain": [
       "(1560, 12)"
      ]
     },
     "execution_count": 50,
     "metadata": {},
     "output_type": "execute_result"
    }
   ],
   "source": [
    "data4.shape"
   ]
  },
  {
   "cell_type": "code",
   "execution_count": 51,
   "metadata": {},
   "outputs": [
    {
     "data": {
      "text/html": [
       "<div>\n",
       "<style scoped>\n",
       "    .dataframe tbody tr th:only-of-type {\n",
       "        vertical-align: middle;\n",
       "    }\n",
       "\n",
       "    .dataframe tbody tr th {\n",
       "        vertical-align: top;\n",
       "    }\n",
       "\n",
       "    .dataframe thead th {\n",
       "        text-align: right;\n",
       "    }\n",
       "</style>\n",
       "<table border=\"1\" class=\"dataframe\">\n",
       "  <thead>\n",
       "    <tr style=\"text-align: right;\">\n",
       "      <th></th>\n",
       "      <th>count</th>\n",
       "      <th>mean</th>\n",
       "      <th>std</th>\n",
       "      <th>min</th>\n",
       "      <th>25%</th>\n",
       "      <th>50%</th>\n",
       "      <th>75%</th>\n",
       "      <th>max</th>\n",
       "    </tr>\n",
       "  </thead>\n",
       "  <tbody>\n",
       "    <tr>\n",
       "      <th>id</th>\n",
       "      <td>1560.0</td>\n",
       "      <td>1007.303846</td>\n",
       "      <td>579.164527</td>\n",
       "      <td>1.0</td>\n",
       "      <td>504.75</td>\n",
       "      <td>1007.5</td>\n",
       "      <td>1503.25</td>\n",
       "      <td>2000.0</td>\n",
       "    </tr>\n",
       "  </tbody>\n",
       "</table>\n",
       "</div>"
      ],
      "text/plain": [
       "     count         mean         std  min     25%     50%      75%     max\n",
       "id  1560.0  1007.303846  579.164527  1.0  504.75  1007.5  1503.25  2000.0"
      ]
     },
     "execution_count": 51,
     "metadata": {},
     "output_type": "execute_result"
    }
   ],
   "source": [
    "data4.describe().T"
   ]
  },
  {
   "cell_type": "code",
   "execution_count": 52,
   "metadata": {},
   "outputs": [
    {
     "name": "stdout",
     "output_type": "stream",
     "text": [
      "<class 'pandas.core.frame.DataFrame'>\n",
      "RangeIndex: 1560 entries, 0 to 1559\n",
      "Data columns (total 12 columns):\n",
      " #   Column        Non-Null Count  Dtype \n",
      "---  ------        --------------  ----- \n",
      " 0   id            1560 non-null   int64 \n",
      " 1   synopsis      1498 non-null   object\n",
      " 2   rating        1557 non-null   object\n",
      " 3   genre         1552 non-null   object\n",
      " 4   director      1361 non-null   object\n",
      " 5   writer        1111 non-null   object\n",
      " 6   theater_date  1201 non-null   object\n",
      " 7   dvd_date      1201 non-null   object\n",
      " 8   currency      340 non-null    object\n",
      " 9   box_office    340 non-null    object\n",
      " 10  runtime       1530 non-null   object\n",
      " 11  studio        494 non-null    object\n",
      "dtypes: int64(1), object(11)\n",
      "memory usage: 146.4+ KB\n"
     ]
    }
   ],
   "source": [
    "data4.info()"
   ]
  },
  {
   "cell_type": "code",
   "execution_count": 53,
   "metadata": {},
   "outputs": [
    {
     "data": {
      "text/html": [
       "<div>\n",
       "<style scoped>\n",
       "    .dataframe tbody tr th:only-of-type {\n",
       "        vertical-align: middle;\n",
       "    }\n",
       "\n",
       "    .dataframe tbody tr th {\n",
       "        vertical-align: top;\n",
       "    }\n",
       "\n",
       "    .dataframe thead th {\n",
       "        text-align: right;\n",
       "    }\n",
       "</style>\n",
       "<table border=\"1\" class=\"dataframe\">\n",
       "  <thead>\n",
       "    <tr style=\"text-align: right;\">\n",
       "      <th></th>\n",
       "      <th>id</th>\n",
       "      <th>synopsis</th>\n",
       "      <th>rating</th>\n",
       "      <th>genre</th>\n",
       "      <th>director</th>\n",
       "      <th>writer</th>\n",
       "      <th>theater_date</th>\n",
       "      <th>dvd_date</th>\n",
       "      <th>currency</th>\n",
       "      <th>box_office</th>\n",
       "      <th>runtime</th>\n",
       "      <th>studio</th>\n",
       "    </tr>\n",
       "  </thead>\n",
       "  <tbody>\n",
       "    <tr>\n",
       "      <th>0</th>\n",
       "      <td>1</td>\n",
       "      <td>This gritty, fast-paced, and innovative police...</td>\n",
       "      <td>R</td>\n",
       "      <td>Action and Adventure|Classics|Drama</td>\n",
       "      <td>William Friedkin</td>\n",
       "      <td>Ernest Tidyman</td>\n",
       "      <td>Oct 9, 1971</td>\n",
       "      <td>Sep 25, 2001</td>\n",
       "      <td>NaN</td>\n",
       "      <td>NaN</td>\n",
       "      <td>104 minutes</td>\n",
       "      <td>NaN</td>\n",
       "    </tr>\n",
       "    <tr>\n",
       "      <th>1</th>\n",
       "      <td>3</td>\n",
       "      <td>New York City, not-too-distant-future: Eric Pa...</td>\n",
       "      <td>R</td>\n",
       "      <td>Drama|Science Fiction and Fantasy</td>\n",
       "      <td>David Cronenberg</td>\n",
       "      <td>David Cronenberg|Don DeLillo</td>\n",
       "      <td>Aug 17, 2012</td>\n",
       "      <td>Jan 1, 2013</td>\n",
       "      <td>$</td>\n",
       "      <td>600,000</td>\n",
       "      <td>108 minutes</td>\n",
       "      <td>Entertainment One</td>\n",
       "    </tr>\n",
       "    <tr>\n",
       "      <th>2</th>\n",
       "      <td>5</td>\n",
       "      <td>Illeana Douglas delivers a superb performance ...</td>\n",
       "      <td>R</td>\n",
       "      <td>Drama|Musical and Performing Arts</td>\n",
       "      <td>Allison Anders</td>\n",
       "      <td>Allison Anders</td>\n",
       "      <td>Sep 13, 1996</td>\n",
       "      <td>Apr 18, 2000</td>\n",
       "      <td>NaN</td>\n",
       "      <td>NaN</td>\n",
       "      <td>116 minutes</td>\n",
       "      <td>NaN</td>\n",
       "    </tr>\n",
       "    <tr>\n",
       "      <th>3</th>\n",
       "      <td>6</td>\n",
       "      <td>Michael Douglas runs afoul of a treacherous su...</td>\n",
       "      <td>R</td>\n",
       "      <td>Drama|Mystery and Suspense</td>\n",
       "      <td>Barry Levinson</td>\n",
       "      <td>Paul Attanasio|Michael Crichton</td>\n",
       "      <td>Dec 9, 1994</td>\n",
       "      <td>Aug 27, 1997</td>\n",
       "      <td>NaN</td>\n",
       "      <td>NaN</td>\n",
       "      <td>128 minutes</td>\n",
       "      <td>NaN</td>\n",
       "    </tr>\n",
       "    <tr>\n",
       "      <th>4</th>\n",
       "      <td>7</td>\n",
       "      <td>NaN</td>\n",
       "      <td>NR</td>\n",
       "      <td>Drama|Romance</td>\n",
       "      <td>Rodney Bennett</td>\n",
       "      <td>Giles Cooper</td>\n",
       "      <td>NaN</td>\n",
       "      <td>NaN</td>\n",
       "      <td>NaN</td>\n",
       "      <td>NaN</td>\n",
       "      <td>200 minutes</td>\n",
       "      <td>NaN</td>\n",
       "    </tr>\n",
       "  </tbody>\n",
       "</table>\n",
       "</div>"
      ],
      "text/plain": [
       "   id                                           synopsis rating  \\\n",
       "0   1  This gritty, fast-paced, and innovative police...      R   \n",
       "1   3  New York City, not-too-distant-future: Eric Pa...      R   \n",
       "2   5  Illeana Douglas delivers a superb performance ...      R   \n",
       "3   6  Michael Douglas runs afoul of a treacherous su...      R   \n",
       "4   7                                                NaN     NR   \n",
       "\n",
       "                                 genre          director  \\\n",
       "0  Action and Adventure|Classics|Drama  William Friedkin   \n",
       "1    Drama|Science Fiction and Fantasy  David Cronenberg   \n",
       "2    Drama|Musical and Performing Arts    Allison Anders   \n",
       "3           Drama|Mystery and Suspense    Barry Levinson   \n",
       "4                        Drama|Romance    Rodney Bennett   \n",
       "\n",
       "                            writer  theater_date      dvd_date currency  \\\n",
       "0                   Ernest Tidyman   Oct 9, 1971  Sep 25, 2001      NaN   \n",
       "1     David Cronenberg|Don DeLillo  Aug 17, 2012   Jan 1, 2013        $   \n",
       "2                   Allison Anders  Sep 13, 1996  Apr 18, 2000      NaN   \n",
       "3  Paul Attanasio|Michael Crichton   Dec 9, 1994  Aug 27, 1997      NaN   \n",
       "4                     Giles Cooper           NaN           NaN      NaN   \n",
       "\n",
       "  box_office      runtime             studio  \n",
       "0        NaN  104 minutes                NaN  \n",
       "1    600,000  108 minutes  Entertainment One  \n",
       "2        NaN  116 minutes                NaN  \n",
       "3        NaN  128 minutes                NaN  \n",
       "4        NaN  200 minutes                NaN  "
      ]
     },
     "execution_count": 53,
     "metadata": {},
     "output_type": "execute_result"
    }
   ],
   "source": [
    "#Create a dataframe copy to be used for data cleaning\n",
    "dataf4 = data4.copy(deep=True)\n",
    "dataf4.head()"
   ]
  },
  {
   "cell_type": "code",
   "execution_count": 54,
   "metadata": {},
   "outputs": [
    {
     "name": "stdout",
     "output_type": "stream",
     "text": [
      "unique values in column'id' are : '\n",
      "':[   1    3    5 ... 1998 1999 2000] \n",
      "\n",
      "unique values in column'synopsis' are : '\n",
      "':['This gritty, fast-paced, and innovative police drama earned five Academy Awards, including Best Picture, Best Adapted Screenplay (written by Ernest Tidyman), and Best Actor (Gene Hackman). Jimmy \"Popeye\" Doyle (Hackman) and his partner, Buddy Russo (Roy Scheider), are New York City police detectives on narcotics detail, trying to track down the source of heroin from Europe into the United States. Suave Alain Charnier (Fernando Rey) is the French drug kingpin who provides a large percentage of New York City\\'s dope, and Pierre Nicoli (Marcel Bozzuffi) is a hired killer and Charnier\\'s right-hand man. Acting on a hunch, Popeye and Buddy start tailing Sal Boca (Tony Lo Bianco) and his wife, Angie (Arlene Faber), who live pretty high for a couple whose corner store brings in about 7,000 dollars a year. It turns out Popeye\\'s suspicions are right -- Sal and Angie are the New York agents for Charnier, who will be smuggling 32 million dollars\\' worth of heroin into the city in a car shipped over from France. The French Connection broke plenty of new ground for screen thrillers; Popeye Doyle was a highly unusual \"hero,\" an often violent, racist, and mean-spirited cop whose dedication to his job fell just short of dangerous obsession. The film\\'s high point, a high-speed car chase with Popeye tailing an elevated train, was one of the most viscerally exciting screen moments of its day and set the stage for dozens of action sequences to follow. And the film\\'s grimy realism (and downbeat ending) was a big change from the buff-and-shine gloss and good-guys-always-win heroics of most police dramas that preceded it. The French Connection was inspired by a true story, and Eddie Egan and Sonny Grosso, Popeye and Buddy\\'s real life counterparts, both have small roles in the film. A sequel followed four years later.'\n",
      " \"New York City, not-too-distant-future: Eric Packer, a 28 year-old finance golden boy dreaming of living in a civilization ahead of this one, watches a dark shadow cast over the firmament of the Wall Street galaxy, of which he is the uncontested king. As he is chauffeured across midtown Manhattan to get a haircut at his father's old barber, his anxious eyes are glued to the yuan's exchange rate: it is mounting against all expectations, destroying Eric's bet against it. Eric Packer is losing his empire with every tick of the clock. Meanwhile, an eruption of wild activity unfolds in the city's streets. Petrified as the threats of the real world infringe upon his cloud of virtual convictions, his paranoia intensifies during the course of his 24-hour cross-town odyssey. Packer starts to piece together clues that lead him to a most terrifying secret: his imminent assassination. -- (C) Official Site\"\n",
      " 'Illeana Douglas delivers a superb performance as Denise Waverly, a fictional singer and songwriter whose life bears more than a passing resemblance to that of real-life pop star Carole King. Edna Buxton, the daughter of a Philadelphia steel tycoon, aspires to a career as a singer, and when against her mother\\'s bidding she sings a sultry version of \"Hey There (You With the Stars in Your Eyes)\" (instead of Mom\\'s choice, \"You\\'ll Never Walk Alone\") at a talent contest, she wins a recording contact and moves to New York City. She cuts a record and gains a new stage name, Denise Waverly; however, she soon finds that girl singers are a dime a dozen in the Big Apple and her career as a vocalist goes nowhere. But she has a knack for writing songs, and eccentric producer Joel Milner (John Turturro) asks her to pen some songs for his upcoming projects. Teamed with Howard Caszatt (Eric Stoltz), a hipster songwriter who wants to express his political and social ideals through pop tunes, she finds both a successful collaborator and husband. While her work with Howard gains Denise writing credits on a string of hit records and respect within the industry, their marriage falls apart, and she becomes involved with Jay Phillips (Matt Dillon), the gifted but unstable leader of a popular West Coast surf music combo. Students of pop music history will have a ball with the various characters modeled after real-life rock legends, and the 1960s-style song score includes numbers written by Joni Mitchell and J. Mascis (of the band Dinosaur Jr.), as well as one-time King collaborator Gerry Goffin; a collaboration between Elvis Costello and Burt Bacharach, \"God Give Me Strength,\" led to a full album written by the two great tunesmiths.'\n",
      " ...\n",
      " 'Based on a novel by Richard Powell, when the lovable (and musical) hillbilly Toby Kwimper (Elvis Presley) and his family move to Florida, they must fight off a group of greedy lowlifes in order to defend the rights to their land. This musical comedy features the songs \"Follow That Dream,\" \"Sound Advice,\" and \"What a Wonderful Life.\"'\n",
      " \"The Sandlot is a coming-of-age story about a group of young boys growing up in California in 1962. A new, shy boy (Thomas Guiry) moves into the neighborhood, where he is initially rejected by the local boys because he doesn't know how to play baseball. Soon, he learns the sport and joins the group of boys who play ball in a local sandlot, and with his new friends, he has a variety of adventures.\"\n",
      " \"Suspended from the force, Paris cop Hubert is summoned to Tokyo when his former lover Miko dies. Upon arriving, Hubert discovers he is to be the legal guardian for Miko's teen daughter Yumi. As Hubert begins to investigate the circumstances surrounding Miko's mysterious death, he grows closer to Yumi.\"] \n",
      "\n",
      "unique values in column'rating' are : '\n",
      "':['R' 'NR' 'PG' 'PG-13' nan 'G' 'NC17'] \n",
      "\n",
      "unique values in column'genre' are : '\n",
      "':['Action and Adventure|Classics|Drama' 'Drama|Science Fiction and Fantasy'\n",
      " 'Drama|Musical and Performing Arts' 'Drama|Mystery and Suspense'\n",
      " 'Drama|Romance' 'Drama|Kids and Family' 'Comedy' 'Drama'\n",
      " 'Action and Adventure|Mystery and Suspense|Science Fiction and Fantasy'\n",
      " nan 'Documentary' 'Documentary|Special Interest' 'Classics|Comedy|Drama'\n",
      " 'Comedy|Drama|Mystery and Suspense' 'Action and Adventure|Comedy|Drama'\n",
      " 'Action and Adventure|Drama|Science Fiction and Fantasy'\n",
      " 'Art House and International|Comedy|Drama|Musical and Performing Arts'\n",
      " 'Musical and Performing Arts'\n",
      " 'Classics|Comedy|Musical and Performing Arts|Romance'\n",
      " 'Action and Adventure|Drama|Mystery and Suspense'\n",
      " 'Action and Adventure|Mystery and Suspense'\n",
      " 'Art House and International|Classics|Horror|Mystery and Suspense'\n",
      " 'Horror' 'Action and Adventure|Classics|Drama|Mystery and Suspense'\n",
      " 'Classics|Comedy|Musical and Performing Arts' 'Comedy|Kids and Family'\n",
      " 'Comedy|Musical and Performing Arts' 'Action and Adventure|Drama|Western'\n",
      " 'Action and Adventure|Comedy|Mystery and Suspense'\n",
      " 'Action and Adventure|Drama' 'Mystery and Suspense'\n",
      " 'Comedy|Drama|Romance' 'Comedy|Drama'\n",
      " 'Action and Adventure|Science Fiction and Fantasy' 'Comedy|Romance'\n",
      " 'Art House and International|Drama'\n",
      " 'Action and Adventure|Drama|Horror|Mystery and Suspense'\n",
      " 'Comedy|Kids and Family|Romance' 'Classics|Drama' 'Action and Adventure'\n",
      " 'Action and Adventure|Art House and International|Drama'\n",
      " 'Comedy|Mystery and Suspense|Science Fiction and Fantasy|Romance'\n",
      " 'Comedy|Drama|Kids and Family|Romance'\n",
      " 'Art House and International|Drama|Musical and Performing Arts'\n",
      " 'Drama|Musical and Performing Arts|Romance'\n",
      " 'Art House and International|Classics|Horror'\n",
      " 'Classics|Comedy|Drama|Romance'\n",
      " 'Art House and International|Drama|Mystery and Suspense|Television'\n",
      " 'Drama|Sports and Fitness' 'Comedy|Drama|Television'\n",
      " 'Animation|Kids and Family|Special Interest'\n",
      " 'Comedy|Drama|Kids and Family'\n",
      " 'Classics|Comedy|Drama|Kids and Family|Science Fiction and Fantasy'\n",
      " 'Animation|Comedy|Kids and Family|Science Fiction and Fantasy'\n",
      " 'Art House and International|Comedy|Drama'\n",
      " 'Comedy|Science Fiction and Fantasy' 'Classics|Comedy|Special Interest'\n",
      " 'Action and Adventure|Art House and International|Comedy'\n",
      " 'Drama|Horror|Mystery and Suspense' 'Art House and International'\n",
      " 'Action and Adventure|Comedy'\n",
      " 'Action and Adventure|Animation|Drama|Science Fiction and Fantasy|Special Interest'\n",
      " 'Action and Adventure|Animation|Art House and International|Drama|Science Fiction and Fantasy'\n",
      " 'Horror|Mystery and Suspense' 'Classics|Comedy|Romance'\n",
      " 'Action and Adventure|Art House and International|Drama|Mystery and Suspense'\n",
      " 'Classics|Drama|Mystery and Suspense|Science Fiction and Fantasy|Romance'\n",
      " 'Classics|Western|Romance'\n",
      " 'Art House and International|Drama|Mystery and Suspense'\n",
      " 'Comedy|Kids and Family|Science Fiction and Fantasy' 'Drama|Television'\n",
      " 'Classics|Drama|Faith and Spirituality' 'Classics|Comedy'\n",
      " 'Art House and International|Horror'\n",
      " 'Action and Adventure|Comedy|Kids and Family'\n",
      " 'Classics|Drama|Musical and Performing Arts'\n",
      " 'Action and Adventure|Comedy|Drama|Musical and Performing Arts|Romance'\n",
      " 'Action and Adventure|Kids and Family|Science Fiction and Fantasy'\n",
      " 'Drama|Horror|Mystery and Suspense|Television'\n",
      " 'Art House and International|Comedy|Drama|Romance'\n",
      " 'Classics|Comedy|Drama|Kids and Family'\n",
      " 'Classics|Comedy|Drama|Musical and Performing Arts'\n",
      " 'Art House and International|Classics|Horror|Science Fiction and Fantasy'\n",
      " 'Horror|Science Fiction and Fantasy'\n",
      " 'Drama|Horror|Mystery and Suspense|Romance'\n",
      " 'Action and Adventure|Art House and International|Classics|Drama'\n",
      " 'Action and Adventure|Classics|Comedy|Musical and Performing Arts|Romance'\n",
      " 'Documentary|Musical and Performing Arts' 'Action and Adventure|Horror'\n",
      " 'Comedy|Drama|Musical and Performing Arts' 'Comedy|Horror'\n",
      " 'Classics|Western'\n",
      " 'Action and Adventure|Drama|Science Fiction and Fantasy|Television'\n",
      " 'Art House and International|Drama|Romance'\n",
      " 'Art House and International|Drama|Horror|Mystery and Suspense|Science Fiction and Fantasy'\n",
      " 'Classics|Drama|Mystery and Suspense|Science Fiction and Fantasy'\n",
      " 'Special Interest|Sports and Fitness'\n",
      " 'Horror|Mystery and Suspense|Science Fiction and Fantasy'\n",
      " 'Comedy|Horror|Musical and Performing Arts'\n",
      " 'Action and Adventure|Drama|Kids and Family'\n",
      " 'Drama|Science Fiction and Fantasy|Romance' 'Comedy|Western'\n",
      " 'Action and Adventure|Documentary|Science Fiction and Fantasy|Special Interest|Western'\n",
      " 'Art House and International|Mystery and Suspense'\n",
      " 'Action and Adventure|Art House and International|Drama|Faith and Spirituality'\n",
      " 'Classics|Horror' 'Action and Adventure|Classics|Comedy|Drama'\n",
      " 'Classics|Horror|Mystery and Suspense|Science Fiction and Fantasy'\n",
      " 'Classics|Documentary|Drama|Romance' 'Action and Adventure|Western'\n",
      " 'Art House and International|Comedy|Drama|Mystery and Suspense'\n",
      " 'Musical and Performing Arts|Special Interest'\n",
      " 'Action and Adventure|Art House and International'\n",
      " 'Art House and International|Drama|Special Interest'\n",
      " 'Kids and Family|Science Fiction and Fantasy'\n",
      " 'Classics|Horror|Science Fiction and Fantasy'\n",
      " 'Action and Adventure|Animation|Comedy|Kids and Family'\n",
      " 'Drama|Special Interest'\n",
      " 'Action and Adventure|Comedy|Drama|Mystery and Suspense'\n",
      " 'Comedy|Kids and Family|Television'\n",
      " 'Action and Adventure|Classics|Horror'\n",
      " 'Action and Adventure|Classics|Western|Romance'\n",
      " 'Action and Adventure|Art House and International|Drama|Kids and Family|Science Fiction and Fantasy'\n",
      " 'Classics|Drama|Mystery and Suspense'\n",
      " 'Action and Adventure|Art House and International|Science Fiction and Fantasy'\n",
      " 'Art House and International|Comedy'\n",
      " 'Mystery and Suspense|Science Fiction and Fantasy'\n",
      " 'Classics|Drama|Musical and Performing Arts|Mystery and Suspense'\n",
      " 'Action and Adventure|Classics|Drama|Western'\n",
      " 'Action and Adventure|Horror|Science Fiction and Fantasy'\n",
      " 'Comedy|Drama|Science Fiction and Fantasy|Romance'\n",
      " 'Action and Adventure|Animation|Science Fiction and Fantasy'\n",
      " 'Mystery and Suspense|Romance'\n",
      " 'Documentary|Musical and Performing Arts|Special Interest'\n",
      " 'Action and Adventure|Western|Romance'\n",
      " 'Art House and International|Documentary|Drama|Special Interest'\n",
      " 'Art House and International|Cult Movies|Drama'\n",
      " 'Action and Adventure|Animation|Comedy|Science Fiction and Fantasy'\n",
      " 'Animation|Comedy|Kids and Family'\n",
      " 'Animation|Drama|Kids and Family|Science Fiction and Fantasy'\n",
      " 'Art House and International|Classics|Drama|Horror|Science Fiction and Fantasy'\n",
      " 'Classics|Drama|Romance'\n",
      " 'Art House and International|Classics|Drama|Romance'\n",
      " 'Documentary|Special Interest|Sports and Fitness'\n",
      " 'Classics|Comedy|Drama|Kids and Family|Musical and Performing Arts'\n",
      " 'Action and Adventure|Documentary|Television'\n",
      " 'Action and Adventure|Drama|Mystery and Suspense|Television|Western'\n",
      " 'Action and Adventure|Drama|Mystery and Suspense|Romance'\n",
      " 'Classics|Comedy|Drama|Television'\n",
      " 'Action and Adventure|Art House and International|Comedy|Drama'\n",
      " 'Action and Adventure|Drama|Horror|Western'\n",
      " 'Action and Adventure|Art House and International|Drama|Kids and Family|Mystery and Suspense'\n",
      " 'Action and Adventure|Animation|Comedy'\n",
      " 'Art House and International|Documentary|Special Interest'\n",
      " 'Comedy|Drama|Science Fiction and Fantasy'\n",
      " 'Animation|Anime and Manga|Art House and International|Horror|Science Fiction and Fantasy'\n",
      " 'Art House and International|Comedy|Romance'\n",
      " 'Action and Adventure|Comedy|Science Fiction and Fantasy'\n",
      " 'Drama|Mystery and Suspense|Romance' 'Comedy|Special Interest'\n",
      " 'Drama|Mystery and Suspense|Science Fiction and Fantasy'\n",
      " 'Action and Adventure|Mystery and Suspense|Romance'\n",
      " 'Classics|Musical and Performing Arts' 'Classics|Drama|Western'\n",
      " 'Animation|Documentary|Drama' 'Special Interest'\n",
      " 'Action and Adventure|Classics|Western' 'Kids and Family'\n",
      " 'Animation|Kids and Family' 'Drama|Horror' 'Comedy|Mystery and Suspense'\n",
      " 'Documentary|Drama|Special Interest' 'Animation|Special Interest'\n",
      " 'Action and Adventure|Kids and Family|Science Fiction and Fantasy|Western'\n",
      " 'Art House and International|Classics|Comedy|Drama|Musical and Performing Arts|Science Fiction and Fantasy|Romance'\n",
      " 'Action and Adventure|Classics'\n",
      " 'Action and Adventure|Art House and International|Comedy|Mystery and Suspense|Science Fiction and Fantasy'\n",
      " 'Art House and International|Drama|Sports and Fitness' 'Western'\n",
      " 'Comedy|Documentary|Musical and Performing Arts|Special Interest'\n",
      " 'Art House and International|Horror|Mystery and Suspense'\n",
      " 'Comedy|Cult Movies|Mystery and Suspense|Science Fiction and Fantasy'\n",
      " 'Action and Adventure|Classics|Drama|Romance'\n",
      " 'Action and Adventure|Art House and International|Mystery and Suspense|Special Interest'\n",
      " 'Horror|Musical and Performing Arts|Science Fiction and Fantasy'\n",
      " 'Art House and International|Classics|Comedy|Drama'\n",
      " 'Action and Adventure|Animation|Comedy|Kids and Family|Science Fiction and Fantasy'\n",
      " 'Comedy|Drama|Sports and Fitness'\n",
      " 'Action and Adventure|Drama|Special Interest'\n",
      " 'Action and Adventure|Animation|Kids and Family|Science Fiction and Fantasy'\n",
      " 'Classics|Drama|Mystery and Suspense|Romance'\n",
      " 'Action and Adventure|Comedy|Kids and Family|Science Fiction and Fantasy'\n",
      " 'Comedy|Musical and Performing Arts|Science Fiction and Fantasy'\n",
      " 'Art House and International|Comedy|Drama|Romance|Gay and Lesbian'\n",
      " 'Science Fiction and Fantasy' 'Action and Adventure|Documentary'\n",
      " 'Action and Adventure|Art House and International|Comedy|Cult Movies|Drama'\n",
      " 'Action and Adventure|Drama|Romance'\n",
      " 'Classics|Horror|Musical and Performing Arts|Science Fiction and Fantasy'\n",
      " 'Classics|Drama|Musical and Performing Arts|Romance' 'Documentary|Drama'\n",
      " 'Comedy|Documentary|Science Fiction and Fantasy|Special Interest'\n",
      " 'Comedy|Cult Movies|Drama' 'Classics|Drama|Kids and Family|Romance'\n",
      " 'Art House and International|Comedy|Kids and Family|Musical and Performing Arts|Romance'\n",
      " 'Classics|Mystery and Suspense'\n",
      " 'Art House and International|Classics|Drama'\n",
      " 'Action and Adventure|Art House and International|Comedy|Drama|Mystery and Suspense'\n",
      " 'Horror|Kids and Family|Mystery and Suspense|Science Fiction and Fantasy'\n",
      " 'Action and Adventure|Horror|Mystery and Suspense'\n",
      " 'Classics|Musical and Performing Arts|Romance'\n",
      " 'Drama|Faith and Spirituality' 'Art House and International|Drama|Horror'\n",
      " 'Action and Adventure|Drama|Mystery and Suspense|Science Fiction and Fantasy|Faith and Spirituality'\n",
      " 'Action and Adventure|Art House and International|Drama|Mystery and Suspense|Romance'\n",
      " 'Classics|Comedy|Mystery and Suspense'\n",
      " 'Action and Adventure|Kids and Family'\n",
      " 'Action and Adventure|Art House and International|Classics|Drama|Romance'\n",
      " 'Comedy|Musical and Performing Arts|Television'\n",
      " 'Art House and International|Documentary' 'Comedy|Documentary'\n",
      " 'Action and Adventure|Animation|Comedy|Drama|Kids and Family|Musical and Performing Arts'\n",
      " 'Action and Adventure|Animation|Classics|Comedy|Kids and Family|Musical and Performing Arts'\n",
      " 'Animation|Kids and Family|Science Fiction and Fantasy'\n",
      " 'Art House and International|Comedy|Mystery and Suspense'\n",
      " 'Drama|Science Fiction and Fantasy|Western'\n",
      " 'Mystery and Suspense|Science Fiction and Fantasy|Western'\n",
      " 'Comedy|Drama|Special Interest'\n",
      " 'Art House and International|Comedy|Drama|Science Fiction and Fantasy|Special Interest'\n",
      " 'Action and Adventure|Comedy|Western'\n",
      " 'Animation|Art House and International|Comedy|Special Interest'\n",
      " 'Documentary|Sports and Fitness'\n",
      " 'Documentary|Special Interest|Television'\n",
      " 'Action and Adventure|Drama|Horror|Science Fiction and Fantasy'\n",
      " 'Art House and International|Documentary|Drama|Musical and Performing Arts|Special Interest'\n",
      " 'Action and Adventure|Art House and International|Mystery and Suspense'\n",
      " 'Action and Adventure|Comedy|Kids and Family|Mystery and Suspense'\n",
      " 'Art House and International|Comedy|Drama|Science Fiction and Fantasy'\n",
      " 'Art House and International|Documentary|Drama'\n",
      " 'Action and Adventure|Comedy|Drama|Kids and Family'\n",
      " 'Action and Adventure|Classics|Drama|Horror|Mystery and Suspense|Science Fiction and Fantasy'\n",
      " 'Art House and International|Comedy|Horror'\n",
      " 'Art House and International|Comedy|Drama|Gay and Lesbian'\n",
      " 'Drama|Kids and Family|Faith and Spirituality'\n",
      " 'Action and Adventure|Comedy|Musical and Performing Arts|Science Fiction and Fantasy|Western'\n",
      " 'Action and Adventure|Classics|Comedy|Musical and Performing Arts'\n",
      " 'Art House and International|Classics|Comedy|Drama|Romance'\n",
      " 'Action and Adventure|Animation|Comedy|Drama|Kids and Family'\n",
      " 'Classics|Comedy|Kids and Family|Romance'\n",
      " 'Action and Adventure|Comedy|Kids and Family|Mystery and Suspense|Science Fiction and Fantasy'\n",
      " 'Action and Adventure|Horror|Kids and Family|Science Fiction and Fantasy'\n",
      " 'Classics|Horror|Mystery and Suspense'\n",
      " 'Comedy|Horror|Mystery and Suspense'\n",
      " 'Classics|Drama|Science Fiction and Fantasy'\n",
      " 'Action and Adventure|Classics|Drama|Mystery and Suspense|Romance'\n",
      " 'Art House and International|Drama|Mystery and Suspense|Romance'\n",
      " 'Documentary|Special Interest|Faith and Spirituality'\n",
      " 'Animation|Science Fiction and Fantasy'\n",
      " 'Action and Adventure|Drama|Mystery and Suspense|Science Fiction and Fantasy'\n",
      " 'Comedy|Television'\n",
      " 'Action and Adventure|Classics|Science Fiction and Fantasy'\n",
      " 'Kids and Family|Musical and Performing Arts'\n",
      " 'Classics|Comedy|Musical and Performing Arts|Western'\n",
      " 'Art House and International|Drama|Horror|Mystery and Suspense'\n",
      " 'Action and Adventure|Comedy|Horror|Romance'\n",
      " 'Action and Adventure|Animation|Kids and Family'\n",
      " 'Drama|Musical and Performing Arts|Faith and Spirituality'\n",
      " 'Animation|Art House and International|Kids and Family'\n",
      " 'Drama|Mystery and Suspense|Television'\n",
      " 'Action and Adventure|Anime and Manga|Art House and International|Science Fiction and Fantasy'\n",
      " 'Art House and International|Documentary|Faith and Spirituality'\n",
      " 'Classics|Science Fiction and Fantasy'\n",
      " 'Art House and International|Comedy|Horror|Mystery and Suspense'\n",
      " 'Drama|Special Interest|Sports and Fitness'\n",
      " 'Comedy|Mystery and Suspense|Romance'\n",
      " 'Comedy|Horror|Science Fiction and Fantasy' 'Classics|Comedy|Western'\n",
      " 'Action and Adventure|Comedy|Kids and Family|Science Fiction and Fantasy|Romance'\n",
      " 'Comedy|Drama|Horror|Mystery and Suspense'\n",
      " 'Horror|Science Fiction and Fantasy|Television|Romance'\n",
      " 'Action and Adventure|Drama|Mystery and Suspense|Special Interest'\n",
      " 'Comedy|Drama|Musical and Performing Arts|Romance'\n",
      " 'Drama|Horror|Science Fiction and Fantasy'\n",
      " 'Art House and International|Drama|Science Fiction and Fantasy'\n",
      " 'Action and Adventure|Art House and International|Classics|Drama|Mystery and Suspense'\n",
      " 'Comedy|Science Fiction and Fantasy|Romance'\n",
      " 'Classics|Musical and Performing Arts|Western'\n",
      " 'Action and Adventure|Art House and International|Drama|Mystery and Suspense|Science Fiction and Fantasy|Special Interest'\n",
      " 'Art House and International|Comedy|Documentary|Television'\n",
      " 'Art House and International|Horror|Science Fiction and Fantasy'\n",
      " 'Drama|Musical and Performing Arts|Special Interest'\n",
      " 'Art House and International|Drama|Faith and Spirituality'\n",
      " 'Animation|Comedy' 'Science Fiction and Fantasy|Romance'\n",
      " 'Action and Adventure|Classics|Documentary'\n",
      " 'Action and Adventure|Art House and International|Drama|Horror|Mystery and Suspense'\n",
      " 'Comedy|Drama|Faith and Spirituality' 'Comedy|Documentary|Television'\n",
      " 'Action and Adventure|Drama|Mystery and Suspense|Science Fiction and Fantasy|Special Interest'\n",
      " 'Comedy|Drama|Kids and Family|Sports and Fitness'] \n",
      "\n",
      "unique values in column'director' are : '\n",
      "':['William Friedkin' 'David Cronenberg' 'Allison Anders' ... 'Joel Coen'\n",
      " 'Steve Barron' 'David Mickey Evans'] \n",
      "\n",
      "unique values in column'writer' are : '\n",
      "':['Ernest Tidyman' 'David Cronenberg|Don DeLillo' 'Allison Anders' ...\n",
      " 'Terry Turner|Tom Davis|Dan Aykroyd|Bonnie Turner'\n",
      " 'David Mickey Evans|Robert Gunter' 'Luc Besson'] \n",
      "\n",
      "unique values in column'theater_date' are : '\n",
      "':['Oct 9, 1971' 'Aug 17, 2012' 'Sep 13, 1996' ... 'Aug 18, 2006'\n",
      " 'Apr 1, 1993' 'Sep 27, 2001'] \n",
      "\n",
      "unique values in column'dvd_date' are : '\n",
      "':['Sep 25, 2001' 'Jan 1, 2013' 'Apr 18, 2000' 'Aug 27, 1997' nan\n",
      " 'Jul 11, 2000' 'Jun 18, 2002' 'Oct 2, 2007' 'Nov 9, 2010' 'Jul 27, 1999'\n",
      " 'Sep 30, 2003' 'May 20, 2008' 'Sep 20, 1999' 'Apr 5, 2011' 'Mar 18, 2014'\n",
      " 'Mar 8, 2005' 'Apr 1, 2014' 'Sep 21, 2004' 'Jan 7, 2003' 'May 10, 2011'\n",
      " 'Aug 22, 2000' 'Nov 7, 2000' 'Jan 18, 2000' 'Aug 7, 2001' 'Oct 30, 2007'\n",
      " 'Apr 13, 2004' 'Oct 7, 2003' 'Jan 25, 2005' 'Nov 2, 1999' 'Aug 5, 2003'\n",
      " 'Feb 3, 1998' 'Mar 25, 2014' 'May 19, 1998' 'Apr 30, 2013' 'Nov 6, 2001'\n",
      " 'Nov 27, 2001' 'Jul 25, 2006' 'Feb 24, 1998' 'Dec 22, 1998'\n",
      " 'Mar 18, 2008' 'Jul 9, 2013' 'Apr 29, 2014' 'Jul 18, 2006' 'Oct 21, 2003'\n",
      " 'Nov 23, 2004' 'May 22, 2001' 'May 31, 2011' 'Nov 15, 2011'\n",
      " 'Mar 16, 1999' 'Oct 24, 2000' 'Mar 19, 2002' 'May 3, 2011' 'Sep 5, 2005'\n",
      " 'Jul 16, 2002' 'Feb 14, 2017' 'Apr 29, 2003' 'Apr 21, 1993'\n",
      " 'Apr 22, 2008' 'Aug 10, 2010' 'Sep 19, 1995' 'Mar 5, 2002' 'Oct 17, 2000'\n",
      " 'Oct 24, 2006' 'May 2, 2000' 'Feb 16, 1999' 'Jun 1, 1999' 'Jun 5, 2007'\n",
      " 'Nov 19, 2002' 'Aug 14, 2001' 'Sep 14, 2010' 'Dec 30, 2008' 'Dec 4, 2018'\n",
      " 'Jun 24, 2003' 'Sep 27, 2005' 'Dec 16, 2003' 'Jan 4, 2011' 'Sep 7, 1999'\n",
      " 'Mar 30, 1999' 'Mar 11, 2003' 'Oct 8, 2002' 'Sep 11, 1991' 'Jun 1, 2004'\n",
      " 'Nov 17, 1998' 'May 23, 2000' 'Aug 24, 2010' 'May 18, 1999' 'Aug 3, 2010'\n",
      " 'Jan 15, 2002' 'Mar 1, 1991' 'May 18, 2010' 'Feb 17, 2004' 'Aug 30, 2005'\n",
      " 'Jul 24, 2001' 'Nov 10, 1998' 'Apr 26, 2011' 'Dec 3, 2002' 'Apr 28, 2009'\n",
      " 'Nov 1, 2005' 'Dec 19, 1991' 'Oct 30, 2012' 'Feb 4, 2003' 'Jan 12, 2015'\n",
      " 'Mar 4, 2003' 'Nov 23, 1999' 'Jul 26, 2005' 'Nov 20, 2001' 'Mar 7, 2017'\n",
      " 'Feb 6, 2007' 'Feb 5, 2002' 'Nov 14, 2006' 'Oct 22, 1997' 'Oct 12, 1994'\n",
      " 'Jan 24, 2017' 'Mar 20, 2001' 'Jul 28, 2009' 'Feb 15, 2005'\n",
      " 'May 20, 2003' 'Dec 13, 2011' 'Apr 26, 2005' 'May 31, 2005' 'Dec 7, 2004'\n",
      " 'Mar 23, 1999' 'Mar 16, 2010' 'Mar 28, 2000' 'Apr 28, 1998'\n",
      " 'Jan 23, 2007' 'Nov 21, 2000' 'Jun 18, 2006' 'Feb 8, 2011' 'Feb 24, 2009'\n",
      " 'Feb 12, 2008' 'Jun 13, 2000' 'Dec 8, 1998' 'Feb 22, 2000' 'Oct 10, 2006'\n",
      " 'Oct 29, 2013' 'Mar 15, 2016' 'Aug 28, 2001' 'Aug 21, 2001' 'Apr 7, 2009'\n",
      " 'Aug 12, 2003' 'Sep 2, 2003' 'Jan 15, 2008' 'Feb 8, 2000' 'Oct 31, 2006'\n",
      " 'Mar 12, 2002' 'Apr 26, 2016' 'Mar 28, 2006' 'Feb 3, 2009' 'Sep 24, 2002'\n",
      " 'Oct 7, 2014' 'Jul 27, 2010' 'Jul 1, 2016' 'Jun 17, 2008' 'May 8, 2012'\n",
      " 'Dec 14, 1994' 'Jan 1, 1998' 'Dec 5, 2006' 'Jul 7, 1998' 'Oct 25, 2005'\n",
      " 'Apr 22, 2003' 'Aug 1, 2000' 'Feb 20, 2007' 'Nov 23, 2010' 'Jun 22, 2004'\n",
      " 'Jun 20, 2000' 'Jul 17, 2012' 'Jul 26, 2004' 'Dec 2, 2003' 'Jul 10, 1992'\n",
      " 'Apr 1, 2008' 'Dec 17, 2013' 'Apr 24, 2007' 'Jun 4, 2013' 'Feb 9, 2016'\n",
      " 'Jun 4, 2002' 'Jun 7, 2011' 'Oct 31, 2000' 'Jan 26, 2010' 'Apr 20, 2004'\n",
      " 'Aug 13, 2002' 'Jul 10, 2012' 'Mar 15, 2011' 'Jul 22, 2014'\n",
      " 'Nov 14, 2001' 'Jan 11, 2005' 'Jul 13, 2010' 'Aug 21, 2003'\n",
      " 'Aug 12, 2014' 'Jul 4, 2006' 'Mar 9, 2010' 'Mar 18, 2003' 'May 26, 1998'\n",
      " 'Jul 10, 2001' 'Mar 1, 2016' 'Oct 30, 2003' 'Nov 18, 2003' 'Apr 10, 2001'\n",
      " 'Aug 28, 2007' 'Jun 27, 2000' 'Dec 15, 2009' 'Jul 8, 2003' 'Jun 21, 2005'\n",
      " 'Jan 20, 2004' 'Apr 17, 2007' 'May 25, 2010' 'Apr 6, 2004' 'Sep 23, 2014'\n",
      " 'Jun 12, 2018' 'Jun 5, 2001' 'Feb 11, 2003' 'Jan 20, 1998' 'Mar 9, 2004'\n",
      " 'Apr 24, 2001' 'Apr 2, 2013' 'Mar 10, 2009' 'Feb 29, 2000' 'May 1, 1991'\n",
      " 'Jul 1, 2008' 'Oct 30, 2018' 'Jul 22, 2008' 'Apr 7, 2014' 'Mar 31, 1998'\n",
      " 'May 24, 2005' 'Apr 15, 2003' 'Jan 21, 2003' 'Dec 6, 2005' 'Jun 26, 2012'\n",
      " 'Oct 19, 1999' 'Jan 8, 2002' 'Oct 17, 2006' 'Aug 8, 2000' 'Mar 29, 2005'\n",
      " 'Feb 13, 2012' 'May 28, 2013' 'Sep 16, 2003' 'Aug 7, 2007' 'Nov 3, 2009'\n",
      " 'Aug 22, 2006' 'Sep 25, 2007' 'Dec 20, 2011' 'Nov 30, 2004'\n",
      " 'Sep 18, 2001' 'Feb 19, 2002' 'Oct 19, 2010' 'Oct 12, 2004' 'Jun 9, 1998'\n",
      " 'Jul 20, 2004' 'Sep 12, 2006' 'Jan 23, 2001' 'Aug 9, 2011' 'Jan 17, 2017'\n",
      " 'Sep 11, 2012' 'Mar 11, 2008' 'Jul 6, 2004' 'May 23, 2006' 'Mar 7, 2006'\n",
      " 'May 16, 2000' 'Nov 11, 2003' 'Jul 6, 2010' 'Apr 27, 2004' 'Dec 21, 2004'\n",
      " 'Sep 24, 2013' 'Aug 16, 2005' 'Jun 15, 1998' 'May 5, 2015' 'Nov 4, 2014'\n",
      " 'Feb 13, 2001' 'Feb 12, 2002' 'Jun 30, 1998' 'Jun 9, 2009' 'Oct 10, 2000'\n",
      " 'Apr 16, 2002' 'Apr 13, 1999' 'Aug 23, 2005' 'Jul 15, 2003'\n",
      " 'Jan 23, 1996' 'Feb 2, 1999' 'Oct 12, 2010' 'Dec 21, 1999' 'Sep 3, 2002'\n",
      " 'Mar 27, 2018' 'Dec 29, 1998' 'Mar 24, 2009' 'Mar 20, 2018' 'Jan 1, 2002'\n",
      " 'May 27, 2003' 'Dec 13, 2005' 'Jul 10, 2018' 'May 3, 2005' 'Feb 28, 2006'\n",
      " 'Dec 11, 2018' 'Nov 11, 2014' 'Jun 10, 2008' 'Jun 29, 1999' 'Mar 6, 2001'\n",
      " 'Aug 1, 2017' 'Jul 7, 2009' 'May 1, 2001' 'May 8, 2001' 'May 4, 2004'\n",
      " 'Nov 9, 1999' 'Apr 15, 1987' 'May 1, 2007' 'Mar 22, 2011' 'Jun 8, 2004'\n",
      " 'Oct 6, 1998' 'Sep 11, 2001' 'Sep 29, 1998' 'Oct 9, 2001' 'Jun 18, 2012'\n",
      " 'Aug 26, 2008' 'Jan 1, 1991' 'Dec 11, 2001' 'Dec 7, 1999' 'Oct 27, 2009'\n",
      " 'Nov 14, 2017' 'May 6, 2014' 'Aug 3, 1994' 'Mar 13, 2001' 'Aug 20, 2002'\n",
      " 'Nov 16, 2004' 'Sep 1, 1998' 'Aug 18, 1998' 'May 15, 2001' 'Jan 14, 2003'\n",
      " 'Jun 7, 2005' 'Aug 16, 2016' 'Jan 27, 2004' 'Dec 21, 2012' 'Apr 24, 2012'\n",
      " 'Dec 26, 2001' 'Oct 23, 2001' 'Jan 18, 2011' 'May 13, 2014' 'Sep 4, 2001'\n",
      " 'Apr 28, 2015' 'Aug 11, 1998' 'Apr 2, 2002' 'Mar 25, 2008' 'Oct 1, 2002'\n",
      " 'Apr 25, 2006' 'Dec 18, 2001' 'Jul 5, 2005' 'Jun 8, 1999' 'Aug 4, 2017'\n",
      " 'Dec 15, 2015' 'Sep 9, 2003' 'Oct 12, 1999' 'Dec 31, 2001' 'Dec 8, 2009'\n",
      " 'Oct 4, 2005' 'Oct 13, 1998' 'Aug 29, 1995' 'Mar 9, 1999' 'Jan 29, 2013'\n",
      " 'Feb 9, 2015' 'Mar 27, 2007' 'Jun 19, 2001' 'May 2, 2006' 'Jun 15, 2000'\n",
      " 'May 8, 2007' 'Oct 11, 2016' 'Oct 28, 1997' 'Sep 20, 2016' 'Jan 24, 2006'\n",
      " 'Aug 9, 2005' 'Aug 6, 2002' 'Aug 21, 2018' 'Sep 12, 2011' 'Jun 3, 2008'\n",
      " 'Feb 1, 2000' 'Jul 5, 2000' 'Jan 30, 2001' 'Nov 11, 2008' 'Feb 27, 2018'\n",
      " 'May 13, 2008' 'Jan 30, 1991' 'Feb 19, 2014' 'Jun 14, 2016'\n",
      " 'Apr 11, 2000' 'Jun 13, 1991' 'Feb 19, 1992' 'Nov 9, 2004' 'Feb 2, 2016'\n",
      " 'Feb 1, 1998' 'Feb 19, 2013' 'Oct 15, 2002' 'Jun 2, 2009' 'Jan 11, 2011'\n",
      " 'Sep 3, 1997' 'Feb 7, 2006' 'Jun 3, 2003' 'Jun 15, 2004' 'May 19, 2009'\n",
      " 'Jun 11, 2002' 'Jul 7, 2015' 'May 10, 2005' 'Nov 22, 2005' 'Apr 6, 2010'\n",
      " 'Oct 13, 2009' 'Jul 30, 2002' 'May 29, 2007' 'Dec 16, 1997'\n",
      " 'Jan 28, 2003' 'Feb 24, 2004' 'Nov 26, 1996' 'Nov 21, 2006'\n",
      " 'Jun 29, 2004' 'Mar 2, 2004' 'Nov 16, 2010' 'Nov 17, 2015' 'Jul 31, 2018'\n",
      " 'Apr 10, 2007' 'Mar 15, 2005' 'Aug 15, 2006' 'Apr 29, 1992'\n",
      " 'Apr 14, 2015' 'Jul 31, 2007' 'Jul 19, 1994' 'Apr 3, 2001' 'Dec 14, 1999'\n",
      " 'Dec 23, 2003' 'Apr 4, 2000' 'Feb 3, 2004' 'Feb 18, 2003' 'Mar 24, 1998'\n",
      " 'May 18, 2004' 'Sep 6, 2011' 'Jul 12, 2005' 'Apr 27, 2010' 'Feb 9, 1994'\n",
      " 'Sep 14, 2004' 'Dec 1, 2014' 'May 17, 2011' 'Apr 19, 1999' 'Sep 10, 2002'\n",
      " 'Jan 25, 2000' 'Feb 10, 2004' 'Oct 22, 2012' 'Feb 22, 2005'\n",
      " 'Nov 13, 2001' 'May 21, 2002' 'Jul 31, 2012' 'Aug 25, 1998'\n",
      " 'Apr 25, 2000' 'Mar 23, 2004' 'Jun 18, 2013' 'Jun 6, 2000' 'Apr 15, 2014'\n",
      " 'Jan 2, 2002' 'Feb 5, 2008' 'Dec 27, 2011' 'May 15, 2012' 'Oct 14, 2008'\n",
      " 'May 5, 2009' 'Aug 28, 2000' 'May 25, 2004' 'Jan 15, 1999' 'Oct 2, 2001'\n",
      " 'Apr 20, 2015' 'Nov 5, 2013' 'Jul 1, 2003' 'Jun 14, 2005' 'Jul 17, 2007'\n",
      " 'Dec 14, 2010' 'Nov 27, 2018' 'Nov 15, 2005' 'Apr 9, 2002' 'Jun 26, 1996'\n",
      " 'Mar 13, 2018' 'Aug 31, 2004' 'Jul 26, 2016' 'Dec 1, 2010' 'Oct 11, 2005'\n",
      " 'Oct 9, 2010' 'Jul 11, 2006' 'Sep 9, 2014' 'Nov 26, 2002' 'Feb 6, 2001'\n",
      " 'Nov 2, 2004' 'Sep 2, 2008' 'Jul 9, 2003' 'Jul 18, 2000' 'Apr 19, 2005'\n",
      " 'Sep 15, 1998' 'May 22, 2018' 'Dec 28, 2004' 'May 28, 1992'\n",
      " 'Oct 14, 2003' 'Sep 20, 2005' 'Nov 22, 2016' 'Oct 17, 2017' 'Dec 5, 2000'\n",
      " 'Dec 22, 2009' 'Dec 10, 2013' 'Sep 5, 2006' 'Feb 24, 2015' 'Feb 5, 1992'\n",
      " 'Mar 19, 2013' 'Sep 23, 2013' 'Mar 25, 2003' 'Apr 5, 2005' 'Jan 30, 2007'\n",
      " 'Aug 8, 2006' 'Oct 27, 1998' 'Sep 8, 2009' 'Jan 9, 2007' 'Jun 28, 2016'\n",
      " 'Apr 24, 2018' 'Jun 15, 1999' 'Aug 20, 2013' 'Jun 16, 2015'\n",
      " 'Sep 18, 2007' 'Feb 11, 2014' 'Dec 2, 1997' 'Aug 3, 2004' 'Sep 22, 2015'\n",
      " 'Mar 22, 2005' 'Feb 23, 1999' 'Mar 27, 2001' 'Aug 29, 2006'\n",
      " 'Dec 20, 2005' 'Mar 3, 2009' 'Oct 28, 2008' 'May 24, 2016' 'Mar 21, 2000'\n",
      " 'Dec 6, 2016' 'Jul 3, 2001' 'Oct 25, 2016' 'Dec 19, 2000' 'Feb 7, 2017'\n",
      " 'Jan 3, 2012' 'Jul 4, 2000' 'Nov 17, 2009' 'Sep 7, 2010' 'Dec 18, 2018'\n",
      " 'Aug 28, 2012' 'Feb 10, 1998' 'Nov 10, 1993' 'Sep 17, 2002'\n",
      " 'Oct 18, 2005' 'Apr 14, 2008' 'Aug 17, 2004' 'Aug 28, 2018'\n",
      " 'May 17, 2005' 'Dec 12, 2006' 'Mar 12, 2013' 'Oct 5, 1999' 'Sep 7, 2004'\n",
      " 'May 6, 1997' 'Jan 6, 2015' 'Sep 13, 2005' 'Mar 26, 2002' 'Jul 13, 2004'\n",
      " 'Apr 4, 2017' 'Dec 4, 2001' 'Oct 3, 2006' 'Sep 5, 2017' 'May 14, 2002'\n",
      " 'Nov 24, 2009' 'Apr 4, 2006' 'Jan 1, 2005' 'Sep 10, 1996' 'May 25, 1999'\n",
      " 'Jul 9, 2004' 'Feb 20, 2001' 'Jan 13, 2004' 'Aug 31, 1999' 'Mar 14, 1995'\n",
      " 'Dec 3, 2018' 'Feb 9, 2010' 'Feb 7, 1991' 'May 16, 2006' 'Jan 6, 2004'\n",
      " 'Oct 5, 2004' 'Sep 1, 2009' 'Aug 24, 2004' 'Sep 12, 2017' 'Jun 22, 1999'\n",
      " 'Oct 26, 2006' 'Jan 27, 2009' 'Mar 20, 2012' 'Nov 18, 1988' 'Jun 5, 2012'\n",
      " 'Sep 10, 1997' 'Apr 11, 2003' 'Jun 10, 2003' 'Mar 6, 2012' 'May 30, 1996'\n",
      " 'Jul 14, 2009' 'Feb 5, 2019' 'Mar 30, 2004' 'May 12, 1998' 'Feb 26, 2002'\n",
      " 'May 12, 2015' 'May 29, 2001' 'Dec 9, 2008' 'May 12, 2009' 'May 4, 1999'\n",
      " 'Dec 27, 2016' 'Sep 16, 2014' 'Dec 2, 2008' 'Nov 29, 2005' 'Jan 19, 1999'\n",
      " 'Jan 29, 2008' 'Aug 29, 2000' 'Feb 7, 2005' 'Feb 6, 2006' 'Apr 12, 2011'\n",
      " 'Nov 30, 1999' 'Nov 28, 2017' 'Mar 11, 2013' 'Oct 22, 2013'\n",
      " 'Jun 25, 2002' 'Nov 6, 2018' 'Jan 16, 2007' 'Aug 4, 2009' 'Nov 19, 2013'\n",
      " 'Dec 1, 2009' 'May 6, 2003' 'Aug 7, 2018' 'Mar 13, 2007' 'Jan 20, 2009'\n",
      " 'Nov 25, 2003' 'Jul 15, 2011' 'Oct 7, 2008' 'Mar 1, 2005' 'May 3, 2016'\n",
      " 'Mar 14, 2000' 'Dec 10, 1997' 'Mar 6, 2000' 'Jan 5, 1999' 'Feb 15, 2000'\n",
      " 'Mar 20, 1991' 'Nov 7, 2006' 'Jan 17, 2012' 'May 9, 1991' 'May 31, 1999'\n",
      " 'Feb 25, 2014' 'Nov 16, 1999' 'Jul 24, 2018' 'Dec 9, 2003' 'Mar 6, 2007'\n",
      " 'Sep 29, 2009' 'Oct 20, 1998' 'Mar 22, 2016' 'Dec 26, 2000' 'Dec 9, 2014'\n",
      " 'Nov 28, 2000' 'Jan 28, 2002' 'Mar 31, 2015' 'Dec 26, 2005'\n",
      " 'Dec 14, 2004' 'Dec 23, 2008' 'Oct 4, 2011' 'May 22, 1991' 'Sep 13, 2012'\n",
      " 'Jul 15, 1992' 'Jul 22, 2003' 'Jan 26, 1999' 'Sep 21, 1999' 'Feb 1, 2005'\n",
      " 'Oct 20, 2015' 'Sep 5, 2000' 'Jan 22, 1992' 'Oct 23, 2007' 'Oct 28, 2003'\n",
      " 'Nov 1, 2011' 'May 23, 2017' 'Apr 17, 2001' 'Apr 22, 2011' 'Mar 4, 2008'\n",
      " 'Sep 25, 1991' 'Oct 3, 2000' 'Jul 3, 2018' 'Feb 7, 2012' 'Sep 19, 2006'\n",
      " 'Jun 27, 2017' 'May 13, 2003' 'May 2, 2005' 'Sep 18, 2018' 'Jan 12, 1999'\n",
      " 'Feb 8, 2005' 'Dec 29, 2009' 'Feb 16, 2016' 'Jun 26, 2007' 'Sep 9, 1998'\n",
      " 'Sep 30, 2006' 'Jan 19, 2004' 'Aug 27, 2002' 'Nov 25, 2008'\n",
      " 'Aug 19, 2003' 'Nov 8, 2016' 'Dec 22, 2015' 'Jun 26, 1997' 'Jun 17, 1998'\n",
      " 'Jan 6, 2003' 'Apr 20, 1994' 'Nov 1, 1998' 'Aug 26, 1997' 'Jan 9, 2018'\n",
      " 'Jun 27, 2006' 'Feb 26, 1992' 'Jul 6, 1994' 'Feb 25, 2013' 'Sep 26, 2000'\n",
      " 'Sep 25, 1997' 'Apr 3, 2012' 'Aug 2, 2005' 'Jun 21, 2016' 'Nov 20, 2012'\n",
      " 'Jul 23, 2002' 'Oct 9, 2007' 'Apr 8, 2003' 'Jan 2, 2007' 'May 11, 2004'\n",
      " 'Jan 29, 2002'] \n",
      "\n",
      "unique values in column'currency' are : '\n",
      "':[nan '$'] \n",
      "\n",
      "unique values in column'box_office' are : '\n",
      "':[nan '600,000' '41,032,915' '224,114' '134,904' '1,039,869' '99,165,609'\n",
      " '20,518,224' '1,971,135' '312,136' '201,010' '132,088,910' '54,100,000'\n",
      " '127,706,877' '10,880,926' '10,706,786' '35,565,975' '4,806,750'\n",
      " '5,051,927' '93,300,000' '1,000,000' '42,929,971' '13,248,477'\n",
      " '64,001,297' '2,974,308' '37,431,431' '22,715,908' '67,771,442'\n",
      " '19,755,422' '73,023,275' '4,007,792' '1,626,289' '3,998,889'\n",
      " '12,533,911' '2,839,256' '128,579,698' '5,205,343' '54,983,983'\n",
      " '21,318,194' '84,293' '8,518,148' '12,583,510' '35,000,629' '976,847'\n",
      " '37,331,031' '145,778' '63,400,000' '7,009,668' '80,574,010' '47,781,388'\n",
      " '5,600,000' '200,000' '134,455,175' '25,957,696' '3,200,000' '308,164'\n",
      " '32,741,596' '15,986,272' '13,710,572' '4,756,532' '42,194,060' '347,321'\n",
      " '7,366,736' '8,134,217' '72,266,306' '419,361' '1,341,151' '2,839,456'\n",
      " '121,500,000' '154,485,963' '54,132,596' '24,967,943' '46,982,632'\n",
      " '55,400,000' '2,536,460' '39,697,363' '2,367' '140,901' '21,379,315'\n",
      " '292,923' '480,926' '126,597,121' '1,231,550' '82,468,131' '44,478,018'\n",
      " '1,300,000' '2,209,479' '6,426,953' '2,586,310' '21,254,983' '10,500,000'\n",
      " '32,000,000' '114,053,579' '104,880,310' '35,764,982' '17,364,602'\n",
      " '14,037,964' '26,800,000' '598,103' '67,631,157' '88,800,000' '22,099'\n",
      " '12,610,731' '8,874,389' '529,426' '2,664,765' '241,250,669'\n",
      " '107,506,776' '10,572,742' '52,277,485' '1,800,000' '300,000'\n",
      " '15,687,400' '6,100,613' '63,883,740' '54,218,420' '175,088' '19,375,474'\n",
      " '15,425,870' '38,200,000' '2,365,931' '231,512' '52,000,189'\n",
      " '102,981,571' '14,443,077' '4,900,000' '1,940,202' '39,712' '14,400,987'\n",
      " '22,877,808' '25,077,977' '700,000' '234,141,872' '1,616,556' '465,786'\n",
      " '27,503,677' '1,736,708' '25,658' '75,604,320' '13,900,000' '15,988,876'\n",
      " '453,079' '279,167,575' '8,300' '13,351,235' '3,328' '19,000,000'\n",
      " '16,302,332' '1,688,620' '3,752,818' '89,602,378' '519,730' '301,194'\n",
      " '104,286' '12,711,889' '4,519,967' '28,031,250' '34,187,787' '31,155,435'\n",
      " '36,800,000' '30,212,620' '42,500,000' '3,014,541' '53,021,560'\n",
      " '127,490,802' '105,765,605' '1,566,027' '1,110,286' '948,054'\n",
      " '368,000,000' '45,299,680' '1,634,064' '44,667,095' '406,235'\n",
      " '82,989,109' '15,176,515' '466,986' '723,714' '115,088,305' '35,966'\n",
      " '303,001,229' '64,209,101' '252,018' '10,127,352' '15,655,665'\n",
      " '1,569,618' '116,783' '18,356,529' '20,467,547' '4,300,353' '8,616,662'\n",
      " '71,844,424' '44,566,004' '3,900,000' '43,800,000' '262,586'\n",
      " '118,683,135' '709,133' '541,457' '9,500,000' '18,013,938' '67,169,549'\n",
      " '257,704,099' '3,349,167' '363' '11,827,301' '793,352' '63,595'\n",
      " '16,614,132' '146,336,178' '20,433,940' '3,596,939' '190,871,149'\n",
      " '72,601,713' '6,002,708' '93,008,426' '116,638,030' '22,838,662'\n",
      " '5,696,752' '320,676' '7,156,725' '5,617,321' '10,279,192' '81,110,575'\n",
      " '13,432,508' '15,504,419' '109,176,215' '148,734,225' '66,580,191'\n",
      " '6,515,869' '1,121,000' '13,985,117' '106,604,314' '13,737,564'\n",
      " '73,058,679' '42,168,445' '261,835,892' '164,454,835' '3,185,193'\n",
      " '29,885,424' '7,518,962' '19,548,064' '2,021,399' '109,257' '13,592,311'\n",
      " '586,242' '102,515,793' '57,000,000' '13,155,823' '119,000,000'\n",
      " '37,442,180' '20,218,921' '27,696,504' '299,300,000' '14,244,145'\n",
      " '5,851,913' '127,083,765' '39,418,953' '31,670,931' '707,672' '2,027,042'\n",
      " '4,683,159' '33,408,732' '1,149,350' '1,260,219' '3,400,000'\n",
      " '177,575,142' '53,100,000' '463,914' '40,632,110' '214,813,155'\n",
      " '123,188,232' '4,894,004' '241,672' '20,900,803' '1,626,909' '10,928,042'\n",
      " '8,856' '33,200,000' '26,973,524' '11,348,612' '1,526,248' '13,630,226'\n",
      " '41,407,470' '101,368' '35,003,216' '15,133,185' '38,120,554' '549,351'\n",
      " '176,049,130' '18,472,363' '95,111,012' '81,157,671' '14,260,193'\n",
      " '209,805,005' '12,900,000' '16,632' '13,617,501' '4,436,352' '74,223,625'\n",
      " '39,532,308' '4,341,275' '9,404,922' '2,500,000' '18,173,360' '410,077'\n",
      " '2,395,410' '18,602,895' '118,253' '32,700,000' '15,536,310' '34,600,000'\n",
      " '8,888,355' '9,262,318' '227,946,274' '90,672,025' '97,661,826' '72,413'\n",
      " '58,255,287' '766,428' '88,658,172' '144,738,046' '5,689,784' '2,646,396'\n",
      " '98,000,000' '41,800,000' '2,927,972' '36,873,198' '2,782,548'\n",
      " '72,700,000' '581,813' '1,320,005' '25,335,935' '1,416,189' '59,371'\n",
      " '794,306' '33,886,034'] \n",
      "\n",
      "unique values in column'runtime' are : '\n",
      "':['104 minutes' '108 minutes' '116 minutes' '128 minutes' '200 minutes'\n",
      " '95 minutes' '82 minutes' '123 minutes' '117 minutes' nan '90 minutes'\n",
      " '97 minutes' '106 minutes' '129 minutes' '98 minutes' '127 minutes'\n",
      " '96 minutes' '101 minutes' '114 minutes' '110 minutes' '65 minutes'\n",
      " '75 minutes' '92 minutes' '91 minutes' '73 minutes' '100 minutes'\n",
      " '99 minutes' '103 minutes' '112 minutes' '142 minutes' '119 minutes'\n",
      " '122 minutes' '86 minutes' '93 minutes' '111 minutes' '118 minutes'\n",
      " '89 minutes' '74 minutes' '115 minutes' '107 minutes' '165 minutes'\n",
      " '113 minutes' '186 minutes' '67 minutes' '102 minutes' '60 minutes'\n",
      " '55 minutes' '135 minutes' '109 minutes' '120 minutes' '70 minutes'\n",
      " '124 minutes' '105 minutes' '134 minutes' '80 minutes' '87 minutes'\n",
      " '167 minutes' '77 minutes' '81 minutes' '94 minutes' '188 minutes'\n",
      " '126 minutes' '63 minutes' '132 minutes' '137 minutes' '79 minutes'\n",
      " '156 minutes' '147 minutes' '54 minutes' '85 minutes' '15 minutes'\n",
      " '171 minutes' '59 minutes' '88 minutes' '130 minutes' '143 minutes'\n",
      " '133 minutes' '52 minutes' '13 minutes' '83 minutes' '155 minutes'\n",
      " '7 minutes' '121 minutes' '125 minutes' '146 minutes' '196 minutes'\n",
      " '78 minutes' '158 minutes' '69 minutes' '153 minutes' '145 minutes'\n",
      " '76 minutes' '84 minutes' '45 minutes' '179 minutes' '64 minutes'\n",
      " '138 minutes' '175 minutes' '174 minutes' '144 minutes' '152 minutes'\n",
      " '184 minutes' '150 minutes' '313 minutes' '164 minutes' '11 minutes'\n",
      " '148 minutes' '6 minutes' '71 minutes' '23 minutes' '157 minutes'\n",
      " '141 minutes' '358 minutes' '61 minutes' '192 minutes' '154 minutes'\n",
      " '166 minutes' '33 minutes' '140 minutes' '57 minutes' '170 minutes'\n",
      " '68 minutes' '205 minutes' '159 minutes' '136 minutes' '10 minutes'\n",
      " '30 minutes' '58 minutes' '178 minutes' '240 minutes' '149 minutes'\n",
      " '180 minutes' '139 minutes' '294 minutes' '161 minutes' '72 minutes'\n",
      " '56 minutes' '183 minutes' '195 minutes' '131 minutes' '229 minutes'\n",
      " '5 minutes' '290 minutes'] \n",
      "\n",
      "unique values in column'studio' are : '\n",
      "':[nan 'Entertainment One' 'Warner Bros. Pictures' 'Paramount Pictures'\n",
      " 'Sony Pictures Classics' 'Showtime Documentary Films'\n",
      " 'Seventh Art Releasing' 'ATO Pictures' 'Sony Pictures'\n",
      " 'Universal Pictures' 'MGM' 'After Dark Films/Freestyle Releasing'\n",
      " 'Lions Gate Films' 'Regent Releasing' 'Janus Films'\n",
      " 'The Weinstein Company' 'New Line Cinema' 'Walt Disney Pictures'\n",
      " 'FilmDistrict' '20th Century Fox' 'Summit Entertainment'\n",
      " 'Newmarket Film Group' 'Samuel Goldwyn Films' 'Open Road Films'\n",
      " 'Warner Bros.' 'Fox' 'Screen Media Films' 'Roadside Attractions'\n",
      " 'Buena Vista Pictures' 'DreamWorks SKG' 'Buena Vista Distribution Compa'\n",
      " 'New Yorker Films' 'STXfilms' 'Destination Films' 'Miramax'\n",
      " 'Paramount Studios' 'Arrowstorm Entertainment' 'Inception Media Group'\n",
      " 'Fine Line Features' 'Columbia Pictures' 'IFC Films'\n",
      " 'Dreamworks Pictures' 'Film District' 'Reliance Entertainment'\n",
      " 'Twentieth Century Fox Home Entertainment' 'WARNER BROTHERS PICTURES'\n",
      " 'Dreamworks Distribution LLC' 'Cult Epics' 'Focus Features'\n",
      " 'Lions Gate Films Inc.' 'Lionsgate Films' 'New Line Home Entertainment'\n",
      " 'Laemmle/Zeller Films' 'Magnolia Pictures' 'Sony Pictures Entertainment'\n",
      " 'Sony Classics' 'NCM/Fathom' 'Wrekin Hill Entertainment'\n",
      " 'Independant Pictures' 'Weinstein Company'\n",
      " 'Sony Pictures/TriStar Pictures' 'Aspiration Media'\n",
      " 'Sony Pictures Home Entertainment' 'Kino International'\n",
      " 'Criterion Collection' 'USA Films' 'Corridor' 'Phase 4 Films'\n",
      " 'Goldwyn Films' 'Sony Pictures Releasing' 'Variance Films' 'MGM/UA'\n",
      " 'Vanguard Cinema' 'MVD Entertainment Group' 'Film Foundry Releasing'\n",
      " 'Eros Entertainment' 'Revolver Entertainment' 'Fox Searchlight Pictures'\n",
      " 'CBS Films' 'Film Arcade' 'Echolight Studios' 'Westchester Films'\n",
      " 'Lionsgate/Roadside Attractions' 'Sony Pictures/Columbia'\n",
      " 'Paramount Vantage' 'WB' 'Monterey Media' 'Independent Films'\n",
      " 'Screen Gems/SONY PICTURES' 'Independent Pictures' 'Fox Searchlight'\n",
      " 'Lorber Films' 'Cohen Media Group' 'Freestyle Releasing'\n",
      " 'Broad Green Pictures' '20th Century Fox Film Corporat'\n",
      " 'Lionsgate Films/After Dark Films' 'The Bigger Picture'\n",
      " 'First Independent Pictures' 'Orion Pictures Corporation' 'Miramax Films'\n",
      " 'Blue Underground' 'Factory 25' 'A24 and DIRECTV' 'First Look Pictures'\n",
      " 'Indican Pictures' 'A24 Films' 'LD Entertainment' 'Disneynature'\n",
      " 'Buena Vista Distribution' 'Tribeca Film' 'IFC'\n",
      " 'Universal Studios Home Video' 'Mitropoulos Films'\n",
      " 'Full Circle Releasing' 'Cinema Service' 'Touchstone Pictures'\n",
      " 'United Artists Pictures/MGM' 'Lions Gate Releasing'\n",
      " 'Grindstone Entertainment' 'Anchor Bay Entertainment' 'Paramount'\n",
      " 'Eureka Entertainment Ltd' 'Cloud Ten Pictures' 'Les Films du Losange'\n",
      " 'United Artists Pictures' 'Streetlight Films' 'Truly Indie/BEV Pictures'\n",
      " 'Lions Gate' 'Newmarket Films' 'Lionsgate'\n",
      " '20th Century Fox Distribution' 'Gravitas Ventures' 'Paramount Classics'\n",
      " 'Destination Film' 'Truly Indie' 'ThinkFilm Inc.' 'Relativity Media'\n",
      " 'Sony Pictures/Columbia Pictures' 'Rocking Films' 'DEJ Productions'\n",
      " 'Lakeshore Entertainment' 'The Weinstein Co.' 'Buena Vista'\n",
      " 'Buena Vista Internationa' 'IMAX' 'Screen Gems' 'Slamdance'\n",
      " 'New Video Group' 'NeoClassics Films' 'Dimension Films' 'FilmBuff'\n",
      " 'Zeitgeist Films' 'FilmRise' 'Universal' 'Vivendi Entertainment' 'A24'\n",
      " 'Artistic License Films' 'Iskander Films' 'Capitol Films' 'Truth Aid'\n",
      " 'The Off Hours Film LLC' 'Universal Studios' 'Greenlight Theatrical'\n",
      " 'Australian Film Finance Corporation' 'First Run Features'\n",
      " 'United Artists' 'Fingerprint Releasing / Bleecker Street'\n",
      " 'Universal Pictures Distributio' 'Dreamworks/Paramount'\n",
      " 'Universal Pictures International' 'Overture Films' 'Artisan'\n",
      " 'Film Sales Company' 'Summit Entertainment.' 'IFC First Take'\n",
      " 'Knowledge Matters' 'ADV Films' 'Ocilloscope Pictures' 'Film 44'\n",
      " 'Aviron Pictures' 'International Film Circuit' 'Argot Pictures'\n",
      " 'The Film Arcade' 'Crane Movie Company' 'Big World Pictures'\n",
      " 'STX Entertainment' 'Columbia Tristar Pictures' 'Apparition Films'\n",
      " 'Artisan Entertainment' 'Summit Premiere' 'TriStar Pictures'\n",
      " 'Paramount Home Video' 'Cinema Group' 'Walt Disney Animation Studios'\n",
      " 'Weinstein Co.' 'Twentieth Century Fox' 'Gravitas' 'Fox International'\n",
      " 'Buffalo Films' 'IDP Distribution'] \n",
      "\n"
     ]
    }
   ],
   "source": [
    "#check unique values in the columns\n",
    "for column in dataf4:\n",
    "    unique_values = dataf4[column].unique()\n",
    "    print(f\"unique values in column'{column}' are : '\\n':{unique_values}\",'\\n')"
   ]
  },
  {
   "cell_type": "markdown",
   "metadata": {},
   "source": [
    "# Checking duplicates and dropping all unnecessary columns"
   ]
  },
  {
   "cell_type": "code",
   "execution_count": 55,
   "metadata": {},
   "outputs": [
    {
     "data": {
      "text/plain": [
       "(1560, 12)"
      ]
     },
     "execution_count": 55,
     "metadata": {},
     "output_type": "execute_result"
    }
   ],
   "source": [
    "#drop duplicates\n",
    "dataf4=dataf4.drop_duplicates()\n",
    "dataf4.shape"
   ]
  },
  {
   "cell_type": "markdown",
   "metadata": {},
   "source": [
    "Observation: There are no duplicates in the dataset"
   ]
  },
  {
   "cell_type": "code",
   "execution_count": 56,
   "metadata": {},
   "outputs": [
    {
     "data": {
      "text/plain": [
       "Index(['id', 'synopsis', 'rating', 'genre', 'director', 'writer',\n",
       "       'theater_date', 'dvd_date', 'currency', 'box_office', 'runtime',\n",
       "       'studio'],\n",
       "      dtype='object')"
      ]
     },
     "execution_count": 56,
     "metadata": {},
     "output_type": "execute_result"
    }
   ],
   "source": [
    "#check the columns\n",
    "dataf4.columns"
   ]
  },
  {
   "cell_type": "code",
   "execution_count": 57,
   "metadata": {},
   "outputs": [],
   "source": [
    "#drop unnecessary columns\n",
    "#the columns dropped were irrelevant to our analysis or had too many null values\n",
    "dataf4.drop(['id','synopsis','director','writer','currency','box_office'],axis=1,inplace=True)"
   ]
  },
  {
   "cell_type": "code",
   "execution_count": 58,
   "metadata": {},
   "outputs": [
    {
     "data": {
      "text/plain": [
       "Index(['rating', 'genre', 'theater_date', 'dvd_date', 'runtime', 'studio'], dtype='object')"
      ]
     },
     "execution_count": 58,
     "metadata": {},
     "output_type": "execute_result"
    }
   ],
   "source": [
    "dataf4.columns"
   ]
  },
  {
   "cell_type": "markdown",
   "metadata": {},
   "source": [
    "# Filling in null values"
   ]
  },
  {
   "cell_type": "code",
   "execution_count": 59,
   "metadata": {},
   "outputs": [
    {
     "data": {
      "text/plain": [
       "rating             3\n",
       "genre              8\n",
       "theater_date     359\n",
       "dvd_date         359\n",
       "runtime           30\n",
       "studio          1066\n",
       "dtype: int64"
      ]
     },
     "execution_count": 59,
     "metadata": {},
     "output_type": "execute_result"
    }
   ],
   "source": [
    "#checking the null values\n",
    "dataf4.isna().sum()"
   ]
  },
  {
   "cell_type": "markdown",
   "metadata": {},
   "source": [
    "# Fill in categorical variables using mode - rating, genre and studio"
   ]
  },
  {
   "cell_type": "code",
   "execution_count": 60,
   "metadata": {},
   "outputs": [
    {
     "data": {
      "text/plain": [
       "0    R\n",
       "dtype: object"
      ]
     },
     "execution_count": 60,
     "metadata": {},
     "output_type": "execute_result"
    }
   ],
   "source": [
    "#fill in rating\n",
    "rating_mode = dataf4.rating.mode()\n",
    "rating_mode"
   ]
  },
  {
   "cell_type": "code",
   "execution_count": 61,
   "metadata": {},
   "outputs": [],
   "source": [
    "dataf4['rating'].fillna(rating_mode[0],inplace=True)"
   ]
  },
  {
   "cell_type": "code",
   "execution_count": 62,
   "metadata": {},
   "outputs": [
    {
     "data": {
      "text/plain": [
       "0    Universal Pictures\n",
       "dtype: object"
      ]
     },
     "execution_count": 62,
     "metadata": {},
     "output_type": "execute_result"
    }
   ],
   "source": [
    "#fill in studio\n",
    "studio_mode = dataf4.studio.mode()\n",
    "studio_mode"
   ]
  },
  {
   "cell_type": "code",
   "execution_count": 63,
   "metadata": {},
   "outputs": [],
   "source": [
    "dataf4['studio'].fillna(studio_mode[0],inplace=True)"
   ]
  },
  {
   "cell_type": "code",
   "execution_count": 64,
   "metadata": {},
   "outputs": [],
   "source": [
    "#fill in genre\n",
    "dataf4['main_genre'] = dataf4['genre'].fillna('').apply(lambda x: x.split('|')[0])"
   ]
  },
  {
   "cell_type": "code",
   "execution_count": 65,
   "metadata": {},
   "outputs": [
    {
     "data": {
      "text/plain": [
       "0    Action and Adventure\n",
       "dtype: object"
      ]
     },
     "execution_count": 65,
     "metadata": {},
     "output_type": "execute_result"
    }
   ],
   "source": [
    "genre_mode = dataf4.main_genre.mode()\n",
    "genre_mode"
   ]
  },
  {
   "cell_type": "code",
   "execution_count": 66,
   "metadata": {},
   "outputs": [],
   "source": [
    "dataf4['main_genre'].fillna(genre_mode[0],inplace=True)"
   ]
  },
  {
   "cell_type": "code",
   "execution_count": 67,
   "metadata": {},
   "outputs": [],
   "source": [
    "#drop the genre column which has been replaced by main_genre\n",
    "dataf4.drop(['genre'],axis=1,inplace=True)"
   ]
  },
  {
   "cell_type": "code",
   "execution_count": 68,
   "metadata": {},
   "outputs": [
    {
     "data": {
      "text/plain": [
       "rating            0\n",
       "theater_date    359\n",
       "dvd_date        359\n",
       "runtime          30\n",
       "studio            0\n",
       "main_genre        0\n",
       "dtype: int64"
      ]
     },
     "execution_count": 68,
     "metadata": {},
     "output_type": "execute_result"
    }
   ],
   "source": [
    "#check remaining null values\n",
    "dataf4.isnull().sum()"
   ]
  },
  {
   "cell_type": "markdown",
   "metadata": {},
   "source": [
    "# Fill in date values - theater date and dvd date"
   ]
  },
  {
   "cell_type": "code",
   "execution_count": 69,
   "metadata": {},
   "outputs": [],
   "source": [
    "#convert column data type then forward fill the dates\n",
    "dataf4['theater_date'] = pd.to_datetime(dataf4['theater_date'])\n",
    "dataf4['theater_date'] = dataf4['theater_date'].ffill()"
   ]
  },
  {
   "cell_type": "code",
   "execution_count": 70,
   "metadata": {},
   "outputs": [],
   "source": [
    "dataf4['dvd_date'] = pd.to_datetime(dataf4['dvd_date'])\n",
    "dataf4['dvd_date'] = dataf4['dvd_date'].ffill()"
   ]
  },
  {
   "cell_type": "markdown",
   "metadata": {},
   "source": [
    "# Fill in numerical variables"
   ]
  },
  {
   "cell_type": "code",
   "execution_count": 71,
   "metadata": {},
   "outputs": [],
   "source": [
    "#convert the runtime to numerical vales\n",
    "dataf4['runtime'] = pd.to_numeric(\n",
    "    dataf4['runtime'].str.replace(' minutes', '', regex=False),\n",
    "    errors='coerce'\n",
    ")"
   ]
  },
  {
   "cell_type": "code",
   "execution_count": 72,
   "metadata": {},
   "outputs": [
    {
     "data": {
      "text/plain": [
       "<function matplotlib.pyplot.show(close=None, block=None)>"
      ]
     },
     "execution_count": 72,
     "metadata": {},
     "output_type": "execute_result"
    },
    {
     "data": {
      "image/png": "[encoded data removed]",
      "text/plain": [
       "<Figure size 432x288 with 1 Axes>"
      ]
     },
     "metadata": {
      "needs_background": "light"
     },
     "output_type": "display_data"
    }
   ],
   "source": [
    "#check whether the data is skewed\n",
    "dataf4['runtime'].plot.kde()\n",
    "plt.show"
   ]
  },
  {
   "cell_type": "code",
   "execution_count": 73,
   "metadata": {},
   "outputs": [
    {
     "data": {
      "text/plain": [
       "103.96797385620916"
      ]
     },
     "execution_count": 73,
     "metadata": {},
     "output_type": "execute_result"
    }
   ],
   "source": [
    "mean_value = dataf4['runtime'].mean()\n",
    "mean_value"
   ]
  },
  {
   "cell_type": "code",
   "execution_count": 74,
   "metadata": {},
   "outputs": [],
   "source": [
    "#fill in the missing values in minutes\n",
    "dataf4['runtime'].fillna(mean_value,inplace=True)"
   ]
  },
  {
   "cell_type": "code",
   "execution_count": 75,
   "metadata": {},
   "outputs": [
    {
     "data": {
      "text/plain": [
       "rating          False\n",
       "theater_date    False\n",
       "dvd_date        False\n",
       "runtime         False\n",
       "studio          False\n",
       "main_genre      False\n",
       "dtype: bool"
      ]
     },
     "execution_count": 75,
     "metadata": {},
     "output_type": "execute_result"
    }
   ],
   "source": [
    "dataf4.isnull().any()"
   ]
  },
  {
   "cell_type": "markdown",
   "metadata": {},
   "source": [
    "## Cleaning Data5"
   ]
  },
  {
   "cell_type": "markdown",
   "metadata": {},
   "source": []
  },
  {
   "cell_type": "code",
   "execution_count": 76,
   "metadata": {},
   "outputs": [
    {
     "data": {
      "text/html": [
       "<div>\n",
       "<style scoped>\n",
       "    .dataframe tbody tr th:only-of-type {\n",
       "        vertical-align: middle;\n",
       "    }\n",
       "\n",
       "    .dataframe tbody tr th {\n",
       "        vertical-align: top;\n",
       "    }\n",
       "\n",
       "    .dataframe thead th {\n",
       "        text-align: right;\n",
       "    }\n",
       "</style>\n",
       "<table border=\"1\" class=\"dataframe\">\n",
       "  <thead>\n",
       "    <tr style=\"text-align: right;\">\n",
       "      <th></th>\n",
       "      <th>id</th>\n",
       "      <th>review</th>\n",
       "      <th>rating</th>\n",
       "      <th>fresh</th>\n",
       "      <th>critic</th>\n",
       "      <th>top_critic</th>\n",
       "      <th>publisher</th>\n",
       "      <th>date</th>\n",
       "    </tr>\n",
       "  </thead>\n",
       "  <tbody>\n",
       "    <tr>\n",
       "      <th>0</th>\n",
       "      <td>3</td>\n",
       "      <td>A distinctly gallows take on contemporary fina...</td>\n",
       "      <td>3/5</td>\n",
       "      <td>fresh</td>\n",
       "      <td>PJ Nabarro</td>\n",
       "      <td>0</td>\n",
       "      <td>Patrick Nabarro</td>\n",
       "      <td>November 10, 2018</td>\n",
       "    </tr>\n",
       "    <tr>\n",
       "      <th>1</th>\n",
       "      <td>3</td>\n",
       "      <td>It's an allegory in search of a meaning that n...</td>\n",
       "      <td>NaN</td>\n",
       "      <td>rotten</td>\n",
       "      <td>Annalee Newitz</td>\n",
       "      <td>0</td>\n",
       "      <td>io9.com</td>\n",
       "      <td>May 23, 2018</td>\n",
       "    </tr>\n",
       "    <tr>\n",
       "      <th>2</th>\n",
       "      <td>3</td>\n",
       "      <td>... life lived in a bubble in financial dealin...</td>\n",
       "      <td>NaN</td>\n",
       "      <td>fresh</td>\n",
       "      <td>Sean Axmaker</td>\n",
       "      <td>0</td>\n",
       "      <td>Stream on Demand</td>\n",
       "      <td>January 4, 2018</td>\n",
       "    </tr>\n",
       "    <tr>\n",
       "      <th>3</th>\n",
       "      <td>3</td>\n",
       "      <td>Continuing along a line introduced in last yea...</td>\n",
       "      <td>NaN</td>\n",
       "      <td>fresh</td>\n",
       "      <td>Daniel Kasman</td>\n",
       "      <td>0</td>\n",
       "      <td>MUBI</td>\n",
       "      <td>November 16, 2017</td>\n",
       "    </tr>\n",
       "    <tr>\n",
       "      <th>4</th>\n",
       "      <td>3</td>\n",
       "      <td>... a perverse twist on neorealism...</td>\n",
       "      <td>NaN</td>\n",
       "      <td>fresh</td>\n",
       "      <td>NaN</td>\n",
       "      <td>0</td>\n",
       "      <td>Cinema Scope</td>\n",
       "      <td>October 12, 2017</td>\n",
       "    </tr>\n",
       "  </tbody>\n",
       "</table>\n",
       "</div>"
      ],
      "text/plain": [
       "   id                                             review rating   fresh  \\\n",
       "0   3  A distinctly gallows take on contemporary fina...    3/5   fresh   \n",
       "1   3  It's an allegory in search of a meaning that n...    NaN  rotten   \n",
       "2   3  ... life lived in a bubble in financial dealin...    NaN   fresh   \n",
       "3   3  Continuing along a line introduced in last yea...    NaN   fresh   \n",
       "4   3             ... a perverse twist on neorealism...     NaN   fresh   \n",
       "\n",
       "           critic  top_critic         publisher               date  \n",
       "0      PJ Nabarro           0   Patrick Nabarro  November 10, 2018  \n",
       "1  Annalee Newitz           0           io9.com       May 23, 2018  \n",
       "2    Sean Axmaker           0  Stream on Demand    January 4, 2018  \n",
       "3   Daniel Kasman           0              MUBI  November 16, 2017  \n",
       "4             NaN           0      Cinema Scope   October 12, 2017  "
      ]
     },
     "execution_count": 76,
     "metadata": {},
     "output_type": "execute_result"
    }
   ],
   "source": [
    "#Reading the Data\n",
    "data5 = pd.read_csv('rt.reviews.tsv', sep = '\\t', encoding = 'latin -1' )\n",
    "data5.head()"
   ]
  },
  {
   "cell_type": "code",
   "execution_count": 77,
   "metadata": {},
   "outputs": [
    {
     "name": "stdout",
     "output_type": "stream",
     "text": [
      "The dataset has 54432 rows and 8 columns\n"
     ]
    }
   ],
   "source": [
    "# Check number of rows and columns\n",
    "print (f\"The dataset has {data5.shape[0]} rows and {data5.shape[1]} columns\")"
   ]
  },
  {
   "cell_type": "markdown",
   "metadata": {},
   "source": []
  },
  {
   "cell_type": "code",
   "execution_count": 78,
   "metadata": {},
   "outputs": [
    {
     "data": {
      "text/html": [
       "<div>\n",
       "<style scoped>\n",
       "    .dataframe tbody tr th:only-of-type {\n",
       "        vertical-align: middle;\n",
       "    }\n",
       "\n",
       "    .dataframe tbody tr th {\n",
       "        vertical-align: top;\n",
       "    }\n",
       "\n",
       "    .dataframe thead th {\n",
       "        text-align: right;\n",
       "    }\n",
       "</style>\n",
       "<table border=\"1\" class=\"dataframe\">\n",
       "  <thead>\n",
       "    <tr style=\"text-align: right;\">\n",
       "      <th></th>\n",
       "      <th>id</th>\n",
       "      <th>top_critic</th>\n",
       "    </tr>\n",
       "  </thead>\n",
       "  <tbody>\n",
       "    <tr>\n",
       "      <th>count</th>\n",
       "      <td>54432.000000</td>\n",
       "      <td>54432.000000</td>\n",
       "    </tr>\n",
       "    <tr>\n",
       "      <th>mean</th>\n",
       "      <td>1045.706882</td>\n",
       "      <td>0.240594</td>\n",
       "    </tr>\n",
       "    <tr>\n",
       "      <th>std</th>\n",
       "      <td>586.657046</td>\n",
       "      <td>0.427448</td>\n",
       "    </tr>\n",
       "    <tr>\n",
       "      <th>min</th>\n",
       "      <td>3.000000</td>\n",
       "      <td>0.000000</td>\n",
       "    </tr>\n",
       "    <tr>\n",
       "      <th>25%</th>\n",
       "      <td>542.000000</td>\n",
       "      <td>0.000000</td>\n",
       "    </tr>\n",
       "    <tr>\n",
       "      <th>50%</th>\n",
       "      <td>1083.000000</td>\n",
       "      <td>0.000000</td>\n",
       "    </tr>\n",
       "    <tr>\n",
       "      <th>75%</th>\n",
       "      <td>1541.000000</td>\n",
       "      <td>0.000000</td>\n",
       "    </tr>\n",
       "    <tr>\n",
       "      <th>max</th>\n",
       "      <td>2000.000000</td>\n",
       "      <td>1.000000</td>\n",
       "    </tr>\n",
       "  </tbody>\n",
       "</table>\n",
       "</div>"
      ],
      "text/plain": [
       "                 id    top_critic\n",
       "count  54432.000000  54432.000000\n",
       "mean    1045.706882      0.240594\n",
       "std      586.657046      0.427448\n",
       "min        3.000000      0.000000\n",
       "25%      542.000000      0.000000\n",
       "50%     1083.000000      0.000000\n",
       "75%     1541.000000      0.000000\n",
       "max     2000.000000      1.000000"
      ]
     },
     "execution_count": 78,
     "metadata": {},
     "output_type": "execute_result"
    }
   ],
   "source": [
    "data5.describe()"
   ]
  },
  {
   "cell_type": "code",
   "execution_count": 79,
   "metadata": {},
   "outputs": [
    {
     "name": "stdout",
     "output_type": "stream",
     "text": [
      "<class 'pandas.core.frame.DataFrame'>\n",
      "RangeIndex: 54432 entries, 0 to 54431\n",
      "Data columns (total 8 columns):\n",
      " #   Column      Non-Null Count  Dtype \n",
      "---  ------      --------------  ----- \n",
      " 0   id          54432 non-null  int64 \n",
      " 1   review      48869 non-null  object\n",
      " 2   rating      40915 non-null  object\n",
      " 3   fresh       54432 non-null  object\n",
      " 4   critic      51710 non-null  object\n",
      " 5   top_critic  54432 non-null  int64 \n",
      " 6   publisher   54123 non-null  object\n",
      " 7   date        54432 non-null  object\n",
      "dtypes: int64(2), object(6)\n",
      "memory usage: 3.3+ MB\n"
     ]
    }
   ],
   "source": [
    "data5.info()"
   ]
  },
  {
   "cell_type": "code",
   "execution_count": 80,
   "metadata": {},
   "outputs": [],
   "source": [
    "# Create a dataframe copy to be used in data cleaning for the first data set\n",
    "dataf5=data5.copy(deep=True)"
   ]
  },
  {
   "cell_type": "code",
   "execution_count": 81,
   "metadata": {},
   "outputs": [
    {
     "data": {
      "text/plain": [
       "Index(['id', 'review', 'rating', 'fresh', 'critic', 'top_critic', 'publisher',\n",
       "       'date'],\n",
       "      dtype='object')"
      ]
     },
     "execution_count": 81,
     "metadata": {},
     "output_type": "execute_result"
    }
   ],
   "source": [
    "# Check column names\n",
    "dataf5.columns"
   ]
  },
  {
   "cell_type": "code",
   "execution_count": 82,
   "metadata": {},
   "outputs": [
    {
     "data": {
      "text/plain": [
       "9"
      ]
     },
     "execution_count": 82,
     "metadata": {},
     "output_type": "execute_result"
    }
   ],
   "source": [
    "#Checking for the duplicates\n",
    "dataf5.duplicated().sum()"
   ]
  },
  {
   "cell_type": "code",
   "execution_count": 83,
   "metadata": {},
   "outputs": [
    {
     "data": {
      "text/plain": [
       "0"
      ]
     },
     "execution_count": 83,
     "metadata": {},
     "output_type": "execute_result"
    }
   ],
   "source": [
    "#Removing the duplicates\n",
    "dataf5 = dataf5.drop_duplicates()\n",
    "\n",
    "dataf5.duplicated().sum()"
   ]
  },
  {
   "cell_type": "code",
   "execution_count": 84,
   "metadata": {},
   "outputs": [
    {
     "name": "stdout",
     "output_type": "stream",
     "text": [
      "Index(['id', 'review', 'rating', 'fresh', 'critic', 'top_critic', 'publisher',\n",
      "       'date'],\n",
      "      dtype='object')\n"
     ]
    }
   ],
   "source": [
    "print(dataf5.columns)\n"
   ]
  },
  {
   "cell_type": "code",
   "execution_count": 85,
   "metadata": {},
   "outputs": [
    {
     "name": "stdout",
     "output_type": "stream",
     "text": [
      "Index(['rating', 'fresh', 'top_critic', 'date'], dtype='object')\n"
     ]
    }
   ],
   "source": [
    "#Dropping columns\n",
    "dataf5.drop(['id', 'critic', 'review', 'publisher'], axis=1, inplace=True)\n",
    "print(dataf5.columns)\n"
   ]
  },
  {
   "cell_type": "markdown",
   "metadata": {},
   "source": [
    "We now have 4 columns after dropping the id. critic, review and publisher column. "
   ]
  },
  {
   "cell_type": "code",
   "execution_count": 86,
   "metadata": {},
   "outputs": [
    {
     "data": {
      "text/plain": [
       "rating        13516\n",
       "fresh             0\n",
       "top_critic        0\n",
       "date              0\n",
       "dtype: int64"
      ]
     },
     "execution_count": 86,
     "metadata": {},
     "output_type": "execute_result"
    }
   ],
   "source": [
    "dataf5.isna().sum()"
   ]
  },
  {
   "cell_type": "code",
   "execution_count": 87,
   "metadata": {},
   "outputs": [
    {
     "data": {
      "text/html": [
       "<div>\n",
       "<style scoped>\n",
       "    .dataframe tbody tr th:only-of-type {\n",
       "        vertical-align: middle;\n",
       "    }\n",
       "\n",
       "    .dataframe tbody tr th {\n",
       "        vertical-align: top;\n",
       "    }\n",
       "\n",
       "    .dataframe thead th {\n",
       "        text-align: right;\n",
       "    }\n",
       "</style>\n",
       "<table border=\"1\" class=\"dataframe\">\n",
       "  <thead>\n",
       "    <tr style=\"text-align: right;\">\n",
       "      <th></th>\n",
       "      <th>rating</th>\n",
       "      <th>fresh</th>\n",
       "      <th>top_critic</th>\n",
       "      <th>date</th>\n",
       "    </tr>\n",
       "  </thead>\n",
       "  <tbody>\n",
       "    <tr>\n",
       "      <th>0</th>\n",
       "      <td>3/5</td>\n",
       "      <td>fresh</td>\n",
       "      <td>0</td>\n",
       "      <td>2018-11-10</td>\n",
       "    </tr>\n",
       "    <tr>\n",
       "      <th>1</th>\n",
       "      <td>NaN</td>\n",
       "      <td>rotten</td>\n",
       "      <td>0</td>\n",
       "      <td>2018-05-23</td>\n",
       "    </tr>\n",
       "    <tr>\n",
       "      <th>2</th>\n",
       "      <td>NaN</td>\n",
       "      <td>fresh</td>\n",
       "      <td>0</td>\n",
       "      <td>2018-01-04</td>\n",
       "    </tr>\n",
       "  </tbody>\n",
       "</table>\n",
       "</div>"
      ],
      "text/plain": [
       "  rating   fresh  top_critic       date\n",
       "0    3/5   fresh           0 2018-11-10\n",
       "1    NaN  rotten           0 2018-05-23\n",
       "2    NaN   fresh           0 2018-01-04"
      ]
     },
     "execution_count": 87,
     "metadata": {},
     "output_type": "execute_result"
    }
   ],
   "source": [
    "#1. Converting date to Datetime\n",
    "dataf5['date'] = pd.to_datetime(dataf5['date'])\n",
    "dataf5.head(3)"
   ]
  },
  {
   "cell_type": "markdown",
   "metadata": {},
   "source": [
    "We converted date to datetime which is very useful when visualizing time trends"
   ]
  },
  {
   "cell_type": "code",
   "execution_count": 88,
   "metadata": {},
   "outputs": [
    {
     "data": {
      "text/html": [
       "<div>\n",
       "<style scoped>\n",
       "    .dataframe tbody tr th:only-of-type {\n",
       "        vertical-align: middle;\n",
       "    }\n",
       "\n",
       "    .dataframe tbody tr th {\n",
       "        vertical-align: top;\n",
       "    }\n",
       "\n",
       "    .dataframe thead th {\n",
       "        text-align: right;\n",
       "    }\n",
       "</style>\n",
       "<table border=\"1\" class=\"dataframe\">\n",
       "  <thead>\n",
       "    <tr style=\"text-align: right;\">\n",
       "      <th></th>\n",
       "      <th>rating</th>\n",
       "      <th>fresh</th>\n",
       "      <th>top_critic</th>\n",
       "      <th>date</th>\n",
       "    </tr>\n",
       "  </thead>\n",
       "  <tbody>\n",
       "    <tr>\n",
       "      <th>0</th>\n",
       "      <td>3/5</td>\n",
       "      <td>fresh</td>\n",
       "      <td>False</td>\n",
       "      <td>2018-11-10</td>\n",
       "    </tr>\n",
       "    <tr>\n",
       "      <th>1</th>\n",
       "      <td>NaN</td>\n",
       "      <td>rotten</td>\n",
       "      <td>False</td>\n",
       "      <td>2018-05-23</td>\n",
       "    </tr>\n",
       "    <tr>\n",
       "      <th>2</th>\n",
       "      <td>NaN</td>\n",
       "      <td>fresh</td>\n",
       "      <td>False</td>\n",
       "      <td>2018-01-04</td>\n",
       "    </tr>\n",
       "  </tbody>\n",
       "</table>\n",
       "</div>"
      ],
      "text/plain": [
       "  rating   fresh  top_critic       date\n",
       "0    3/5   fresh       False 2018-11-10\n",
       "1    NaN  rotten       False 2018-05-23\n",
       "2    NaN   fresh       False 2018-01-04"
      ]
     },
     "execution_count": 88,
     "metadata": {},
     "output_type": "execute_result"
    }
   ],
   "source": [
    "#2. top_critic;converting it to True/False \n",
    "#makes it easier to work with when plotting or modeling\n",
    "dataf5['top_critic'] = dataf5['top_critic'].astype(bool)\n",
    "dataf5.head(3)"
   ]
  },
  {
   "cell_type": "code",
   "execution_count": 89,
   "metadata": {},
   "outputs": [
    {
     "name": "stdout",
     "output_type": "stream",
     "text": [
      "fresh     33032\n",
      "rotten    21391\n",
      "Name: fresh, dtype: int64\n"
     ]
    },
    {
     "data": {
      "text/html": [
       "<div>\n",
       "<style scoped>\n",
       "    .dataframe tbody tr th:only-of-type {\n",
       "        vertical-align: middle;\n",
       "    }\n",
       "\n",
       "    .dataframe tbody tr th {\n",
       "        vertical-align: top;\n",
       "    }\n",
       "\n",
       "    .dataframe thead th {\n",
       "        text-align: right;\n",
       "    }\n",
       "</style>\n",
       "<table border=\"1\" class=\"dataframe\">\n",
       "  <thead>\n",
       "    <tr style=\"text-align: right;\">\n",
       "      <th></th>\n",
       "      <th>rating</th>\n",
       "      <th>fresh</th>\n",
       "      <th>top_critic</th>\n",
       "      <th>date</th>\n",
       "      <th>fresh_binary</th>\n",
       "    </tr>\n",
       "  </thead>\n",
       "  <tbody>\n",
       "    <tr>\n",
       "      <th>0</th>\n",
       "      <td>3/5</td>\n",
       "      <td>fresh</td>\n",
       "      <td>False</td>\n",
       "      <td>2018-11-10</td>\n",
       "      <td>1</td>\n",
       "    </tr>\n",
       "    <tr>\n",
       "      <th>1</th>\n",
       "      <td>NaN</td>\n",
       "      <td>rotten</td>\n",
       "      <td>False</td>\n",
       "      <td>2018-05-23</td>\n",
       "      <td>0</td>\n",
       "    </tr>\n",
       "    <tr>\n",
       "      <th>2</th>\n",
       "      <td>NaN</td>\n",
       "      <td>fresh</td>\n",
       "      <td>False</td>\n",
       "      <td>2018-01-04</td>\n",
       "      <td>1</td>\n",
       "    </tr>\n",
       "  </tbody>\n",
       "</table>\n",
       "</div>"
      ],
      "text/plain": [
       "  rating   fresh  top_critic       date  fresh_binary\n",
       "0    3/5   fresh       False 2018-11-10             1\n",
       "1    NaN  rotten       False 2018-05-23             0\n",
       "2    NaN   fresh       False 2018-01-04             1"
      ]
     },
     "execution_count": 89,
     "metadata": {},
     "output_type": "execute_result"
    }
   ],
   "source": [
    "#3. Fresh column\n",
    "fresh_value_counts = dataf5['fresh'].value_counts()\n",
    "print(fresh_value_counts)\n",
    "\n",
    "#converting Fresh to a Binary\n",
    "dataf5['fresh_binary'] = dataf5['fresh'].map({'fresh': 1, 'rotten': 0})\n",
    "dataf5.head(3)"
   ]
  },
  {
   "cell_type": "code",
   "execution_count": 90,
   "metadata": {},
   "outputs": [
    {
     "data": {
      "text/html": [
       "<div>\n",
       "<style scoped>\n",
       "    .dataframe tbody tr th:only-of-type {\n",
       "        vertical-align: middle;\n",
       "    }\n",
       "\n",
       "    .dataframe tbody tr th {\n",
       "        vertical-align: top;\n",
       "    }\n",
       "\n",
       "    .dataframe thead th {\n",
       "        text-align: right;\n",
       "    }\n",
       "</style>\n",
       "<table border=\"1\" class=\"dataframe\">\n",
       "  <thead>\n",
       "    <tr style=\"text-align: right;\">\n",
       "      <th></th>\n",
       "      <th>rating</th>\n",
       "      <th>fresh</th>\n",
       "      <th>top_critic</th>\n",
       "      <th>date</th>\n",
       "      <th>fresh_binary</th>\n",
       "      <th>rating_clean</th>\n",
       "    </tr>\n",
       "  </thead>\n",
       "  <tbody>\n",
       "    <tr>\n",
       "      <th>0</th>\n",
       "      <td>3/5</td>\n",
       "      <td>fresh</td>\n",
       "      <td>False</td>\n",
       "      <td>2018-11-10</td>\n",
       "      <td>1</td>\n",
       "      <td>0.6</td>\n",
       "    </tr>\n",
       "    <tr>\n",
       "      <th>1</th>\n",
       "      <td>NaN</td>\n",
       "      <td>rotten</td>\n",
       "      <td>False</td>\n",
       "      <td>2018-05-23</td>\n",
       "      <td>0</td>\n",
       "      <td>NaN</td>\n",
       "    </tr>\n",
       "    <tr>\n",
       "      <th>2</th>\n",
       "      <td>NaN</td>\n",
       "      <td>fresh</td>\n",
       "      <td>False</td>\n",
       "      <td>2018-01-04</td>\n",
       "      <td>1</td>\n",
       "      <td>NaN</td>\n",
       "    </tr>\n",
       "  </tbody>\n",
       "</table>\n",
       "</div>"
      ],
      "text/plain": [
       "  rating   fresh  top_critic       date  fresh_binary  rating_clean\n",
       "0    3/5   fresh       False 2018-11-10             1           0.6\n",
       "1    NaN  rotten       False 2018-05-23             0           NaN\n",
       "2    NaN   fresh       False 2018-01-04             1           NaN"
      ]
     },
     "execution_count": 90,
     "metadata": {},
     "output_type": "execute_result"
    }
   ],
   "source": [
    "#4. Cleaning the rating column that has null values too \n",
    "\n",
    "split_rating = data5['rating'].str.split('/', expand=True)\n",
    "\n",
    "# Convert to numeric and calculate clean rating\n",
    "dataf5['rating_clean'] = pd.to_numeric(split_rating[0], errors='coerce') / pd.to_numeric(split_rating[1], errors='coerce')\n",
    "dataf5.head(3)"
   ]
  },
  {
   "cell_type": "code",
   "execution_count": 91,
   "metadata": {},
   "outputs": [
    {
     "data": {
      "text/plain": [
       "rating          13516\n",
       "fresh               0\n",
       "top_critic          0\n",
       "date                0\n",
       "fresh_binary        0\n",
       "rating_clean    20736\n",
       "dtype: int64"
      ]
     },
     "execution_count": 91,
     "metadata": {},
     "output_type": "execute_result"
    }
   ],
   "source": [
    "dataf5.isna().sum()"
   ]
  },
  {
   "cell_type": "code",
   "execution_count": 92,
   "metadata": {},
   "outputs": [
    {
     "data": {
      "text/html": [
       "<div>\n",
       "<style scoped>\n",
       "    .dataframe tbody tr th:only-of-type {\n",
       "        vertical-align: middle;\n",
       "    }\n",
       "\n",
       "    .dataframe tbody tr th {\n",
       "        vertical-align: top;\n",
       "    }\n",
       "\n",
       "    .dataframe thead th {\n",
       "        text-align: right;\n",
       "    }\n",
       "</style>\n",
       "<table border=\"1\" class=\"dataframe\">\n",
       "  <thead>\n",
       "    <tr style=\"text-align: right;\">\n",
       "      <th></th>\n",
       "      <th>rating</th>\n",
       "      <th>fresh</th>\n",
       "      <th>top_critic</th>\n",
       "      <th>date</th>\n",
       "      <th>fresh_binary</th>\n",
       "      <th>rating_clean</th>\n",
       "    </tr>\n",
       "  </thead>\n",
       "  <tbody>\n",
       "    <tr>\n",
       "      <th>0</th>\n",
       "      <td>3/5</td>\n",
       "      <td>fresh</td>\n",
       "      <td>False</td>\n",
       "      <td>2018-11-10</td>\n",
       "      <td>1</td>\n",
       "      <td>0.6</td>\n",
       "    </tr>\n",
       "    <tr>\n",
       "      <th>7</th>\n",
       "      <td>2/5</td>\n",
       "      <td>rotten</td>\n",
       "      <td>False</td>\n",
       "      <td>2013-04-21</td>\n",
       "      <td>0</td>\n",
       "      <td>0.4</td>\n",
       "    </tr>\n",
       "    <tr>\n",
       "      <th>12</th>\n",
       "      <td>2/4</td>\n",
       "      <td>rotten</td>\n",
       "      <td>False</td>\n",
       "      <td>2013-01-15</td>\n",
       "      <td>0</td>\n",
       "      <td>0.5</td>\n",
       "    </tr>\n",
       "  </tbody>\n",
       "</table>\n",
       "</div>"
      ],
      "text/plain": [
       "   rating   fresh  top_critic       date  fresh_binary  rating_clean\n",
       "0     3/5   fresh       False 2018-11-10             1           0.6\n",
       "7     2/5  rotten       False 2013-04-21             0           0.4\n",
       "12    2/4  rotten       False 2013-01-15             0           0.5"
      ]
     },
     "execution_count": 92,
     "metadata": {},
     "output_type": "execute_result"
    }
   ],
   "source": [
    "#5rating_clean column\n",
    "dataf5 = dataf5.dropna(subset=['rating_clean'])\n",
    "dataf5.head(3)"
   ]
  },
  {
   "cell_type": "code",
   "execution_count": 93,
   "metadata": {},
   "outputs": [
    {
     "name": "stdout",
     "output_type": "stream",
     "text": [
      "The dataset has 33687 rows and 6 columns\n"
     ]
    }
   ],
   "source": [
    "# Check number of rows and columns\n",
    "print (f\"The dataset has {dataf5.shape[0]} rows and {dataf5.shape[1]} columns\")"
   ]
  },
  {
   "cell_type": "markdown",
   "metadata": {},
   "source": [
    "* Cleaning Data 6*"
   ]
  },
  {
   "cell_type": "code",
   "execution_count": 106,
   "metadata": {},
   "outputs": [],
   "source": [
    "import sqlite3\n",
    "\n",
    "conn = sqlite3.connect('im.db')\n",
    "cur = conn.cursor()\n",
    "\n",
    "datadata = \"\"\"SELECT genres, averagerating, numvotes, runtime_minutes \n",
    "FROM movie_basics \n",
    "JOIN movie_ratings ON movie_ratings.movie_id = movie_basics.movie_id ; \"\"\"\n"
   ]
  },
  {
   "cell_type": "code",
   "execution_count": 102,
   "metadata": {},
   "outputs": [
    {
     "ename": "DatabaseError",
     "evalue": "Execution failed on sql '\nSELECT genres, averagerating, numvotes, runtime_minutes\nFROM movie_basics\nJOIN movie_ratings ON movie_ratings.movie_id = movie_basics.movie_id ;          \n          ': no such table: movie_basics",
     "output_type": "error",
     "traceback": [
      "\u001b[1;31m---------------------------------------------------------------------------\u001b[0m",
      "\u001b[1;31mOperationalError\u001b[0m                          Traceback (most recent call last)",
      "\u001b[1;32m~\\anaconda3\\envs\\learn-env\\lib\\site-packages\\pandas\\io\\sql.py\u001b[0m in \u001b[0;36mexecute\u001b[1;34m(self, *args, **kwargs)\u001b[0m\n\u001b[0;32m   1680\u001b[0m         \u001b[1;32mtry\u001b[0m\u001b[1;33m:\u001b[0m\u001b[1;33m\u001b[0m\u001b[1;33m\u001b[0m\u001b[0m\n\u001b[1;32m-> 1681\u001b[1;33m             \u001b[0mcur\u001b[0m\u001b[1;33m.\u001b[0m\u001b[0mexecute\u001b[0m\u001b[1;33m(\u001b[0m\u001b[1;33m*\u001b[0m\u001b[0margs\u001b[0m\u001b[1;33m,\u001b[0m \u001b[1;33m**\u001b[0m\u001b[0mkwargs\u001b[0m\u001b[1;33m)\u001b[0m\u001b[1;33m\u001b[0m\u001b[1;33m\u001b[0m\u001b[0m\n\u001b[0m\u001b[0;32m   1682\u001b[0m             \u001b[1;32mreturn\u001b[0m \u001b[0mcur\u001b[0m\u001b[1;33m\u001b[0m\u001b[1;33m\u001b[0m\u001b[0m\n",
      "\u001b[1;31mOperationalError\u001b[0m: no such table: movie_basics",
      "\nThe above exception was the direct cause of the following exception:\n",
      "\u001b[1;31mDatabaseError\u001b[0m                             Traceback (most recent call last)",
      "\u001b[1;32m<ipython-input-102-4e4432ff7ffe>\u001b[0m in \u001b[0;36m<module>\u001b[1;34m\u001b[0m\n\u001b[1;32m----> 1\u001b[1;33m \u001b[0mdata6\u001b[0m \u001b[1;33m=\u001b[0m \u001b[0mpd\u001b[0m\u001b[1;33m.\u001b[0m\u001b[0mread_sql\u001b[0m\u001b[1;33m(\u001b[0m\u001b[0mdatadata\u001b[0m\u001b[1;33m,\u001b[0m \u001b[0mconn\u001b[0m\u001b[1;33m)\u001b[0m\u001b[1;33m\u001b[0m\u001b[1;33m\u001b[0m\u001b[0m\n\u001b[0m\u001b[0;32m      2\u001b[0m \u001b[0mdata6\u001b[0m\u001b[1;33m\u001b[0m\u001b[1;33m\u001b[0m\u001b[0m\n",
      "\u001b[1;32m~\\anaconda3\\envs\\learn-env\\lib\\site-packages\\pandas\\io\\sql.py\u001b[0m in \u001b[0;36mread_sql\u001b[1;34m(sql, con, index_col, coerce_float, params, parse_dates, columns, chunksize)\u001b[0m\n\u001b[0;32m    481\u001b[0m \u001b[1;33m\u001b[0m\u001b[0m\n\u001b[0;32m    482\u001b[0m     \u001b[1;32mif\u001b[0m \u001b[0misinstance\u001b[0m\u001b[1;33m(\u001b[0m\u001b[0mpandas_sql\u001b[0m\u001b[1;33m,\u001b[0m \u001b[0mSQLiteDatabase\u001b[0m\u001b[1;33m)\u001b[0m\u001b[1;33m:\u001b[0m\u001b[1;33m\u001b[0m\u001b[1;33m\u001b[0m\u001b[0m\n\u001b[1;32m--> 483\u001b[1;33m         return pandas_sql.read_query(\n\u001b[0m\u001b[0;32m    484\u001b[0m             \u001b[0msql\u001b[0m\u001b[1;33m,\u001b[0m\u001b[1;33m\u001b[0m\u001b[1;33m\u001b[0m\u001b[0m\n\u001b[0;32m    485\u001b[0m             \u001b[0mindex_col\u001b[0m\u001b[1;33m=\u001b[0m\u001b[0mindex_col\u001b[0m\u001b[1;33m,\u001b[0m\u001b[1;33m\u001b[0m\u001b[1;33m\u001b[0m\u001b[0m\n",
      "\u001b[1;32m~\\anaconda3\\envs\\learn-env\\lib\\site-packages\\pandas\\io\\sql.py\u001b[0m in \u001b[0;36mread_query\u001b[1;34m(self, sql, index_col, coerce_float, params, parse_dates, chunksize)\u001b[0m\n\u001b[0;32m   1725\u001b[0m \u001b[1;33m\u001b[0m\u001b[0m\n\u001b[0;32m   1726\u001b[0m         \u001b[0margs\u001b[0m \u001b[1;33m=\u001b[0m \u001b[0m_convert_params\u001b[0m\u001b[1;33m(\u001b[0m\u001b[0msql\u001b[0m\u001b[1;33m,\u001b[0m \u001b[0mparams\u001b[0m\u001b[1;33m)\u001b[0m\u001b[1;33m\u001b[0m\u001b[1;33m\u001b[0m\u001b[0m\n\u001b[1;32m-> 1727\u001b[1;33m         \u001b[0mcursor\u001b[0m \u001b[1;33m=\u001b[0m \u001b[0mself\u001b[0m\u001b[1;33m.\u001b[0m\u001b[0mexecute\u001b[0m\u001b[1;33m(\u001b[0m\u001b[1;33m*\u001b[0m\u001b[0margs\u001b[0m\u001b[1;33m)\u001b[0m\u001b[1;33m\u001b[0m\u001b[1;33m\u001b[0m\u001b[0m\n\u001b[0m\u001b[0;32m   1728\u001b[0m         \u001b[0mcolumns\u001b[0m \u001b[1;33m=\u001b[0m \u001b[1;33m[\u001b[0m\u001b[0mcol_desc\u001b[0m\u001b[1;33m[\u001b[0m\u001b[1;36m0\u001b[0m\u001b[1;33m]\u001b[0m \u001b[1;32mfor\u001b[0m \u001b[0mcol_desc\u001b[0m \u001b[1;32min\u001b[0m \u001b[0mcursor\u001b[0m\u001b[1;33m.\u001b[0m\u001b[0mdescription\u001b[0m\u001b[1;33m]\u001b[0m\u001b[1;33m\u001b[0m\u001b[1;33m\u001b[0m\u001b[0m\n\u001b[0;32m   1729\u001b[0m \u001b[1;33m\u001b[0m\u001b[0m\n",
      "\u001b[1;32m~\\anaconda3\\envs\\learn-env\\lib\\site-packages\\pandas\\io\\sql.py\u001b[0m in \u001b[0;36mexecute\u001b[1;34m(self, *args, **kwargs)\u001b[0m\n\u001b[0;32m   1691\u001b[0m \u001b[1;33m\u001b[0m\u001b[0m\n\u001b[0;32m   1692\u001b[0m             \u001b[0mex\u001b[0m \u001b[1;33m=\u001b[0m \u001b[0mDatabaseError\u001b[0m\u001b[1;33m(\u001b[0m\u001b[1;34mf\"Execution failed on sql '{args[0]}': {exc}\"\u001b[0m\u001b[1;33m)\u001b[0m\u001b[1;33m\u001b[0m\u001b[1;33m\u001b[0m\u001b[0m\n\u001b[1;32m-> 1693\u001b[1;33m             \u001b[1;32mraise\u001b[0m \u001b[0mex\u001b[0m \u001b[1;32mfrom\u001b[0m \u001b[0mexc\u001b[0m\u001b[1;33m\u001b[0m\u001b[1;33m\u001b[0m\u001b[0m\n\u001b[0m\u001b[0;32m   1694\u001b[0m \u001b[1;33m\u001b[0m\u001b[0m\n\u001b[0;32m   1695\u001b[0m     \u001b[1;33m@\u001b[0m\u001b[0mstaticmethod\u001b[0m\u001b[1;33m\u001b[0m\u001b[1;33m\u001b[0m\u001b[0m\n",
      "\u001b[1;31mDatabaseError\u001b[0m: Execution failed on sql '\nSELECT genres, averagerating, numvotes, runtime_minutes\nFROM movie_basics\nJOIN movie_ratings ON movie_ratings.movie_id = movie_basics.movie_id ;          \n          ': no such table: movie_basics"
     ]
    }
   ],
   "source": [
    "data6 = pd.read_sql(datadata, conn)\n",
    "data6"
   ]
  },
  {
   "cell_type": "code",
   "execution_count": null,
   "metadata": {},
   "outputs": [],
   "source": [
    "data6.shape"
   ]
  },
  {
   "cell_type": "code",
   "execution_count": null,
   "metadata": {},
   "outputs": [],
   "source": [
    "data6.info()"
   ]
  },
  {
   "cell_type": "markdown",
   "metadata": {},
   "source": [
    "The data type for each of the varibales is accurate."
   ]
  },
  {
   "cell_type": "code",
   "execution_count": null,
   "metadata": {},
   "outputs": [],
   "source": [
    "# Checking for unique values \n",
    "for column in data6:\n",
    "    unique_values = data6[column].unique()\n",
    "    print(f\"unique values in column'{column}', '\\n':{unique_values}\",'\\n')"
   ]
  },
  {
   "cell_type": "code",
   "execution_count": null,
   "metadata": {},
   "outputs": [],
   "source": [
    "data6.isna().sum()"
   ]
  },
  {
   "cell_type": "markdown",
   "metadata": {},
   "source": [
    "The column genres has 804 missing values which are replaced by unknowns since it has object data values."
   ]
  },
  {
   "cell_type": "code",
   "execution_count": null,
   "metadata": {},
   "outputs": [],
   "source": [
    "# Create a copy of data6 before cleaning\n",
    "dataf6 = data6.copy(deep=True)"
   ]
  },
  {
   "cell_type": "code",
   "execution_count": null,
   "metadata": {},
   "outputs": [],
   "source": [
    "# Replace nulls with the mode of the 'genres' column\n",
    "mode_value = dataf6['genres'].mode()[0]\n",
    "dataf6['genres'].fillna(mode_value, inplace=True)\n",
    "\n"
   ]
  },
  {
   "cell_type": "code",
   "execution_count": null,
   "metadata": {},
   "outputs": [],
   "source": [
    "# check whether to use mean or median\n",
    "dataf6['runtime_minutes'].plot.kde()\n",
    "plt.show()"
   ]
  },
  {
   "cell_type": "code",
   "execution_count": null,
   "metadata": {},
   "outputs": [],
   "source": [
    "dataf6['runtime_minutes'] = dataf6['runtime_minutes'].fillna(dataf6['runtime_minutes'].median())\n"
   ]
  },
  {
   "cell_type": "code",
   "execution_count": null,
   "metadata": {},
   "outputs": [],
   "source": [
    "dataf6.isna().sum()# check nulls again\n"
   ]
  },
  {
   "cell_type": "markdown",
   "metadata": {},
   "source": [
    "Since the a movie can have a combination of two or more genres. For example,:\"Family, Western\" , we have to assume the first genre is the main one."
   ]
  },
  {
   "cell_type": "code",
   "execution_count": null,
   "metadata": {},
   "outputs": [],
   "source": [
    "#select the first genre\n",
    "dataf6['main_genre'] = dataf6['genres'].apply(lambda x: x.split(',')[0])\n"
   ]
  },
  {
   "cell_type": "code",
   "execution_count": null,
   "metadata": {},
   "outputs": [],
   "source": [
    "for column in dataf6:\n",
    "    unique_values = dataf6[column].unique()\n",
    "    print(f\"unique values in column'{column}', '\\n':{unique_values}\",'\\n')"
   ]
  },
  {
   "cell_type": "code",
   "execution_count": null,
   "metadata": {},
   "outputs": [],
   "source": [
    "# Now delete the genres column\n",
    "del dataf6[\"genres\"]"
   ]
  },
  {
   "cell_type": "code",
   "execution_count": null,
   "metadata": {},
   "outputs": [],
   "source": [
    "# Check for negative values in 'runtime'\n",
    "negative_runtimes = dataf6[dataf6['runtime_minutes'] < 0]\n",
    "\n",
    "# Display the result\n",
    "print(negative_runtimes)\n"
   ]
  },
  {
   "cell_type": "markdown",
   "metadata": {},
   "source": [
    "## Exploratory Data Analysis"
   ]
  },
  {
   "cell_type": "code",
   "execution_count": null,
   "metadata": {},
   "outputs": [],
   "source": [
    "## Data 1"
   ]
  },
  {
   "cell_type": "code",
   "execution_count": null,
   "metadata": {},
   "outputs": [],
   "source": [
    "## Data 2"
   ]
  },
  {
   "cell_type": "code",
   "execution_count": null,
   "metadata": {},
   "outputs": [],
   "source": [
    "## Data 3"
   ]
  },
  {
   "cell_type": "code",
   "execution_count": null,
   "metadata": {},
   "outputs": [],
   "source": [
    "## Data 4"
   ]
  },
  {
   "cell_type": "code",
   "execution_count": null,
   "metadata": {},
   "outputs": [],
   "source": [
    "## Data 5"
   ]
  },
  {
   "cell_type": "code",
   "execution_count": null,
   "metadata": {},
   "outputs": [],
   "source": [
    "## Data 6"
   ]
  },
  {
   "cell_type": "markdown",
   "metadata": {},
   "source": [
    "### Univariate Analysis"
   ]
  },
  {
   "cell_type": "code",
   "execution_count": null,
   "metadata": {},
   "outputs": [],
   "source": [
    "sns.histplot(dataf6['averagerating'], kde=True, bins=20)\n",
    "plt.title('Distribution of Average Ratings')\n",
    "plt.xlabel('Average Rating')\n",
    "plt.ylabel('Frequency')\n",
    "plt.show()\n"
   ]
  },
  {
   "cell_type": "code",
   "execution_count": null,
   "metadata": {},
   "outputs": [],
   "source": []
  },
  {
   "cell_type": "code",
   "execution_count": null,
   "metadata": {},
   "outputs": [],
   "source": []
  }
 ],
 "metadata": {
  "kernelspec": {
   "display_name": "Python 3",
   "language": "python",
   "name": "python3"
  },
  "language_info": {
   "codemirror_mode": {
    "name": "ipython",
    "version": 3
   },
   "file_extension": ".py",
   "mimetype": "text/x-python",
   "name": "python",
   "nbconvert_exporter": "python",
   "pygments_lexer": "ipython3",
   "version": "3.8.5"
  }
 },
 "nbformat": 4,
 "nbformat_minor": 4
}
