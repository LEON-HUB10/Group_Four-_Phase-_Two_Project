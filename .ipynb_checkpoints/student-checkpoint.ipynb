{
 "cells": [
  {
   "cell_type": "markdown",
   "metadata": {},
   "source": [
    "## Final Project Submission\n",
    "\n",
    "Please fill out:\n",
    "* Student name: \n",
    "* Student pace: self paced / part time / full time\n",
    "* Scheduled project review date/time: \n",
    "* Instructor name: \n",
    "* Blog post URL:\n"
   ]
  },
  {
   "cell_type": "markdown",
   "metadata": {},
   "source": [
    "# Business Understanding"
   ]
  },
  {
   "cell_type": "markdown",
   "metadata": {},
   "source": [
    "## Problem Statement\n",
    "CineNova Studios is exploring an expansion into the film industry and aims to produce high-grossing movies similar to those created by major film studios. However, the company currently lacks experience in this domain and needs strategic direction. To inform its entry, CineNova is seeking insights into current market trends—specifically, which types of movies are generating the highest revenue."
   ]
  },
  {
   "cell_type": "markdown",
   "metadata": {},
   "source": [
    "## Objectives\n",
    "i) Identify the most profitable movie genres currently dominating the box office.\n",
    "\n",
    "ii) Evaluate key factors (e.g. genre, budget, release date) that contribute to a film’s financial success.\n",
    "\n",
    "iii) Analyze audience reception and critical ratings to understand their influence on box office performance.\n",
    "\n",
    "iv) Quantify the relationship between production budgets and revenue to determine optimal investment levels.\n",
    "\n",
    "v) Assess market trends over recent years to identify emerging opportunities for new film content."
   ]
  },
  {
   "cell_type": "markdown",
   "metadata": {},
   "source": [
    "## Data Understanding\n",
    "A total of 5 datasets and a database were used in the project.\n",
    "bom.movie_gross.csv which has 3387 rows and 5 columns \n",
    "tmd.movies.csv which has 26,517 rows and 10 columns.\n",
    "tn.movie_budgets.csv which has 5782 rows and 6 columns.\n",
    "rt.movie_info.tsv which has 156o rows and 12 columns.\n",
    "rt.reviews.tsv which has 54432 rows and 8 columns\n",
    "im.db where genres, averagerating, numvotes were extracted from the database and converted to a dataframe with 73,856 rows and 3 columns"
   ]
  },
  {
   "cell_type": "markdown",
   "metadata": {},
   "source": [
    "## Data Cleaning"
   ]
  },
  {
   "cell_type": "code",
<<<<<<< HEAD
   "execution_count": 1,
   "metadata": {},
   "outputs": [
    {
     "name": "stdout",
     "output_type": "stream",
     "text": [
      "Intel MKL WARNING: Support of Intel(R) Streaming SIMD Extensions 4.2 (Intel(R) SSE4.2) enabled only processors has been deprecated. Intel oneAPI Math Kernel Library 2025.0 will require Intel(R) Advanced Vector Extensions (Intel(R) AVX) instructions.\n",
      "Intel MKL WARNING: Support of Intel(R) Streaming SIMD Extensions 4.2 (Intel(R) SSE4.2) enabled only processors has been deprecated. Intel oneAPI Math Kernel Library 2025.0 will require Intel(R) Advanced Vector Extensions (Intel(R) AVX) instructions.\n"
     ]
    }
   ],
=======
   "execution_count": 2,
   "metadata": {},
   "outputs": [],
>>>>>>> 800f0c325ecfb7193fdc7bea96aaaa54816eeaa2
   "source": [
    "# Your code here - remember to use markdown cells for comments as well!\n",
    "import pandas as pd\n",
    "import numpy as np\n",
    "import matplotlib.pyplot as plt\n",
    "import seaborn as sns\n",
    "import scipy.stats as stats\n"
   ]
  },
  {
   "cell_type": "code",
<<<<<<< HEAD
   "execution_count": 2,
=======
   "execution_count": 3,
>>>>>>> 800f0c325ecfb7193fdc7bea96aaaa54816eeaa2
   "metadata": {},
   "outputs": [
    {
     "data": {
      "text/html": [
       "<div>\n",
       "<style scoped>\n",
       "    .dataframe tbody tr th:only-of-type {\n",
       "        vertical-align: middle;\n",
       "    }\n",
       "\n",
       "    .dataframe tbody tr th {\n",
       "        vertical-align: top;\n",
       "    }\n",
       "\n",
       "    .dataframe thead th {\n",
       "        text-align: right;\n",
       "    }\n",
       "</style>\n",
       "<table border=\"1\" class=\"dataframe\">\n",
       "  <thead>\n",
       "    <tr style=\"text-align: right;\">\n",
       "      <th></th>\n",
       "      <th>title</th>\n",
       "      <th>studio</th>\n",
       "      <th>domestic_gross</th>\n",
       "      <th>foreign_gross</th>\n",
       "      <th>year</th>\n",
       "    </tr>\n",
       "  </thead>\n",
       "  <tbody>\n",
       "    <tr>\n",
       "      <th>0</th>\n",
       "      <td>Toy Story 3</td>\n",
       "      <td>BV</td>\n",
       "      <td>415000000.0</td>\n",
       "      <td>652000000</td>\n",
       "      <td>2010</td>\n",
       "    </tr>\n",
       "    <tr>\n",
       "      <th>1</th>\n",
       "      <td>Alice in Wonderland (2010)</td>\n",
       "      <td>BV</td>\n",
       "      <td>334200000.0</td>\n",
       "      <td>691300000</td>\n",
       "      <td>2010</td>\n",
       "    </tr>\n",
       "    <tr>\n",
       "      <th>2</th>\n",
       "      <td>Harry Potter and the Deathly Hallows Part 1</td>\n",
       "      <td>WB</td>\n",
       "      <td>296000000.0</td>\n",
       "      <td>664300000</td>\n",
       "      <td>2010</td>\n",
       "    </tr>\n",
       "    <tr>\n",
       "      <th>3</th>\n",
       "      <td>Inception</td>\n",
       "      <td>WB</td>\n",
       "      <td>292600000.0</td>\n",
       "      <td>535700000</td>\n",
       "      <td>2010</td>\n",
       "    </tr>\n",
       "    <tr>\n",
       "      <th>4</th>\n",
       "      <td>Shrek Forever After</td>\n",
       "      <td>P/DW</td>\n",
       "      <td>238700000.0</td>\n",
       "      <td>513900000</td>\n",
       "      <td>2010</td>\n",
       "    </tr>\n",
       "    <tr>\n",
       "      <th>...</th>\n",
       "      <td>...</td>\n",
       "      <td>...</td>\n",
       "      <td>...</td>\n",
       "      <td>...</td>\n",
       "      <td>...</td>\n",
       "    </tr>\n",
       "    <tr>\n",
       "      <th>3382</th>\n",
       "      <td>The Quake</td>\n",
       "      <td>Magn.</td>\n",
       "      <td>6200.0</td>\n",
       "      <td>NaN</td>\n",
       "      <td>2018</td>\n",
       "    </tr>\n",
       "    <tr>\n",
       "      <th>3383</th>\n",
       "      <td>Edward II (2018 re-release)</td>\n",
       "      <td>FM</td>\n",
       "      <td>4800.0</td>\n",
       "      <td>NaN</td>\n",
       "      <td>2018</td>\n",
       "    </tr>\n",
       "    <tr>\n",
       "      <th>3384</th>\n",
       "      <td>El Pacto</td>\n",
       "      <td>Sony</td>\n",
       "      <td>2500.0</td>\n",
       "      <td>NaN</td>\n",
       "      <td>2018</td>\n",
       "    </tr>\n",
       "    <tr>\n",
       "      <th>3385</th>\n",
       "      <td>The Swan</td>\n",
       "      <td>Synergetic</td>\n",
       "      <td>2400.0</td>\n",
       "      <td>NaN</td>\n",
       "      <td>2018</td>\n",
       "    </tr>\n",
       "    <tr>\n",
       "      <th>3386</th>\n",
       "      <td>An Actor Prepares</td>\n",
       "      <td>Grav.</td>\n",
       "      <td>1700.0</td>\n",
       "      <td>NaN</td>\n",
       "      <td>2018</td>\n",
       "    </tr>\n",
       "  </tbody>\n",
       "</table>\n",
       "<p>3387 rows × 5 columns</p>\n",
       "</div>"
      ],
      "text/plain": [
       "                                            title      studio  domestic_gross  \\\n",
       "0                                     Toy Story 3          BV     415000000.0   \n",
       "1                      Alice in Wonderland (2010)          BV     334200000.0   \n",
       "2     Harry Potter and the Deathly Hallows Part 1          WB     296000000.0   \n",
       "3                                       Inception          WB     292600000.0   \n",
       "4                             Shrek Forever After        P/DW     238700000.0   \n",
       "...                                           ...         ...             ...   \n",
       "3382                                    The Quake       Magn.          6200.0   \n",
       "3383                  Edward II (2018 re-release)          FM          4800.0   \n",
       "3384                                     El Pacto        Sony          2500.0   \n",
       "3385                                     The Swan  Synergetic          2400.0   \n",
       "3386                            An Actor Prepares       Grav.          1700.0   \n",
       "\n",
       "     foreign_gross  year  \n",
       "0        652000000  2010  \n",
       "1        691300000  2010  \n",
       "2        664300000  2010  \n",
       "3        535700000  2010  \n",
       "4        513900000  2010  \n",
       "...            ...   ...  \n",
       "3382           NaN  2018  \n",
       "3383           NaN  2018  \n",
       "3384           NaN  2018  \n",
       "3385           NaN  2018  \n",
       "3386           NaN  2018  \n",
       "\n",
       "[3387 rows x 5 columns]"
      ]
     },
<<<<<<< HEAD
     "execution_count": 2,
=======
     "execution_count": 3,
>>>>>>> 800f0c325ecfb7193fdc7bea96aaaa54816eeaa2
     "metadata": {},
     "output_type": "execute_result"
    }
   ],
   "source": [
<<<<<<< HEAD
    "data1 = pd.read_csv('zippedData/bom.movie_gross.csv.gz')\n",
=======
    "data1 = pd.read_csv('bom.movie_gross.csv')\n",
>>>>>>> 800f0c325ecfb7193fdc7bea96aaaa54816eeaa2
    "data1"
   ]
  },
  {
   "cell_type": "code",
<<<<<<< HEAD
   "execution_count": 3,
=======
   "execution_count": 4,
>>>>>>> 800f0c325ecfb7193fdc7bea96aaaa54816eeaa2
   "metadata": {},
   "outputs": [
    {
     "data": {
      "text/plain": [
       "(3387, 5)"
      ]
     },
<<<<<<< HEAD
     "execution_count": 3,
=======
     "execution_count": 4,
>>>>>>> 800f0c325ecfb7193fdc7bea96aaaa54816eeaa2
     "metadata": {},
     "output_type": "execute_result"
    }
   ],
   "source": [
    "data1.shape"
   ]
  },
  {
   "cell_type": "code",
<<<<<<< HEAD
   "execution_count": 4,
=======
   "execution_count": 5,
>>>>>>> 800f0c325ecfb7193fdc7bea96aaaa54816eeaa2
   "metadata": {},
   "outputs": [
    {
     "data": {
      "text/html": [
       "<div>\n",
       "<style scoped>\n",
       "    .dataframe tbody tr th:only-of-type {\n",
       "        vertical-align: middle;\n",
       "    }\n",
       "\n",
       "    .dataframe tbody tr th {\n",
       "        vertical-align: top;\n",
       "    }\n",
       "\n",
       "    .dataframe thead th {\n",
       "        text-align: right;\n",
       "    }\n",
       "</style>\n",
       "<table border=\"1\" class=\"dataframe\">\n",
       "  <thead>\n",
       "    <tr style=\"text-align: right;\">\n",
       "      <th></th>\n",
       "      <th>domestic_gross</th>\n",
       "      <th>year</th>\n",
       "    </tr>\n",
       "  </thead>\n",
       "  <tbody>\n",
       "    <tr>\n",
       "      <th>count</th>\n",
       "      <td>3.359000e+03</td>\n",
       "      <td>3387.000000</td>\n",
       "    </tr>\n",
       "    <tr>\n",
       "      <th>mean</th>\n",
       "      <td>2.874585e+07</td>\n",
       "      <td>2013.958075</td>\n",
       "    </tr>\n",
       "    <tr>\n",
       "      <th>std</th>\n",
       "      <td>6.698250e+07</td>\n",
       "      <td>2.478141</td>\n",
       "    </tr>\n",
       "    <tr>\n",
       "      <th>min</th>\n",
       "      <td>1.000000e+02</td>\n",
       "      <td>2010.000000</td>\n",
       "    </tr>\n",
       "    <tr>\n",
       "      <th>25%</th>\n",
       "      <td>1.200000e+05</td>\n",
       "      <td>2012.000000</td>\n",
       "    </tr>\n",
       "    <tr>\n",
       "      <th>50%</th>\n",
       "      <td>1.400000e+06</td>\n",
       "      <td>2014.000000</td>\n",
       "    </tr>\n",
       "    <tr>\n",
       "      <th>75%</th>\n",
       "      <td>2.790000e+07</td>\n",
       "      <td>2016.000000</td>\n",
       "    </tr>\n",
       "    <tr>\n",
       "      <th>max</th>\n",
       "      <td>9.367000e+08</td>\n",
       "      <td>2018.000000</td>\n",
       "    </tr>\n",
       "  </tbody>\n",
       "</table>\n",
       "</div>"
      ],
      "text/plain": [
       "       domestic_gross         year\n",
       "count    3.359000e+03  3387.000000\n",
       "mean     2.874585e+07  2013.958075\n",
       "std      6.698250e+07     2.478141\n",
       "min      1.000000e+02  2010.000000\n",
       "25%      1.200000e+05  2012.000000\n",
       "50%      1.400000e+06  2014.000000\n",
       "75%      2.790000e+07  2016.000000\n",
       "max      9.367000e+08  2018.000000"
      ]
     },
<<<<<<< HEAD
     "execution_count": 4,
=======
     "execution_count": 5,
>>>>>>> 800f0c325ecfb7193fdc7bea96aaaa54816eeaa2
     "metadata": {},
     "output_type": "execute_result"
    }
   ],
   "source": [
    "data1.describe()"
   ]
  },
  {
   "cell_type": "code",
<<<<<<< HEAD
   "execution_count": 5,
=======
   "execution_count": 6,
>>>>>>> 800f0c325ecfb7193fdc7bea96aaaa54816eeaa2
   "metadata": {},
   "outputs": [
    {
     "name": "stdout",
     "output_type": "stream",
     "text": [
      "<class 'pandas.core.frame.DataFrame'>\n",
      "RangeIndex: 3387 entries, 0 to 3386\n",
      "Data columns (total 5 columns):\n",
      " #   Column          Non-Null Count  Dtype  \n",
      "---  ------          --------------  -----  \n",
      " 0   title           3387 non-null   object \n",
      " 1   studio          3382 non-null   object \n",
      " 2   domestic_gross  3359 non-null   float64\n",
      " 3   foreign_gross   2037 non-null   object \n",
      " 4   year            3387 non-null   int64  \n",
      "dtypes: float64(1), int64(1), object(3)\n",
      "memory usage: 132.4+ KB\n"
     ]
    }
   ],
   "source": [
    "data1.info()"
   ]
  },
  {
   "cell_type": "markdown",
   "metadata": {},
   "source": [
    "The data types are accurate for each of the variables except for foreign_gross"
   ]
  },
  {
   "cell_type": "code",
<<<<<<< HEAD
   "execution_count": 6,
=======
   "execution_count": 7,
>>>>>>> 800f0c325ecfb7193fdc7bea96aaaa54816eeaa2
   "metadata": {},
   "outputs": [],
   "source": [
    "# Create a dataframe copy to be used in data cleaning for the first data set\n",
    "dataf1=data1.copy(deep=True)"
   ]
  },
  {
   "cell_type": "code",
<<<<<<< HEAD
   "execution_count": 7,
=======
   "execution_count": 8,
>>>>>>> 800f0c325ecfb7193fdc7bea96aaaa54816eeaa2
   "metadata": {},
   "outputs": [],
   "source": [
    "# change data type\n",
    "dataf1['foreign_gross'] = dataf1['foreign_gross'].str.replace(',', '', regex=False).astype(float)"
   ]
  },
  {
   "cell_type": "code",
<<<<<<< HEAD
   "execution_count": 8,
=======
   "execution_count": 9,
>>>>>>> 800f0c325ecfb7193fdc7bea96aaaa54816eeaa2
   "metadata": {},
   "outputs": [
    {
     "name": "stdout",
     "output_type": "stream",
     "text": [
      "<class 'pandas.core.frame.DataFrame'>\n",
      "RangeIndex: 3387 entries, 0 to 3386\n",
      "Data columns (total 5 columns):\n",
      " #   Column          Non-Null Count  Dtype  \n",
      "---  ------          --------------  -----  \n",
      " 0   title           3387 non-null   object \n",
      " 1   studio          3382 non-null   object \n",
      " 2   domestic_gross  3359 non-null   float64\n",
      " 3   foreign_gross   2037 non-null   float64\n",
      " 4   year            3387 non-null   int64  \n",
      "dtypes: float64(2), int64(1), object(2)\n",
      "memory usage: 132.4+ KB\n"
     ]
    }
   ],
   "source": [
    "dataf1.info()"
   ]
  },
  {
   "cell_type": "code",
<<<<<<< HEAD
   "execution_count": 9,
=======
   "execution_count": 10,
>>>>>>> 800f0c325ecfb7193fdc7bea96aaaa54816eeaa2
   "metadata": {},
   "outputs": [
    {
     "name": "stdout",
     "output_type": "stream",
     "text": [
      "unique values in column'title', '\n",
      "':['Toy Story 3' 'Alice in Wonderland (2010)'\n",
      " 'Harry Potter and the Deathly Hallows Part 1' ... 'El Pacto' 'The Swan'\n",
      " 'An Actor Prepares'] \n",
      "\n",
      "unique values in column'studio', '\n",
      "':['BV' 'WB' 'P/DW' 'Sum.' 'Par.' 'Uni.' 'Fox' 'Wein.' 'Sony' 'FoxS' 'SGem'\n",
      " 'WB (NL)' 'LGF' 'MBox' 'CL' 'W/Dim.' 'CBS' 'Focus' 'MGM' 'Over.' 'Mira.'\n",
      " 'IFC' 'CJ' 'NM' 'SPC' 'ParV' 'Gold.' 'JS' 'RAtt.' 'Magn.' 'Free' '3D'\n",
      " 'UTV' 'Rela.' 'Zeit.' 'Anch.' 'PDA' 'Lorb.' 'App.' 'Drft.' 'Osci.' 'IW'\n",
      " 'Rog.' nan 'Eros' 'Relbig.' 'Viv.' 'Hann.' 'Strand' 'NGE' 'Scre.' 'Kino'\n",
      " 'Abr.' 'CZ' 'ATO' 'First' 'GK' 'FInd.' 'NFC' 'TFC' 'Pala.' 'Imag.' 'NAV'\n",
      " 'Arth.' 'CLS' 'Mont.' 'Olive' 'CGld' 'FOAK' 'IVP' 'Yash' 'ICir' 'FM'\n",
      " 'Vita.' 'WOW' 'Truly' 'Indic.' 'FD' 'Vari.' 'TriS' 'ORF' 'IM' 'Elev.'\n",
      " 'Cohen' 'NeoC' 'Jan.' 'MNE' 'Trib.' 'Rocket' 'OMNI/FSR' 'KKM' 'Argo.'\n",
      " 'SMod' 'Libre' 'FRun' 'WHE' 'P4' 'KC' 'SD' 'AM' 'MPFT' 'Icar.' 'AGF'\n",
      " 'A23' 'Da.' 'NYer' 'Rialto' 'DF' 'KL' 'ALP' 'LG/S' 'WGUSA' 'MPI' 'RTWC'\n",
      " 'FIP' 'RF' 'ArcEnt' 'PalUni' 'EpicPics' 'EOne' 'LD' 'AF' 'TFA' 'Myr.'\n",
      " 'BM&DH' 'SEG' 'PalT' 'Outs' 'OutF' 'BSM' 'WAMCR' 'PM&E' 'A24' 'Cdgm.'\n",
      " 'Distrib.' 'Imax' 'PH' 'HTR' 'ELS' 'PI' 'E1' 'TVC' 'FEF' 'EXCL' 'MSF'\n",
      " 'P/108' 'FCW' 'XL' 'Shout!' 'SV' 'CE' 'VPD' 'KE' 'Saban' 'CF&SR' 'Triu'\n",
      " 'DR' 'Crnth' 'Ampl.' 'CP' 'Proud' 'BGP' 'Abk.' 'DLA' 'B360' 'BWP' 'SEA'\n",
      " 'RME' 'KS' 'VE' 'LGP' 'EC' 'FUN' 'STX' 'AR' 'BG' 'PFR' 'BST' 'BH Tilt'\n",
      " 'BSC' 'U/P' 'UHE' 'CLF' 'FR' 'AaF' 'Orch.' 'Alc' 'PBS' 'SHO' 'Grav.'\n",
      " 'Gathr' 'Asp.' 'ADC' 'Rel.' 'SM' 'AZ' 'UEP' 'ITL' 'TA' 'MR' 'BBC'\n",
      " 'CFilms' 'Part.' 'FOR' 'TAFC' 'JBG' 'PNT' 'CineGalaxy' 'Fathom' 'Zee'\n",
      " 'Men.' 'YFG' 'Gaatri' 'Mon' 'Ghop' 'Cleopatra' 'Dreamwest' 'SDS' 'Linn'\n",
      " 'Electric' 'Jampa' 'HC' 'GrtIndia' 'Neon' 'ENTMP' 'Good Deed' 'ParC'\n",
      " 'Aviron' 'Annapurna' 'Amazon' 'Affirm' 'MOM' 'Orion' 'CFI' 'UTMW'\n",
      " 'Crimson' 'CAVU' 'EF' 'Arrow' 'Hiber' 'Studio 8' 'Global Road'\n",
      " 'Trafalgar' 'Greenwich' 'Spanglish' 'Blue Fox' 'RLJ' 'Swen' 'PackYourBag'\n",
      " 'Gaum.' 'Grindstone' 'Conglomerate' 'MUBI' 'Darin Southa' 'Super'\n",
      " 'CARUSEL' 'PDF' 'Synergetic'] \n",
      "\n",
      "unique values in column'domestic_gross', '\n",
      "':[4.150e+08 3.342e+08 2.960e+08 ... 2.070e+04 1.290e+04 2.400e+03] \n",
      "\n",
      "unique values in column'foreign_gross', '\n",
      "':[6.520e+08 6.913e+08 6.643e+08 ... 5.300e+05 2.560e+05 3.000e+04] \n",
      "\n",
      "unique values in column'year', '\n",
      "':[2010 2011 2012 2013 2014 2015 2016 2017 2018] \n",
      "\n"
     ]
    }
   ],
   "source": [
    "# Checking for unique values\n",
    "for column in dataf1:\n",
    "    unique_values = dataf1[column].unique()\n",
    "    print(f\"unique values in column'{column}', '\\n':{unique_values}\",'\\n')"
   ]
  },
  {
   "cell_type": "code",
<<<<<<< HEAD
   "execution_count": 10,
=======
   "execution_count": 11,
>>>>>>> 800f0c325ecfb7193fdc7bea96aaaa54816eeaa2
   "metadata": {},
   "outputs": [
    {
     "data": {
      "text/plain": [
       "(3387, 5)"
      ]
     },
<<<<<<< HEAD
     "execution_count": 10,
=======
     "execution_count": 11,
>>>>>>> 800f0c325ecfb7193fdc7bea96aaaa54816eeaa2
     "metadata": {},
     "output_type": "execute_result"
    }
   ],
   "source": [
    "# Drop Duplicates\n",
    "dataf1=dataf1.drop_duplicates()\n",
    "dataf1.shape"
   ]
  },
  {
   "cell_type": "markdown",
   "metadata": {},
   "source": [
    "The dataset's shape remains the same hence no duplicates were found."
   ]
  },
  {
   "cell_type": "code",
<<<<<<< HEAD
   "execution_count": 11,
=======
   "execution_count": 12,
>>>>>>> 800f0c325ecfb7193fdc7bea96aaaa54816eeaa2
   "metadata": {},
   "outputs": [
    {
     "data": {
      "text/plain": [
       "Index(['title', 'studio', 'domestic_gross', 'foreign_gross', 'year'], dtype='object')"
      ]
     },
<<<<<<< HEAD
     "execution_count": 11,
=======
     "execution_count": 12,
>>>>>>> 800f0c325ecfb7193fdc7bea96aaaa54816eeaa2
     "metadata": {},
     "output_type": "execute_result"
    }
   ],
   "source": [
    "# Check column names\n",
    "dataf1.columns\n"
   ]
  },
  {
   "cell_type": "code",
<<<<<<< HEAD
   "execution_count": 12,
=======
   "execution_count": 13,
>>>>>>> 800f0c325ecfb7193fdc7bea96aaaa54816eeaa2
   "metadata": {},
   "outputs": [
    {
     "data": {
      "text/plain": [
       "Index(['title', 'domestic_gross', 'foreign_gross', 'year'], dtype='object')"
      ]
     },
<<<<<<< HEAD
     "execution_count": 12,
=======
     "execution_count": 13,
>>>>>>> 800f0c325ecfb7193fdc7bea96aaaa54816eeaa2
     "metadata": {},
     "output_type": "execute_result"
    }
   ],
   "source": [
    "# Drop unneccessary columns\n",
    "del dataf1[\"studio\"]\n",
    "dataf1.columns"
   ]
  },
  {
   "cell_type": "code",
<<<<<<< HEAD
   "execution_count": 13,
=======
   "execution_count": 14,
>>>>>>> 800f0c325ecfb7193fdc7bea96aaaa54816eeaa2
   "metadata": {},
   "outputs": [
    {
     "data": {
      "text/plain": [
       "title                0\n",
       "domestic_gross      28\n",
       "foreign_gross     1350\n",
       "year                 0\n",
       "dtype: int64"
      ]
     },
<<<<<<< HEAD
     "execution_count": 13,
=======
     "execution_count": 14,
>>>>>>> 800f0c325ecfb7193fdc7bea96aaaa54816eeaa2
     "metadata": {},
     "output_type": "execute_result"
    }
   ],
   "source": [
    "# Check missing values\n",
    "dataf1.isna().sum()"
   ]
  },
  {
   "cell_type": "code",
<<<<<<< HEAD
   "execution_count": 14,
=======
   "execution_count": 15,
>>>>>>> 800f0c325ecfb7193fdc7bea96aaaa54816eeaa2
   "metadata": {},
   "outputs": [
    {
     "data": {
<<<<<<< HEAD
<<<<<<< HEAD
      "image/png": "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",
      "text/plain": [
       "<Figure size 640x480 with 1 Axes>"
      ]
     },
     "metadata": {},
=======
      "image/png": "iVBORw0KGgoAAAANSUhEUgAAAYIAAAEQCAYAAAC9VHPBAAAAOXRFWHRTb2Z0d2FyZQBNYXRwbG90bGliIHZlcnNpb24zLjMuMSwgaHR0cHM6Ly9tYXRwbG90bGliLm9yZy/d3fzzAAAACXBIWXMAAAsTAAALEwEAmpwYAAAf5UlEQVR4nO3dfZRcdZ3n8fe3Hrq6O51OSDqBkATCk6D4CDEguCPOjI5kdBmfjjoq6uCgs+KOs+ucw+iu444zZ13PjjvjorBZ5SjqoscVnejiuIzDiDsYJDBEHgIhIJiGkDSEpPPQD1V1v/vHvVWp7qrqvt2pW9V96/M6p0/dug9V33RX+tO/h3uvuTsiItK9Mp0uQEREOktBICLS5RQEIiJdTkEgItLlFAQiIl1OQSAi0uUWZRCY2Y1mtt/MHmjR633OzB40s51m9gUzs1a8rojIYrAogwD4KvCGVryQmV0CXAq8FHgx8ErgNa14bRGRxWBRBoG73wEcqF1nZmeZ2d+b2T1m9jMzOy/uywG9QA9QAPLAvpYWLCKygC3KIGhiC/BRd78Q+DjwpTgHufvPgduBvdHXj919Z2JViogsMLlOF9AKZjYAXAJ8p6Z7vxBtewvwFw0Oe8rdf8fMzgZeCKyL1t9mZr8RtTpERFIvFUFA2LI56O4vn77B3W8Bbpnh2DcD29z9CICZ/Qi4GFAQiEhXSEXXkLuPAr8ys7cDWOhlMQ//NfAaM8uZWZ5woFhdQyLSNRZlEJjZzcDPgXPNbNjMrgLeDVxlZjuAB4ErYr7c/wYeA+4HdgA73P0HCZQtIrIgmS5DLSLS3RZli0BERFpn0Q0WDw0N+YYNGzpdhojIonLPPfc86+6rGm1bdEGwYcMGtm/f3ukyREQWFTN7stk2dQ2JiHQ5BYGISJdTEIiIdDkFgYhIl1MQiIh0OQWBiEiXUxCIiHQ5BYE0defuZ3l03+FOlyEiCVt0J5RJe7g7v//luwB44rO/2+FqRCRJahFIQyOHJzpdgoi0iYJAGnpmdLy6rCvUiqSbgkAaOjxeqi6PF4MOViIiSVMQSEOHx4vV5dGaZRFJHwWBNDRa0yIYHVMQiKRZYkFgZuvN7HYz22lmD5rZHzfYx8zsC2a228x+aWYXJFWPzE3tL/9DCgKRVEty+mgJ+Pfufq+ZLQXuMbPb3P2hmn0uB86Jvi4Cro8epcPGJsvV5WM1yyKSPom1CNx9r7vfGy0fBnYCa6ftdgVwk4e2AcvNbE1SNUl8E6Wg4bKIpE9bxgjMbAPwCuCuaZvWAntqng9THxaY2dVmtt3Mto+MjCRWpxw3UTreChgvqkUgkmaJB4GZDQDfBT7m7qPTNzc4pG7SurtvcfeN7r5x1aqGt9yUFqttBSgIRNIt0SAwszxhCHzT3W9psMswsL7m+Trg6SRrkngmigGZKKbH1TUkkmpJzhoy4CvATnf/fJPdtgJXRrOHLgYOufvepGqS+CZKZZb15cNltQhEUi3JWUOXAu8F7jez+6J1nwBOA3D3G4Bbgc3AbuAY8IEE65E5mCgFLOvL8/yxogaLRVIusSBw9/9H4zGA2n0c+EhSNcj8TZQCBnpzmGmMQCTtdGaxNDRRKtOby1LIZdQiEEk5BYE0NFEMKOQz9OazahGIpJyCQBqaKAUUcll6cwoCkbRTEEhDE6UyhVyGQj6jy1CLpJyCQBoKWwQZenPZKWcZi0j6KAikoYli1DWkFoFI6ikIpKGJUplCPkNBg8UiqacgkIYqXUOaPiqSfgoCaag6a0gtApHUUxBInVI5oBx4OFicz6pFIJJyCgKpU/nFX8hn6MlmmFQQiKSagkDqVIKgJ5uhJ2cUywoCkTRTEEidyi/+fC5DPptREIiknIJA6lSDIFMJgrqbxolIiigIpE4p+sWfyxr5bIZJtQhEUk1BIHVKQfiLP5fN0JMNxwjCW0eISBopCKROpSsonwlbBO5QDhQEImmlIJA6x7uGMuRz4UdE4wQi6aUgkDrFatdQ2CIANE4gkmIKAqlTqnYNhWMEgKaQiqSYgkDqlMr1LQIFgUh6KQikTjEaGM7XBkFJYwQiaaUgkDrVFkHm+GCxxghE0ktBIHWKNSeUaYxAJP0UBFKnckJZPpvRGIFIF1AQSJ3qeQQZDRaLdAMFgdSpXnSupkWgm9OIpJeCQOqUgpoxglxljECzhkTSSkEgdabMGqpOH1WLQCStFARSp3rROZ1QJtIVFARSp/Yy1LrWkEj6KQikTrFm1lBPVlcfFUk7BYHUmTJrKKcTykTSTkEgdUplxwyyOo9ApCsoCKROMQiqAVAdI9CsIZHUUhBInVLZyWfCLiGNEYikn4JA6pTKAblqi0BjBCJppyCQOsXAqwGQy2bImIJAJM0SCwIzu9HM9pvZA022X2Zmh8zsvujrU0nVInNTKgfkMsc/GvlsRucRiKRYLsHX/ipwHXDTDPv8zN3fmGANMg+lspOLWgQQjhPoDmUi6ZVYi8Dd7wAOJPX6kpywa6imRZDLqGtIJMU6PUbwKjPbYWY/MrPzO1yLRMKuoeMtgnzWFAQiKZZk19Bs7gVOd/cjZrYZ+D5wTqMdzexq4GqA0047rW0Fdqti2auzhkBjBCJp17EWgbuPuvuRaPlWIG9mQ0323eLuG91946pVq9paZzcqBUF11hBEYwQ6j0AktToWBGZ2iplZtLwpquW5TtUjx5XKPq1rKKP7EYikWGJdQ2Z2M3AZMGRmw8CfA3kAd78BeBvwR2ZWAsaAd7q7/uxcAIo1J5QB5HMaIxBJs8SCwN3fNcv26winl8oCUwqc3rzGCES6RadnDckC1OiEMrUIRNJLQSB1imXXYLFIF1EQSJ1SML1FoDECkTRTEEid6ZeYyGczuh+BSIopCKRO7Y1pQJeYEEk7BYHUmX4egcYIRNJNQSB16s4j0BiBSKopCKTO9FlDmj4qkm4KAqnT8MY0GiwWSS0FgdQpBk4+VzNGkNMYgUiaKQikTqkckNd5BCJdQ0EgUwSBEzh15xGUAicI1CoQSSMFgUxRDMK//PPTbkxTu01E0kVBIFOUorGA6ecRABonEEkpBYFMUQ2CaecRAJo5JJJSCgKZ4njXUM0YQa7SIlAQiKSRgkCmON41dPyjUekaUotAJJ0UBDJF5a/+2llDPVGLQHcpE0knBYFMUYqmiE6/MQ2oRSCSVgoCmaJUaRFkGkwfVYtAJJUUBDJFZYpovlHXkFoEIqkUKwjM7Ltm9rtmpuBIuVLQvEWgMQKRdIr7i/164PeBR83ss2Z2XoI1SQcVq+cRqEUg0i1iBYG7/4O7vxu4AHgCuM3M7jSzD5hZPskCpb0qYwS1l5go5HRmsUiaxe7qMbOVwPuBDwL/AvwtYTDclkhl0hGVWUO1l5jIa9aQSKrl4uxkZrcA5wFfB97k7nujTd82s+1JFSftd/w8gpoTynRmsUiqxQoC4MvufmvtCjMruPuEu29MoC7pkFKDWUO61pBIusXtGvrLBut+3spCZGFoNGtIZxaLpNuMLQIzOwVYC/SZ2SuAyp+Jg0B/wrVJB0w2Oo9AYwQiqTZb19DvEA4QrwM+X7P+MPCJhGqSDirNMEagFoFIOs0YBO7+NeBrZvZWd/9um2qSDmp0Y5rqJSbUIhBJpdm6ht7j7t8ANpjZv5u+3d0/3+AwWcQq9yOotAIgDAUztQhE0mq2rqEl0eNA0oXIwtCoRWBm5LMZBYFISs3WNfQ/osf/1J5ypNManUcAUMhmNFgsklJxLzr3OTMbNLO8mf3EzJ41s/ckXZy0X6P7EUB4u0qdUCaSTnHPI3i9u48CbwSGgRcAf5pYVdIxje5HAOEUUrUIRNIpbhBULiy3GbjZ3Q8kVI90WKP7EQDkc6aLzomkVNxLTPzAzB4GxoB/Y2argPHkypJOKQUB2YxhNjUI1CIQSa+4l6G+FngVsNHdi8BR4IokC5POKJV9yoyhCs0aEkmvuC0CgBcSnk9Qe8xNzXY2sxsJxxT2u/uLG2w3wktZbwaOAe9393vnUI8koFj2KfciqCjk1CIQSau4l6H+OnAWcB9QjlY7MwQB8FXguhn2uRw4J/q6iPAuaBfFqUeSUwqCKXcnq+jRrCGR1IrbItgIvMjdY48WuvsdZrZhhl2uAG6KXnObmS03szU19zqQDiiWvW7GEERdQ2oRiKRS3FlDDwCntPi91wJ7ap4PR+vqmNnVZrbdzLaPjIy0uAypVSoH9KhFINJV4rYIhoCHzOwXwERlpbv/6xN47/rfNmF3U/1K9y3AFoCNGzdqDmOCiuWg7qxiCFsEE2oRiKRS3CD4dALvPQysr3m+Dng6gfeROSgGXncOAahFIJJmcaeP/hR4AshHy3cDJzrDZytwpYUuBg5pfKDziqWg4ayhHk0fFUmtuLOG/hC4GlhBOHtoLXAD8FszHHMzcBkwZGbDwJ8TnaHs7jcAtxJOHd1NOH30A/P9R0jrlILG00d1QplIesXtGvoIsAm4C8DdHzWz1TMd4O7vmmW7R68rC0g4RtDghDJdYkIkteLOGppw98nKk+ikMv1WSKHJpl1DWbUIRFIqbhD81Mw+QXgT+9cB3wF+kFxZ0imlwKs3q6+Vz5nGCERSKm4QXAuMAPcDHyLs3/8PSRUlndOsa6hyY5o5nFMoIotErDECdw/M7PvA991dZ3SlWNNrDeWzAEyUAnqjZRFJhxlbBNHUzk+b2bPAw8AjZjZiZp9qT3nSbsVy0PA8gkJ0M3udVCaSPrN1DX0MuBR4pbuvdPcVhBeGu9TM/iTp4qT9SuXGg8WVVsBEsVy3TUQWt9mC4ErgXe7+q8oKd38ceE+0TVKm2UXnKkEwXlSLQCRtZguCvLs/O31lNE6Qb7C/LHKT5YCe3ExdQ2oRiKTNbEEwOc9tskjN1jWkFoFI+sw2a+hlZjbaYL0BvQnUIx3WvGsoXDeuFoFI6swYBO6ueYJdplgOyDfsGqoMFqtFIJI2cU8oky5RLAfkZ2oRaNaQSOooCKSqHDiBM/MYgbqGRFJHQSBVlRvPNLzERGXWkLqGRFJHQSBVlSBodNE5tQhE0ktBIFWl6H4DjS4x0ZvT9FGRtFIQSNXxrqFGF53TCWUiaaUgkKpiELYIGnUNVcYI1CIQSR8FgVQVS80Hi82MQi6ji86JpJCCQKpKQRgEjaaPQtgq0GWoRdJHQSBVk6Xmg8UAfT1ZxibVIhBJGwWBVFUGi5u1CJb05DimriGR1FEQSFWla6jRrCGA/kKWYxOldpYkIm2gIJCq2bqG+vM5jk4qCETSRkEgVZUWQaPpoxC1CDRGIJI6CgKpmumEMgjHCI6qa0gkdRQEUlWc4RITAP09ahGIpJGCQKpmnTVUUItAJI0UBFI1WxBUWgTu3s6yRCRhCgKpqnQN5TKNu4aWFHKUAmeyrLOLRdJEQSBV1fsR5Jq3CACdXSySMgoCqTp+P4Lms4YAjioIRFJFQSBVM92qEsLzCACdXSySMgoCqaqMETQ7oWxJIWwRHFYQiKSKgkCqqi2CJoPFg715AA6NFdtWk4gkT0EgVaUoCLJNgmB5fxgEowoCkVRREEjVRDmgkMtg1jgIlvWpRSCSRgoCqZooBk2njsLxIDh4TEEgkiaJBoGZvcHMHjGz3WZ2bYPtl5nZITO7L/r6VJL1yMwmSgGFXLbp9nw2w5KerFoEIimTS+qFzSwLfBF4HTAM3G1mW939oWm7/szd35hUHRLfZCnsGprJsr68WgQiKZNki2ATsNvdH3f3SeBbwBUJvp+coIlSefYg6O9Ri0AkZZIMgrXAnprnw9G66V5lZjvM7Edmdn6jFzKzq81su5ltHxkZSaJWIewammmMAGBZX45DY5NtqkhE2iHJIGg09WT6ZSvvBU5395cB/x34fqMXcvct7r7R3TeuWrWqtVVK1UQpoJBvPkYAcFJ/D8+ra0gkVZIMgmFgfc3zdcDTtTu4+6i7H4mWbwXyZjaUYE0yg8kYXUOrlxbYPzrepopEpB2SDIK7gXPM7Awz6wHeCWyt3cHMTrFo0rqZbYrqeS7BmmQGEzEGi1cP9jI6XmK8qAvPiaRFYrOG3L1kZtcAPwaywI3u/qCZfTjafgPwNuCPzKwEjAHvdN31pGMmigErl8zeIgDYPzrBaSv721GWiCQssSCAanfPrdPW3VCzfB1wXZI1SHyT5ZnPIwA4ebAXgH2HxxUEIimhM4ulaqJUnnXW0OrBsEWwT+MEIqmhIJCqieLsYwSnRC2CZw4pCETSQkEgVXEGi5f15RnszfHkc8faVJWIJE1BIFWTMc4jMDM2DC3hieeOtqkqEUmagkAAcPdwjKDJ3clqbVipIBBJEwWBAFAKnMCZtWsIYMPKfp56fkznEoikhIJAgLBbCKCQn/0jcd6aQQKHXfsOJ12WiLSBgkCAcKAYmt+4vtZL1i4D4P6nDiVak4i0h4JAgPAcAmDWwWKAdSf1sawvzwMKApFUUBAIAOPFqGsoxhiBmfHitYM88NRo0mWJSBsoCASAY5MlAPp74l115KXrlvPwM6OMTWrAWGSxUxAIAMeiX+j9PbN3DQFsOmMFxbJzz5PPJ1mWiLSBgkCAuQfBKzesIJsxtj2uq4aLLHYKAgFgbI5dQwOFHC9Zu0xBIJICCgIB5t4iALj4zJXct+dgdXxBRBYnBYEAcHQeQXDJWSspBc5djx9IqiwRaQMFgQDHu4b65hAEm85YQV8+y+2P7E+qLBFpAwWBALVdQ/FvWtebz3Lp2Sv5x4f3ozuMiixeCgIBwiAo5DJkMzan4y47dzXDz4/x2IiuRiqyWCkIBAhPKJvL+EDFZeeuAuCf1D0ksmgpCAQIWwRz6RaqWHdSPy84eYDbHtqXQFUi0g4KAgFgbLI8rxYBwOaXrOEXTxzQfYxFFikFgQDh9NH5BsEbX3oq7vB/7t/b4qpEpB0UBALAkfEiA71z7xoCOHv1AC9aM8jWHU+3uCoRaQcFgQBw8FiR5f098z7+LResZceeg7pHgcgipCAQAA6OFVnel5/38W/fuJ7+niw3/vOvWliViLSDgkAIAufgsUmW988/CJb15XnHK9fzd/c9ze79R1pYnYgkTUEgHJksETicdAJdQwDXvPZs+vJZPvPDh3SmscgioiAQDh0rAuFf9Sdi5UCBj7/+Bfx01whf3/ZkK0oTkTZQEAgHoyA4kcHiivddsoHLzl3FX/5wJ3c+9uwJv56IJE9BIBwcmwQ4oTGCCjPjb97xck5f2c+HbrqHnXt1g3uRhU5BIBw4GgbBSS0IAghbFl/7g00sKeR471d+wa59h1vyuiKSDAWB8NTBMQDWLOtr2WueuryPb3zwIjIG79qyjYeeVstAZKFSEAjDz4+xYkkPSwrzO7O4mbNXD/DtD72KfDbDW6+/k+/9y7BmE4ksQAoCYc+BY6w7qXWtgVpnDC1h6zWX8pK1y/iTb+/gyhvVVSSy0CgIhKeeH2P9Sf2Jvf7qwV7+1x9exH9844vYsecgr/9vd/Der9zFN+96koefGWWyFCT23iIyu9b2BciiM1kKGH5+jNeff0qi75PLZrjq1Wfw5les5RvbnuRbv/g1n/zeAwBkM8aGlf2cs3op5586yGvPW835pw5iNre7pYnI/CgIutwjzxxmshzw4rWDbXm/FUt6+Le/dQ4f/c2zefK5Y+wYPsij+47w6P7D7Np/mB8/9Ax/fdsuTh4s8JvnncwlZ63klGW9rF5a4JRlvRRy87tUtog0l2gQmNkbgL8FssCX3f2z07ZbtH0zcAx4v7vfm2RNMtVPd4W3mNy0YUVb39fM2DC0hA1DS6asf+7IBLc/MsJPdu5j631PcfMvfl3dljFYv6KfM4aWcObQAGesWsJZQ0tYv6KfoYECffO8n4JIt0ssCMwsC3wReB0wDNxtZlvd/aGa3S4Hzom+LgKujx6lDZ45NM43tv2ai85YwerB3k6XA4SXqXjbhet424XrmCiVeXzkKPsPT7B/dJw9B47x2LNHeXzkKNsef47x4tSxhaWFHKuWFhhaWmBZXx4DanuXxosBY8Uy48UyY5NlMmYM9uUY7M0z2JdnsDcXPeZZ2pujJ5dhdKzIobESk+UyqwbCVsmaZX2sWd7LYG+ebMbIZSzxbix3Z7IcUCw7Rtidls0YWTMyGXWhyYlJskWwCdjt7o8DmNm3gCuA2iC4ArjJwzmF28xsuZmtcfeW3+rqp7tG+MwPw7euTGGcMpHRpzxMmeZ4fF3t7l6/rsHMyEbv5dX3avAaDV9rpv2a19loW20hx4plCrkMf7b5hfWFLwCFXJYXrhnkhWvqtwWB88zoOI+PHOXpQ2OMHJ4Iv46Ej3sOHKvuW/k29PZk6c1lWLGkh77lWcqBc3i8xDOj4+zaf5jRsRKHx4sEDX6O2YxRbrShZnvlF7MZZGoeMxa2gGofM2ZRUBmZTGW/cF3gzmQpYKL6VaZYbv7eZpDLhMdXHs0gEy1nat4zM2X98WVFyeLwjleu54P/6syWv26SQbAW2FPzfJj6v/Yb7bMWmBIEZnY1cDXAaaedNq9iBgo5zj15ac2LTnmovM+UdbV/5Nm0faYcO2U/m+HY5vtN/YNyfq/RrM7qtuq/OVxYUsjye69Yy1mrBur2XegyGePU5X2cury1017dnaOTZUbHikyUgmorIWvGgWOTPHNonL2Hxtl7aIyjE2VK5YBS4JQDpxgEuIchFXgY9O7hL/bAK8vhe4TrwpCa8pzwZ1jIZSjkM/Rks/TkMvTkMhRyGfLZ8GdXCpxy2Sl7+N6Vr1Iw9T2Pv0+4PYi2uRM9D79kcRgaKCTyukkGQaM/MqZ/4uLsg7tvAbYAbNy4cV6f2gtPP4kLTz9pPodKFzEzBgo5BhqcXDc0UGBooMCL1y7rQGUiyUnyPIJhYH3N83XA9JvaxtlHREQSlGQQ3A2cY2ZnmFkP8E5g67R9tgJXWuhi4FAS4wMiItJcYl1D7l4ys2uAHxNOH73R3R80sw9H228AbiWcOrqbcProB5KqR0REGkv0PAJ3v5Xwl33tuhtqlh34SJI1iIjIzHStIRGRLqcgEBHpcgoCEZEupyAQEelyttjuGGVmI8CTMXYdAp5NuJwTpRpP3EKvDxZ+jQu9PlCNrXC6u69qtGHRBUFcZrbd3Td2uo6ZqMYTt9Drg4Vf40KvD1Rj0tQ1JCLS5RQEIiJdLs1BsKXTBcSgGk/cQq8PFn6NC70+UI2JSu0YgYiIxJPmFoGIiMSgIBAR6XKLOgjMbIWZ3WZmj0aPDe88Y2ZPmNn9ZnafmW2f6/FJ12hm683sdjPbaWYPmtkf12z7tJk9FdV+n5ltblFdbzCzR8xst5ld22C7mdkXou2/NLML4h7bKjFqfHdU2y/N7E4ze1nNtoY/8zbXd5mZHar52X0q7rFtrPFPa+p7wMzKZrYi2taO7+GNZrbfzB5osn0hfA5nq7Gjn8OWcPdF+wV8Drg2Wr4W+C9N9nsCGJrv8UnXCKwBLoiWlwK7gBdFzz8NfLzFNWWBx4AzgR5gR+X9avbZDPyI8C5yFwN3xT22jTVeApwULV9eqXGmn3mb67sM+OF8jm1XjdP2fxPwj+36Hkbv8RvABcADTbZ39HMYs8aOfQ5b9bWoWwTAFcDXouWvAb/X5uNb8h7uvtfd742WDwM7Ce/dnJRNwG53f9zdJ4FvRXXWugK4yUPbgOVmtibmsW2p0d3vdPfno6fbCO9w1y4n8n1YMN/Dad4F3JxAHU25+x3AgRl26fTncNYaO/w5bInFHgQne3RHs+hxdZP9HPi/ZnaPmV09j+PbUSMAZrYBeAVwV83qa6Jm540t6r5aC+ypeT5MffA02yfOsa0w1/e5ivAvx4pmP/N21/cqM9thZj8ys/PneGy7asTM+oE3AN+tWZ309zCOTn8O56rdn8OWSPTGNK1gZv8AnNJg0yfn8DKXuvvTZrYauM3MHo5SviVaVCNmNkD4H/Fj7j4arb4e+AzhB+ozwF8DfzD/asO3arBu+jziZvvEObYVYr+Pmb2W8D/gq2tWJ/ozj1nfvYTXdzkSje18Hzgn5rGtMJf3eRPwz+5e+5dv0t/DODr9OYytQ5/DlljwQeDuv91sm5ntM7M17r43ai7ub/IaT0eP+83se4TNyjuAWMe3o0YzyxOGwDfd/Zaa195Xs8//BH44nxqnGQbW1zxfBzwdc5+eGMe2QpwaMbOXAl8GLnf35yrrZ/iZt62+mjDH3W81sy+Z2VCcY9tVY413Mq1bqA3fwzg6/TmMpYOfw5ZY7F1DW4H3RcvvA/5u+g5mtsTMllaWgdcDD8Q9vk01GvAVYKe7f37atjU1T9/M8dpPxN3AOWZ2hpn1EP4S2Nqg7iujWRsXA4eirq04x7bCrO9jZqcBtwDvdfddNetn+pm3s75Top8tZraJ8P/bc3GObVeNUW3LgNdQ89ls0/cwjk5/DmfV4c9ha3R6tPpEvoCVwE+AR6PHFdH6U4Fbo+UzCWcU7AAeBD452/EdqPHVhM3aXwL3RV+bo21fB+6Ptm0F1rSors2Es5Meq3xPgA8DH46WDfhitP1+YONMxyb0852txi8Dz9d8z7bP9jNvc33XRO+/g3AQ8ZKF9j2Mnr8f+Na049r1PbwZ2AsUCf/6v2oBfg5nq7Gjn8NWfOkSEyIiXW6xdw2JiMgJUhCIiHQ5BYGISJdTEIiIdDkFgYjIAjbbRe+m7Xu6mf0kuhLBP5lZrMtdKAhERBa2rxJe/iOO/0p4baaXAn8B/Oc4BykIREQWMG9w0TszO8vM/j66htHPzOy8aNOLCM9XAridmBfiUxCIiCw+W4CPuvuFwMeBL0XrdwBvjZbfDCw1s5WzvdiCv9aQiIgcF12c8hLgO9EVTAAK0ePHgevM7P2E1zR6CijN9poKAhGRxSUDHHT3l0/f4OFF7t4C1cB4q7sfivOCIiKySHh4VdtfmdnboXo7z5dFy0NmVvm9/mfAjXFeU0EgIrKAmdnNwM+Bc81s2MyuAt4NXGVmlQvaVQaFLwMeMbNdwMnAX8V6D110TkSku6lFICLS5RQEIiJdTkEgItLlFAQiIl1OQSAi0uUUBCIiXU5BICLS5f4/vzyMYlQ/3UQAAAAASUVORK5CYII=\n",
=======
      "image/png": "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\n",
>>>>>>> 8192c8c (data cleaning)
      "text/plain": [
       "<Figure size 432x288 with 1 Axes>"
      ]
     },
     "metadata": {
      "needs_background": "light"
     },
>>>>>>> 800f0c325ecfb7193fdc7bea96aaaa54816eeaa2
     "output_type": "display_data"
    }
   ],
   "source": [
    "# Fill missing values with mean or median\n",
    "dataf1['domestic_gross'].plot.kde()\n",
    "plt.show()"
   ]
  },
  {
   "cell_type": "code",
<<<<<<< HEAD
   "execution_count": 15,
=======
   "execution_count": 16,
>>>>>>> 800f0c325ecfb7193fdc7bea96aaaa54816eeaa2
   "metadata": {},
   "outputs": [
    {
     "data": {
<<<<<<< HEAD
<<<<<<< HEAD
      "image/png": "iVBORw0KGgoAAAANSUhEUgAAAjEAAAG+CAYAAABiYVVkAAAAOXRFWHRTb2Z0d2FyZQBNYXRwbG90bGliIHZlcnNpb24zLjguNCwgaHR0cHM6Ly9tYXRwbG90bGliLm9yZy8fJSN1AAAACXBIWXMAAA9hAAAPYQGoP6dpAABB5ElEQVR4nO3deXyU5b3///csmewLAUIIuyiggIqoiPvCwQ2V2tPqkQLS6rf+qq3W2lM4p7XaqpRWPBxbtWo9UKqitYr6/VqrKNuxoCLgiqwihCWGLXsymczcvz8mM0lMAplkMvd9TV7Px2MeZGbumbnuTIa8c12f67pclmVZAgAAMIzb7gYAAAB0BiEGAAAYiRADAACMRIgBAABGIsQAAAAjEWIAAICRCDEAAMBIhBgAAGAkQgwAADASIQYAABgpaULM6tWrddVVV6moqEgul0svv/xyt75eZWWl7rjjDg0ZMkTp6ek6++yztW7dum59TQAA0CRpQkx1dbVOOeUU/eEPf0jI6910001atmyZ/vKXv+iTTz7R5MmTNWnSJO3duzchrw8AQE/nSsYNIF0ul5YuXaqpU6dGb6uvr9fPf/5zPfPMMyorK9OYMWM0b948XXjhhTE/f21trbKzs/XKK6/oyiuvjN5+6qmnasqUKbrvvvvicBYAAOBovHY3IFFmzZqlL7/8Us8995yKioq0dOlSXXbZZfrkk090wgknxPRcDQ0NCgaDSktLa3F7enq63nnnnXg2GwAAtKNH9MTs2LFDJ5xwgvbs2aOioqLocZMmTdKZZ56pBx54IObXOPvss+Xz+fTss8+qX79+WrJkiWbMmKETTjhBW7ZsidepAACAdiRNTczRbNiwQZZlacSIEcrKyopeVq1apR07dkiSvvzyS7lcrqNebrvttuhz/uUvf5FlWRowYIBSU1P18MMP64YbbpDH47HrNAEA6FF6xHBSKBSSx+PR+vXrW4WMrKwsSdKAAQP0+eefH/V5evXqFf16+PDhWrVqlaqrq1VRUaH+/fvruuuu07Bhw+J/AgAAoJUeEWLGjRunYDCo0tJSnXfeeW0ek5KSolGjRsX83JmZmcrMzNSRI0f0xhtv6Le//W1XmwsAADogaUJMVVWVtm/fHr2+c+dOffjhh8rPz9eIESM0bdo0zZgxQ/Pnz9e4ceN08OBBLV++XGPHjtUVV1wR8+u98cYbsixLI0eO1Pbt2/XTn/5UI0eO1KxZs+J5WgAAoB1JU9i7cuVKXXTRRa1unzlzphYtWqRAIKD77rtPixcv1t69e9W7d29NnDhR9957r8aOHRvz6/31r3/VnDlztGfPHuXn5+ub3/ym7r//fuXm5sbjdAAAwDEkTYgBAAA9S4+YnQQAAJIPIQYAABjJ6MLeUCikffv2KTs7Wy6Xy+7mAACADrAsS5WVlSoqKpLb3fn+FKNDzL59+zRo0CC7mwEAADqhuLhYAwcO7PTjjQ4x2dnZksLfhJycHJtbAwAAOqKiokKDBg2K/h7vLKNDTGQIKScnhxADAIBhuloKQmEvAAAwEiEGAAAYiRADAACMRIgBAABGIsQAAAAjEWIAAICRCDEAAMBIhBgAAGAkQgwAADASIQYAABiJEAMAAIxEiAEAAEYixCDpvbPtoH7wzHqt2Fxqd1MAAHFk9C7WwLEEgiHdtmSDymoC+uf2Q3p3ziVK93nsbhYAIA7oiUFSW7fzsMpqApKk8tqA3t15yOYWAQDihRCDpLaxuKzF9XU7D9vTEABA3BFikNQ+2VMuSTquT6Yk6bN9FXY2BwAQR4QYJLWdB6slSZePLZQkbS+tsrM5AIA4IsQgaYVClnYdDoeYSSf2kyTtLatVTX2Dnc0CAMQJIQZJq7TSr7pASF63S2MH5Co7LTwZb19Zrc0tAwDEAyEGSWt/eTis9MtJk9fjVv/ctMbb6+xsFgAgTggxSFoHKv2SpL7ZqZKkwtx0SVIJIQYAkgIhBkmr9Gshpn9OuCeGEAMAyYEQg6TVuiemcTipghADAMmAEIOkdaAqHGIKIj0xufTEAEAyIcQgaZVWtOyJ6UdhLwAkFUIMklZTT0w4vDT1xDDFGgCSASEGSetAY+1LtCemMcwcqQmoviFkW7sAAPFBiEFSsiyrVU1MbnqK3K7w/WU19XY1DQAQJ4QYJKWK2gYFgpYkqXeWT5LkdrvUKyP89aFqQgwAmI4Qg6RUVhsOKRk+j1K9nujt+ZnhEHOEEAMAxrM1xDQ0NOjnP/+5hg0bpvT0dB133HH61a9+pVCIegV0TXltQFJ4CKm5Xo0h5jDDSQBgPK+dLz5v3jz98Y9/1J///GeNHj1aH3zwgWbNmqXc3FzdfvvtdjYNhmsvxOQ3DicdpicGAIxna4hZu3atrrnmGl155ZWSpKFDh2rJkiX64IMP7GwWkkBZTTshJosQAwDJwtbhpHPPPVdvv/22tm7dKkn66KOP9M477+iKK65o83i/36+KiooWF6AtkZ6YvIy2e2KoiQEA89naE/Ozn/1M5eXlGjVqlDwej4LBoO6//37927/9W5vHz507V/fee2+CWwkTHbsmJpDwNgEA4svWnpjnn39eTz/9tJ599llt2LBBf/7zn/Xggw/qz3/+c5vHz5kzR+Xl5dFLcXFxglsMUzT1xPha3J6fGQ41h6v9CW8TACC+bO2J+elPf6rZs2fr+uuvlySNHTtWu3bt0ty5czVz5sxWx6empio1NTXRzYSBIovZtaqJyQz//ByupicGAExna09MTU2N3O6WTfB4PEyxRpdFemJy2pmdRE0MAJjP1p6Yq666Svfff78GDx6s0aNHa+PGjXrooYf03e9+185mIQlEZiflfS3ERHpmKuroiQEA09kaYn7/+9/rF7/4hX7wgx+otLRURUVF+v73v6+7777bzmYhCbRX2JuTHv6Rr6kPKhAMKcXDotUAYCpbQ0x2drYWLFigBQsW2NkMJKGKdqZYZ6V6WxzTO4saKwAwFX+GIim11xPj9bijQaairiHh7QIAxA8hBkknGLJUXR+U1LLnJSInrTHE1FIXAwAmI8Qg6VTXN/WwZLYVYijuBYCkQIhB0qn2h0OM1+1Sqrf1j3hOWmOIqWU4CQBMRohB0omEmKw0r1wuV6v76YkBgORAiEHSqfKH62EyfW1PvotMs6YmBgDMRohB0qlqnHXUVlGv1Gw4iZ4YADAaIQZJp6pxOCkz1dPm/dHhJGpiAMBohBgknaaamJQ2749OsaYnBgCMRohB0olMsc46Zk8MIQYATEaIQdKpbKyJabewN1oTw3ASAJiMEIOkUx2tiWF2EgAkM0IMkk60JobZSQCQ1AgxSDqRdWKy0toOMZFNIcvpiQEAoxFikHSq/OFw0u5wUmNPTF0gJH9DMGHtAgDEFyEGSac60hPTzuyk7DSvIrsRVFLcCwDGIsQg6UQXu2tndpLb7YrWy1DcCwDmIsQg6TTfALI9TLMGAPMRYpB0qo4xO0kKDylJ9MQAgMkIMUg6VcdYJ0ZqCjGRXhsAgHkIMUgqlmUdc50YqSngVBFiAMBYhBgklbpASCEr/PXRemKyCDEAYDxCDJJKZeMaMS6XlJHS9hRrqSnEMJwEAOYixCCpRNaIyfR55Xa72j0uEmIqCTEAYCxCDJJK0+aP7ffChO9vHE5iijUAGIsQg6TSkZlJErOTACAZEGKQVDoyM6n5/RT2AoC5CDFIKjX14ZqYDF8Hh5MIMQBgLEIMkkptIBxi0o8yM0lq2pKAEAMA5iLEIKnURULMMXpisijsBQDjEWKQVGobh5PSjtUTEx1OCnZ7mwAA3YMQg6TS4eGkaIhhA0gAMBUhBkkl1hBTFwipIRjq9nYBAOKPEIOkUlffsZqY5uvIVDOkBABGIsQgqUR6Yo5VE+PzuuXzhn/8KxlSAgAjEWKQVGoD4aGhYw0nSVJ2dBNIemIAwESEGCSV2g4OJ0nNF7yjJwYATESIQVKp62Bhr8Q0awAwHSEGSaWjNTESC94BgOkIMUgqsQwnNW09wHASAJiIEIOkwnASAPQchBgklY4udic1K+xlOAkAjESIQVKJhhjfsX+0sxuHk6rrCTEAYCJCDJJKRzeAlKRMXzjEVNITAwBGIsQgaYRClvwNHV/srqmwlxADACYixCBp1DU0Feh2aHZSaviYakIMABiJEIOkERlKkqQ0b0dCTIokCnsBwFSEGCSNSFFvqtctt9t1zOMZTgIAsxFikDSia8R0YChJahpOIsQAgJkIMUgatfUdL+qVmg0nEWIAwEiEGCSNWBa6k6RMemIAwGiEGCSNWDZ/lKTsxp6Y+oaQ6hunZgMAzEGIQdKIZfNHqaknRqI3BgBMRIhB0ohl80dJ8nrcSvWGPwKsFQMA5iHEIGnEOpwkNe2fRE8MAJiHEIOkEetwktS0kzU9MQBgHkIMkkbT7KSO/1hHNoGkJwYAzEOIQdKItSZGkrKiPTHBYxwJAHAaQgySRmQ4KS2m4aTIWjGBbmkTAKD7EGKQNGJd7E6SstIiq/bSEwMApiHEIGl0KsQ09sRQ2AsA5iHEIGnEugGk1FTYS4gBAPMQYpA0ojUxMfTERKZYMzsJAMxDiEHS6NxwEiEGAExFiEHSqA2EN3GMrbCX4SQAMBUhBkmjrgsr9tITAwDmIcQgaXRm76Sm2UlMsQYA0xBikDQ6UxPD7CQAMJftIWbv3r36zne+o969eysjI0Onnnqq1q9fb3ezYKCuDCdVEmIAwDheO1/8yJEjOuecc3TRRRfp9ddfV0FBgXbs2KG8vDw7mwVDdaYnJpvCXgAwlq0hZt68eRo0aJAWLlwYvW3o0KHtHu/3++X3+6PXKyoqurN5MEggGFJDyJIU43BSY09MTX1QoZAlt9vVLe0DAMSfrcNJr776qk4//XR961vfUkFBgcaNG6cnn3yy3ePnzp2r3Nzc6GXQoEEJbC2cLNILI0lpvo7/WEfWiZGk6np6YwDAJLaGmC+++EKPPfaYTjjhBL3xxhu65ZZb9KMf/UiLFy9u8/g5c+aovLw8eikuLk5wi+FUkXoYt0vyeTr+Y53qdcvT2PvCDCUAMIutw0mhUEinn366HnjgAUnSuHHj9Nlnn+mxxx7TjBkzWh2fmpqq1NTURDcTBmheD+NydXxIyOVyKdPnUUVdg6r8AUlp3dRCAEC82doT079/f5100kktbjvxxBO1e/dum1oEU9V2YvPHiOy0FElSFT0xAGAUW0PMOeecoy1btrS4bevWrRoyZIhNLYKpOrP5Y0RmdME7amIAwCS2hpgf//jHevfdd/XAAw9o+/btevbZZ/XEE0/o1ltvtbNZMFBnpldHsPUAAJjJ1hBzxhlnaOnSpVqyZInGjBmjX//611qwYIGmTZtmZ7NgoLouDCdFZijREwMAZrG1sFeSpkyZoilTptjdDBiutj68g3WnhpN89MQAgIls33YAiIeuDCdlpRFiAMBEhBgkhS6FGIaTAMBIhBgkhc5s/hjRNDuJKdYAYBJCDJJCpCemc1OsG3eyrqMnBgBMQohBUmA4CQB6HkIMkkJtdDgp9h/paIhhA0gAMAohBkmhjsXuAKDHIcQgKXSlJobhJAAwEyEGSaG2S7OTGntiKOwFAKMQYpAU4lHYy3ASAJiFEIOk0JWamKbC3qAsy4pruwAA3YcQg6QQrYnpwmJ3wZAlf0Moru0CAHQfQgySQrQmpgsbQEoMKQGASQgxSAp1gXAPSmdCjNvtUkZjDw7FvQBgDkIMkkK0sLcTw0kSxb0AYCJCDJJCV4aTJNaKAQATEWJgPMuyurTYndS0VgxbDwCAOQgxMF7zGUWdHU6KzFCq8gfj0iYAQPcjxMB4kaEkSUrzdu5HOotVewHAOIQYGC8ylOTzuOX1dC3EUBMDAOYgxMB4TfUwnf9xZidrADAPIQbG68rmjxH0xACAeQgxMF5X9k2KYHYSAJiHEAPjdXV6tdQUYiop7AUAYxBiYLx4DCdlM5wEAMYhxMB4tfEcTmKdGAAwBiEGxotPTUxksTt6YgDAFIQYGC8ynJQWj9lJFPYCgDEIMTBebSC87UA8hpNYsRcAzEGIgfHiUROTxWJ3AGAcQgyMF62JicNwkr8hpIZg6BhHAwCcgBAD40VrYuIwnCQxQwkATEGIgfHiMZzk87rla9w8soriXgAwAiEGxmsKMV37cY5Os6a4FwCMQIiB8erisGKvJGWlUdwLACYhxMB48dg7SZIyfWw9AAAmIcTAePGoiZGaLXhHiAEAI3QqxOzcuTPe7QA6LR4bQErNFrwjxACAEToVYo4//nhddNFFevrpp1VXVxfvNgExicfeSRIL3gGAaToVYj766CONGzdOP/nJT1RYWKjvf//7ev/99+PdNqBD4lUTw3ASAJilUyFmzJgxeuihh7R3714tXLhQJSUlOvfcczV69Gg99NBDOnDgQLzbCbQr/sNJLHYHACboUmGv1+vVN77xDf31r3/VvHnztGPHDt11110aOHCgZsyYof3798ernUC76uKwAaQkZTWuE0NPDACYoUsh5oMPPtAPfvAD9e/fXw899JDuuusu7dixQ8uXL9fevXt1zTXXxKudQJsagiHVB+MTYjIZTgIAo3iPfUhrDz30kBYuXKgtW7boiiuu0OLFi3XFFVfI7Q5nomHDhunxxx/XqFGj4tpY4OvqGpo2a4zXYncVrNgLAEboVIh57LHH9N3vflezZs1SYWFhm8cMHjxYTz31VJcaBxxLpB5GklK9XVv2KDstRZJUWRfo0vMAABKjUyFm2bJlGjx4cLTnJcKyLBUXF2vw4MHy+XyaOXNmXBoJtKf59GqXy9Wl58pp7ImppCcGAIzQqT9dhw8froMHD7a6/fDhwxo2bFiXGwV0VHS13i4OJUnNemL89MQAgAk6FWIsy2rz9qqqKqWlpXWpQUAsotOru1jUK0m56Y01MbX0xACACWIaTrrzzjslSS6XS3fffbcyMjKi9wWDQb333ns69dRT49pA4GiaFrrr+jZgzWtiLMvq8vAUAKB7xRRiNm7cKCncE/PJJ5/I5/NF7/P5fDrllFN01113xbeFwFHEdzgp/HEIWVJ1fTC6gi8AwJli+l96xYoVkqRZs2bpv//7v5WTk9MtjQI6qi6Ow0npKR553S41hCxV1gUIMQDgcJ3qg1+4cCEBBo4Qr32TpPAwaTYzlADAGB3+U/Paa6/VokWLlJOTo2uvvfaox7700ktdbhjQEbVx2sE6IjstRUdqAqqoZYYSADhdh0NMbm5utNAxNze32xoExCJemz9G5KTTEwMApuhwiFm4cGGbXwN2qot3T0xqeIZSBav2AoDjdaompra2VjU1NdHru3bt0oIFC/Tmm2/GrWFAR8SzJkZq6olh/yQAcL5OhZhrrrlGixcvliSVlZXpzDPP1Pz583XNNdfosccei2sDgaOprW/cwTpOw0nsnwQA5uhUiNmwYYPOO+88SdLf/vY3FRYWateuXVq8eLEefvjhuDYQOJr4F/ZSEwMApuhUiKmpqVF2drYk6c0339S1114rt9uts846S7t27YprA4GjiXdNTE5jTwyzkwDA+ToVYo4//ni9/PLLKi4u1htvvKHJkydLkkpLS1k/BgkVmZ2UFrfhJHpiAMAUnQoxd999t+666y4NHTpUEyZM0MSJEyWFe2XGjRsX1wYCRxPv4aScdGpiAMAUnVpX/V//9V917rnnav/+/TrllFOit19yySX6xje+EbfGAccS9xCTxuwkADBFpzeHKSwsVGFhYYvbzjzzzC43CIhFtCbG1/VdrCVmJwGASToVYqqrq/Wb3/xGb7/9tkpLSxUKhVrc/8UXX8SlccCxRGti4l7YS08MADhdp0LMTTfdpFWrVmn69Onq379/dDsCING6b4o1PTEA4HSdCjGvv/66XnvtNZ1zzjnxbg8Qk6bhpPiGmOr6oBqCIXk98RmmAgDEX6f+h+7Vq5fy8/Pj3RYgZtENIOO4i3VElZ8hJQBwsk6FmF//+te6++67W+yf1FVz586Vy+XSHXfcEbfnRHKzLCvuw0k+r1tpKeGPBWvFAICzdWo4af78+dqxY4f69eunoUOHKiUlpcX9GzZsiOn51q1bpyeeeEInn3xyZ5qDHqo+GFLICn8dr8XupHBxb13Az07WAOBwnQoxU6dOjVsDqqqqNG3aND355JO677774va8SH519U2z4uLVEyOF62JKK/3MUAIAh+tUiPnlL38ZtwbceuutuvLKKzVp0qRjhhi/3y+/3x+9XlFREbd2wDyRoSSv26WUOBbgslYMAJih0//zl5WV6U9/+pPmzJmjw4cPSwoPI+3du7fDz/Hcc89pw4YNmjt3boeOnzt3rnJzc6OXQYMGdartSA7xroeJaNp6gJ4YAHCyToWYjz/+WCNGjNC8efP04IMPqqysTJK0dOlSzZkzp0PPUVxcrNtvv11PP/200tLSOvSYOXPmqLy8PHopLi7uTPORJOK9+WNEdnTrAXpiAMDJOhVi7rzzTt14443atm1biwBy+eWXa/Xq1R16jvXr16u0tFTjx4+X1+uV1+vVqlWr9PDDD8vr9SoYDLZ6TGpqqnJyclpc0HN1W08Mq/YCgBE6VROzbt06Pf74461uHzBggEpKSjr0HJdccok++eSTFrfNmjVLo0aN0s9+9jN5PPH9xYTkU9dNISYvIxxiymvpiQEAJ+tUiElLS2uzqHbLli3q27dvh54jOztbY8aMaXFbZmamevfu3ep2oC019fFdrTcir7Empqy2Pq7PCwCIr04NJ11zzTX61a9+pUAg/Jeqy+XS7t27NXv2bH3zm9+MawOB9tTUh4d7uq0npoaeGABwsk71xDz44IO64oorVFBQoNraWl1wwQUqKSnRxIkTdf/993e6MStXruz0Y9HzRIaTMuLcE5Ob7pMklTGcBACO1qkQk5OTo3feeUcrVqzQ+vXrFQqFdNppp2nSpEnxbh/Qrm4bTmrsiSmrYTgJAJws5hATCoW0aNEivfTSS/ryyy/lcrk0bNgwFRYWyrIsuVyu7mgn0EpNnDd/jKCwFwDMEFNNjGVZuvrqq3XTTTdp7969Gjt2rEaPHq1du3bpxhtv1De+8Y3uaifQSmSdmHgPJ+VFhpNqArIsK67PDQCIn5h6YhYtWqTVq1fr7bff1kUXXdTivuXLl2vq1KlavHixZsyYEddGAm2JrhPj69SoaLtyG2cnNYQsVdcHlZUa3+cHAMRHTD0xS5Ys0X/8x3+0CjCSdPHFF2v27Nl65pln4tY44Gi6azgpLcUtnzf80aAuBgCcK6YQ8/HHH+uyyy5r9/7LL79cH330UZcbBXREbeMU63gPJ7lcrqa1YphmDQCOFVOIOXz4sPr169fu/f369dORI0e63CigI5qGk+K/unOkuLeC4l4AcKyYQkwwGJTX2359gMfjUUMD+80gMbprOElqVtxLiAEAx4qpYtGyLN14441KTU1t836/3x+XRgEd0V2zkyQpN4PhJABwuphCzMyZM495DDOTkCjdOpzE/kkA4HgxhZiFCxd2VzuAmNV253AS+ycBgON1agNIwAlqosNJ8V/HJS+jacE7AIAzEWJgrO4cTsplOAkAHI8QA2PVdtMGkFLzTSDpiQEApyLEwEgNwZDqgyFJUkZ3TrEmxACAYxFiYKTIUJLUvT0xh9l2AAAcixADI0WGktwuKdUb/x/j3lnhnpgj1fXsZA0ADkWIgZGar9brcrni/vz5meEQ0xCyVFHLKtQA4ESEGBgpGmK6YXq1JKV6PcpKDT/3oWpWogYAJyLEwEiRmpju2HIgItIbc7iauhgAcCJCDIzUnav1RkRCzCFCDAA4EiEGRqqpD9epdMfMpIje9MQAgKMRYmAkhpMAAIQYGCkhw0mN06wPVRFiAMCJCDEwUk03bjkQERlOOsKCdwDgSIQYGCkxw0mpkijsBQCnIsTASIkYTmoq7GWdGABwIkIMjNTdi91JzQp7qYkBAEcixMBIiZyddIj9kwDAkQgxMFJtZJ2Y7hxOapyd5G8IRXt+AADOQYiBkRIxOyk9xRPdIZu1YgDAeQgxMFIihpNcLpf6ZIVnKB2oorgXAJyGEAMjJWJ2kiT1zW4MMZWEGABwGkIMjJSI4SRJKmgMMaWEGABwHEIMjNQ0nNR9U6wlqSCnsSemoq5bXwcAEDtCDIwUGU7qzpoYSeqblSaJnhgAcCJCDIxU0zjFOq2ba2KiPTGEGABwHEIMjJSI2UkSNTEA4GSEGBgnEAwpEAyvoNv9ISYynERNDAA4DSEGxon0wkjdP5wUmWJ9sKpewRBbDwCAkxBiYJxIUa/bpeiKut2lT5ZPLpcUDFms2gsADkOIgXGq/OGi3sxUr1wuV7e+ltfjVu/GjSAp7gUAZyHEwDjVjSEmK7V714iJ6EtdDAA4EiEGxqn2J2ZmUgQzlADAmQgxME7ie2JYKwYAnIgQA+NU1zfVxCRCv8YF70rKGU4CACchxMA4TcNJiQkxRXnpkqT95bUJeT0AQMcQYmCcyJYDWamJqYkpyg2HmH1l9MQAgJMQYmCcyBTrjAQNJ0V6YvbREwMAjkKIgXESXdjbPy88xbqsJhDtBQIA2I8QA+NU1yd2inVOWoqyGwMTQ0oA4ByEGBgn0T0xUlNvDMW9AOAchBgYJ9Gzk6RmdTFlhBgAcApCDIxTHd07KTHDSZLUnxlKAOA4hBgYp2mKdQJ7YnLDw0n0xACAcxBiYJzoFGsbhpP2s2ovADgGIQbGidTE2FHYS08MADgHIQbGieydlJHAmphBvTIkSXvKahUKWQl7XQBA+wgxMIplWfZMsc5Nk9ftUn1DSCUVDCkBgBMQYmAUf0NIkY6QRC12J0lej1sDe4XrYnYdqknY6wIA2keIgVEiRb2SlJnAwl5JGtw7U5K0+3B1Ql8XANA2QgyMUh2dmeSR2+1K6GsPyQ/XxXxJTwwAOAIhBkaxY7XeiCG9wyFmNyEGAByBEAOjVEcXuktcPUzE4MaemF0MJwGAIxBiYJRqGxa6ixjSWBOz61CNLItp1gBgN0IMjGLHQncRkZ6YyroGldUEEv76AICWCDEwih0L3UWk+zwqyE6VJH15iCElALAbIQZGadrBOvE9MZJ0XN/wkNIXBwgxAGA3W0PM3LlzdcYZZyg7O1sFBQWaOnWqtmzZYmeT4HCVdeEQk21TiDm+IEuStP1AlS2vDwBoYmuIWbVqlW699Va9++67WrZsmRoaGjR58mRVV/NXLtpWWReuRclJT7Hl9U8oyJYkbfuKEAMAdrPnz9lG//jHP1pcX7hwoQoKCrR+/Xqdf/75NrUKTuaUnpgd9MQAgO1sDTFfV15eLknKz89v836/3y+/3x+9XlFRkZB2wTmiISbN3hCz61C1/A1BpXoTX2AMAAhzTGGvZVm68847de6552rMmDFtHjN37lzl5uZGL4MGDUpwK2G3isbhpOw0e4aTCrJTlZ3mVciSvjzIyr0AYCfHhJjbbrtNH3/8sZYsWdLuMXPmzFF5eXn0UlxcnMAWwgkqbO6Jcblc0d6YbaWVtrQBABDmiOGkH/7wh3r11Ve1evVqDRw4sN3jUlNTlZqamsCWwWnsLuyVpOP7Zmnj7jJtL6UuBgDsZGuIsSxLP/zhD7V06VKtXLlSw4YNs7M5MIDdNTGSNKJfeIbSlhJ6YgDATraGmFtvvVXPPvusXnnlFWVnZ6ukpESSlJubq/T0dDubBoeK9sTYVBMjSScV5UiSPt9PYTkA2MnWmpjHHntM5eXluvDCC9W/f//o5fnnn7ezWXCo+oaQ6gIhSfb2xJzYPxxivjxUo6rGFYQBAIln+3AS0FGRXhjJng0gI/Izfeqfm6b95XX6fH+Fzhja9pIAAIDu5ZjZScCxROphMn0eeT32/uie1Ngbs2kfQ0oAYBdCDIzRVNRrXz1MRKQuhhADAPYhxMAYldGF7uxfGSDaE0NxLwDYhhADY9i90F1zkZ6YLSWV8jcEbW4NAPRMhBgYo8IBC91FDM7PUH6mT/XBEENKAGATQgyM4aSaGJfLpXGD8iRJG3eX2doWAOipCDEwhpNqYiRp3OA8SdLG4jJb2wEAPRUhBsZwwpYDzY0b3EuStHH3EZtbAgA9EyEGxnDClgPNnTwwVy6XtOdIrUor6+xuDgD0OIQYGCPSE5PjkJ6Y7LQUjSgIbwZJXQwAJB4hBsaoiNbEOKMnRmpWF0OIAYCEI8TAGE6riZGaQsyGXdTFAECiEWJgjLKacE9MXoZzemImDOstSdpYfES19Sx6BwCJRIiBMY7U1EuS8jJ8NrekyZDeGeqfm6ZA0NJ6emMAIKEIMTBCQzAUHU7Kc8CKvREul0sTh4d7Y9bsOGhzawCgZyHEwAjltYHo17kOCjGSdPbwPpKkNTsO2dwSAOhZCDEwQllt02q9Xo+zfmwjPTEf7ymLzqACAHQ/Z/02ANpR1lgP08tB9TARA/LSNbR3hkKWtG7nYbubAwA9BiEGRnDizKTmJjYOKb2znboYAEgUQgyMcKQxxDitHibighHhELN8c6ksy7K5NQDQMxBiYAQnDydJ0rkn9JXP49auQzX64mC13c0BgB6BEAMjOH04KSvVqwnH5UuSln9eanNrAKBnIMTACGW1zlvo7usuGVUgSXp781c2twQAegZCDIwQqYlx0kJ3X3fxqH6SpHVfHmmxrg0AoHsQYmCEI9WNNTGZzg0xg3tn6ISCLAVDllZuYUgJALobIQZGOFQVDjF9slJtbsnRXTq6UJL0fz/ab3NLACD5EWJghEPVfklS70xnh5irTy2SJK3aWqryGoaUAKA7EWLgeMGQpcONw0l9sp1b2CtJI/pla1RhtgJBS298VmJ3cwAgqRFi4HhlNfUKNa4fl+/g2UkRV50S7o159aN9NrcEAJIbIQaOdyhS1JuR4rjNH9ty1cnhELNmx0GVVtTZ3BoASF7O/42AHu9gZWM9jMOLeiMG987Q+CG9FLKkv35QbHdzACBpEWLgeAcbe2J6Zzp/KCli2oTBkqQl7xcrGGIvJQDoDoQYON6hqnBPjNOnVzd3xdj+6pWRor1ltVqxmTVjAKA7EGLgeJE1YnpnmdMTk5bi0bdOHyRJevq9XTa3BgCSEyEGjnewyow1Yr7uhjMHy+WSVm45oK1fVdrdHABIOoQYOF5J4wyffjlmhZihfTJ1WeMKvn9Yvt3m1gBA8iHEwPG+qgj3xPTLTbO5JbG77eLjJUn/7+N92l5aZXNrACC5EGLgeF819sQU5pgXYkYX5WrSif0UsqS5f//c7uYAQFIhxMDR/A3B6JYDJoYYSZp9+Sh53S69vbmU3a0BII4IMXC00sahJJ/XrbyMFJtb0znHF2TpxrOHSpL+c+mnqqxjY0gAiAdCDByteVGvy+WyuTWdd8e/jNCg/HTtLavVL1/9TJbFAngA0FWEGDiayfUwzWWlevXQt0+V2yW9tGGv/uefX9rdJAAwHiEGjlZSHumJMTvESNIZQ/M15/ITJUn3vbZJL67fY3OLAMBshBg42r6ycIgpyku3uSXxcdN5wzT9rCGyLOknL3ykR1ZsV4i9lQCgUwgxcLTdh2skSYN6JUeIcblcuvfq0Zp1zlBJ0u/e2KKZC9/X3rJaexsGAAYixMDR9hwJh5iB+Rk2tyR+3G6X7p5ykh74xlilpbj1v9sO6uIHV+p3b2zWkcbp5ACAYyPEwLEsy1JxY0/M4CQKMVK4R+aGCYP1/354rs4cli9/Q0iPrNihib95W3e/8qm+PFhtdxMBwPEIMXCsw9X1qq4PSpIGJElNzNcdX5Ct5//PWXp8+niNLspRXSCkxWt36aL5K3XTn9dpzfaDTMcGgHZ47W4A0J7iI+E6kX45qUpL8djcmu7jcrl06ehCTT6pn9Z+cUhPrP5CK7cc0Fufl+qtz0s1sl+2Zp0zVFPHDUjq7wMAxIoQA8dK1qGk9rhcLp09vI/OHt5H20ur9Oc1X+pv6/doy1eVmv3SJ5r3j826YcJgffecYeqdZdaO3gDQHRhOgmN9cSBcFzI4P9PmliTe8QVZ+vXUMXp3ziX6jytGaUBeuo7UBPTIih0677cr9Ls3NqushiJgAD0bIQaOta20UpI0ol+WzS2xT25Giv7P+cO16qcX6rFpp2nMgBzV1AfDYWbeCi14ayt7MQHosQgxcKztpVWSpBH9sm1uif28HrcuH9tf//e2c/X49PEaVZitSn+DFry1Tef/doX+9L9fqC4QtLuZAJBQhBg4UkMwFB1OOr6g5/bEfF2kCPjvPzpPf7hhnI7rm6kjNQHd99rnuvjBlfrrumI1BEN2NxMAEoIQA0fadbhG9cGQ0lM8STu9uivcbpemnFykN+84X/O+OVb9c9O0r7xO//7ix7p0wWq9/sl+pmYDSHqEGDjSlpJwPczxBVlyu102t8a5vB63rjtjsFbcdaF+fuWJ6pWRoh0HqvX/PbNBUx/5p/65/aDdTQSAbkOIgSN9VFwmSRo7MNfehhgiLcWjm847Tqv//SL96JITlOHz6KM95Zr2p/d03eNr9damr9hoEkDSYZ0YONKHjSHm1IF5trbDNNlpKbrzX0ZoxsQhemTFdj3z7m69t/Ow3tt5WEN7Z2jGxKG65tQi1pkBkBRclsED5xUVFcrNzVV5eblycnLsbg7iJBiyNPaeN1RTH9SbPz6f2UldsK+sVovX7tKS93ervDY8Fdvrdun8EX115dj+On9EX/XNJtAASKx4/f6mJwaOs6WkUjX1QWX6PBrel5lJXVGUl67Zl4/Sjy45Xi9u2KsXPijWx3vKtXxzqZZvLpUkjRmQo9OH5Ovkgbk6ZVCehvbOlIc6JAAGIMTAcd7ZfkCSdPrQfH6ZxkmGz6vpZw3R9LOGaHtplV79cK+WbynVp3sropcIn8etwb0zNLR3po7rm6nB+RkqyktTYU66ivLSlJueIpeL9wWA/QgxcJzVW8Mzai4Y0dfmliSn4wuydOfkkbpz8kiVVtZp7Y5D+rC4TB/vKddn+8pVFwhpe2lVeLHBz1s/Pi3Frf656SrMSVO/nFT1y0lrdglf75ud3Jt2AnAGQgwcpaa+Qe/vPCxJumAkIaa7FWSn6ZpTB+iaUwdICtcj7Sur1c6D1fryULW+OFCt3YdrVFJep68q6nSoul51gZB2HqzWzoPVR33uvIwUFeakaXjfLI3ol62RheHL4PwMetgAxAUhBo7yj09LVB8MaWjvDB3Xp+dt/Gg3j9ulQfkZGpSfofPVOkTWBYIqrfBrf3mtSirCwaak3K+vKutUWlGnryr8KqmoU31DSGU1AZXVBLS5pFKvfbI/+hzpKR6NKMzWiYXZGlWYrVH9czSqMFt5Gb5EniqAJECIgaP8bf0eSdK1pw2k7sKB0lI8Gtw7Q4N7Z7R7jGVZKq8N6KsKv/aV1WpbaaU2l1Rq61eV2vZVlWoDQX1UXBZdCyiiV0aKCrLDQ1F5GSnyed1K9bqV4nHL63bL63HJ43bJ6w7/63G5lOJ1Kz/Dp77ZqeqbnapB+RnKTU/p5u8CAKcgxMAxPt9foTU7Dsnlkr4xboDdzUEnuVwu5WX4lJfh08jCbF00qiB6XzBk6ctD1dq8v1KbSyr0eeO/e47U6khNQEdqAtryVWWXXr9vdqqG983Uif1zdOqgPJ0yME9DemcQioEkRIiBY8x/c6skacrJRRqU3/5f+jCXx+3S8L5ZGt43S1ee3D96e2VdQHvLanWg0q/SCr/KawMKBEOqbwipPhhSQ8hSKGSpIWQpGLLUEAopGLLkbwjpcHV9+HGVfh1odnn3i8PR58/LSNEpA/M0dkCuRhflaHRRrgblpxNsAMPZHmIeffRR/e53v9P+/fs1evRoLViwQOedd57dzUKCvfLhXr31+VfyuF26/ZLj7W4OEiw7LUWjClM0qrBrz1NZF9AXB6q1rbRKn+4t14fFZdq0r0JlNQGt2npAq7YeaPaaXp1YmKOBvdI1oFe6+uemKyfdq6zU8CXV65ElS5YlRVYEDVnhEBVsDFXBxuvh29Xs62aXxvVEs1O9yklPUU5ainLSvcrL8CknzUuQArrA1hV7n3/+eU2fPl2PPvqozjnnHD3++OP605/+pE2bNmnw4MHHfDwr9iaHNz8r0W1LNqq+IaQ7Jp2gOyaNsLtJSCL1DSFtLqnQR8Vl+nRvhT7bX66tJVWqD4bsbpo8bpfy0lOUl5GiXhk+9cr0qVfj17kZKUpxu+V2u+R2SW6XSx3NOy6XS6ket1K8Lvk8Hvm8bqV4XPJ53fJ53I3X3S2u+zxupXjdSvO65fWwrR66V7x+f9saYiZMmKDTTjtNjz32WPS2E088UVOnTtXcuXOP+XhCjLnKawL6YNdhPbeuWMs2fSVJmnxSPz067TT+A0W3q28Ir4WzrbRSe8tqtfdIrUrK61Tpb1C1v0FV/gbVN4TkkqI9JS5X+OJxNRYWu11yt/W1yyW3Wy1uk6SqugZV1AVUUdug8tqAagNBG78DR+fzuJXu8yg9xaMMn0fpPo8yfd7wv6keZfi8yvR5lJHqVUZK+N/0FI9SvW6lNf83xa00b9v/+jxudqjvwYzfdqC+vl7r16/X7NmzW9w+efJkrVmzps3H+P1++f3+6PWKioo2j+uqNTsO6pEV2yVJX494za9bso5yn9q50vJx7T5G4Vkebd3Xqk3tNKL18x27DUdr09Hybke/L4FgSAcq/aqub/kf+I1nD9V/XHEiAQYJ4fO6dVJRjk4qsu+Pn7pAUGU1AR2pqdeRmvro12U1AR2prldZbSA6PBWywkNZlmXJpWP/4g+GLNUHQwoEQ/I3hJrqi5p/HbRU3xBsPC489BVRHwypvjYU3W+ru/g84RlokZloqY0ByOd1R3ueIkHS7VL43KO3ha9HwmVHvi/onInDe+vWi5w5zG9biDl48KCCwaD69evX4vZ+/fqppKSkzcfMnTtX9957b/e3rape/9x+qNtfp6cb2jtD553QVzPPHqLjC9jkET1LWopHhbkeFeam2d0USY3BpyGkukBQtYGgauqDqq0Pqqa+QTWB8NfV/gbV1AcbLw2q9jf+Wx9UXSB88TeEg5O/8eu6Zv/WBYJqlpXCYSkYkvzttwv2y8907hpOthf2fr2ozbKsdgvd5syZozvvvDN6vaKiQoMGDYp7m8YNytN/X39qu/c3b9/XW9q86c3/Mvj6KTW/2vK+lge2fL6223C052v9um0/YevzaPscj/Z87bW1+Q0el0t9s8NL02em2v7jB6CRx+0KDyH5POrVja8T6R2qCwRV3xh4wv82BqBA+OtgKNynG+7JbSqwDv/b/LptFRE9xoC8dLub0C7bfov06dNHHo+nVa9LaWlpq96ZiNTUVKWmpnZ72yIrlgIA4ivFEy4qzuKPGMSBbQUIPp9P48eP17Jly1rcvmzZMp199tk2tQoAAJjC1ih85513avr06Tr99NM1ceJEPfHEE9q9e7duueUWO5sFAAAMYGuIue6663To0CH96le/0v79+zVmzBj9/e9/15AhQ+xsFgAAMICt68R0FevEAABgnnj9/mZRDgAAYCRCDAAAMBIhBgAAGIkQAwAAjESIAQAARiLEAAAAIxFiAACAkQgxAADASIQYAABgJKO3EY0sNlxRUWFzSwAAQEdFfm93ddMAo0NMZWWlJGnQoEE2twQAAMSqsrJSubm5nX680XsnhUIh7du3T9nZ2XK5XJ1+noqKCg0aNEjFxcVJvwdTTznXnnKeEueajHrKeUqca7I61rlalqXKykoVFRXJ7e58ZYvRPTFut1sDBw6M2/Pl5OQk/Q9WRE85155ynhLnmox6ynlKnGuyOtq5dqUHJoLCXgAAYCRCDAAAMBIhRlJqaqp++ctfKjU11e6mdLuecq495TwlzjUZ9ZTzlDjXZJWoczW6sBcAAPRc9MQAAAAjEWIAAICRCDEAAMBIhBgAAGCkHhFijhw5ounTpys3N1e5ubmaPn26ysrKjvqYG2+8US6Xq8XlrLPOanGM3+/XD3/4Q/Xp00eZmZm6+uqrtWfPnm48k2OL9VwDgYB+9rOfaezYscrMzFRRUZFmzJihffv2tTjuwgsvbPX9uP7667v5bFp69NFHNWzYMKWlpWn8+PH63//936Mev2rVKo0fP15paWk67rjj9Mc//rHVMS+++KJOOukkpaam6qSTTtLSpUu7q/kdFst5vvTSS/qXf/kX9e3bVzk5OZo4caLeeOONFscsWrSo1XvncrlUV1fX3adyTLGc68qVK9s8j82bN7c4zonvqRTbubb1/4/L5dLo0aOjxzjxfV29erWuuuoqFRUVyeVy6eWXXz7mY0z9nMZ6riZ/VmM914R+Vq0e4LLLLrPGjBljrVmzxlqzZo01ZswYa8qUKUd9zMyZM63LLrvM2r9/f/Ry6NChFsfccsst1oABA6xly5ZZGzZssC666CLrlFNOsRoaGrrzdI4q1nMtKyuzJk2aZD3//PPW5s2brbVr11oTJkywxo8f3+K4Cy64wLr55ptbfD/Kysq6+3SinnvuOSslJcV68sknrU2bNlm33367lZmZae3atavN47/44gsrIyPDuv32261NmzZZTz75pJWSkmL97W9/ix6zZs0ay+PxWA888ID1+eefWw888IDl9Xqtd999N1Gn1Uqs53n77bdb8+bNs95//31r69at1pw5c6yUlBRrw4YN0WMWLlxo5eTktHjv9u/fn6hTales57pixQpLkrVly5YW59H88+bE99SyYj/XsrKyFudYXFxs5efnW7/85S+jxzjxff373/9u/ed//qf14osvWpKspUuXHvV4Uz+nlhX7uZr8WY31XBP5WU36ELNp0yZLUotvzNq1ay1J1ubNm9t93MyZM61rrrmm3fvLysqslJQU67nnnovetnfvXsvtdlv/+Mc/4tL2WHX2XL/u/ffftyS1+A/2ggsusG6//fZ4NjcmZ555pnXLLbe0uG3UqFHW7Nmz2zz+3//9361Ro0a1uO373/++ddZZZ0Wvf/vb37Yuu+yyFsdceuml1vXXXx+nVscu1vNsy0knnWTde++90esLFy60cnNz49XEuIn1XCP/MR45cqTd53Tie2pZXX9fly5darlcLuvLL7+M3ubU9zWiI7/sTP2cfl1HzrUtpnxWm4slxCTis5r0w0lr165Vbm6uJkyYEL3trLPOUm5urtasWXPUx65cuVIFBQUaMWKEbr75ZpWWlkbvW79+vQKBgCZPnhy9raioSGPGjDnm83aXrpxrc+Xl5XK5XMrLy2tx+zPPPKM+ffpo9OjRuuuuu6K7iHe3+vp6rV+/vsX3WpImT57c7nmtXbu21fGXXnqpPvjgAwUCgaMeY9f715nz/LpQKKTKykrl5+e3uL2qqkpDhgzRwIEDNWXKFG3cuDFu7e6MrpzruHHj1L9/f11yySVasWJFi/uc9p5K8Xlfn3rqKU2aNElDhgxpcbvT3tdYmfg5jRdTPqtdkYjPatKHmJKSEhUUFLS6vaCgQCUlJe0+7vLLL9czzzyj5cuXa/78+Vq3bp0uvvhi+f3+6PP6fD716tWrxeP69et31OftTp091+bq6uo0e/Zs3XDDDS027Zo2bZqWLFmilStX6he/+IVefPFFXXvttXFr+9EcPHhQwWBQ/fr1a3H70b7XJSUlbR7f0NCggwcPHvUYu96/zpzn182fP1/V1dX69re/Hb1t1KhRWrRokV599VUtWbJEaWlpOuecc7Rt27a4tj8WnTnX/v3764knntCLL76ol156SSNHjtQll1yi1atXR49x2nsqdf193b9/v15//XXddNNNLW534vsaKxM/p/Fiyme1MxL5WTV2F+t77rlH995771GPWbdunSTJ5XK1us+yrDZvj7juuuuiX48ZM0ann366hgwZotdee+2ov7yP9byd0d3nGhEIBHT99dcrFArp0UcfbXHfzTffHP16zJgxOuGEE3T66adrw4YNOu200zpyGl329XM41nm1dfzXb4/1OROhs21asmSJ7rnnHr3yyistwuxZZ53Voij9nHPO0Wmnnabf//73evjhh+PX8E6I5VxHjhypkSNHRq9PnDhRxcXFevDBB3X++ed36jkTqbPtWrRokfLy8jR16tQWtzv5fY2FqZ/TrjDxsxqLRH5WjQ0xt9122zFnxwwdOlQff/yxvvrqq1b3HThwoFUKPJr+/ftryJAh0URcWFio+vp6HTlypEVvTGlpqc4+++wOP29HJOJcA4GAvv3tb2vnzp1avnz5MbeJP+2005SSkqJt27Z1e4jp06ePPB5Pq4ReWlra7nkVFha2ebzX61Xv3r2PekwsPxfx1JnzjHj++ef1ve99Ty+88IImTZp01GPdbrfOOOMMW/+668q5NnfWWWfp6aefjl532nsqde1cLcvS//zP/2j69Ony+XxHPdYJ72usTPycdpVpn9V46a7PqrHDSX369NGoUaOOeklLS9PEiRNVXl6u999/P/rY9957T+Xl5TGFjUOHDqm4uFj9+/eXJI0fP14pKSlatmxZ9Jj9+/fr008/jXuI6e5zjQSYbdu26a233or+53E0n332mQKBQPT70Z18Pp/Gjx/f4nstScuWLWv3vCZOnNjq+DfffFOnn366UlJSjnpMvN+/jurMeUrhv+puvPFGPfvss7ryyiuP+TqWZenDDz9MyHvXns6e69dt3LixxXk47T2Vunauq1at0vbt2/W9733vmK/jhPc1ViZ+TrvCxM9qvHTbZzWmMmBDXXbZZdbJJ59srV271lq7dq01duzYVtOOR44cab300kuWZVlWZWWl9ZOf/MRas2aNtXPnTmvFihXWxIkTrQEDBlgVFRXRx9xyyy3WwIEDrbfeesvasGGDdfHFFztiinUs5xoIBKyrr77aGjhwoPXhhx+2mA7n9/sty7Ks7du3W/fee6+1bt06a+fOndZrr71mjRo1yho3blzCzjUyRfWpp56yNm3aZN1xxx1WZmZmdLbG7NmzrenTp0ePj0zd/PGPf2xt2rTJeuqpp1pN3fznP/9peTwe6ze/+Y31+eefW7/5zW9sn7oZ63k+++yzltfrtR555JF2p7/fc8891j/+8Q9rx44d1saNG61Zs2ZZXq/Xeu+99xJ+fs3Feq7/9V//ZS1dutTaunWr9emnn1qzZ8+2JFkvvvhi9BgnvqeWFfu5RnznO9+xJkyY0OZzOvF9raystDZu3Ght3LjRkmQ99NBD1saNG6MzHZPlc2pZsZ+ryZ/VWM81kZ/VHhFiDh06ZE2bNs3Kzs62srOzrWnTprWa+iXJWrhwoWVZllVTU2NNnjzZ6tu3r5WSkmINHjzYmjlzprV79+4Wj6mtrbVuu+02Kz8/30pPT7emTJnS6phEi/Vcd+7caUlq87JixQrLsixr9+7d1vnnn2/l5+dbPp/PGj58uPWjH/2o1bo53e2RRx6xhgwZYvl8Puu0006zVq1aFb1v5syZ1gUXXNDi+JUrV1rjxo2zfD6fNXToUOuxxx5r9ZwvvPCCNXLkSCslJcUaNWpUiw+ZXWI5zwsuuKDN927mzJnRY+644w5r8ODBls/ns/r27WtNnjzZWrNmTQLPqH2xnOu8efOs4cOHW2lpaVavXr2sc88913rttddaPacT31PLiv3nt6yszEpPT7eeeOKJNp/Pie9rZGptez+PyfQ5jfVcTf6sxnquifysuiyrsYoKAADAIMbWxAAAgJ6NEAMAAIxEiAEAAEYixAAAACMRYgAAgJEIMQAAwEiEGAAAYCRCDAAAMBIhBgAAtLB69WpdddVVKioqksvl0ssvvxzzc/z1r3/VqaeeqoyMDA0ZMkS/+93v4t5OQgwAAGihurpap5xyiv7whz906vGvv/66pk2bpltuuUWffvqpHn30UT300EOdfr72sO0AAABol8vl0tKlSzV16tTobfX19fr5z3+uZ555RmVlZRozZozmzZunCy+8UJJ0ww03KBAI6IUXXog+ZsGCBZo/f752794tl8sVl7bREwMAAGIya9Ys/fOf/9Rzzz2njz/+WN/61rd02WWXadu2bZIkv9+vtLS0Fo9JT0/Xnj17tGvXrri1gxADAAA6bMeOHVqyZIleeOEFnXfeeRo+fLjuuusunXvuuVq4cKEk6dJLL9VLL72kt99+W6FQSFu3btWCBQskSfv3749bW7xxeyYAAJD0NmzYIMuyNGLEiBa3+/1+9e7dW5J08803a8eOHZoyZYoCgYBycnJ0++2365577pHH44lbWwgxAACgw0KhkDwej9avX98qkGRlZUkK19HMmzdPDzzwgEpKStS3b1+9/fbbkqShQ4fGrS2EGAAA0GHjxo1TMBhUaWmpzjvvvKMe6/F4NGDAAEnSkiVLNHHiRBUUFMStLYQYAADQQlVVlbZv3x69vnPnTn344YfKz8/XiBEjNG3aNM2YMUPz58/XuHHjdPDgQS1fvlxjx47VFVdcoYMHD+pvf/ubLrzwQtXV1WnhwoV64YUXtGrVqri2kynWAACghZUrV+qiiy5qdfvMmTO1aNEiBQIB3XfffVq8eLH27t2r3r17a+LEibr33ns1duxYHTx4UFdddZU++eQTWZaliRMn6v7779eECRPi2k5CDAAAMBJTrAEAgJEIMQAAwEiEGAAAYCRCDAAAMBIhBgAAGIkQAwAAjESIAQAARiLEAAAAIxFiAACAkQgxAADASIQYAABgpP8fOTYGhitrGNgAAAAASUVORK5CYII=",
      "text/plain": [
       "<Figure size 640x480 with 1 Axes>"
      ]
     },
     "metadata": {},
=======
      "image/png": "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\n",
=======
      "image/png": "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\n",
>>>>>>> 8192c8c (data cleaning)
      "text/plain": [
       "<Figure size 432x288 with 1 Axes>"
      ]
     },
     "metadata": {
      "needs_background": "light"
     },
>>>>>>> 800f0c325ecfb7193fdc7bea96aaaa54816eeaa2
     "output_type": "display_data"
    }
   ],
   "source": [
    "dataf1['foreign_gross'].plot.kde()\n",
    "plt.show()"
   ]
  },
  {
   "cell_type": "markdown",
   "metadata": {},
   "source": [
    "Distriution is skewed for both column, so replace the null values with the median. "
   ]
  },
  {
   "cell_type": "code",
<<<<<<< HEAD
   "execution_count": 16,
=======
   "execution_count": 17,
>>>>>>> 800f0c325ecfb7193fdc7bea96aaaa54816eeaa2
   "metadata": {},
   "outputs": [],
   "source": [
    "dataf1[['domestic_gross', 'foreign_gross']] = dataf1[['domestic_gross', 'foreign_gross']].fillna(dataf1[['domestic_gross', 'foreign_gross']].median())\n"
   ]
  },
  {
   "cell_type": "code",
<<<<<<< HEAD
   "execution_count": 17,
=======
   "execution_count": 18,
>>>>>>> 800f0c325ecfb7193fdc7bea96aaaa54816eeaa2
   "metadata": {},
   "outputs": [
    {
     "data": {
      "text/plain": [
       "title             0\n",
       "domestic_gross    0\n",
       "foreign_gross     0\n",
       "year              0\n",
       "dtype: int64"
      ]
     },
<<<<<<< HEAD
     "execution_count": 17,
=======
     "execution_count": 18,
>>>>>>> 800f0c325ecfb7193fdc7bea96aaaa54816eeaa2
     "metadata": {},
     "output_type": "execute_result"
    }
   ],
   "source": [
    "dataf1.isna().sum()"
   ]
  },
  {
   "cell_type": "code",
   "execution_count": null,
   "metadata": {},
   "outputs": [],
   "source": []
  },
  {
   "cell_type": "code",
<<<<<<< HEAD
   "execution_count": 18,
=======
   "execution_count": 19,
>>>>>>> 800f0c325ecfb7193fdc7bea96aaaa54816eeaa2
   "metadata": {},
   "outputs": [
    {
     "data": {
      "text/html": [
       "<div>\n",
       "<style scoped>\n",
       "    .dataframe tbody tr th:only-of-type {\n",
       "        vertical-align: middle;\n",
       "    }\n",
       "\n",
       "    .dataframe tbody tr th {\n",
       "        vertical-align: top;\n",
       "    }\n",
       "\n",
       "    .dataframe thead th {\n",
       "        text-align: right;\n",
       "    }\n",
       "</style>\n",
       "<table border=\"1\" class=\"dataframe\">\n",
       "  <thead>\n",
       "    <tr style=\"text-align: right;\">\n",
       "      <th></th>\n",
       "      <th>Unnamed: 0</th>\n",
       "      <th>genre_ids</th>\n",
       "      <th>id</th>\n",
       "      <th>original_language</th>\n",
       "      <th>original_title</th>\n",
       "      <th>popularity</th>\n",
       "      <th>release_date</th>\n",
       "      <th>title</th>\n",
       "      <th>vote_average</th>\n",
       "      <th>vote_count</th>\n",
       "    </tr>\n",
       "  </thead>\n",
       "  <tbody>\n",
       "    <tr>\n",
       "      <th>0</th>\n",
       "      <td>0</td>\n",
       "      <td>[12, 14, 10751]</td>\n",
       "      <td>12444</td>\n",
       "      <td>en</td>\n",
       "      <td>Harry Potter and the Deathly Hallows: Part 1</td>\n",
       "      <td>33.533</td>\n",
       "      <td>2010-11-19</td>\n",
       "      <td>Harry Potter and the Deathly Hallows: Part 1</td>\n",
       "      <td>7.7</td>\n",
       "      <td>10788</td>\n",
       "    </tr>\n",
       "    <tr>\n",
       "      <th>1</th>\n",
       "      <td>1</td>\n",
       "      <td>[14, 12, 16, 10751]</td>\n",
       "      <td>10191</td>\n",
       "      <td>en</td>\n",
       "      <td>How to Train Your Dragon</td>\n",
       "      <td>28.734</td>\n",
       "      <td>2010-03-26</td>\n",
       "      <td>How to Train Your Dragon</td>\n",
       "      <td>7.7</td>\n",
       "      <td>7610</td>\n",
       "    </tr>\n",
       "    <tr>\n",
       "      <th>2</th>\n",
       "      <td>2</td>\n",
       "      <td>[12, 28, 878]</td>\n",
       "      <td>10138</td>\n",
       "      <td>en</td>\n",
       "      <td>Iron Man 2</td>\n",
       "      <td>28.515</td>\n",
       "      <td>2010-05-07</td>\n",
       "      <td>Iron Man 2</td>\n",
       "      <td>6.8</td>\n",
       "      <td>12368</td>\n",
       "    </tr>\n",
       "    <tr>\n",
       "      <th>3</th>\n",
       "      <td>3</td>\n",
       "      <td>[16, 35, 10751]</td>\n",
       "      <td>862</td>\n",
       "      <td>en</td>\n",
       "      <td>Toy Story</td>\n",
       "      <td>28.005</td>\n",
       "      <td>1995-11-22</td>\n",
       "      <td>Toy Story</td>\n",
       "      <td>7.9</td>\n",
       "      <td>10174</td>\n",
       "    </tr>\n",
       "    <tr>\n",
       "      <th>4</th>\n",
       "      <td>4</td>\n",
       "      <td>[28, 878, 12]</td>\n",
       "      <td>27205</td>\n",
       "      <td>en</td>\n",
       "      <td>Inception</td>\n",
       "      <td>27.920</td>\n",
       "      <td>2010-07-16</td>\n",
       "      <td>Inception</td>\n",
       "      <td>8.3</td>\n",
       "      <td>22186</td>\n",
       "    </tr>\n",
       "  </tbody>\n",
       "</table>\n",
       "</div>"
      ],
      "text/plain": [
       "   Unnamed: 0            genre_ids     id original_language  \\\n",
       "0           0      [12, 14, 10751]  12444                en   \n",
       "1           1  [14, 12, 16, 10751]  10191                en   \n",
       "2           2        [12, 28, 878]  10138                en   \n",
       "3           3      [16, 35, 10751]    862                en   \n",
       "4           4        [28, 878, 12]  27205                en   \n",
       "\n",
       "                                 original_title  popularity release_date  \\\n",
       "0  Harry Potter and the Deathly Hallows: Part 1      33.533   2010-11-19   \n",
       "1                      How to Train Your Dragon      28.734   2010-03-26   \n",
       "2                                    Iron Man 2      28.515   2010-05-07   \n",
       "3                                     Toy Story      28.005   1995-11-22   \n",
       "4                                     Inception      27.920   2010-07-16   \n",
       "\n",
       "                                          title  vote_average  vote_count  \n",
       "0  Harry Potter and the Deathly Hallows: Part 1           7.7       10788  \n",
       "1                      How to Train Your Dragon           7.7        7610  \n",
       "2                                    Iron Man 2           6.8       12368  \n",
       "3                                     Toy Story           7.9       10174  \n",
       "4                                     Inception           8.3       22186  "
      ]
     },
<<<<<<< HEAD
     "execution_count": 18,
     "metadata": {},
     "output_type": "execute_result"
    }
   ],
   "source": [
    "data2 = pd.read_csv('zippedData/tmdb.movies.csv.gz')\n",
    "data2.head()"
   ]
  },
  {
   "cell_type": "code",
   "execution_count": null,
   "metadata": {},
   "outputs": [],
   "source": []
  },
  {
   "cell_type": "code",
   "execution_count": 19,
   "metadata": {},
   "outputs": [
    {
     "data": {
      "text/plain": [
       "(26517, 10)"
      ]
     },
=======
>>>>>>> 800f0c325ecfb7193fdc7bea96aaaa54816eeaa2
     "execution_count": 19,
     "metadata": {},
     "output_type": "execute_result"
    }
   ],
   "source": [
<<<<<<< HEAD
    "data2.shape"
=======
    "data2 = pd.read_csv('tmdb.movies.csv')\n",
    "data2.head()\n"
>>>>>>> 800f0c325ecfb7193fdc7bea96aaaa54816eeaa2
   ]
  },
  {
   "cell_type": "code",
   "execution_count": 20,
   "metadata": {},
   "outputs": [
    {
     "data": {
<<<<<<< HEAD
      "text/plain": [
       "Unnamed: 0           0\n",
       "genre_ids            0\n",
       "id                   0\n",
       "original_language    0\n",
       "original_title       0\n",
       "popularity           0\n",
       "release_date         0\n",
       "title                0\n",
       "vote_average         0\n",
       "vote_count           0\n",
       "dtype: int64"
=======
      "text/html": [
       "<div>\n",
       "<style scoped>\n",
       "    .dataframe tbody tr th:only-of-type {\n",
       "        vertical-align: middle;\n",
       "    }\n",
       "\n",
       "    .dataframe tbody tr th {\n",
       "        vertical-align: top;\n",
       "    }\n",
       "\n",
       "    .dataframe thead th {\n",
       "        text-align: right;\n",
       "    }\n",
       "</style>\n",
       "<table border=\"1\" class=\"dataframe\">\n",
       "  <thead>\n",
       "    <tr style=\"text-align: right;\">\n",
       "      <th></th>\n",
       "      <th>Unnamed: 0</th>\n",
       "      <th>genre_ids</th>\n",
       "      <th>id</th>\n",
       "      <th>original_language</th>\n",
       "      <th>original_title</th>\n",
       "      <th>popularity</th>\n",
       "      <th>release_date</th>\n",
       "      <th>title</th>\n",
       "      <th>vote_average</th>\n",
       "      <th>vote_count</th>\n",
       "    </tr>\n",
       "  </thead>\n",
       "  <tbody>\n",
       "    <tr>\n",
       "      <th>0</th>\n",
       "      <td>0</td>\n",
       "      <td>[12, 14, 10751]</td>\n",
       "      <td>12444</td>\n",
       "      <td>en</td>\n",
       "      <td>Harry Potter and the Deathly Hallows: Part 1</td>\n",
       "      <td>33.533</td>\n",
       "      <td>2010-11-19</td>\n",
       "      <td>Harry Potter and the Deathly Hallows: Part 1</td>\n",
       "      <td>7.7</td>\n",
       "      <td>10788</td>\n",
       "    </tr>\n",
       "    <tr>\n",
       "      <th>1</th>\n",
       "      <td>1</td>\n",
       "      <td>[14, 12, 16, 10751]</td>\n",
       "      <td>10191</td>\n",
       "      <td>en</td>\n",
       "      <td>How to Train Your Dragon</td>\n",
       "      <td>28.734</td>\n",
       "      <td>2010-03-26</td>\n",
       "      <td>How to Train Your Dragon</td>\n",
       "      <td>7.7</td>\n",
       "      <td>7610</td>\n",
       "    </tr>\n",
       "    <tr>\n",
       "      <th>2</th>\n",
       "      <td>2</td>\n",
       "      <td>[12, 28, 878]</td>\n",
       "      <td>10138</td>\n",
       "      <td>en</td>\n",
       "      <td>Iron Man 2</td>\n",
       "      <td>28.515</td>\n",
       "      <td>2010-05-07</td>\n",
       "      <td>Iron Man 2</td>\n",
       "      <td>6.8</td>\n",
       "      <td>12368</td>\n",
       "    </tr>\n",
       "    <tr>\n",
       "      <th>3</th>\n",
       "      <td>3</td>\n",
       "      <td>[16, 35, 10751]</td>\n",
       "      <td>862</td>\n",
       "      <td>en</td>\n",
       "      <td>Toy Story</td>\n",
       "      <td>28.005</td>\n",
       "      <td>1995-11-22</td>\n",
       "      <td>Toy Story</td>\n",
       "      <td>7.9</td>\n",
       "      <td>10174</td>\n",
       "    </tr>\n",
       "    <tr>\n",
       "      <th>4</th>\n",
       "      <td>4</td>\n",
       "      <td>[28, 878, 12]</td>\n",
       "      <td>27205</td>\n",
       "      <td>en</td>\n",
       "      <td>Inception</td>\n",
       "      <td>27.920</td>\n",
       "      <td>2010-07-16</td>\n",
       "      <td>Inception</td>\n",
       "      <td>8.3</td>\n",
       "      <td>22186</td>\n",
       "    </tr>\n",
       "  </tbody>\n",
       "</table>\n",
       "</div>"
      ],
      "text/plain": [
       "   Unnamed: 0            genre_ids     id original_language  \\\n",
       "0           0      [12, 14, 10751]  12444                en   \n",
       "1           1  [14, 12, 16, 10751]  10191                en   \n",
       "2           2        [12, 28, 878]  10138                en   \n",
       "3           3      [16, 35, 10751]    862                en   \n",
       "4           4        [28, 878, 12]  27205                en   \n",
       "\n",
       "                                 original_title  popularity release_date  \\\n",
       "0  Harry Potter and the Deathly Hallows: Part 1      33.533   2010-11-19   \n",
       "1                      How to Train Your Dragon      28.734   2010-03-26   \n",
       "2                                    Iron Man 2      28.515   2010-05-07   \n",
       "3                                     Toy Story      28.005   1995-11-22   \n",
       "4                                     Inception      27.920   2010-07-16   \n",
       "\n",
       "                                          title  vote_average  vote_count  \n",
       "0  Harry Potter and the Deathly Hallows: Part 1           7.7       10788  \n",
       "1                      How to Train Your Dragon           7.7        7610  \n",
       "2                                    Iron Man 2           6.8       12368  \n",
       "3                                     Toy Story           7.9       10174  \n",
       "4                                     Inception           8.3       22186  "
>>>>>>> 800f0c325ecfb7193fdc7bea96aaaa54816eeaa2
      ]
     },
     "execution_count": 20,
     "metadata": {},
     "output_type": "execute_result"
    }
   ],
   "source": [
<<<<<<< HEAD
    "data2.isna().sum()"
=======
    "# Creating a copy of the data to be used in cleaning\n",
    "dataf2=data2.copy(deep=True)\n",
    "dataf2.head()"
>>>>>>> 800f0c325ecfb7193fdc7bea96aaaa54816eeaa2
   ]
  },
  {
   "cell_type": "code",
   "execution_count": 21,
   "metadata": {},
   "outputs": [
    {
<<<<<<< HEAD
=======
     "data": {
      "text/plain": [
       "(26517, 10)"
      ]
     },
     "execution_count": 21,
     "metadata": {},
     "output_type": "execute_result"
    }
   ],
   "source": [
    "dataf2.shape"
   ]
  },
  {
   "cell_type": "code",
   "execution_count": 22,
   "metadata": {},
   "outputs": [
    {
>>>>>>> 800f0c325ecfb7193fdc7bea96aaaa54816eeaa2
     "name": "stdout",
     "output_type": "stream",
     "text": [
      "<class 'pandas.core.frame.DataFrame'>\n",
      "RangeIndex: 26517 entries, 0 to 26516\n",
      "Data columns (total 10 columns):\n",
      " #   Column             Non-Null Count  Dtype  \n",
      "---  ------             --------------  -----  \n",
      " 0   Unnamed: 0         26517 non-null  int64  \n",
      " 1   genre_ids          26517 non-null  object \n",
      " 2   id                 26517 non-null  int64  \n",
      " 3   original_language  26517 non-null  object \n",
      " 4   original_title     26517 non-null  object \n",
      " 5   popularity         26517 non-null  float64\n",
      " 6   release_date       26517 non-null  object \n",
      " 7   title              26517 non-null  object \n",
      " 8   vote_average       26517 non-null  float64\n",
      " 9   vote_count         26517 non-null  int64  \n",
      "dtypes: float64(2), int64(3), object(5)\n",
      "memory usage: 2.0+ MB\n"
     ]
    }
   ],
   "source": [
<<<<<<< HEAD
    "data2.info()"
=======
    "dataf2.info()"
   ]
  },
  {
   "cell_type": "markdown",
   "metadata": {},
   "source": [
    "Observation : The data contains 26517 rows and 10 columns of which 5 are numeric columns and 5 are categorical columns"
>>>>>>> 800f0c325ecfb7193fdc7bea96aaaa54816eeaa2
   ]
  },
  {
   "cell_type": "code",
<<<<<<< HEAD
   "execution_count": 22,
=======
   "execution_count": 23,
   "metadata": {},
   "outputs": [
    {
     "data": {
      "text/html": [
       "<div>\n",
       "<style scoped>\n",
       "    .dataframe tbody tr th:only-of-type {\n",
       "        vertical-align: middle;\n",
       "    }\n",
       "\n",
       "    .dataframe tbody tr th {\n",
       "        vertical-align: top;\n",
       "    }\n",
       "\n",
       "    .dataframe thead th {\n",
       "        text-align: right;\n",
       "    }\n",
       "</style>\n",
       "<table border=\"1\" class=\"dataframe\">\n",
       "  <thead>\n",
       "    <tr style=\"text-align: right;\">\n",
       "      <th></th>\n",
       "      <th>count</th>\n",
       "      <th>mean</th>\n",
       "      <th>std</th>\n",
       "      <th>min</th>\n",
       "      <th>25%</th>\n",
       "      <th>50%</th>\n",
       "      <th>75%</th>\n",
       "      <th>max</th>\n",
       "    </tr>\n",
       "  </thead>\n",
       "  <tbody>\n",
       "    <tr>\n",
       "      <th>Unnamed: 0</th>\n",
       "      <td>26517.0</td>\n",
       "      <td>13258.000000</td>\n",
       "      <td>7654.942880</td>\n",
       "      <td>0.0</td>\n",
       "      <td>6629.0</td>\n",
       "      <td>13258.000</td>\n",
       "      <td>19887.000</td>\n",
       "      <td>26516.000</td>\n",
       "    </tr>\n",
       "    <tr>\n",
       "      <th>id</th>\n",
       "      <td>26517.0</td>\n",
       "      <td>295050.153260</td>\n",
       "      <td>153661.615648</td>\n",
       "      <td>27.0</td>\n",
       "      <td>157851.0</td>\n",
       "      <td>309581.000</td>\n",
       "      <td>419542.000</td>\n",
       "      <td>608444.000</td>\n",
       "    </tr>\n",
       "    <tr>\n",
       "      <th>popularity</th>\n",
       "      <td>26517.0</td>\n",
       "      <td>3.130912</td>\n",
       "      <td>4.355229</td>\n",
       "      <td>0.6</td>\n",
       "      <td>0.6</td>\n",
       "      <td>1.374</td>\n",
       "      <td>3.694</td>\n",
       "      <td>80.773</td>\n",
       "    </tr>\n",
       "    <tr>\n",
       "      <th>vote_average</th>\n",
       "      <td>26517.0</td>\n",
       "      <td>5.991281</td>\n",
       "      <td>1.852946</td>\n",
       "      <td>0.0</td>\n",
       "      <td>5.0</td>\n",
       "      <td>6.000</td>\n",
       "      <td>7.000</td>\n",
       "      <td>10.000</td>\n",
       "    </tr>\n",
       "    <tr>\n",
       "      <th>vote_count</th>\n",
       "      <td>26517.0</td>\n",
       "      <td>194.224837</td>\n",
       "      <td>960.961095</td>\n",
       "      <td>1.0</td>\n",
       "      <td>2.0</td>\n",
       "      <td>5.000</td>\n",
       "      <td>28.000</td>\n",
       "      <td>22186.000</td>\n",
       "    </tr>\n",
       "  </tbody>\n",
       "</table>\n",
       "</div>"
      ],
      "text/plain": [
       "                count           mean            std   min       25%  \\\n",
       "Unnamed: 0    26517.0   13258.000000    7654.942880   0.0    6629.0   \n",
       "id            26517.0  295050.153260  153661.615648  27.0  157851.0   \n",
       "popularity    26517.0       3.130912       4.355229   0.6       0.6   \n",
       "vote_average  26517.0       5.991281       1.852946   0.0       5.0   \n",
       "vote_count    26517.0     194.224837     960.961095   1.0       2.0   \n",
       "\n",
       "                     50%         75%         max  \n",
       "Unnamed: 0     13258.000   19887.000   26516.000  \n",
       "id            309581.000  419542.000  608444.000  \n",
       "popularity         1.374       3.694      80.773  \n",
       "vote_average       6.000       7.000      10.000  \n",
       "vote_count         5.000      28.000   22186.000  "
      ]
     },
     "execution_count": 23,
     "metadata": {},
     "output_type": "execute_result"
    }
   ],
   "source": [
    "dataf2.describe().T"
   ]
  },
  {
   "cell_type": "code",
   "execution_count": 24,
   "metadata": {},
   "outputs": [
    {
     "data": {
      "text/html": [
       "<div>\n",
       "<style scoped>\n",
       "    .dataframe tbody tr th:only-of-type {\n",
       "        vertical-align: middle;\n",
       "    }\n",
       "\n",
       "    .dataframe tbody tr th {\n",
       "        vertical-align: top;\n",
       "    }\n",
       "\n",
       "    .dataframe thead th {\n",
       "        text-align: right;\n",
       "    }\n",
       "</style>\n",
       "<table border=\"1\" class=\"dataframe\">\n",
       "  <thead>\n",
       "    <tr style=\"text-align: right;\">\n",
       "      <th></th>\n",
       "      <th>count</th>\n",
       "      <th>unique</th>\n",
       "      <th>top</th>\n",
       "      <th>freq</th>\n",
       "    </tr>\n",
       "  </thead>\n",
       "  <tbody>\n",
       "    <tr>\n",
       "      <th>genre_ids</th>\n",
       "      <td>26517</td>\n",
       "      <td>2477</td>\n",
       "      <td>[99]</td>\n",
       "      <td>3700</td>\n",
       "    </tr>\n",
       "    <tr>\n",
       "      <th>original_language</th>\n",
       "      <td>26517</td>\n",
       "      <td>76</td>\n",
       "      <td>en</td>\n",
       "      <td>23291</td>\n",
       "    </tr>\n",
       "    <tr>\n",
       "      <th>original_title</th>\n",
       "      <td>26517</td>\n",
       "      <td>24835</td>\n",
       "      <td>Eden</td>\n",
       "      <td>7</td>\n",
       "    </tr>\n",
       "    <tr>\n",
       "      <th>release_date</th>\n",
       "      <td>26517</td>\n",
       "      <td>3433</td>\n",
       "      <td>2010-01-01</td>\n",
       "      <td>269</td>\n",
       "    </tr>\n",
       "    <tr>\n",
       "      <th>title</th>\n",
       "      <td>26517</td>\n",
       "      <td>24688</td>\n",
       "      <td>Eden</td>\n",
       "      <td>7</td>\n",
       "    </tr>\n",
       "  </tbody>\n",
       "</table>\n",
       "</div>"
      ],
      "text/plain": [
       "                   count unique         top   freq\n",
       "genre_ids          26517   2477        [99]   3700\n",
       "original_language  26517     76          en  23291\n",
       "original_title     26517  24835        Eden      7\n",
       "release_date       26517   3433  2010-01-01    269\n",
       "title              26517  24688        Eden      7"
      ]
     },
     "execution_count": 24,
     "metadata": {},
     "output_type": "execute_result"
    }
   ],
   "source": [
    "dataf2.describe(include = 'O').T"
   ]
  },
  {
   "cell_type": "code",
   "execution_count": 25,
   "metadata": {},
   "outputs": [
    {
     "name": "stdout",
     "output_type": "stream",
     "text": [
      "unique values in column'Unnamed: 0' are : '\n",
      "':[    0     1     2 ... 26514 26515 26516] \n",
      "\n",
      "unique values in column'genre_ids' are : '\n",
      "':['[12, 14, 10751]' '[14, 12, 16, 10751]' '[12, 28, 878]' ...\n",
      " '[18, 14, 27, 878, 10749, 53]' '[16, 27, 9648]' '[10751, 12, 28]'] \n",
      "\n",
      "unique values in column'id' are : '\n",
      "':[ 12444  10191  10138 ... 381231 366854 309885] \n",
      "\n",
      "unique values in column'original_language' are : '\n",
      "':['en' 'nl' 'es' 'ja' 'sv' 'de' 'fr' 'cn' 'it' 'ru' 'zh' 'hi' 'no' 'ko'\n",
      " 'da' 'fi' 'pl' 'te' 'hu' 'tr' 'pt' 'he' 'fa' 'th' 'cs' 'et' 'tl' 'lt'\n",
      " 'xx' 'bs' 'ar' 'is' 'el' 'mr' 'hr' 'ro' 'sr' 'uk' 'nb' 'hz' 'ca' 'bg'\n",
      " 'sl' 'lv' 'si' 'ab' 'ta' 'bo' 'id' 'sq' 'bn' 'gu' 'lo' 'ne' 'kk' 'hy'\n",
      " 'ps' 'kn' 'vi' 'ku' 'ka' 'ml' 'ur' 'mi' 'eu' 'sn' 'cy' 'ha' 'ky' 'yi'\n",
      " 'pa' 'xh' 'cr' 'sw' 'af' 'dz'] \n",
      "\n",
      "unique values in column'original_title' are : '\n",
      "':['Harry Potter and the Deathly Hallows: Part 1' 'How to Train Your Dragon'\n",
      " 'Iron Man 2' ... 'The Last One' 'Trailer Made' 'The Church'] \n",
      "\n",
      "unique values in column'popularity' are : '\n",
      "':[33.533 28.734 28.515 ...  0.612  0.609  0.607] \n",
      "\n",
      "unique values in column'release_date' are : '\n",
      "':['2010-11-19' '2010-03-26' '2010-05-07' ... '2018-05-08' '2018-08-02'\n",
      " '2018-05-26'] \n",
      "\n",
      "unique values in column'title' are : '\n",
      "':['Harry Potter and the Deathly Hallows: Part 1' 'How to Train Your Dragon'\n",
      " 'Iron Man 2' ... 'The Last One' 'Trailer Made' 'The Church'] \n",
      "\n",
      "unique values in column'vote_average' are : '\n",
      "':[ 7.7  6.8  7.9  8.3  6.1  7.4  7.2  7.5  6.6  6.   6.7  4.5  7.3  8.1\n",
      "  6.3  4.6  5.7  5.9  8.2  6.2  6.4  7.6  6.5  7.1  5.6  5.3  7.   5.8\n",
      "  4.9  5.1  5.5  6.9  5.4  7.8  4.7  4.1  4.8  3.2  8.   3.7  5.2  2.7\n",
      "  4.4  5.   2.9  2.   4.   4.2  3.9  4.3  3.5  3.8  3.6  3.4  3.3  3.1\n",
      "  3.   2.5  2.6 10.   2.2  1.7  2.8  2.3  1.6  1.8  2.4  1.5  8.6  1.9\n",
      "  9.   8.7  0.5  1.   8.4  2.1  8.8  1.3  9.5  8.5  9.8  0.   8.9  9.3\n",
      "  9.4  9.2  0.8  1.2  1.4  9.1  9.7] \n",
      "\n",
      "unique values in column'vote_count' are : '\n",
      "':[10788  7610 12368 ...  1163   285   721] \n",
      "\n"
     ]
    }
   ],
   "source": [
    "# Checking for unique values\n",
    "for column in dataf2:\n",
    "    unique_values = dataf2[column].unique()\n",
    "    print(f\"unique values in column'{column}' are : '\\n':{unique_values}\",'\\n')"
   ]
  },
  {
   "cell_type": "code",
   "execution_count": 26,
   "metadata": {},
   "outputs": [
    {
     "data": {
      "text/plain": [
       "0"
      ]
     },
     "execution_count": 26,
     "metadata": {},
     "output_type": "execute_result"
    }
   ],
   "source": [
    "# checking for Duplicates\n",
    "dataf2.duplicated().sum()\n"
   ]
  },
  {
   "cell_type": "markdown",
   "metadata": {},
   "source": [
    "Observation : There are no duplicated rows in the dataset"
   ]
  },
  {
   "cell_type": "code",
   "execution_count": 27,
   "metadata": {},
   "outputs": [
    {
     "data": {
      "text/plain": [
       "Index(['Unnamed: 0', 'genre_ids', 'id', 'original_language', 'original_title',\n",
       "       'popularity', 'release_date', 'title', 'vote_average', 'vote_count'],\n",
       "      dtype='object')"
      ]
     },
     "execution_count": 27,
     "metadata": {},
     "output_type": "execute_result"
    }
   ],
   "source": [
    "#Checking the column names\n",
    "dataf2.columns"
   ]
  },
  {
   "cell_type": "code",
   "execution_count": 28,
   "metadata": {},
   "outputs": [
    {
     "data": {
      "text/html": [
       "<div>\n",
       "<style scoped>\n",
       "    .dataframe tbody tr th:only-of-type {\n",
       "        vertical-align: middle;\n",
       "    }\n",
       "\n",
       "    .dataframe tbody tr th {\n",
       "        vertical-align: top;\n",
       "    }\n",
       "\n",
       "    .dataframe thead th {\n",
       "        text-align: right;\n",
       "    }\n",
       "</style>\n",
       "<table border=\"1\" class=\"dataframe\">\n",
       "  <thead>\n",
       "    <tr style=\"text-align: right;\">\n",
       "      <th></th>\n",
       "      <th>popularity</th>\n",
       "      <th>release_date</th>\n",
       "      <th>title</th>\n",
       "      <th>vote_average</th>\n",
       "      <th>vote_count</th>\n",
       "    </tr>\n",
       "  </thead>\n",
       "  <tbody>\n",
       "    <tr>\n",
       "      <th>0</th>\n",
       "      <td>33.533</td>\n",
       "      <td>2010-11-19</td>\n",
       "      <td>Harry Potter and the Deathly Hallows: Part 1</td>\n",
       "      <td>7.7</td>\n",
       "      <td>10788</td>\n",
       "    </tr>\n",
       "    <tr>\n",
       "      <th>1</th>\n",
       "      <td>28.734</td>\n",
       "      <td>2010-03-26</td>\n",
       "      <td>How to Train Your Dragon</td>\n",
       "      <td>7.7</td>\n",
       "      <td>7610</td>\n",
       "    </tr>\n",
       "    <tr>\n",
       "      <th>2</th>\n",
       "      <td>28.515</td>\n",
       "      <td>2010-05-07</td>\n",
       "      <td>Iron Man 2</td>\n",
       "      <td>6.8</td>\n",
       "      <td>12368</td>\n",
       "    </tr>\n",
       "    <tr>\n",
       "      <th>3</th>\n",
       "      <td>28.005</td>\n",
       "      <td>1995-11-22</td>\n",
       "      <td>Toy Story</td>\n",
       "      <td>7.9</td>\n",
       "      <td>10174</td>\n",
       "    </tr>\n",
       "    <tr>\n",
       "      <th>4</th>\n",
       "      <td>27.920</td>\n",
       "      <td>2010-07-16</td>\n",
       "      <td>Inception</td>\n",
       "      <td>8.3</td>\n",
       "      <td>22186</td>\n",
       "    </tr>\n",
       "  </tbody>\n",
       "</table>\n",
       "</div>"
      ],
      "text/plain": [
       "   popularity release_date                                         title  \\\n",
       "0      33.533   2010-11-19  Harry Potter and the Deathly Hallows: Part 1   \n",
       "1      28.734   2010-03-26                      How to Train Your Dragon   \n",
       "2      28.515   2010-05-07                                    Iron Man 2   \n",
       "3      28.005   1995-11-22                                     Toy Story   \n",
       "4      27.920   2010-07-16                                     Inception   \n",
       "\n",
       "   vote_average  vote_count  \n",
       "0           7.7       10788  \n",
       "1           7.7        7610  \n",
       "2           6.8       12368  \n",
       "3           7.9       10174  \n",
       "4           8.3       22186  "
      ]
     },
     "execution_count": 28,
     "metadata": {},
     "output_type": "execute_result"
    }
   ],
   "source": [
    "#Dropping unnecessary columns\n",
    "dataf2.drop(['Unnamed: 0','genre_ids', 'id','original_language','original_title' ], axis = 1, inplace = True)\n",
    "dataf2.head()"
   ]
  },
  {
   "cell_type": "code",
   "execution_count": 29,
   "metadata": {},
   "outputs": [
    {
     "data": {
      "text/plain": [
       "popularity      0\n",
       "release_date    0\n",
       "title           0\n",
       "vote_average    0\n",
       "vote_count      0\n",
       "dtype: int64"
      ]
     },
     "execution_count": 29,
     "metadata": {},
     "output_type": "execute_result"
    }
   ],
   "source": [
    "# Checking for missing values\n",
    "dataf2.isna().sum()"
   ]
  },
  {
   "cell_type": "markdown",
   "metadata": {},
   "source": [
    "Observation : There are no missing values in the dataset"
   ]
  },
  {
   "cell_type": "markdown",
   "metadata": {},
   "source": [
    "end of dataf2 cleaning"
   ]
  },
  {
   "cell_type": "code",
   "execution_count": null,
   "metadata": {},
   "outputs": [],
   "source": []
  },
  {
   "cell_type": "code",
   "execution_count": null,
   "metadata": {},
   "outputs": [],
   "source": []
  },
  {
   "cell_type": "code",
   "execution_count": 30,
>>>>>>> 800f0c325ecfb7193fdc7bea96aaaa54816eeaa2
   "metadata": {},
   "outputs": [
    {
     "data": {
      "text/html": [
       "<div>\n",
       "<style scoped>\n",
       "    .dataframe tbody tr th:only-of-type {\n",
       "        vertical-align: middle;\n",
       "    }\n",
       "\n",
       "    .dataframe tbody tr th {\n",
       "        vertical-align: top;\n",
       "    }\n",
       "\n",
       "    .dataframe thead th {\n",
       "        text-align: right;\n",
       "    }\n",
       "</style>\n",
       "<table border=\"1\" class=\"dataframe\">\n",
       "  <thead>\n",
       "    <tr style=\"text-align: right;\">\n",
       "      <th></th>\n",
       "      <th>id</th>\n",
       "      <th>release_date</th>\n",
       "      <th>movie</th>\n",
       "      <th>production_budget</th>\n",
       "      <th>domestic_gross</th>\n",
       "      <th>worldwide_gross</th>\n",
       "    </tr>\n",
       "  </thead>\n",
       "  <tbody>\n",
       "    <tr>\n",
       "      <th>0</th>\n",
       "      <td>1</td>\n",
       "      <td>Dec 18, 2009</td>\n",
       "      <td>Avatar</td>\n",
       "      <td>$425,000,000</td>\n",
       "      <td>$760,507,625</td>\n",
       "      <td>$2,776,345,279</td>\n",
       "    </tr>\n",
       "    <tr>\n",
       "      <th>1</th>\n",
       "      <td>2</td>\n",
       "      <td>May 20, 2011</td>\n",
       "      <td>Pirates of the Caribbean: On Stranger Tides</td>\n",
       "      <td>$410,600,000</td>\n",
       "      <td>$241,063,875</td>\n",
       "      <td>$1,045,663,875</td>\n",
       "    </tr>\n",
       "    <tr>\n",
       "      <th>2</th>\n",
       "      <td>3</td>\n",
       "      <td>Jun 7, 2019</td>\n",
       "      <td>Dark Phoenix</td>\n",
       "      <td>$350,000,000</td>\n",
       "      <td>$42,762,350</td>\n",
       "      <td>$149,762,350</td>\n",
       "    </tr>\n",
       "    <tr>\n",
       "      <th>3</th>\n",
       "      <td>4</td>\n",
       "      <td>May 1, 2015</td>\n",
       "      <td>Avengers: Age of Ultron</td>\n",
       "      <td>$330,600,000</td>\n",
       "      <td>$459,005,868</td>\n",
       "      <td>$1,403,013,963</td>\n",
       "    </tr>\n",
       "    <tr>\n",
       "      <th>4</th>\n",
       "      <td>5</td>\n",
       "      <td>Dec 15, 2017</td>\n",
       "      <td>Star Wars Ep. VIII: The Last Jedi</td>\n",
       "      <td>$317,000,000</td>\n",
       "      <td>$620,181,382</td>\n",
       "      <td>$1,316,721,747</td>\n",
       "    </tr>\n",
       "    <tr>\n",
       "      <th>...</th>\n",
       "      <td>...</td>\n",
       "      <td>...</td>\n",
       "      <td>...</td>\n",
       "      <td>...</td>\n",
       "      <td>...</td>\n",
       "      <td>...</td>\n",
       "    </tr>\n",
       "    <tr>\n",
       "      <th>5777</th>\n",
       "      <td>78</td>\n",
       "      <td>Dec 31, 2018</td>\n",
       "      <td>Red 11</td>\n",
       "      <td>$7,000</td>\n",
       "      <td>$0</td>\n",
       "      <td>$0</td>\n",
       "    </tr>\n",
       "    <tr>\n",
       "      <th>5778</th>\n",
       "      <td>79</td>\n",
       "      <td>Apr 2, 1999</td>\n",
       "      <td>Following</td>\n",
       "      <td>$6,000</td>\n",
       "      <td>$48,482</td>\n",
       "      <td>$240,495</td>\n",
       "    </tr>\n",
       "    <tr>\n",
       "      <th>5779</th>\n",
       "      <td>80</td>\n",
       "      <td>Jul 13, 2005</td>\n",
       "      <td>Return to the Land of Wonders</td>\n",
       "      <td>$5,000</td>\n",
       "      <td>$1,338</td>\n",
       "      <td>$1,338</td>\n",
       "    </tr>\n",
       "    <tr>\n",
       "      <th>5780</th>\n",
       "      <td>81</td>\n",
       "      <td>Sep 29, 2015</td>\n",
       "      <td>A Plague So Pleasant</td>\n",
       "      <td>$1,400</td>\n",
       "      <td>$0</td>\n",
       "      <td>$0</td>\n",
       "    </tr>\n",
       "    <tr>\n",
       "      <th>5781</th>\n",
       "      <td>82</td>\n",
       "      <td>Aug 5, 2005</td>\n",
       "      <td>My Date With Drew</td>\n",
       "      <td>$1,100</td>\n",
       "      <td>$181,041</td>\n",
       "      <td>$181,041</td>\n",
       "    </tr>\n",
       "  </tbody>\n",
       "</table>\n",
       "<p>5782 rows × 6 columns</p>\n",
       "</div>"
      ],
      "text/plain": [
       "      id  release_date                                        movie  \\\n",
       "0      1  Dec 18, 2009                                       Avatar   \n",
       "1      2  May 20, 2011  Pirates of the Caribbean: On Stranger Tides   \n",
       "2      3   Jun 7, 2019                                 Dark Phoenix   \n",
       "3      4   May 1, 2015                      Avengers: Age of Ultron   \n",
       "4      5  Dec 15, 2017            Star Wars Ep. VIII: The Last Jedi   \n",
       "...   ..           ...                                          ...   \n",
       "5777  78  Dec 31, 2018                                       Red 11   \n",
       "5778  79   Apr 2, 1999                                    Following   \n",
       "5779  80  Jul 13, 2005                Return to the Land of Wonders   \n",
       "5780  81  Sep 29, 2015                         A Plague So Pleasant   \n",
       "5781  82   Aug 5, 2005                            My Date With Drew   \n",
       "\n",
       "     production_budget domestic_gross worldwide_gross  \n",
       "0         $425,000,000   $760,507,625  $2,776,345,279  \n",
       "1         $410,600,000   $241,063,875  $1,045,663,875  \n",
       "2         $350,000,000    $42,762,350    $149,762,350  \n",
       "3         $330,600,000   $459,005,868  $1,403,013,963  \n",
       "4         $317,000,000   $620,181,382  $1,316,721,747  \n",
       "...                ...            ...             ...  \n",
       "5777            $7,000             $0              $0  \n",
       "5778            $6,000        $48,482        $240,495  \n",
       "5779            $5,000         $1,338          $1,338  \n",
       "5780            $1,400             $0              $0  \n",
       "5781            $1,100       $181,041        $181,041  \n",
       "\n",
       "[5782 rows x 6 columns]"
      ]
     },
<<<<<<< HEAD
     "execution_count": 22,
=======
     "execution_count": 30,
>>>>>>> 800f0c325ecfb7193fdc7bea96aaaa54816eeaa2
     "metadata": {},
     "output_type": "execute_result"
    }
   ],
   "source": [
<<<<<<< HEAD
    "# Reading the dataset and creating a dataframe\n",
    "data3 = pd.read_csv('zippedData/tn.movie_budgets.csv.gz')\n",
=======
    "data3 = pd.read_csv('tn.movie_budgets.csv')\n",
>>>>>>> 800f0c325ecfb7193fdc7bea96aaaa54816eeaa2
    "data3"
   ]
  },
  {
   "cell_type": "code",
<<<<<<< HEAD
   "execution_count": 32,
   "metadata": {},
   "outputs": [
    {
     "data": {
      "text/html": [
       "<div>\n",
       "<style scoped>\n",
       "    .dataframe tbody tr th:only-of-type {\n",
       "        vertical-align: middle;\n",
       "    }\n",
       "\n",
       "    .dataframe tbody tr th {\n",
       "        vertical-align: top;\n",
       "    }\n",
       "\n",
       "    .dataframe thead th {\n",
       "        text-align: right;\n",
       "    }\n",
       "</style>\n",
       "<table border=\"1\" class=\"dataframe\">\n",
       "  <thead>\n",
       "    <tr style=\"text-align: right;\">\n",
       "      <th></th>\n",
       "      <th>id</th>\n",
       "      <th>release_date</th>\n",
       "      <th>movie</th>\n",
       "      <th>production_budget</th>\n",
       "      <th>domestic_gross</th>\n",
       "      <th>worldwide_gross</th>\n",
       "    </tr>\n",
       "  </thead>\n",
       "  <tbody>\n",
       "    <tr>\n",
       "      <th>0</th>\n",
       "      <td>1</td>\n",
       "      <td>Dec 18, 2009</td>\n",
       "      <td>Avatar</td>\n",
       "      <td>$425,000,000</td>\n",
       "      <td>$760,507,625</td>\n",
       "      <td>$2,776,345,279</td>\n",
       "    </tr>\n",
       "    <tr>\n",
       "      <th>1</th>\n",
       "      <td>2</td>\n",
       "      <td>May 20, 2011</td>\n",
       "      <td>Pirates of the Caribbean: On Stranger Tides</td>\n",
       "      <td>$410,600,000</td>\n",
       "      <td>$241,063,875</td>\n",
       "      <td>$1,045,663,875</td>\n",
       "    </tr>\n",
       "    <tr>\n",
       "      <th>2</th>\n",
       "      <td>3</td>\n",
       "      <td>Jun 7, 2019</td>\n",
       "      <td>Dark Phoenix</td>\n",
       "      <td>$350,000,000</td>\n",
       "      <td>$42,762,350</td>\n",
       "      <td>$149,762,350</td>\n",
       "    </tr>\n",
       "    <tr>\n",
       "      <th>3</th>\n",
       "      <td>4</td>\n",
       "      <td>May 1, 2015</td>\n",
       "      <td>Avengers: Age of Ultron</td>\n",
       "      <td>$330,600,000</td>\n",
       "      <td>$459,005,868</td>\n",
       "      <td>$1,403,013,963</td>\n",
       "    </tr>\n",
       "    <tr>\n",
       "      <th>4</th>\n",
       "      <td>5</td>\n",
       "      <td>Dec 15, 2017</td>\n",
       "      <td>Star Wars Ep. VIII: The Last Jedi</td>\n",
       "      <td>$317,000,000</td>\n",
       "      <td>$620,181,382</td>\n",
       "      <td>$1,316,721,747</td>\n",
       "    </tr>\n",
       "  </tbody>\n",
       "</table>\n",
       "</div>"
      ],
      "text/plain": [
       "   id  release_date                                        movie  \\\n",
       "0   1  Dec 18, 2009                                       Avatar   \n",
       "1   2  May 20, 2011  Pirates of the Caribbean: On Stranger Tides   \n",
       "2   3   Jun 7, 2019                                 Dark Phoenix   \n",
       "3   4   May 1, 2015                      Avengers: Age of Ultron   \n",
       "4   5  Dec 15, 2017            Star Wars Ep. VIII: The Last Jedi   \n",
       "\n",
       "  production_budget domestic_gross worldwide_gross  \n",
       "0      $425,000,000   $760,507,625  $2,776,345,279  \n",
       "1      $410,600,000   $241,063,875  $1,045,663,875  \n",
       "2      $350,000,000    $42,762,350    $149,762,350  \n",
       "3      $330,600,000   $459,005,868  $1,403,013,963  \n",
       "4      $317,000,000   $620,181,382  $1,316,721,747  "
      ]
     },
     "execution_count": 32,
     "metadata": {},
     "output_type": "execute_result"
    }
   ],
   "source": [
    "# looking at first five rows\n",
    "data3.head()"
   ]
  },
  {
   "cell_type": "code",
   "execution_count": 33,
   "metadata": {},
   "outputs": [
    {
     "data": {
      "text/html": [
       "<div>\n",
       "<style scoped>\n",
       "    .dataframe tbody tr th:only-of-type {\n",
       "        vertical-align: middle;\n",
       "    }\n",
       "\n",
       "    .dataframe tbody tr th {\n",
       "        vertical-align: top;\n",
       "    }\n",
       "\n",
       "    .dataframe thead th {\n",
       "        text-align: right;\n",
       "    }\n",
       "</style>\n",
       "<table border=\"1\" class=\"dataframe\">\n",
       "  <thead>\n",
       "    <tr style=\"text-align: right;\">\n",
       "      <th></th>\n",
       "      <th>id</th>\n",
       "      <th>release_date</th>\n",
       "      <th>movie</th>\n",
       "      <th>production_budget</th>\n",
       "      <th>domestic_gross</th>\n",
       "      <th>worldwide_gross</th>\n",
       "    </tr>\n",
       "  </thead>\n",
       "  <tbody>\n",
       "    <tr>\n",
       "      <th>5777</th>\n",
       "      <td>78</td>\n",
       "      <td>Dec 31, 2018</td>\n",
       "      <td>Red 11</td>\n",
       "      <td>$7,000</td>\n",
       "      <td>$0</td>\n",
       "      <td>$0</td>\n",
       "    </tr>\n",
       "    <tr>\n",
       "      <th>5778</th>\n",
       "      <td>79</td>\n",
       "      <td>Apr 2, 1999</td>\n",
       "      <td>Following</td>\n",
       "      <td>$6,000</td>\n",
       "      <td>$48,482</td>\n",
       "      <td>$240,495</td>\n",
       "    </tr>\n",
       "    <tr>\n",
       "      <th>5779</th>\n",
       "      <td>80</td>\n",
       "      <td>Jul 13, 2005</td>\n",
       "      <td>Return to the Land of Wonders</td>\n",
       "      <td>$5,000</td>\n",
       "      <td>$1,338</td>\n",
       "      <td>$1,338</td>\n",
       "    </tr>\n",
       "    <tr>\n",
       "      <th>5780</th>\n",
       "      <td>81</td>\n",
       "      <td>Sep 29, 2015</td>\n",
       "      <td>A Plague So Pleasant</td>\n",
       "      <td>$1,400</td>\n",
       "      <td>$0</td>\n",
       "      <td>$0</td>\n",
       "    </tr>\n",
       "    <tr>\n",
       "      <th>5781</th>\n",
       "      <td>82</td>\n",
       "      <td>Aug 5, 2005</td>\n",
       "      <td>My Date With Drew</td>\n",
       "      <td>$1,100</td>\n",
       "      <td>$181,041</td>\n",
       "      <td>$181,041</td>\n",
       "    </tr>\n",
       "  </tbody>\n",
       "</table>\n",
       "</div>"
      ],
      "text/plain": [
       "      id  release_date                          movie production_budget  \\\n",
       "5777  78  Dec 31, 2018                         Red 11            $7,000   \n",
       "5778  79   Apr 2, 1999                      Following            $6,000   \n",
       "5779  80  Jul 13, 2005  Return to the Land of Wonders            $5,000   \n",
       "5780  81  Sep 29, 2015           A Plague So Pleasant            $1,400   \n",
       "5781  82   Aug 5, 2005              My Date With Drew            $1,100   \n",
       "\n",
       "     domestic_gross worldwide_gross  \n",
       "5777             $0              $0  \n",
       "5778        $48,482        $240,495  \n",
       "5779         $1,338          $1,338  \n",
       "5780             $0              $0  \n",
       "5781       $181,041        $181,041  "
      ]
     },
     "execution_count": 33,
     "metadata": {},
     "output_type": "execute_result"
    }
   ],
   "source": [
    "# looking at last five rows\n",
    "data3.tail()"
   ]
  },
  {
   "cell_type": "code",
   "execution_count": 23,
=======
   "execution_count": 31,
>>>>>>> 800f0c325ecfb7193fdc7bea96aaaa54816eeaa2
   "metadata": {},
   "outputs": [
    {
     "data": {
      "text/plain": [
       "(5782, 6)"
      ]
     },
<<<<<<< HEAD
     "execution_count": 23,
=======
     "execution_count": 31,
>>>>>>> 800f0c325ecfb7193fdc7bea96aaaa54816eeaa2
     "metadata": {},
     "output_type": "execute_result"
    }
   ],
   "source": [
<<<<<<< HEAD
    "# shows the number of rows and columns in the dataset\n",
=======
>>>>>>> 800f0c325ecfb7193fdc7bea96aaaa54816eeaa2
    "data3.shape"
   ]
  },
  {
   "cell_type": "code",
<<<<<<< HEAD
   "execution_count": 34,
   "metadata": {},
   "outputs": [
    {
     "name": "stdout",
     "output_type": "stream",
     "text": [
      "<class 'pandas.core.frame.DataFrame'>\n",
      "RangeIndex: 5782 entries, 0 to 5781\n",
      "Data columns (total 6 columns):\n",
      " #   Column             Non-Null Count  Dtype \n",
      "---  ------             --------------  ----- \n",
      " 0   id                 5782 non-null   int64 \n",
      " 1   release_date       5782 non-null   object\n",
      " 2   movie              5782 non-null   object\n",
      " 3   production_budget  5782 non-null   object\n",
      " 4   domestic_gross     5782 non-null   object\n",
      " 5   worldwide_gross    5782 non-null   object\n",
      "dtypes: int64(1), object(5)\n",
      "memory usage: 271.2+ KB\n"
     ]
    }
   ],
   "source": [
    "# checking data dimensions(rows and columns),datatypes and its completeness\n",
    "data3.info()"
   ]
  },
  {
   "cell_type": "code",
   "execution_count": 24,
=======
   "execution_count": 32,
>>>>>>> 800f0c325ecfb7193fdc7bea96aaaa54816eeaa2
   "metadata": {},
   "outputs": [
    {
     "data": {
      "text/plain": [
       "id                   0\n",
       "release_date         0\n",
       "movie                0\n",
       "production_budget    0\n",
       "domestic_gross       0\n",
       "worldwide_gross      0\n",
       "dtype: int64"
      ]
     },
<<<<<<< HEAD
     "execution_count": 24,
=======
     "execution_count": 32,
>>>>>>> 800f0c325ecfb7193fdc7bea96aaaa54816eeaa2
     "metadata": {},
     "output_type": "execute_result"
    }
   ],
   "source": [
<<<<<<< HEAD
    "# cheking for null values\n",
=======
>>>>>>> 800f0c325ecfb7193fdc7bea96aaaa54816eeaa2
    "data3.isna().sum()"
   ]
  },
  {
   "cell_type": "code",
<<<<<<< HEAD
=======
   "execution_count": 33,
   "metadata": {
    "scrolled": true
   },
   "outputs": [
    {
     "data": {
      "text/html": [
       "<div>\n",
       "<style scoped>\n",
       "    .dataframe tbody tr th:only-of-type {\n",
       "        vertical-align: middle;\n",
       "    }\n",
       "\n",
       "    .dataframe tbody tr th {\n",
       "        vertical-align: top;\n",
       "    }\n",
       "\n",
       "    .dataframe thead th {\n",
       "        text-align: right;\n",
       "    }\n",
       "</style>\n",
       "<table border=\"1\" class=\"dataframe\">\n",
       "  <thead>\n",
       "    <tr style=\"text-align: right;\">\n",
       "      <th></th>\n",
       "      <th>id</th>\n",
       "      <th>synopsis</th>\n",
       "      <th>rating</th>\n",
       "      <th>genre</th>\n",
       "      <th>director</th>\n",
       "      <th>writer</th>\n",
       "      <th>theater_date</th>\n",
       "      <th>dvd_date</th>\n",
       "      <th>currency</th>\n",
       "      <th>box_office</th>\n",
       "      <th>runtime</th>\n",
       "      <th>studio</th>\n",
       "    </tr>\n",
       "  </thead>\n",
       "  <tbody>\n",
       "    <tr>\n",
       "      <th>0</th>\n",
       "      <td>1</td>\n",
       "      <td>This gritty, fast-paced, and innovative police...</td>\n",
       "      <td>R</td>\n",
       "      <td>Action and Adventure|Classics|Drama</td>\n",
       "      <td>William Friedkin</td>\n",
       "      <td>Ernest Tidyman</td>\n",
       "      <td>Oct 9, 1971</td>\n",
       "      <td>Sep 25, 2001</td>\n",
       "      <td>NaN</td>\n",
       "      <td>NaN</td>\n",
       "      <td>104 minutes</td>\n",
       "      <td>NaN</td>\n",
       "    </tr>\n",
       "    <tr>\n",
       "      <th>1</th>\n",
       "      <td>3</td>\n",
       "      <td>New York City, not-too-distant-future: Eric Pa...</td>\n",
       "      <td>R</td>\n",
       "      <td>Drama|Science Fiction and Fantasy</td>\n",
       "      <td>David Cronenberg</td>\n",
       "      <td>David Cronenberg|Don DeLillo</td>\n",
       "      <td>Aug 17, 2012</td>\n",
       "      <td>Jan 1, 2013</td>\n",
       "      <td>$</td>\n",
       "      <td>600,000</td>\n",
       "      <td>108 minutes</td>\n",
       "      <td>Entertainment One</td>\n",
       "    </tr>\n",
       "    <tr>\n",
       "      <th>2</th>\n",
       "      <td>5</td>\n",
       "      <td>Illeana Douglas delivers a superb performance ...</td>\n",
       "      <td>R</td>\n",
       "      <td>Drama|Musical and Performing Arts</td>\n",
       "      <td>Allison Anders</td>\n",
       "      <td>Allison Anders</td>\n",
       "      <td>Sep 13, 1996</td>\n",
       "      <td>Apr 18, 2000</td>\n",
       "      <td>NaN</td>\n",
       "      <td>NaN</td>\n",
       "      <td>116 minutes</td>\n",
       "      <td>NaN</td>\n",
       "    </tr>\n",
       "    <tr>\n",
       "      <th>3</th>\n",
       "      <td>6</td>\n",
       "      <td>Michael Douglas runs afoul of a treacherous su...</td>\n",
       "      <td>R</td>\n",
       "      <td>Drama|Mystery and Suspense</td>\n",
       "      <td>Barry Levinson</td>\n",
       "      <td>Paul Attanasio|Michael Crichton</td>\n",
       "      <td>Dec 9, 1994</td>\n",
       "      <td>Aug 27, 1997</td>\n",
       "      <td>NaN</td>\n",
       "      <td>NaN</td>\n",
       "      <td>128 minutes</td>\n",
       "      <td>NaN</td>\n",
       "    </tr>\n",
       "    <tr>\n",
       "      <th>4</th>\n",
       "      <td>7</td>\n",
       "      <td>NaN</td>\n",
       "      <td>NR</td>\n",
       "      <td>Drama|Romance</td>\n",
       "      <td>Rodney Bennett</td>\n",
       "      <td>Giles Cooper</td>\n",
       "      <td>NaN</td>\n",
       "      <td>NaN</td>\n",
       "      <td>NaN</td>\n",
       "      <td>NaN</td>\n",
       "      <td>200 minutes</td>\n",
       "      <td>NaN</td>\n",
       "    </tr>\n",
       "  </tbody>\n",
       "</table>\n",
       "</div>"
      ],
      "text/plain": [
       "   id                                           synopsis rating  \\\n",
       "0   1  This gritty, fast-paced, and innovative police...      R   \n",
       "1   3  New York City, not-too-distant-future: Eric Pa...      R   \n",
       "2   5  Illeana Douglas delivers a superb performance ...      R   \n",
       "3   6  Michael Douglas runs afoul of a treacherous su...      R   \n",
       "4   7                                                NaN     NR   \n",
       "\n",
       "                                 genre          director  \\\n",
       "0  Action and Adventure|Classics|Drama  William Friedkin   \n",
       "1    Drama|Science Fiction and Fantasy  David Cronenberg   \n",
       "2    Drama|Musical and Performing Arts    Allison Anders   \n",
       "3           Drama|Mystery and Suspense    Barry Levinson   \n",
       "4                        Drama|Romance    Rodney Bennett   \n",
       "\n",
       "                            writer  theater_date      dvd_date currency  \\\n",
       "0                   Ernest Tidyman   Oct 9, 1971  Sep 25, 2001      NaN   \n",
       "1     David Cronenberg|Don DeLillo  Aug 17, 2012   Jan 1, 2013        $   \n",
       "2                   Allison Anders  Sep 13, 1996  Apr 18, 2000      NaN   \n",
       "3  Paul Attanasio|Michael Crichton   Dec 9, 1994  Aug 27, 1997      NaN   \n",
       "4                     Giles Cooper           NaN           NaN      NaN   \n",
       "\n",
       "  box_office      runtime             studio  \n",
       "0        NaN  104 minutes                NaN  \n",
       "1    600,000  108 minutes  Entertainment One  \n",
       "2        NaN  116 minutes                NaN  \n",
       "3        NaN  128 minutes                NaN  \n",
       "4        NaN  200 minutes                NaN  "
      ]
     },
     "execution_count": 33,
     "metadata": {},
     "output_type": "execute_result"
    }
   ],
   "source": [
    "data4 = pd.read_csv('rt.movie_info.tsv', sep = '\\t')\n",
    "data4.head()"
   ]
  },
  {
   "cell_type": "code",
   "execution_count": 34,
   "metadata": {},
   "outputs": [
    {
     "data": {
      "text/html": [
       "<div>\n",
       "<style scoped>\n",
       "    .dataframe tbody tr th:only-of-type {\n",
       "        vertical-align: middle;\n",
       "    }\n",
       "\n",
       "    .dataframe tbody tr th {\n",
       "        vertical-align: top;\n",
       "    }\n",
       "\n",
       "    .dataframe thead th {\n",
       "        text-align: right;\n",
       "    }\n",
       "</style>\n",
       "<table border=\"1\" class=\"dataframe\">\n",
       "  <thead>\n",
       "    <tr style=\"text-align: right;\">\n",
       "      <th></th>\n",
       "      <th>id</th>\n",
       "      <th>synopsis</th>\n",
       "      <th>rating</th>\n",
       "      <th>genre</th>\n",
       "      <th>director</th>\n",
       "      <th>writer</th>\n",
       "      <th>theater_date</th>\n",
       "      <th>dvd_date</th>\n",
       "      <th>currency</th>\n",
       "      <th>box_office</th>\n",
       "      <th>runtime</th>\n",
       "      <th>studio</th>\n",
       "    </tr>\n",
       "  </thead>\n",
       "  <tbody>\n",
       "    <tr>\n",
       "      <th>1555</th>\n",
       "      <td>1996</td>\n",
       "      <td>Forget terrorists or hijackers -- there's a ha...</td>\n",
       "      <td>R</td>\n",
       "      <td>Action and Adventure|Horror|Mystery and Suspense</td>\n",
       "      <td>NaN</td>\n",
       "      <td>NaN</td>\n",
       "      <td>Aug 18, 2006</td>\n",
       "      <td>Jan 2, 2007</td>\n",
       "      <td>$</td>\n",
       "      <td>33,886,034</td>\n",
       "      <td>106 minutes</td>\n",
       "      <td>New Line Cinema</td>\n",
       "    </tr>\n",
       "    <tr>\n",
       "      <th>1556</th>\n",
       "      <td>1997</td>\n",
       "      <td>The popular Saturday Night Live sketch was exp...</td>\n",
       "      <td>PG</td>\n",
       "      <td>Comedy|Science Fiction and Fantasy</td>\n",
       "      <td>Steve Barron</td>\n",
       "      <td>Terry Turner|Tom Davis|Dan Aykroyd|Bonnie Turner</td>\n",
       "      <td>Jul 23, 1993</td>\n",
       "      <td>Apr 17, 2001</td>\n",
       "      <td>NaN</td>\n",
       "      <td>NaN</td>\n",
       "      <td>88 minutes</td>\n",
       "      <td>Paramount Vantage</td>\n",
       "    </tr>\n",
       "    <tr>\n",
       "      <th>1557</th>\n",
       "      <td>1998</td>\n",
       "      <td>Based on a novel by Richard Powell, when the l...</td>\n",
       "      <td>G</td>\n",
       "      <td>Classics|Comedy|Drama|Musical and Performing Arts</td>\n",
       "      <td>Gordon Douglas</td>\n",
       "      <td>NaN</td>\n",
       "      <td>Jan 1, 1962</td>\n",
       "      <td>May 11, 2004</td>\n",
       "      <td>NaN</td>\n",
       "      <td>NaN</td>\n",
       "      <td>111 minutes</td>\n",
       "      <td>NaN</td>\n",
       "    </tr>\n",
       "    <tr>\n",
       "      <th>1558</th>\n",
       "      <td>1999</td>\n",
       "      <td>The Sandlot is a coming-of-age story about a g...</td>\n",
       "      <td>PG</td>\n",
       "      <td>Comedy|Drama|Kids and Family|Sports and Fitness</td>\n",
       "      <td>David Mickey Evans</td>\n",
       "      <td>David Mickey Evans|Robert Gunter</td>\n",
       "      <td>Apr 1, 1993</td>\n",
       "      <td>Jan 29, 2002</td>\n",
       "      <td>NaN</td>\n",
       "      <td>NaN</td>\n",
       "      <td>101 minutes</td>\n",
       "      <td>NaN</td>\n",
       "    </tr>\n",
       "    <tr>\n",
       "      <th>1559</th>\n",
       "      <td>2000</td>\n",
       "      <td>Suspended from the force, Paris cop Hubert is ...</td>\n",
       "      <td>R</td>\n",
       "      <td>Action and Adventure|Art House and Internation...</td>\n",
       "      <td>NaN</td>\n",
       "      <td>Luc Besson</td>\n",
       "      <td>Sep 27, 2001</td>\n",
       "      <td>Feb 11, 2003</td>\n",
       "      <td>NaN</td>\n",
       "      <td>NaN</td>\n",
       "      <td>94 minutes</td>\n",
       "      <td>Columbia Pictures</td>\n",
       "    </tr>\n",
       "  </tbody>\n",
       "</table>\n",
       "</div>"
      ],
      "text/plain": [
       "        id                                           synopsis rating  \\\n",
       "1555  1996  Forget terrorists or hijackers -- there's a ha...      R   \n",
       "1556  1997  The popular Saturday Night Live sketch was exp...     PG   \n",
       "1557  1998  Based on a novel by Richard Powell, when the l...      G   \n",
       "1558  1999  The Sandlot is a coming-of-age story about a g...     PG   \n",
       "1559  2000  Suspended from the force, Paris cop Hubert is ...      R   \n",
       "\n",
       "                                                  genre            director  \\\n",
       "1555   Action and Adventure|Horror|Mystery and Suspense                 NaN   \n",
       "1556                 Comedy|Science Fiction and Fantasy        Steve Barron   \n",
       "1557  Classics|Comedy|Drama|Musical and Performing Arts      Gordon Douglas   \n",
       "1558    Comedy|Drama|Kids and Family|Sports and Fitness  David Mickey Evans   \n",
       "1559  Action and Adventure|Art House and Internation...                 NaN   \n",
       "\n",
       "                                                writer  theater_date  \\\n",
       "1555                                               NaN  Aug 18, 2006   \n",
       "1556  Terry Turner|Tom Davis|Dan Aykroyd|Bonnie Turner  Jul 23, 1993   \n",
       "1557                                               NaN   Jan 1, 1962   \n",
       "1558                  David Mickey Evans|Robert Gunter   Apr 1, 1993   \n",
       "1559                                        Luc Besson  Sep 27, 2001   \n",
       "\n",
       "          dvd_date currency  box_office      runtime             studio  \n",
       "1555   Jan 2, 2007        $  33,886,034  106 minutes    New Line Cinema  \n",
       "1556  Apr 17, 2001      NaN         NaN   88 minutes  Paramount Vantage  \n",
       "1557  May 11, 2004      NaN         NaN  111 minutes                NaN  \n",
       "1558  Jan 29, 2002      NaN         NaN  101 minutes                NaN  \n",
       "1559  Feb 11, 2003      NaN         NaN   94 minutes  Columbia Pictures  "
      ]
     },
     "execution_count": 34,
     "metadata": {},
     "output_type": "execute_result"
    }
   ],
   "source": [
    "data4.tail()"
   ]
  },
  {
   "cell_type": "code",
   "execution_count": 33,
   "metadata": {},
   "outputs": [
    {
     "data": {
      "text/plain": [
       "(1560, 12)"
      ]
     },
     "execution_count": 33,
     "metadata": {},
     "output_type": "execute_result"
    }
   ],
   "source": [
    "data4.shape"
   ]
  },
  {
   "cell_type": "code",
>>>>>>> 800f0c325ecfb7193fdc7bea96aaaa54816eeaa2
   "execution_count": 36,
   "metadata": {},
   "outputs": [
    {
     "data": {
      "text/html": [
       "<div>\n",
       "<style scoped>\n",
       "    .dataframe tbody tr th:only-of-type {\n",
       "        vertical-align: middle;\n",
       "    }\n",
       "\n",
       "    .dataframe tbody tr th {\n",
       "        vertical-align: top;\n",
       "    }\n",
       "\n",
       "    .dataframe thead th {\n",
       "        text-align: right;\n",
       "    }\n",
       "</style>\n",
       "<table border=\"1\" class=\"dataframe\">\n",
       "  <thead>\n",
       "    <tr style=\"text-align: right;\">\n",
       "      <th></th>\n",
       "      <th>count</th>\n",
       "      <th>mean</th>\n",
       "      <th>std</th>\n",
       "      <th>min</th>\n",
       "      <th>25%</th>\n",
       "      <th>50%</th>\n",
       "      <th>75%</th>\n",
       "      <th>max</th>\n",
       "    </tr>\n",
       "  </thead>\n",
       "  <tbody>\n",
       "    <tr>\n",
       "      <th>id</th>\n",
<<<<<<< HEAD
       "      <td>5782.0</td>\n",
       "      <td>50.372363</td>\n",
       "      <td>28.821076</td>\n",
       "      <td>1.0</td>\n",
       "      <td>25.0</td>\n",
       "      <td>50.0</td>\n",
       "      <td>75.0</td>\n",
       "      <td>100.0</td>\n",
=======
       "      <td>1560.0</td>\n",
       "      <td>1007.303846</td>\n",
       "      <td>579.164527</td>\n",
       "      <td>1.0</td>\n",
       "      <td>504.75</td>\n",
       "      <td>1007.5</td>\n",
       "      <td>1503.25</td>\n",
       "      <td>2000.0</td>\n",
>>>>>>> 800f0c325ecfb7193fdc7bea96aaaa54816eeaa2
       "    </tr>\n",
       "  </tbody>\n",
       "</table>\n",
       "</div>"
      ],
      "text/plain": [
<<<<<<< HEAD
       "     count       mean        std  min   25%   50%   75%    max\n",
       "id  5782.0  50.372363  28.821076  1.0  25.0  50.0  75.0  100.0"
=======
       "     count         mean         std  min     25%     50%      75%     max\n",
       "id  1560.0  1007.303846  579.164527  1.0  504.75  1007.5  1503.25  2000.0"
>>>>>>> 800f0c325ecfb7193fdc7bea96aaaa54816eeaa2
      ]
     },
     "execution_count": 36,
     "metadata": {},
     "output_type": "execute_result"
    }
   ],
   "source": [
<<<<<<< HEAD
    "# Checking for concise summary and transposing it\n",
    "data3.describe().T"
=======
    "data4.describe().T"
>>>>>>> 800f0c325ecfb7193fdc7bea96aaaa54816eeaa2
   ]
  },
  {
   "cell_type": "code",
   "execution_count": 39,
   "metadata": {},
   "outputs": [
    {
<<<<<<< HEAD
     "data": {
      "text/plain": [
       "0"
      ]
     },
     "execution_count": 39,
     "metadata": {},
     "output_type": "execute_result"
    }
   ],
   "source": [
    "# carrying out duplicate check\n",
    "data3.duplicated().sum()"
   ]
  },
  {
   "cell_type": "markdown",
   "metadata": {},
   "source": [
    "### Data3 Data cleaning"
=======
     "name": "stdout",
     "output_type": "stream",
     "text": [
      "<class 'pandas.core.frame.DataFrame'>\n",
      "RangeIndex: 1560 entries, 0 to 1559\n",
      "Data columns (total 12 columns):\n",
      " #   Column        Non-Null Count  Dtype \n",
      "---  ------        --------------  ----- \n",
      " 0   id            1560 non-null   int64 \n",
      " 1   synopsis      1498 non-null   object\n",
      " 2   rating        1557 non-null   object\n",
      " 3   genre         1552 non-null   object\n",
      " 4   director      1361 non-null   object\n",
      " 5   writer        1111 non-null   object\n",
      " 6   theater_date  1201 non-null   object\n",
      " 7   dvd_date      1201 non-null   object\n",
      " 8   currency      340 non-null    object\n",
      " 9   box_office    340 non-null    object\n",
      " 10  runtime       1530 non-null   object\n",
      " 11  studio        494 non-null    object\n",
      "dtypes: int64(1), object(11)\n",
      "memory usage: 146.4+ KB\n"
     ]
    }
   ],
   "source": [
    "data4.info()"
>>>>>>> 800f0c325ecfb7193fdc7bea96aaaa54816eeaa2
   ]
  },
  {
   "cell_type": "code",
   "execution_count": 41,
   "metadata": {},
   "outputs": [
    {
     "data": {
      "text/html": [
       "<div>\n",
       "<style scoped>\n",
       "    .dataframe tbody tr th:only-of-type {\n",
       "        vertical-align: middle;\n",
       "    }\n",
       "\n",
       "    .dataframe tbody tr th {\n",
       "        vertical-align: top;\n",
       "    }\n",
       "\n",
       "    .dataframe thead th {\n",
       "        text-align: right;\n",
       "    }\n",
       "</style>\n",
       "<table border=\"1\" class=\"dataframe\">\n",
       "  <thead>\n",
       "    <tr style=\"text-align: right;\">\n",
       "      <th></th>\n",
       "      <th>id</th>\n",
<<<<<<< HEAD
       "      <th>release_date</th>\n",
       "      <th>movie</th>\n",
       "      <th>production_budget</th>\n",
       "      <th>domestic_gross</th>\n",
       "      <th>worldwide_gross</th>\n",
=======
       "      <th>synopsis</th>\n",
       "      <th>rating</th>\n",
       "      <th>genre</th>\n",
       "      <th>director</th>\n",
       "      <th>writer</th>\n",
       "      <th>theater_date</th>\n",
       "      <th>dvd_date</th>\n",
       "      <th>currency</th>\n",
       "      <th>box_office</th>\n",
       "      <th>runtime</th>\n",
       "      <th>studio</th>\n",
>>>>>>> 800f0c325ecfb7193fdc7bea96aaaa54816eeaa2
       "    </tr>\n",
       "  </thead>\n",
       "  <tbody>\n",
       "    <tr>\n",
       "      <th>0</th>\n",
       "      <td>1</td>\n",
<<<<<<< HEAD
       "      <td>Dec 18, 2009</td>\n",
       "      <td>Avatar</td>\n",
       "      <td>$425,000,000</td>\n",
       "      <td>$760,507,625</td>\n",
       "      <td>$2,776,345,279</td>\n",
       "    </tr>\n",
       "    <tr>\n",
       "      <th>1</th>\n",
       "      <td>2</td>\n",
       "      <td>May 20, 2011</td>\n",
       "      <td>Pirates of the Caribbean: On Stranger Tides</td>\n",
       "      <td>$410,600,000</td>\n",
       "      <td>$241,063,875</td>\n",
       "      <td>$1,045,663,875</td>\n",
       "    </tr>\n",
       "    <tr>\n",
       "      <th>2</th>\n",
       "      <td>3</td>\n",
       "      <td>Jun 7, 2019</td>\n",
       "      <td>Dark Phoenix</td>\n",
       "      <td>$350,000,000</td>\n",
       "      <td>$42,762,350</td>\n",
       "      <td>$149,762,350</td>\n",
       "    </tr>\n",
       "    <tr>\n",
       "      <th>3</th>\n",
       "      <td>4</td>\n",
       "      <td>May 1, 2015</td>\n",
       "      <td>Avengers: Age of Ultron</td>\n",
       "      <td>$330,600,000</td>\n",
       "      <td>$459,005,868</td>\n",
       "      <td>$1,403,013,963</td>\n",
       "    </tr>\n",
       "    <tr>\n",
       "      <th>4</th>\n",
       "      <td>5</td>\n",
       "      <td>Dec 15, 2017</td>\n",
       "      <td>Star Wars Ep. VIII: The Last Jedi</td>\n",
       "      <td>$317,000,000</td>\n",
       "      <td>$620,181,382</td>\n",
       "      <td>$1,316,721,747</td>\n",
=======
       "      <td>This gritty, fast-paced, and innovative police...</td>\n",
       "      <td>R</td>\n",
       "      <td>Action and Adventure|Classics|Drama</td>\n",
       "      <td>William Friedkin</td>\n",
       "      <td>Ernest Tidyman</td>\n",
       "      <td>Oct 9, 1971</td>\n",
       "      <td>Sep 25, 2001</td>\n",
       "      <td>NaN</td>\n",
       "      <td>NaN</td>\n",
       "      <td>104 minutes</td>\n",
       "      <td>NaN</td>\n",
       "    </tr>\n",
       "    <tr>\n",
       "      <th>1</th>\n",
       "      <td>3</td>\n",
       "      <td>New York City, not-too-distant-future: Eric Pa...</td>\n",
       "      <td>R</td>\n",
       "      <td>Drama|Science Fiction and Fantasy</td>\n",
       "      <td>David Cronenberg</td>\n",
       "      <td>David Cronenberg|Don DeLillo</td>\n",
       "      <td>Aug 17, 2012</td>\n",
       "      <td>Jan 1, 2013</td>\n",
       "      <td>$</td>\n",
       "      <td>600,000</td>\n",
       "      <td>108 minutes</td>\n",
       "      <td>Entertainment One</td>\n",
       "    </tr>\n",
       "    <tr>\n",
       "      <th>2</th>\n",
       "      <td>5</td>\n",
       "      <td>Illeana Douglas delivers a superb performance ...</td>\n",
       "      <td>R</td>\n",
       "      <td>Drama|Musical and Performing Arts</td>\n",
       "      <td>Allison Anders</td>\n",
       "      <td>Allison Anders</td>\n",
       "      <td>Sep 13, 1996</td>\n",
       "      <td>Apr 18, 2000</td>\n",
       "      <td>NaN</td>\n",
       "      <td>NaN</td>\n",
       "      <td>116 minutes</td>\n",
       "      <td>NaN</td>\n",
       "    </tr>\n",
       "    <tr>\n",
       "      <th>3</th>\n",
       "      <td>6</td>\n",
       "      <td>Michael Douglas runs afoul of a treacherous su...</td>\n",
       "      <td>R</td>\n",
       "      <td>Drama|Mystery and Suspense</td>\n",
       "      <td>Barry Levinson</td>\n",
       "      <td>Paul Attanasio|Michael Crichton</td>\n",
       "      <td>Dec 9, 1994</td>\n",
       "      <td>Aug 27, 1997</td>\n",
       "      <td>NaN</td>\n",
       "      <td>NaN</td>\n",
       "      <td>128 minutes</td>\n",
       "      <td>NaN</td>\n",
       "    </tr>\n",
       "    <tr>\n",
       "      <th>4</th>\n",
       "      <td>7</td>\n",
       "      <td>NaN</td>\n",
       "      <td>NR</td>\n",
       "      <td>Drama|Romance</td>\n",
       "      <td>Rodney Bennett</td>\n",
       "      <td>Giles Cooper</td>\n",
       "      <td>NaN</td>\n",
       "      <td>NaN</td>\n",
       "      <td>NaN</td>\n",
       "      <td>NaN</td>\n",
       "      <td>200 minutes</td>\n",
       "      <td>NaN</td>\n",
>>>>>>> 800f0c325ecfb7193fdc7bea96aaaa54816eeaa2
       "    </tr>\n",
       "  </tbody>\n",
       "</table>\n",
       "</div>"
      ],
      "text/plain": [
<<<<<<< HEAD
       "   id  release_date                                        movie  \\\n",
       "0   1  Dec 18, 2009                                       Avatar   \n",
       "1   2  May 20, 2011  Pirates of the Caribbean: On Stranger Tides   \n",
       "2   3   Jun 7, 2019                                 Dark Phoenix   \n",
       "3   4   May 1, 2015                      Avengers: Age of Ultron   \n",
       "4   5  Dec 15, 2017            Star Wars Ep. VIII: The Last Jedi   \n",
       "\n",
       "  production_budget domestic_gross worldwide_gross  \n",
       "0      $425,000,000   $760,507,625  $2,776,345,279  \n",
       "1      $410,600,000   $241,063,875  $1,045,663,875  \n",
       "2      $350,000,000    $42,762,350    $149,762,350  \n",
       "3      $330,600,000   $459,005,868  $1,403,013,963  \n",
       "4      $317,000,000   $620,181,382  $1,316,721,747  "
=======
       "   id                                           synopsis rating  \\\n",
       "0   1  This gritty, fast-paced, and innovative police...      R   \n",
       "1   3  New York City, not-too-distant-future: Eric Pa...      R   \n",
       "2   5  Illeana Douglas delivers a superb performance ...      R   \n",
       "3   6  Michael Douglas runs afoul of a treacherous su...      R   \n",
       "4   7                                                NaN     NR   \n",
       "\n",
       "                                 genre          director  \\\n",
       "0  Action and Adventure|Classics|Drama  William Friedkin   \n",
       "1    Drama|Science Fiction and Fantasy  David Cronenberg   \n",
       "2    Drama|Musical and Performing Arts    Allison Anders   \n",
       "3           Drama|Mystery and Suspense    Barry Levinson   \n",
       "4                        Drama|Romance    Rodney Bennett   \n",
       "\n",
       "                            writer  theater_date      dvd_date currency  \\\n",
       "0                   Ernest Tidyman   Oct 9, 1971  Sep 25, 2001      NaN   \n",
       "1     David Cronenberg|Don DeLillo  Aug 17, 2012   Jan 1, 2013        $   \n",
       "2                   Allison Anders  Sep 13, 1996  Apr 18, 2000      NaN   \n",
       "3  Paul Attanasio|Michael Crichton   Dec 9, 1994  Aug 27, 1997      NaN   \n",
       "4                     Giles Cooper           NaN           NaN      NaN   \n",
       "\n",
       "  box_office      runtime             studio  \n",
       "0        NaN  104 minutes                NaN  \n",
       "1    600,000  108 minutes  Entertainment One  \n",
       "2        NaN  116 minutes                NaN  \n",
       "3        NaN  128 minutes                NaN  \n",
       "4        NaN  200 minutes                NaN  "
>>>>>>> 800f0c325ecfb7193fdc7bea96aaaa54816eeaa2
      ]
     },
     "execution_count": 41,
     "metadata": {},
     "output_type": "execute_result"
    }
   ],
   "source": [
<<<<<<< HEAD
    "# Creating a copy of the oringinal dataset to avoid modifying it\n",
    "data3_copy = data3.copy(deep = True)\n",
    "data3_copy[:5]"
=======
    "#Create a dataframe copy to be used for data cleaning\n",
    "dataf4 = data4.copy(deep=True)\n",
    "dataf4.head()"
>>>>>>> 800f0c325ecfb7193fdc7bea96aaaa54816eeaa2
   ]
  },
  {
   "cell_type": "code",
   "execution_count": 42,
   "metadata": {},
   "outputs": [
    {
<<<<<<< HEAD
     "data": {
      "text/plain": [
       "Index(['id', 'release_date', 'movie', 'production_budget', 'domestic_gross',\n",
       "       'worldwide_gross'],\n",
       "      dtype='object')"
      ]
     },
     "execution_count": 42,
     "metadata": {},
     "output_type": "execute_result"
    }
   ],
   "source": [
    "# looking at columns to check for white space in columns name\n",
    "data3_copy.columns"
=======
     "name": "stdout",
     "output_type": "stream",
     "text": [
      "unique values in column'id' are : '\n",
      "':[   1    3    5 ... 1998 1999 2000] \n",
      "\n",
      "unique values in column'synopsis' are : '\n",
      "':['This gritty, fast-paced, and innovative police drama earned five Academy Awards, including Best Picture, Best Adapted Screenplay (written by Ernest Tidyman), and Best Actor (Gene Hackman). Jimmy \"Popeye\" Doyle (Hackman) and his partner, Buddy Russo (Roy Scheider), are New York City police detectives on narcotics detail, trying to track down the source of heroin from Europe into the United States. Suave Alain Charnier (Fernando Rey) is the French drug kingpin who provides a large percentage of New York City\\'s dope, and Pierre Nicoli (Marcel Bozzuffi) is a hired killer and Charnier\\'s right-hand man. Acting on a hunch, Popeye and Buddy start tailing Sal Boca (Tony Lo Bianco) and his wife, Angie (Arlene Faber), who live pretty high for a couple whose corner store brings in about 7,000 dollars a year. It turns out Popeye\\'s suspicions are right -- Sal and Angie are the New York agents for Charnier, who will be smuggling 32 million dollars\\' worth of heroin into the city in a car shipped over from France. The French Connection broke plenty of new ground for screen thrillers; Popeye Doyle was a highly unusual \"hero,\" an often violent, racist, and mean-spirited cop whose dedication to his job fell just short of dangerous obsession. The film\\'s high point, a high-speed car chase with Popeye tailing an elevated train, was one of the most viscerally exciting screen moments of its day and set the stage for dozens of action sequences to follow. And the film\\'s grimy realism (and downbeat ending) was a big change from the buff-and-shine gloss and good-guys-always-win heroics of most police dramas that preceded it. The French Connection was inspired by a true story, and Eddie Egan and Sonny Grosso, Popeye and Buddy\\'s real life counterparts, both have small roles in the film. A sequel followed four years later.'\n",
      " \"New York City, not-too-distant-future: Eric Packer, a 28 year-old finance golden boy dreaming of living in a civilization ahead of this one, watches a dark shadow cast over the firmament of the Wall Street galaxy, of which he is the uncontested king. As he is chauffeured across midtown Manhattan to get a haircut at his father's old barber, his anxious eyes are glued to the yuan's exchange rate: it is mounting against all expectations, destroying Eric's bet against it. Eric Packer is losing his empire with every tick of the clock. Meanwhile, an eruption of wild activity unfolds in the city's streets. Petrified as the threats of the real world infringe upon his cloud of virtual convictions, his paranoia intensifies during the course of his 24-hour cross-town odyssey. Packer starts to piece together clues that lead him to a most terrifying secret: his imminent assassination. -- (C) Official Site\"\n",
      " 'Illeana Douglas delivers a superb performance as Denise Waverly, a fictional singer and songwriter whose life bears more than a passing resemblance to that of real-life pop star Carole King. Edna Buxton, the daughter of a Philadelphia steel tycoon, aspires to a career as a singer, and when against her mother\\'s bidding she sings a sultry version of \"Hey There (You With the Stars in Your Eyes)\" (instead of Mom\\'s choice, \"You\\'ll Never Walk Alone\") at a talent contest, she wins a recording contact and moves to New York City. She cuts a record and gains a new stage name, Denise Waverly; however, she soon finds that girl singers are a dime a dozen in the Big Apple and her career as a vocalist goes nowhere. But she has a knack for writing songs, and eccentric producer Joel Milner (John Turturro) asks her to pen some songs for his upcoming projects. Teamed with Howard Caszatt (Eric Stoltz), a hipster songwriter who wants to express his political and social ideals through pop tunes, she finds both a successful collaborator and husband. While her work with Howard gains Denise writing credits on a string of hit records and respect within the industry, their marriage falls apart, and she becomes involved with Jay Phillips (Matt Dillon), the gifted but unstable leader of a popular West Coast surf music combo. Students of pop music history will have a ball with the various characters modeled after real-life rock legends, and the 1960s-style song score includes numbers written by Joni Mitchell and J. Mascis (of the band Dinosaur Jr.), as well as one-time King collaborator Gerry Goffin; a collaboration between Elvis Costello and Burt Bacharach, \"God Give Me Strength,\" led to a full album written by the two great tunesmiths.'\n",
      " ...\n",
      " 'Based on a novel by Richard Powell, when the lovable (and musical) hillbilly Toby Kwimper (Elvis Presley) and his family move to Florida, they must fight off a group of greedy lowlifes in order to defend the rights to their land. This musical comedy features the songs \"Follow That Dream,\" \"Sound Advice,\" and \"What a Wonderful Life.\"'\n",
      " \"The Sandlot is a coming-of-age story about a group of young boys growing up in California in 1962. A new, shy boy (Thomas Guiry) moves into the neighborhood, where he is initially rejected by the local boys because he doesn't know how to play baseball. Soon, he learns the sport and joins the group of boys who play ball in a local sandlot, and with his new friends, he has a variety of adventures.\"\n",
      " \"Suspended from the force, Paris cop Hubert is summoned to Tokyo when his former lover Miko dies. Upon arriving, Hubert discovers he is to be the legal guardian for Miko's teen daughter Yumi. As Hubert begins to investigate the circumstances surrounding Miko's mysterious death, he grows closer to Yumi.\"] \n",
      "\n",
      "unique values in column'rating' are : '\n",
      "':['R' 'NR' 'PG' 'PG-13' nan 'G' 'NC17'] \n",
      "\n",
      "unique values in column'genre' are : '\n",
      "':['Action and Adventure|Classics|Drama' 'Drama|Science Fiction and Fantasy'\n",
      " 'Drama|Musical and Performing Arts' 'Drama|Mystery and Suspense'\n",
      " 'Drama|Romance' 'Drama|Kids and Family' 'Comedy' 'Drama'\n",
      " 'Action and Adventure|Mystery and Suspense|Science Fiction and Fantasy'\n",
      " nan 'Documentary' 'Documentary|Special Interest' 'Classics|Comedy|Drama'\n",
      " 'Comedy|Drama|Mystery and Suspense' 'Action and Adventure|Comedy|Drama'\n",
      " 'Action and Adventure|Drama|Science Fiction and Fantasy'\n",
      " 'Art House and International|Comedy|Drama|Musical and Performing Arts'\n",
      " 'Musical and Performing Arts'\n",
      " 'Classics|Comedy|Musical and Performing Arts|Romance'\n",
      " 'Action and Adventure|Drama|Mystery and Suspense'\n",
      " 'Action and Adventure|Mystery and Suspense'\n",
      " 'Art House and International|Classics|Horror|Mystery and Suspense'\n",
      " 'Horror' 'Action and Adventure|Classics|Drama|Mystery and Suspense'\n",
      " 'Classics|Comedy|Musical and Performing Arts' 'Comedy|Kids and Family'\n",
      " 'Comedy|Musical and Performing Arts' 'Action and Adventure|Drama|Western'\n",
      " 'Action and Adventure|Comedy|Mystery and Suspense'\n",
      " 'Action and Adventure|Drama' 'Mystery and Suspense'\n",
      " 'Comedy|Drama|Romance' 'Comedy|Drama'\n",
      " 'Action and Adventure|Science Fiction and Fantasy' 'Comedy|Romance'\n",
      " 'Art House and International|Drama'\n",
      " 'Action and Adventure|Drama|Horror|Mystery and Suspense'\n",
      " 'Comedy|Kids and Family|Romance' 'Classics|Drama' 'Action and Adventure'\n",
      " 'Action and Adventure|Art House and International|Drama'\n",
      " 'Comedy|Mystery and Suspense|Science Fiction and Fantasy|Romance'\n",
      " 'Comedy|Drama|Kids and Family|Romance'\n",
      " 'Art House and International|Drama|Musical and Performing Arts'\n",
      " 'Drama|Musical and Performing Arts|Romance'\n",
      " 'Art House and International|Classics|Horror'\n",
      " 'Classics|Comedy|Drama|Romance'\n",
      " 'Art House and International|Drama|Mystery and Suspense|Television'\n",
      " 'Drama|Sports and Fitness' 'Comedy|Drama|Television'\n",
      " 'Animation|Kids and Family|Special Interest'\n",
      " 'Comedy|Drama|Kids and Family'\n",
      " 'Classics|Comedy|Drama|Kids and Family|Science Fiction and Fantasy'\n",
      " 'Animation|Comedy|Kids and Family|Science Fiction and Fantasy'\n",
      " 'Art House and International|Comedy|Drama'\n",
      " 'Comedy|Science Fiction and Fantasy' 'Classics|Comedy|Special Interest'\n",
      " 'Action and Adventure|Art House and International|Comedy'\n",
      " 'Drama|Horror|Mystery and Suspense' 'Art House and International'\n",
      " 'Action and Adventure|Comedy'\n",
      " 'Action and Adventure|Animation|Drama|Science Fiction and Fantasy|Special Interest'\n",
      " 'Action and Adventure|Animation|Art House and International|Drama|Science Fiction and Fantasy'\n",
      " 'Horror|Mystery and Suspense' 'Classics|Comedy|Romance'\n",
      " 'Action and Adventure|Art House and International|Drama|Mystery and Suspense'\n",
      " 'Classics|Drama|Mystery and Suspense|Science Fiction and Fantasy|Romance'\n",
      " 'Classics|Western|Romance'\n",
      " 'Art House and International|Drama|Mystery and Suspense'\n",
      " 'Comedy|Kids and Family|Science Fiction and Fantasy' 'Drama|Television'\n",
      " 'Classics|Drama|Faith and Spirituality' 'Classics|Comedy'\n",
      " 'Art House and International|Horror'\n",
      " 'Action and Adventure|Comedy|Kids and Family'\n",
      " 'Classics|Drama|Musical and Performing Arts'\n",
      " 'Action and Adventure|Comedy|Drama|Musical and Performing Arts|Romance'\n",
      " 'Action and Adventure|Kids and Family|Science Fiction and Fantasy'\n",
      " 'Drama|Horror|Mystery and Suspense|Television'\n",
      " 'Art House and International|Comedy|Drama|Romance'\n",
      " 'Classics|Comedy|Drama|Kids and Family'\n",
      " 'Classics|Comedy|Drama|Musical and Performing Arts'\n",
      " 'Art House and International|Classics|Horror|Science Fiction and Fantasy'\n",
      " 'Horror|Science Fiction and Fantasy'\n",
      " 'Drama|Horror|Mystery and Suspense|Romance'\n",
      " 'Action and Adventure|Art House and International|Classics|Drama'\n",
      " 'Action and Adventure|Classics|Comedy|Musical and Performing Arts|Romance'\n",
      " 'Documentary|Musical and Performing Arts' 'Action and Adventure|Horror'\n",
      " 'Comedy|Drama|Musical and Performing Arts' 'Comedy|Horror'\n",
      " 'Classics|Western'\n",
      " 'Action and Adventure|Drama|Science Fiction and Fantasy|Television'\n",
      " 'Art House and International|Drama|Romance'\n",
      " 'Art House and International|Drama|Horror|Mystery and Suspense|Science Fiction and Fantasy'\n",
      " 'Classics|Drama|Mystery and Suspense|Science Fiction and Fantasy'\n",
      " 'Special Interest|Sports and Fitness'\n",
      " 'Horror|Mystery and Suspense|Science Fiction and Fantasy'\n",
      " 'Comedy|Horror|Musical and Performing Arts'\n",
      " 'Action and Adventure|Drama|Kids and Family'\n",
      " 'Drama|Science Fiction and Fantasy|Romance' 'Comedy|Western'\n",
      " 'Action and Adventure|Documentary|Science Fiction and Fantasy|Special Interest|Western'\n",
      " 'Art House and International|Mystery and Suspense'\n",
      " 'Action and Adventure|Art House and International|Drama|Faith and Spirituality'\n",
      " 'Classics|Horror' 'Action and Adventure|Classics|Comedy|Drama'\n",
      " 'Classics|Horror|Mystery and Suspense|Science Fiction and Fantasy'\n",
      " 'Classics|Documentary|Drama|Romance' 'Action and Adventure|Western'\n",
      " 'Art House and International|Comedy|Drama|Mystery and Suspense'\n",
      " 'Musical and Performing Arts|Special Interest'\n",
      " 'Action and Adventure|Art House and International'\n",
      " 'Art House and International|Drama|Special Interest'\n",
      " 'Kids and Family|Science Fiction and Fantasy'\n",
      " 'Classics|Horror|Science Fiction and Fantasy'\n",
      " 'Action and Adventure|Animation|Comedy|Kids and Family'\n",
      " 'Drama|Special Interest'\n",
      " 'Action and Adventure|Comedy|Drama|Mystery and Suspense'\n",
      " 'Comedy|Kids and Family|Television'\n",
      " 'Action and Adventure|Classics|Horror'\n",
      " 'Action and Adventure|Classics|Western|Romance'\n",
      " 'Action and Adventure|Art House and International|Drama|Kids and Family|Science Fiction and Fantasy'\n",
      " 'Classics|Drama|Mystery and Suspense'\n",
      " 'Action and Adventure|Art House and International|Science Fiction and Fantasy'\n",
      " 'Art House and International|Comedy'\n",
      " 'Mystery and Suspense|Science Fiction and Fantasy'\n",
      " 'Classics|Drama|Musical and Performing Arts|Mystery and Suspense'\n",
      " 'Action and Adventure|Classics|Drama|Western'\n",
      " 'Action and Adventure|Horror|Science Fiction and Fantasy'\n",
      " 'Comedy|Drama|Science Fiction and Fantasy|Romance'\n",
      " 'Action and Adventure|Animation|Science Fiction and Fantasy'\n",
      " 'Mystery and Suspense|Romance'\n",
      " 'Documentary|Musical and Performing Arts|Special Interest'\n",
      " 'Action and Adventure|Western|Romance'\n",
      " 'Art House and International|Documentary|Drama|Special Interest'\n",
      " 'Art House and International|Cult Movies|Drama'\n",
      " 'Action and Adventure|Animation|Comedy|Science Fiction and Fantasy'\n",
      " 'Animation|Comedy|Kids and Family'\n",
      " 'Animation|Drama|Kids and Family|Science Fiction and Fantasy'\n",
      " 'Art House and International|Classics|Drama|Horror|Science Fiction and Fantasy'\n",
      " 'Classics|Drama|Romance'\n",
      " 'Art House and International|Classics|Drama|Romance'\n",
      " 'Documentary|Special Interest|Sports and Fitness'\n",
      " 'Classics|Comedy|Drama|Kids and Family|Musical and Performing Arts'\n",
      " 'Action and Adventure|Documentary|Television'\n",
      " 'Action and Adventure|Drama|Mystery and Suspense|Television|Western'\n",
      " 'Action and Adventure|Drama|Mystery and Suspense|Romance'\n",
      " 'Classics|Comedy|Drama|Television'\n",
      " 'Action and Adventure|Art House and International|Comedy|Drama'\n",
      " 'Action and Adventure|Drama|Horror|Western'\n",
      " 'Action and Adventure|Art House and International|Drama|Kids and Family|Mystery and Suspense'\n",
      " 'Action and Adventure|Animation|Comedy'\n",
      " 'Art House and International|Documentary|Special Interest'\n",
      " 'Comedy|Drama|Science Fiction and Fantasy'\n",
      " 'Animation|Anime and Manga|Art House and International|Horror|Science Fiction and Fantasy'\n",
      " 'Art House and International|Comedy|Romance'\n",
      " 'Action and Adventure|Comedy|Science Fiction and Fantasy'\n",
      " 'Drama|Mystery and Suspense|Romance' 'Comedy|Special Interest'\n",
      " 'Drama|Mystery and Suspense|Science Fiction and Fantasy'\n",
      " 'Action and Adventure|Mystery and Suspense|Romance'\n",
      " 'Classics|Musical and Performing Arts' 'Classics|Drama|Western'\n",
      " 'Animation|Documentary|Drama' 'Special Interest'\n",
      " 'Action and Adventure|Classics|Western' 'Kids and Family'\n",
      " 'Animation|Kids and Family' 'Drama|Horror' 'Comedy|Mystery and Suspense'\n",
      " 'Documentary|Drama|Special Interest' 'Animation|Special Interest'\n",
      " 'Action and Adventure|Kids and Family|Science Fiction and Fantasy|Western'\n",
      " 'Art House and International|Classics|Comedy|Drama|Musical and Performing Arts|Science Fiction and Fantasy|Romance'\n",
      " 'Action and Adventure|Classics'\n",
      " 'Action and Adventure|Art House and International|Comedy|Mystery and Suspense|Science Fiction and Fantasy'\n",
      " 'Art House and International|Drama|Sports and Fitness' 'Western'\n",
      " 'Comedy|Documentary|Musical and Performing Arts|Special Interest'\n",
      " 'Art House and International|Horror|Mystery and Suspense'\n",
      " 'Comedy|Cult Movies|Mystery and Suspense|Science Fiction and Fantasy'\n",
      " 'Action and Adventure|Classics|Drama|Romance'\n",
      " 'Action and Adventure|Art House and International|Mystery and Suspense|Special Interest'\n",
      " 'Horror|Musical and Performing Arts|Science Fiction and Fantasy'\n",
      " 'Art House and International|Classics|Comedy|Drama'\n",
      " 'Action and Adventure|Animation|Comedy|Kids and Family|Science Fiction and Fantasy'\n",
      " 'Comedy|Drama|Sports and Fitness'\n",
      " 'Action and Adventure|Drama|Special Interest'\n",
      " 'Action and Adventure|Animation|Kids and Family|Science Fiction and Fantasy'\n",
      " 'Classics|Drama|Mystery and Suspense|Romance'\n",
      " 'Action and Adventure|Comedy|Kids and Family|Science Fiction and Fantasy'\n",
      " 'Comedy|Musical and Performing Arts|Science Fiction and Fantasy'\n",
      " 'Art House and International|Comedy|Drama|Romance|Gay and Lesbian'\n",
      " 'Science Fiction and Fantasy' 'Action and Adventure|Documentary'\n",
      " 'Action and Adventure|Art House and International|Comedy|Cult Movies|Drama'\n",
      " 'Action and Adventure|Drama|Romance'\n",
      " 'Classics|Horror|Musical and Performing Arts|Science Fiction and Fantasy'\n",
      " 'Classics|Drama|Musical and Performing Arts|Romance' 'Documentary|Drama'\n",
      " 'Comedy|Documentary|Science Fiction and Fantasy|Special Interest'\n",
      " 'Comedy|Cult Movies|Drama' 'Classics|Drama|Kids and Family|Romance'\n",
      " 'Art House and International|Comedy|Kids and Family|Musical and Performing Arts|Romance'\n",
      " 'Classics|Mystery and Suspense'\n",
      " 'Art House and International|Classics|Drama'\n",
      " 'Action and Adventure|Art House and International|Comedy|Drama|Mystery and Suspense'\n",
      " 'Horror|Kids and Family|Mystery and Suspense|Science Fiction and Fantasy'\n",
      " 'Action and Adventure|Horror|Mystery and Suspense'\n",
      " 'Classics|Musical and Performing Arts|Romance'\n",
      " 'Drama|Faith and Spirituality' 'Art House and International|Drama|Horror'\n",
      " 'Action and Adventure|Drama|Mystery and Suspense|Science Fiction and Fantasy|Faith and Spirituality'\n",
      " 'Action and Adventure|Art House and International|Drama|Mystery and Suspense|Romance'\n",
      " 'Classics|Comedy|Mystery and Suspense'\n",
      " 'Action and Adventure|Kids and Family'\n",
      " 'Action and Adventure|Art House and International|Classics|Drama|Romance'\n",
      " 'Comedy|Musical and Performing Arts|Television'\n",
      " 'Art House and International|Documentary' 'Comedy|Documentary'\n",
      " 'Action and Adventure|Animation|Comedy|Drama|Kids and Family|Musical and Performing Arts'\n",
      " 'Action and Adventure|Animation|Classics|Comedy|Kids and Family|Musical and Performing Arts'\n",
      " 'Animation|Kids and Family|Science Fiction and Fantasy'\n",
      " 'Art House and International|Comedy|Mystery and Suspense'\n",
      " 'Drama|Science Fiction and Fantasy|Western'\n",
      " 'Mystery and Suspense|Science Fiction and Fantasy|Western'\n",
      " 'Comedy|Drama|Special Interest'\n",
      " 'Art House and International|Comedy|Drama|Science Fiction and Fantasy|Special Interest'\n",
      " 'Action and Adventure|Comedy|Western'\n",
      " 'Animation|Art House and International|Comedy|Special Interest'\n",
      " 'Documentary|Sports and Fitness'\n",
      " 'Documentary|Special Interest|Television'\n",
      " 'Action and Adventure|Drama|Horror|Science Fiction and Fantasy'\n",
      " 'Art House and International|Documentary|Drama|Musical and Performing Arts|Special Interest'\n",
      " 'Action and Adventure|Art House and International|Mystery and Suspense'\n",
      " 'Action and Adventure|Comedy|Kids and Family|Mystery and Suspense'\n",
      " 'Art House and International|Comedy|Drama|Science Fiction and Fantasy'\n",
      " 'Art House and International|Documentary|Drama'\n",
      " 'Action and Adventure|Comedy|Drama|Kids and Family'\n",
      " 'Action and Adventure|Classics|Drama|Horror|Mystery and Suspense|Science Fiction and Fantasy'\n",
      " 'Art House and International|Comedy|Horror'\n",
      " 'Art House and International|Comedy|Drama|Gay and Lesbian'\n",
      " 'Drama|Kids and Family|Faith and Spirituality'\n",
      " 'Action and Adventure|Comedy|Musical and Performing Arts|Science Fiction and Fantasy|Western'\n",
      " 'Action and Adventure|Classics|Comedy|Musical and Performing Arts'\n",
      " 'Art House and International|Classics|Comedy|Drama|Romance'\n",
      " 'Action and Adventure|Animation|Comedy|Drama|Kids and Family'\n",
      " 'Classics|Comedy|Kids and Family|Romance'\n",
      " 'Action and Adventure|Comedy|Kids and Family|Mystery and Suspense|Science Fiction and Fantasy'\n",
      " 'Action and Adventure|Horror|Kids and Family|Science Fiction and Fantasy'\n",
      " 'Classics|Horror|Mystery and Suspense'\n",
      " 'Comedy|Horror|Mystery and Suspense'\n",
      " 'Classics|Drama|Science Fiction and Fantasy'\n",
      " 'Action and Adventure|Classics|Drama|Mystery and Suspense|Romance'\n",
      " 'Art House and International|Drama|Mystery and Suspense|Romance'\n",
      " 'Documentary|Special Interest|Faith and Spirituality'\n",
      " 'Animation|Science Fiction and Fantasy'\n",
      " 'Action and Adventure|Drama|Mystery and Suspense|Science Fiction and Fantasy'\n",
      " 'Comedy|Television'\n",
      " 'Action and Adventure|Classics|Science Fiction and Fantasy'\n",
      " 'Kids and Family|Musical and Performing Arts'\n",
      " 'Classics|Comedy|Musical and Performing Arts|Western'\n",
      " 'Art House and International|Drama|Horror|Mystery and Suspense'\n",
      " 'Action and Adventure|Comedy|Horror|Romance'\n",
      " 'Action and Adventure|Animation|Kids and Family'\n",
      " 'Drama|Musical and Performing Arts|Faith and Spirituality'\n",
      " 'Animation|Art House and International|Kids and Family'\n",
      " 'Drama|Mystery and Suspense|Television'\n",
      " 'Action and Adventure|Anime and Manga|Art House and International|Science Fiction and Fantasy'\n",
      " 'Art House and International|Documentary|Faith and Spirituality'\n",
      " 'Classics|Science Fiction and Fantasy'\n",
      " 'Art House and International|Comedy|Horror|Mystery and Suspense'\n",
      " 'Drama|Special Interest|Sports and Fitness'\n",
      " 'Comedy|Mystery and Suspense|Romance'\n",
      " 'Comedy|Horror|Science Fiction and Fantasy' 'Classics|Comedy|Western'\n",
      " 'Action and Adventure|Comedy|Kids and Family|Science Fiction and Fantasy|Romance'\n",
      " 'Comedy|Drama|Horror|Mystery and Suspense'\n",
      " 'Horror|Science Fiction and Fantasy|Television|Romance'\n",
      " 'Action and Adventure|Drama|Mystery and Suspense|Special Interest'\n",
      " 'Comedy|Drama|Musical and Performing Arts|Romance'\n",
      " 'Drama|Horror|Science Fiction and Fantasy'\n",
      " 'Art House and International|Drama|Science Fiction and Fantasy'\n",
      " 'Action and Adventure|Art House and International|Classics|Drama|Mystery and Suspense'\n",
      " 'Comedy|Science Fiction and Fantasy|Romance'\n",
      " 'Classics|Musical and Performing Arts|Western'\n",
      " 'Action and Adventure|Art House and International|Drama|Mystery and Suspense|Science Fiction and Fantasy|Special Interest'\n",
      " 'Art House and International|Comedy|Documentary|Television'\n",
      " 'Art House and International|Horror|Science Fiction and Fantasy'\n",
      " 'Drama|Musical and Performing Arts|Special Interest'\n",
      " 'Art House and International|Drama|Faith and Spirituality'\n",
      " 'Animation|Comedy' 'Science Fiction and Fantasy|Romance'\n",
      " 'Action and Adventure|Classics|Documentary'\n",
      " 'Action and Adventure|Art House and International|Drama|Horror|Mystery and Suspense'\n",
      " 'Comedy|Drama|Faith and Spirituality' 'Comedy|Documentary|Television'\n",
      " 'Action and Adventure|Drama|Mystery and Suspense|Science Fiction and Fantasy|Special Interest'\n",
      " 'Comedy|Drama|Kids and Family|Sports and Fitness'] \n",
      "\n",
      "unique values in column'director' are : '\n",
      "':['William Friedkin' 'David Cronenberg' 'Allison Anders' ... 'Joel Coen'\n",
      " 'Steve Barron' 'David Mickey Evans'] \n",
      "\n",
      "unique values in column'writer' are : '\n",
      "':['Ernest Tidyman' 'David Cronenberg|Don DeLillo' 'Allison Anders' ...\n",
      " 'Terry Turner|Tom Davis|Dan Aykroyd|Bonnie Turner'\n",
      " 'David Mickey Evans|Robert Gunter' 'Luc Besson'] \n",
      "\n",
      "unique values in column'theater_date' are : '\n",
      "':['Oct 9, 1971' 'Aug 17, 2012' 'Sep 13, 1996' ... 'Aug 18, 2006'\n",
      " 'Apr 1, 1993' 'Sep 27, 2001'] \n",
      "\n",
      "unique values in column'dvd_date' are : '\n",
      "':['Sep 25, 2001' 'Jan 1, 2013' 'Apr 18, 2000' 'Aug 27, 1997' nan\n",
      " 'Jul 11, 2000' 'Jun 18, 2002' 'Oct 2, 2007' 'Nov 9, 2010' 'Jul 27, 1999'\n",
      " 'Sep 30, 2003' 'May 20, 2008' 'Sep 20, 1999' 'Apr 5, 2011' 'Mar 18, 2014'\n",
      " 'Mar 8, 2005' 'Apr 1, 2014' 'Sep 21, 2004' 'Jan 7, 2003' 'May 10, 2011'\n",
      " 'Aug 22, 2000' 'Nov 7, 2000' 'Jan 18, 2000' 'Aug 7, 2001' 'Oct 30, 2007'\n",
      " 'Apr 13, 2004' 'Oct 7, 2003' 'Jan 25, 2005' 'Nov 2, 1999' 'Aug 5, 2003'\n",
      " 'Feb 3, 1998' 'Mar 25, 2014' 'May 19, 1998' 'Apr 30, 2013' 'Nov 6, 2001'\n",
      " 'Nov 27, 2001' 'Jul 25, 2006' 'Feb 24, 1998' 'Dec 22, 1998'\n",
      " 'Mar 18, 2008' 'Jul 9, 2013' 'Apr 29, 2014' 'Jul 18, 2006' 'Oct 21, 2003'\n",
      " 'Nov 23, 2004' 'May 22, 2001' 'May 31, 2011' 'Nov 15, 2011'\n",
      " 'Mar 16, 1999' 'Oct 24, 2000' 'Mar 19, 2002' 'May 3, 2011' 'Sep 5, 2005'\n",
      " 'Jul 16, 2002' 'Feb 14, 2017' 'Apr 29, 2003' 'Apr 21, 1993'\n",
      " 'Apr 22, 2008' 'Aug 10, 2010' 'Sep 19, 1995' 'Mar 5, 2002' 'Oct 17, 2000'\n",
      " 'Oct 24, 2006' 'May 2, 2000' 'Feb 16, 1999' 'Jun 1, 1999' 'Jun 5, 2007'\n",
      " 'Nov 19, 2002' 'Aug 14, 2001' 'Sep 14, 2010' 'Dec 30, 2008' 'Dec 4, 2018'\n",
      " 'Jun 24, 2003' 'Sep 27, 2005' 'Dec 16, 2003' 'Jan 4, 2011' 'Sep 7, 1999'\n",
      " 'Mar 30, 1999' 'Mar 11, 2003' 'Oct 8, 2002' 'Sep 11, 1991' 'Jun 1, 2004'\n",
      " 'Nov 17, 1998' 'May 23, 2000' 'Aug 24, 2010' 'May 18, 1999' 'Aug 3, 2010'\n",
      " 'Jan 15, 2002' 'Mar 1, 1991' 'May 18, 2010' 'Feb 17, 2004' 'Aug 30, 2005'\n",
      " 'Jul 24, 2001' 'Nov 10, 1998' 'Apr 26, 2011' 'Dec 3, 2002' 'Apr 28, 2009'\n",
      " 'Nov 1, 2005' 'Dec 19, 1991' 'Oct 30, 2012' 'Feb 4, 2003' 'Jan 12, 2015'\n",
      " 'Mar 4, 2003' 'Nov 23, 1999' 'Jul 26, 2005' 'Nov 20, 2001' 'Mar 7, 2017'\n",
      " 'Feb 6, 2007' 'Feb 5, 2002' 'Nov 14, 2006' 'Oct 22, 1997' 'Oct 12, 1994'\n",
      " 'Jan 24, 2017' 'Mar 20, 2001' 'Jul 28, 2009' 'Feb 15, 2005'\n",
      " 'May 20, 2003' 'Dec 13, 2011' 'Apr 26, 2005' 'May 31, 2005' 'Dec 7, 2004'\n",
      " 'Mar 23, 1999' 'Mar 16, 2010' 'Mar 28, 2000' 'Apr 28, 1998'\n",
      " 'Jan 23, 2007' 'Nov 21, 2000' 'Jun 18, 2006' 'Feb 8, 2011' 'Feb 24, 2009'\n",
      " 'Feb 12, 2008' 'Jun 13, 2000' 'Dec 8, 1998' 'Feb 22, 2000' 'Oct 10, 2006'\n",
      " 'Oct 29, 2013' 'Mar 15, 2016' 'Aug 28, 2001' 'Aug 21, 2001' 'Apr 7, 2009'\n",
      " 'Aug 12, 2003' 'Sep 2, 2003' 'Jan 15, 2008' 'Feb 8, 2000' 'Oct 31, 2006'\n",
      " 'Mar 12, 2002' 'Apr 26, 2016' 'Mar 28, 2006' 'Feb 3, 2009' 'Sep 24, 2002'\n",
      " 'Oct 7, 2014' 'Jul 27, 2010' 'Jul 1, 2016' 'Jun 17, 2008' 'May 8, 2012'\n",
      " 'Dec 14, 1994' 'Jan 1, 1998' 'Dec 5, 2006' 'Jul 7, 1998' 'Oct 25, 2005'\n",
      " 'Apr 22, 2003' 'Aug 1, 2000' 'Feb 20, 2007' 'Nov 23, 2010' 'Jun 22, 2004'\n",
      " 'Jun 20, 2000' 'Jul 17, 2012' 'Jul 26, 2004' 'Dec 2, 2003' 'Jul 10, 1992'\n",
      " 'Apr 1, 2008' 'Dec 17, 2013' 'Apr 24, 2007' 'Jun 4, 2013' 'Feb 9, 2016'\n",
      " 'Jun 4, 2002' 'Jun 7, 2011' 'Oct 31, 2000' 'Jan 26, 2010' 'Apr 20, 2004'\n",
      " 'Aug 13, 2002' 'Jul 10, 2012' 'Mar 15, 2011' 'Jul 22, 2014'\n",
      " 'Nov 14, 2001' 'Jan 11, 2005' 'Jul 13, 2010' 'Aug 21, 2003'\n",
      " 'Aug 12, 2014' 'Jul 4, 2006' 'Mar 9, 2010' 'Mar 18, 2003' 'May 26, 1998'\n",
      " 'Jul 10, 2001' 'Mar 1, 2016' 'Oct 30, 2003' 'Nov 18, 2003' 'Apr 10, 2001'\n",
      " 'Aug 28, 2007' 'Jun 27, 2000' 'Dec 15, 2009' 'Jul 8, 2003' 'Jun 21, 2005'\n",
      " 'Jan 20, 2004' 'Apr 17, 2007' 'May 25, 2010' 'Apr 6, 2004' 'Sep 23, 2014'\n",
      " 'Jun 12, 2018' 'Jun 5, 2001' 'Feb 11, 2003' 'Jan 20, 1998' 'Mar 9, 2004'\n",
      " 'Apr 24, 2001' 'Apr 2, 2013' 'Mar 10, 2009' 'Feb 29, 2000' 'May 1, 1991'\n",
      " 'Jul 1, 2008' 'Oct 30, 2018' 'Jul 22, 2008' 'Apr 7, 2014' 'Mar 31, 1998'\n",
      " 'May 24, 2005' 'Apr 15, 2003' 'Jan 21, 2003' 'Dec 6, 2005' 'Jun 26, 2012'\n",
      " 'Oct 19, 1999' 'Jan 8, 2002' 'Oct 17, 2006' 'Aug 8, 2000' 'Mar 29, 2005'\n",
      " 'Feb 13, 2012' 'May 28, 2013' 'Sep 16, 2003' 'Aug 7, 2007' 'Nov 3, 2009'\n",
      " 'Aug 22, 2006' 'Sep 25, 2007' 'Dec 20, 2011' 'Nov 30, 2004'\n",
      " 'Sep 18, 2001' 'Feb 19, 2002' 'Oct 19, 2010' 'Oct 12, 2004' 'Jun 9, 1998'\n",
      " 'Jul 20, 2004' 'Sep 12, 2006' 'Jan 23, 2001' 'Aug 9, 2011' 'Jan 17, 2017'\n",
      " 'Sep 11, 2012' 'Mar 11, 2008' 'Jul 6, 2004' 'May 23, 2006' 'Mar 7, 2006'\n",
      " 'May 16, 2000' 'Nov 11, 2003' 'Jul 6, 2010' 'Apr 27, 2004' 'Dec 21, 2004'\n",
      " 'Sep 24, 2013' 'Aug 16, 2005' 'Jun 15, 1998' 'May 5, 2015' 'Nov 4, 2014'\n",
      " 'Feb 13, 2001' 'Feb 12, 2002' 'Jun 30, 1998' 'Jun 9, 2009' 'Oct 10, 2000'\n",
      " 'Apr 16, 2002' 'Apr 13, 1999' 'Aug 23, 2005' 'Jul 15, 2003'\n",
      " 'Jan 23, 1996' 'Feb 2, 1999' 'Oct 12, 2010' 'Dec 21, 1999' 'Sep 3, 2002'\n",
      " 'Mar 27, 2018' 'Dec 29, 1998' 'Mar 24, 2009' 'Mar 20, 2018' 'Jan 1, 2002'\n",
      " 'May 27, 2003' 'Dec 13, 2005' 'Jul 10, 2018' 'May 3, 2005' 'Feb 28, 2006'\n",
      " 'Dec 11, 2018' 'Nov 11, 2014' 'Jun 10, 2008' 'Jun 29, 1999' 'Mar 6, 2001'\n",
      " 'Aug 1, 2017' 'Jul 7, 2009' 'May 1, 2001' 'May 8, 2001' 'May 4, 2004'\n",
      " 'Nov 9, 1999' 'Apr 15, 1987' 'May 1, 2007' 'Mar 22, 2011' 'Jun 8, 2004'\n",
      " 'Oct 6, 1998' 'Sep 11, 2001' 'Sep 29, 1998' 'Oct 9, 2001' 'Jun 18, 2012'\n",
      " 'Aug 26, 2008' 'Jan 1, 1991' 'Dec 11, 2001' 'Dec 7, 1999' 'Oct 27, 2009'\n",
      " 'Nov 14, 2017' 'May 6, 2014' 'Aug 3, 1994' 'Mar 13, 2001' 'Aug 20, 2002'\n",
      " 'Nov 16, 2004' 'Sep 1, 1998' 'Aug 18, 1998' 'May 15, 2001' 'Jan 14, 2003'\n",
      " 'Jun 7, 2005' 'Aug 16, 2016' 'Jan 27, 2004' 'Dec 21, 2012' 'Apr 24, 2012'\n",
      " 'Dec 26, 2001' 'Oct 23, 2001' 'Jan 18, 2011' 'May 13, 2014' 'Sep 4, 2001'\n",
      " 'Apr 28, 2015' 'Aug 11, 1998' 'Apr 2, 2002' 'Mar 25, 2008' 'Oct 1, 2002'\n",
      " 'Apr 25, 2006' 'Dec 18, 2001' 'Jul 5, 2005' 'Jun 8, 1999' 'Aug 4, 2017'\n",
      " 'Dec 15, 2015' 'Sep 9, 2003' 'Oct 12, 1999' 'Dec 31, 2001' 'Dec 8, 2009'\n",
      " 'Oct 4, 2005' 'Oct 13, 1998' 'Aug 29, 1995' 'Mar 9, 1999' 'Jan 29, 2013'\n",
      " 'Feb 9, 2015' 'Mar 27, 2007' 'Jun 19, 2001' 'May 2, 2006' 'Jun 15, 2000'\n",
      " 'May 8, 2007' 'Oct 11, 2016' 'Oct 28, 1997' 'Sep 20, 2016' 'Jan 24, 2006'\n",
      " 'Aug 9, 2005' 'Aug 6, 2002' 'Aug 21, 2018' 'Sep 12, 2011' 'Jun 3, 2008'\n",
      " 'Feb 1, 2000' 'Jul 5, 2000' 'Jan 30, 2001' 'Nov 11, 2008' 'Feb 27, 2018'\n",
      " 'May 13, 2008' 'Jan 30, 1991' 'Feb 19, 2014' 'Jun 14, 2016'\n",
      " 'Apr 11, 2000' 'Jun 13, 1991' 'Feb 19, 1992' 'Nov 9, 2004' 'Feb 2, 2016'\n",
      " 'Feb 1, 1998' 'Feb 19, 2013' 'Oct 15, 2002' 'Jun 2, 2009' 'Jan 11, 2011'\n",
      " 'Sep 3, 1997' 'Feb 7, 2006' 'Jun 3, 2003' 'Jun 15, 2004' 'May 19, 2009'\n",
      " 'Jun 11, 2002' 'Jul 7, 2015' 'May 10, 2005' 'Nov 22, 2005' 'Apr 6, 2010'\n",
      " 'Oct 13, 2009' 'Jul 30, 2002' 'May 29, 2007' 'Dec 16, 1997'\n",
      " 'Jan 28, 2003' 'Feb 24, 2004' 'Nov 26, 1996' 'Nov 21, 2006'\n",
      " 'Jun 29, 2004' 'Mar 2, 2004' 'Nov 16, 2010' 'Nov 17, 2015' 'Jul 31, 2018'\n",
      " 'Apr 10, 2007' 'Mar 15, 2005' 'Aug 15, 2006' 'Apr 29, 1992'\n",
      " 'Apr 14, 2015' 'Jul 31, 2007' 'Jul 19, 1994' 'Apr 3, 2001' 'Dec 14, 1999'\n",
      " 'Dec 23, 2003' 'Apr 4, 2000' 'Feb 3, 2004' 'Feb 18, 2003' 'Mar 24, 1998'\n",
      " 'May 18, 2004' 'Sep 6, 2011' 'Jul 12, 2005' 'Apr 27, 2010' 'Feb 9, 1994'\n",
      " 'Sep 14, 2004' 'Dec 1, 2014' 'May 17, 2011' 'Apr 19, 1999' 'Sep 10, 2002'\n",
      " 'Jan 25, 2000' 'Feb 10, 2004' 'Oct 22, 2012' 'Feb 22, 2005'\n",
      " 'Nov 13, 2001' 'May 21, 2002' 'Jul 31, 2012' 'Aug 25, 1998'\n",
      " 'Apr 25, 2000' 'Mar 23, 2004' 'Jun 18, 2013' 'Jun 6, 2000' 'Apr 15, 2014'\n",
      " 'Jan 2, 2002' 'Feb 5, 2008' 'Dec 27, 2011' 'May 15, 2012' 'Oct 14, 2008'\n",
      " 'May 5, 2009' 'Aug 28, 2000' 'May 25, 2004' 'Jan 15, 1999' 'Oct 2, 2001'\n",
      " 'Apr 20, 2015' 'Nov 5, 2013' 'Jul 1, 2003' 'Jun 14, 2005' 'Jul 17, 2007'\n",
      " 'Dec 14, 2010' 'Nov 27, 2018' 'Nov 15, 2005' 'Apr 9, 2002' 'Jun 26, 1996'\n",
      " 'Mar 13, 2018' 'Aug 31, 2004' 'Jul 26, 2016' 'Dec 1, 2010' 'Oct 11, 2005'\n",
      " 'Oct 9, 2010' 'Jul 11, 2006' 'Sep 9, 2014' 'Nov 26, 2002' 'Feb 6, 2001'\n",
      " 'Nov 2, 2004' 'Sep 2, 2008' 'Jul 9, 2003' 'Jul 18, 2000' 'Apr 19, 2005'\n",
      " 'Sep 15, 1998' 'May 22, 2018' 'Dec 28, 2004' 'May 28, 1992'\n",
      " 'Oct 14, 2003' 'Sep 20, 2005' 'Nov 22, 2016' 'Oct 17, 2017' 'Dec 5, 2000'\n",
      " 'Dec 22, 2009' 'Dec 10, 2013' 'Sep 5, 2006' 'Feb 24, 2015' 'Feb 5, 1992'\n",
      " 'Mar 19, 2013' 'Sep 23, 2013' 'Mar 25, 2003' 'Apr 5, 2005' 'Jan 30, 2007'\n",
      " 'Aug 8, 2006' 'Oct 27, 1998' 'Sep 8, 2009' 'Jan 9, 2007' 'Jun 28, 2016'\n",
      " 'Apr 24, 2018' 'Jun 15, 1999' 'Aug 20, 2013' 'Jun 16, 2015'\n",
      " 'Sep 18, 2007' 'Feb 11, 2014' 'Dec 2, 1997' 'Aug 3, 2004' 'Sep 22, 2015'\n",
      " 'Mar 22, 2005' 'Feb 23, 1999' 'Mar 27, 2001' 'Aug 29, 2006'\n",
      " 'Dec 20, 2005' 'Mar 3, 2009' 'Oct 28, 2008' 'May 24, 2016' 'Mar 21, 2000'\n",
      " 'Dec 6, 2016' 'Jul 3, 2001' 'Oct 25, 2016' 'Dec 19, 2000' 'Feb 7, 2017'\n",
      " 'Jan 3, 2012' 'Jul 4, 2000' 'Nov 17, 2009' 'Sep 7, 2010' 'Dec 18, 2018'\n",
      " 'Aug 28, 2012' 'Feb 10, 1998' 'Nov 10, 1993' 'Sep 17, 2002'\n",
      " 'Oct 18, 2005' 'Apr 14, 2008' 'Aug 17, 2004' 'Aug 28, 2018'\n",
      " 'May 17, 2005' 'Dec 12, 2006' 'Mar 12, 2013' 'Oct 5, 1999' 'Sep 7, 2004'\n",
      " 'May 6, 1997' 'Jan 6, 2015' 'Sep 13, 2005' 'Mar 26, 2002' 'Jul 13, 2004'\n",
      " 'Apr 4, 2017' 'Dec 4, 2001' 'Oct 3, 2006' 'Sep 5, 2017' 'May 14, 2002'\n",
      " 'Nov 24, 2009' 'Apr 4, 2006' 'Jan 1, 2005' 'Sep 10, 1996' 'May 25, 1999'\n",
      " 'Jul 9, 2004' 'Feb 20, 2001' 'Jan 13, 2004' 'Aug 31, 1999' 'Mar 14, 1995'\n",
      " 'Dec 3, 2018' 'Feb 9, 2010' 'Feb 7, 1991' 'May 16, 2006' 'Jan 6, 2004'\n",
      " 'Oct 5, 2004' 'Sep 1, 2009' 'Aug 24, 2004' 'Sep 12, 2017' 'Jun 22, 1999'\n",
      " 'Oct 26, 2006' 'Jan 27, 2009' 'Mar 20, 2012' 'Nov 18, 1988' 'Jun 5, 2012'\n",
      " 'Sep 10, 1997' 'Apr 11, 2003' 'Jun 10, 2003' 'Mar 6, 2012' 'May 30, 1996'\n",
      " 'Jul 14, 2009' 'Feb 5, 2019' 'Mar 30, 2004' 'May 12, 1998' 'Feb 26, 2002'\n",
      " 'May 12, 2015' 'May 29, 2001' 'Dec 9, 2008' 'May 12, 2009' 'May 4, 1999'\n",
      " 'Dec 27, 2016' 'Sep 16, 2014' 'Dec 2, 2008' 'Nov 29, 2005' 'Jan 19, 1999'\n",
      " 'Jan 29, 2008' 'Aug 29, 2000' 'Feb 7, 2005' 'Feb 6, 2006' 'Apr 12, 2011'\n",
      " 'Nov 30, 1999' 'Nov 28, 2017' 'Mar 11, 2013' 'Oct 22, 2013'\n",
      " 'Jun 25, 2002' 'Nov 6, 2018' 'Jan 16, 2007' 'Aug 4, 2009' 'Nov 19, 2013'\n",
      " 'Dec 1, 2009' 'May 6, 2003' 'Aug 7, 2018' 'Mar 13, 2007' 'Jan 20, 2009'\n",
      " 'Nov 25, 2003' 'Jul 15, 2011' 'Oct 7, 2008' 'Mar 1, 2005' 'May 3, 2016'\n",
      " 'Mar 14, 2000' 'Dec 10, 1997' 'Mar 6, 2000' 'Jan 5, 1999' 'Feb 15, 2000'\n",
      " 'Mar 20, 1991' 'Nov 7, 2006' 'Jan 17, 2012' 'May 9, 1991' 'May 31, 1999'\n",
      " 'Feb 25, 2014' 'Nov 16, 1999' 'Jul 24, 2018' 'Dec 9, 2003' 'Mar 6, 2007'\n",
      " 'Sep 29, 2009' 'Oct 20, 1998' 'Mar 22, 2016' 'Dec 26, 2000' 'Dec 9, 2014'\n",
      " 'Nov 28, 2000' 'Jan 28, 2002' 'Mar 31, 2015' 'Dec 26, 2005'\n",
      " 'Dec 14, 2004' 'Dec 23, 2008' 'Oct 4, 2011' 'May 22, 1991' 'Sep 13, 2012'\n",
      " 'Jul 15, 1992' 'Jul 22, 2003' 'Jan 26, 1999' 'Sep 21, 1999' 'Feb 1, 2005'\n",
      " 'Oct 20, 2015' 'Sep 5, 2000' 'Jan 22, 1992' 'Oct 23, 2007' 'Oct 28, 2003'\n",
      " 'Nov 1, 2011' 'May 23, 2017' 'Apr 17, 2001' 'Apr 22, 2011' 'Mar 4, 2008'\n",
      " 'Sep 25, 1991' 'Oct 3, 2000' 'Jul 3, 2018' 'Feb 7, 2012' 'Sep 19, 2006'\n",
      " 'Jun 27, 2017' 'May 13, 2003' 'May 2, 2005' 'Sep 18, 2018' 'Jan 12, 1999'\n",
      " 'Feb 8, 2005' 'Dec 29, 2009' 'Feb 16, 2016' 'Jun 26, 2007' 'Sep 9, 1998'\n",
      " 'Sep 30, 2006' 'Jan 19, 2004' 'Aug 27, 2002' 'Nov 25, 2008'\n",
      " 'Aug 19, 2003' 'Nov 8, 2016' 'Dec 22, 2015' 'Jun 26, 1997' 'Jun 17, 1998'\n",
      " 'Jan 6, 2003' 'Apr 20, 1994' 'Nov 1, 1998' 'Aug 26, 1997' 'Jan 9, 2018'\n",
      " 'Jun 27, 2006' 'Feb 26, 1992' 'Jul 6, 1994' 'Feb 25, 2013' 'Sep 26, 2000'\n",
      " 'Sep 25, 1997' 'Apr 3, 2012' 'Aug 2, 2005' 'Jun 21, 2016' 'Nov 20, 2012'\n",
      " 'Jul 23, 2002' 'Oct 9, 2007' 'Apr 8, 2003' 'Jan 2, 2007' 'May 11, 2004'\n",
      " 'Jan 29, 2002'] \n",
      "\n",
      "unique values in column'currency' are : '\n",
      "':[nan '$'] \n",
      "\n",
      "unique values in column'box_office' are : '\n",
      "':[nan '600,000' '41,032,915' '224,114' '134,904' '1,039,869' '99,165,609'\n",
      " '20,518,224' '1,971,135' '312,136' '201,010' '132,088,910' '54,100,000'\n",
      " '127,706,877' '10,880,926' '10,706,786' '35,565,975' '4,806,750'\n",
      " '5,051,927' '93,300,000' '1,000,000' '42,929,971' '13,248,477'\n",
      " '64,001,297' '2,974,308' '37,431,431' '22,715,908' '67,771,442'\n",
      " '19,755,422' '73,023,275' '4,007,792' '1,626,289' '3,998,889'\n",
      " '12,533,911' '2,839,256' '128,579,698' '5,205,343' '54,983,983'\n",
      " '21,318,194' '84,293' '8,518,148' '12,583,510' '35,000,629' '976,847'\n",
      " '37,331,031' '145,778' '63,400,000' '7,009,668' '80,574,010' '47,781,388'\n",
      " '5,600,000' '200,000' '134,455,175' '25,957,696' '3,200,000' '308,164'\n",
      " '32,741,596' '15,986,272' '13,710,572' '4,756,532' '42,194,060' '347,321'\n",
      " '7,366,736' '8,134,217' '72,266,306' '419,361' '1,341,151' '2,839,456'\n",
      " '121,500,000' '154,485,963' '54,132,596' '24,967,943' '46,982,632'\n",
      " '55,400,000' '2,536,460' '39,697,363' '2,367' '140,901' '21,379,315'\n",
      " '292,923' '480,926' '126,597,121' '1,231,550' '82,468,131' '44,478,018'\n",
      " '1,300,000' '2,209,479' '6,426,953' '2,586,310' '21,254,983' '10,500,000'\n",
      " '32,000,000' '114,053,579' '104,880,310' '35,764,982' '17,364,602'\n",
      " '14,037,964' '26,800,000' '598,103' '67,631,157' '88,800,000' '22,099'\n",
      " '12,610,731' '8,874,389' '529,426' '2,664,765' '241,250,669'\n",
      " '107,506,776' '10,572,742' '52,277,485' '1,800,000' '300,000'\n",
      " '15,687,400' '6,100,613' '63,883,740' '54,218,420' '175,088' '19,375,474'\n",
      " '15,425,870' '38,200,000' '2,365,931' '231,512' '52,000,189'\n",
      " '102,981,571' '14,443,077' '4,900,000' '1,940,202' '39,712' '14,400,987'\n",
      " '22,877,808' '25,077,977' '700,000' '234,141,872' '1,616,556' '465,786'\n",
      " '27,503,677' '1,736,708' '25,658' '75,604,320' '13,900,000' '15,988,876'\n",
      " '453,079' '279,167,575' '8,300' '13,351,235' '3,328' '19,000,000'\n",
      " '16,302,332' '1,688,620' '3,752,818' '89,602,378' '519,730' '301,194'\n",
      " '104,286' '12,711,889' '4,519,967' '28,031,250' '34,187,787' '31,155,435'\n",
      " '36,800,000' '30,212,620' '42,500,000' '3,014,541' '53,021,560'\n",
      " '127,490,802' '105,765,605' '1,566,027' '1,110,286' '948,054'\n",
      " '368,000,000' '45,299,680' '1,634,064' '44,667,095' '406,235'\n",
      " '82,989,109' '15,176,515' '466,986' '723,714' '115,088,305' '35,966'\n",
      " '303,001,229' '64,209,101' '252,018' '10,127,352' '15,655,665'\n",
      " '1,569,618' '116,783' '18,356,529' '20,467,547' '4,300,353' '8,616,662'\n",
      " '71,844,424' '44,566,004' '3,900,000' '43,800,000' '262,586'\n",
      " '118,683,135' '709,133' '541,457' '9,500,000' '18,013,938' '67,169,549'\n",
      " '257,704,099' '3,349,167' '363' '11,827,301' '793,352' '63,595'\n",
      " '16,614,132' '146,336,178' '20,433,940' '3,596,939' '190,871,149'\n",
      " '72,601,713' '6,002,708' '93,008,426' '116,638,030' '22,838,662'\n",
      " '5,696,752' '320,676' '7,156,725' '5,617,321' '10,279,192' '81,110,575'\n",
      " '13,432,508' '15,504,419' '109,176,215' '148,734,225' '66,580,191'\n",
      " '6,515,869' '1,121,000' '13,985,117' '106,604,314' '13,737,564'\n",
      " '73,058,679' '42,168,445' '261,835,892' '164,454,835' '3,185,193'\n",
      " '29,885,424' '7,518,962' '19,548,064' '2,021,399' '109,257' '13,592,311'\n",
      " '586,242' '102,515,793' '57,000,000' '13,155,823' '119,000,000'\n",
      " '37,442,180' '20,218,921' '27,696,504' '299,300,000' '14,244,145'\n",
      " '5,851,913' '127,083,765' '39,418,953' '31,670,931' '707,672' '2,027,042'\n",
      " '4,683,159' '33,408,732' '1,149,350' '1,260,219' '3,400,000'\n",
      " '177,575,142' '53,100,000' '463,914' '40,632,110' '214,813,155'\n",
      " '123,188,232' '4,894,004' '241,672' '20,900,803' '1,626,909' '10,928,042'\n",
      " '8,856' '33,200,000' '26,973,524' '11,348,612' '1,526,248' '13,630,226'\n",
      " '41,407,470' '101,368' '35,003,216' '15,133,185' '38,120,554' '549,351'\n",
      " '176,049,130' '18,472,363' '95,111,012' '81,157,671' '14,260,193'\n",
      " '209,805,005' '12,900,000' '16,632' '13,617,501' '4,436,352' '74,223,625'\n",
      " '39,532,308' '4,341,275' '9,404,922' '2,500,000' '18,173,360' '410,077'\n",
      " '2,395,410' '18,602,895' '118,253' '32,700,000' '15,536,310' '34,600,000'\n",
      " '8,888,355' '9,262,318' '227,946,274' '90,672,025' '97,661,826' '72,413'\n",
      " '58,255,287' '766,428' '88,658,172' '144,738,046' '5,689,784' '2,646,396'\n",
      " '98,000,000' '41,800,000' '2,927,972' '36,873,198' '2,782,548'\n",
      " '72,700,000' '581,813' '1,320,005' '25,335,935' '1,416,189' '59,371'\n",
      " '794,306' '33,886,034'] \n",
      "\n",
      "unique values in column'runtime' are : '\n",
      "':['104 minutes' '108 minutes' '116 minutes' '128 minutes' '200 minutes'\n",
      " '95 minutes' '82 minutes' '123 minutes' '117 minutes' nan '90 minutes'\n",
      " '97 minutes' '106 minutes' '129 minutes' '98 minutes' '127 minutes'\n",
      " '96 minutes' '101 minutes' '114 minutes' '110 minutes' '65 minutes'\n",
      " '75 minutes' '92 minutes' '91 minutes' '73 minutes' '100 minutes'\n",
      " '99 minutes' '103 minutes' '112 minutes' '142 minutes' '119 minutes'\n",
      " '122 minutes' '86 minutes' '93 minutes' '111 minutes' '118 minutes'\n",
      " '89 minutes' '74 minutes' '115 minutes' '107 minutes' '165 minutes'\n",
      " '113 minutes' '186 minutes' '67 minutes' '102 minutes' '60 minutes'\n",
      " '55 minutes' '135 minutes' '109 minutes' '120 minutes' '70 minutes'\n",
      " '124 minutes' '105 minutes' '134 minutes' '80 minutes' '87 minutes'\n",
      " '167 minutes' '77 minutes' '81 minutes' '94 minutes' '188 minutes'\n",
      " '126 minutes' '63 minutes' '132 minutes' '137 minutes' '79 minutes'\n",
      " '156 minutes' '147 minutes' '54 minutes' '85 minutes' '15 minutes'\n",
      " '171 minutes' '59 minutes' '88 minutes' '130 minutes' '143 minutes'\n",
      " '133 minutes' '52 minutes' '13 minutes' '83 minutes' '155 minutes'\n",
      " '7 minutes' '121 minutes' '125 minutes' '146 minutes' '196 minutes'\n",
      " '78 minutes' '158 minutes' '69 minutes' '153 minutes' '145 minutes'\n",
      " '76 minutes' '84 minutes' '45 minutes' '179 minutes' '64 minutes'\n",
      " '138 minutes' '175 minutes' '174 minutes' '144 minutes' '152 minutes'\n",
      " '184 minutes' '150 minutes' '313 minutes' '164 minutes' '11 minutes'\n",
      " '148 minutes' '6 minutes' '71 minutes' '23 minutes' '157 minutes'\n",
      " '141 minutes' '358 minutes' '61 minutes' '192 minutes' '154 minutes'\n",
      " '166 minutes' '33 minutes' '140 minutes' '57 minutes' '170 minutes'\n",
      " '68 minutes' '205 minutes' '159 minutes' '136 minutes' '10 minutes'\n",
      " '30 minutes' '58 minutes' '178 minutes' '240 minutes' '149 minutes'\n",
      " '180 minutes' '139 minutes' '294 minutes' '161 minutes' '72 minutes'\n",
      " '56 minutes' '183 minutes' '195 minutes' '131 minutes' '229 minutes'\n",
      " '5 minutes' '290 minutes'] \n",
      "\n",
      "unique values in column'studio' are : '\n",
      "':[nan 'Entertainment One' 'Warner Bros. Pictures' 'Paramount Pictures'\n",
      " 'Sony Pictures Classics' 'Showtime Documentary Films'\n",
      " 'Seventh Art Releasing' 'ATO Pictures' 'Sony Pictures'\n",
      " 'Universal Pictures' 'MGM' 'After Dark Films/Freestyle Releasing'\n",
      " 'Lions Gate Films' 'Regent Releasing' 'Janus Films'\n",
      " 'The Weinstein Company' 'New Line Cinema' 'Walt Disney Pictures'\n",
      " 'FilmDistrict' '20th Century Fox' 'Summit Entertainment'\n",
      " 'Newmarket Film Group' 'Samuel Goldwyn Films' 'Open Road Films'\n",
      " 'Warner Bros.' 'Fox' 'Screen Media Films' 'Roadside Attractions'\n",
      " 'Buena Vista Pictures' 'DreamWorks SKG' 'Buena Vista Distribution Compa'\n",
      " 'New Yorker Films' 'STXfilms' 'Destination Films' 'Miramax'\n",
      " 'Paramount Studios' 'Arrowstorm Entertainment' 'Inception Media Group'\n",
      " 'Fine Line Features' 'Columbia Pictures' 'IFC Films'\n",
      " 'Dreamworks Pictures' 'Film District' 'Reliance Entertainment'\n",
      " 'Twentieth Century Fox Home Entertainment' 'WARNER BROTHERS PICTURES'\n",
      " 'Dreamworks Distribution LLC' 'Cult Epics' 'Focus Features'\n",
      " 'Lions Gate Films Inc.' 'Lionsgate Films' 'New Line Home Entertainment'\n",
      " 'Laemmle/Zeller Films' 'Magnolia Pictures' 'Sony Pictures Entertainment'\n",
      " 'Sony Classics' 'NCM/Fathom' 'Wrekin Hill Entertainment'\n",
      " 'Independant Pictures' 'Weinstein Company'\n",
      " 'Sony Pictures/TriStar Pictures' 'Aspiration Media'\n",
      " 'Sony Pictures Home Entertainment' 'Kino International'\n",
      " 'Criterion Collection' 'USA Films' 'Corridor' 'Phase 4 Films'\n",
      " 'Goldwyn Films' 'Sony Pictures Releasing' 'Variance Films' 'MGM/UA'\n",
      " 'Vanguard Cinema' 'MVD Entertainment Group' 'Film Foundry Releasing'\n",
      " 'Eros Entertainment' 'Revolver Entertainment' 'Fox Searchlight Pictures'\n",
      " 'CBS Films' 'Film Arcade' 'Echolight Studios' 'Westchester Films'\n",
      " 'Lionsgate/Roadside Attractions' 'Sony Pictures/Columbia'\n",
      " 'Paramount Vantage' 'WB' 'Monterey Media' 'Independent Films'\n",
      " 'Screen Gems/SONY PICTURES' 'Independent Pictures' 'Fox Searchlight'\n",
      " 'Lorber Films' 'Cohen Media Group' 'Freestyle Releasing'\n",
      " 'Broad Green Pictures' '20th Century Fox Film Corporat'\n",
      " 'Lionsgate Films/After Dark Films' 'The Bigger Picture'\n",
      " 'First Independent Pictures' 'Orion Pictures Corporation' 'Miramax Films'\n",
      " 'Blue Underground' 'Factory 25' 'A24 and DIRECTV' 'First Look Pictures'\n",
      " 'Indican Pictures' 'A24 Films' 'LD Entertainment' 'Disneynature'\n",
      " 'Buena Vista Distribution' 'Tribeca Film' 'IFC'\n",
      " 'Universal Studios Home Video' 'Mitropoulos Films'\n",
      " 'Full Circle Releasing' 'Cinema Service' 'Touchstone Pictures'\n",
      " 'United Artists Pictures/MGM' 'Lions Gate Releasing'\n",
      " 'Grindstone Entertainment' 'Anchor Bay Entertainment' 'Paramount'\n",
      " 'Eureka Entertainment Ltd' 'Cloud Ten Pictures' 'Les Films du Losange'\n",
      " 'United Artists Pictures' 'Streetlight Films' 'Truly Indie/BEV Pictures'\n",
      " 'Lions Gate' 'Newmarket Films' 'Lionsgate'\n",
      " '20th Century Fox Distribution' 'Gravitas Ventures' 'Paramount Classics'\n",
      " 'Destination Film' 'Truly Indie' 'ThinkFilm Inc.' 'Relativity Media'\n",
      " 'Sony Pictures/Columbia Pictures' 'Rocking Films' 'DEJ Productions'\n",
      " 'Lakeshore Entertainment' 'The Weinstein Co.' 'Buena Vista'\n",
      " 'Buena Vista Internationa' 'IMAX' 'Screen Gems' 'Slamdance'\n",
      " 'New Video Group' 'NeoClassics Films' 'Dimension Films' 'FilmBuff'\n",
      " 'Zeitgeist Films' 'FilmRise' 'Universal' 'Vivendi Entertainment' 'A24'\n",
      " 'Artistic License Films' 'Iskander Films' 'Capitol Films' 'Truth Aid'\n",
      " 'The Off Hours Film LLC' 'Universal Studios' 'Greenlight Theatrical'\n",
      " 'Australian Film Finance Corporation' 'First Run Features'\n",
      " 'United Artists' 'Fingerprint Releasing / Bleecker Street'\n",
      " 'Universal Pictures Distributio' 'Dreamworks/Paramount'\n",
      " 'Universal Pictures International' 'Overture Films' 'Artisan'\n",
      " 'Film Sales Company' 'Summit Entertainment.' 'IFC First Take'\n",
      " 'Knowledge Matters' 'ADV Films' 'Ocilloscope Pictures' 'Film 44'\n",
      " 'Aviron Pictures' 'International Film Circuit' 'Argot Pictures'\n",
      " 'The Film Arcade' 'Crane Movie Company' 'Big World Pictures'\n",
      " 'STX Entertainment' 'Columbia Tristar Pictures' 'Apparition Films'\n",
      " 'Artisan Entertainment' 'Summit Premiere' 'TriStar Pictures'\n",
      " 'Paramount Home Video' 'Cinema Group' 'Walt Disney Animation Studios'\n",
      " 'Weinstein Co.' 'Twentieth Century Fox' 'Gravitas' 'Fox International'\n",
      " 'Buffalo Films' 'IDP Distribution'] \n",
      "\n"
     ]
    }
   ],
   "source": [
    "#check unique values in the columns\n",
    "for column in dataf4:\n",
    "    unique_values = dataf4[column].unique()\n",
    "    print(f\"unique values in column'{column}' are : '\\n':{unique_values}\",'\\n')"
>>>>>>> 800f0c325ecfb7193fdc7bea96aaaa54816eeaa2
   ]
  },
  {
   "cell_type": "markdown",
   "metadata": {},
   "source": [
<<<<<<< HEAD
    "#### All the columns in data3 three are important for analysis and therefore none will be dropped."
   ]
  },
  {
   "cell_type": "code",
   "execution_count": 43,
   "metadata": {},
   "outputs": [
    {
     "name": "stdout",
     "output_type": "stream",
     "text": [
      "id\n",
      "[  1   2   3   4   5   6   7   8   9  10  11  12  13  14  15  16  17  18\n",
      "  19  20  21  22  23  24  25  26  27  28  29  30  31  32  33  34  35  36\n",
      "  37  38  39  40  41  42  43  44  45  46  47  48  49  50  51  52  53  54\n",
      "  55  56  57  58  59  60  61  62  63  64  65  66  67  68  69  70  71  72\n",
      "  73  74  75  76  77  78  79  80  81  82  83  84  85  86  87  88  89  90\n",
      "  91  92  93  94  95  96  97  98  99 100]\n",
      "\n",
      "release_date\n",
      "['Dec 18, 2009' 'May 20, 2011' 'Jun 7, 2019' ... 'Aug 14, 2008'\n",
      " 'Feb 26, 1993' 'Jul 13, 2005']\n",
      "\n",
      "movie\n",
      "['Avatar' 'Pirates of the Caribbean: On Stranger Tides' 'Dark Phoenix' ...\n",
      " 'Return to the Land of Wonders' 'A Plague So Pleasant'\n",
      " 'My Date With Drew']\n",
      "\n",
      "production_budget\n",
      "['$425,000,000' '$410,600,000' '$350,000,000' '$330,600,000'\n",
      " '$317,000,000' '$306,000,000' '$300,000,000' '$275,000,000'\n",
      " '$260,000,000' '$258,000,000' '$250,000,000' '$232,000,000'\n",
      " '$230,000,000' '$225,000,000' '$220,000,000' '$217,000,000'\n",
      " '$215,000,000' '$210,000,000' '$207,000,000' '$205,000,000'\n",
      " '$200,000,000' '$195,000,000' '$190,000,000' '$187,500,000'\n",
      " '$186,000,000' '$185,000,000' '$182,000,000' '$180,000,000'\n",
      " '$179,000,000' '$178,000,000' '$175,000,000' '$170,000,000'\n",
      " '$165,000,000' '$163,000,000' '$160,000,000' '$156,000,000'\n",
      " '$155,000,000' '$152,000,000' '$151,500,000' '$151,000,000'\n",
      " '$150,000,000' '$149,000,000' '$145,000,000' '$144,000,000'\n",
      " '$142,000,000' '$140,000,000' '$139,000,000' '$138,000,000'\n",
      " '$137,500,000' '$137,000,000' '$136,200,000' '$135,000,000'\n",
      " '$132,900,000' '$132,000,000' '$130,000,000' '$129,000,000'\n",
      " '$127,500,000' '$127,000,000' '$125,000,000' '$123,000,000'\n",
      " '$120,000,000' '$117,000,000' '$116,000,000' '$115,000,000'\n",
      " '$113,500,000' '$112,000,000' '$111,000,000' '$110,000,000'\n",
      " '$109,000,000' '$108,000,000' '$106,000,000' '$105,000,000'\n",
      " '$104,000,000' '$103,300,000' '$103,000,000' '$102,500,000'\n",
      " '$102,000,000' '$100,000,000' '$99,000,000' '$98,000,000' '$97,000,000'\n",
      " '$95,000,000' '$94,000,000' '$93,000,000' '$92,500,000' '$92,000,000'\n",
      " '$91,000,000' '$90,000,000' '$88,000,000' '$87,500,000' '$87,000,000'\n",
      " '$86,000,000' '$85,000,000' '$84,000,000' '$82,500,000' '$82,000,000'\n",
      " '$81,000,000' '$80,000,000' '$79,300,000' '$79,000,000' '$78,000,000'\n",
      " '$77,600,000' '$77,500,000' '$77,000,000' '$76,000,000' '$75,000,000'\n",
      " '$74,000,000' '$73,243,106' '$73,000,000' '$72,500,000' '$72,000,000'\n",
      " '$71,682,975' '$71,500,000' '$70,702,619' '$70,000,000' '$69,000,000'\n",
      " '$68,000,000' '$67,500,000' '$67,000,000' '$66,000,000' '$65,000,000'\n",
      " '$64,000,000' '$63,700,000' '$63,000,000' '$62,000,000' '$61,000,000'\n",
      " '$60,720,000' '$60,000,000' '$59,500,000' '$59,000,000' '$58,000,000'\n",
      " '$57,500,000' '$57,000,000' '$56,200,000' '$56,000,000' '$55,000,000'\n",
      " '$54,000,000' '$53,012,938' '$53,000,000' '$52,500,000' '$52,000,000'\n",
      " '$51,000,000' '$50,200,000' '$50,000,000' '$49,800,000' '$49,000,000'\n",
      " '$48,000,000' '$47,500,000' '$47,000,000' '$46,500,000' '$46,000,000'\n",
      " '$45,500,000' '$45,000,000' '$44,500,000' '$44,000,000' '$43,000,000'\n",
      " '$42,500,000' '$42,000,000' '$41,000,000' '$40,000,000' '$39,000,000'\n",
      " '$38,600,000' '$38,000,000' '$37,500,000' '$37,000,000' '$36,500,000'\n",
      " '$36,000,000' '$35,200,000' '$35,000,000' '$34,800,000' '$34,000,000'\n",
      " '$33,500,000' '$33,000,000' '$32,500,000' '$32,000,000' '$31,500,000'\n",
      " '$31,000,000' '$30,250,000' '$30,000,000' '$29,200,000' '$29,000,000'\n",
      " '$28,700,000' '$28,500,000' '$28,000,000' '$27,500,000' '$27,000,000'\n",
      " '$26,700,000' '$26,000,000' '$25,530,000' '$25,500,000' '$25,100,000'\n",
      " '$25,000,000' '$24,200,000' '$24,000,000' '$23,600,000' '$23,000,000'\n",
      " '$22,700,000' '$22,500,000' '$22,000,000' '$21,600,000' '$21,500,000'\n",
      " '$21,000,000' '$20,700,000' '$20,500,000' '$20,000,000' '$19,800,000'\n",
      " '$19,700,000' '$19,500,000' '$19,400,000' '$19,200,000' '$19,100,000'\n",
      " '$19,000,000' '$18,975,000' '$18,900,000' '$18,500,000' '$18,000,000'\n",
      " '$17,900,000' '$17,700,000' '$17,500,000' '$17,000,000' '$16,800,000'\n",
      " '$16,500,000' '$16,400,000' '$16,000,000' '$15,700,000' '$15,600,000'\n",
      " '$15,500,000' '$15,300,000' '$15,250,000' '$15,000,000' '$14,600,000'\n",
      " '$14,500,000' '$14,400,000' '$14,200,000' '$14,000,000' '$13,900,000'\n",
      " '$13,700,000' '$13,500,000' '$13,400,000' '$13,300,000' '$13,200,000'\n",
      " '$13,000,000' '$12,800,000' '$12,700,000' '$12,600,000' '$12,500,000'\n",
      " '$12,300,000' '$12,000,000' '$11,900,000' '$11,800,000' '$11,500,000'\n",
      " '$11,400,000' '$11,000,000' '$10,800,000' '$10,750,000' '$10,700,000'\n",
      " '$10,600,000' '$10,500,000' '$10,400,000' '$10,350,000' '$10,300,000'\n",
      " '$10,100,000' '$10,000,000' '$9,900,000' '$9,800,000' '$9,700,000'\n",
      " '$9,600,000' '$9,500,000' '$9,400,000' '$9,300,000' '$9,200,000'\n",
      " '$9,100,000' '$9,000,000' '$8,900,000' '$8,800,000' '$8,600,000'\n",
      " '$8,500,000' '$8,470,000' '$8,400,000' '$8,300,000' '$8,250,000'\n",
      " '$8,200,000' '$8,000,000' '$7,900,000' '$7,800,000' '$7,700,000'\n",
      " '$7,500,000' '$7,400,000' '$7,303,082' '$7,300,000' '$7,250,000'\n",
      " '$7,200,000' '$7,000,000' '$6,900,000' '$6,840,000' '$6,800,000'\n",
      " '$6,750,000' '$6,700,000' '$6,600,000' '$6,537,890' '$6,500,000'\n",
      " '$6,400,000' '$6,250,000' '$6,200,000' '$6,100,000' '$6,000,000'\n",
      " '$5,952,000' '$5,900,000' '$5,800,000' '$5,700,000' '$5,600,000'\n",
      " '$5,500,000' '$5,400,000' '$5,300,000' '$5,250,000' '$5,200,000'\n",
      " '$5,100,000' '$5,000,000' '$4,900,000' '$4,833,610' '$4,800,000'\n",
      " '$4,750,000' '$4,700,000' '$4,638,783' '$4,600,000' '$4,500,000'\n",
      " '$4,400,000' '$4,357,373' '$4,300,000' '$4,200,000' '$4,030,000'\n",
      " '$4,000,000' '$3,900,000' '$3,800,000' '$3,768,785' '$3,750,000'\n",
      " '$3,716,946' '$3,700,000' '$3,600,000' '$3,500,000' '$3,450,000'\n",
      " '$3,440,000' '$3,400,000' '$3,380,000' '$3,300,000' '$3,250,000'\n",
      " '$3,200,000' '$3,180,000' '$3,100,000' '$3,000,000' '$2,931,000'\n",
      " '$2,900,000' '$2,883,848' '$2,850,000' '$2,800,000' '$2,777,000'\n",
      " '$2,750,000' '$2,700,000' '$2,686,000' '$2,660,000' '$2,650,000'\n",
      " '$2,627,000' '$2,600,000' '$2,540,000' '$2,500,000' '$2,450,000'\n",
      " '$2,400,000' '$2,380,000' '$2,361,000' '$2,300,000' '$2,289,247'\n",
      " '$2,280,000' '$2,250,000' '$2,200,000' '$2,160,000' '$2,150,000'\n",
      " '$2,100,000' '$2,000,000' '$1,987,650' '$1,950,000' '$1,900,000'\n",
      " '$1,800,000' '$1,750,000' '$1,700,000' '$1,660,000' '$1,650,000'\n",
      " '$1,644,000' '$1,600,000' '$1,577,000' '$1,500,000' '$1,488,000'\n",
      " '$1,455,000' '$1,400,000' '$1,377,800' '$1,350,000' '$1,305,000'\n",
      " '$1,300,000' '$1,288,000' '$1,250,000' '$1,200,000' '$1,150,000'\n",
      " '$1,125,000' '$1,100,000' '$1,070,000' '$1,039,000' '$1,000,000'\n",
      " '$989,000' '$950,000' '$930,000' '$916,000' '$913,000' '$910,000'\n",
      " '$900,000' '$858,000' '$850,000' '$840,000' '$825,000' '$820,000'\n",
      " '$800,000' '$780,000' '$777,000' '$775,000' '$750,000' '$747,000'\n",
      " '$730,000' '$700,000' '$672,000' '$658,000' '$650,000' '$640,000'\n",
      " '$625,000' '$609,000' '$600,000' '$560,000' '$558,000' '$550,000'\n",
      " '$546,173' '$500,000' '$475,000' '$450,000' '$439,000' '$430,000'\n",
      " '$425,000' '$420,000' '$400,000' '$385,907' '$379,000' '$375,000'\n",
      " '$350,000' '$340,000' '$325,000' '$323,000' '$312,000' '$300,000'\n",
      " '$290,000' '$270,000' '$250,000' '$245,000' '$240,000' '$230,000'\n",
      " '$225,000' '$210,000' '$200,000' '$190,000' '$180,000' '$175,000'\n",
      " '$170,000' '$168,000' '$160,000' '$150,000' '$140,000' '$135,000'\n",
      " '$134,000' '$125,000' '$120,000' '$114,000' '$110,000' '$103,000'\n",
      " '$100,000' '$87,000' '$79,000' '$75,000' '$70,000' '$68,000' '$66,000'\n",
      " '$65,000' '$60,000' '$55,000' '$50,000' '$45,000' '$42,000' '$40,000'\n",
      " '$35,000' '$30,000' '$27,000' '$25,000' '$23,000' '$22,000' '$20,000'\n",
      " '$17,300' '$15,000' '$12,000' '$10,000' '$9,000' '$7,000' '$6,000'\n",
      " '$5,000' '$1,400' '$1,100']\n",
      "\n",
      "domestic_gross\n",
      "['$760,507,625' '$241,063,875' '$42,762,350' ... '$48,482' '$1,338'\n",
      " '$181,041']\n",
      "\n",
      "worldwide_gross\n",
      "['$2,776,345,279' '$1,045,663,875' '$149,762,350' ... '$240,495' '$1,338'\n",
      " '$181,041']\n",
      "\n"
     ]
    }
   ],
   "source": [
    "# checking for unique  in every column\n",
    "for clom in data3_copy:\n",
    "    clom_val = data3_copy[clom].unique()\n",
    "    print(f\"{clom}\\n{clom_val}\\n\")\n"
   ]
  },
  {
   "cell_type": "code",
   "execution_count": 44,
   "metadata": {},
   "outputs": [
    {
     "data": {
      "text/html": [
       "<div>\n",
       "<style scoped>\n",
       "    .dataframe tbody tr th:only-of-type {\n",
       "        vertical-align: middle;\n",
       "    }\n",
       "\n",
       "    .dataframe tbody tr th {\n",
       "        vertical-align: top;\n",
       "    }\n",
       "\n",
       "    .dataframe thead th {\n",
       "        text-align: right;\n",
       "    }\n",
       "</style>\n",
       "<table border=\"1\" class=\"dataframe\">\n",
       "  <thead>\n",
       "    <tr style=\"text-align: right;\">\n",
       "      <th></th>\n",
       "      <th>id</th>\n",
       "      <th>release_date</th>\n",
       "      <th>movie</th>\n",
       "      <th>production_budget</th>\n",
       "      <th>domestic_gross</th>\n",
       "      <th>worldwide_gross</th>\n",
       "    </tr>\n",
       "  </thead>\n",
       "  <tbody>\n",
       "    <tr>\n",
       "      <th>0</th>\n",
       "      <td>1</td>\n",
       "      <td>Dec 18, 2009</td>\n",
       "      <td>Avatar</td>\n",
       "      <td>$425,000,000</td>\n",
       "      <td>$760,507,625</td>\n",
       "      <td>$2,776,345,279</td>\n",
       "    </tr>\n",
       "    <tr>\n",
       "      <th>1</th>\n",
       "      <td>2</td>\n",
       "      <td>May 20, 2011</td>\n",
       "      <td>Pirates of the Caribbean: On Stranger Tides</td>\n",
       "      <td>$410,600,000</td>\n",
       "      <td>$241,063,875</td>\n",
       "      <td>$1,045,663,875</td>\n",
       "    </tr>\n",
       "    <tr>\n",
       "      <th>2</th>\n",
       "      <td>3</td>\n",
       "      <td>Jun 7, 2019</td>\n",
       "      <td>Dark Phoenix</td>\n",
       "      <td>$350,000,000</td>\n",
       "      <td>$42,762,350</td>\n",
       "      <td>$149,762,350</td>\n",
       "    </tr>\n",
       "    <tr>\n",
       "      <th>3</th>\n",
       "      <td>4</td>\n",
       "      <td>May 1, 2015</td>\n",
       "      <td>Avengers: Age of Ultron</td>\n",
       "      <td>$330,600,000</td>\n",
       "      <td>$459,005,868</td>\n",
       "      <td>$1,403,013,963</td>\n",
       "    </tr>\n",
       "    <tr>\n",
       "      <th>4</th>\n",
       "      <td>5</td>\n",
       "      <td>Dec 15, 2017</td>\n",
       "      <td>Star Wars Ep. VIII: The Last Jedi</td>\n",
       "      <td>$317,000,000</td>\n",
       "      <td>$620,181,382</td>\n",
       "      <td>$1,316,721,747</td>\n",
       "    </tr>\n",
       "    <tr>\n",
       "      <th>...</th>\n",
       "      <td>...</td>\n",
       "      <td>...</td>\n",
       "      <td>...</td>\n",
       "      <td>...</td>\n",
       "      <td>...</td>\n",
       "      <td>...</td>\n",
       "    </tr>\n",
       "    <tr>\n",
       "      <th>5777</th>\n",
       "      <td>78</td>\n",
       "      <td>Dec 31, 2018</td>\n",
       "      <td>Red 11</td>\n",
       "      <td>$7,000</td>\n",
       "      <td>$0</td>\n",
       "      <td>$0</td>\n",
       "    </tr>\n",
       "    <tr>\n",
       "      <th>5778</th>\n",
       "      <td>79</td>\n",
       "      <td>Apr 2, 1999</td>\n",
       "      <td>Following</td>\n",
       "      <td>$6,000</td>\n",
       "      <td>$48,482</td>\n",
       "      <td>$240,495</td>\n",
       "    </tr>\n",
       "    <tr>\n",
       "      <th>5779</th>\n",
       "      <td>80</td>\n",
       "      <td>Jul 13, 2005</td>\n",
       "      <td>Return to the Land of Wonders</td>\n",
       "      <td>$5,000</td>\n",
       "      <td>$1,338</td>\n",
       "      <td>$1,338</td>\n",
       "    </tr>\n",
       "    <tr>\n",
       "      <th>5780</th>\n",
       "      <td>81</td>\n",
       "      <td>Sep 29, 2015</td>\n",
       "      <td>A Plague So Pleasant</td>\n",
       "      <td>$1,400</td>\n",
       "      <td>$0</td>\n",
       "      <td>$0</td>\n",
       "    </tr>\n",
       "    <tr>\n",
       "      <th>5781</th>\n",
       "      <td>82</td>\n",
       "      <td>Aug 5, 2005</td>\n",
       "      <td>My Date With Drew</td>\n",
       "      <td>$1,100</td>\n",
       "      <td>$181,041</td>\n",
       "      <td>$181,041</td>\n",
       "    </tr>\n",
       "  </tbody>\n",
       "</table>\n",
       "<p>5782 rows × 6 columns</p>\n",
       "</div>"
      ],
      "text/plain": [
       "      id  release_date                                        movie  \\\n",
       "0      1  Dec 18, 2009                                       Avatar   \n",
       "1      2  May 20, 2011  Pirates of the Caribbean: On Stranger Tides   \n",
       "2      3   Jun 7, 2019                                 Dark Phoenix   \n",
       "3      4   May 1, 2015                      Avengers: Age of Ultron   \n",
       "4      5  Dec 15, 2017            Star Wars Ep. VIII: The Last Jedi   \n",
       "...   ..           ...                                          ...   \n",
       "5777  78  Dec 31, 2018                                       Red 11   \n",
       "5778  79   Apr 2, 1999                                    Following   \n",
       "5779  80  Jul 13, 2005                Return to the Land of Wonders   \n",
       "5780  81  Sep 29, 2015                         A Plague So Pleasant   \n",
       "5781  82   Aug 5, 2005                            My Date With Drew   \n",
       "\n",
       "     production_budget domestic_gross worldwide_gross  \n",
       "0         $425,000,000   $760,507,625  $2,776,345,279  \n",
       "1         $410,600,000   $241,063,875  $1,045,663,875  \n",
       "2         $350,000,000    $42,762,350    $149,762,350  \n",
       "3         $330,600,000   $459,005,868  $1,403,013,963  \n",
       "4         $317,000,000   $620,181,382  $1,316,721,747  \n",
       "...                ...            ...             ...  \n",
       "5777            $7,000             $0              $0  \n",
       "5778            $6,000        $48,482        $240,495  \n",
       "5779            $5,000         $1,338          $1,338  \n",
       "5780            $1,400             $0              $0  \n",
       "5781            $1,100       $181,041        $181,041  \n",
       "\n",
       "[5782 rows x 6 columns]"
      ]
     },
     "execution_count": 44,
     "metadata": {},
     "output_type": "execute_result"
    }
   ],
   "source": [
    "data3_copy"
   ]
  },
  {
   "cell_type": "code",
   "execution_count": 45,
   "metadata": {},
   "outputs": [
    {
     "data": {
      "text/plain": [
       "0      2009-12-18\n",
       "1      2011-05-20\n",
       "2      2019-06-07\n",
       "3      2015-05-01\n",
       "4      2017-12-15\n",
       "          ...    \n",
       "5777   2018-12-31\n",
       "5778   1999-04-02\n",
       "5779   2005-07-13\n",
       "5780   2015-09-29\n",
       "5781   2005-08-05\n",
       "Name: release_date, Length: 5782, dtype: datetime64[ns]"
      ]
     },
     "execution_count": 45,
     "metadata": {},
     "output_type": "execute_result"
    }
   ],
   "source": [
    "# changing the release_date to datetime\n",
    "data3_copy['release_date'] = pd.to_datetime(data3_copy['release_date'])\n",
    "data3_copy['release_date']\n",
    "# so extract the month and year too\n",
    "# data3_copy['month'] = data3_copy['release_date'].dt.month\n",
    "# data3_copy['year'] = data3_copy['release_date'].dt.year"
=======
    "# Checking duplicates and dropping all unnecessary columns"
>>>>>>> 800f0c325ecfb7193fdc7bea96aaaa54816eeaa2
   ]
  },
  {
   "cell_type": "code",
   "execution_count": 46,
   "metadata": {},
   "outputs": [
    {
     "data": {
      "text/plain": [
<<<<<<< HEAD
       "id                   0\n",
       "release_date         0\n",
       "movie                0\n",
       "production_budget    0\n",
       "domestic_gross       0\n",
       "worldwide_gross      0\n",
       "dtype: int64"
=======
       "(1560, 12)"
>>>>>>> 800f0c325ecfb7193fdc7bea96aaaa54816eeaa2
      ]
     },
     "execution_count": 46,
     "metadata": {},
     "output_type": "execute_result"
    }
   ],
   "source": [
<<<<<<< HEAD
    "# checking for null values in the resultant dataset\n",
    "data3_copy.isnull().sum()"
=======
    "#drop duplicates\n",
    "dataf4=dataf4.drop_duplicates()\n",
    "dataf4.shape"
>>>>>>> 800f0c325ecfb7193fdc7bea96aaaa54816eeaa2
   ]
  },
  {
   "cell_type": "markdown",
   "metadata": {},
   "source": [
<<<<<<< HEAD
    "#### The data has no null values hence no need for those rigorous operations for fillingin the missing data"
=======
    "Observation: There are no duplicates in the dataset"
>>>>>>> 800f0c325ecfb7193fdc7bea96aaaa54816eeaa2
   ]
  },
  {
   "cell_type": "code",
   "execution_count": 47,
   "metadata": {},
   "outputs": [
    {
<<<<<<< HEAD
     "name": "stdout",
     "output_type": "stream",
     "text": [
      "Value counts for column: id\n",
      "id\n",
      "1      58\n",
      "63     58\n",
      "61     58\n",
      "60     58\n",
      "59     58\n",
      "       ..\n",
      "86     57\n",
      "85     57\n",
      "84     57\n",
      "83     57\n",
      "100    57\n",
      "Name: count, Length: 100, dtype: int64\n",
      "\n",
      "\n",
      "Value counts for column: release_date\n",
      "release_date\n",
      "2014-12-31    24\n",
      "2015-12-31    23\n",
      "2010-12-31    15\n",
      "2008-12-31    14\n",
      "2009-12-31    13\n",
      "              ..\n",
      "1977-10-21     1\n",
      "2009-06-23     1\n",
      "2017-09-26     1\n",
      "2007-11-14     1\n",
      "2005-07-13     1\n",
      "Name: count, Length: 2418, dtype: int64\n",
      "\n",
      "\n",
      "Value counts for column: movie\n",
      "movie\n",
      "Halloween                              3\n",
      "Home                                   3\n",
      "King Kong                              3\n",
      "Friday the 13th                        2\n",
      "The Last House on the Left             2\n",
      "                                      ..\n",
      "9                                      1\n",
      "What's the Worst That Could Happen?    1\n",
      "Entourage                              1\n",
      "Love and Other Drugs                   1\n",
      "My Date With Drew                      1\n",
      "Name: count, Length: 5698, dtype: int64\n",
      "\n",
      "\n",
      "Value counts for column: production_budget\n",
      "production_budget\n",
      "$20,000,000    231\n",
      "$10,000,000    212\n",
      "$30,000,000    177\n",
      "$15,000,000    173\n",
      "$25,000,000    171\n",
      "              ... \n",
      "$13,900,000      1\n",
      "$14,200,000      1\n",
      "$14,400,000      1\n",
      "$14,600,000      1\n",
      "$1,100           1\n",
      "Name: count, Length: 509, dtype: int64\n",
      "\n",
      "\n",
      "Value counts for column: domestic_gross\n",
      "domestic_gross\n",
      "$0             548\n",
      "$8,000,000       9\n",
      "$7,000,000       7\n",
      "$2,000,000       7\n",
      "$10,000,000      6\n",
      "              ... \n",
      "$2,221,994       1\n",
      "$4,212,494       1\n",
      "$4,496,583       1\n",
      "$4,651,977       1\n",
      "$181,041         1\n",
      "Name: count, Length: 5164, dtype: int64\n",
      "\n",
      "\n",
      "Value counts for column: worldwide_gross\n",
      "worldwide_gross\n",
      "$0             367\n",
      "$8,000,000       9\n",
      "$2,000,000       6\n",
      "$7,000,000       6\n",
      "$4,000,000       4\n",
      "              ... \n",
      "$39,498,360      1\n",
      "$94,875,000      1\n",
      "$77,593,167      1\n",
      "$36,299,670      1\n",
      "$181,041         1\n",
      "Name: count, Length: 5356, dtype: int64\n",
      "\n",
      "\n"
     ]
    }
   ],
   "source": [
    "for clom in data3_copy.columns:\n",
    "    print(f\"Value counts for column: {clom}\")\n",
    "    print(data3_copy[clom].value_counts())\n",
    "    print(\"\\n\")"
   ]
  },
  {
   "cell_type": "code",
   "execution_count": 25,
   "metadata": {},
   "outputs": [
    {
     "data": {
      "text/html": [
       "<div>\n",
       "<style scoped>\n",
       "    .dataframe tbody tr th:only-of-type {\n",
       "        vertical-align: middle;\n",
       "    }\n",
       "\n",
       "    .dataframe tbody tr th {\n",
       "        vertical-align: top;\n",
       "    }\n",
       "\n",
       "    .dataframe thead th {\n",
       "        text-align: right;\n",
       "    }\n",
       "</style>\n",
       "<table border=\"1\" class=\"dataframe\">\n",
       "  <thead>\n",
       "    <tr style=\"text-align: right;\">\n",
       "      <th></th>\n",
       "      <th>id</th>\n",
       "      <th>synopsis</th>\n",
       "      <th>rating</th>\n",
       "      <th>genre</th>\n",
       "      <th>director</th>\n",
       "      <th>writer</th>\n",
       "      <th>theater_date</th>\n",
       "      <th>dvd_date</th>\n",
       "      <th>currency</th>\n",
       "      <th>box_office</th>\n",
       "      <th>runtime</th>\n",
       "      <th>studio</th>\n",
       "    </tr>\n",
       "  </thead>\n",
       "  <tbody>\n",
       "    <tr>\n",
       "      <th>0</th>\n",
       "      <td>1</td>\n",
       "      <td>This gritty, fast-paced, and innovative police...</td>\n",
       "      <td>R</td>\n",
       "      <td>Action and Adventure|Classics|Drama</td>\n",
       "      <td>William Friedkin</td>\n",
       "      <td>Ernest Tidyman</td>\n",
       "      <td>Oct 9, 1971</td>\n",
       "      <td>Sep 25, 2001</td>\n",
       "      <td>NaN</td>\n",
       "      <td>NaN</td>\n",
       "      <td>104 minutes</td>\n",
       "      <td>NaN</td>\n",
       "    </tr>\n",
       "    <tr>\n",
       "      <th>1</th>\n",
       "      <td>3</td>\n",
       "      <td>New York City, not-too-distant-future: Eric Pa...</td>\n",
       "      <td>R</td>\n",
       "      <td>Drama|Science Fiction and Fantasy</td>\n",
       "      <td>David Cronenberg</td>\n",
       "      <td>David Cronenberg|Don DeLillo</td>\n",
       "      <td>Aug 17, 2012</td>\n",
       "      <td>Jan 1, 2013</td>\n",
       "      <td>$</td>\n",
       "      <td>600,000</td>\n",
       "      <td>108 minutes</td>\n",
       "      <td>Entertainment One</td>\n",
       "    </tr>\n",
       "    <tr>\n",
       "      <th>2</th>\n",
       "      <td>5</td>\n",
       "      <td>Illeana Douglas delivers a superb performance ...</td>\n",
       "      <td>R</td>\n",
       "      <td>Drama|Musical and Performing Arts</td>\n",
       "      <td>Allison Anders</td>\n",
       "      <td>Allison Anders</td>\n",
       "      <td>Sep 13, 1996</td>\n",
       "      <td>Apr 18, 2000</td>\n",
       "      <td>NaN</td>\n",
       "      <td>NaN</td>\n",
       "      <td>116 minutes</td>\n",
       "      <td>NaN</td>\n",
       "    </tr>\n",
       "    <tr>\n",
       "      <th>3</th>\n",
       "      <td>6</td>\n",
       "      <td>Michael Douglas runs afoul of a treacherous su...</td>\n",
       "      <td>R</td>\n",
       "      <td>Drama|Mystery and Suspense</td>\n",
       "      <td>Barry Levinson</td>\n",
       "      <td>Paul Attanasio|Michael Crichton</td>\n",
       "      <td>Dec 9, 1994</td>\n",
       "      <td>Aug 27, 1997</td>\n",
       "      <td>NaN</td>\n",
       "      <td>NaN</td>\n",
       "      <td>128 minutes</td>\n",
       "      <td>NaN</td>\n",
       "    </tr>\n",
       "    <tr>\n",
       "      <th>4</th>\n",
       "      <td>7</td>\n",
       "      <td>NaN</td>\n",
       "      <td>NR</td>\n",
       "      <td>Drama|Romance</td>\n",
       "      <td>Rodney Bennett</td>\n",
       "      <td>Giles Cooper</td>\n",
       "      <td>NaN</td>\n",
       "      <td>NaN</td>\n",
       "      <td>NaN</td>\n",
       "      <td>NaN</td>\n",
       "      <td>200 minutes</td>\n",
       "      <td>NaN</td>\n",
       "    </tr>\n",
       "  </tbody>\n",
       "</table>\n",
       "</div>"
      ],
      "text/plain": [
       "   id                                           synopsis rating  \\\n",
       "0   1  This gritty, fast-paced, and innovative police...      R   \n",
       "1   3  New York City, not-too-distant-future: Eric Pa...      R   \n",
       "2   5  Illeana Douglas delivers a superb performance ...      R   \n",
       "3   6  Michael Douglas runs afoul of a treacherous su...      R   \n",
       "4   7                                                NaN     NR   \n",
       "\n",
       "                                 genre          director  \\\n",
       "0  Action and Adventure|Classics|Drama  William Friedkin   \n",
       "1    Drama|Science Fiction and Fantasy  David Cronenberg   \n",
       "2    Drama|Musical and Performing Arts    Allison Anders   \n",
       "3           Drama|Mystery and Suspense    Barry Levinson   \n",
       "4                        Drama|Romance    Rodney Bennett   \n",
       "\n",
       "                            writer  theater_date      dvd_date currency  \\\n",
       "0                   Ernest Tidyman   Oct 9, 1971  Sep 25, 2001      NaN   \n",
       "1     David Cronenberg|Don DeLillo  Aug 17, 2012   Jan 1, 2013        $   \n",
       "2                   Allison Anders  Sep 13, 1996  Apr 18, 2000      NaN   \n",
       "3  Paul Attanasio|Michael Crichton   Dec 9, 1994  Aug 27, 1997      NaN   \n",
       "4                     Giles Cooper           NaN           NaN      NaN   \n",
       "\n",
       "  box_office      runtime             studio  \n",
       "0        NaN  104 minutes                NaN  \n",
       "1    600,000  108 minutes  Entertainment One  \n",
       "2        NaN  116 minutes                NaN  \n",
       "3        NaN  128 minutes                NaN  \n",
       "4        NaN  200 minutes                NaN  "
      ]
     },
     "execution_count": 25,
=======
     "data": {
      "text/plain": [
       "Index(['id', 'synopsis', 'rating', 'genre', 'director', 'writer',\n",
       "       'theater_date', 'dvd_date', 'currency', 'box_office', 'runtime',\n",
       "       'studio'],\n",
       "      dtype='object')"
      ]
     },
     "execution_count": 47,
>>>>>>> 800f0c325ecfb7193fdc7bea96aaaa54816eeaa2
     "metadata": {},
     "output_type": "execute_result"
    }
   ],
   "source": [
<<<<<<< HEAD
    "data4 = pd.read_csv('zippedData/rt.movie_info.tsv.gz', sep = '\\t')\n",
    "data4.head()"
=======
    "#check the columns\n",
    "dataf4.columns"
>>>>>>> 800f0c325ecfb7193fdc7bea96aaaa54816eeaa2
   ]
  },
  {
   "cell_type": "code",
<<<<<<< HEAD
   "execution_count": null,
   "metadata": {},
   "outputs": [],
   "source": []
  },
  {
   "cell_type": "code",
   "execution_count": null,
   "metadata": {},
   "outputs": [],
   "source": []
  },
  {
   "cell_type": "code",
   "execution_count": 26,
=======
   "execution_count": 54,
   "metadata": {},
   "outputs": [],
   "source": [
    "#drop unnecessary columns\n",
    "#the columns dropped were irrelevant to our analysis or had too many null values\n",
    "dataf4.drop(['id','synopsis','director','writer','currency','box_office'],axis=1,inplace=True)"
   ]
  },
  {
   "cell_type": "code",
   "execution_count": 55,
>>>>>>> 800f0c325ecfb7193fdc7bea96aaaa54816eeaa2
   "metadata": {},
   "outputs": [
    {
     "data": {
      "text/plain": [
<<<<<<< HEAD
       "(1560, 12)"
      ]
     },
     "execution_count": 26,
=======
       "Index(['rating', 'genre', 'theater_date', 'dvd_date', 'runtime', 'studio'], dtype='object')"
      ]
     },
     "execution_count": 55,
>>>>>>> 800f0c325ecfb7193fdc7bea96aaaa54816eeaa2
     "metadata": {},
     "output_type": "execute_result"
    }
   ],
   "source": [
<<<<<<< HEAD
    "data4.shape"
=======
    "dataf4.columns"
   ]
  },
  {
   "cell_type": "markdown",
   "metadata": {},
   "source": [
    "# Filling in null values"
>>>>>>> 800f0c325ecfb7193fdc7bea96aaaa54816eeaa2
   ]
  },
  {
   "cell_type": "code",
<<<<<<< HEAD
   "execution_count": 27,
=======
   "execution_count": 56,
>>>>>>> 800f0c325ecfb7193fdc7bea96aaaa54816eeaa2
   "metadata": {},
   "outputs": [
    {
     "data": {
      "text/plain": [
<<<<<<< HEAD
       "id                 0\n",
       "synopsis          62\n",
       "rating             3\n",
       "genre              8\n",
       "director         199\n",
       "writer           449\n",
       "theater_date     359\n",
       "dvd_date         359\n",
       "currency        1220\n",
       "box_office      1220\n",
=======
       "rating             3\n",
       "genre              8\n",
       "theater_date     359\n",
       "dvd_date         359\n",
>>>>>>> 800f0c325ecfb7193fdc7bea96aaaa54816eeaa2
       "runtime           30\n",
       "studio          1066\n",
       "dtype: int64"
      ]
     },
<<<<<<< HEAD
     "execution_count": 27,
=======
     "execution_count": 56,
>>>>>>> 800f0c325ecfb7193fdc7bea96aaaa54816eeaa2
     "metadata": {},
     "output_type": "execute_result"
    }
   ],
   "source": [
<<<<<<< HEAD
    "data4.isna().sum()"
=======
    "#checking the null values\n",
    "dataf4.isna().sum()"
   ]
  },
  {
   "cell_type": "markdown",
   "metadata": {},
   "source": [
    "# Fill in categorical variables using mode - rating, genre and studio"
>>>>>>> 800f0c325ecfb7193fdc7bea96aaaa54816eeaa2
   ]
  },
  {
   "cell_type": "code",
<<<<<<< HEAD
   "execution_count": 28,
=======
   "execution_count": 57,
   "metadata": {},
   "outputs": [
    {
     "data": {
      "text/plain": [
       "0    R\n",
       "dtype: object"
      ]
     },
     "execution_count": 57,
     "metadata": {},
     "output_type": "execute_result"
    }
   ],
   "source": [
    "#fill in rating\n",
    "rating_mode = dataf4.rating.mode()\n",
    "rating_mode"
   ]
  },
  {
   "cell_type": "code",
   "execution_count": 59,
   "metadata": {},
   "outputs": [],
   "source": [
    "dataf4['rating'].fillna(rating_mode[0],inplace=True)"
   ]
  },
  {
   "cell_type": "code",
   "execution_count": 58,
   "metadata": {},
   "outputs": [
    {
     "data": {
      "text/plain": [
       "0    Universal Pictures\n",
       "dtype: object"
      ]
     },
     "execution_count": 58,
     "metadata": {},
     "output_type": "execute_result"
    }
   ],
   "source": [
    "#fill in studio\n",
    "studio_mode = dataf4.studio.mode()\n",
    "studio_mode"
   ]
  },
  {
   "cell_type": "code",
   "execution_count": 60,
   "metadata": {},
   "outputs": [],
   "source": [
    "dataf4['studio'].fillna(studio_mode[0],inplace=True)"
   ]
  },
  {
   "cell_type": "code",
   "execution_count": 64,
   "metadata": {},
   "outputs": [],
   "source": [
    "#fill in genre\n",
    "dataf4['main_genre'] = dataf4['genre'].fillna('').apply(lambda x: x.split('|')[0])"
   ]
  },
  {
   "cell_type": "code",
   "execution_count": 65,
   "metadata": {},
   "outputs": [
    {
     "data": {
      "text/plain": [
       "0    Action and Adventure\n",
       "dtype: object"
      ]
     },
     "execution_count": 65,
     "metadata": {},
     "output_type": "execute_result"
    }
   ],
   "source": [
    "genre_mode = dataf4.main_genre.mode()\n",
    "genre_mode"
   ]
  },
  {
   "cell_type": "code",
   "execution_count": 66,
   "metadata": {},
   "outputs": [],
   "source": [
    "dataf4['main_genre'].fillna(genre_mode[0],inplace=True)"
   ]
  },
  {
   "cell_type": "code",
   "execution_count": 68,
   "metadata": {},
   "outputs": [],
   "source": [
    "#drop the genre column which has been replaced by main_genre\n",
    "dataf4.drop(['genre'],axis=1,inplace=True)"
   ]
  },
  {
   "cell_type": "code",
   "execution_count": 69,
   "metadata": {},
   "outputs": [
    {
     "data": {
      "text/plain": [
       "rating            0\n",
       "theater_date    359\n",
       "dvd_date        359\n",
       "runtime          30\n",
       "studio            0\n",
       "main_genre        0\n",
       "dtype: int64"
      ]
     },
     "execution_count": 69,
     "metadata": {},
     "output_type": "execute_result"
    }
   ],
   "source": [
    "#check remaining null values\n",
    "dataf4.isnull().sum()"
   ]
  },
  {
   "cell_type": "markdown",
   "metadata": {},
   "source": [
    "# Fill in date values - theater date and dvd date"
   ]
  },
  {
   "cell_type": "code",
   "execution_count": 72,
   "metadata": {},
   "outputs": [],
   "source": [
    "#convert column data type then forward fill the dates\n",
    "dataf4['theater_date'] = pd.to_datetime(dataf4['theater_date'])\n",
    "dataf4['theater_date'] = dataf4['theater_date'].ffill()"
   ]
  },
  {
   "cell_type": "code",
   "execution_count": 73,
   "metadata": {},
   "outputs": [],
   "source": [
    "dataf4['dvd_date'] = pd.to_datetime(dataf4['dvd_date'])\n",
    "dataf4['dvd_date'] = dataf4['dvd_date'].ffill()"
   ]
  },
  {
   "cell_type": "markdown",
   "metadata": {},
   "source": [
    "# Fill in numerical variables"
   ]
  },
  {
   "cell_type": "code",
   "execution_count": 74,
   "metadata": {},
   "outputs": [],
   "source": [
    "#convert the runtime to numerical vales\n",
    "dataf4['runtime'] = pd.to_numeric(\n",
    "    dataf4['runtime'].str.replace(' minutes', '', regex=False),\n",
    "    errors='coerce'\n",
    ")"
   ]
  },
  {
   "cell_type": "code",
   "execution_count": 75,
   "metadata": {},
   "outputs": [
    {
     "data": {
      "text/plain": [
       "<function matplotlib.pyplot.show(close=None, block=None)>"
      ]
     },
     "execution_count": 75,
     "metadata": {},
     "output_type": "execute_result"
    },
    {
     "data": {
      "image/png": "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\n",
      "text/plain": [
       "<Figure size 432x288 with 1 Axes>"
      ]
     },
     "metadata": {
      "needs_background": "light"
     },
     "output_type": "display_data"
    }
   ],
   "source": [
    "#check whether the data is skewed\n",
    "dataf4['runtime'].plot.kde()\n",
    "plt.show"
   ]
  },
  {
   "cell_type": "code",
   "execution_count": 76,
   "metadata": {},
   "outputs": [
    {
     "data": {
      "text/plain": [
       "103.96797385620916"
      ]
     },
     "execution_count": 76,
     "metadata": {},
     "output_type": "execute_result"
    }
   ],
   "source": [
    "mean_value = dataf4['runtime'].mean()\n",
    "mean_value"
   ]
  },
  {
   "cell_type": "code",
   "execution_count": 78,
   "metadata": {},
   "outputs": [],
   "source": [
    "#fill in the missing values in minutes\n",
    "dataf4['runtime'].fillna(mean_value,inplace=True)"
   ]
  },
  {
   "cell_type": "code",
   "execution_count": 79,
   "metadata": {},
   "outputs": [
    {
     "data": {
      "text/plain": [
       "rating          False\n",
       "theater_date    False\n",
       "dvd_date        False\n",
       "runtime         False\n",
       "studio          False\n",
       "main_genre      False\n",
       "dtype: bool"
      ]
     },
     "execution_count": 79,
     "metadata": {},
     "output_type": "execute_result"
    }
   ],
   "source": [
    "dataf4.isnull().any()"
   ]
  },
  {
   "cell_type": "code",
   "execution_count": 35,
>>>>>>> 800f0c325ecfb7193fdc7bea96aaaa54816eeaa2
   "metadata": {},
   "outputs": [
    {
     "data": {
      "text/html": [
       "<div>\n",
       "<style scoped>\n",
       "    .dataframe tbody tr th:only-of-type {\n",
       "        vertical-align: middle;\n",
       "    }\n",
       "\n",
       "    .dataframe tbody tr th {\n",
       "        vertical-align: top;\n",
       "    }\n",
       "\n",
       "    .dataframe thead th {\n",
       "        text-align: right;\n",
       "    }\n",
       "</style>\n",
       "<table border=\"1\" class=\"dataframe\">\n",
       "  <thead>\n",
       "    <tr style=\"text-align: right;\">\n",
       "      <th></th>\n",
       "      <th>id</th>\n",
<<<<<<< HEAD
       "      <th>synopsis</th>\n",
       "      <th>rating</th>\n",
       "      <th>genre</th>\n",
       "      <th>director</th>\n",
       "      <th>writer</th>\n",
       "      <th>theater_date</th>\n",
       "      <th>dvd_date</th>\n",
       "      <th>currency</th>\n",
       "      <th>box_office</th>\n",
       "      <th>runtime</th>\n",
       "      <th>studio</th>\n",
=======
       "      <th>review</th>\n",
       "      <th>rating</th>\n",
       "      <th>fresh</th>\n",
       "      <th>critic</th>\n",
       "      <th>top_critic</th>\n",
       "      <th>publisher</th>\n",
       "      <th>date</th>\n",
>>>>>>> 800f0c325ecfb7193fdc7bea96aaaa54816eeaa2
       "    </tr>\n",
       "  </thead>\n",
       "  <tbody>\n",
       "    <tr>\n",
       "      <th>0</th>\n",
<<<<<<< HEAD
       "      <td>1</td>\n",
       "      <td>This gritty, fast-paced, and innovative police...</td>\n",
       "      <td>R</td>\n",
       "      <td>Action and Adventure|Classics|Drama</td>\n",
       "      <td>William Friedkin</td>\n",
       "      <td>Ernest Tidyman</td>\n",
       "      <td>Oct 9, 1971</td>\n",
       "      <td>Sep 25, 2001</td>\n",
       "      <td>NaN</td>\n",
       "      <td>NaN</td>\n",
       "      <td>104 minutes</td>\n",
       "      <td>NaN</td>\n",
=======
       "      <td>3</td>\n",
       "      <td>A distinctly gallows take on contemporary fina...</td>\n",
       "      <td>3/5</td>\n",
       "      <td>fresh</td>\n",
       "      <td>PJ Nabarro</td>\n",
       "      <td>0</td>\n",
       "      <td>Patrick Nabarro</td>\n",
       "      <td>November 10, 2018</td>\n",
>>>>>>> 800f0c325ecfb7193fdc7bea96aaaa54816eeaa2
       "    </tr>\n",
       "    <tr>\n",
       "      <th>1</th>\n",
       "      <td>3</td>\n",
<<<<<<< HEAD
       "      <td>New York City, not-too-distant-future: Eric Pa...</td>\n",
       "      <td>R</td>\n",
       "      <td>Drama|Science Fiction and Fantasy</td>\n",
       "      <td>David Cronenberg</td>\n",
       "      <td>David Cronenberg|Don DeLillo</td>\n",
       "      <td>Aug 17, 2012</td>\n",
       "      <td>Jan 1, 2013</td>\n",
       "      <td>$</td>\n",
       "      <td>600,000</td>\n",
       "      <td>108 minutes</td>\n",
       "      <td>Entertainment One</td>\n",
       "    </tr>\n",
       "    <tr>\n",
       "      <th>2</th>\n",
       "      <td>5</td>\n",
       "      <td>Illeana Douglas delivers a superb performance ...</td>\n",
       "      <td>R</td>\n",
       "      <td>Drama|Musical and Performing Arts</td>\n",
       "      <td>Allison Anders</td>\n",
       "      <td>Allison Anders</td>\n",
       "      <td>Sep 13, 1996</td>\n",
       "      <td>Apr 18, 2000</td>\n",
       "      <td>NaN</td>\n",
       "      <td>NaN</td>\n",
       "      <td>116 minutes</td>\n",
       "      <td>NaN</td>\n",
       "    </tr>\n",
       "    <tr>\n",
       "      <th>3</th>\n",
       "      <td>6</td>\n",
       "      <td>Michael Douglas runs afoul of a treacherous su...</td>\n",
       "      <td>R</td>\n",
       "      <td>Drama|Mystery and Suspense</td>\n",
       "      <td>Barry Levinson</td>\n",
       "      <td>Paul Attanasio|Michael Crichton</td>\n",
       "      <td>Dec 9, 1994</td>\n",
       "      <td>Aug 27, 1997</td>\n",
       "      <td>NaN</td>\n",
       "      <td>NaN</td>\n",
       "      <td>128 minutes</td>\n",
       "      <td>NaN</td>\n",
       "    </tr>\n",
       "    <tr>\n",
       "      <th>4</th>\n",
       "      <td>7</td>\n",
       "      <td>NaN</td>\n",
       "      <td>NR</td>\n",
       "      <td>Drama|Romance</td>\n",
       "      <td>Rodney Bennett</td>\n",
       "      <td>Giles Cooper</td>\n",
       "      <td>NaN</td>\n",
       "      <td>NaN</td>\n",
       "      <td>NaN</td>\n",
       "      <td>NaN</td>\n",
       "      <td>200 minutes</td>\n",
       "      <td>NaN</td>\n",
=======
       "      <td>It's an allegory in search of a meaning that n...</td>\n",
       "      <td>NaN</td>\n",
       "      <td>rotten</td>\n",
       "      <td>Annalee Newitz</td>\n",
       "      <td>0</td>\n",
       "      <td>io9.com</td>\n",
       "      <td>May 23, 2018</td>\n",
       "    </tr>\n",
       "    <tr>\n",
       "      <th>2</th>\n",
       "      <td>3</td>\n",
       "      <td>... life lived in a bubble in financial dealin...</td>\n",
       "      <td>NaN</td>\n",
       "      <td>fresh</td>\n",
       "      <td>Sean Axmaker</td>\n",
       "      <td>0</td>\n",
       "      <td>Stream on Demand</td>\n",
       "      <td>January 4, 2018</td>\n",
       "    </tr>\n",
       "    <tr>\n",
       "      <th>3</th>\n",
       "      <td>3</td>\n",
       "      <td>Continuing along a line introduced in last yea...</td>\n",
       "      <td>NaN</td>\n",
       "      <td>fresh</td>\n",
       "      <td>Daniel Kasman</td>\n",
       "      <td>0</td>\n",
       "      <td>MUBI</td>\n",
       "      <td>November 16, 2017</td>\n",
       "    </tr>\n",
       "    <tr>\n",
       "      <th>4</th>\n",
       "      <td>3</td>\n",
       "      <td>... a perverse twist on neorealism...</td>\n",
       "      <td>NaN</td>\n",
       "      <td>fresh</td>\n",
       "      <td>NaN</td>\n",
       "      <td>0</td>\n",
       "      <td>Cinema Scope</td>\n",
       "      <td>October 12, 2017</td>\n",
>>>>>>> 800f0c325ecfb7193fdc7bea96aaaa54816eeaa2
       "    </tr>\n",
       "  </tbody>\n",
       "</table>\n",
       "</div>"
      ],
      "text/plain": [
<<<<<<< HEAD
       "   id                                           synopsis rating  \\\n",
       "0   1  This gritty, fast-paced, and innovative police...      R   \n",
       "1   3  New York City, not-too-distant-future: Eric Pa...      R   \n",
       "2   5  Illeana Douglas delivers a superb performance ...      R   \n",
       "3   6  Michael Douglas runs afoul of a treacherous su...      R   \n",
       "4   7                                                NaN     NR   \n",
       "\n",
       "                                 genre          director  \\\n",
       "0  Action and Adventure|Classics|Drama  William Friedkin   \n",
       "1    Drama|Science Fiction and Fantasy  David Cronenberg   \n",
       "2    Drama|Musical and Performing Arts    Allison Anders   \n",
       "3           Drama|Mystery and Suspense    Barry Levinson   \n",
       "4                        Drama|Romance    Rodney Bennett   \n",
       "\n",
       "                            writer  theater_date      dvd_date currency  \\\n",
       "0                   Ernest Tidyman   Oct 9, 1971  Sep 25, 2001      NaN   \n",
       "1     David Cronenberg|Don DeLillo  Aug 17, 2012   Jan 1, 2013        $   \n",
       "2                   Allison Anders  Sep 13, 1996  Apr 18, 2000      NaN   \n",
       "3  Paul Attanasio|Michael Crichton   Dec 9, 1994  Aug 27, 1997      NaN   \n",
       "4                     Giles Cooper           NaN           NaN      NaN   \n",
       "\n",
       "  box_office      runtime             studio  \n",
       "0        NaN  104 minutes                NaN  \n",
       "1    600,000  108 minutes  Entertainment One  \n",
       "2        NaN  116 minutes                NaN  \n",
       "3        NaN  128 minutes                NaN  \n",
       "4        NaN  200 minutes                NaN  "
      ]
     },
     "execution_count": 28,
=======
       "   id                                             review rating   fresh  \\\n",
       "0   3  A distinctly gallows take on contemporary fina...    3/5   fresh   \n",
       "1   3  It's an allegory in search of a meaning that n...    NaN  rotten   \n",
       "2   3  ... life lived in a bubble in financial dealin...    NaN   fresh   \n",
       "3   3  Continuing along a line introduced in last yea...    NaN   fresh   \n",
       "4   3             ... a perverse twist on neorealism...     NaN   fresh   \n",
       "\n",
       "           critic  top_critic         publisher               date  \n",
       "0      PJ Nabarro           0   Patrick Nabarro  November 10, 2018  \n",
       "1  Annalee Newitz           0           io9.com       May 23, 2018  \n",
       "2    Sean Axmaker           0  Stream on Demand    January 4, 2018  \n",
       "3   Daniel Kasman           0              MUBI  November 16, 2017  \n",
       "4             NaN           0      Cinema Scope   October 12, 2017  "
      ]
     },
     "execution_count": 35,
>>>>>>> 800f0c325ecfb7193fdc7bea96aaaa54816eeaa2
     "metadata": {},
     "output_type": "execute_result"
    }
   ],
   "source": [
<<<<<<< HEAD
    "data5 = pd.read_csv('zippedData/rt.movie_info.tsv.gz', sep = '\\t', encoding = 'latin -1' )\n",
=======
    "data5 = pd.read_csv('rt.reviews.tsv', sep = '\\t', encoding = 'latin -1' )\n",
>>>>>>> 800f0c325ecfb7193fdc7bea96aaaa54816eeaa2
    "data5.head()"
   ]
  },
  {
   "cell_type": "code",
<<<<<<< HEAD
   "execution_count": 29,
=======
   "execution_count": 36,
>>>>>>> 800f0c325ecfb7193fdc7bea96aaaa54816eeaa2
   "metadata": {},
   "outputs": [
    {
     "data": {
      "text/plain": [
<<<<<<< HEAD
       "(1560, 12)"
      ]
     },
     "execution_count": 29,
=======
       "(54432, 8)"
      ]
     },
     "execution_count": 36,
>>>>>>> 800f0c325ecfb7193fdc7bea96aaaa54816eeaa2
     "metadata": {},
     "output_type": "execute_result"
    }
   ],
   "source": [
    "data5.shape"
   ]
  },
  {
   "cell_type": "code",
<<<<<<< HEAD
   "execution_count": 30,
=======
   "execution_count": 37,
>>>>>>> 800f0c325ecfb7193fdc7bea96aaaa54816eeaa2
   "metadata": {},
   "outputs": [
    {
     "data": {
      "text/plain": [
<<<<<<< HEAD
       "id                 0\n",
       "synopsis          62\n",
       "rating             3\n",
       "genre              8\n",
       "director         199\n",
       "writer           449\n",
       "theater_date     359\n",
       "dvd_date         359\n",
       "currency        1220\n",
       "box_office      1220\n",
       "runtime           30\n",
       "studio          1066\n",
       "dtype: int64"
      ]
     },
     "execution_count": 30,
=======
       "id                0\n",
       "review         5563\n",
       "rating        13517\n",
       "fresh             0\n",
       "critic         2722\n",
       "top_critic        0\n",
       "publisher       309\n",
       "date              0\n",
       "dtype: int64"
      ]
     },
     "execution_count": 37,
>>>>>>> 800f0c325ecfb7193fdc7bea96aaaa54816eeaa2
     "metadata": {},
     "output_type": "execute_result"
    }
   ],
   "source": [
    "data5.isna().sum()"
   ]
  },
  {
   "cell_type": "code",
<<<<<<< HEAD
   "execution_count": 31,
   "metadata": {},
   "outputs": [
    {
     "ename": "DatabaseError",
     "evalue": "Execution failed on sql 'SELECT genres, averagerating, numvotes\n                FROM movie_basics\n                JOIN movie_ratings ON movie_ratings.movie_id = movie_basics.movie_id ;\n          \n          ': no such table: movie_basics",
     "output_type": "error",
     "traceback": [
      "\u001b[0;31m---------------------------------------------------------------------------\u001b[0m",
      "\u001b[0;31mOperationalError\u001b[0m                          Traceback (most recent call last)",
      "File \u001b[0;32m~/anaconda3/envs/learn-env/lib/python3.10/site-packages/pandas/io/sql.py:2674\u001b[0m, in \u001b[0;36mSQLiteDatabase.execute\u001b[0;34m(self, sql, params)\u001b[0m\n\u001b[1;32m   2673\u001b[0m \u001b[38;5;28;01mtry\u001b[39;00m:\n\u001b[0;32m-> 2674\u001b[0m     \u001b[43mcur\u001b[49m\u001b[38;5;241;43m.\u001b[39;49m\u001b[43mexecute\u001b[49m\u001b[43m(\u001b[49m\u001b[43msql\u001b[49m\u001b[43m,\u001b[49m\u001b[43m \u001b[49m\u001b[38;5;241;43m*\u001b[39;49m\u001b[43margs\u001b[49m\u001b[43m)\u001b[49m\n\u001b[1;32m   2675\u001b[0m     \u001b[38;5;28;01mreturn\u001b[39;00m cur\n",
      "\u001b[0;31mOperationalError\u001b[0m: no such table: movie_basics",
      "\nThe above exception was the direct cause of the following exception:\n",
      "\u001b[0;31mDatabaseError\u001b[0m                             Traceback (most recent call last)",
      "Cell \u001b[0;32mIn[31], line 12\u001b[0m\n\u001b[1;32m      4\u001b[0m cur \u001b[38;5;241m=\u001b[39m conn\u001b[38;5;241m.\u001b[39mcursor()\n\u001b[1;32m      6\u001b[0m datadata \u001b[38;5;241m=\u001b[39m \u001b[38;5;124m\"\"\"\u001b[39m\u001b[38;5;124mSELECT genres, averagerating, numvotes\u001b[39m\n\u001b[1;32m      7\u001b[0m \u001b[38;5;124m                FROM movie_basics\u001b[39m\n\u001b[1;32m      8\u001b[0m \u001b[38;5;124m                JOIN movie_ratings ON movie_ratings.movie_id = movie_basics.movie_id ;\u001b[39m\n\u001b[1;32m      9\u001b[0m \u001b[38;5;124m          \u001b[39m\n\u001b[1;32m     10\u001b[0m \u001b[38;5;124m          \u001b[39m\u001b[38;5;124m\"\"\"\u001b[39m\n\u001b[0;32m---> 12\u001b[0m \u001b[43mpd\u001b[49m\u001b[38;5;241;43m.\u001b[39;49m\u001b[43mread_sql\u001b[49m\u001b[43m(\u001b[49m\u001b[43mdatadata\u001b[49m\u001b[43m,\u001b[49m\u001b[43m \u001b[49m\u001b[43mconn\u001b[49m\u001b[43m)\u001b[49m\n",
      "File \u001b[0;32m~/anaconda3/envs/learn-env/lib/python3.10/site-packages/pandas/io/sql.py:706\u001b[0m, in \u001b[0;36mread_sql\u001b[0;34m(sql, con, index_col, coerce_float, params, parse_dates, columns, chunksize, dtype_backend, dtype)\u001b[0m\n\u001b[1;32m    704\u001b[0m \u001b[38;5;28;01mwith\u001b[39;00m pandasSQL_builder(con) \u001b[38;5;28;01mas\u001b[39;00m pandas_sql:\n\u001b[1;32m    705\u001b[0m     \u001b[38;5;28;01mif\u001b[39;00m \u001b[38;5;28misinstance\u001b[39m(pandas_sql, SQLiteDatabase):\n\u001b[0;32m--> 706\u001b[0m         \u001b[38;5;28;01mreturn\u001b[39;00m \u001b[43mpandas_sql\u001b[49m\u001b[38;5;241;43m.\u001b[39;49m\u001b[43mread_query\u001b[49m\u001b[43m(\u001b[49m\n\u001b[1;32m    707\u001b[0m \u001b[43m            \u001b[49m\u001b[43msql\u001b[49m\u001b[43m,\u001b[49m\n\u001b[1;32m    708\u001b[0m \u001b[43m            \u001b[49m\u001b[43mindex_col\u001b[49m\u001b[38;5;241;43m=\u001b[39;49m\u001b[43mindex_col\u001b[49m\u001b[43m,\u001b[49m\n\u001b[1;32m    709\u001b[0m \u001b[43m            \u001b[49m\u001b[43mparams\u001b[49m\u001b[38;5;241;43m=\u001b[39;49m\u001b[43mparams\u001b[49m\u001b[43m,\u001b[49m\n\u001b[1;32m    710\u001b[0m \u001b[43m            \u001b[49m\u001b[43mcoerce_float\u001b[49m\u001b[38;5;241;43m=\u001b[39;49m\u001b[43mcoerce_float\u001b[49m\u001b[43m,\u001b[49m\n\u001b[1;32m    711\u001b[0m \u001b[43m            \u001b[49m\u001b[43mparse_dates\u001b[49m\u001b[38;5;241;43m=\u001b[39;49m\u001b[43mparse_dates\u001b[49m\u001b[43m,\u001b[49m\n\u001b[1;32m    712\u001b[0m \u001b[43m            \u001b[49m\u001b[43mchunksize\u001b[49m\u001b[38;5;241;43m=\u001b[39;49m\u001b[43mchunksize\u001b[49m\u001b[43m,\u001b[49m\n\u001b[1;32m    713\u001b[0m \u001b[43m            \u001b[49m\u001b[43mdtype_backend\u001b[49m\u001b[38;5;241;43m=\u001b[39;49m\u001b[43mdtype_backend\u001b[49m\u001b[43m,\u001b[49m\n\u001b[1;32m    714\u001b[0m \u001b[43m            \u001b[49m\u001b[43mdtype\u001b[49m\u001b[38;5;241;43m=\u001b[39;49m\u001b[43mdtype\u001b[49m\u001b[43m,\u001b[49m\n\u001b[1;32m    715\u001b[0m \u001b[43m        \u001b[49m\u001b[43m)\u001b[49m\n\u001b[1;32m    717\u001b[0m     \u001b[38;5;28;01mtry\u001b[39;00m:\n\u001b[1;32m    718\u001b[0m         _is_table_name \u001b[38;5;241m=\u001b[39m pandas_sql\u001b[38;5;241m.\u001b[39mhas_table(sql)\n",
      "File \u001b[0;32m~/anaconda3/envs/learn-env/lib/python3.10/site-packages/pandas/io/sql.py:2738\u001b[0m, in \u001b[0;36mSQLiteDatabase.read_query\u001b[0;34m(self, sql, index_col, coerce_float, parse_dates, params, chunksize, dtype, dtype_backend)\u001b[0m\n\u001b[1;32m   2727\u001b[0m \u001b[38;5;28;01mdef\u001b[39;00m \u001b[38;5;21mread_query\u001b[39m(\n\u001b[1;32m   2728\u001b[0m     \u001b[38;5;28mself\u001b[39m,\n\u001b[1;32m   2729\u001b[0m     sql,\n\u001b[0;32m   (...)\u001b[0m\n\u001b[1;32m   2736\u001b[0m     dtype_backend: DtypeBackend \u001b[38;5;241m|\u001b[39m Literal[\u001b[38;5;124m\"\u001b[39m\u001b[38;5;124mnumpy\u001b[39m\u001b[38;5;124m\"\u001b[39m] \u001b[38;5;241m=\u001b[39m \u001b[38;5;124m\"\u001b[39m\u001b[38;5;124mnumpy\u001b[39m\u001b[38;5;124m\"\u001b[39m,\n\u001b[1;32m   2737\u001b[0m ) \u001b[38;5;241m-\u001b[39m\u001b[38;5;241m>\u001b[39m DataFrame \u001b[38;5;241m|\u001b[39m Iterator[DataFrame]:\n\u001b[0;32m-> 2738\u001b[0m     cursor \u001b[38;5;241m=\u001b[39m \u001b[38;5;28;43mself\u001b[39;49m\u001b[38;5;241;43m.\u001b[39;49m\u001b[43mexecute\u001b[49m\u001b[43m(\u001b[49m\u001b[43msql\u001b[49m\u001b[43m,\u001b[49m\u001b[43m \u001b[49m\u001b[43mparams\u001b[49m\u001b[43m)\u001b[49m\n\u001b[1;32m   2739\u001b[0m     columns \u001b[38;5;241m=\u001b[39m [col_desc[\u001b[38;5;241m0\u001b[39m] \u001b[38;5;28;01mfor\u001b[39;00m col_desc \u001b[38;5;129;01min\u001b[39;00m cursor\u001b[38;5;241m.\u001b[39mdescription]\n\u001b[1;32m   2741\u001b[0m     \u001b[38;5;28;01mif\u001b[39;00m chunksize \u001b[38;5;129;01mis\u001b[39;00m \u001b[38;5;129;01mnot\u001b[39;00m \u001b[38;5;28;01mNone\u001b[39;00m:\n",
      "File \u001b[0;32m~/anaconda3/envs/learn-env/lib/python3.10/site-packages/pandas/io/sql.py:2686\u001b[0m, in \u001b[0;36mSQLiteDatabase.execute\u001b[0;34m(self, sql, params)\u001b[0m\n\u001b[1;32m   2683\u001b[0m     \u001b[38;5;28;01mraise\u001b[39;00m ex \u001b[38;5;28;01mfrom\u001b[39;00m \u001b[38;5;21;01minner_exc\u001b[39;00m\n\u001b[1;32m   2685\u001b[0m ex \u001b[38;5;241m=\u001b[39m DatabaseError(\u001b[38;5;124mf\u001b[39m\u001b[38;5;124m\"\u001b[39m\u001b[38;5;124mExecution failed on sql \u001b[39m\u001b[38;5;124m'\u001b[39m\u001b[38;5;132;01m{\u001b[39;00msql\u001b[38;5;132;01m}\u001b[39;00m\u001b[38;5;124m'\u001b[39m\u001b[38;5;124m: \u001b[39m\u001b[38;5;132;01m{\u001b[39;00mexc\u001b[38;5;132;01m}\u001b[39;00m\u001b[38;5;124m\"\u001b[39m)\n\u001b[0;32m-> 2686\u001b[0m \u001b[38;5;28;01mraise\u001b[39;00m ex \u001b[38;5;28;01mfrom\u001b[39;00m \u001b[38;5;21;01mexc\u001b[39;00m\n",
      "\u001b[0;31mDatabaseError\u001b[0m: Execution failed on sql 'SELECT genres, averagerating, numvotes\n                FROM movie_basics\n                JOIN movie_ratings ON movie_ratings.movie_id = movie_basics.movie_id ;\n          \n          ': no such table: movie_basics"
     ]
=======
   "execution_count": 38,
   "metadata": {},
   "outputs": [
    {
     "data": {
      "text/html": [
       "<div>\n",
       "<style scoped>\n",
       "    .dataframe tbody tr th:only-of-type {\n",
       "        vertical-align: middle;\n",
       "    }\n",
       "\n",
       "    .dataframe tbody tr th {\n",
       "        vertical-align: top;\n",
       "    }\n",
       "\n",
       "    .dataframe thead th {\n",
       "        text-align: right;\n",
       "    }\n",
       "</style>\n",
       "<table border=\"1\" class=\"dataframe\">\n",
       "  <thead>\n",
       "    <tr style=\"text-align: right;\">\n",
       "      <th></th>\n",
       "      <th>genres</th>\n",
       "      <th>averagerating</th>\n",
       "      <th>numvotes</th>\n",
       "      <th>runtime_minutes</th>\n",
       "    </tr>\n",
       "  </thead>\n",
       "  <tbody>\n",
       "    <tr>\n",
       "      <th>0</th>\n",
       "      <td>Action,Crime,Drama</td>\n",
       "      <td>7.0</td>\n",
       "      <td>77</td>\n",
       "      <td>175.0</td>\n",
       "    </tr>\n",
       "    <tr>\n",
       "      <th>1</th>\n",
       "      <td>Biography,Drama</td>\n",
       "      <td>7.2</td>\n",
       "      <td>43</td>\n",
       "      <td>114.0</td>\n",
       "    </tr>\n",
       "    <tr>\n",
       "      <th>2</th>\n",
       "      <td>Drama</td>\n",
       "      <td>6.9</td>\n",
       "      <td>4517</td>\n",
       "      <td>122.0</td>\n",
       "    </tr>\n",
       "    <tr>\n",
       "      <th>3</th>\n",
       "      <td>Comedy,Drama</td>\n",
       "      <td>6.1</td>\n",
       "      <td>13</td>\n",
       "      <td>NaN</td>\n",
       "    </tr>\n",
       "    <tr>\n",
       "      <th>4</th>\n",
       "      <td>Comedy,Drama,Fantasy</td>\n",
       "      <td>6.5</td>\n",
       "      <td>119</td>\n",
       "      <td>80.0</td>\n",
       "    </tr>\n",
       "    <tr>\n",
       "      <th>...</th>\n",
       "      <td>...</td>\n",
       "      <td>...</td>\n",
       "      <td>...</td>\n",
       "      <td>...</td>\n",
       "    </tr>\n",
       "    <tr>\n",
       "      <th>73851</th>\n",
       "      <td>Documentary</td>\n",
       "      <td>6.2</td>\n",
       "      <td>6</td>\n",
       "      <td>75.0</td>\n",
       "    </tr>\n",
       "    <tr>\n",
       "      <th>73852</th>\n",
       "      <td>Drama,Family</td>\n",
       "      <td>8.7</td>\n",
       "      <td>136</td>\n",
       "      <td>98.0</td>\n",
       "    </tr>\n",
       "    <tr>\n",
       "      <th>73853</th>\n",
       "      <td>Documentary</td>\n",
       "      <td>8.5</td>\n",
       "      <td>8</td>\n",
       "      <td>NaN</td>\n",
       "    </tr>\n",
       "    <tr>\n",
       "      <th>73854</th>\n",
       "      <td>None</td>\n",
       "      <td>6.6</td>\n",
       "      <td>5</td>\n",
       "      <td>NaN</td>\n",
       "    </tr>\n",
       "    <tr>\n",
       "      <th>73855</th>\n",
       "      <td>Documentary</td>\n",
       "      <td>6.5</td>\n",
       "      <td>11</td>\n",
       "      <td>72.0</td>\n",
       "    </tr>\n",
       "  </tbody>\n",
       "</table>\n",
       "<p>73856 rows × 4 columns</p>\n",
       "</div>"
      ],
      "text/plain": [
       "                     genres  averagerating  numvotes  runtime_minutes\n",
       "0        Action,Crime,Drama            7.0        77            175.0\n",
       "1           Biography,Drama            7.2        43            114.0\n",
       "2                     Drama            6.9      4517            122.0\n",
       "3              Comedy,Drama            6.1        13              NaN\n",
       "4      Comedy,Drama,Fantasy            6.5       119             80.0\n",
       "...                     ...            ...       ...              ...\n",
       "73851           Documentary            6.2         6             75.0\n",
       "73852          Drama,Family            8.7       136             98.0\n",
       "73853           Documentary            8.5         8              NaN\n",
       "73854                  None            6.6         5              NaN\n",
       "73855           Documentary            6.5        11             72.0\n",
       "\n",
       "[73856 rows x 4 columns]"
      ]
     },
     "execution_count": 38,
     "metadata": {},
     "output_type": "execute_result"
>>>>>>> 800f0c325ecfb7193fdc7bea96aaaa54816eeaa2
    }
   ],
   "source": [
    "import sqlite3\n",
    "\n",
    "conn = sqlite3.connect('im.db')\n",
    "cur = conn.cursor()\n",
    "\n",
<<<<<<< HEAD
    "datadata = \"\"\"SELECT genres, averagerating, numvotes\n",
=======
    "datadata = \"\"\"SELECT genres, averagerating, numvotes, runtime_minutes\n",
>>>>>>> 800f0c325ecfb7193fdc7bea96aaaa54816eeaa2
    "                FROM movie_basics\n",
    "                JOIN movie_ratings ON movie_ratings.movie_id = movie_basics.movie_id ;\n",
    "          \n",
    "          \"\"\"\n",
    "\n",
    "pd.read_sql(datadata, conn)"
   ]
  },
  {
   "cell_type": "code",
<<<<<<< HEAD
   "execution_count": null,
   "metadata": {},
   "outputs": [],
   "source": [
    "type(datadata)"
   ]
  },
  {
   "cell_type": "code",
   "execution_count": null,
   "metadata": {},
   "outputs": [],
=======
   "execution_count": 39,
   "metadata": {},
   "outputs": [
    {
     "data": {
      "text/html": [
       "<div>\n",
       "<style scoped>\n",
       "    .dataframe tbody tr th:only-of-type {\n",
       "        vertical-align: middle;\n",
       "    }\n",
       "\n",
       "    .dataframe tbody tr th {\n",
       "        vertical-align: top;\n",
       "    }\n",
       "\n",
       "    .dataframe thead th {\n",
       "        text-align: right;\n",
       "    }\n",
       "</style>\n",
       "<table border=\"1\" class=\"dataframe\">\n",
       "  <thead>\n",
       "    <tr style=\"text-align: right;\">\n",
       "      <th></th>\n",
       "      <th>genres</th>\n",
       "      <th>averagerating</th>\n",
       "      <th>numvotes</th>\n",
       "      <th>runtime_minutes</th>\n",
       "    </tr>\n",
       "  </thead>\n",
       "  <tbody>\n",
       "    <tr>\n",
       "      <th>0</th>\n",
       "      <td>Action,Crime,Drama</td>\n",
       "      <td>7.0</td>\n",
       "      <td>77</td>\n",
       "      <td>175.0</td>\n",
       "    </tr>\n",
       "    <tr>\n",
       "      <th>1</th>\n",
       "      <td>Biography,Drama</td>\n",
       "      <td>7.2</td>\n",
       "      <td>43</td>\n",
       "      <td>114.0</td>\n",
       "    </tr>\n",
       "    <tr>\n",
       "      <th>2</th>\n",
       "      <td>Drama</td>\n",
       "      <td>6.9</td>\n",
       "      <td>4517</td>\n",
       "      <td>122.0</td>\n",
       "    </tr>\n",
       "    <tr>\n",
       "      <th>3</th>\n",
       "      <td>Comedy,Drama</td>\n",
       "      <td>6.1</td>\n",
       "      <td>13</td>\n",
       "      <td>NaN</td>\n",
       "    </tr>\n",
       "    <tr>\n",
       "      <th>4</th>\n",
       "      <td>Comedy,Drama,Fantasy</td>\n",
       "      <td>6.5</td>\n",
       "      <td>119</td>\n",
       "      <td>80.0</td>\n",
       "    </tr>\n",
       "    <tr>\n",
       "      <th>...</th>\n",
       "      <td>...</td>\n",
       "      <td>...</td>\n",
       "      <td>...</td>\n",
       "      <td>...</td>\n",
       "    </tr>\n",
       "    <tr>\n",
       "      <th>73851</th>\n",
       "      <td>Documentary</td>\n",
       "      <td>6.2</td>\n",
       "      <td>6</td>\n",
       "      <td>75.0</td>\n",
       "    </tr>\n",
       "    <tr>\n",
       "      <th>73852</th>\n",
       "      <td>Drama,Family</td>\n",
       "      <td>8.7</td>\n",
       "      <td>136</td>\n",
       "      <td>98.0</td>\n",
       "    </tr>\n",
       "    <tr>\n",
       "      <th>73853</th>\n",
       "      <td>Documentary</td>\n",
       "      <td>8.5</td>\n",
       "      <td>8</td>\n",
       "      <td>NaN</td>\n",
       "    </tr>\n",
       "    <tr>\n",
       "      <th>73854</th>\n",
       "      <td>None</td>\n",
       "      <td>6.6</td>\n",
       "      <td>5</td>\n",
       "      <td>NaN</td>\n",
       "    </tr>\n",
       "    <tr>\n",
       "      <th>73855</th>\n",
       "      <td>Documentary</td>\n",
       "      <td>6.5</td>\n",
       "      <td>11</td>\n",
       "      <td>72.0</td>\n",
       "    </tr>\n",
       "  </tbody>\n",
       "</table>\n",
       "<p>73856 rows × 4 columns</p>\n",
       "</div>"
      ],
      "text/plain": [
       "                     genres  averagerating  numvotes  runtime_minutes\n",
       "0        Action,Crime,Drama            7.0        77            175.0\n",
       "1           Biography,Drama            7.2        43            114.0\n",
       "2                     Drama            6.9      4517            122.0\n",
       "3              Comedy,Drama            6.1        13              NaN\n",
       "4      Comedy,Drama,Fantasy            6.5       119             80.0\n",
       "...                     ...            ...       ...              ...\n",
       "73851           Documentary            6.2         6             75.0\n",
       "73852          Drama,Family            8.7       136             98.0\n",
       "73853           Documentary            8.5         8              NaN\n",
       "73854                  None            6.6         5              NaN\n",
       "73855           Documentary            6.5        11             72.0\n",
       "\n",
       "[73856 rows x 4 columns]"
      ]
     },
     "execution_count": 39,
     "metadata": {},
     "output_type": "execute_result"
    }
   ],
>>>>>>> 800f0c325ecfb7193fdc7bea96aaaa54816eeaa2
   "source": [
    "data6 = pd.read_sql(datadata, conn)\n",
    "data6"
   ]
  },
  {
   "cell_type": "code",
<<<<<<< HEAD
   "execution_count": null,
   "metadata": {},
   "outputs": [],
   "source": [
    "type(data6)"
   ]
  },
  {
   "cell_type": "code",
   "execution_count": null,
   "metadata": {},
   "outputs": [],
=======
   "execution_count": 40,
   "metadata": {},
   "outputs": [
    {
     "data": {
      "text/plain": [
       "(73856, 4)"
      ]
     },
     "execution_count": 40,
     "metadata": {},
     "output_type": "execute_result"
    }
   ],
>>>>>>> 800f0c325ecfb7193fdc7bea96aaaa54816eeaa2
   "source": [
    "data6.shape"
   ]
  },
  {
   "cell_type": "code",
<<<<<<< HEAD
   "execution_count": null,
   "metadata": {},
   "outputs": [],
=======
   "execution_count": 41,
   "metadata": {},
   "outputs": [
    {
     "name": "stdout",
     "output_type": "stream",
     "text": [
      "<class 'pandas.core.frame.DataFrame'>\n",
      "RangeIndex: 73856 entries, 0 to 73855\n",
      "Data columns (total 4 columns):\n",
      " #   Column           Non-Null Count  Dtype  \n",
      "---  ------           --------------  -----  \n",
      " 0   genres           73052 non-null  object \n",
      " 1   averagerating    73856 non-null  float64\n",
      " 2   numvotes         73856 non-null  int64  \n",
      " 3   runtime_minutes  66236 non-null  float64\n",
      "dtypes: float64(2), int64(1), object(1)\n",
      "memory usage: 2.3+ MB\n"
     ]
    }
   ],
   "source": [
    "data6.info()"
   ]
  },
  {
   "cell_type": "markdown",
   "metadata": {},
   "source": [
    "The data type for each of the varibales is accurate."
   ]
  },
  {
   "cell_type": "code",
   "execution_count": 42,
   "metadata": {},
   "outputs": [
    {
     "name": "stdout",
     "output_type": "stream",
     "text": [
      "unique values in column'genres', '\n",
      "':['Action,Crime,Drama' 'Biography,Drama' 'Drama' 'Comedy,Drama'\n",
      " 'Comedy,Drama,Fantasy' 'Horror,Thriller' 'Adventure,Animation,Comedy'\n",
      " 'History' 'Documentary' 'Animation,Drama,History' 'Drama,Mystery'\n",
      " 'Action,Animation,Comedy' 'Crime,Drama' None 'Biography,Comedy,Drama'\n",
      " 'Action,Drama' 'Documentary,History' 'Sci-Fi' 'Comedy' 'Thriller'\n",
      " 'Adventure,Animation,Sci-Fi' 'Drama,Horror' 'Drama,Mystery,Thriller'\n",
      " 'Drama,Family' 'Adventure,Comedy,Romance' 'Adventure,Drama,Romance'\n",
      " 'Comedy,Crime,Drama' 'Biography' 'Horror' 'Adventure,Comedy,Drama'\n",
      " 'Drama,Sci-Fi,Thriller' 'Action' 'Comedy,Drama,Romance'\n",
      " 'Action,Adventure,Sci-Fi' 'Comedy,Family' 'Adventure' 'Drama,History,War'\n",
      " 'Action,Thriller' 'Comedy,Crime' 'Crime,Drama,Thriller'\n",
      " 'Action,Sci-Fi,Thriller' 'Fantasy' 'Drama,Mystery,Sci-Fi'\n",
      " 'Biography,Drama,History' 'Action,Comedy,Crime'\n",
      " 'Action,Adventure,Thriller' 'Horror,Mystery,Thriller'\n",
      " 'Action,Drama,Family' 'Comedy,Drama,Music' 'Drama,Fantasy,Horror'\n",
      " 'Drama,Romance,Sci-Fi' 'Drama,Thriller' 'Drama,Romance'\n",
      " 'Drama,Romance,War' 'Crime,Drama,Horror' 'Action,Comedy,Fantasy'\n",
      " 'Action,Adventure,Comedy' 'Action,Adventure,Animation'\n",
      " 'Action,Adventure,Fantasy' 'Comedy,Romance' 'Biography,Drama,Sport'\n",
      " 'Comedy,Drama,Sci-Fi' 'Adventure,Drama,Fantasy' 'Action,Crime,Thriller'\n",
      " 'Crime,Thriller' 'Adventure,Comedy,Western' 'Drama,Horror,Sci-Fi'\n",
      " 'Mystery,Thriller' 'Comedy,Horror' 'Musical' 'Adventure,Drama,Mystery'\n",
      " 'Drama,Fantasy' 'Fantasy,Horror,Thriller' 'Drama,Sport'\n",
      " 'Action,Adventure,Crime' 'Biography,Documentary,History'\n",
      " 'Drama,Music,Romance' 'Family,Sport' 'Adventure,Comedy'\n",
      " 'Action,Adventure,Drama' 'Adventure,Drama,History'\n",
      " 'Drama,History,Romance' 'Biography,Drama,Music' 'Adventure,Comedy,Family'\n",
      " 'Horror,Mystery,Romance' 'Action,Adventure,Horror' 'Animation,Family'\n",
      " 'Drama,Horror,Mystery' 'Drama,Fantasy,Romance'\n",
      " 'Biography,Documentary,Music' 'Animation,Family,Fantasy'\n",
      " 'Adventure,Comedy,Sci-Fi' 'Family,Fantasy' 'Horror,Mystery'\n",
      " 'Drama,Fantasy,Thriller' 'Documentary,Music' 'Comedy,Horror,Thriller'\n",
      " 'Action,Drama,Horror' 'Animation,Drama' 'Biography,Comedy,Crime'\n",
      " 'Drama,Mystery,War' 'Adventure,Comedy,Fantasy' 'Biography,Drama,Romance'\n",
      " 'Documentary,Drama' 'Biography,Crime,Drama' 'Action,Drama,Fantasy'\n",
      " 'Comedy,Family,Fantasy' 'Adventure,Animation,Family' 'Drama,Music'\n",
      " 'Adventure,Family,Fantasy' 'Drama,War' 'Adventure,Drama,Sci-Fi'\n",
      " 'Comedy,Music,Romance' 'Adventure,Family' 'Action,Horror,Thriller'\n",
      " 'Action,Biography,Crime' 'Crime,Drama,Romance' 'Animation,Comedy,Family'\n",
      " 'Comedy,Drama,War' 'Western' 'Comedy,Sci-Fi' 'Drama,Fantasy,Mystery'\n",
      " 'Adventure,Crime,Drama' 'Animation,Comedy,Crime' 'Sci-Fi,Thriller'\n",
      " 'Horror,Sci-Fi,Thriller' 'Action,Drama,Sport' 'Drama,Horror,Romance'\n",
      " 'Romance' 'Adventure,Horror,Thriller' 'Comedy,Crime,Mystery'\n",
      " 'Action,Animation,Drama' 'Mystery' 'Action,Crime,Horror'\n",
      " 'Adventure,Drama,Thriller' 'Comedy,Musical,Romance'\n",
      " 'Action,Drama,Thriller' 'Animation,Comedy,Fantasy'\n",
      " 'Horror,Mystery,Sci-Fi' 'Adventure,Drama,Horror'\n",
      " 'Animation,Comedy,Sci-Fi' 'Action,Horror,Sci-Fi'\n",
      " 'Adventure,Fantasy,Mystery' 'Drama,Sci-Fi' 'Mystery,Romance'\n",
      " 'Action,Adventure,Family' 'Comedy,Crime,Thriller'\n",
      " 'Action,Mystery,Thriller' 'Action,Drama,Sci-Fi' 'Crime,Documentary'\n",
      " 'Crime,Drama,History' 'Animation,Crime,Music' 'Action,Mystery,Sci-Fi'\n",
      " 'Adventure,Drama,Family' 'Drama,Fantasy,History' 'Drama,Musical,Romance'\n",
      " 'Biography,Drama,Thriller' 'Crime' 'Animation' 'Comedy,Horror,Sci-Fi'\n",
      " 'Action,Biography,Drama' 'Action,Comedy,Horror' 'Comedy,Fantasy'\n",
      " 'Action,Crime' 'Family' 'Adventure,Fantasy' 'Biography,Drama,Family'\n",
      " 'Adventure,Animation,Fantasy' 'Action,Adventure,History'\n",
      " 'Comedy,Drama,Family' 'Comedy,Documentary,Sport' 'Biography,Documentary'\n",
      " 'Documentary,History,War' 'Horror,Romance,Thriller'\n",
      " 'Crime,Documentary,Drama' 'Adventure,Drama' 'Documentary,Sport'\n",
      " 'Crime,Mystery,Thriller' 'Action,Fantasy,History' 'Sport'\n",
      " 'Comedy,Drama,Sport' 'Action,Comedy' 'Action,Fantasy,Western'\n",
      " 'Action,Comedy,Sci-Fi' 'Adventure,Horror,Sci-Fi' 'Fantasy,Horror,Mystery'\n",
      " 'Music' 'Comedy,Family,Thriller' 'Comedy,Thriller'\n",
      " 'Action,Fantasy,Horror' 'Action,Comedy,Romance' 'Action,Drama,Romance'\n",
      " 'Comedy,Drama,Mystery' 'Action,Family,Fantasy' 'Action,History'\n",
      " 'Biography,Drama,War' 'Documentary,War' 'Animation,Biography'\n",
      " 'Documentary,Drama,Sci-Fi' 'Action,Crime,Sci-Fi' 'Fantasy,Horror'\n",
      " 'Drama,History' 'Comedy,Horror,Musical' 'Action,Animation,Fantasy'\n",
      " 'Action,Fantasy,Thriller' 'Biography,Drama,Fantasy'\n",
      " 'Comedy,Fantasy,Horror' 'Action,Crime,Mystery' 'Drama,Horror,Thriller'\n",
      " 'Crime,Drama,Mystery' 'Crime,Horror,Thriller' 'Drama,Romance,Thriller'\n",
      " 'Action,Comedy,Documentary' 'Comedy,Documentary' 'Crime,Drama,Music'\n",
      " 'Biography,History' 'Drama,Music,Musical' 'Action,Sci-Fi'\n",
      " 'Action,Adventure' 'Action,Horror,Mystery' 'Documentary,Drama,History'\n",
      " 'Drama,Musical' 'Adventure,Comedy,Crime' 'Action,Drama,Western'\n",
      " 'Comedy,Musical' 'Crime,Sport,Thriller' 'Animation,Comedy,Drama'\n",
      " 'Adventure,Biography,Comedy' 'Adventure,Animation,Drama'\n",
      " 'Adventure,Animation' 'Family,Fantasy,Horror' 'Crime,Drama,Fantasy'\n",
      " 'Adventure,Biography' 'Action,Adventure,Western'\n",
      " 'Adventure,Biography,Drama' 'Animation,Comedy,Romance'\n",
      " 'Mystery,Sci-Fi,Thriller' 'Comedy,Drama,Horror' 'Documentary,Family,News'\n",
      " 'Comedy,Family,Romance' 'Adventure,Documentary' 'Adventure,Comedy,Music'\n",
      " 'Crime,Drama,War' 'Comedy,Western' 'Drama,Musical,War'\n",
      " 'Comedy,Drama,Musical' 'Animation,Crime,Drama' 'Drama,Mystery,Romance'\n",
      " 'Action,Romance,Sci-Fi' 'Crime,Documentary,History'\n",
      " 'Action,Drama,History' 'Horror,Sci-Fi' 'Documentary,History,Sport'\n",
      " 'Action,Comedy,Drama' 'Action,Fantasy,War' 'Comedy,Drama,History'\n",
      " 'Action,Drama,Mystery' 'Comedy,Sport' 'Comedy,Mystery'\n",
      " 'Drama,Thriller,Western' 'Action,Drama,War' 'Adventure,Comedy,Horror'\n",
      " 'Action,Comedy,Family' 'Comedy,Crime,Music' 'Comedy,Crime,Romance'\n",
      " 'Adventure,Drama,Sport' 'Comedy,Fantasy,Romance' 'Drama,Fantasy,Sci-Fi'\n",
      " 'Drama,Family,Fantasy' 'Sci-Fi,Western' 'Comedy,Music'\n",
      " 'Adventure,Biography,Documentary' 'Crime,Documentary,Music'\n",
      " 'Crime,Horror,Mystery' 'Adventure,Romance' 'Horror,Sport,Thriller'\n",
      " 'Comedy,Crime,History' 'Action,Adventure,Romance'\n",
      " 'Biography,Documentary,Sport' 'Horror,Music,Sci-Fi' 'Action,Drama,Music'\n",
      " 'Action,Adventure,Mystery' 'Comedy,History,War' 'Action,Fantasy,Sci-Fi'\n",
      " 'Adventure,Horror,Mystery' 'Animation,Horror' 'Adventure,Mystery,Romance'\n",
      " 'Romance,Thriller' 'Documentary,Family' 'Biography,Documentary,Drama'\n",
      " 'Animation,Comedy' 'Adventure,Sci-Fi' 'Comedy,Drama,Western'\n",
      " 'Comedy,Documentary,History' 'Action,Comedy,Thriller'\n",
      " 'Drama,Fantasy,Music' 'Action,Thriller,War' 'Drama,Thriller,War'\n",
      " 'Action,War' 'Biography,Comedy,History' 'Comedy,Family,Musical'\n",
      " 'Drama,Romance,Sport' 'Adventure,Mystery' 'Drama,Western'\n",
      " 'Animation,Sci-Fi' 'Romance,Sci-Fi,Thriller' 'Action,Adventure,Biography'\n",
      " 'Comedy,Family,Sport' 'Biography,Documentary,Fantasy'\n",
      " 'Comedy,Romance,Sci-Fi' 'Adventure,Fantasy,Horror'\n",
      " 'Adventure,Drama,Western' 'Comedy,Drama,Thriller' 'Comedy,Romance,Sport'\n",
      " 'History,Music' 'Documentary,Drama,Sport' 'Documentary,Drama,Music'\n",
      " 'Biography,Documentary,Romance' 'Documentary,History,Music'\n",
      " 'Biography,Crime,Documentary' 'Adventure,Crime,Thriller'\n",
      " 'Drama,Family,Sport' 'Drama,Family,Music' 'Documentary,News'\n",
      " 'Action,Horror' 'Horror,Romance' 'Documentary,Drama,News'\n",
      " 'Action,History,Thriller' 'Adventure,History' 'Adventure,Mystery,Sci-Fi'\n",
      " 'Biography,Comedy,Documentary' 'Drama,History,Thriller'\n",
      " 'Documentary,Drama,Family' 'Family,Fantasy,Romance'\n",
      " 'Comedy,Documentary,Music' 'Comedy,Fantasy,Music' 'Comedy,Family,Sci-Fi'\n",
      " 'Adventure,Documentary,News' 'Crime,Mystery,Sci-Fi' 'Comedy,Crime,Family'\n",
      " 'Family,Musical' 'Biography,Drama,Musical' 'Music,Romance'\n",
      " 'Fantasy,Mystery,Romance' 'Adventure,Crime,Documentary'\n",
      " 'Documentary,Family,Music' 'Animation,Documentary,News'\n",
      " 'Adventure,Documentary,Family' 'Biography,Documentary,Family'\n",
      " 'Adventure,Documentary,Music' 'Mystery,Thriller,Western'\n",
      " 'Comedy,Crime,Horror' 'Action,Animation,Horror' 'War'\n",
      " 'Adventure,Documentary,History' 'Animation,Biography,Comedy'\n",
      " 'Adventure,Horror' 'Adventure,Documentary,Drama'\n",
      " 'Comedy,Documentary,Drama' 'Animation,Documentary,Music'\n",
      " 'Documentary,History,News' 'Comedy,Sci-Fi,Thriller' 'Fantasy,Sci-Fi'\n",
      " 'Action,Biography,Comedy' 'Action,Adventure,Documentary'\n",
      " 'Comedy,Mystery,Romance' 'Biography,Comedy' 'Action,Animation'\n",
      " 'Thriller,Western' 'Adventure,Documentary,Sport' 'Documentary,Western'\n",
      " 'Action,Comedy,Western' 'Drama,Fantasy,Musical'\n",
      " 'Action,Biography,Documentary' 'Documentary,Horror' 'Drama,Family,Sci-Fi'\n",
      " 'Drama,Music,Sci-Fi' 'Documentary,History,Sci-Fi' 'Documentary,Thriller'\n",
      " 'Documentary,Romance' 'Comedy,Horror,Romance' 'Adventure,Drama,Music'\n",
      " 'Animation,Comedy,Mystery' 'Fantasy,Horror,Musical'\n",
      " 'Action,Sci-Fi,Western' 'Documentary,Drama,Reality-TV'\n",
      " 'Action,Documentary,Sport' 'Action,Fantasy' 'Fantasy,Thriller'\n",
      " 'Animation,Drama,Mystery' 'Documentary,Music,Musical' 'Thriller,War'\n",
      " 'Documentary,Mystery' 'Documentary,Reality-TV'\n",
      " 'Action,Documentary,History' 'Animation,Biography,Documentary'\n",
      " 'Biography,Documentary,Mystery' 'Crime,Drama,Sport'\n",
      " 'Drama,Music,Thriller' 'Action,Documentary,Family'\n",
      " 'Action,Documentary,War' 'Animation,Drama,Family'\n",
      " 'Documentary,Family,History' 'Action,Crime,Fantasy' 'Horror,Musical'\n",
      " 'Action,Documentary' 'Action,Crime,Romance' 'Documentary,Drama,Mystery'\n",
      " 'Adventure,Horror,Western' 'Comedy,Crime,Documentary' 'Musical,Romance'\n",
      " 'Animation,Documentary,Family' 'Crime,Documentary,Mystery'\n",
      " 'Comedy,Documentary,News' 'Drama,Family,Horror' 'Comedy,Romance,Thriller'\n",
      " 'Comedy,Horror,Mystery' 'Fantasy,Sci-Fi,Thriller'\n",
      " 'Adventure,Horror,Romance' 'Adventure,Comedy,Thriller'\n",
      " 'Documentary,Drama,War' 'Biography,Romance,War'\n",
      " 'Adventure,Comedy,Mystery' 'Comedy,Family,Music' 'Drama,Family,Thriller'\n",
      " 'Drama,Family,History' 'Action,Documentary,Drama' 'Fantasy,Horror,Sci-Fi'\n",
      " 'Fantasy,Romance' 'Drama,News,War' 'Crime,Documentary,News'\n",
      " 'Biography,Documentary,News' 'Animation,Biography,Drama'\n",
      " 'Biography,Documentary,War' 'Fantasy,Music' 'Action,Family,Sci-Fi'\n",
      " 'Drama,Family,Romance' 'Animation,Drama,Romance'\n",
      " 'Fantasy,History,Romance' 'Comedy,Mystery,Thriller'\n",
      " 'Action,Animation,Sci-Fi' 'Adventure,Comedy,Documentary' 'Family,Mystery'\n",
      " 'Action,Comedy,Sport' 'Action,Mystery' 'Action,Animation,Crime'\n",
      " 'Crime,Drama,Family' 'Documentary,Musical' 'Mystery,Romance,Thriller'\n",
      " 'Animation,Comedy,Musical' 'Animation,Drama,Fantasy' 'Animation,Music'\n",
      " 'Biography,Fantasy,Horror' 'Fantasy,Romance,Sci-Fi'\n",
      " 'Adventure,Crime,Family' 'Animation,Documentary' 'Drama,Horror,Music'\n",
      " 'Adventure,Family,Mystery' 'Comedy,History' 'Action,Romance,Thriller'\n",
      " 'Family,Romance' 'Adventure,Animation,Biography' 'Action,Fantasy,Mystery'\n",
      " 'Fantasy,Mystery,Thriller' 'Comedy,Crime,Sport' 'Action,Animation,Family'\n",
      " 'Animation,Musical' 'Action,Family' 'Animation,Fantasy,Horror'\n",
      " 'Documentary,Sci-Fi' 'Drama,Family,Musical'\n",
      " 'Adventure,Documentary,Mystery' 'Animation,Family,Musical'\n",
      " 'Biography,Drama,Horror' 'Drama,History,Musical' 'Drama,Music,War'\n",
      " 'Animation,Mystery,Sci-Fi' 'Fantasy,Romance,Thriller'\n",
      " 'Biography,Thriller' 'Crime,Mystery' 'Animation,Romance,Sci-Fi'\n",
      " 'Animation,Documentary,Drama' 'Documentary,Drama,Romance'\n",
      " 'Documentary,Music,Romance' 'Biography,Comedy,Music'\n",
      " 'Adventure,Animation,Documentary' 'Action,History,Horror'\n",
      " 'Documentary,Family,Sport' 'Animation,History,Musical'\n",
      " 'Comedy,Documentary,War' 'Adventure,Biography,History'\n",
      " 'Documentary,Music,War' 'Adventure,Fantasy,Sci-Fi' 'Action,Sport'\n",
      " 'Animation,Horror,Sci-Fi' 'Drama,Musical,Sci-Fi'\n",
      " 'Documentary,Family,Romance' 'Drama,Family,War' 'History,Horror,Thriller'\n",
      " 'Comedy,Music,Sci-Fi' 'Biography,Comedy,Family'\n",
      " 'Documentary,Family,Fantasy' 'Drama,Romance,Western'\n",
      " 'Animation,Horror,Thriller' 'Adventure,Fantasy,Musical'\n",
      " 'Comedy,Musical,War' 'Animation,Thriller' 'Crime,Romance,Thriller'\n",
      " 'Action,Western' 'Action,Thriller,Western' 'Comedy,Fantasy,Musical'\n",
      " 'Comedy,Fantasy,Sci-Fi' 'Drama,Fantasy,Western'\n",
      " 'Adventure,Mystery,Thriller' 'Documentary,Drama,Musical'\n",
      " 'Adventure,Comedy,History' 'Documentary,News,War'\n",
      " 'Documentary,Fantasy,Horror' 'Action,Comedy,Mystery'\n",
      " 'Drama,Family,Mystery' 'Drama,History,Sport'\n",
      " 'Animation,Crime,Documentary' 'Action,Romance' 'Comedy,Thriller,Western'\n",
      " 'Biography,Documentary,Musical' 'Action,Crime,Music'\n",
      " 'Fantasy,Mystery,Sci-Fi' 'Animation,Sport' 'Biography,Comedy,Romance'\n",
      " 'Documentary,History,Mystery' 'Action,Comedy,Musical'\n",
      " 'Animation,Drama,Thriller' 'Family,Fantasy,Sci-Fi' 'Action,Adventure,War'\n",
      " 'Comedy,War' 'Action,Musical' 'Adventure,Documentary,Western'\n",
      " 'Crime,Drama,Western' 'Drama,Musical,Thriller' 'Animation,Drama,Sci-Fi'\n",
      " 'Mystery,Sci-Fi' 'Animation,Fantasy' 'Comedy,Mystery,Sci-Fi'\n",
      " 'Action,Drama,News' 'Comedy,Documentary,Romance' 'Crime,Drama,Musical'\n",
      " 'Fantasy,Mystery' 'Crime,History,Thriller' 'Crime,Sci-Fi,Thriller'\n",
      " 'Comedy,Family,Western' 'Crime,Horror,Musical' 'Documentary,Drama,Horror'\n",
      " 'Action,Fantasy,Romance' 'Drama,History,Mystery' 'Fantasy,Music,Romance'\n",
      " 'Comedy,Documentary,Family' 'Animation,Comedy,Documentary'\n",
      " 'Action,Biography,History' 'Crime,Horror' 'Animation,Music,Romance'\n",
      " 'Animation,Documentary,War' 'Animation,Drama,War'\n",
      " 'Biography,History,Thriller' 'Action,Horror,Western'\n",
      " 'Action,Comedy,Music' 'Action,Family,Mystery' 'Adventure,Family,Western'\n",
      " 'History,Thriller,War' 'Documentary,History,Western'\n",
      " 'Adventure,History,Mystery' 'Adventure,Animation,History'\n",
      " 'Comedy,Fantasy,Thriller' 'Drama,Sport,Thriller' 'Action,Comedy,History'\n",
      " 'Action,Romance,Sport' 'Adventure,Drama,War' 'Documentary,Fantasy'\n",
      " 'Comedy,Horror,Sport' 'Family,Musical,Sport' 'Music,Mystery'\n",
      " 'Crime,Drama,Sci-Fi' 'Animation,History' 'Biography,Documentary,Sci-Fi'\n",
      " 'Action,Musical,Romance' 'Drama,History,Sci-Fi' 'Action,Romance,War'\n",
      " 'Animation,Family,Music' 'Horror,Music,Mystery'\n",
      " 'Documentary,Horror,Thriller' 'Adventure,Thriller'\n",
      " 'Adventure,Family,Musical' 'Biography,Comedy,Sci-Fi' 'Romance,Sport'\n",
      " 'Action,Crime,Musical' 'Documentary,Music,Sport' 'Adventure,Sport'\n",
      " 'Action,Crime,Documentary' 'Musical,Sci-Fi' 'Comedy,History,Mystery'\n",
      " 'Documentary,History,Horror' 'Documentary,Music,Mystery'\n",
      " 'Music,Mystery,Thriller' 'Fantasy,Musical,Sci-Fi'\n",
      " 'Animation,Sci-Fi,Thriller' 'Fantasy,Musical' 'Action,Crime,Sport'\n",
      " 'Crime,Mystery,Romance' 'Documentary,Fantasy,History'\n",
      " 'Crime,Fantasy,Mystery' 'Adventure,Documentary,Reality-TV'\n",
      " 'Adventure,Romance,Sport' 'Horror,Music,Thriller'\n",
      " 'Adventure,Family,Horror' 'Comedy,Musical,Sci-Fi'\n",
      " 'Adventure,Biography,Crime' 'Comedy,Music,Musical' 'Comedy,Horror,Music'\n",
      " 'Animation,Biography,History' 'Family,Mystery,Thriller'\n",
      " 'Drama,Game-Show,Thriller' 'Horror,War' 'Adventure,Comedy,Musical'\n",
      " 'Documentary,Drama,Western' 'News' 'Action,Music'\n",
      " 'Adventure,Family,Romance' 'Animation,Fantasy,Mystery'\n",
      " 'Fantasy,Horror,Music' 'Adventure,Sci-Fi,Thriller'\n",
      " 'Adventure,Documentary,Romance' 'Animation,War' 'Drama,History,Horror'\n",
      " 'Drama,Sci-Fi,Western' 'Biography,Crime,History' 'Animation,Horror,Music'\n",
      " 'Family,Thriller' 'Comedy,Documentary,Thriller' 'History,Horror'\n",
      " 'Crime,Documentary,Thriller' 'Adventure,Animation,Musical'\n",
      " 'Music,Musical' 'Adventure,Drama,Musical' 'Adventure,Family,Sci-Fi'\n",
      " 'Biography,Drama,News' 'Action,Adventure,Music'\n",
      " 'Documentary,History,Romance' 'Action,Crime,History'\n",
      " 'Family,Horror,Thriller' 'Documentary,Fantasy,Sci-Fi' 'Romance,War'\n",
      " 'Crime,Sci-Fi' 'Comedy,Family,Horror' 'Action,Sci-Fi,War'\n",
      " 'Documentary,Music,News' 'Action,Family,Romance'\n",
      " 'Biography,Documentary,Western' 'Animation,Drama,Horror'\n",
      " 'Horror,Romance,Sci-Fi' 'Family,Sci-Fi,Thriller' 'Action,History,Romance'\n",
      " 'Romance,Sci-Fi' 'Animation,Drama,Musical' 'Crime,Romance'\n",
      " 'Comedy,Documentary,Horror' 'Animation,Comedy,Music'\n",
      " 'Family,Fantasy,Western' 'Animation,History,Horror' 'Action,Horror,Sport'\n",
      " 'Musical,Romance,Thriller' 'Documentary,Mystery,News'\n",
      " 'Horror,Thriller,War' 'Crime,Music,Mystery' 'Drama,Horror,Western'\n",
      " 'Drama,Mystery,Western' 'Drama,Music,Mystery' 'Music,Musical,Romance'\n",
      " 'Crime,Family,Thriller' 'History,Sci-Fi' 'Mystery,Romance,Sci-Fi'\n",
      " 'Biography,History,Romance' 'Drama,History,News' 'Action,Sport,Thriller'\n",
      " 'Adventure,Crime,Western' 'Action,Animation,History'\n",
      " 'Documentary,News,Thriller' 'Drama,Sci-Fi,War' 'Drama,Horror,Musical'\n",
      " 'Documentary,History,Thriller' 'Documentary,Drama,Thriller'\n",
      " 'Action,Sport,War' 'Family,Music,Romance' 'Animation,Family,History'\n",
      " 'Crime,Western' 'Comedy,Documentary,Mystery' 'Biography,Music'\n",
      " 'Horror,Music' 'Adventure,Fantasy,Thriller' 'Crime,Fantasy,Horror'\n",
      " 'Family,Musical,Romance' 'Comedy,Documentary,Western'\n",
      " 'Mystery,News,Thriller' 'Comedy,Drama,News' 'Drama,History,Music'\n",
      " 'Comedy,Family,Mystery' 'Crime,Musical' 'Action,Horror,Romance'\n",
      " 'Comedy,News' 'Biography,History,Mystery' 'Documentary,Family,Western'\n",
      " 'Animation,Family,Sport' 'Action,Musical,Thriller'\n",
      " 'Biography,Drama,Mystery' 'Animation,Biography,Family'\n",
      " 'Biography,Comedy,Fantasy' 'Action,Family,Western'\n",
      " 'Horror,Thriller,Western' 'Biography,Family,Fantasy' 'Adventure,Music'\n",
      " 'Drama,News' 'Animation,Biography,Crime' 'Family,Fantasy,Musical'\n",
      " 'Documentary,Musical,Mystery' 'Adventure,Documentary,Fantasy'\n",
      " 'Drama,News,Thriller' 'Adventure,History,Romance'\n",
      " 'Comedy,Fantasy,Mystery' 'Musical,Thriller' 'Comedy,Documentary,Musical'\n",
      " 'Documentary,News,Romance' 'Crime,Fantasy,Thriller'\n",
      " 'Animation,Fantasy,Music' 'Documentary,Drama,Fantasy' 'Game-Show'\n",
      " 'Adventure,Fantasy,History' 'Biography,History,Music' 'Drama,War,Western'\n",
      " 'Biography,Crime,Thriller' 'Crime,Family' 'Adventure,Music,Sci-Fi'\n",
      " 'Crime,Music,Thriller' 'Biography,Family,Sport' 'Family,History,War'\n",
      " 'Action,Animation,Documentary' 'Documentary,History,Musical'\n",
      " 'Animation,Comedy,History' 'Crime,Family,Horror'\n",
      " 'Adventure,Fantasy,Romance' 'Comedy,Family,History' 'Biography,Horror'\n",
      " 'Action,History,War' 'Animation,Documentary,History'\n",
      " 'Documentary,Mystery,Thriller' 'Family,Sci-Fi' 'History,Romance'\n",
      " 'Adventure,Romance,Sci-Fi' 'Crime,Horror,Sci-Fi' 'Action,Drama,Musical'\n",
      " 'Action,Musical,Sci-Fi' 'Action,Romance,Western' 'Family,Horror,Romance'\n",
      " 'Fantasy,History,Mystery' 'Drama,History,Western'\n",
      " 'Biography,Documentary,Horror' 'Adventure,Crime,Romance'\n",
      " 'Comedy,Music,War' 'Crime,Musical,Thriller' 'Comedy,Crime,Fantasy'\n",
      " 'Documentary,Horror,News' 'Action,Biography' 'Crime,Documentary,Family'\n",
      " 'Biography,Family,History' 'Documentary,News,Reality-TV'\n",
      " 'Adventure,Western' 'Horror,Western' 'Crime,Horror,Romance'\n",
      " 'Action,Documentary,News' 'Documentary,Horror,Romance' 'Sport,Thriller'\n",
      " 'Comedy,Sport,Western' 'Comedy,Crime,Musical' 'Comedy,Sci-Fi,Western'\n",
      " 'Action,Biography,Thriller' 'Action,Documentary,Thriller'\n",
      " 'Crime,Drama,News' 'Animation,Fantasy,Sci-Fi' 'Crime,Documentary,War'\n",
      " 'Reality-TV' 'Action,Comedy,War' 'Comedy,Sci-Fi,Sport'\n",
      " 'Documentary,Family,War' 'Comedy,History,Horror' 'History,Western'\n",
      " 'Animation,Horror,Mystery' 'Adventure,Family,Sport' 'Biography,War'\n",
      " 'History,Romance,Western' 'Biography,Family' 'Musical,Mystery,Thriller'\n",
      " 'Animation,History,Music' 'Biography,Documentary,Thriller'\n",
      " 'Adventure,Biography,Family' 'Animation,Horror,Romance'\n",
      " 'History,Thriller' 'Action,Animation,Music' 'Animation,Comedy,Horror'\n",
      " 'Crime,Thriller,Western' 'Biography,Comedy,Horror' 'Adult,Horror'\n",
      " 'Documentary,Fantasy,Mystery' 'Drama,Sci-Fi,Sport'\n",
      " 'Documentary,Family,Mystery' 'Comedy,History,Music'\n",
      " 'Action,Mystery,Western' 'Family,Fantasy,Music'\n",
      " 'Documentary,Family,Musical' 'Animation,Romance' 'Drama,Mystery,News'\n",
      " 'Action,Animation,Sport' 'Adventure,Romance,Thriller'\n",
      " 'Drama,Family,Western' 'Adventure,Comedy,War'\n",
      " 'Action,Animation,Biography' 'Comedy,Horror,War'\n",
      " 'Animation,Mystery,Thriller' 'History,War' 'Drama,Music,News'\n",
      " 'Comedy,Documentary,Fantasy' 'Animation,Drama,Music'\n",
      " 'Horror,Musical,Romance' 'Family,Music' 'Documentary,Horror,Mystery'\n",
      " 'Drama,Family,News' 'Fantasy,Horror,Western'\n",
      " 'Adventure,Documentary,Sci-Fi' 'Fantasy,History,Music'\n",
      " 'Comedy,Documentary,Sci-Fi' 'Animation,Biography,Fantasy'\n",
      " 'Comedy,Romance,Western' 'Comedy,Horror,Western'\n",
      " 'History,Musical,Romance' 'Fantasy,Horror,Romance'\n",
      " 'Comedy,Musical,Western' 'Documentary,News,Sport' 'Adventure,News'\n",
      " 'Crime,Documentary,Romance' 'History,Horror,Mystery'\n",
      " 'Action,Documentary,Horror' 'History,Sci-Fi,Thriller'\n",
      " 'Adventure,Documentary,Musical' 'Comedy,Reality-TV'\n",
      " 'Family,Fantasy,Mystery' 'Documentary,History,Reality-TV'\n",
      " 'Animation,Drama,Sport' 'Biography,Drama,Western' 'Animation,Western'\n",
      " 'Adventure,Music,Romance' 'Adventure,Family,Music' 'Family,Mystery,Sport'\n",
      " 'Documentary,Sport,War' 'Animation,Fantasy,History'\n",
      " 'Comedy,Musical,Sport' 'Crime,Documentary,Fantasy' 'Action,Crime,Western'\n",
      " 'Adventure,Animation,Horror' 'Comedy,History,News'\n",
      " 'Comedy,Drama,Reality-TV' 'Family,Western' 'Documentary,Mystery,Sci-Fi'\n",
      " 'Animation,Crime,Thriller' 'Animation,Family,Sci-Fi'\n",
      " 'Biography,Thriller,Western' 'Drama,Musical,Western' 'Crime,History'\n",
      " 'Animation,Crime,Mystery' 'History,Romance,War' 'Action,Mystery,Romance'\n",
      " 'Adventure,Documentary,Horror' 'Drama,Fantasy,War' 'History,Sport'\n",
      " 'Biography,Sport' 'Horror,Sci-Fi,War' 'Comedy,History,Romance'\n",
      " 'Biography,Crime' 'Animation,Sci-Fi,War' 'Animation,Documentary,Mystery'\n",
      " 'Biography,Fantasy' 'Comedy,Crime,Sci-Fi' 'Action,Adventure,Sport'\n",
      " 'Biography,Musical' 'Romance,Western' 'Documentary,Sport,Thriller'\n",
      " 'History,Musical' 'Adventure,Crime' 'Comedy,History,Musical'\n",
      " 'Documentary,Music,Reality-TV' 'Crime,Documentary,Sport'\n",
      " 'Adventure,Crime,Horror' 'Biography,Romance' 'Action,Family,Thriller'\n",
      " 'Comedy,Sport,Thriller' 'Action,Adult,Comedy' 'Adventure,Fantasy,War'\n",
      " 'Biography,Documentary,Reality-TV' 'Animation,Family,Mystery'\n",
      " 'Biography,History,War' 'Animation,Fantasy,Romance'\n",
      " 'Comedy,History,Sport' 'Biography,Music,Romance' 'Comedy,Fantasy,Sport'\n",
      " 'Adventure,Musical' 'Romance,Thriller,War' 'Sci-Fi,War'\n",
      " 'Action,Adventure,Musical' 'Crime,Mystery,Western' 'Family,War'\n",
      " 'Adventure,Animation,Crime' 'History,Mystery,Thriller'\n",
      " 'Musical,Mystery,Sci-Fi' 'Crime,Music' 'Adventure,History,Sci-Fi'\n",
      " 'Musical,Romance,Western' 'Comedy,Music,Thriller' 'Drama,Short'\n",
      " 'Documentary,Family,Sci-Fi'] \n",
      "\n",
      "unique values in column'averagerating', '\n",
      "':[ 7.   7.2  6.9  6.1  6.5  4.1  8.1  6.8  4.6  7.6  7.5  7.8  4.   8.8\n",
      "  1.9  6.7  6.6  5.9  7.1  7.4  3.9  5.5  5.1  7.9  6.2  6.3  5.   6.\n",
      "  5.6  7.3  4.9  6.4  3.3  5.7  8.6  4.8  4.5  4.2  8.7  4.7  5.2  8.3\n",
      "  9.1  3.4  5.8  5.4  8.5  3.2  3.6  8.   3.8  7.7  4.3  3.   5.3  3.7\n",
      "  3.5  9.3  8.9  9.   2.3  8.2  2.7  2.8  1.7  4.4  2.2  9.4  8.4  9.2\n",
      "  9.7  3.1 10.   9.8  2.6  2.5  1.4  2.1  2.4  2.9  1.8  1.6  2.   1.\n",
      "  1.2  1.5  1.3  1.1  9.5  9.6  9.9] \n",
      "\n",
      "unique values in column'numvotes', '\n",
      "':[   77    43  4517 ... 91349  4057 19632] \n",
      "\n",
      "unique values in column'runtime_minutes', '\n",
      "':[1.750e+02 1.140e+02 1.220e+02       nan 8.000e+01 8.300e+01 1.360e+02\n",
      " 1.000e+02 1.800e+02 8.900e+01 6.000e+01 1.600e+02 1.040e+02 1.200e+02\n",
      " 1.100e+02 9.100e+01 1.340e+02 7.500e+01 4.400e+01 9.700e+01 5.900e+01\n",
      " 4.500e+01 8.600e+01 9.500e+01 1.030e+02 9.600e+01 8.800e+01 1.020e+02\n",
      " 1.090e+02 9.900e+01 8.400e+01 1.240e+02 9.800e+01 1.010e+02 1.370e+02\n",
      " 1.190e+02 1.080e+02 9.200e+01 2.800e+02 8.700e+01 1.320e+02 1.810e+02\n",
      " 1.440e+02 9.000e+01 1.070e+02 1.120e+02 9.300e+01 1.130e+02 1.170e+02\n",
      " 1.270e+02 1.500e+02 1.150e+02 1.050e+02 1.410e+02 1.280e+02 8.500e+01\n",
      " 5.600e+01 9.400e+01 7.600e+01 1.230e+02 1.630e+02 8.100e+01 1.160e+02\n",
      " 1.060e+02 1.290e+02 1.390e+02 7.700e+01 1.250e+02 8.200e+01 1.610e+02\n",
      " 7.800e+01 1.430e+02 1.300e+02 2.000e+02 1.180e+02 1.310e+02 1.690e+02\n",
      " 7.900e+01 6.700e+01 1.210e+02 7.400e+01 1.110e+02 1.330e+02 7.200e+01\n",
      " 1.460e+02 5.500e+01 1.400e+02 5.700e+01 6.500e+01 1.260e+02 7.000e+01\n",
      " 5.200e+01 5.000e+01 6.800e+01 1.580e+02 1.560e+02 6.900e+01 1.350e+02\n",
      " 1.510e+02 1.550e+02 1.740e+02 7.100e+01 4.900e+01 2.900e+01 2.760e+02\n",
      " 6.400e+01 1.520e+02 1.470e+02 7.300e+01 5.100e+01 1.450e+02 6.100e+01\n",
      " 5.400e+01 1.650e+02 2.080e+02 1.380e+02 4.600e+01 1.480e+02 1.420e+02\n",
      " 1.570e+02 2.720e+02 1.680e+02 6.300e+01 4.700e+01 5.300e+01 6.200e+01\n",
      " 5.800e+01 6.600e+01 1.640e+02 1.620e+02 1.700e+02 1.720e+02 1.530e+02\n",
      " 4.800e+01 1.540e+02 3.300e+01 3.100e+02 3.900e+01 4.200e+01 1.830e+02\n",
      " 4.000e+01 2.700e+01 4.100e+01 3.100e+01 4.300e+01 9.000e+00 1.490e+02\n",
      " 1.670e+02 2.800e+01 3.000e+01 1.590e+02 2.640e+02 3.700e+01 2.500e+02\n",
      " 2.780e+02 8.000e+00 3.560e+02 2.600e+01 3.300e+02 1.000e+01 1.780e+02\n",
      " 3.600e+01 3.400e+01 1.400e+01 3.640e+02 1.730e+02 1.850e+02 1.600e+01\n",
      " 3.500e+01 2.400e+01 2.100e+01 2.330e+02 1.100e+01 6.000e+00 1.660e+02\n",
      " 2.200e+01 2.560e+02 1.500e+01 2.700e+02 3.210e+02 1.860e+02 1.970e+02\n",
      " 2.310e+02 2.300e+02 1.440e+03 3.600e+02 1.710e+02 2.300e+01 2.010e+02\n",
      " 3.200e+01 2.180e+02 2.500e+01 2.440e+02 3.530e+02 2.540e+02 1.990e+02\n",
      " 1.930e+02 1.760e+02 3.000e+02 1.880e+02 1.300e+01 2.240e+02 3.240e+02\n",
      " 2.400e+02 1.840e+02 3.000e+00 7.240e+02 5.000e+00 7.000e+00 1.770e+02\n",
      " 3.800e+01 2.200e+02 2.910e+02 2.000e+01 1.910e+02 2.350e+02 2.100e+02\n",
      " 1.820e+02 1.440e+04 1.890e+02 1.960e+02 4.800e+02 2.480e+02 2.320e+02\n",
      " 4.160e+02 2.270e+02 1.980e+02 1.900e+02 3.380e+02 1.920e+02 4.760e+02\n",
      " 1.200e+01 1.790e+02 3.500e+02 3.190e+02 2.050e+02 2.020e+02 3.410e+02\n",
      " 2.150e+02 2.140e+02 3.200e+02 5.000e+02 2.090e+02 2.380e+02 1.800e+01\n",
      " 3.250e+02 3.340e+02 2.170e+02 2.580e+02 1.900e+01 2.650e+02 3.170e+02\n",
      " 4.850e+02 1.700e+01 2.040e+02 2.030e+02 2.770e+02 4.670e+02 7.200e+02\n",
      " 6.070e+02 3.790e+02 2.250e+02 3.040e+02 2.260e+02 4.000e+00 2.160e+02\n",
      " 1.950e+02 2.470e+02 4.500e+02 1.870e+02 2.850e+02 2.550e+02 2.060e+02\n",
      " 2.340e+02 2.190e+02 2.870e+02 7.460e+02 3.830e+02 2.120e+02 5.142e+04\n",
      " 2.370e+02 4.950e+02 1.100e+03 2.390e+02 6.010e+02 2.230e+02 2.600e+02\n",
      " 2.070e+02 8.080e+02 2.610e+02] \n",
      "\n"
     ]
    }
   ],
   "source": [
    "# Checking for unique values \n",
    "for column in data6:\n",
    "    unique_values = data6[column].unique()\n",
    "    print(f\"unique values in column'{column}', '\\n':{unique_values}\",'\\n')"
   ]
  },
  {
   "cell_type": "code",
   "execution_count": 43,
   "metadata": {},
   "outputs": [
    {
     "data": {
      "text/plain": [
       "genres              804\n",
       "averagerating         0\n",
       "numvotes              0\n",
       "runtime_minutes    7620\n",
       "dtype: int64"
      ]
     },
     "execution_count": 43,
     "metadata": {},
     "output_type": "execute_result"
    }
   ],
>>>>>>> 800f0c325ecfb7193fdc7bea96aaaa54816eeaa2
   "source": [
    "data6.isna().sum()"
   ]
  },
  {
<<<<<<< HEAD
=======
   "cell_type": "markdown",
   "metadata": {},
   "source": [
    "The column genres has 804 missing values which are replaced by unknowns since it has object data values."
   ]
  },
  {
   "cell_type": "code",
   "execution_count": 44,
   "metadata": {},
   "outputs": [],
   "source": [
    "# Create a copy of data6 before cleaning\n",
    "dataf6 = data6.copy(deep=True)"
   ]
  },
  {
   "cell_type": "code",
   "execution_count": 45,
   "metadata": {},
   "outputs": [],
   "source": [
    "# Replace nulls with the mode of the 'genres' column\n",
    "mode_value = dataf6['genres'].mode()[0]\n",
    "dataf6['genres'].fillna(mode_value, inplace=True)\n",
    "\n"
   ]
  },
  {
   "cell_type": "code",
   "execution_count": 46,
   "metadata": {},
   "outputs": [
    {
     "data": {
      "image/png": "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\n",
      "text/plain": [
       "<Figure size 432x288 with 1 Axes>"
      ]
     },
     "metadata": {
      "needs_background": "light"
     },
     "output_type": "display_data"
    }
   ],
   "source": [
    "# check whether to use mean or median\n",
    "dataf6['runtime_minutes'].plot.kde()\n",
    "plt.show()"
   ]
  },
  {
   "cell_type": "code",
   "execution_count": 47,
   "metadata": {},
   "outputs": [],
   "source": [
    "dataf6['runtime_minutes'] = dataf6['runtime_minutes'].fillna(dataf6['runtime_minutes'].median())\n"
   ]
  },
  {
   "cell_type": "code",
   "execution_count": 48,
   "metadata": {},
   "outputs": [
    {
     "data": {
      "text/plain": [
       "genres             0\n",
       "averagerating      0\n",
       "numvotes           0\n",
       "runtime_minutes    0\n",
       "dtype: int64"
      ]
     },
     "execution_count": 48,
     "metadata": {},
     "output_type": "execute_result"
    }
   ],
   "source": [
    "dataf6.isna().sum()# check nulls again\n"
   ]
  },
  {
   "cell_type": "markdown",
   "metadata": {},
   "source": [
    "Since the a movie can have a combination of two or more genres. For example,:\"Family, Western\" , we have to assume the first genre is the main one."
   ]
  },
  {
   "cell_type": "code",
   "execution_count": 50,
   "metadata": {},
   "outputs": [],
   "source": [
    "#select the first genre\n",
    "dataf6['main_genre'] = dataf6['genres'].apply(lambda x: x.split(',')[0])\n"
   ]
  },
  {
   "cell_type": "code",
   "execution_count": 51,
   "metadata": {},
   "outputs": [
    {
     "name": "stdout",
     "output_type": "stream",
     "text": [
      "unique values in column'genres', '\n",
      "':['Action,Crime,Drama' 'Biography,Drama' 'Drama' 'Comedy,Drama'\n",
      " 'Comedy,Drama,Fantasy' 'Horror,Thriller' 'Adventure,Animation,Comedy'\n",
      " 'History' 'Documentary' 'Animation,Drama,History' 'Drama,Mystery'\n",
      " 'Action,Animation,Comedy' 'Crime,Drama' 'Biography,Comedy,Drama'\n",
      " 'Action,Drama' 'Documentary,History' 'Sci-Fi' 'Comedy' 'Thriller'\n",
      " 'Adventure,Animation,Sci-Fi' 'Drama,Horror' 'Drama,Mystery,Thriller'\n",
      " 'Drama,Family' 'Adventure,Comedy,Romance' 'Adventure,Drama,Romance'\n",
      " 'Comedy,Crime,Drama' 'Biography' 'Horror' 'Adventure,Comedy,Drama'\n",
      " 'Drama,Sci-Fi,Thriller' 'Action' 'Comedy,Drama,Romance'\n",
      " 'Action,Adventure,Sci-Fi' 'Comedy,Family' 'Adventure' 'Drama,History,War'\n",
      " 'Action,Thriller' 'Comedy,Crime' 'Crime,Drama,Thriller'\n",
      " 'Action,Sci-Fi,Thriller' 'Fantasy' 'Drama,Mystery,Sci-Fi'\n",
      " 'Biography,Drama,History' 'Action,Comedy,Crime'\n",
      " 'Action,Adventure,Thriller' 'Horror,Mystery,Thriller'\n",
      " 'Action,Drama,Family' 'Comedy,Drama,Music' 'Drama,Fantasy,Horror'\n",
      " 'Drama,Romance,Sci-Fi' 'Drama,Thriller' 'Drama,Romance'\n",
      " 'Drama,Romance,War' 'Crime,Drama,Horror' 'Action,Comedy,Fantasy'\n",
      " 'Action,Adventure,Comedy' 'Action,Adventure,Animation'\n",
      " 'Action,Adventure,Fantasy' 'Comedy,Romance' 'Biography,Drama,Sport'\n",
      " 'Comedy,Drama,Sci-Fi' 'Adventure,Drama,Fantasy' 'Action,Crime,Thriller'\n",
      " 'Crime,Thriller' 'Adventure,Comedy,Western' 'Drama,Horror,Sci-Fi'\n",
      " 'Mystery,Thriller' 'Comedy,Horror' 'Musical' 'Adventure,Drama,Mystery'\n",
      " 'Drama,Fantasy' 'Fantasy,Horror,Thriller' 'Drama,Sport'\n",
      " 'Action,Adventure,Crime' 'Biography,Documentary,History'\n",
      " 'Drama,Music,Romance' 'Family,Sport' 'Adventure,Comedy'\n",
      " 'Action,Adventure,Drama' 'Adventure,Drama,History'\n",
      " 'Drama,History,Romance' 'Biography,Drama,Music' 'Adventure,Comedy,Family'\n",
      " 'Horror,Mystery,Romance' 'Action,Adventure,Horror' 'Animation,Family'\n",
      " 'Drama,Horror,Mystery' 'Drama,Fantasy,Romance'\n",
      " 'Biography,Documentary,Music' 'Animation,Family,Fantasy'\n",
      " 'Adventure,Comedy,Sci-Fi' 'Family,Fantasy' 'Horror,Mystery'\n",
      " 'Drama,Fantasy,Thriller' 'Documentary,Music' 'Comedy,Horror,Thriller'\n",
      " 'Action,Drama,Horror' 'Animation,Drama' 'Biography,Comedy,Crime'\n",
      " 'Drama,Mystery,War' 'Adventure,Comedy,Fantasy' 'Biography,Drama,Romance'\n",
      " 'Documentary,Drama' 'Biography,Crime,Drama' 'Action,Drama,Fantasy'\n",
      " 'Comedy,Family,Fantasy' 'Adventure,Animation,Family' 'Drama,Music'\n",
      " 'Adventure,Family,Fantasy' 'Drama,War' 'Adventure,Drama,Sci-Fi'\n",
      " 'Comedy,Music,Romance' 'Adventure,Family' 'Action,Horror,Thriller'\n",
      " 'Action,Biography,Crime' 'Crime,Drama,Romance' 'Animation,Comedy,Family'\n",
      " 'Comedy,Drama,War' 'Western' 'Comedy,Sci-Fi' 'Drama,Fantasy,Mystery'\n",
      " 'Adventure,Crime,Drama' 'Animation,Comedy,Crime' 'Sci-Fi,Thriller'\n",
      " 'Horror,Sci-Fi,Thriller' 'Action,Drama,Sport' 'Drama,Horror,Romance'\n",
      " 'Romance' 'Adventure,Horror,Thriller' 'Comedy,Crime,Mystery'\n",
      " 'Action,Animation,Drama' 'Mystery' 'Action,Crime,Horror'\n",
      " 'Adventure,Drama,Thriller' 'Comedy,Musical,Romance'\n",
      " 'Action,Drama,Thriller' 'Animation,Comedy,Fantasy'\n",
      " 'Horror,Mystery,Sci-Fi' 'Adventure,Drama,Horror'\n",
      " 'Animation,Comedy,Sci-Fi' 'Action,Horror,Sci-Fi'\n",
      " 'Adventure,Fantasy,Mystery' 'Drama,Sci-Fi' 'Mystery,Romance'\n",
      " 'Action,Adventure,Family' 'Comedy,Crime,Thriller'\n",
      " 'Action,Mystery,Thriller' 'Action,Drama,Sci-Fi' 'Crime,Documentary'\n",
      " 'Crime,Drama,History' 'Animation,Crime,Music' 'Action,Mystery,Sci-Fi'\n",
      " 'Adventure,Drama,Family' 'Drama,Fantasy,History' 'Drama,Musical,Romance'\n",
      " 'Biography,Drama,Thriller' 'Crime' 'Animation' 'Comedy,Horror,Sci-Fi'\n",
      " 'Action,Biography,Drama' 'Action,Comedy,Horror' 'Comedy,Fantasy'\n",
      " 'Action,Crime' 'Family' 'Adventure,Fantasy' 'Biography,Drama,Family'\n",
      " 'Adventure,Animation,Fantasy' 'Action,Adventure,History'\n",
      " 'Comedy,Drama,Family' 'Comedy,Documentary,Sport' 'Biography,Documentary'\n",
      " 'Documentary,History,War' 'Horror,Romance,Thriller'\n",
      " 'Crime,Documentary,Drama' 'Adventure,Drama' 'Documentary,Sport'\n",
      " 'Crime,Mystery,Thriller' 'Action,Fantasy,History' 'Sport'\n",
      " 'Comedy,Drama,Sport' 'Action,Comedy' 'Action,Fantasy,Western'\n",
      " 'Action,Comedy,Sci-Fi' 'Adventure,Horror,Sci-Fi' 'Fantasy,Horror,Mystery'\n",
      " 'Music' 'Comedy,Family,Thriller' 'Comedy,Thriller'\n",
      " 'Action,Fantasy,Horror' 'Action,Comedy,Romance' 'Action,Drama,Romance'\n",
      " 'Comedy,Drama,Mystery' 'Action,Family,Fantasy' 'Action,History'\n",
      " 'Biography,Drama,War' 'Documentary,War' 'Animation,Biography'\n",
      " 'Documentary,Drama,Sci-Fi' 'Action,Crime,Sci-Fi' 'Fantasy,Horror'\n",
      " 'Drama,History' 'Comedy,Horror,Musical' 'Action,Animation,Fantasy'\n",
      " 'Action,Fantasy,Thriller' 'Biography,Drama,Fantasy'\n",
      " 'Comedy,Fantasy,Horror' 'Action,Crime,Mystery' 'Drama,Horror,Thriller'\n",
      " 'Crime,Drama,Mystery' 'Crime,Horror,Thriller' 'Drama,Romance,Thriller'\n",
      " 'Action,Comedy,Documentary' 'Comedy,Documentary' 'Crime,Drama,Music'\n",
      " 'Biography,History' 'Drama,Music,Musical' 'Action,Sci-Fi'\n",
      " 'Action,Adventure' 'Action,Horror,Mystery' 'Documentary,Drama,History'\n",
      " 'Drama,Musical' 'Adventure,Comedy,Crime' 'Action,Drama,Western'\n",
      " 'Comedy,Musical' 'Crime,Sport,Thriller' 'Animation,Comedy,Drama'\n",
      " 'Adventure,Biography,Comedy' 'Adventure,Animation,Drama'\n",
      " 'Adventure,Animation' 'Family,Fantasy,Horror' 'Crime,Drama,Fantasy'\n",
      " 'Adventure,Biography' 'Action,Adventure,Western'\n",
      " 'Adventure,Biography,Drama' 'Animation,Comedy,Romance'\n",
      " 'Mystery,Sci-Fi,Thriller' 'Comedy,Drama,Horror' 'Documentary,Family,News'\n",
      " 'Comedy,Family,Romance' 'Adventure,Documentary' 'Adventure,Comedy,Music'\n",
      " 'Crime,Drama,War' 'Comedy,Western' 'Drama,Musical,War'\n",
      " 'Comedy,Drama,Musical' 'Animation,Crime,Drama' 'Drama,Mystery,Romance'\n",
      " 'Action,Romance,Sci-Fi' 'Crime,Documentary,History'\n",
      " 'Action,Drama,History' 'Horror,Sci-Fi' 'Documentary,History,Sport'\n",
      " 'Action,Comedy,Drama' 'Action,Fantasy,War' 'Comedy,Drama,History'\n",
      " 'Action,Drama,Mystery' 'Comedy,Sport' 'Comedy,Mystery'\n",
      " 'Drama,Thriller,Western' 'Action,Drama,War' 'Adventure,Comedy,Horror'\n",
      " 'Action,Comedy,Family' 'Comedy,Crime,Music' 'Comedy,Crime,Romance'\n",
      " 'Adventure,Drama,Sport' 'Comedy,Fantasy,Romance' 'Drama,Fantasy,Sci-Fi'\n",
      " 'Drama,Family,Fantasy' 'Sci-Fi,Western' 'Comedy,Music'\n",
      " 'Adventure,Biography,Documentary' 'Crime,Documentary,Music'\n",
      " 'Crime,Horror,Mystery' 'Adventure,Romance' 'Horror,Sport,Thriller'\n",
      " 'Comedy,Crime,History' 'Action,Adventure,Romance'\n",
      " 'Biography,Documentary,Sport' 'Horror,Music,Sci-Fi' 'Action,Drama,Music'\n",
      " 'Action,Adventure,Mystery' 'Comedy,History,War' 'Action,Fantasy,Sci-Fi'\n",
      " 'Adventure,Horror,Mystery' 'Animation,Horror' 'Adventure,Mystery,Romance'\n",
      " 'Romance,Thriller' 'Documentary,Family' 'Biography,Documentary,Drama'\n",
      " 'Animation,Comedy' 'Adventure,Sci-Fi' 'Comedy,Drama,Western'\n",
      " 'Comedy,Documentary,History' 'Action,Comedy,Thriller'\n",
      " 'Drama,Fantasy,Music' 'Action,Thriller,War' 'Drama,Thriller,War'\n",
      " 'Action,War' 'Biography,Comedy,History' 'Comedy,Family,Musical'\n",
      " 'Drama,Romance,Sport' 'Adventure,Mystery' 'Drama,Western'\n",
      " 'Animation,Sci-Fi' 'Romance,Sci-Fi,Thriller' 'Action,Adventure,Biography'\n",
      " 'Comedy,Family,Sport' 'Biography,Documentary,Fantasy'\n",
      " 'Comedy,Romance,Sci-Fi' 'Adventure,Fantasy,Horror'\n",
      " 'Adventure,Drama,Western' 'Comedy,Drama,Thriller' 'Comedy,Romance,Sport'\n",
      " 'History,Music' 'Documentary,Drama,Sport' 'Documentary,Drama,Music'\n",
      " 'Biography,Documentary,Romance' 'Documentary,History,Music'\n",
      " 'Biography,Crime,Documentary' 'Adventure,Crime,Thriller'\n",
      " 'Drama,Family,Sport' 'Drama,Family,Music' 'Documentary,News'\n",
      " 'Action,Horror' 'Horror,Romance' 'Documentary,Drama,News'\n",
      " 'Action,History,Thriller' 'Adventure,History' 'Adventure,Mystery,Sci-Fi'\n",
      " 'Biography,Comedy,Documentary' 'Drama,History,Thriller'\n",
      " 'Documentary,Drama,Family' 'Family,Fantasy,Romance'\n",
      " 'Comedy,Documentary,Music' 'Comedy,Fantasy,Music' 'Comedy,Family,Sci-Fi'\n",
      " 'Adventure,Documentary,News' 'Crime,Mystery,Sci-Fi' 'Comedy,Crime,Family'\n",
      " 'Family,Musical' 'Biography,Drama,Musical' 'Music,Romance'\n",
      " 'Fantasy,Mystery,Romance' 'Adventure,Crime,Documentary'\n",
      " 'Documentary,Family,Music' 'Animation,Documentary,News'\n",
      " 'Adventure,Documentary,Family' 'Biography,Documentary,Family'\n",
      " 'Adventure,Documentary,Music' 'Mystery,Thriller,Western'\n",
      " 'Comedy,Crime,Horror' 'Action,Animation,Horror' 'War'\n",
      " 'Adventure,Documentary,History' 'Animation,Biography,Comedy'\n",
      " 'Adventure,Horror' 'Adventure,Documentary,Drama'\n",
      " 'Comedy,Documentary,Drama' 'Animation,Documentary,Music'\n",
      " 'Documentary,History,News' 'Comedy,Sci-Fi,Thriller' 'Fantasy,Sci-Fi'\n",
      " 'Action,Biography,Comedy' 'Action,Adventure,Documentary'\n",
      " 'Comedy,Mystery,Romance' 'Biography,Comedy' 'Action,Animation'\n",
      " 'Thriller,Western' 'Adventure,Documentary,Sport' 'Documentary,Western'\n",
      " 'Action,Comedy,Western' 'Drama,Fantasy,Musical'\n",
      " 'Action,Biography,Documentary' 'Documentary,Horror' 'Drama,Family,Sci-Fi'\n",
      " 'Drama,Music,Sci-Fi' 'Documentary,History,Sci-Fi' 'Documentary,Thriller'\n",
      " 'Documentary,Romance' 'Comedy,Horror,Romance' 'Adventure,Drama,Music'\n",
      " 'Animation,Comedy,Mystery' 'Fantasy,Horror,Musical'\n",
      " 'Action,Sci-Fi,Western' 'Documentary,Drama,Reality-TV'\n",
      " 'Action,Documentary,Sport' 'Action,Fantasy' 'Fantasy,Thriller'\n",
      " 'Animation,Drama,Mystery' 'Documentary,Music,Musical' 'Thriller,War'\n",
      " 'Documentary,Mystery' 'Documentary,Reality-TV'\n",
      " 'Action,Documentary,History' 'Animation,Biography,Documentary'\n",
      " 'Biography,Documentary,Mystery' 'Crime,Drama,Sport'\n",
      " 'Drama,Music,Thriller' 'Action,Documentary,Family'\n",
      " 'Action,Documentary,War' 'Animation,Drama,Family'\n",
      " 'Documentary,Family,History' 'Action,Crime,Fantasy' 'Horror,Musical'\n",
      " 'Action,Documentary' 'Action,Crime,Romance' 'Documentary,Drama,Mystery'\n",
      " 'Adventure,Horror,Western' 'Comedy,Crime,Documentary' 'Musical,Romance'\n",
      " 'Animation,Documentary,Family' 'Crime,Documentary,Mystery'\n",
      " 'Comedy,Documentary,News' 'Drama,Family,Horror' 'Comedy,Romance,Thriller'\n",
      " 'Comedy,Horror,Mystery' 'Fantasy,Sci-Fi,Thriller'\n",
      " 'Adventure,Horror,Romance' 'Adventure,Comedy,Thriller'\n",
      " 'Documentary,Drama,War' 'Biography,Romance,War'\n",
      " 'Adventure,Comedy,Mystery' 'Comedy,Family,Music' 'Drama,Family,Thriller'\n",
      " 'Drama,Family,History' 'Action,Documentary,Drama' 'Fantasy,Horror,Sci-Fi'\n",
      " 'Fantasy,Romance' 'Drama,News,War' 'Crime,Documentary,News'\n",
      " 'Biography,Documentary,News' 'Animation,Biography,Drama'\n",
      " 'Biography,Documentary,War' 'Fantasy,Music' 'Action,Family,Sci-Fi'\n",
      " 'Drama,Family,Romance' 'Animation,Drama,Romance'\n",
      " 'Fantasy,History,Romance' 'Comedy,Mystery,Thriller'\n",
      " 'Action,Animation,Sci-Fi' 'Adventure,Comedy,Documentary' 'Family,Mystery'\n",
      " 'Action,Comedy,Sport' 'Action,Mystery' 'Action,Animation,Crime'\n",
      " 'Crime,Drama,Family' 'Documentary,Musical' 'Mystery,Romance,Thriller'\n",
      " 'Animation,Comedy,Musical' 'Animation,Drama,Fantasy' 'Animation,Music'\n",
      " 'Biography,Fantasy,Horror' 'Fantasy,Romance,Sci-Fi'\n",
      " 'Adventure,Crime,Family' 'Animation,Documentary' 'Drama,Horror,Music'\n",
      " 'Adventure,Family,Mystery' 'Comedy,History' 'Action,Romance,Thriller'\n",
      " 'Family,Romance' 'Adventure,Animation,Biography' 'Action,Fantasy,Mystery'\n",
      " 'Fantasy,Mystery,Thriller' 'Comedy,Crime,Sport' 'Action,Animation,Family'\n",
      " 'Animation,Musical' 'Action,Family' 'Animation,Fantasy,Horror'\n",
      " 'Documentary,Sci-Fi' 'Drama,Family,Musical'\n",
      " 'Adventure,Documentary,Mystery' 'Animation,Family,Musical'\n",
      " 'Biography,Drama,Horror' 'Drama,History,Musical' 'Drama,Music,War'\n",
      " 'Animation,Mystery,Sci-Fi' 'Fantasy,Romance,Thriller'\n",
      " 'Biography,Thriller' 'Crime,Mystery' 'Animation,Romance,Sci-Fi'\n",
      " 'Animation,Documentary,Drama' 'Documentary,Drama,Romance'\n",
      " 'Documentary,Music,Romance' 'Biography,Comedy,Music'\n",
      " 'Adventure,Animation,Documentary' 'Action,History,Horror'\n",
      " 'Documentary,Family,Sport' 'Animation,History,Musical'\n",
      " 'Comedy,Documentary,War' 'Adventure,Biography,History'\n",
      " 'Documentary,Music,War' 'Adventure,Fantasy,Sci-Fi' 'Action,Sport'\n",
      " 'Animation,Horror,Sci-Fi' 'Drama,Musical,Sci-Fi'\n",
      " 'Documentary,Family,Romance' 'Drama,Family,War' 'History,Horror,Thriller'\n",
      " 'Comedy,Music,Sci-Fi' 'Biography,Comedy,Family'\n",
      " 'Documentary,Family,Fantasy' 'Drama,Romance,Western'\n",
      " 'Animation,Horror,Thriller' 'Adventure,Fantasy,Musical'\n",
      " 'Comedy,Musical,War' 'Animation,Thriller' 'Crime,Romance,Thriller'\n",
      " 'Action,Western' 'Action,Thriller,Western' 'Comedy,Fantasy,Musical'\n",
      " 'Comedy,Fantasy,Sci-Fi' 'Drama,Fantasy,Western'\n",
      " 'Adventure,Mystery,Thriller' 'Documentary,Drama,Musical'\n",
      " 'Adventure,Comedy,History' 'Documentary,News,War'\n",
      " 'Documentary,Fantasy,Horror' 'Action,Comedy,Mystery'\n",
      " 'Drama,Family,Mystery' 'Drama,History,Sport'\n",
      " 'Animation,Crime,Documentary' 'Action,Romance' 'Comedy,Thriller,Western'\n",
      " 'Biography,Documentary,Musical' 'Action,Crime,Music'\n",
      " 'Fantasy,Mystery,Sci-Fi' 'Animation,Sport' 'Biography,Comedy,Romance'\n",
      " 'Documentary,History,Mystery' 'Action,Comedy,Musical'\n",
      " 'Animation,Drama,Thriller' 'Family,Fantasy,Sci-Fi' 'Action,Adventure,War'\n",
      " 'Comedy,War' 'Action,Musical' 'Adventure,Documentary,Western'\n",
      " 'Crime,Drama,Western' 'Drama,Musical,Thriller' 'Animation,Drama,Sci-Fi'\n",
      " 'Mystery,Sci-Fi' 'Animation,Fantasy' 'Comedy,Mystery,Sci-Fi'\n",
      " 'Action,Drama,News' 'Comedy,Documentary,Romance' 'Crime,Drama,Musical'\n",
      " 'Fantasy,Mystery' 'Crime,History,Thriller' 'Crime,Sci-Fi,Thriller'\n",
      " 'Comedy,Family,Western' 'Crime,Horror,Musical' 'Documentary,Drama,Horror'\n",
      " 'Action,Fantasy,Romance' 'Drama,History,Mystery' 'Fantasy,Music,Romance'\n",
      " 'Comedy,Documentary,Family' 'Animation,Comedy,Documentary'\n",
      " 'Action,Biography,History' 'Crime,Horror' 'Animation,Music,Romance'\n",
      " 'Animation,Documentary,War' 'Animation,Drama,War'\n",
      " 'Biography,History,Thriller' 'Action,Horror,Western'\n",
      " 'Action,Comedy,Music' 'Action,Family,Mystery' 'Adventure,Family,Western'\n",
      " 'History,Thriller,War' 'Documentary,History,Western'\n",
      " 'Adventure,History,Mystery' 'Adventure,Animation,History'\n",
      " 'Comedy,Fantasy,Thriller' 'Drama,Sport,Thriller' 'Action,Comedy,History'\n",
      " 'Action,Romance,Sport' 'Adventure,Drama,War' 'Documentary,Fantasy'\n",
      " 'Comedy,Horror,Sport' 'Family,Musical,Sport' 'Music,Mystery'\n",
      " 'Crime,Drama,Sci-Fi' 'Animation,History' 'Biography,Documentary,Sci-Fi'\n",
      " 'Action,Musical,Romance' 'Drama,History,Sci-Fi' 'Action,Romance,War'\n",
      " 'Animation,Family,Music' 'Horror,Music,Mystery'\n",
      " 'Documentary,Horror,Thriller' 'Adventure,Thriller'\n",
      " 'Adventure,Family,Musical' 'Biography,Comedy,Sci-Fi' 'Romance,Sport'\n",
      " 'Action,Crime,Musical' 'Documentary,Music,Sport' 'Adventure,Sport'\n",
      " 'Action,Crime,Documentary' 'Musical,Sci-Fi' 'Comedy,History,Mystery'\n",
      " 'Documentary,History,Horror' 'Documentary,Music,Mystery'\n",
      " 'Music,Mystery,Thriller' 'Fantasy,Musical,Sci-Fi'\n",
      " 'Animation,Sci-Fi,Thriller' 'Fantasy,Musical' 'Action,Crime,Sport'\n",
      " 'Crime,Mystery,Romance' 'Documentary,Fantasy,History'\n",
      " 'Crime,Fantasy,Mystery' 'Adventure,Documentary,Reality-TV'\n",
      " 'Adventure,Romance,Sport' 'Horror,Music,Thriller'\n",
      " 'Adventure,Family,Horror' 'Comedy,Musical,Sci-Fi'\n",
      " 'Adventure,Biography,Crime' 'Comedy,Music,Musical' 'Comedy,Horror,Music'\n",
      " 'Animation,Biography,History' 'Family,Mystery,Thriller'\n",
      " 'Drama,Game-Show,Thriller' 'Horror,War' 'Adventure,Comedy,Musical'\n",
      " 'Documentary,Drama,Western' 'News' 'Action,Music'\n",
      " 'Adventure,Family,Romance' 'Animation,Fantasy,Mystery'\n",
      " 'Fantasy,Horror,Music' 'Adventure,Sci-Fi,Thriller'\n",
      " 'Adventure,Documentary,Romance' 'Animation,War' 'Drama,History,Horror'\n",
      " 'Drama,Sci-Fi,Western' 'Biography,Crime,History' 'Animation,Horror,Music'\n",
      " 'Family,Thriller' 'Comedy,Documentary,Thriller' 'History,Horror'\n",
      " 'Crime,Documentary,Thriller' 'Adventure,Animation,Musical'\n",
      " 'Music,Musical' 'Adventure,Drama,Musical' 'Adventure,Family,Sci-Fi'\n",
      " 'Biography,Drama,News' 'Action,Adventure,Music'\n",
      " 'Documentary,History,Romance' 'Action,Crime,History'\n",
      " 'Family,Horror,Thriller' 'Documentary,Fantasy,Sci-Fi' 'Romance,War'\n",
      " 'Crime,Sci-Fi' 'Comedy,Family,Horror' 'Action,Sci-Fi,War'\n",
      " 'Documentary,Music,News' 'Action,Family,Romance'\n",
      " 'Biography,Documentary,Western' 'Animation,Drama,Horror'\n",
      " 'Horror,Romance,Sci-Fi' 'Family,Sci-Fi,Thriller' 'Action,History,Romance'\n",
      " 'Romance,Sci-Fi' 'Animation,Drama,Musical' 'Crime,Romance'\n",
      " 'Comedy,Documentary,Horror' 'Animation,Comedy,Music'\n",
      " 'Family,Fantasy,Western' 'Animation,History,Horror' 'Action,Horror,Sport'\n",
      " 'Musical,Romance,Thriller' 'Documentary,Mystery,News'\n",
      " 'Horror,Thriller,War' 'Crime,Music,Mystery' 'Drama,Horror,Western'\n",
      " 'Drama,Mystery,Western' 'Drama,Music,Mystery' 'Music,Musical,Romance'\n",
      " 'Crime,Family,Thriller' 'History,Sci-Fi' 'Mystery,Romance,Sci-Fi'\n",
      " 'Biography,History,Romance' 'Drama,History,News' 'Action,Sport,Thriller'\n",
      " 'Adventure,Crime,Western' 'Action,Animation,History'\n",
      " 'Documentary,News,Thriller' 'Drama,Sci-Fi,War' 'Drama,Horror,Musical'\n",
      " 'Documentary,History,Thriller' 'Documentary,Drama,Thriller'\n",
      " 'Action,Sport,War' 'Family,Music,Romance' 'Animation,Family,History'\n",
      " 'Crime,Western' 'Comedy,Documentary,Mystery' 'Biography,Music'\n",
      " 'Horror,Music' 'Adventure,Fantasy,Thriller' 'Crime,Fantasy,Horror'\n",
      " 'Family,Musical,Romance' 'Comedy,Documentary,Western'\n",
      " 'Mystery,News,Thriller' 'Comedy,Drama,News' 'Drama,History,Music'\n",
      " 'Comedy,Family,Mystery' 'Crime,Musical' 'Action,Horror,Romance'\n",
      " 'Comedy,News' 'Biography,History,Mystery' 'Documentary,Family,Western'\n",
      " 'Animation,Family,Sport' 'Action,Musical,Thriller'\n",
      " 'Biography,Drama,Mystery' 'Animation,Biography,Family'\n",
      " 'Biography,Comedy,Fantasy' 'Action,Family,Western'\n",
      " 'Horror,Thriller,Western' 'Biography,Family,Fantasy' 'Adventure,Music'\n",
      " 'Drama,News' 'Animation,Biography,Crime' 'Family,Fantasy,Musical'\n",
      " 'Documentary,Musical,Mystery' 'Adventure,Documentary,Fantasy'\n",
      " 'Drama,News,Thriller' 'Adventure,History,Romance'\n",
      " 'Comedy,Fantasy,Mystery' 'Musical,Thriller' 'Comedy,Documentary,Musical'\n",
      " 'Documentary,News,Romance' 'Crime,Fantasy,Thriller'\n",
      " 'Animation,Fantasy,Music' 'Documentary,Drama,Fantasy' 'Game-Show'\n",
      " 'Adventure,Fantasy,History' 'Biography,History,Music' 'Drama,War,Western'\n",
      " 'Biography,Crime,Thriller' 'Crime,Family' 'Adventure,Music,Sci-Fi'\n",
      " 'Crime,Music,Thriller' 'Biography,Family,Sport' 'Family,History,War'\n",
      " 'Action,Animation,Documentary' 'Documentary,History,Musical'\n",
      " 'Animation,Comedy,History' 'Crime,Family,Horror'\n",
      " 'Adventure,Fantasy,Romance' 'Comedy,Family,History' 'Biography,Horror'\n",
      " 'Action,History,War' 'Animation,Documentary,History'\n",
      " 'Documentary,Mystery,Thriller' 'Family,Sci-Fi' 'History,Romance'\n",
      " 'Adventure,Romance,Sci-Fi' 'Crime,Horror,Sci-Fi' 'Action,Drama,Musical'\n",
      " 'Action,Musical,Sci-Fi' 'Action,Romance,Western' 'Family,Horror,Romance'\n",
      " 'Fantasy,History,Mystery' 'Drama,History,Western'\n",
      " 'Biography,Documentary,Horror' 'Adventure,Crime,Romance'\n",
      " 'Comedy,Music,War' 'Crime,Musical,Thriller' 'Comedy,Crime,Fantasy'\n",
      " 'Documentary,Horror,News' 'Action,Biography' 'Crime,Documentary,Family'\n",
      " 'Biography,Family,History' 'Documentary,News,Reality-TV'\n",
      " 'Adventure,Western' 'Horror,Western' 'Crime,Horror,Romance'\n",
      " 'Action,Documentary,News' 'Documentary,Horror,Romance' 'Sport,Thriller'\n",
      " 'Comedy,Sport,Western' 'Comedy,Crime,Musical' 'Comedy,Sci-Fi,Western'\n",
      " 'Action,Biography,Thriller' 'Action,Documentary,Thriller'\n",
      " 'Crime,Drama,News' 'Animation,Fantasy,Sci-Fi' 'Crime,Documentary,War'\n",
      " 'Reality-TV' 'Action,Comedy,War' 'Comedy,Sci-Fi,Sport'\n",
      " 'Documentary,Family,War' 'Comedy,History,Horror' 'History,Western'\n",
      " 'Animation,Horror,Mystery' 'Adventure,Family,Sport' 'Biography,War'\n",
      " 'History,Romance,Western' 'Biography,Family' 'Musical,Mystery,Thriller'\n",
      " 'Animation,History,Music' 'Biography,Documentary,Thriller'\n",
      " 'Adventure,Biography,Family' 'Animation,Horror,Romance'\n",
      " 'History,Thriller' 'Action,Animation,Music' 'Animation,Comedy,Horror'\n",
      " 'Crime,Thriller,Western' 'Biography,Comedy,Horror' 'Adult,Horror'\n",
      " 'Documentary,Fantasy,Mystery' 'Drama,Sci-Fi,Sport'\n",
      " 'Documentary,Family,Mystery' 'Comedy,History,Music'\n",
      " 'Action,Mystery,Western' 'Family,Fantasy,Music'\n",
      " 'Documentary,Family,Musical' 'Animation,Romance' 'Drama,Mystery,News'\n",
      " 'Action,Animation,Sport' 'Adventure,Romance,Thriller'\n",
      " 'Drama,Family,Western' 'Adventure,Comedy,War'\n",
      " 'Action,Animation,Biography' 'Comedy,Horror,War'\n",
      " 'Animation,Mystery,Thriller' 'History,War' 'Drama,Music,News'\n",
      " 'Comedy,Documentary,Fantasy' 'Animation,Drama,Music'\n",
      " 'Horror,Musical,Romance' 'Family,Music' 'Documentary,Horror,Mystery'\n",
      " 'Drama,Family,News' 'Fantasy,Horror,Western'\n",
      " 'Adventure,Documentary,Sci-Fi' 'Fantasy,History,Music'\n",
      " 'Comedy,Documentary,Sci-Fi' 'Animation,Biography,Fantasy'\n",
      " 'Comedy,Romance,Western' 'Comedy,Horror,Western'\n",
      " 'History,Musical,Romance' 'Fantasy,Horror,Romance'\n",
      " 'Comedy,Musical,Western' 'Documentary,News,Sport' 'Adventure,News'\n",
      " 'Crime,Documentary,Romance' 'History,Horror,Mystery'\n",
      " 'Action,Documentary,Horror' 'History,Sci-Fi,Thriller'\n",
      " 'Adventure,Documentary,Musical' 'Comedy,Reality-TV'\n",
      " 'Family,Fantasy,Mystery' 'Documentary,History,Reality-TV'\n",
      " 'Animation,Drama,Sport' 'Biography,Drama,Western' 'Animation,Western'\n",
      " 'Adventure,Music,Romance' 'Adventure,Family,Music' 'Family,Mystery,Sport'\n",
      " 'Documentary,Sport,War' 'Animation,Fantasy,History'\n",
      " 'Comedy,Musical,Sport' 'Crime,Documentary,Fantasy' 'Action,Crime,Western'\n",
      " 'Adventure,Animation,Horror' 'Comedy,History,News'\n",
      " 'Comedy,Drama,Reality-TV' 'Family,Western' 'Documentary,Mystery,Sci-Fi'\n",
      " 'Animation,Crime,Thriller' 'Animation,Family,Sci-Fi'\n",
      " 'Biography,Thriller,Western' 'Drama,Musical,Western' 'Crime,History'\n",
      " 'Animation,Crime,Mystery' 'History,Romance,War' 'Action,Mystery,Romance'\n",
      " 'Adventure,Documentary,Horror' 'Drama,Fantasy,War' 'History,Sport'\n",
      " 'Biography,Sport' 'Horror,Sci-Fi,War' 'Comedy,History,Romance'\n",
      " 'Biography,Crime' 'Animation,Sci-Fi,War' 'Animation,Documentary,Mystery'\n",
      " 'Biography,Fantasy' 'Comedy,Crime,Sci-Fi' 'Action,Adventure,Sport'\n",
      " 'Biography,Musical' 'Romance,Western' 'Documentary,Sport,Thriller'\n",
      " 'History,Musical' 'Adventure,Crime' 'Comedy,History,Musical'\n",
      " 'Documentary,Music,Reality-TV' 'Crime,Documentary,Sport'\n",
      " 'Adventure,Crime,Horror' 'Biography,Romance' 'Action,Family,Thriller'\n",
      " 'Comedy,Sport,Thriller' 'Action,Adult,Comedy' 'Adventure,Fantasy,War'\n",
      " 'Biography,Documentary,Reality-TV' 'Animation,Family,Mystery'\n",
      " 'Biography,History,War' 'Animation,Fantasy,Romance'\n",
      " 'Comedy,History,Sport' 'Biography,Music,Romance' 'Comedy,Fantasy,Sport'\n",
      " 'Adventure,Musical' 'Romance,Thriller,War' 'Sci-Fi,War'\n",
      " 'Action,Adventure,Musical' 'Crime,Mystery,Western' 'Family,War'\n",
      " 'Adventure,Animation,Crime' 'History,Mystery,Thriller'\n",
      " 'Musical,Mystery,Sci-Fi' 'Crime,Music' 'Adventure,History,Sci-Fi'\n",
      " 'Musical,Romance,Western' 'Comedy,Music,Thriller' 'Drama,Short'\n",
      " 'Documentary,Family,Sci-Fi'] \n",
      "\n",
      "unique values in column'averagerating', '\n",
      "':[ 7.   7.2  6.9  6.1  6.5  4.1  8.1  6.8  4.6  7.6  7.5  7.8  4.   8.8\n",
      "  1.9  6.7  6.6  5.9  7.1  7.4  3.9  5.5  5.1  7.9  6.2  6.3  5.   6.\n",
      "  5.6  7.3  4.9  6.4  3.3  5.7  8.6  4.8  4.5  4.2  8.7  4.7  5.2  8.3\n",
      "  9.1  3.4  5.8  5.4  8.5  3.2  3.6  8.   3.8  7.7  4.3  3.   5.3  3.7\n",
      "  3.5  9.3  8.9  9.   2.3  8.2  2.7  2.8  1.7  4.4  2.2  9.4  8.4  9.2\n",
      "  9.7  3.1 10.   9.8  2.6  2.5  1.4  2.1  2.4  2.9  1.8  1.6  2.   1.\n",
      "  1.2  1.5  1.3  1.1  9.5  9.6  9.9] \n",
      "\n",
      "unique values in column'numvotes', '\n",
      "':[   77    43  4517 ... 91349  4057 19632] \n",
      "\n",
      "unique values in column'runtime_minutes', '\n",
      "':[1.750e+02 1.140e+02 1.220e+02 9.100e+01 8.000e+01 8.300e+01 1.360e+02\n",
      " 1.000e+02 1.800e+02 8.900e+01 6.000e+01 1.600e+02 1.040e+02 1.200e+02\n",
      " 1.100e+02 1.340e+02 7.500e+01 4.400e+01 9.700e+01 5.900e+01 4.500e+01\n",
      " 8.600e+01 9.500e+01 1.030e+02 9.600e+01 8.800e+01 1.020e+02 1.090e+02\n",
      " 9.900e+01 8.400e+01 1.240e+02 9.800e+01 1.010e+02 1.370e+02 1.190e+02\n",
      " 1.080e+02 9.200e+01 2.800e+02 8.700e+01 1.320e+02 1.810e+02 1.440e+02\n",
      " 9.000e+01 1.070e+02 1.120e+02 9.300e+01 1.130e+02 1.170e+02 1.270e+02\n",
      " 1.500e+02 1.150e+02 1.050e+02 1.410e+02 1.280e+02 8.500e+01 5.600e+01\n",
      " 9.400e+01 7.600e+01 1.230e+02 1.630e+02 8.100e+01 1.160e+02 1.060e+02\n",
      " 1.290e+02 1.390e+02 7.700e+01 1.250e+02 8.200e+01 1.610e+02 7.800e+01\n",
      " 1.430e+02 1.300e+02 2.000e+02 1.180e+02 1.310e+02 1.690e+02 7.900e+01\n",
      " 6.700e+01 1.210e+02 7.400e+01 1.110e+02 1.330e+02 7.200e+01 1.460e+02\n",
      " 5.500e+01 1.400e+02 5.700e+01 6.500e+01 1.260e+02 7.000e+01 5.200e+01\n",
      " 5.000e+01 6.800e+01 1.580e+02 1.560e+02 6.900e+01 1.350e+02 1.510e+02\n",
      " 1.550e+02 1.740e+02 7.100e+01 4.900e+01 2.900e+01 2.760e+02 6.400e+01\n",
      " 1.520e+02 1.470e+02 7.300e+01 5.100e+01 1.450e+02 6.100e+01 5.400e+01\n",
      " 1.650e+02 2.080e+02 1.380e+02 4.600e+01 1.480e+02 1.420e+02 1.570e+02\n",
      " 2.720e+02 1.680e+02 6.300e+01 4.700e+01 5.300e+01 6.200e+01 5.800e+01\n",
      " 6.600e+01 1.640e+02 1.620e+02 1.700e+02 1.720e+02 1.530e+02 4.800e+01\n",
      " 1.540e+02 3.300e+01 3.100e+02 3.900e+01 4.200e+01 1.830e+02 4.000e+01\n",
      " 2.700e+01 4.100e+01 3.100e+01 4.300e+01 9.000e+00 1.490e+02 1.670e+02\n",
      " 2.800e+01 3.000e+01 1.590e+02 2.640e+02 3.700e+01 2.500e+02 2.780e+02\n",
      " 8.000e+00 3.560e+02 2.600e+01 3.300e+02 1.000e+01 1.780e+02 3.600e+01\n",
      " 3.400e+01 1.400e+01 3.640e+02 1.730e+02 1.850e+02 1.600e+01 3.500e+01\n",
      " 2.400e+01 2.100e+01 2.330e+02 1.100e+01 6.000e+00 1.660e+02 2.200e+01\n",
      " 2.560e+02 1.500e+01 2.700e+02 3.210e+02 1.860e+02 1.970e+02 2.310e+02\n",
      " 2.300e+02 1.440e+03 3.600e+02 1.710e+02 2.300e+01 2.010e+02 3.200e+01\n",
      " 2.180e+02 2.500e+01 2.440e+02 3.530e+02 2.540e+02 1.990e+02 1.930e+02\n",
      " 1.760e+02 3.000e+02 1.880e+02 1.300e+01 2.240e+02 3.240e+02 2.400e+02\n",
      " 1.840e+02 3.000e+00 7.240e+02 5.000e+00 7.000e+00 1.770e+02 3.800e+01\n",
      " 2.200e+02 2.910e+02 2.000e+01 1.910e+02 2.350e+02 2.100e+02 1.820e+02\n",
      " 1.440e+04 1.890e+02 1.960e+02 4.800e+02 2.480e+02 2.320e+02 4.160e+02\n",
      " 2.270e+02 1.980e+02 1.900e+02 3.380e+02 1.920e+02 4.760e+02 1.200e+01\n",
      " 1.790e+02 3.500e+02 3.190e+02 2.050e+02 2.020e+02 3.410e+02 2.150e+02\n",
      " 2.140e+02 3.200e+02 5.000e+02 2.090e+02 2.380e+02 1.800e+01 3.250e+02\n",
      " 3.340e+02 2.170e+02 2.580e+02 1.900e+01 2.650e+02 3.170e+02 4.850e+02\n",
      " 1.700e+01 2.040e+02 2.030e+02 2.770e+02 4.670e+02 7.200e+02 6.070e+02\n",
      " 3.790e+02 2.250e+02 3.040e+02 2.260e+02 4.000e+00 2.160e+02 1.950e+02\n",
      " 2.470e+02 4.500e+02 1.870e+02 2.850e+02 2.550e+02 2.060e+02 2.340e+02\n",
      " 2.190e+02 2.870e+02 7.460e+02 3.830e+02 2.120e+02 5.142e+04 2.370e+02\n",
      " 4.950e+02 1.100e+03 2.390e+02 6.010e+02 2.230e+02 2.600e+02 2.070e+02\n",
      " 8.080e+02 2.610e+02] \n",
      "\n",
      "unique values in column'main_genre', '\n",
      "':['Action' 'Biography' 'Drama' 'Comedy' 'Horror' 'Adventure' 'History'\n",
      " 'Documentary' 'Animation' 'Crime' 'Sci-Fi' 'Thriller' 'Fantasy' 'Mystery'\n",
      " 'Musical' 'Family' 'Western' 'Romance' 'Sport' 'Music' 'War' 'News'\n",
      " 'Game-Show' 'Reality-TV' 'Adult'] \n",
      "\n"
     ]
    }
   ],
   "source": [
    "for column in dataf6:\n",
    "    unique_values = dataf6[column].unique()\n",
    "    print(f\"unique values in column'{column}', '\\n':{unique_values}\",'\\n')"
   ]
  },
  {
   "cell_type": "code",
   "execution_count": 52,
   "metadata": {},
   "outputs": [],
   "source": [
    "# Now delete the genres column\n",
    "del dataf6[\"genres\"]"
   ]
  },
  {
   "cell_type": "code",
   "execution_count": 53,
   "metadata": {},
   "outputs": [
    {
     "name": "stdout",
     "output_type": "stream",
     "text": [
      "Empty DataFrame\n",
      "Columns: [averagerating, numvotes, runtime_minutes, main_genre]\n",
      "Index: []\n"
     ]
    }
   ],
   "source": [
    "# Check for negative values in 'runtime'\n",
    "negative_runtimes = dataf6[dataf6['runtime_minutes'] < 0]\n",
    "\n",
    "# Display the result\n",
    "print(negative_runtimes)\n"
   ]
  },
  {
   "cell_type": "code",
   "execution_count": null,
   "metadata": {},
   "outputs": [],
   "source": []
  },
  {
   "cell_type": "code",
   "execution_count": null,
   "metadata": {},
   "outputs": [],
   "source": []
  },
  {
>>>>>>> 800f0c325ecfb7193fdc7bea96aaaa54816eeaa2
   "cell_type": "code",
   "execution_count": null,
   "metadata": {},
   "outputs": [],
   "source": []
  }
 ],
 "metadata": {
  "kernelspec": {
<<<<<<< HEAD
   "display_name": "Python 3 (ipykernel)",
   "language": "python",
   "name": "python3"
  },
  "language_info": {
   "codemirror_mode": {
    "name": "ipython",
    "version": 3
   },
   "file_extension": ".py",
   "mimetype": "text/x-python",
   "name": "python",
   "nbconvert_exporter": "python",
   "pygments_lexer": "ipython3",
   "version": "3.10.14"
  }
 },
 "nbformat": 4,
 "nbformat_minor": 4
=======
   "display_name": "Python 3",
   "language": "python",
   "name": "python3"
  }
 },
 "nbformat": 4,
 "nbformat_minor": 2
>>>>>>> 800f0c325ecfb7193fdc7bea96aaaa54816eeaa2
}
