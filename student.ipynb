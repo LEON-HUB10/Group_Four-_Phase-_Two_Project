{
 "cells": [
  {
   "cell_type": "markdown",
   "metadata": {},
   "source": [
    "## Final Project Submission\n",
    "\n",
    "Please fill out:\n",
    "* Student name: \n",
    "* Student pace: self paced / part time / full time\n",
    "* Scheduled project review date/time: \n",
    "* Instructor name: \n",
    "* Blog post URL:\n"
   ]
  },
  {
   "cell_type": "markdown",
   "metadata": {},
   "source": [
    "# Business Understanding"
   ]
  },
  {
   "cell_type": "markdown",
   "metadata": {},
   "source": [
    "## Problem Statement\n",
    "CineNova Studios is exploring an expansion into the film industry and aims to produce high-grossing movies similar to those created by major film studios. However, the company currently lacks experience in this domain and needs strategic direction. To inform its entry, CineNova is seeking insights into current market trends—specifically, which types of movies are generating the highest revenue."
   ]
  },
  {
   "cell_type": "markdown",
   "metadata": {},
   "source": [
    "## Objectives\n",
    "i) Identify the most profitable movie genres currently dominating the box office.\n",
    "\n",
    "ii) Evaluate key factors (e.g. genre, budget, release date) that contribute to a film’s financial success.\n",
    "\n",
    "iii) Analyze audience reception and critical ratings to understand their influence on box office performance.\n",
    "\n",
    "iv) Quantify the relationship between production budgets and revenue to determine optimal investment levels.\n",
    "\n",
    "v) Assess market trends over recent years to identify emerging opportunities for new film content."
   ]
  },
  {
   "cell_type": "markdown",
   "metadata": {},
   "source": [
    "## Data Understanding\n",
    "A total of 5 datasets and a database were used in the project.\n",
    "bom.movie_gross.csv which has 3387 rows and 5 columns \n",
    "tmd.movies.csv which has 26,517 rows and 10 columns.\n",
    "tn.movie_budgets.csv which has 5782 rows and 6 columns.\n",
    "rt.movie_info.tsv which has 156o rows and 12 columns.\n",
    "rt.reviews.tsv which has 54432 rows and 8 columns\n",
    "im.db where genres, averagerating, numvotes were extracted from the database and converted to a dataframe with 73,856 rows and 3 columns"
   ]
  },
  {
   "cell_type": "markdown",
   "metadata": {},
   "source": [
    "## Data Cleaning"
   ]
  },
  {
   "cell_type": "code",
   "execution_count": 29,
   "metadata": {},
   "outputs": [
    {
     "name": "stdout",
     "output_type": "stream",
     "text": [
      "Intel MKL WARNING: Support of Intel(R) Streaming SIMD Extensions 4.2 (Intel(R) SSE4.2) enabled only processors has been deprecated. Intel oneAPI Math Kernel Library 2025.0 will require Intel(R) Advanced Vector Extensions (Intel(R) AVX) instructions.\n",
      "Intel MKL WARNING: Support of Intel(R) Streaming SIMD Extensions 4.2 (Intel(R) SSE4.2) enabled only processors has been deprecated. Intel oneAPI Math Kernel Library 2025.0 will require Intel(R) Advanced Vector Extensions (Intel(R) AVX) instructions.\n"
     ]
    }
   ],
   "source": [
    "# Your code here - remember to use markdown cells for comments as well!\n",
    "import pandas as pd\n",
    "import numpy as np\n",
    "import matplotlib.pyplot as plt\n",
    "import seaborn as sns\n",
    "import scipy.stats as stats\n"
   ]
  },
  {
   "cell_type": "code",
   "execution_count": 30,
   "metadata": {},
   "outputs": [
    {
     "data": {
      "text/html": [
       "<div>\n",
       "<style scoped>\n",
       "    .dataframe tbody tr th:only-of-type {\n",
       "        vertical-align: middle;\n",
       "    }\n",
       "\n",
       "    .dataframe tbody tr th {\n",
       "        vertical-align: top;\n",
       "    }\n",
       "\n",
       "    .dataframe thead th {\n",
       "        text-align: right;\n",
       "    }\n",
       "</style>\n",
       "<table border=\"1\" class=\"dataframe\">\n",
       "  <thead>\n",
       "    <tr style=\"text-align: right;\">\n",
       "      <th></th>\n",
       "      <th>title</th>\n",
       "      <th>studio</th>\n",
       "      <th>domestic_gross</th>\n",
       "      <th>foreign_gross</th>\n",
       "      <th>year</th>\n",
       "    </tr>\n",
       "  </thead>\n",
       "  <tbody>\n",
       "    <tr>\n",
       "      <th>0</th>\n",
       "      <td>Toy Story 3</td>\n",
       "      <td>BV</td>\n",
       "      <td>415000000.0</td>\n",
       "      <td>652000000</td>\n",
       "      <td>2010</td>\n",
       "    </tr>\n",
       "    <tr>\n",
       "      <th>1</th>\n",
       "      <td>Alice in Wonderland (2010)</td>\n",
       "      <td>BV</td>\n",
       "      <td>334200000.0</td>\n",
       "      <td>691300000</td>\n",
       "      <td>2010</td>\n",
       "    </tr>\n",
       "    <tr>\n",
       "      <th>2</th>\n",
       "      <td>Harry Potter and the Deathly Hallows Part 1</td>\n",
       "      <td>WB</td>\n",
       "      <td>296000000.0</td>\n",
       "      <td>664300000</td>\n",
       "      <td>2010</td>\n",
       "    </tr>\n",
       "    <tr>\n",
       "      <th>3</th>\n",
       "      <td>Inception</td>\n",
       "      <td>WB</td>\n",
       "      <td>292600000.0</td>\n",
       "      <td>535700000</td>\n",
       "      <td>2010</td>\n",
       "    </tr>\n",
       "    <tr>\n",
       "      <th>4</th>\n",
       "      <td>Shrek Forever After</td>\n",
       "      <td>P/DW</td>\n",
       "      <td>238700000.0</td>\n",
       "      <td>513900000</td>\n",
       "      <td>2010</td>\n",
       "    </tr>\n",
       "    <tr>\n",
       "      <th>...</th>\n",
       "      <td>...</td>\n",
       "      <td>...</td>\n",
       "      <td>...</td>\n",
       "      <td>...</td>\n",
       "      <td>...</td>\n",
       "    </tr>\n",
       "    <tr>\n",
       "      <th>3382</th>\n",
       "      <td>The Quake</td>\n",
       "      <td>Magn.</td>\n",
       "      <td>6200.0</td>\n",
       "      <td>NaN</td>\n",
       "      <td>2018</td>\n",
       "    </tr>\n",
       "    <tr>\n",
       "      <th>3383</th>\n",
       "      <td>Edward II (2018 re-release)</td>\n",
       "      <td>FM</td>\n",
       "      <td>4800.0</td>\n",
       "      <td>NaN</td>\n",
       "      <td>2018</td>\n",
       "    </tr>\n",
       "    <tr>\n",
       "      <th>3384</th>\n",
       "      <td>El Pacto</td>\n",
       "      <td>Sony</td>\n",
       "      <td>2500.0</td>\n",
       "      <td>NaN</td>\n",
       "      <td>2018</td>\n",
       "    </tr>\n",
       "    <tr>\n",
       "      <th>3385</th>\n",
       "      <td>The Swan</td>\n",
       "      <td>Synergetic</td>\n",
       "      <td>2400.0</td>\n",
       "      <td>NaN</td>\n",
       "      <td>2018</td>\n",
       "    </tr>\n",
       "    <tr>\n",
       "      <th>3386</th>\n",
       "      <td>An Actor Prepares</td>\n",
       "      <td>Grav.</td>\n",
       "      <td>1700.0</td>\n",
       "      <td>NaN</td>\n",
       "      <td>2018</td>\n",
       "    </tr>\n",
       "  </tbody>\n",
       "</table>\n",
       "<p>3387 rows × 5 columns</p>\n",
       "</div>"
      ],
      "text/plain": [
       "                                            title      studio  domestic_gross  \\\n",
       "0                                     Toy Story 3          BV     415000000.0   \n",
       "1                      Alice in Wonderland (2010)          BV     334200000.0   \n",
       "2     Harry Potter and the Deathly Hallows Part 1          WB     296000000.0   \n",
       "3                                       Inception          WB     292600000.0   \n",
       "4                             Shrek Forever After        P/DW     238700000.0   \n",
       "...                                           ...         ...             ...   \n",
       "3382                                    The Quake       Magn.          6200.0   \n",
       "3383                  Edward II (2018 re-release)          FM          4800.0   \n",
       "3384                                     El Pacto        Sony          2500.0   \n",
       "3385                                     The Swan  Synergetic          2400.0   \n",
       "3386                            An Actor Prepares       Grav.          1700.0   \n",
       "\n",
       "     foreign_gross  year  \n",
       "0        652000000  2010  \n",
       "1        691300000  2010  \n",
       "2        664300000  2010  \n",
       "3        535700000  2010  \n",
       "4        513900000  2010  \n",
       "...            ...   ...  \n",
       "3382           NaN  2018  \n",
       "3383           NaN  2018  \n",
       "3384           NaN  2018  \n",
       "3385           NaN  2018  \n",
       "3386           NaN  2018  \n",
       "\n",
       "[3387 rows x 5 columns]"
      ]
     },
     "execution_count": 30,
     "metadata": {},
     "output_type": "execute_result"
    }
   ],
   "source": [
    "data1 = pd.read_csv('zippedData/bom.movie_gross.csv.gz')\n",
    "data1"
   ]
  },
  {
   "cell_type": "code",
   "execution_count": 31,
   "metadata": {},
   "outputs": [
    {
     "data": {
      "text/plain": [
       "(3387, 5)"
      ]
     },
     "execution_count": 31,
     "metadata": {},
     "output_type": "execute_result"
    }
   ],
   "source": [
    "data1.shape"
   ]
  },
  {
   "cell_type": "code",
   "execution_count": 32,
   "metadata": {},
   "outputs": [
    {
     "data": {
      "text/html": [
       "<div>\n",
       "<style scoped>\n",
       "    .dataframe tbody tr th:only-of-type {\n",
       "        vertical-align: middle;\n",
       "    }\n",
       "\n",
       "    .dataframe tbody tr th {\n",
       "        vertical-align: top;\n",
       "    }\n",
       "\n",
       "    .dataframe thead th {\n",
       "        text-align: right;\n",
       "    }\n",
       "</style>\n",
       "<table border=\"1\" class=\"dataframe\">\n",
       "  <thead>\n",
       "    <tr style=\"text-align: right;\">\n",
       "      <th></th>\n",
       "      <th>domestic_gross</th>\n",
       "      <th>year</th>\n",
       "    </tr>\n",
       "  </thead>\n",
       "  <tbody>\n",
       "    <tr>\n",
       "      <th>count</th>\n",
       "      <td>3.359000e+03</td>\n",
       "      <td>3387.000000</td>\n",
       "    </tr>\n",
       "    <tr>\n",
       "      <th>mean</th>\n",
       "      <td>2.874585e+07</td>\n",
       "      <td>2013.958075</td>\n",
       "    </tr>\n",
       "    <tr>\n",
       "      <th>std</th>\n",
       "      <td>6.698250e+07</td>\n",
       "      <td>2.478141</td>\n",
       "    </tr>\n",
       "    <tr>\n",
       "      <th>min</th>\n",
       "      <td>1.000000e+02</td>\n",
       "      <td>2010.000000</td>\n",
       "    </tr>\n",
       "    <tr>\n",
       "      <th>25%</th>\n",
       "      <td>1.200000e+05</td>\n",
       "      <td>2012.000000</td>\n",
       "    </tr>\n",
       "    <tr>\n",
       "      <th>50%</th>\n",
       "      <td>1.400000e+06</td>\n",
       "      <td>2014.000000</td>\n",
       "    </tr>\n",
       "    <tr>\n",
       "      <th>75%</th>\n",
       "      <td>2.790000e+07</td>\n",
       "      <td>2016.000000</td>\n",
       "    </tr>\n",
       "    <tr>\n",
       "      <th>max</th>\n",
       "      <td>9.367000e+08</td>\n",
       "      <td>2018.000000</td>\n",
       "    </tr>\n",
       "  </tbody>\n",
       "</table>\n",
       "</div>"
      ],
      "text/plain": [
       "       domestic_gross         year\n",
       "count    3.359000e+03  3387.000000\n",
       "mean     2.874585e+07  2013.958075\n",
       "std      6.698250e+07     2.478141\n",
       "min      1.000000e+02  2010.000000\n",
       "25%      1.200000e+05  2012.000000\n",
       "50%      1.400000e+06  2014.000000\n",
       "75%      2.790000e+07  2016.000000\n",
       "max      9.367000e+08  2018.000000"
      ]
     },
     "execution_count": 32,
     "metadata": {},
     "output_type": "execute_result"
    }
   ],
   "source": [
    "data1.describe()"
   ]
  },
  {
   "cell_type": "code",
   "execution_count": 33,
   "metadata": {},
   "outputs": [
    {
     "name": "stdout",
     "output_type": "stream",
     "text": [
      "<class 'pandas.core.frame.DataFrame'>\n",
      "RangeIndex: 3387 entries, 0 to 3386\n",
      "Data columns (total 5 columns):\n",
      " #   Column          Non-Null Count  Dtype  \n",
      "---  ------          --------------  -----  \n",
      " 0   title           3387 non-null   object \n",
      " 1   studio          3382 non-null   object \n",
      " 2   domestic_gross  3359 non-null   float64\n",
      " 3   foreign_gross   2037 non-null   object \n",
      " 4   year            3387 non-null   int64  \n",
      "dtypes: float64(1), int64(1), object(3)\n",
      "memory usage: 132.4+ KB\n"
     ]
    }
   ],
   "source": [
    "data1.info()"
   ]
  },
  {
   "cell_type": "markdown",
   "metadata": {},
   "source": [
    "The data types are accurate for each of the variables except for foreign_gross"
   ]
  },
  {
   "cell_type": "code",
   "execution_count": 34,
   "metadata": {},
   "outputs": [],
   "source": [
    "# Create a dataframe copy to be used in data cleaning for the first data set\n",
    "dataf1=data1.copy(deep=True)"
   ]
  },
  {
   "cell_type": "code",
   "execution_count": 35,
   "metadata": {},
   "outputs": [],
   "source": [
    "# change data type\n",
    "dataf1['foreign_gross'] = dataf1['foreign_gross'].str.replace(',', '', regex=False).astype(float)"
   ]
  },
  {
   "cell_type": "code",
   "execution_count": 36,
   "metadata": {},
   "outputs": [
    {
     "name": "stdout",
     "output_type": "stream",
     "text": [
      "<class 'pandas.core.frame.DataFrame'>\n",
      "RangeIndex: 3387 entries, 0 to 3386\n",
      "Data columns (total 5 columns):\n",
      " #   Column          Non-Null Count  Dtype  \n",
      "---  ------          --------------  -----  \n",
      " 0   title           3387 non-null   object \n",
      " 1   studio          3382 non-null   object \n",
      " 2   domestic_gross  3359 non-null   float64\n",
      " 3   foreign_gross   2037 non-null   float64\n",
      " 4   year            3387 non-null   int64  \n",
      "dtypes: float64(2), int64(1), object(2)\n",
      "memory usage: 132.4+ KB\n"
     ]
    }
   ],
   "source": [
    "dataf1.info()"
   ]
  },
  {
   "cell_type": "code",
   "execution_count": 37,
   "metadata": {},
   "outputs": [
    {
     "name": "stdout",
     "output_type": "stream",
     "text": [
      "unique values in column'title', '\n",
      "':['Toy Story 3' 'Alice in Wonderland (2010)'\n",
      " 'Harry Potter and the Deathly Hallows Part 1' ... 'El Pacto' 'The Swan'\n",
      " 'An Actor Prepares'] \n",
      "\n",
      "unique values in column'studio', '\n",
      "':['BV' 'WB' 'P/DW' 'Sum.' 'Par.' 'Uni.' 'Fox' 'Wein.' 'Sony' 'FoxS' 'SGem'\n",
      " 'WB (NL)' 'LGF' 'MBox' 'CL' 'W/Dim.' 'CBS' 'Focus' 'MGM' 'Over.' 'Mira.'\n",
      " 'IFC' 'CJ' 'NM' 'SPC' 'ParV' 'Gold.' 'JS' 'RAtt.' 'Magn.' 'Free' '3D'\n",
      " 'UTV' 'Rela.' 'Zeit.' 'Anch.' 'PDA' 'Lorb.' 'App.' 'Drft.' 'Osci.' 'IW'\n",
      " 'Rog.' nan 'Eros' 'Relbig.' 'Viv.' 'Hann.' 'Strand' 'NGE' 'Scre.' 'Kino'\n",
      " 'Abr.' 'CZ' 'ATO' 'First' 'GK' 'FInd.' 'NFC' 'TFC' 'Pala.' 'Imag.' 'NAV'\n",
      " 'Arth.' 'CLS' 'Mont.' 'Olive' 'CGld' 'FOAK' 'IVP' 'Yash' 'ICir' 'FM'\n",
      " 'Vita.' 'WOW' 'Truly' 'Indic.' 'FD' 'Vari.' 'TriS' 'ORF' 'IM' 'Elev.'\n",
      " 'Cohen' 'NeoC' 'Jan.' 'MNE' 'Trib.' 'Rocket' 'OMNI/FSR' 'KKM' 'Argo.'\n",
      " 'SMod' 'Libre' 'FRun' 'WHE' 'P4' 'KC' 'SD' 'AM' 'MPFT' 'Icar.' 'AGF'\n",
      " 'A23' 'Da.' 'NYer' 'Rialto' 'DF' 'KL' 'ALP' 'LG/S' 'WGUSA' 'MPI' 'RTWC'\n",
      " 'FIP' 'RF' 'ArcEnt' 'PalUni' 'EpicPics' 'EOne' 'LD' 'AF' 'TFA' 'Myr.'\n",
      " 'BM&DH' 'SEG' 'PalT' 'Outs' 'OutF' 'BSM' 'WAMCR' 'PM&E' 'A24' 'Cdgm.'\n",
      " 'Distrib.' 'Imax' 'PH' 'HTR' 'ELS' 'PI' 'E1' 'TVC' 'FEF' 'EXCL' 'MSF'\n",
      " 'P/108' 'FCW' 'XL' 'Shout!' 'SV' 'CE' 'VPD' 'KE' 'Saban' 'CF&SR' 'Triu'\n",
      " 'DR' 'Crnth' 'Ampl.' 'CP' 'Proud' 'BGP' 'Abk.' 'DLA' 'B360' 'BWP' 'SEA'\n",
      " 'RME' 'KS' 'VE' 'LGP' 'EC' 'FUN' 'STX' 'AR' 'BG' 'PFR' 'BST' 'BH Tilt'\n",
      " 'BSC' 'U/P' 'UHE' 'CLF' 'FR' 'AaF' 'Orch.' 'Alc' 'PBS' 'SHO' 'Grav.'\n",
      " 'Gathr' 'Asp.' 'ADC' 'Rel.' 'SM' 'AZ' 'UEP' 'ITL' 'TA' 'MR' 'BBC'\n",
      " 'CFilms' 'Part.' 'FOR' 'TAFC' 'JBG' 'PNT' 'CineGalaxy' 'Fathom' 'Zee'\n",
      " 'Men.' 'YFG' 'Gaatri' 'Mon' 'Ghop' 'Cleopatra' 'Dreamwest' 'SDS' 'Linn'\n",
      " 'Electric' 'Jampa' 'HC' 'GrtIndia' 'Neon' 'ENTMP' 'Good Deed' 'ParC'\n",
      " 'Aviron' 'Annapurna' 'Amazon' 'Affirm' 'MOM' 'Orion' 'CFI' 'UTMW'\n",
      " 'Crimson' 'CAVU' 'EF' 'Arrow' 'Hiber' 'Studio 8' 'Global Road'\n",
      " 'Trafalgar' 'Greenwich' 'Spanglish' 'Blue Fox' 'RLJ' 'Swen' 'PackYourBag'\n",
      " 'Gaum.' 'Grindstone' 'Conglomerate' 'MUBI' 'Darin Southa' 'Super'\n",
      " 'CARUSEL' 'PDF' 'Synergetic'] \n",
      "\n",
      "unique values in column'domestic_gross', '\n",
      "':[4.150e+08 3.342e+08 2.960e+08 ... 2.070e+04 1.290e+04 2.400e+03] \n",
      "\n",
      "unique values in column'foreign_gross', '\n",
      "':[6.520e+08 6.913e+08 6.643e+08 ... 5.300e+05 2.560e+05 3.000e+04] \n",
      "\n",
      "unique values in column'year', '\n",
      "':[2010 2011 2012 2013 2014 2015 2016 2017 2018] \n",
      "\n"
     ]
    }
   ],
   "source": [
    "# Checking for unique values\n",
    "for column in dataf1:\n",
    "    unique_values = dataf1[column].unique()\n",
    "    print(f\"unique values in column'{column}', '\\n':{unique_values}\",'\\n')"
   ]
  },
  {
   "cell_type": "code",
   "execution_count": 38,
   "metadata": {},
   "outputs": [
    {
     "data": {
      "text/plain": [
       "(3387, 5)"
      ]
     },
     "execution_count": 38,
     "metadata": {},
     "output_type": "execute_result"
    }
   ],
   "source": [
    "# Drop Duplicates\n",
    "dataf1=dataf1.drop_duplicates()\n",
    "dataf1.shape"
   ]
  },
  {
   "cell_type": "markdown",
   "metadata": {},
   "source": [
    "The dataset's shape remains the same hence no duplicates were found."
   ]
  },
  {
   "cell_type": "code",
   "execution_count": 39,
   "metadata": {},
   "outputs": [
    {
     "data": {
      "text/plain": [
       "Index(['title', 'studio', 'domestic_gross', 'foreign_gross', 'year'], dtype='object')"
      ]
     },
     "execution_count": 39,
     "metadata": {},
     "output_type": "execute_result"
    }
   ],
   "source": [
    "# Check column names\n",
    "dataf1.columns\n"
   ]
  },
  {
   "cell_type": "code",
   "execution_count": 40,
   "metadata": {},
   "outputs": [
    {
     "data": {
      "text/plain": [
       "Index(['title', 'domestic_gross', 'foreign_gross', 'year'], dtype='object')"
      ]
     },
     "execution_count": 40,
     "metadata": {},
     "output_type": "execute_result"
    }
   ],
   "source": [
    "# Drop unneccessary columns\n",
    "del dataf1[\"studio\"]\n",
    "dataf1.columns"
   ]
  },
  {
   "cell_type": "code",
   "execution_count": 41,
   "metadata": {},
   "outputs": [
    {
     "data": {
      "text/plain": [
       "title                0\n",
       "domestic_gross      28\n",
       "foreign_gross     1350\n",
       "year                 0\n",
       "dtype: int64"
      ]
     },
     "execution_count": 41,
     "metadata": {},
     "output_type": "execute_result"
    }
   ],
   "source": [
    "# Check missing values\n",
    "dataf1.isna().sum()"
   ]
  },
  {
   "cell_type": "code",
<<<<<<< HEAD
   "execution_count": 14,
=======
   "execution_count": 42,
>>>>>>> 199658aace1f5a74b814925525fe9fbeac988378
   "metadata": {},
   "outputs": [
    {
     "data": {
<<<<<<< HEAD
      "image/png": "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",
=======
      "image/png": "iVBORw0KGgoAAAANSUhEUgAAAYIAAAEQCAYAAAC9VHPBAAAAOXRFWHRTb2Z0d2FyZQBNYXRwbG90bGliIHZlcnNpb24zLjcuNSwgaHR0cHM6Ly9tYXRwbG90bGliLm9yZy/xnp5ZAAAACXBIWXMAAAsTAAALEwEAmpwYAAAhAElEQVR4nO3de5hcdZ3n8fe3Ll3dSadz6wRCEki4CIIiSgQFZ0UdFdEVrw843nBwcBwvO866z4LsOg4z84zj7uqMDyqbRRbQWUTwstHBcVHxsosBg0PkJiEEMIm5NLl1SPpSVee7f5xT1ae7qrorSZ+q7lOf1/P006fOOVX1zelOffp3OeeYuyMiIp0r0+4CRESkvRQEIiIdTkEgItLhFAQiIh1OQSAi0uEUBCIiHW5WBoGZ3WRmu83s4Wl6vc+Z2SNm9piZfdHMbDpeV0RkNpiVQQDcDFw8HS9kZhcAFwJnAy8AXgq8cjpeW0RkNpiVQeDuPwf2xteZ2Slm9i9m9oCZ/cLMzmj25YBuoAsoAHlg17QWLCIyg83KIGhgLfAxdz8X+CTw5Wae5O6/BO4BdkRfP3T3xxKrUkRkhsm1u4DpYGa9wAXAHbHu/UK07W3AdXWett3dX29mpwLPB1ZE6+82sz9w918kXLaIyIyQiiAgbNnsd/dzJm5w928D357kuW8F1rv7cwBm9gPg5YCCQEQ6Qiq6htx9EHjKzN4JYKEXNfn03wGvNLOcmeUJB4rVNSQiHWNWBoGZ3Qb8EjjdzLaZ2ZXAu4ErzWwj8AhwaZMvdyfwJPAQsBHY6O7fS6BsEZEZyXQZahGRzjYrWwQiIjJ9Zt1gcX9/v69atardZYiIzCoPPPDAs+6+pN62WRcEq1atYsOGDe0uQ0RkVjGzZxptU9eQiEiHUxCIiHQ4BYGISIdTEIiIdDgFgYhIh1MQiIh0OAWBiEiHUxBIQ/dufpYndh1sdxkikrBZd0KZtIa780c33gfA0599Y5urEZEkqUUgdQ0cHGl3CSLSIgoCqWvn4HB1WVeoFUk3BYHUdXC4VF0eLgZtrEREkqYgkLoODhery4OxZRFJHwWB1DUYaxEMDikIRNIssSAws5Vmdo+ZPWpmj5jZv6uzj5nZF81ss5n9xsxeklQ9cmTiH/4HFAQiqZbk9NES8O/d/ddmNg94wMzudvdHY/u8ATgt+jof+Er0XdpsaLRcXT4cWxaR9EmsReDuO9z919HyQeAxYPmE3S4FbvXQemCBmS1LqiZp3kgpqLssIunTkjECM1sFvBi4b8Km5cDW2ONt1IYFZnaVmW0wsw0DAwOJ1SljRkpjrYDholoEImmWeBCYWS/wLeDP3X3waF7D3de6+xp3X7NkSd1bbso0i7cCFAQi6ZZoEJhZnjAE/sndv11nl+3AytjjFdE6abORYkDGwuVhdQ2JpFqSs4YM+CrwmLt/vsFu64D3RbOHXgYccPcdSdUkzRsplZnfkw+X1SIQSbUkZw1dCLwXeMjMHozWfQo4EcDdbwDuAi4BNgOHgQ8kWI8cgZFSwPyePPsOFzVYLJJyiQWBu/9fwKbYx4GPJFWDHL2RUkBvdw4zjRGIpJ3OLJa6RkplunNZCrmMWgQiKacgkLpGigGFfIbufFYtApGUUxBIXSOlgEIuS3dOQSCSdgoCqWukVKaQy1DIZ3QZapGUUxBIXWGLIEN3LjvuLGMRSR8FgdQ1Uoy6htQiEEk9BYHUNVIqU8hnKGiwWCT1FARSV6VrSNNHRdJPQSB1VWcNqUUgknoKAqlRKgeUAw8Hi/NZtQhEUk5BIDUqH/yFfIaubIZRBYFIqikIpEYlCLqyGbpyRrGsIBBJMwWB1Kh88OdzGfLZjIJAJOUUBFKjGgSZShB4mysSkSQpCKRGKfrgz2WNfDbDqFoEIqmmIJAapSD84M9lM3RlwzGC8NYRIpJGCgKpUekKymfCFoE7lAMFgUhaKQikxljXUIZ8LvwV0TiBSHopCKRGsdo1FLYIAI0TiKSYgkBqlKpdQ+EYAaAppCIppiCQGqVybYtAQSCSXgoCqVGMBobz8SAoaYxAJK0UBFKj2iLIjA0Wa4xAJL0UBFKjGDuhTGMEIumnIJAalRPK8tmMxghEOoCCQGpUzyPIaLBYpBMoCKRG9aJzsRaBbk4jkl4KAqlRCmJjBLnKGIFmDYmklYJAaoybNVSdPqoWgUhaKQikRvWiczqhTKQjKAikRvwy1LrWkEj6KQikRjE2a6grq6uPiqSdgkBqjJs1lNMJZSJppyCQGqWyYwZZnUcg0hEUBFKjGATVAKiOEWjWkEhqKQikRqns5DNhl5DGCETST0EgNUrlgFy1RaAxApG0UxBIjWLg1QDIZTNkTEEgkmaJBYGZ3WRmu83s4QbbLzKzA2b2YPT16aRqkSNTKgfkMmO/GvlsRucRiKRYLsHXvhm4Hrh1kn1+4e5vSrAGOQqlspOLWgQQjhPoDmUi6ZVYi8Ddfw7sTer1JTlh11CsRZDLqGtIJMXaPUbwcjPbaGY/MLOz2lyLRMKuobEWQT5rCgKRFEuya2gqvwZOcvfnzOwS4LvAafV2NLOrgKsATjzxxJYV2KmKZa/OGgKNEYikXdtaBO4+6O7PRct3AXkz62+w71p3X+Pua5YsWdLSOjtRKQiqs4YgGiPQeQQiqdW2IDCz483MouXzolr2tKseGVMq+4SuoYzuRyCSYol1DZnZbcBFQL+ZbQP+EsgDuPsNwDuAD5tZCRgCLnd3/dk5AxRjJ5QB5HMaIxBJs8SCwN3fNcX26wmnl8oMUwqc7rzGCEQ6RbtnDckMVO+EMrUIRNJLQSA1imXXYLFIB1EQSI1SMLFFoDECkTRTEEiNiZeYyGczuh+BSIopCKRG/MY0oEtMiKSdgkBqTDyPQGMEIummIJAaNecRaIxAJNUUBFJj4qwhTR8VSTcFgdSoe2MaDRaLpJaCQGoUAyefi40R5DRGIJJmCgKpUSoH5HUegUjHUBDIOEHgBE7NeQSlwAkCtQpE0khBIOMUg/Av//yEG9PEt4lIuigIZJxSNBYw8TwCQOMEIimlIJBxqkEw4TwCQDOHRFJKQSDjjHUNxcYIcpUWgYJAJI0UBDLOWNfQ2K9GpWtILQKRdFIQyDiVv/rjs4a6ohaB7lImkk4KAhmnFE0RnXhjGlCLQCStFAQyTqnSIsjUmT6qFoFIKikIZJzKFNF8va4htQhEUqmpIDCzb5vZG81MwZFypaBxi0BjBCLp1OwH+5eBPwKeMLPPmtnpCdYkbVSsnkegFoFIp2gqCNz9R+7+buAlwNPAj8zsXjP7gJnlkyxQWqsyRhC/xEQhpzOLRdKs6a4eM1sMXAF8EPhX4B8Jg+HuRCqTtqjMGopfYiKvWUMiqZZrZicz+w5wOvA14N+6+45o0+1mtiGp4qT1xs4jiJ1QpjOLRVKtqSAA/oe73xVfYWYFdx9x9zUJ1CVtUqoza0jXGhJJt2a7hv6mzrpfTmchMjPUmzWkM4tF0m3SFoGZHQ8sB3rM7MVA5c/EPmBOwrVJG4zWO49AYwQiqTZV19DrCQeIVwCfj60/CHwqoZqkjUqTjBGoRSCSTpMGgbvfAtxiZm9392+1qCZpo3o3pqleYkItApFUmqpr6D3u/nVglZn9xcTt7v75Ok+TWaxyP4JKKwDCUDBTi0AkrabqGpobfe9NuhCZGeq1CMyMfDajIBBJqam6hv579P2vWlOOtFu98wgACtmMBotFUqrZi859zsz6zCxvZj82swEze0/SxUnr1bsfAYS3q9QJZSLp1Ox5BK9z90HgTYTXGjoV+A9JFSXtU+9+BBBOIVWLQCSdmg2CShfSG4E73P1AQvVIm9W7HwFAPme66JxISjV7iYnvm9lvgSHgw2a2BBhOrixpl1IQkM0YZuODQC0CkfRq9jLUVwMXAGvcvQgcAi5NsjBpj1LZx80YqtCsIZH0arZFAHAG4fkE8efc2mhnM7uJcExht7u/oM52I7yU9SXAYeAKd//1EdQjCSiWfdy9CCoKObUIRNKq2ctQfw04BXgQKEernUmCALgZuH6Sfd4AnBZ9nQ98JfoubVQKgnF3J6vo0qwhkdRqtkWwBjjT3ZseLXT3n5vZqkl2uRS4NXrN9Wa2wMyWxe51IG1QLHvNjCGIuobUIhBJpWZnDT0MHD/N770c2Bp7vC1aV8PMrjKzDWa2YWBgYJrLkLhSOaBLLQKRjtJsi6AfeNTM7gdGKivd/c2JVDWBu68F1gKsWbNGcxgTVCwHNWcVQ9giGFGLQCSVmg2CzyTw3tuBlbHHK6J10kbFwGvOIQC1CETSrNnpoz8jPKM4Hy3/CjjWGT7rgPdZ6GXAAY0PtF+xFNSdNdSl6aMiqdXsrKE/Aa4CFhHOHloO3AC8ZpLn3AZcBPSb2TbgL4E8gLvfANxFOHV0M+H00Q8c7T9Cpk8pqD99VCeUiaRXs11DHwHOA+4DcPcnzGzpZE9w93dNsd2j15UZJBwjqHNCmS4xIZJazc4aGnH30cqD6KQyfSqk0GjDrqGsWgQiKdVsEPzMzD5FeBP71wJ3AN9Lrixpl1Lg1ZvVx+VzpjECkZRqNgiuBgaAh4APEfbv/6ekipL2adQ1VLkxzRGcUygis0RTYwTuHpjZd4HvurvO6EqxhtcaymcBGCkFdEfLIpIOk7YIoqmdnzGzZ4HHgceju5N9ujXlSasVy0Hd8wgK0c3sdVKZSPpM1TX0CeBC4KXuvsjdFxFeGO5CM/tE4tVJy5XK9QeLK62AkWK5ZpuIzG5TBcF7gXe5+1OVFe6+BXgP8L4kC5P2aHTRuUoQDBfVIhBJm6mCIO/uz05cGY0T5JMpSdpptBzQlZusa0gtApG0mSoIRo9ym8xSU3UNqUUgkj5TzRp6kZkN1llvQHcC9UibNe4aCtcNq0UgkjqTBoG7a55ghymWA/J1u4Yqg8VqEYikTbMnlEmHKJYD8pO1CDRrSCR1FARSVQ6cwJl8jEBdQyKpoyCQqsqNZ+peYqIya0hdQyKpoyCQqkoQ1LvonFoEIumlIJCqUnS/gXqXmOjOafqoSFopCKRqrGuo3kXndEKZSFopCKSqGIQtgnpdQ5UxArUIRNJHQSBVxVLjwWIzo5DL6KJzIimkIJCqUhAGQb3poxC2CnQZapH0URBI1Wip8WAxQE9XlqFRtQhE0kZBIFWVweJGLYK5XTkOq2tIJHUUBFJV6RqqN2sIYE4hy+GRUitLEpEWUBBI1VRdQ3PyOQ6NKghE0kZBIFWVFkG96aMQtQg0RiCSOgoCqZrshDIIxwgOqWtIJHUUBFJVnOQSEwBzutQiEEkjBYFUTTlrqKAWgUgaKQikaqogqLQI3L2VZYlIwhQEUlXpGspl6ncNzS3kKAXOaFlnF4ukiYJAqqr3I8g1bhEAOrtYJGUUBFI1dj+CxrOGAA4pCERSRUEgVZPdqhLC8wgAnV0skjIKAqmqjBE0OqFsbiFsERxUEIikioJAqqotggaDxX3deQAODBVbVpOIJE9BIFWlKAiyDYJgwZwwCAYVBCKpoiCQqpFyQCGXwax+EMzvUYtAJI0UBFI1UgwaTh2FsSDYf1hBIJImiQaBmV1sZo+b2WYzu7rO9ivMbMDMHoy+PphkPTK5kVJAIZdtuD2fzTC3K6sWgUjK5JJ6YTPLAl8CXgtsA35lZuvc/dEJu97u7h9Nqg5p3mgp7BqazPyevFoEIimTZIvgPGCzu29x91HgG8ClCb6fHKORUnnqIJjTpRaBSMokGQTLga2xx9uidRO93cx+Y2Z3mtnKei9kZleZ2QYz2zAwMJBErULYNTTZGAHA/J4cB4ZGW1SRiLRCuweLvwescvezgbuBW+rt5O5r3X2Nu69ZsmRJSwvsJCOlgEK+8RgBwMI5XexT15BIqiQZBNuB+F/4K6J1Ve6+x91Hooc3AucmWI9MYbSJrqGl8wrsHhxuUUUi0gpJBsGvgNPMbLWZdQGXA+viO5jZstjDNwOPJViPTGGkicHipX3dDA6XGC7qwnMiaZFYELh7Cfgo8EPCD/hvuvsjZnadmb052u3jZvaImW0EPg5ckVQ9MrWRYhNBMK8AwO7BkUn3E5HZI7HpowDufhdw14R1n44tXwNck2QN0rzR8uTnEQAc19cNwK6Dw5y4eE4ryhKRhLV7sFhmkJFSecpZQ0v7whbBLo0TiKSGgkCqmukaOj5qEew8oCAQSQsFgVQ1M1g8vydPX3eOZ/YcblFVIpI0BYFUjTZxHoGZsap/Lk/vOdSiqkQkaQoCAcDdwzGCBncni1u1WEEgkiYKAgGgFDiBM2XXEMCqxXPYvm9I5xKIpISCQICwWwigkJ/6V+KMZX0EDpt2HUy6LBFpAQWBAOFAMTS+cX3cC5fPB+Ch7QcSrUlEWkNBIEB4DgEw5WAxwIqFPczvyfOwgkAkFRQEAsBwMeoaamKMwMx4wfI+Ht4+mHRZItICCgIB4PBoCYA5Xc1ddeTsFQv47c5BhkY1YCwy2ykIBIDD0Qf6nK6pu4YAzlu9iGLZeeCZfUmWJSItoCAQ4MiD4KWrFpHNGOu37EmyLBFpAQWBADB0hF1DvYUcL1w+X0EgkgIKAgGOvEUA8LKTF/Pg1v3V8QURmZ0UBALAoaMIggtOWUwpcO7bsjepskSkBRQEAox1DfUcQRCct3oRPfks9zy+O6myRKQFFAQCxLuGmr9pXXc+y4WnLuYnv92NuydVmogkTEEgQBgEhVyGbMaO6HkXnb6UbfuGeHJAVyMVma0UBAKEJ5QdyfhAxUWnLwHgp+oeEpm1FAQChC2CI+kWqlixcA7PO66Xux/dlUBVItIKCgIBYGi0fFQtAoBLXriM+5/eq/sYi8xSCgIBwumjRxsEbzr7BNzhnx/aMc1ViUgrKAgEgOeGi/R2H3nXEMCpS3s5c1kf6zb+fpqrEpFWUBAIAPsPF1kwp+uon/+2lyxn49b9ukeByCykIBAA9g8VWdCTP+rnv3PNSuZ0Zbnp/z01jVWJSCsoCIQgcPYfHmXBnKMPgvk9eS576Ur+94O/Z/Pu56axOhFJmoJAeG60ROCw8Bi6hgA++qpT6cln+evvP6ozjUVmEQWBcOBwEQj/qj8Wi3sLfPJ1z+Nnmwb42vpnpqM0EWkBBYGwPwqCYxksrnj/Bau46PQl/M33H+PeJ5895tcTkeQpCIT9Q6MAxzRGUGFm/MNl53DS4jl86NYHeGyHbnAvMtMpCIS9h8IgWDgNQQBhy+KWPz6PuYUc7/3q/WzadXBaXldEkqEgELbvHwJg2fyeaXvNExb08PUPnk/G4F1r1/Po79UyEJmpFATCtn1DLJrbxdzC0Z1Z3MipS3u5/UMvJ5/N8Pav3Mt3/nWbZhOJzEAKAmHr3sOsWDh9rYG41f1zWffRC3nh8vl84vaNvO8mdRWJzDQKAmH7viFWLpyT2Osv7evmf/3J+fznN53Jxq37ed0Xfs57v3of/3TfM/x25yCjpSCx9xaRqU1vX4DMOqOlgG37hnjdWccn+j65bIYrX7Gat754OV9f/wzfuP93XPudhwHIZoxVi+dw2tJ5nHVCH686YylnndCH2ZHdLU1Ejo6CoMM9vvMgo+WAFyzva8n7LZrbxcdfcxofe/WpPLPnMBu37eeJXc/xxO6DbNp9kB8+upP/dvcmjusr8OozjuOCUxZz/Pxuls4rcPz8bgq5o7tUtog0lmgQmNnFwD8CWeBGd//shO0F4FbgXGAPcJm7P51kTTLezzaFt5g8b9Wilr6vmbGqfy6r+ueOW7/nuRHueXyAHz+2i3UPbue2+39X3ZYxWLloDqv753Jyfy+rl8zllP65rFw0h/7eAj1HeT8FkU6XWBCYWRb4EvBaYBvwKzNb5+6Pxna7Etjn7qea2eXA3wOXJVWTjLfzwDBfX/87zl+9iKV93e0uBwgvU/GOc1fwjnNXMFIqs2XgELsPjrB7cJitew/z5LOH2DJwiPVb9jBcHD+2MK+QY8m8Av3zCszvyWNAvHdpuBgwVCwzXCwzNFomY0ZfT46+7jx9PXn6unPR9zzzunN05TIMDhU5MFRitFxmSW/YKlk2v4dlC7rp686TzRi5jCXejeXujJYDimXHCLvTshkja0Ymoy40OTZJtgjOAza7+xYAM/sGcCkQD4JLgc9Ey3cC15uZeQJzDH+2aYC//n741pWXH/cmPu7buGmOY+viu3vtujpV13svr75Xndeo+1qT7de4znrb4oUcLpYp5DJcc8nzawufAQq5LM9f1sfzl9VuCwJn5+AwWwYO8fsDQwwcHAm/ngu/b917uLpv5TB0d2XpzmVYNLeLngVZyoFzcLjEzsFhNu0+yOBQiYPDRYI6P8dsxijX2xDbXvlgNoNM7HvGwhZQ/HvGLAoqI5Op7BeuC9wZLQWMVL/KFMuN39sMcpnw+ZXvZpCJljOx98yMWz+2rCiZHS576Uo++AcnT/vrJhkEy4GtscfbgPMb7ePuJTM7ACwGxl2kxsyuAq4COPHEE4+qmN5CjtOPmxd70XHfKu8zbl38jzybsM+4547bzyZ5buP9xv9BeXSv0ajO6rbqvzlcmFvI8pYXL+eUJb01+850mYxxwoIeTlgwvdNe3Z1Do2UGh4qMlIJqKyFrxt7Do+w8MMyOA8PsODDEoZEypXJAKXDKgVMMAtzDkAo8DHr38IM98Mpy+B7hujCkxj0m/BkWchkK+Qxd2SxduQxduQyFXIZ8NvzZlQKnXHbKHr535asUjH/PsfcJtwfRNneix+GXzA79vYVEXndWDBa7+1pgLcCaNWuO6rf23JMWcu5JC6e1LkkfM6O3kKO3zsl1/b0F+nsLvGD5/DZUJpKcJM8j2A6sjD1eEa2ru4+Z5YD5hIPGIiLSIkkGwa+A08xstZl1AZcD6ybssw54f7T8DuAnSYwPiIhIY4l1DUV9/h8Ffkg4ffQmd3/EzK4DNrj7OuCrwNfMbDOwlzAsRESkhRIdI3D3u4C7Jqz7dGx5GHhnkjWIiMjkdK0hEZEOpyAQEelwCgIRkQ6nIBAR6XA222ZrmtkA8EwTu/Yz4QzlGUg1HruZXh/M/Bpnen2gGqfDSe6+pN6GWRcEzTKzDe6+pt11TEY1HruZXh/M/Bpnen2gGpOmriERkQ6nIBAR6XBpDoK17S6gCarx2M30+mDm1zjT6wPVmKjUjhGIiEhz0twiEBGRJigIREQ63KwOAjNbZGZ3m9kT0fe6d54xs7KZPRh9rYutX21m95nZZjO7PbpcdstrNLNzzOyXZvaImf3GzC6LbbvZzJ6K1X/ONNV1sZk9Hv3br66zvRAdk83RMVoV23ZNtP5xM3v9dNRzlDX+hZk9Gh2zH5vZSbFtdX/mLa7vCjMbiNXxwdi290e/E0+Y2fsnPreFNX4hVt8mM9sf29aKY3iTme02s4cbbDcz+2JU/2/M7CWxba06hlPV+O6otofM7F4ze1Fs29PR+gfNbENSNR4zd5+1X8DngKuj5auBv2+w33MN1n8TuDxavgH4cDtqBJ4HnBYtnwDsABZEj28G3jHNNWWBJ4GTgS5gI3DmhH3+DLghWr4cuD1aPjPavwCsjl4nm8Bxa6bGVwFzouUPV2qc7Gfe4vquAK6v89xFwJbo+8JoeWE7apyw/8cILxffkmMYvce/AV4CPNxg+yXADwjv4Pky4L5WHsMma7yg8t7AGyo1Ro+fBvqTPo7H+jWrWwTApcAt0fItwFuafaKFN/V9NXDn0Tz/CExZo7tvcvcnouXfA7uBumcATpPzgM3uvsXdR4FvRHXGxeu+E3hNdMwuBb7h7iPu/hSwOXq9ltfo7ve4e+Uu9esJ74LXKs0cw0ZeD9zt7nvdfR9wN3DxDKjxXcBtCdTRkLv/nPBeJI1cCtzqofXAAjNbRuuO4ZQ1uvu9UQ3Q+t/DaTHbg+A4d98RLe8EjmuwX7eZbTCz9Wb2lmjdYmC/u5eix9uA5W2sEQAzO4/wr7cnY6v/Nmp6fsHMpuPu1cuBrbHH9f7t1X2iY3SA8Jg189zpcKTvcyXhX44V9X7m7ajv7dHP7k4zq9y6dcYdw6hbbTXwk9jqpI9hMxr9G1p1DI/UxN9DB/6PmT1gZle1qaYpzfib15vZj4Dj62y6Nv7A3d3MGs2FPcndt5vZycBPzOwhwg+2mVQj0V86XwPe7+5BtPoawgDpIpyn/B+B66aj7rQws/cAa4BXxlbX/Mzd/cn6r5CY7wG3ufuImX2IsIX16hbX0KzLgTvdvRxbNxOO4axhZq8iDIJXxFa/IjqGS4G7zey3UQtjRpnxQeDuf9hom5ntMrNl7r4j+hDd3eA1tkfft5jZT4EXA98ibGbmor94VwDb21WjmfUB/wxcGzWBK69daU2MmNn/BD55NDVOsB1YGXtc799e2WebmeWA+cCeJp87HZp6HzP7Q8LAfaW7j1TWN/iZT+eH2JT1ufue2MMbCceLKs+9aMJzfzqNtVUcyc/qcuAj8RUtOIbNaPRvaNUxbIqZnU34M35D/OceO4a7zew7hN11My4I2j5IcSxfwH9h/EDs5+rssxAoRMv9wBNEA2bAHYwfLP6zNtXYBfwY+PM625ZF3w34B+Cz01BTjnBwbTVjg4hnTdjnI4wfLP5mtHwW4weLt5DMYHEzNVY+mE5r9mfe4vqWxZbfCqyPlhcBT0V1LoyWF7XjGEb7nUE4qGmtPIax91pF44HYNzJ+sPj+Vh7DJms8kXCs7IIJ6+cC82LL9wIXJ1XjMf372l3AMf5wFkcfoE8AP6r8IhB2E9wYLV8APBT9J3gIuDL2/JOB+6Mf4h2VX/w21PgeoAg8GPs6J9r2k6juh4GvA73TVNclwKbog/TaaN11wJuj5e7omGyOjtHJsedeGz3vccK/gJL6+U5V44+AXbFjtm6qn3mL6/s74JGojnuAM2LP/ePo2G4GPtCuYxg9/gwT/sBo4TG8jXCWXJGwn/9K4E+BP422G/ClqP6HgDVtOIZT1XgjsC/2e7ghWn9ydPw2Rr8H1yZV47F+6RITIiIdbrbPGhIRkWOkIBAR6XAKAhGRDqcgEBHpcAoCEZEZbKqL3k3Y96ToAoy/MbOfmllTl7tQEIiIzGw30/x1lP4r4bWZziacJvx3zTxJQSAiMoN5nYvemdkpZvYv0TWMfmFmZ0SbzmTselH30OSFEBUEIiKzz1rgY+5+LuFlZ74crd8IvC1afiswz8wWT/ViM/5aQyIiMsbMegnP/L4jvDI8EF7yBcJQuN7MriC8ptF2oDzxNSZSEIiIzC4ZwkvonzNxg4f3M3kbVAPj7e6+v5kXFBGRWcLdB4GnzOydUL2d54ui5X4zq3yuXwPc1MxrKghERGYwM7sN+CVwupltM7MrgXcDV5pZ5YJ2lUHhi4DHzWwT4U2w/rap99BF50REOptaBCIiHU5BICLS4RQEIiIdTkEgItLhFAQiIh1OQSAi0uEUBCIiHe7/Az1ar2BsK+pJAAAAAElFTkSuQmCC\n",
>>>>>>> 199658aace1f5a74b814925525fe9fbeac988378
      "text/plain": [
       "<Figure size 640x480 with 1 Axes>"
      ]
     },
     "metadata": {},
     "output_type": "display_data"
    }
   ],
   "source": [
    "# Fill missing values with mean or median\n",
    "dataf1['domestic_gross'].plot.kde()\n",
    "plt.show()"
   ]
  },
  {
   "cell_type": "code",
<<<<<<< HEAD
   "execution_count": 15,
=======
   "execution_count": 43,
>>>>>>> 199658aace1f5a74b814925525fe9fbeac988378
   "metadata": {},
   "outputs": [
    {
     "data": {
<<<<<<< HEAD
      "image/png": "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",
=======
      "image/png": "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\n",
>>>>>>> 199658aace1f5a74b814925525fe9fbeac988378
      "text/plain": [
       "<Figure size 640x480 with 1 Axes>"
      ]
     },
     "metadata": {},
     "output_type": "display_data"
    }
   ],
   "source": [
    "dataf1['foreign_gross'].plot.kde()\n",
    "plt.show()"
   ]
  },
  {
   "cell_type": "markdown",
   "metadata": {},
   "source": [
    "Distriution is skewed for both column, so replace the null values with the median. "
   ]
  },
  {
   "cell_type": "code",
<<<<<<< HEAD
   "execution_count": 16,
=======
   "execution_count": 44,
>>>>>>> 199658aace1f5a74b814925525fe9fbeac988378
   "metadata": {},
   "outputs": [],
   "source": [
    "dataf1[['domestic_gross', 'foreign_gross']] = dataf1[['domestic_gross', 'foreign_gross']].fillna(dataf1[['domestic_gross', 'foreign_gross']].median())\n"
   ]
  },
  {
   "cell_type": "code",
<<<<<<< HEAD
   "execution_count": 17,
=======
   "execution_count": 45,
>>>>>>> 199658aace1f5a74b814925525fe9fbeac988378
   "metadata": {},
   "outputs": [
    {
     "data": {
      "text/plain": [
       "title             0\n",
       "domestic_gross    0\n",
       "foreign_gross     0\n",
       "year              0\n",
       "dtype: int64"
      ]
     },
<<<<<<< HEAD
     "execution_count": 17,
=======
     "execution_count": 45,
>>>>>>> 199658aace1f5a74b814925525fe9fbeac988378
     "metadata": {},
     "output_type": "execute_result"
    }
   ],
   "source": [
    "dataf1.isna().sum()"
   ]
  },
  {
   "cell_type": "code",
   "execution_count": null,
   "metadata": {},
   "outputs": [],
   "source": []
  },
  {
   "cell_type": "code",
<<<<<<< HEAD
   "execution_count": 18,
=======
   "execution_count": 46,
>>>>>>> 199658aace1f5a74b814925525fe9fbeac988378
   "metadata": {},
   "outputs": [
    {
     "data": {
      "text/html": [
       "<div>\n",
       "<style scoped>\n",
       "    .dataframe tbody tr th:only-of-type {\n",
       "        vertical-align: middle;\n",
       "    }\n",
       "\n",
       "    .dataframe tbody tr th {\n",
       "        vertical-align: top;\n",
       "    }\n",
       "\n",
       "    .dataframe thead th {\n",
       "        text-align: right;\n",
       "    }\n",
       "</style>\n",
       "<table border=\"1\" class=\"dataframe\">\n",
       "  <thead>\n",
       "    <tr style=\"text-align: right;\">\n",
       "      <th></th>\n",
       "      <th>Unnamed: 0</th>\n",
       "      <th>genre_ids</th>\n",
       "      <th>id</th>\n",
       "      <th>original_language</th>\n",
       "      <th>original_title</th>\n",
       "      <th>popularity</th>\n",
       "      <th>release_date</th>\n",
       "      <th>title</th>\n",
       "      <th>vote_average</th>\n",
       "      <th>vote_count</th>\n",
       "    </tr>\n",
       "  </thead>\n",
       "  <tbody>\n",
       "    <tr>\n",
       "      <th>0</th>\n",
       "      <td>0</td>\n",
       "      <td>[12, 14, 10751]</td>\n",
       "      <td>12444</td>\n",
       "      <td>en</td>\n",
       "      <td>Harry Potter and the Deathly Hallows: Part 1</td>\n",
       "      <td>33.533</td>\n",
       "      <td>2010-11-19</td>\n",
       "      <td>Harry Potter and the Deathly Hallows: Part 1</td>\n",
       "      <td>7.7</td>\n",
       "      <td>10788</td>\n",
       "    </tr>\n",
       "    <tr>\n",
       "      <th>1</th>\n",
       "      <td>1</td>\n",
       "      <td>[14, 12, 16, 10751]</td>\n",
       "      <td>10191</td>\n",
       "      <td>en</td>\n",
       "      <td>How to Train Your Dragon</td>\n",
       "      <td>28.734</td>\n",
       "      <td>2010-03-26</td>\n",
       "      <td>How to Train Your Dragon</td>\n",
       "      <td>7.7</td>\n",
       "      <td>7610</td>\n",
       "    </tr>\n",
       "    <tr>\n",
       "      <th>2</th>\n",
       "      <td>2</td>\n",
       "      <td>[12, 28, 878]</td>\n",
       "      <td>10138</td>\n",
       "      <td>en</td>\n",
       "      <td>Iron Man 2</td>\n",
       "      <td>28.515</td>\n",
       "      <td>2010-05-07</td>\n",
       "      <td>Iron Man 2</td>\n",
       "      <td>6.8</td>\n",
       "      <td>12368</td>\n",
       "    </tr>\n",
       "    <tr>\n",
       "      <th>3</th>\n",
       "      <td>3</td>\n",
       "      <td>[16, 35, 10751]</td>\n",
       "      <td>862</td>\n",
       "      <td>en</td>\n",
       "      <td>Toy Story</td>\n",
       "      <td>28.005</td>\n",
       "      <td>1995-11-22</td>\n",
       "      <td>Toy Story</td>\n",
       "      <td>7.9</td>\n",
       "      <td>10174</td>\n",
       "    </tr>\n",
       "    <tr>\n",
       "      <th>4</th>\n",
       "      <td>4</td>\n",
       "      <td>[28, 878, 12]</td>\n",
       "      <td>27205</td>\n",
       "      <td>en</td>\n",
       "      <td>Inception</td>\n",
       "      <td>27.920</td>\n",
       "      <td>2010-07-16</td>\n",
       "      <td>Inception</td>\n",
       "      <td>8.3</td>\n",
       "      <td>22186</td>\n",
       "    </tr>\n",
       "  </tbody>\n",
       "</table>\n",
       "</div>"
      ],
      "text/plain": [
       "   Unnamed: 0            genre_ids     id original_language  \\\n",
       "0           0      [12, 14, 10751]  12444                en   \n",
       "1           1  [14, 12, 16, 10751]  10191                en   \n",
       "2           2        [12, 28, 878]  10138                en   \n",
       "3           3      [16, 35, 10751]    862                en   \n",
       "4           4        [28, 878, 12]  27205                en   \n",
       "\n",
       "                                 original_title  popularity release_date  \\\n",
       "0  Harry Potter and the Deathly Hallows: Part 1      33.533   2010-11-19   \n",
       "1                      How to Train Your Dragon      28.734   2010-03-26   \n",
       "2                                    Iron Man 2      28.515   2010-05-07   \n",
       "3                                     Toy Story      28.005   1995-11-22   \n",
       "4                                     Inception      27.920   2010-07-16   \n",
       "\n",
       "                                          title  vote_average  vote_count  \n",
       "0  Harry Potter and the Deathly Hallows: Part 1           7.7       10788  \n",
       "1                      How to Train Your Dragon           7.7        7610  \n",
       "2                                    Iron Man 2           6.8       12368  \n",
       "3                                     Toy Story           7.9       10174  \n",
       "4                                     Inception           8.3       22186  "
      ]
     },
<<<<<<< HEAD
     "execution_count": 18,
=======
     "execution_count": 46,
>>>>>>> 199658aace1f5a74b814925525fe9fbeac988378
     "metadata": {},
     "output_type": "execute_result"
    }
   ],
   "source": [
    "data2 = pd.read_csv('zippedData/tmdb.movies.csv.gz')\n",
    "data2.head()"
   ]
  },
  {
   "cell_type": "code",
<<<<<<< HEAD
   "execution_count": null,
   "metadata": {},
   "outputs": [],
   "source": []
  },
  {
   "cell_type": "code",
   "execution_count": 19,
=======
   "execution_count": 47,
>>>>>>> 199658aace1f5a74b814925525fe9fbeac988378
   "metadata": {},
   "outputs": [
    {
     "data": {
      "text/html": [
       "<div>\n",
       "<style scoped>\n",
       "    .dataframe tbody tr th:only-of-type {\n",
       "        vertical-align: middle;\n",
       "    }\n",
       "\n",
       "    .dataframe tbody tr th {\n",
       "        vertical-align: top;\n",
       "    }\n",
       "\n",
       "    .dataframe thead th {\n",
       "        text-align: right;\n",
       "    }\n",
       "</style>\n",
       "<table border=\"1\" class=\"dataframe\">\n",
       "  <thead>\n",
       "    <tr style=\"text-align: right;\">\n",
       "      <th></th>\n",
       "      <th>Unnamed: 0</th>\n",
       "      <th>genre_ids</th>\n",
       "      <th>id</th>\n",
       "      <th>original_language</th>\n",
       "      <th>original_title</th>\n",
       "      <th>popularity</th>\n",
       "      <th>release_date</th>\n",
       "      <th>title</th>\n",
       "      <th>vote_average</th>\n",
       "      <th>vote_count</th>\n",
       "    </tr>\n",
       "  </thead>\n",
       "  <tbody>\n",
       "    <tr>\n",
       "      <th>0</th>\n",
       "      <td>0</td>\n",
       "      <td>[12, 14, 10751]</td>\n",
       "      <td>12444</td>\n",
       "      <td>en</td>\n",
       "      <td>Harry Potter and the Deathly Hallows: Part 1</td>\n",
       "      <td>33.533</td>\n",
       "      <td>2010-11-19</td>\n",
       "      <td>Harry Potter and the Deathly Hallows: Part 1</td>\n",
       "      <td>7.7</td>\n",
       "      <td>10788</td>\n",
       "    </tr>\n",
       "    <tr>\n",
       "      <th>1</th>\n",
       "      <td>1</td>\n",
       "      <td>[14, 12, 16, 10751]</td>\n",
       "      <td>10191</td>\n",
       "      <td>en</td>\n",
       "      <td>How to Train Your Dragon</td>\n",
       "      <td>28.734</td>\n",
       "      <td>2010-03-26</td>\n",
       "      <td>How to Train Your Dragon</td>\n",
       "      <td>7.7</td>\n",
       "      <td>7610</td>\n",
       "    </tr>\n",
       "    <tr>\n",
       "      <th>2</th>\n",
       "      <td>2</td>\n",
       "      <td>[12, 28, 878]</td>\n",
       "      <td>10138</td>\n",
       "      <td>en</td>\n",
       "      <td>Iron Man 2</td>\n",
       "      <td>28.515</td>\n",
       "      <td>2010-05-07</td>\n",
       "      <td>Iron Man 2</td>\n",
       "      <td>6.8</td>\n",
       "      <td>12368</td>\n",
       "    </tr>\n",
       "    <tr>\n",
       "      <th>3</th>\n",
       "      <td>3</td>\n",
       "      <td>[16, 35, 10751]</td>\n",
       "      <td>862</td>\n",
       "      <td>en</td>\n",
       "      <td>Toy Story</td>\n",
       "      <td>28.005</td>\n",
       "      <td>1995-11-22</td>\n",
       "      <td>Toy Story</td>\n",
       "      <td>7.9</td>\n",
       "      <td>10174</td>\n",
       "    </tr>\n",
       "    <tr>\n",
       "      <th>4</th>\n",
       "      <td>4</td>\n",
       "      <td>[28, 878, 12]</td>\n",
       "      <td>27205</td>\n",
       "      <td>en</td>\n",
       "      <td>Inception</td>\n",
       "      <td>27.920</td>\n",
       "      <td>2010-07-16</td>\n",
       "      <td>Inception</td>\n",
       "      <td>8.3</td>\n",
       "      <td>22186</td>\n",
       "    </tr>\n",
       "  </tbody>\n",
       "</table>\n",
       "</div>"
      ],
      "text/plain": [
       "   Unnamed: 0            genre_ids     id original_language  \\\n",
       "0           0      [12, 14, 10751]  12444                en   \n",
       "1           1  [14, 12, 16, 10751]  10191                en   \n",
       "2           2        [12, 28, 878]  10138                en   \n",
       "3           3      [16, 35, 10751]    862                en   \n",
       "4           4        [28, 878, 12]  27205                en   \n",
       "\n",
       "                                 original_title  popularity release_date  \\\n",
       "0  Harry Potter and the Deathly Hallows: Part 1      33.533   2010-11-19   \n",
       "1                      How to Train Your Dragon      28.734   2010-03-26   \n",
       "2                                    Iron Man 2      28.515   2010-05-07   \n",
       "3                                     Toy Story      28.005   1995-11-22   \n",
       "4                                     Inception      27.920   2010-07-16   \n",
       "\n",
       "                                          title  vote_average  vote_count  \n",
       "0  Harry Potter and the Deathly Hallows: Part 1           7.7       10788  \n",
       "1                      How to Train Your Dragon           7.7        7610  \n",
       "2                                    Iron Man 2           6.8       12368  \n",
       "3                                     Toy Story           7.9       10174  \n",
       "4                                     Inception           8.3       22186  "
      ]
     },
<<<<<<< HEAD
     "execution_count": 19,
=======
     "execution_count": 47,
>>>>>>> 199658aace1f5a74b814925525fe9fbeac988378
     "metadata": {},
     "output_type": "execute_result"
    }
   ],
   "source": [
    "# Creating a copy of the data to be used in cleaning\n",
    "dataf2=data2.copy(deep=True)\n",
    "dataf2.head()"
   ]
  },
  {
   "cell_type": "code",
<<<<<<< HEAD
   "execution_count": 20,
=======
   "execution_count": 48,
>>>>>>> 199658aace1f5a74b814925525fe9fbeac988378
   "metadata": {},
   "outputs": [
    {
     "data": {
      "text/plain": [
       "(26517, 10)"
      ]
     },
<<<<<<< HEAD
     "execution_count": 20,
=======
     "execution_count": 48,
>>>>>>> 199658aace1f5a74b814925525fe9fbeac988378
     "metadata": {},
     "output_type": "execute_result"
    }
   ],
   "source": [
    "dataf2.shape"
   ]
  },
  {
   "cell_type": "code",
<<<<<<< HEAD
   "execution_count": 21,
=======
   "execution_count": 49,
>>>>>>> 199658aace1f5a74b814925525fe9fbeac988378
   "metadata": {},
   "outputs": [
    {
     "name": "stdout",
     "output_type": "stream",
     "text": [
      "<class 'pandas.core.frame.DataFrame'>\n",
      "RangeIndex: 26517 entries, 0 to 26516\n",
      "Data columns (total 10 columns):\n",
      " #   Column             Non-Null Count  Dtype  \n",
      "---  ------             --------------  -----  \n",
      " 0   Unnamed: 0         26517 non-null  int64  \n",
      " 1   genre_ids          26517 non-null  object \n",
      " 2   id                 26517 non-null  int64  \n",
      " 3   original_language  26517 non-null  object \n",
      " 4   original_title     26517 non-null  object \n",
      " 5   popularity         26517 non-null  float64\n",
      " 6   release_date       26517 non-null  object \n",
      " 7   title              26517 non-null  object \n",
      " 8   vote_average       26517 non-null  float64\n",
      " 9   vote_count         26517 non-null  int64  \n",
      "dtypes: float64(2), int64(3), object(5)\n",
      "memory usage: 2.0+ MB\n"
     ]
    }
   ],
   "source": [
    "dataf2.info()"
   ]
  },
  {
   "cell_type": "markdown",
   "metadata": {},
   "source": [
    "Observation : The data contains 26517 rows and 10 columns of which 5 are numeric columns and 5 are categorical columns"
   ]
  },
  {
   "cell_type": "code",
   "execution_count": 50,
   "metadata": {},
   "outputs": [
    {
     "data": {
      "text/html": [
       "<div>\n",
       "<style scoped>\n",
       "    .dataframe tbody tr th:only-of-type {\n",
       "        vertical-align: middle;\n",
       "    }\n",
       "\n",
       "    .dataframe tbody tr th {\n",
       "        vertical-align: top;\n",
       "    }\n",
       "\n",
       "    .dataframe thead th {\n",
       "        text-align: right;\n",
       "    }\n",
       "</style>\n",
       "<table border=\"1\" class=\"dataframe\">\n",
       "  <thead>\n",
       "    <tr style=\"text-align: right;\">\n",
       "      <th></th>\n",
       "      <th>count</th>\n",
       "      <th>mean</th>\n",
       "      <th>std</th>\n",
       "      <th>min</th>\n",
       "      <th>25%</th>\n",
       "      <th>50%</th>\n",
       "      <th>75%</th>\n",
       "      <th>max</th>\n",
       "    </tr>\n",
       "  </thead>\n",
       "  <tbody>\n",
       "    <tr>\n",
       "      <th>Unnamed: 0</th>\n",
       "      <td>26517.0</td>\n",
       "      <td>13258.000000</td>\n",
       "      <td>7654.942880</td>\n",
       "      <td>0.0</td>\n",
       "      <td>6629.0</td>\n",
       "      <td>13258.000</td>\n",
       "      <td>19887.000</td>\n",
       "      <td>26516.000</td>\n",
       "    </tr>\n",
       "    <tr>\n",
       "      <th>id</th>\n",
       "      <td>26517.0</td>\n",
       "      <td>295050.153260</td>\n",
       "      <td>153661.615648</td>\n",
       "      <td>27.0</td>\n",
       "      <td>157851.0</td>\n",
       "      <td>309581.000</td>\n",
       "      <td>419542.000</td>\n",
       "      <td>608444.000</td>\n",
       "    </tr>\n",
       "    <tr>\n",
       "      <th>popularity</th>\n",
       "      <td>26517.0</td>\n",
       "      <td>3.130912</td>\n",
       "      <td>4.355229</td>\n",
       "      <td>0.6</td>\n",
       "      <td>0.6</td>\n",
       "      <td>1.374</td>\n",
       "      <td>3.694</td>\n",
       "      <td>80.773</td>\n",
       "    </tr>\n",
       "    <tr>\n",
       "      <th>vote_average</th>\n",
       "      <td>26517.0</td>\n",
       "      <td>5.991281</td>\n",
       "      <td>1.852946</td>\n",
       "      <td>0.0</td>\n",
       "      <td>5.0</td>\n",
       "      <td>6.000</td>\n",
       "      <td>7.000</td>\n",
       "      <td>10.000</td>\n",
       "    </tr>\n",
       "    <tr>\n",
       "      <th>vote_count</th>\n",
       "      <td>26517.0</td>\n",
       "      <td>194.224837</td>\n",
       "      <td>960.961095</td>\n",
       "      <td>1.0</td>\n",
       "      <td>2.0</td>\n",
       "      <td>5.000</td>\n",
       "      <td>28.000</td>\n",
       "      <td>22186.000</td>\n",
       "    </tr>\n",
       "  </tbody>\n",
       "</table>\n",
       "</div>"
      ],
      "text/plain": [
       "                count           mean            std   min       25%  \\\n",
       "Unnamed: 0    26517.0   13258.000000    7654.942880   0.0    6629.0   \n",
       "id            26517.0  295050.153260  153661.615648  27.0  157851.0   \n",
       "popularity    26517.0       3.130912       4.355229   0.6       0.6   \n",
       "vote_average  26517.0       5.991281       1.852946   0.0       5.0   \n",
       "vote_count    26517.0     194.224837     960.961095   1.0       2.0   \n",
       "\n",
       "                     50%         75%         max  \n",
       "Unnamed: 0     13258.000   19887.000   26516.000  \n",
       "id            309581.000  419542.000  608444.000  \n",
       "popularity         1.374       3.694      80.773  \n",
       "vote_average       6.000       7.000      10.000  \n",
       "vote_count         5.000      28.000   22186.000  "
      ]
     },
     "execution_count": 50,
     "metadata": {},
     "output_type": "execute_result"
    }
   ],
   "source": [
    "dataf2.describe().T"
   ]
  },
  {
   "cell_type": "code",
   "execution_count": 51,
   "metadata": {},
   "outputs": [
    {
     "data": {
      "text/html": [
       "<div>\n",
       "<style scoped>\n",
       "    .dataframe tbody tr th:only-of-type {\n",
       "        vertical-align: middle;\n",
       "    }\n",
       "\n",
       "    .dataframe tbody tr th {\n",
       "        vertical-align: top;\n",
       "    }\n",
       "\n",
       "    .dataframe thead th {\n",
       "        text-align: right;\n",
       "    }\n",
       "</style>\n",
       "<table border=\"1\" class=\"dataframe\">\n",
       "  <thead>\n",
       "    <tr style=\"text-align: right;\">\n",
       "      <th></th>\n",
       "      <th>count</th>\n",
       "      <th>unique</th>\n",
       "      <th>top</th>\n",
       "      <th>freq</th>\n",
       "    </tr>\n",
       "  </thead>\n",
       "  <tbody>\n",
       "    <tr>\n",
       "      <th>genre_ids</th>\n",
       "      <td>26517</td>\n",
       "      <td>2477</td>\n",
       "      <td>[99]</td>\n",
       "      <td>3700</td>\n",
       "    </tr>\n",
       "    <tr>\n",
       "      <th>original_language</th>\n",
       "      <td>26517</td>\n",
       "      <td>76</td>\n",
       "      <td>en</td>\n",
       "      <td>23291</td>\n",
       "    </tr>\n",
       "    <tr>\n",
       "      <th>original_title</th>\n",
       "      <td>26517</td>\n",
       "      <td>24835</td>\n",
       "      <td>Eden</td>\n",
       "      <td>7</td>\n",
       "    </tr>\n",
       "    <tr>\n",
       "      <th>release_date</th>\n",
       "      <td>26517</td>\n",
       "      <td>3433</td>\n",
       "      <td>2010-01-01</td>\n",
       "      <td>269</td>\n",
       "    </tr>\n",
       "    <tr>\n",
       "      <th>title</th>\n",
       "      <td>26517</td>\n",
       "      <td>24688</td>\n",
       "      <td>Eden</td>\n",
       "      <td>7</td>\n",
       "    </tr>\n",
       "  </tbody>\n",
       "</table>\n",
       "</div>"
      ],
      "text/plain": [
       "                   count unique         top   freq\n",
       "genre_ids          26517   2477        [99]   3700\n",
       "original_language  26517     76          en  23291\n",
       "original_title     26517  24835        Eden      7\n",
       "release_date       26517   3433  2010-01-01    269\n",
       "title              26517  24688        Eden      7"
      ]
     },
     "execution_count": 51,
     "metadata": {},
     "output_type": "execute_result"
    }
   ],
   "source": [
    "dataf2.describe(include = 'O').T"
   ]
  },
  {
   "cell_type": "code",
   "execution_count": 52,
   "metadata": {},
   "outputs": [
    {
     "name": "stdout",
     "output_type": "stream",
     "text": [
      "unique values in column'Unnamed: 0' are : '\n",
      "':[    0     1     2 ... 26514 26515 26516] \n",
      "\n",
      "unique values in column'genre_ids' are : '\n",
      "':['[12, 14, 10751]' '[14, 12, 16, 10751]' '[12, 28, 878]' ...\n",
      " '[18, 14, 27, 878, 10749, 53]' '[16, 27, 9648]' '[10751, 12, 28]'] \n",
      "\n",
      "unique values in column'id' are : '\n",
      "':[ 12444  10191  10138 ... 381231 366854 309885] \n",
      "\n",
      "unique values in column'original_language' are : '\n",
      "':['en' 'nl' 'es' 'ja' 'sv' 'de' 'fr' 'cn' 'it' 'ru' 'zh' 'hi' 'no' 'ko'\n",
      " 'da' 'fi' 'pl' 'te' 'hu' 'tr' 'pt' 'he' 'fa' 'th' 'cs' 'et' 'tl' 'lt'\n",
      " 'xx' 'bs' 'ar' 'is' 'el' 'mr' 'hr' 'ro' 'sr' 'uk' 'nb' 'hz' 'ca' 'bg'\n",
      " 'sl' 'lv' 'si' 'ab' 'ta' 'bo' 'id' 'sq' 'bn' 'gu' 'lo' 'ne' 'kk' 'hy'\n",
      " 'ps' 'kn' 'vi' 'ku' 'ka' 'ml' 'ur' 'mi' 'eu' 'sn' 'cy' 'ha' 'ky' 'yi'\n",
      " 'pa' 'xh' 'cr' 'sw' 'af' 'dz'] \n",
      "\n",
      "unique values in column'original_title' are : '\n",
      "':['Harry Potter and the Deathly Hallows: Part 1' 'How to Train Your Dragon'\n",
      " 'Iron Man 2' ... 'The Last One' 'Trailer Made' 'The Church'] \n",
      "\n",
      "unique values in column'popularity' are : '\n",
      "':[33.533 28.734 28.515 ...  0.612  0.609  0.607] \n",
      "\n",
      "unique values in column'release_date' are : '\n",
      "':['2010-11-19' '2010-03-26' '2010-05-07' ... '2018-05-08' '2018-08-02'\n",
      " '2018-05-26'] \n",
      "\n",
      "unique values in column'title' are : '\n",
      "':['Harry Potter and the Deathly Hallows: Part 1' 'How to Train Your Dragon'\n",
      " 'Iron Man 2' ... 'The Last One' 'Trailer Made' 'The Church'] \n",
      "\n",
      "unique values in column'vote_average' are : '\n",
      "':[ 7.7  6.8  7.9  8.3  6.1  7.4  7.2  7.5  6.6  6.   6.7  4.5  7.3  8.1\n",
      "  6.3  4.6  5.7  5.9  8.2  6.2  6.4  7.6  6.5  7.1  5.6  5.3  7.   5.8\n",
      "  4.9  5.1  5.5  6.9  5.4  7.8  4.7  4.1  4.8  3.2  8.   3.7  5.2  2.7\n",
      "  4.4  5.   2.9  2.   4.   4.2  3.9  4.3  3.5  3.8  3.6  3.4  3.3  3.1\n",
      "  3.   2.5  2.6 10.   2.2  1.7  2.8  2.3  1.6  1.8  2.4  1.5  8.6  1.9\n",
      "  9.   8.7  0.5  1.   8.4  2.1  8.8  1.3  9.5  8.5  9.8  0.   8.9  9.3\n",
      "  9.4  9.2  0.8  1.2  1.4  9.1  9.7] \n",
      "\n",
      "unique values in column'vote_count' are : '\n",
      "':[10788  7610 12368 ...  1163   285   721] \n",
      "\n"
     ]
    }
   ],
   "source": [
    "# Checking for unique values\n",
    "for column in dataf2:\n",
    "    unique_values = dataf2[column].unique()\n",
    "    print(f\"unique values in column'{column}' are : '\\n':{unique_values}\",'\\n')"
   ]
  },
  {
   "cell_type": "code",
   "execution_count": 53,
   "metadata": {},
   "outputs": [
    {
     "data": {
      "text/plain": [
       "0"
      ]
     },
     "execution_count": 53,
     "metadata": {},
     "output_type": "execute_result"
    }
   ],
   "source": [
    "# checking for Duplicates\n",
    "dataf2.duplicated().sum()\n"
   ]
  },
  {
   "cell_type": "markdown",
   "metadata": {},
   "source": [
    "Observation : There are no duplicated rows in the dataset"
   ]
  },
  {
   "cell_type": "code",
   "execution_count": 54,
   "metadata": {},
   "outputs": [
    {
     "data": {
      "text/plain": [
       "Index(['Unnamed: 0', 'genre_ids', 'id', 'original_language', 'original_title',\n",
       "       'popularity', 'release_date', 'title', 'vote_average', 'vote_count'],\n",
       "      dtype='object')"
      ]
     },
     "execution_count": 54,
     "metadata": {},
     "output_type": "execute_result"
    }
   ],
   "source": [
    "#Checking the column names\n",
    "dataf2.columns"
   ]
  },
  {
   "cell_type": "code",
   "execution_count": 55,
   "metadata": {},
   "outputs": [
    {
     "data": {
      "text/html": [
       "<div>\n",
       "<style scoped>\n",
       "    .dataframe tbody tr th:only-of-type {\n",
       "        vertical-align: middle;\n",
       "    }\n",
       "\n",
       "    .dataframe tbody tr th {\n",
       "        vertical-align: top;\n",
       "    }\n",
       "\n",
       "    .dataframe thead th {\n",
       "        text-align: right;\n",
       "    }\n",
       "</style>\n",
       "<table border=\"1\" class=\"dataframe\">\n",
       "  <thead>\n",
       "    <tr style=\"text-align: right;\">\n",
       "      <th></th>\n",
       "      <th>popularity</th>\n",
       "      <th>release_date</th>\n",
       "      <th>title</th>\n",
       "      <th>vote_average</th>\n",
       "      <th>vote_count</th>\n",
       "    </tr>\n",
       "  </thead>\n",
       "  <tbody>\n",
       "    <tr>\n",
       "      <th>0</th>\n",
       "      <td>33.533</td>\n",
       "      <td>2010-11-19</td>\n",
       "      <td>Harry Potter and the Deathly Hallows: Part 1</td>\n",
       "      <td>7.7</td>\n",
       "      <td>10788</td>\n",
       "    </tr>\n",
       "    <tr>\n",
       "      <th>1</th>\n",
       "      <td>28.734</td>\n",
       "      <td>2010-03-26</td>\n",
       "      <td>How to Train Your Dragon</td>\n",
       "      <td>7.7</td>\n",
       "      <td>7610</td>\n",
       "    </tr>\n",
       "    <tr>\n",
       "      <th>2</th>\n",
       "      <td>28.515</td>\n",
       "      <td>2010-05-07</td>\n",
       "      <td>Iron Man 2</td>\n",
       "      <td>6.8</td>\n",
       "      <td>12368</td>\n",
       "    </tr>\n",
       "    <tr>\n",
       "      <th>3</th>\n",
       "      <td>28.005</td>\n",
       "      <td>1995-11-22</td>\n",
       "      <td>Toy Story</td>\n",
       "      <td>7.9</td>\n",
       "      <td>10174</td>\n",
       "    </tr>\n",
       "    <tr>\n",
       "      <th>4</th>\n",
       "      <td>27.920</td>\n",
       "      <td>2010-07-16</td>\n",
       "      <td>Inception</td>\n",
       "      <td>8.3</td>\n",
       "      <td>22186</td>\n",
       "    </tr>\n",
       "  </tbody>\n",
       "</table>\n",
       "</div>"
      ],
      "text/plain": [
       "   popularity release_date                                         title  \\\n",
       "0      33.533   2010-11-19  Harry Potter and the Deathly Hallows: Part 1   \n",
       "1      28.734   2010-03-26                      How to Train Your Dragon   \n",
       "2      28.515   2010-05-07                                    Iron Man 2   \n",
       "3      28.005   1995-11-22                                     Toy Story   \n",
       "4      27.920   2010-07-16                                     Inception   \n",
       "\n",
       "   vote_average  vote_count  \n",
       "0           7.7       10788  \n",
       "1           7.7        7610  \n",
       "2           6.8       12368  \n",
       "3           7.9       10174  \n",
       "4           8.3       22186  "
      ]
     },
     "execution_count": 55,
     "metadata": {},
     "output_type": "execute_result"
    }
   ],
   "source": [
    "#Dropping unnecessary columns\n",
    "dataf2.drop(['Unnamed: 0','genre_ids', 'id','original_language','original_title' ], axis = 1, inplace = True)\n",
    "dataf2.head()"
   ]
  },
  {
   "cell_type": "markdown",
   "metadata": {},
   "source": [
    "### Data3 Data cleaning"
   ]
  },
  {
   "cell_type": "code",
<<<<<<< HEAD
   "execution_count": 22,
=======
   "execution_count": 56,
   "metadata": {},
   "outputs": [
    {
     "data": {
      "text/plain": [
       "popularity      0\n",
       "release_date    0\n",
       "title           0\n",
       "vote_average    0\n",
       "vote_count      0\n",
       "dtype: int64"
      ]
     },
     "execution_count": 56,
     "metadata": {},
     "output_type": "execute_result"
    }
   ],
   "source": [
    "# Checking for missing values\n",
    "dataf2.isna().sum()"
   ]
  },
  {
   "cell_type": "markdown",
   "metadata": {},
   "source": [
    "Observation : There are no missing values in the dataset"
   ]
  },
  {
   "cell_type": "code",
   "execution_count": null,
   "metadata": {},
   "outputs": [],
   "source": []
  },
  {
   "cell_type": "code",
   "execution_count": null,
   "metadata": {},
   "outputs": [],
   "source": []
  },
  {
   "cell_type": "code",
   "execution_count": 30,
>>>>>>> 199658aace1f5a74b814925525fe9fbeac988378
   "metadata": {},
   "outputs": [
    {
     "data": {
      "text/html": [
       "<div>\n",
       "<style scoped>\n",
       "    .dataframe tbody tr th:only-of-type {\n",
       "        vertical-align: middle;\n",
       "    }\n",
       "\n",
       "    .dataframe tbody tr th {\n",
       "        vertical-align: top;\n",
       "    }\n",
       "\n",
       "    .dataframe thead th {\n",
       "        text-align: right;\n",
       "    }\n",
       "</style>\n",
       "<table border=\"1\" class=\"dataframe\">\n",
       "  <thead>\n",
       "    <tr style=\"text-align: right;\">\n",
       "      <th></th>\n",
       "      <th>id</th>\n",
       "      <th>release_date</th>\n",
       "      <th>movie</th>\n",
       "      <th>production_budget</th>\n",
       "      <th>domestic_gross</th>\n",
       "      <th>worldwide_gross</th>\n",
       "    </tr>\n",
       "  </thead>\n",
       "  <tbody>\n",
       "    <tr>\n",
       "      <th>0</th>\n",
       "      <td>1</td>\n",
       "      <td>Dec 18, 2009</td>\n",
       "      <td>Avatar</td>\n",
       "      <td>$425,000,000</td>\n",
       "      <td>$760,507,625</td>\n",
       "      <td>$2,776,345,279</td>\n",
       "    </tr>\n",
       "    <tr>\n",
       "      <th>1</th>\n",
       "      <td>2</td>\n",
       "      <td>May 20, 2011</td>\n",
       "      <td>Pirates of the Caribbean: On Stranger Tides</td>\n",
       "      <td>$410,600,000</td>\n",
       "      <td>$241,063,875</td>\n",
       "      <td>$1,045,663,875</td>\n",
       "    </tr>\n",
       "    <tr>\n",
       "      <th>2</th>\n",
       "      <td>3</td>\n",
       "      <td>Jun 7, 2019</td>\n",
       "      <td>Dark Phoenix</td>\n",
       "      <td>$350,000,000</td>\n",
       "      <td>$42,762,350</td>\n",
       "      <td>$149,762,350</td>\n",
       "    </tr>\n",
       "    <tr>\n",
       "      <th>3</th>\n",
       "      <td>4</td>\n",
       "      <td>May 1, 2015</td>\n",
       "      <td>Avengers: Age of Ultron</td>\n",
       "      <td>$330,600,000</td>\n",
       "      <td>$459,005,868</td>\n",
       "      <td>$1,403,013,963</td>\n",
       "    </tr>\n",
       "    <tr>\n",
       "      <th>4</th>\n",
       "      <td>5</td>\n",
       "      <td>Dec 15, 2017</td>\n",
       "      <td>Star Wars Ep. VIII: The Last Jedi</td>\n",
       "      <td>$317,000,000</td>\n",
       "      <td>$620,181,382</td>\n",
       "      <td>$1,316,721,747</td>\n",
       "    </tr>\n",
       "    <tr>\n",
       "      <th>...</th>\n",
       "      <td>...</td>\n",
       "      <td>...</td>\n",
       "      <td>...</td>\n",
       "      <td>...</td>\n",
       "      <td>...</td>\n",
       "      <td>...</td>\n",
       "    </tr>\n",
       "    <tr>\n",
       "      <th>5777</th>\n",
       "      <td>78</td>\n",
       "      <td>Dec 31, 2018</td>\n",
       "      <td>Red 11</td>\n",
       "      <td>$7,000</td>\n",
       "      <td>$0</td>\n",
       "      <td>$0</td>\n",
       "    </tr>\n",
       "    <tr>\n",
       "      <th>5778</th>\n",
       "      <td>79</td>\n",
       "      <td>Apr 2, 1999</td>\n",
       "      <td>Following</td>\n",
       "      <td>$6,000</td>\n",
       "      <td>$48,482</td>\n",
       "      <td>$240,495</td>\n",
       "    </tr>\n",
       "    <tr>\n",
       "      <th>5779</th>\n",
       "      <td>80</td>\n",
       "      <td>Jul 13, 2005</td>\n",
       "      <td>Return to the Land of Wonders</td>\n",
       "      <td>$5,000</td>\n",
       "      <td>$1,338</td>\n",
       "      <td>$1,338</td>\n",
       "    </tr>\n",
       "    <tr>\n",
       "      <th>5780</th>\n",
       "      <td>81</td>\n",
       "      <td>Sep 29, 2015</td>\n",
       "      <td>A Plague So Pleasant</td>\n",
       "      <td>$1,400</td>\n",
       "      <td>$0</td>\n",
       "      <td>$0</td>\n",
       "    </tr>\n",
       "    <tr>\n",
       "      <th>5781</th>\n",
       "      <td>82</td>\n",
       "      <td>Aug 5, 2005</td>\n",
       "      <td>My Date With Drew</td>\n",
       "      <td>$1,100</td>\n",
       "      <td>$181,041</td>\n",
       "      <td>$181,041</td>\n",
       "    </tr>\n",
       "  </tbody>\n",
       "</table>\n",
       "<p>5782 rows × 6 columns</p>\n",
       "</div>"
      ],
      "text/plain": [
       "      id  release_date                                        movie  \\\n",
       "0      1  Dec 18, 2009                                       Avatar   \n",
       "1      2  May 20, 2011  Pirates of the Caribbean: On Stranger Tides   \n",
       "2      3   Jun 7, 2019                                 Dark Phoenix   \n",
       "3      4   May 1, 2015                      Avengers: Age of Ultron   \n",
       "4      5  Dec 15, 2017            Star Wars Ep. VIII: The Last Jedi   \n",
       "...   ..           ...                                          ...   \n",
       "5777  78  Dec 31, 2018                                       Red 11   \n",
       "5778  79   Apr 2, 1999                                    Following   \n",
       "5779  80  Jul 13, 2005                Return to the Land of Wonders   \n",
       "5780  81  Sep 29, 2015                         A Plague So Pleasant   \n",
       "5781  82   Aug 5, 2005                            My Date With Drew   \n",
       "\n",
       "     production_budget domestic_gross worldwide_gross  \n",
       "0         $425,000,000   $760,507,625  $2,776,345,279  \n",
       "1         $410,600,000   $241,063,875  $1,045,663,875  \n",
       "2         $350,000,000    $42,762,350    $149,762,350  \n",
       "3         $330,600,000   $459,005,868  $1,403,013,963  \n",
       "4         $317,000,000   $620,181,382  $1,316,721,747  \n",
       "...                ...            ...             ...  \n",
       "5777            $7,000             $0              $0  \n",
       "5778            $6,000        $48,482        $240,495  \n",
       "5779            $5,000         $1,338          $1,338  \n",
       "5780            $1,400             $0              $0  \n",
       "5781            $1,100       $181,041        $181,041  \n",
       "\n",
       "[5782 rows x 6 columns]"
      ]
     },
<<<<<<< HEAD
     "execution_count": 22,
=======
     "execution_count": 30,
>>>>>>> 199658aace1f5a74b814925525fe9fbeac988378
     "metadata": {},
     "output_type": "execute_result"
    }
   ],
   "source": [
    "# Reading the dataset and creating a dataframe\n",
    "data3 = pd.read_csv('zippedData/tn.movie_budgets.csv.gz')\n",
    "data3"
   ]
  },
  {
   "cell_type": "code",
<<<<<<< HEAD
   "execution_count": 23,
=======
   "execution_count": 31,
   "metadata": {},
   "outputs": [
    {
     "data": {
      "text/plain": [
       "(5782, 6)"
      ]
     },
     "execution_count": 31,
     "metadata": {},
     "output_type": "execute_result"
    }
   ],
   "source": [
    "data3.shape"
   ]
  },
  {
   "cell_type": "code",
   "execution_count": 32,
   "metadata": {},
   "outputs": [
    {
     "data": {
      "text/plain": [
       "id                   0\n",
       "release_date         0\n",
       "movie                0\n",
       "production_budget    0\n",
       "domestic_gross       0\n",
       "worldwide_gross      0\n",
       "dtype: int64"
      ]
     },
     "execution_count": 32,
     "metadata": {},
     "output_type": "execute_result"
    }
   ],
   "source": [
    "data3.isna().sum()"
   ]
  },
  {
   "cell_type": "code",
   "execution_count": 33,
>>>>>>> 199658aace1f5a74b814925525fe9fbeac988378
   "metadata": {},
   "outputs": [
    {
     "data": {
      "text/html": [
       "<div>\n",
       "<style scoped>\n",
       "    .dataframe tbody tr th:only-of-type {\n",
       "        vertical-align: middle;\n",
       "    }\n",
       "\n",
       "    .dataframe tbody tr th {\n",
       "        vertical-align: top;\n",
       "    }\n",
       "\n",
       "    .dataframe thead th {\n",
       "        text-align: right;\n",
       "    }\n",
       "</style>\n",
       "<table border=\"1\" class=\"dataframe\">\n",
       "  <thead>\n",
       "    <tr style=\"text-align: right;\">\n",
       "      <th></th>\n",
       "      <th>id</th>\n",
       "      <th>release_date</th>\n",
       "      <th>movie</th>\n",
       "      <th>production_budget</th>\n",
       "      <th>domestic_gross</th>\n",
       "      <th>worldwide_gross</th>\n",
       "    </tr>\n",
       "  </thead>\n",
       "  <tbody>\n",
       "    <tr>\n",
       "      <th>0</th>\n",
       "      <td>1</td>\n",
       "      <td>Dec 18, 2009</td>\n",
       "      <td>Avatar</td>\n",
       "      <td>$425,000,000</td>\n",
       "      <td>$760,507,625</td>\n",
       "      <td>$2,776,345,279</td>\n",
       "    </tr>\n",
       "    <tr>\n",
       "      <th>1</th>\n",
       "      <td>2</td>\n",
       "      <td>May 20, 2011</td>\n",
       "      <td>Pirates of the Caribbean: On Stranger Tides</td>\n",
       "      <td>$410,600,000</td>\n",
       "      <td>$241,063,875</td>\n",
       "      <td>$1,045,663,875</td>\n",
       "    </tr>\n",
       "    <tr>\n",
       "      <th>2</th>\n",
       "      <td>3</td>\n",
       "      <td>Jun 7, 2019</td>\n",
       "      <td>Dark Phoenix</td>\n",
       "      <td>$350,000,000</td>\n",
       "      <td>$42,762,350</td>\n",
       "      <td>$149,762,350</td>\n",
       "    </tr>\n",
       "    <tr>\n",
       "      <th>3</th>\n",
       "      <td>4</td>\n",
       "      <td>May 1, 2015</td>\n",
       "      <td>Avengers: Age of Ultron</td>\n",
       "      <td>$330,600,000</td>\n",
       "      <td>$459,005,868</td>\n",
       "      <td>$1,403,013,963</td>\n",
       "    </tr>\n",
       "    <tr>\n",
       "      <th>4</th>\n",
       "      <td>5</td>\n",
       "      <td>Dec 15, 2017</td>\n",
       "      <td>Star Wars Ep. VIII: The Last Jedi</td>\n",
       "      <td>$317,000,000</td>\n",
       "      <td>$620,181,382</td>\n",
       "      <td>$1,316,721,747</td>\n",
       "    </tr>\n",
       "  </tbody>\n",
       "</table>\n",
       "</div>"
      ],
      "text/plain": [
       "   id  release_date                                        movie  \\\n",
       "0   1  Dec 18, 2009                                       Avatar   \n",
       "1   2  May 20, 2011  Pirates of the Caribbean: On Stranger Tides   \n",
       "2   3   Jun 7, 2019                                 Dark Phoenix   \n",
       "3   4   May 1, 2015                      Avengers: Age of Ultron   \n",
       "4   5  Dec 15, 2017            Star Wars Ep. VIII: The Last Jedi   \n",
       "\n",
<<<<<<< HEAD
       "  production_budget domestic_gross worldwide_gross  \n",
       "0      $425,000,000   $760,507,625  $2,776,345,279  \n",
       "1      $410,600,000   $241,063,875  $1,045,663,875  \n",
       "2      $350,000,000    $42,762,350    $149,762,350  \n",
       "3      $330,600,000   $459,005,868  $1,403,013,963  \n",
       "4      $317,000,000   $620,181,382  $1,316,721,747  "
      ]
     },
     "execution_count": 23,
=======
       "  box_office      runtime             studio  \n",
       "0        NaN  104 minutes                NaN  \n",
       "1    600,000  108 minutes  Entertainment One  \n",
       "2        NaN  116 minutes                NaN  \n",
       "3        NaN  128 minutes                NaN  \n",
       "4        NaN  200 minutes                NaN  "
      ]
     },
     "execution_count": 33,
     "metadata": {},
     "output_type": "execute_result"
    }
   ],
   "source": [
    "data4 = pd.read_csv('rt.movie_info.tsv', sep = '\\t')\n",
    "data4.head()"
   ]
  },
  {
   "cell_type": "code",
   "execution_count": 34,
   "metadata": {},
   "outputs": [
    {
     "data": {
      "text/plain": [
       "(1560, 12)"
      ]
     },
     "execution_count": 34,
>>>>>>> 199658aace1f5a74b814925525fe9fbeac988378
     "metadata": {},
     "output_type": "execute_result"
    }
   ],
   "source": [
    "# looking at first five rows\n",
    "data3.head()"
   ]
  },
  {
   "cell_type": "code",
<<<<<<< HEAD
   "execution_count": 24,
=======
   "execution_count": 35,
   "metadata": {},
   "outputs": [
    {
     "data": {
      "text/plain": [
       "id                 0\n",
       "synopsis          62\n",
       "rating             3\n",
       "genre              8\n",
       "director         199\n",
       "writer           449\n",
       "theater_date     359\n",
       "dvd_date         359\n",
       "currency        1220\n",
       "box_office      1220\n",
       "runtime           30\n",
       "studio          1066\n",
       "dtype: int64"
      ]
     },
     "execution_count": 35,
     "metadata": {},
     "output_type": "execute_result"
    }
   ],
   "source": [
    "data4.isna().sum()"
   ]
  },
  {
   "cell_type": "code",
   "execution_count": 36,
>>>>>>> 199658aace1f5a74b814925525fe9fbeac988378
   "metadata": {},
   "outputs": [
    {
     "data": {
      "text/html": [
       "<div>\n",
       "<style scoped>\n",
       "    .dataframe tbody tr th:only-of-type {\n",
       "        vertical-align: middle;\n",
       "    }\n",
       "\n",
       "    .dataframe tbody tr th {\n",
       "        vertical-align: top;\n",
       "    }\n",
       "\n",
       "    .dataframe thead th {\n",
       "        text-align: right;\n",
       "    }\n",
       "</style>\n",
       "<table border=\"1\" class=\"dataframe\">\n",
       "  <thead>\n",
       "    <tr style=\"text-align: right;\">\n",
       "      <th></th>\n",
       "      <th>id</th>\n",
       "      <th>release_date</th>\n",
       "      <th>movie</th>\n",
       "      <th>production_budget</th>\n",
       "      <th>domestic_gross</th>\n",
       "      <th>worldwide_gross</th>\n",
       "    </tr>\n",
       "  </thead>\n",
       "  <tbody>\n",
       "    <tr>\n",
       "      <th>5777</th>\n",
       "      <td>78</td>\n",
       "      <td>Dec 31, 2018</td>\n",
       "      <td>Red 11</td>\n",
       "      <td>$7,000</td>\n",
       "      <td>$0</td>\n",
       "      <td>$0</td>\n",
       "    </tr>\n",
       "    <tr>\n",
       "      <th>5778</th>\n",
       "      <td>79</td>\n",
       "      <td>Apr 2, 1999</td>\n",
       "      <td>Following</td>\n",
       "      <td>$6,000</td>\n",
       "      <td>$48,482</td>\n",
       "      <td>$240,495</td>\n",
       "    </tr>\n",
       "    <tr>\n",
       "      <th>5779</th>\n",
       "      <td>80</td>\n",
       "      <td>Jul 13, 2005</td>\n",
       "      <td>Return to the Land of Wonders</td>\n",
       "      <td>$5,000</td>\n",
       "      <td>$1,338</td>\n",
       "      <td>$1,338</td>\n",
       "    </tr>\n",
       "    <tr>\n",
       "      <th>5780</th>\n",
       "      <td>81</td>\n",
       "      <td>Sep 29, 2015</td>\n",
       "      <td>A Plague So Pleasant</td>\n",
       "      <td>$1,400</td>\n",
       "      <td>$0</td>\n",
       "      <td>$0</td>\n",
       "    </tr>\n",
       "    <tr>\n",
       "      <th>5781</th>\n",
       "      <td>82</td>\n",
       "      <td>Aug 5, 2005</td>\n",
       "      <td>My Date With Drew</td>\n",
       "      <td>$1,100</td>\n",
       "      <td>$181,041</td>\n",
       "      <td>$181,041</td>\n",
       "    </tr>\n",
       "  </tbody>\n",
       "</table>\n",
       "</div>"
      ],
      "text/plain": [
       "      id  release_date                          movie production_budget  \\\n",
       "5777  78  Dec 31, 2018                         Red 11            $7,000   \n",
       "5778  79   Apr 2, 1999                      Following            $6,000   \n",
       "5779  80  Jul 13, 2005  Return to the Land of Wonders            $5,000   \n",
       "5780  81  Sep 29, 2015           A Plague So Pleasant            $1,400   \n",
       "5781  82   Aug 5, 2005              My Date With Drew            $1,100   \n",
       "\n",
       "     domestic_gross worldwide_gross  \n",
       "5777             $0              $0  \n",
       "5778        $48,482        $240,495  \n",
       "5779         $1,338          $1,338  \n",
       "5780             $0              $0  \n",
       "5781       $181,041        $181,041  "
      ]
     },
     "execution_count": 36,
     "metadata": {},
     "output_type": "execute_result"
    }
   ],
   "source": [
    "# looking at last five rows\n",
    "data3.tail()"
   ]
  },
  {
   "cell_type": "code",
   "execution_count": 37,
   "metadata": {},
   "outputs": [
    {
     "data": {
      "text/plain": [
       "(5782, 6)"
      ]
     },
     "execution_count": 37,
     "metadata": {},
     "output_type": "execute_result"
    }
   ],
   "source": [
    "# shows the number of rows and columns in the dataset\n",
    "data3.shape"
   ]
  },
  {
   "cell_type": "code",
   "execution_count": 38,
   "metadata": {},
   "outputs": [
    {
     "name": "stdout",
     "output_type": "stream",
     "text": [
      "<class 'pandas.core.frame.DataFrame'>\n",
      "RangeIndex: 5782 entries, 0 to 5781\n",
      "Data columns (total 6 columns):\n",
      " #   Column             Non-Null Count  Dtype \n",
      "---  ------             --------------  ----- \n",
      " 0   id                 5782 non-null   int64 \n",
      " 1   release_date       5782 non-null   object\n",
      " 2   movie              5782 non-null   object\n",
      " 3   production_budget  5782 non-null   object\n",
      " 4   domestic_gross     5782 non-null   object\n",
      " 5   worldwide_gross    5782 non-null   object\n",
      "dtypes: int64(1), object(5)\n",
      "memory usage: 271.2+ KB\n"
     ]
    }
   ],
   "source": [
    "# checking data dimensions(rows and columns),datatypes and its completeness\n",
    "data3.info()"
   ]
  },
  {
   "cell_type": "code",
   "execution_count": 27,
   "metadata": {},
   "outputs": [
    {
     "name": "stdout",
     "output_type": "stream",
     "text": [
      "<class 'pandas.core.frame.DataFrame'>\n",
      "RangeIndex: 5782 entries, 0 to 5781\n",
      "Columns: 6 entries, id to worldwide_gross\n",
      "dtypes: int64(1), object(5)\n",
      "memory usage: 271.2+ KB\n"
     ]
    }
   ],
   "source": [
    "data3.info(verbose=False)"
   ]
  },
  {
   "cell_type": "code",
   "execution_count": 28,
   "metadata": {},
   "outputs": [
    {
     "data": {
      "text/plain": [
       "id                   0\n",
       "release_date         0\n",
       "movie                0\n",
       "production_budget    0\n",
       "domestic_gross       0\n",
       "worldwide_gross      0\n",
       "dtype: int64"
      ]
     },
<<<<<<< HEAD
     "execution_count": 28,
=======
     "execution_count": 38,
>>>>>>> 199658aace1f5a74b814925525fe9fbeac988378
     "metadata": {},
     "output_type": "execute_result"
    }
   ],
   "source": [
    "# cheking for null values\n",
    "data3.isna().sum()"
   ]
  },
  {
   "cell_type": "code",
<<<<<<< HEAD
   "execution_count": 29,
=======
   "execution_count": 39,
>>>>>>> 199658aace1f5a74b814925525fe9fbeac988378
   "metadata": {},
   "outputs": [
    {
     "data": {
      "text/html": [
       "<div>\n",
       "<style scoped>\n",
       "    .dataframe tbody tr th:only-of-type {\n",
       "        vertical-align: middle;\n",
       "    }\n",
       "\n",
       "    .dataframe tbody tr th {\n",
       "        vertical-align: top;\n",
       "    }\n",
       "\n",
       "    .dataframe thead th {\n",
       "        text-align: right;\n",
       "    }\n",
       "</style>\n",
       "<table border=\"1\" class=\"dataframe\">\n",
       "  <thead>\n",
       "    <tr style=\"text-align: right;\">\n",
       "      <th></th>\n",
       "      <th>count</th>\n",
       "      <th>mean</th>\n",
       "      <th>std</th>\n",
       "      <th>min</th>\n",
       "      <th>25%</th>\n",
       "      <th>50%</th>\n",
       "      <th>75%</th>\n",
       "      <th>max</th>\n",
       "    </tr>\n",
       "  </thead>\n",
       "  <tbody>\n",
       "    <tr>\n",
       "      <th>id</th>\n",
       "      <td>5782.0</td>\n",
       "      <td>50.372363</td>\n",
       "      <td>28.821076</td>\n",
       "      <td>1.0</td>\n",
       "      <td>25.0</td>\n",
       "      <td>50.0</td>\n",
       "      <td>75.0</td>\n",
       "      <td>100.0</td>\n",
       "    </tr>\n",
       "  </tbody>\n",
       "</table>\n",
       "</div>"
      ],
      "text/plain": [
       "     count       mean        std  min   25%   50%   75%    max\n",
       "id  5782.0  50.372363  28.821076  1.0  25.0  50.0  75.0  100.0"
      ]
     },
<<<<<<< HEAD
     "execution_count": 29,
=======
     "execution_count": 39,
>>>>>>> 199658aace1f5a74b814925525fe9fbeac988378
     "metadata": {},
     "output_type": "execute_result"
    }
   ],
   "source": [
    "# Checking for concise summary and transposing it\n",
    "data3.describe().T"
   ]
  },
  {
   "cell_type": "code",
<<<<<<< HEAD
   "execution_count": 30,
=======
   "execution_count": 40,
>>>>>>> 199658aace1f5a74b814925525fe9fbeac988378
   "metadata": {},
   "outputs": [
    {
     "data": {
      "text/plain": [
       "0"
      ]
     },
<<<<<<< HEAD
     "execution_count": 30,
=======
     "execution_count": 40,
>>>>>>> 199658aace1f5a74b814925525fe9fbeac988378
     "metadata": {},
     "output_type": "execute_result"
    }
   ],
   "source": [
    "# carrying out duplicate check\n",
    "data3.duplicated().sum()"
   ]
  },
  {
   "cell_type": "code",
<<<<<<< HEAD
   "execution_count": 31,
=======
   "execution_count": 41,
>>>>>>> 199658aace1f5a74b814925525fe9fbeac988378
   "metadata": {},
   "outputs": [
    {
     "data": {
      "text/html": [
       "<div>\n",
       "<style scoped>\n",
       "    .dataframe tbody tr th:only-of-type {\n",
       "        vertical-align: middle;\n",
       "    }\n",
       "\n",
       "    .dataframe tbody tr th {\n",
       "        vertical-align: top;\n",
       "    }\n",
       "\n",
       "    .dataframe thead th {\n",
       "        text-align: right;\n",
       "    }\n",
       "</style>\n",
       "<table border=\"1\" class=\"dataframe\">\n",
       "  <thead>\n",
       "    <tr style=\"text-align: right;\">\n",
       "      <th></th>\n",
       "      <th>id</th>\n",
       "      <th>release_date</th>\n",
       "      <th>movie</th>\n",
       "      <th>production_budget</th>\n",
       "      <th>domestic_gross</th>\n",
       "      <th>worldwide_gross</th>\n",
       "    </tr>\n",
       "  </thead>\n",
       "  <tbody>\n",
       "    <tr>\n",
       "      <th>0</th>\n",
       "      <td>1</td>\n",
       "      <td>Dec 18, 2009</td>\n",
       "      <td>Avatar</td>\n",
       "      <td>$425,000,000</td>\n",
       "      <td>$760,507,625</td>\n",
       "      <td>$2,776,345,279</td>\n",
       "    </tr>\n",
       "    <tr>\n",
       "      <th>1</th>\n",
       "      <td>2</td>\n",
       "      <td>May 20, 2011</td>\n",
       "      <td>Pirates of the Caribbean: On Stranger Tides</td>\n",
       "      <td>$410,600,000</td>\n",
       "      <td>$241,063,875</td>\n",
       "      <td>$1,045,663,875</td>\n",
       "    </tr>\n",
       "    <tr>\n",
       "      <th>2</th>\n",
       "      <td>3</td>\n",
       "      <td>Jun 7, 2019</td>\n",
       "      <td>Dark Phoenix</td>\n",
       "      <td>$350,000,000</td>\n",
       "      <td>$42,762,350</td>\n",
       "      <td>$149,762,350</td>\n",
       "    </tr>\n",
       "    <tr>\n",
       "      <th>3</th>\n",
       "      <td>4</td>\n",
       "      <td>May 1, 2015</td>\n",
       "      <td>Avengers: Age of Ultron</td>\n",
       "      <td>$330,600,000</td>\n",
       "      <td>$459,005,868</td>\n",
       "      <td>$1,403,013,963</td>\n",
       "    </tr>\n",
       "    <tr>\n",
       "      <th>4</th>\n",
       "      <td>5</td>\n",
       "      <td>Dec 15, 2017</td>\n",
       "      <td>Star Wars Ep. VIII: The Last Jedi</td>\n",
       "      <td>$317,000,000</td>\n",
       "      <td>$620,181,382</td>\n",
       "      <td>$1,316,721,747</td>\n",
       "    </tr>\n",
       "  </tbody>\n",
       "</table>\n",
       "</div>"
      ],
      "text/plain": [
       "   id  release_date                                        movie  \\\n",
       "0   1  Dec 18, 2009                                       Avatar   \n",
       "1   2  May 20, 2011  Pirates of the Caribbean: On Stranger Tides   \n",
       "2   3   Jun 7, 2019                                 Dark Phoenix   \n",
       "3   4   May 1, 2015                      Avengers: Age of Ultron   \n",
       "4   5  Dec 15, 2017            Star Wars Ep. VIII: The Last Jedi   \n",
       "\n",
       "  production_budget domestic_gross worldwide_gross  \n",
       "0      $425,000,000   $760,507,625  $2,776,345,279  \n",
       "1      $410,600,000   $241,063,875  $1,045,663,875  \n",
       "2      $350,000,000    $42,762,350    $149,762,350  \n",
       "3      $330,600,000   $459,005,868  $1,403,013,963  \n",
       "4      $317,000,000   $620,181,382  $1,316,721,747  "
      ]
     },
<<<<<<< HEAD
     "execution_count": 31,
=======
     "execution_count": 41,
>>>>>>> 199658aace1f5a74b814925525fe9fbeac988378
     "metadata": {},
     "output_type": "execute_result"
    }
   ],
   "source": [
    "# Creating a copy of the original dataset to avoid modifying the original dataset.\n",
    "data3_copy = data3.copy(deep = True)\n",
    "data3_copy[:5]"
   ]
  },
  {
   "cell_type": "code",
<<<<<<< HEAD
   "execution_count": 32,
=======
   "execution_count": 42,
>>>>>>> 199658aace1f5a74b814925525fe9fbeac988378
   "metadata": {},
   "outputs": [
    {
     "data": {
      "text/plain": [
       "Index(['id', 'release_date', 'movie', 'production_budget', 'domestic_gross',\n",
       "       'worldwide_gross'],\n",
       "      dtype='object')"
      ]
     },
<<<<<<< HEAD
     "execution_count": 32,
=======
     "execution_count": 42,
>>>>>>> 199658aace1f5a74b814925525fe9fbeac988378
     "metadata": {},
     "output_type": "execute_result"
    }
   ],
   "source": [
    "# looking at columns to check for white space in columns name\n",
    "data3_copy.columns"
   ]
  },
  {
<<<<<<< HEAD
   "cell_type": "markdown",
=======
   "cell_type": "code",
   "execution_count": 43,
>>>>>>> 199658aace1f5a74b814925525fe9fbeac988378
   "metadata": {},
   "source": [
    "#### There are no white spaces between column names and all the columns in data3 three are important for analysis and therefore none will be dropped."
   ]
  },
  {
   "cell_type": "code",
   "execution_count": 33,
   "metadata": {},
   "outputs": [
    {
     "data": {
      "text/plain": [
       "id                   0\n",
       "release_date         0\n",
       "movie                0\n",
       "production_budget    0\n",
       "domestic_gross       0\n",
       "worldwide_gross      0\n",
       "dtype: int64"
      ]
     },
     "execution_count": 33,
     "metadata": {},
     "output_type": "execute_result"
    }
   ],
   "source": [
    "# checking for null values in the resultant dataset\n",
    "data3_copy.isnull().sum()"
   ]
  },
  {
   "cell_type": "markdown",
   "metadata": {},
   "source": [
    "#### The data has no null values hence no need for those rigorous operations for fillingin the missing data"
   ]
  },
  {
   "cell_type": "code",
   "execution_count": 34,
   "metadata": {},
   "outputs": [
    {
     "data": {
      "text/html": [
       "<div>\n",
       "<style scoped>\n",
       "    .dataframe tbody tr th:only-of-type {\n",
       "        vertical-align: middle;\n",
       "    }\n",
       "\n",
       "    .dataframe tbody tr th {\n",
       "        vertical-align: top;\n",
       "    }\n",
       "\n",
       "    .dataframe thead th {\n",
       "        text-align: right;\n",
       "    }\n",
       "</style>\n",
       "<table border=\"1\" class=\"dataframe\">\n",
       "  <thead>\n",
       "    <tr style=\"text-align: right;\">\n",
       "      <th></th>\n",
       "      <th>id</th>\n",
       "      <th>release_date</th>\n",
       "      <th>movie</th>\n",
       "      <th>production_budget</th>\n",
       "      <th>domestic_gross</th>\n",
       "      <th>worldwide_gross</th>\n",
       "    </tr>\n",
       "  </thead>\n",
       "  <tbody>\n",
       "    <tr>\n",
       "      <th>0</th>\n",
       "      <td>1</td>\n",
       "      <td>Dec 18, 2009</td>\n",
       "      <td>Avatar</td>\n",
       "      <td>$425,000,000</td>\n",
       "      <td>$760,507,625</td>\n",
       "      <td>$2,776,345,279</td>\n",
       "    </tr>\n",
       "    <tr>\n",
       "      <th>1</th>\n",
       "      <td>2</td>\n",
       "      <td>May 20, 2011</td>\n",
       "      <td>Pirates of the Caribbean: On Stranger Tides</td>\n",
       "      <td>$410,600,000</td>\n",
       "      <td>$241,063,875</td>\n",
       "      <td>$1,045,663,875</td>\n",
       "    </tr>\n",
       "    <tr>\n",
       "      <th>2</th>\n",
       "      <td>3</td>\n",
       "      <td>Jun 7, 2019</td>\n",
       "      <td>Dark Phoenix</td>\n",
       "      <td>$350,000,000</td>\n",
       "      <td>$42,762,350</td>\n",
       "      <td>$149,762,350</td>\n",
       "    </tr>\n",
       "    <tr>\n",
       "      <th>3</th>\n",
       "      <td>4</td>\n",
       "      <td>May 1, 2015</td>\n",
       "      <td>Avengers: Age of Ultron</td>\n",
       "      <td>$330,600,000</td>\n",
       "      <td>$459,005,868</td>\n",
       "      <td>$1,403,013,963</td>\n",
       "    </tr>\n",
       "    <tr>\n",
       "      <th>4</th>\n",
       "      <td>5</td>\n",
       "      <td>Dec 15, 2017</td>\n",
       "      <td>Star Wars Ep. VIII: The Last Jedi</td>\n",
       "      <td>$317,000,000</td>\n",
       "      <td>$620,181,382</td>\n",
       "      <td>$1,316,721,747</td>\n",
       "    </tr>\n",
       "    <tr>\n",
       "      <th>...</th>\n",
       "      <td>...</td>\n",
       "      <td>...</td>\n",
       "      <td>...</td>\n",
       "      <td>...</td>\n",
       "      <td>...</td>\n",
       "      <td>...</td>\n",
       "    </tr>\n",
       "    <tr>\n",
       "      <th>5777</th>\n",
       "      <td>78</td>\n",
       "      <td>Dec 31, 2018</td>\n",
       "      <td>Red 11</td>\n",
       "      <td>$7,000</td>\n",
       "      <td>$0</td>\n",
       "      <td>$0</td>\n",
       "    </tr>\n",
       "    <tr>\n",
       "      <th>5778</th>\n",
       "      <td>79</td>\n",
       "      <td>Apr 2, 1999</td>\n",
       "      <td>Following</td>\n",
       "      <td>$6,000</td>\n",
       "      <td>$48,482</td>\n",
       "      <td>$240,495</td>\n",
       "    </tr>\n",
       "    <tr>\n",
       "      <th>5779</th>\n",
       "      <td>80</td>\n",
       "      <td>Jul 13, 2005</td>\n",
       "      <td>Return to the Land of Wonders</td>\n",
       "      <td>$5,000</td>\n",
       "      <td>$1,338</td>\n",
       "      <td>$1,338</td>\n",
       "    </tr>\n",
       "    <tr>\n",
       "      <th>5780</th>\n",
       "      <td>81</td>\n",
       "      <td>Sep 29, 2015</td>\n",
       "      <td>A Plague So Pleasant</td>\n",
       "      <td>$1,400</td>\n",
       "      <td>$0</td>\n",
       "      <td>$0</td>\n",
       "    </tr>\n",
       "    <tr>\n",
       "      <th>5781</th>\n",
       "      <td>82</td>\n",
       "      <td>Aug 5, 2005</td>\n",
       "      <td>My Date With Drew</td>\n",
       "      <td>$1,100</td>\n",
       "      <td>$181,041</td>\n",
       "      <td>$181,041</td>\n",
       "    </tr>\n",
       "  </tbody>\n",
       "</table>\n",
       "<p>5782 rows × 6 columns</p>\n",
       "</div>"
      ],
      "text/plain": [
       "      id  release_date                                        movie  \\\n",
       "0      1  Dec 18, 2009                                       Avatar   \n",
       "1      2  May 20, 2011  Pirates of the Caribbean: On Stranger Tides   \n",
       "2      3   Jun 7, 2019                                 Dark Phoenix   \n",
       "3      4   May 1, 2015                      Avengers: Age of Ultron   \n",
       "4      5  Dec 15, 2017            Star Wars Ep. VIII: The Last Jedi   \n",
       "...   ..           ...                                          ...   \n",
       "5777  78  Dec 31, 2018                                       Red 11   \n",
       "5778  79   Apr 2, 1999                                    Following   \n",
       "5779  80  Jul 13, 2005                Return to the Land of Wonders   \n",
       "5780  81  Sep 29, 2015                         A Plague So Pleasant   \n",
       "5781  82   Aug 5, 2005                            My Date With Drew   \n",
       "\n",
       "     production_budget domestic_gross worldwide_gross  \n",
       "0         $425,000,000   $760,507,625  $2,776,345,279  \n",
       "1         $410,600,000   $241,063,875  $1,045,663,875  \n",
       "2         $350,000,000    $42,762,350    $149,762,350  \n",
       "3         $330,600,000   $459,005,868  $1,403,013,963  \n",
       "4         $317,000,000   $620,181,382  $1,316,721,747  \n",
       "...                ...            ...             ...  \n",
       "5777            $7,000             $0              $0  \n",
       "5778            $6,000        $48,482        $240,495  \n",
       "5779            $5,000         $1,338          $1,338  \n",
       "5780            $1,400             $0              $0  \n",
       "5781            $1,100       $181,041        $181,041  \n",
       "\n",
       "[5782 rows x 6 columns]"
      ]
     },
     "execution_count": 34,
     "metadata": {},
     "output_type": "execute_result"
    }
   ],
   "source": [
    "# checking for duplicates in the every column\n",
    "data3_copy.duplicated()\n",
    "data3_copy"
   ]
  },
  {
   "cell_type": "code",
   "execution_count": 35,
   "metadata": {},
   "outputs": [
    {
     "data": {
      "text/html": [
       "<div>\n",
       "<style scoped>\n",
       "    .dataframe tbody tr th:only-of-type {\n",
       "        vertical-align: middle;\n",
       "    }\n",
       "\n",
       "    .dataframe tbody tr th {\n",
       "        vertical-align: top;\n",
       "    }\n",
       "\n",
       "    .dataframe thead th {\n",
       "        text-align: right;\n",
       "    }\n",
       "</style>\n",
       "<table border=\"1\" class=\"dataframe\">\n",
       "  <thead>\n",
       "    <tr style=\"text-align: right;\">\n",
       "      <th></th>\n",
       "      <th>id</th>\n",
       "      <th>release_date</th>\n",
       "      <th>movie</th>\n",
       "      <th>production_budget</th>\n",
       "      <th>domestic_gross</th>\n",
       "      <th>worldwide_gross</th>\n",
       "    </tr>\n",
       "  </thead>\n",
       "  <tbody>\n",
       "    <tr>\n",
       "      <th>0</th>\n",
       "      <td>1</td>\n",
       "      <td>Dec 18, 2009</td>\n",
       "      <td>Avatar</td>\n",
       "      <td>$425,000,000</td>\n",
       "      <td>$760,507,625</td>\n",
       "      <td>$2,776,345,279</td>\n",
       "    </tr>\n",
       "    <tr>\n",
       "      <th>1</th>\n",
       "      <td>2</td>\n",
       "      <td>May 20, 2011</td>\n",
       "      <td>Pirates of the Caribbean: On Stranger Tides</td>\n",
       "      <td>$410,600,000</td>\n",
       "      <td>$241,063,875</td>\n",
       "      <td>$1,045,663,875</td>\n",
       "    </tr>\n",
       "    <tr>\n",
       "      <th>2</th>\n",
       "      <td>3</td>\n",
       "      <td>Jun 7, 2019</td>\n",
       "      <td>Dark Phoenix</td>\n",
       "      <td>$350,000,000</td>\n",
       "      <td>$42,762,350</td>\n",
       "      <td>$149,762,350</td>\n",
       "    </tr>\n",
       "    <tr>\n",
       "      <th>3</th>\n",
       "      <td>4</td>\n",
       "      <td>May 1, 2015</td>\n",
       "      <td>Avengers: Age of Ultron</td>\n",
       "      <td>$330,600,000</td>\n",
       "      <td>$459,005,868</td>\n",
       "      <td>$1,403,013,963</td>\n",
       "    </tr>\n",
       "    <tr>\n",
       "      <th>4</th>\n",
       "      <td>5</td>\n",
       "      <td>Dec 15, 2017</td>\n",
       "      <td>Star Wars Ep. VIII: The Last Jedi</td>\n",
       "      <td>$317,000,000</td>\n",
       "      <td>$620,181,382</td>\n",
       "      <td>$1,316,721,747</td>\n",
       "    </tr>\n",
       "    <tr>\n",
       "      <th>...</th>\n",
       "      <td>...</td>\n",
       "      <td>...</td>\n",
       "      <td>...</td>\n",
       "      <td>...</td>\n",
       "      <td>...</td>\n",
       "      <td>...</td>\n",
       "    </tr>\n",
       "    <tr>\n",
       "      <th>5777</th>\n",
       "      <td>78</td>\n",
       "      <td>Dec 31, 2018</td>\n",
       "      <td>Red 11</td>\n",
       "      <td>$7,000</td>\n",
       "      <td>$0</td>\n",
       "      <td>$0</td>\n",
       "    </tr>\n",
       "    <tr>\n",
       "      <th>5778</th>\n",
       "      <td>79</td>\n",
       "      <td>Apr 2, 1999</td>\n",
       "      <td>Following</td>\n",
       "      <td>$6,000</td>\n",
       "      <td>$48,482</td>\n",
       "      <td>$240,495</td>\n",
       "    </tr>\n",
       "    <tr>\n",
       "      <th>5779</th>\n",
       "      <td>80</td>\n",
       "      <td>Jul 13, 2005</td>\n",
       "      <td>Return to the Land of Wonders</td>\n",
       "      <td>$5,000</td>\n",
       "      <td>$1,338</td>\n",
       "      <td>$1,338</td>\n",
       "    </tr>\n",
       "    <tr>\n",
       "      <th>5780</th>\n",
       "      <td>81</td>\n",
       "      <td>Sep 29, 2015</td>\n",
       "      <td>A Plague So Pleasant</td>\n",
       "      <td>$1,400</td>\n",
       "      <td>$0</td>\n",
       "      <td>$0</td>\n",
       "    </tr>\n",
       "    <tr>\n",
       "      <th>5781</th>\n",
       "      <td>82</td>\n",
       "      <td>Aug 5, 2005</td>\n",
       "      <td>My Date With Drew</td>\n",
       "      <td>$1,100</td>\n",
       "      <td>$181,041</td>\n",
       "      <td>$181,041</td>\n",
       "    </tr>\n",
       "  </tbody>\n",
       "</table>\n",
       "<p>5782 rows × 6 columns</p>\n",
       "</div>"
      ],
      "text/plain": [
       "      id  release_date                                        movie  \\\n",
       "0      1  Dec 18, 2009                                       Avatar   \n",
       "1      2  May 20, 2011  Pirates of the Caribbean: On Stranger Tides   \n",
       "2      3   Jun 7, 2019                                 Dark Phoenix   \n",
       "3      4   May 1, 2015                      Avengers: Age of Ultron   \n",
       "4      5  Dec 15, 2017            Star Wars Ep. VIII: The Last Jedi   \n",
       "...   ..           ...                                          ...   \n",
       "5777  78  Dec 31, 2018                                       Red 11   \n",
       "5778  79   Apr 2, 1999                                    Following   \n",
       "5779  80  Jul 13, 2005                Return to the Land of Wonders   \n",
       "5780  81  Sep 29, 2015                         A Plague So Pleasant   \n",
       "5781  82   Aug 5, 2005                            My Date With Drew   \n",
       "\n",
       "     production_budget domestic_gross worldwide_gross  \n",
       "0         $425,000,000   $760,507,625  $2,776,345,279  \n",
       "1         $410,600,000   $241,063,875  $1,045,663,875  \n",
       "2         $350,000,000    $42,762,350    $149,762,350  \n",
       "3         $330,600,000   $459,005,868  $1,403,013,963  \n",
       "4         $317,000,000   $620,181,382  $1,316,721,747  \n",
       "...                ...            ...             ...  \n",
       "5777            $7,000             $0              $0  \n",
       "5778            $6,000        $48,482        $240,495  \n",
       "5779            $5,000         $1,338          $1,338  \n",
       "5780            $1,400             $0              $0  \n",
       "5781            $1,100       $181,041        $181,041  \n",
       "\n",
       "[5782 rows x 6 columns]"
      ]
     },
     "execution_count": 35,
     "metadata": {},
     "output_type": "execute_result"
    }
   ],
   "source": [
    "# checking for duplicates in the dataframe\n",
    "data3_copy[data3_copy.duplicated()]\n",
    "data3_copy"
   ]
  },
  {
   "cell_type": "code",
   "execution_count": 36,
   "metadata": {},
   "outputs": [
    {
     "name": "stdout",
     "output_type": "stream",
     "text": [
      "id\n",
      "[  1   2   3   4   5   6   7   8   9  10  11  12  13  14  15  16  17  18\n",
      "  19  20  21  22  23  24  25  26  27  28  29  30  31  32  33  34  35  36\n",
      "  37  38  39  40  41  42  43  44  45  46  47  48  49  50  51  52  53  54\n",
      "  55  56  57  58  59  60  61  62  63  64  65  66  67  68  69  70  71  72\n",
      "  73  74  75  76  77  78  79  80  81  82  83  84  85  86  87  88  89  90\n",
      "  91  92  93  94  95  96  97  98  99 100]\n",
      "\n",
      "release_date\n",
      "['Dec 18, 2009' 'May 20, 2011' 'Jun 7, 2019' ... 'Aug 14, 2008'\n",
      " 'Feb 26, 1993' 'Jul 13, 2005']\n",
      "\n",
      "movie\n",
      "['Avatar' 'Pirates of the Caribbean: On Stranger Tides' 'Dark Phoenix' ...\n",
      " 'Return to the Land of Wonders' 'A Plague So Pleasant'\n",
      " 'My Date With Drew']\n",
      "\n",
      "production_budget\n",
      "['$425,000,000' '$410,600,000' '$350,000,000' '$330,600,000'\n",
      " '$317,000,000' '$306,000,000' '$300,000,000' '$275,000,000'\n",
      " '$260,000,000' '$258,000,000' '$250,000,000' '$232,000,000'\n",
      " '$230,000,000' '$225,000,000' '$220,000,000' '$217,000,000'\n",
      " '$215,000,000' '$210,000,000' '$207,000,000' '$205,000,000'\n",
      " '$200,000,000' '$195,000,000' '$190,000,000' '$187,500,000'\n",
      " '$186,000,000' '$185,000,000' '$182,000,000' '$180,000,000'\n",
      " '$179,000,000' '$178,000,000' '$175,000,000' '$170,000,000'\n",
      " '$165,000,000' '$163,000,000' '$160,000,000' '$156,000,000'\n",
      " '$155,000,000' '$152,000,000' '$151,500,000' '$151,000,000'\n",
      " '$150,000,000' '$149,000,000' '$145,000,000' '$144,000,000'\n",
      " '$142,000,000' '$140,000,000' '$139,000,000' '$138,000,000'\n",
      " '$137,500,000' '$137,000,000' '$136,200,000' '$135,000,000'\n",
      " '$132,900,000' '$132,000,000' '$130,000,000' '$129,000,000'\n",
      " '$127,500,000' '$127,000,000' '$125,000,000' '$123,000,000'\n",
      " '$120,000,000' '$117,000,000' '$116,000,000' '$115,000,000'\n",
      " '$113,500,000' '$112,000,000' '$111,000,000' '$110,000,000'\n",
      " '$109,000,000' '$108,000,000' '$106,000,000' '$105,000,000'\n",
      " '$104,000,000' '$103,300,000' '$103,000,000' '$102,500,000'\n",
      " '$102,000,000' '$100,000,000' '$99,000,000' '$98,000,000' '$97,000,000'\n",
      " '$95,000,000' '$94,000,000' '$93,000,000' '$92,500,000' '$92,000,000'\n",
      " '$91,000,000' '$90,000,000' '$88,000,000' '$87,500,000' '$87,000,000'\n",
      " '$86,000,000' '$85,000,000' '$84,000,000' '$82,500,000' '$82,000,000'\n",
      " '$81,000,000' '$80,000,000' '$79,300,000' '$79,000,000' '$78,000,000'\n",
      " '$77,600,000' '$77,500,000' '$77,000,000' '$76,000,000' '$75,000,000'\n",
      " '$74,000,000' '$73,243,106' '$73,000,000' '$72,500,000' '$72,000,000'\n",
      " '$71,682,975' '$71,500,000' '$70,702,619' '$70,000,000' '$69,000,000'\n",
      " '$68,000,000' '$67,500,000' '$67,000,000' '$66,000,000' '$65,000,000'\n",
      " '$64,000,000' '$63,700,000' '$63,000,000' '$62,000,000' '$61,000,000'\n",
      " '$60,720,000' '$60,000,000' '$59,500,000' '$59,000,000' '$58,000,000'\n",
      " '$57,500,000' '$57,000,000' '$56,200,000' '$56,000,000' '$55,000,000'\n",
      " '$54,000,000' '$53,012,938' '$53,000,000' '$52,500,000' '$52,000,000'\n",
      " '$51,000,000' '$50,200,000' '$50,000,000' '$49,800,000' '$49,000,000'\n",
      " '$48,000,000' '$47,500,000' '$47,000,000' '$46,500,000' '$46,000,000'\n",
      " '$45,500,000' '$45,000,000' '$44,500,000' '$44,000,000' '$43,000,000'\n",
      " '$42,500,000' '$42,000,000' '$41,000,000' '$40,000,000' '$39,000,000'\n",
      " '$38,600,000' '$38,000,000' '$37,500,000' '$37,000,000' '$36,500,000'\n",
      " '$36,000,000' '$35,200,000' '$35,000,000' '$34,800,000' '$34,000,000'\n",
      " '$33,500,000' '$33,000,000' '$32,500,000' '$32,000,000' '$31,500,000'\n",
      " '$31,000,000' '$30,250,000' '$30,000,000' '$29,200,000' '$29,000,000'\n",
      " '$28,700,000' '$28,500,000' '$28,000,000' '$27,500,000' '$27,000,000'\n",
      " '$26,700,000' '$26,000,000' '$25,530,000' '$25,500,000' '$25,100,000'\n",
      " '$25,000,000' '$24,200,000' '$24,000,000' '$23,600,000' '$23,000,000'\n",
      " '$22,700,000' '$22,500,000' '$22,000,000' '$21,600,000' '$21,500,000'\n",
      " '$21,000,000' '$20,700,000' '$20,500,000' '$20,000,000' '$19,800,000'\n",
      " '$19,700,000' '$19,500,000' '$19,400,000' '$19,200,000' '$19,100,000'\n",
      " '$19,000,000' '$18,975,000' '$18,900,000' '$18,500,000' '$18,000,000'\n",
      " '$17,900,000' '$17,700,000' '$17,500,000' '$17,000,000' '$16,800,000'\n",
      " '$16,500,000' '$16,400,000' '$16,000,000' '$15,700,000' '$15,600,000'\n",
      " '$15,500,000' '$15,300,000' '$15,250,000' '$15,000,000' '$14,600,000'\n",
      " '$14,500,000' '$14,400,000' '$14,200,000' '$14,000,000' '$13,900,000'\n",
      " '$13,700,000' '$13,500,000' '$13,400,000' '$13,300,000' '$13,200,000'\n",
      " '$13,000,000' '$12,800,000' '$12,700,000' '$12,600,000' '$12,500,000'\n",
      " '$12,300,000' '$12,000,000' '$11,900,000' '$11,800,000' '$11,500,000'\n",
      " '$11,400,000' '$11,000,000' '$10,800,000' '$10,750,000' '$10,700,000'\n",
      " '$10,600,000' '$10,500,000' '$10,400,000' '$10,350,000' '$10,300,000'\n",
      " '$10,100,000' '$10,000,000' '$9,900,000' '$9,800,000' '$9,700,000'\n",
      " '$9,600,000' '$9,500,000' '$9,400,000' '$9,300,000' '$9,200,000'\n",
      " '$9,100,000' '$9,000,000' '$8,900,000' '$8,800,000' '$8,600,000'\n",
      " '$8,500,000' '$8,470,000' '$8,400,000' '$8,300,000' '$8,250,000'\n",
      " '$8,200,000' '$8,000,000' '$7,900,000' '$7,800,000' '$7,700,000'\n",
      " '$7,500,000' '$7,400,000' '$7,303,082' '$7,300,000' '$7,250,000'\n",
      " '$7,200,000' '$7,000,000' '$6,900,000' '$6,840,000' '$6,800,000'\n",
      " '$6,750,000' '$6,700,000' '$6,600,000' '$6,537,890' '$6,500,000'\n",
      " '$6,400,000' '$6,250,000' '$6,200,000' '$6,100,000' '$6,000,000'\n",
      " '$5,952,000' '$5,900,000' '$5,800,000' '$5,700,000' '$5,600,000'\n",
      " '$5,500,000' '$5,400,000' '$5,300,000' '$5,250,000' '$5,200,000'\n",
      " '$5,100,000' '$5,000,000' '$4,900,000' '$4,833,610' '$4,800,000'\n",
      " '$4,750,000' '$4,700,000' '$4,638,783' '$4,600,000' '$4,500,000'\n",
      " '$4,400,000' '$4,357,373' '$4,300,000' '$4,200,000' '$4,030,000'\n",
      " '$4,000,000' '$3,900,000' '$3,800,000' '$3,768,785' '$3,750,000'\n",
      " '$3,716,946' '$3,700,000' '$3,600,000' '$3,500,000' '$3,450,000'\n",
      " '$3,440,000' '$3,400,000' '$3,380,000' '$3,300,000' '$3,250,000'\n",
      " '$3,200,000' '$3,180,000' '$3,100,000' '$3,000,000' '$2,931,000'\n",
      " '$2,900,000' '$2,883,848' '$2,850,000' '$2,800,000' '$2,777,000'\n",
      " '$2,750,000' '$2,700,000' '$2,686,000' '$2,660,000' '$2,650,000'\n",
      " '$2,627,000' '$2,600,000' '$2,540,000' '$2,500,000' '$2,450,000'\n",
      " '$2,400,000' '$2,380,000' '$2,361,000' '$2,300,000' '$2,289,247'\n",
      " '$2,280,000' '$2,250,000' '$2,200,000' '$2,160,000' '$2,150,000'\n",
      " '$2,100,000' '$2,000,000' '$1,987,650' '$1,950,000' '$1,900,000'\n",
      " '$1,800,000' '$1,750,000' '$1,700,000' '$1,660,000' '$1,650,000'\n",
      " '$1,644,000' '$1,600,000' '$1,577,000' '$1,500,000' '$1,488,000'\n",
      " '$1,455,000' '$1,400,000' '$1,377,800' '$1,350,000' '$1,305,000'\n",
      " '$1,300,000' '$1,288,000' '$1,250,000' '$1,200,000' '$1,150,000'\n",
      " '$1,125,000' '$1,100,000' '$1,070,000' '$1,039,000' '$1,000,000'\n",
      " '$989,000' '$950,000' '$930,000' '$916,000' '$913,000' '$910,000'\n",
      " '$900,000' '$858,000' '$850,000' '$840,000' '$825,000' '$820,000'\n",
      " '$800,000' '$780,000' '$777,000' '$775,000' '$750,000' '$747,000'\n",
      " '$730,000' '$700,000' '$672,000' '$658,000' '$650,000' '$640,000'\n",
      " '$625,000' '$609,000' '$600,000' '$560,000' '$558,000' '$550,000'\n",
      " '$546,173' '$500,000' '$475,000' '$450,000' '$439,000' '$430,000'\n",
      " '$425,000' '$420,000' '$400,000' '$385,907' '$379,000' '$375,000'\n",
      " '$350,000' '$340,000' '$325,000' '$323,000' '$312,000' '$300,000'\n",
      " '$290,000' '$270,000' '$250,000' '$245,000' '$240,000' '$230,000'\n",
      " '$225,000' '$210,000' '$200,000' '$190,000' '$180,000' '$175,000'\n",
      " '$170,000' '$168,000' '$160,000' '$150,000' '$140,000' '$135,000'\n",
      " '$134,000' '$125,000' '$120,000' '$114,000' '$110,000' '$103,000'\n",
      " '$100,000' '$87,000' '$79,000' '$75,000' '$70,000' '$68,000' '$66,000'\n",
      " '$65,000' '$60,000' '$55,000' '$50,000' '$45,000' '$42,000' '$40,000'\n",
      " '$35,000' '$30,000' '$27,000' '$25,000' '$23,000' '$22,000' '$20,000'\n",
      " '$17,300' '$15,000' '$12,000' '$10,000' '$9,000' '$7,000' '$6,000'\n",
      " '$5,000' '$1,400' '$1,100']\n",
      "\n",
      "domestic_gross\n",
      "['$760,507,625' '$241,063,875' '$42,762,350' ... '$48,482' '$1,338'\n",
      " '$181,041']\n",
      "\n",
      "worldwide_gross\n",
      "['$2,776,345,279' '$1,045,663,875' '$149,762,350' ... '$240,495' '$1,338'\n",
      " '$181,041']\n",
      "\n"
     ]
    }
   ],
   "source": [
    "# checking for unique  in every column\n",
    "for clom in data3_copy:\n",
    "    clom_val = data3_copy[clom].unique()\n",
    "    print(f\"{clom}\\n{clom_val}\\n\")\n"
   ]
  },
  {
   "cell_type": "code",
   "execution_count": 37,
   "metadata": {},
   "outputs": [
    {
     "data": {
      "text/plain": [
       "0      2009-12-18\n",
       "1      2011-05-20\n",
       "2      2019-06-07\n",
       "3      2015-05-01\n",
       "4      2017-12-15\n",
       "          ...    \n",
       "5777   2018-12-31\n",
       "5778   1999-04-02\n",
       "5779   2005-07-13\n",
       "5780   2015-09-29\n",
       "5781   2005-08-05\n",
       "Name: release_date, Length: 5782, dtype: datetime64[ns]"
      ]
     },
     "execution_count": 37,
     "metadata": {},
     "output_type": "execute_result"
    }
   ],
   "source": [
    "# changing the release_date to datetime\n",
    "data3_copy['release_date'] = pd.to_datetime(data3_copy['release_date'])\n",
    "data3_copy['release_date']\n",
    "# so extract the month and year too\n",
    "# data3_copy['month'] = data3_copy['release_date'].dt.month\n",
    "# data3_copy['year'] = data3_copy['release_date'].dt.year"
   ]
  },
  {
   "cell_type": "code",
   "execution_count": 38,
   "metadata": {},
   "outputs": [
    {
     "data": {
      "text/html": [
       "<div>\n",
       "<style scoped>\n",
       "    .dataframe tbody tr th:only-of-type {\n",
       "        vertical-align: middle;\n",
       "    }\n",
       "\n",
       "    .dataframe tbody tr th {\n",
       "        vertical-align: top;\n",
       "    }\n",
       "\n",
       "    .dataframe thead th {\n",
       "        text-align: right;\n",
       "    }\n",
       "</style>\n",
       "<table border=\"1\" class=\"dataframe\">\n",
       "  <thead>\n",
       "    <tr style=\"text-align: right;\">\n",
       "      <th></th>\n",
       "      <th>production_budget</th>\n",
       "      <th>domestic_gross</th>\n",
       "      <th>worldwide_gross</th>\n",
       "    </tr>\n",
       "  </thead>\n",
       "  <tbody>\n",
       "    <tr>\n",
       "      <th>0</th>\n",
       "      <td>425000000.0</td>\n",
       "      <td>760507625.0</td>\n",
       "      <td>2.776345e+09</td>\n",
       "    </tr>\n",
       "    <tr>\n",
       "      <th>1</th>\n",
       "      <td>410600000.0</td>\n",
       "      <td>241063875.0</td>\n",
       "      <td>1.045664e+09</td>\n",
       "    </tr>\n",
       "    <tr>\n",
       "      <th>2</th>\n",
       "      <td>350000000.0</td>\n",
       "      <td>42762350.0</td>\n",
       "      <td>1.497624e+08</td>\n",
       "    </tr>\n",
       "    <tr>\n",
       "      <th>3</th>\n",
       "      <td>330600000.0</td>\n",
       "      <td>459005868.0</td>\n",
       "      <td>1.403014e+09</td>\n",
       "    </tr>\n",
       "    <tr>\n",
       "      <th>4</th>\n",
       "      <td>317000000.0</td>\n",
       "      <td>620181382.0</td>\n",
       "      <td>1.316722e+09</td>\n",
       "    </tr>\n",
       "  </tbody>\n",
       "</table>\n",
       "</div>"
      ],
      "text/plain": [
       "   production_budget  domestic_gross  worldwide_gross\n",
       "0        425000000.0     760507625.0     2.776345e+09\n",
       "1        410600000.0     241063875.0     1.045664e+09\n",
       "2        350000000.0      42762350.0     1.497624e+08\n",
       "3        330600000.0     459005868.0     1.403014e+09\n",
       "4        317000000.0     620181382.0     1.316722e+09"
      ]
     },
     "execution_count": 38,
     "metadata": {},
     "output_type": "execute_result"
    }
   ],
   "source": [
    "cols = ['production_budget', 'domestic_gross', 'worldwide_gross']\n",
    "\n",
    "for col in cols:\n",
    "    data3_copy[col] = data3_copy[col].replace('[\\$,]', '', regex=True).astype(float)\n",
    "data3_copy[cols].head()"
   ]
  },
  {
   "cell_type": "code",
   "execution_count": 39,
   "metadata": {},
   "outputs": [
    {
     "data": {
      "text/html": [
       "<div>\n",
       "<style scoped>\n",
       "    .dataframe tbody tr th:only-of-type {\n",
       "        vertical-align: middle;\n",
       "    }\n",
       "\n",
       "    .dataframe tbody tr th {\n",
       "        vertical-align: top;\n",
       "    }\n",
       "\n",
       "    .dataframe thead th {\n",
       "        text-align: right;\n",
       "    }\n",
       "</style>\n",
       "<table border=\"1\" class=\"dataframe\">\n",
       "  <thead>\n",
       "    <tr style=\"text-align: right;\">\n",
       "      <th></th>\n",
       "      <th>id</th>\n",
       "      <th>release_date</th>\n",
       "      <th>movie</th>\n",
       "      <th>production_budget</th>\n",
       "      <th>domestic_gross</th>\n",
       "      <th>worldwide_gross</th>\n",
       "    </tr>\n",
       "  </thead>\n",
       "  <tbody>\n",
       "    <tr>\n",
       "      <th>0</th>\n",
       "      <td>1</td>\n",
       "      <td>2009-12-18</td>\n",
       "      <td>Avatar</td>\n",
       "      <td>425000000.0</td>\n",
       "      <td>760507625.0</td>\n",
       "      <td>2.776345e+09</td>\n",
       "    </tr>\n",
       "    <tr>\n",
       "      <th>1</th>\n",
       "      <td>2</td>\n",
       "      <td>2011-05-20</td>\n",
       "      <td>Pirates of the Caribbean: On Stranger Tides</td>\n",
       "      <td>410600000.0</td>\n",
       "      <td>241063875.0</td>\n",
       "      <td>1.045664e+09</td>\n",
       "    </tr>\n",
       "    <tr>\n",
       "      <th>2</th>\n",
       "      <td>3</td>\n",
       "      <td>2019-06-07</td>\n",
       "      <td>Dark Phoenix</td>\n",
       "      <td>350000000.0</td>\n",
       "      <td>42762350.0</td>\n",
       "      <td>1.497624e+08</td>\n",
       "    </tr>\n",
       "    <tr>\n",
       "      <th>3</th>\n",
       "      <td>4</td>\n",
       "      <td>2015-05-01</td>\n",
       "      <td>Avengers: Age of Ultron</td>\n",
       "      <td>330600000.0</td>\n",
       "      <td>459005868.0</td>\n",
       "      <td>1.403014e+09</td>\n",
       "    </tr>\n",
       "    <tr>\n",
       "      <th>4</th>\n",
       "      <td>5</td>\n",
       "      <td>2017-12-15</td>\n",
       "      <td>Star Wars Ep. VIII: The Last Jedi</td>\n",
       "      <td>317000000.0</td>\n",
       "      <td>620181382.0</td>\n",
       "      <td>1.316722e+09</td>\n",
       "    </tr>\n",
       "    <tr>\n",
       "      <th>...</th>\n",
       "      <td>...</td>\n",
       "      <td>...</td>\n",
       "      <td>...</td>\n",
       "      <td>...</td>\n",
       "      <td>...</td>\n",
       "      <td>...</td>\n",
       "    </tr>\n",
       "    <tr>\n",
       "      <th>5777</th>\n",
       "      <td>78</td>\n",
       "      <td>2018-12-31</td>\n",
       "      <td>Red 11</td>\n",
       "      <td>7000.0</td>\n",
       "      <td>0.0</td>\n",
       "      <td>0.000000e+00</td>\n",
       "    </tr>\n",
       "    <tr>\n",
       "      <th>5778</th>\n",
       "      <td>79</td>\n",
       "      <td>1999-04-02</td>\n",
       "      <td>Following</td>\n",
       "      <td>6000.0</td>\n",
       "      <td>48482.0</td>\n",
       "      <td>2.404950e+05</td>\n",
       "    </tr>\n",
       "    <tr>\n",
       "      <th>5779</th>\n",
       "      <td>80</td>\n",
       "      <td>2005-07-13</td>\n",
       "      <td>Return to the Land of Wonders</td>\n",
       "      <td>5000.0</td>\n",
       "      <td>1338.0</td>\n",
       "      <td>1.338000e+03</td>\n",
       "    </tr>\n",
       "    <tr>\n",
       "      <th>5780</th>\n",
       "      <td>81</td>\n",
       "      <td>2015-09-29</td>\n",
       "      <td>A Plague So Pleasant</td>\n",
       "      <td>1400.0</td>\n",
       "      <td>0.0</td>\n",
       "      <td>0.000000e+00</td>\n",
       "    </tr>\n",
       "    <tr>\n",
       "      <th>5781</th>\n",
       "      <td>82</td>\n",
       "      <td>2005-08-05</td>\n",
       "      <td>My Date With Drew</td>\n",
       "      <td>1100.0</td>\n",
       "      <td>181041.0</td>\n",
       "      <td>1.810410e+05</td>\n",
       "    </tr>\n",
       "  </tbody>\n",
       "</table>\n",
       "<p>5782 rows × 6 columns</p>\n",
       "</div>"
      ],
      "text/plain": [
       "      id release_date                                        movie  \\\n",
       "0      1   2009-12-18                                       Avatar   \n",
       "1      2   2011-05-20  Pirates of the Caribbean: On Stranger Tides   \n",
       "2      3   2019-06-07                                 Dark Phoenix   \n",
       "3      4   2015-05-01                      Avengers: Age of Ultron   \n",
       "4      5   2017-12-15            Star Wars Ep. VIII: The Last Jedi   \n",
       "...   ..          ...                                          ...   \n",
       "5777  78   2018-12-31                                       Red 11   \n",
       "5778  79   1999-04-02                                    Following   \n",
       "5779  80   2005-07-13                Return to the Land of Wonders   \n",
       "5780  81   2015-09-29                         A Plague So Pleasant   \n",
       "5781  82   2005-08-05                            My Date With Drew   \n",
       "\n",
       "      production_budget  domestic_gross  worldwide_gross  \n",
       "0           425000000.0     760507625.0     2.776345e+09  \n",
       "1           410600000.0     241063875.0     1.045664e+09  \n",
       "2           350000000.0      42762350.0     1.497624e+08  \n",
       "3           330600000.0     459005868.0     1.403014e+09  \n",
       "4           317000000.0     620181382.0     1.316722e+09  \n",
       "...                 ...             ...              ...  \n",
       "5777             7000.0             0.0     0.000000e+00  \n",
       "5778             6000.0         48482.0     2.404950e+05  \n",
       "5779             5000.0          1338.0     1.338000e+03  \n",
       "5780             1400.0             0.0     0.000000e+00  \n",
       "5781             1100.0        181041.0     1.810410e+05  \n",
       "\n",
       "[5782 rows x 6 columns]"
      ]
     },
     "execution_count": 39,
     "metadata": {},
     "output_type": "execute_result"
    }
   ],
   "source": [
    "data3_copy"
   ]
  },
  {
   "cell_type": "code",
   "execution_count": 40,
   "metadata": {},
   "outputs": [
    {
     "name": "stdout",
     "output_type": "stream",
     "text": [
      "Value counts for column: id\n",
      "id\n",
      "1      58\n",
      "63     58\n",
      "61     58\n",
      "60     58\n",
      "59     58\n",
      "       ..\n",
      "86     57\n",
      "85     57\n",
      "84     57\n",
      "83     57\n",
      "100    57\n",
      "Name: count, Length: 100, dtype: int64\n",
      "\n",
      "\n",
      "Value counts for column: release_date\n",
      "release_date\n",
      "2014-12-31    24\n",
      "2015-12-31    23\n",
      "2010-12-31    15\n",
      "2008-12-31    14\n",
      "2009-12-31    13\n",
      "              ..\n",
      "1977-10-21     1\n",
      "2009-06-23     1\n",
      "2017-09-26     1\n",
      "2007-11-14     1\n",
      "2005-07-13     1\n",
      "Name: count, Length: 2418, dtype: int64\n",
      "\n",
      "\n",
      "Value counts for column: movie\n",
      "movie\n",
      "Halloween                              3\n",
      "Home                                   3\n",
      "King Kong                              3\n",
      "Friday the 13th                        2\n",
      "The Last House on the Left             2\n",
      "                                      ..\n",
      "9                                      1\n",
      "What's the Worst That Could Happen?    1\n",
      "Entourage                              1\n",
      "Love and Other Drugs                   1\n",
      "My Date With Drew                      1\n",
      "Name: count, Length: 5698, dtype: int64\n",
      "\n",
      "\n",
      "Value counts for column: production_budget\n",
      "production_budget\n",
      "20000000.0    231\n",
      "10000000.0    212\n",
      "30000000.0    177\n",
      "15000000.0    173\n",
      "25000000.0    171\n",
      "             ... \n",
      "13900000.0      1\n",
      "14200000.0      1\n",
      "14400000.0      1\n",
      "14600000.0      1\n",
      "1100.0          1\n",
      "Name: count, Length: 509, dtype: int64\n",
      "\n",
      "\n",
      "Value counts for column: domestic_gross\n",
      "domestic_gross\n",
      "0.0           548\n",
      "8000000.0       9\n",
      "7000000.0       7\n",
      "2000000.0       7\n",
      "10000000.0      6\n",
      "             ... \n",
      "2221994.0       1\n",
      "4212494.0       1\n",
      "4496583.0       1\n",
      "4651977.0       1\n",
      "181041.0        1\n",
      "Name: count, Length: 5164, dtype: int64\n",
      "\n",
      "\n",
      "Value counts for column: worldwide_gross\n",
      "worldwide_gross\n",
      "0.0           367\n",
      "8000000.0       9\n",
      "2000000.0       6\n",
      "7000000.0       6\n",
      "4000000.0       4\n",
      "             ... \n",
      "39498360.0      1\n",
      "94875000.0      1\n",
      "77593167.0      1\n",
      "36299670.0      1\n",
      "181041.0        1\n",
      "Name: count, Length: 5356, dtype: int64\n",
      "\n",
      "\n"
     ]
    }
   ],
   "source": [
    "for clom in data3_copy.columns:\n",
    "    print(f\"Value counts for column: {clom}\")\n",
    "    print(data3_copy[clom].value_counts())\n",
    "    print(\"\\n\")"
   ]
  },
  {
   "cell_type": "code",
   "execution_count": 41,
   "metadata": {},
   "outputs": [
    {
     "data": {
      "text/html": [
       "<div>\n",
       "<style scoped>\n",
       "    .dataframe tbody tr th:only-of-type {\n",
       "        vertical-align: middle;\n",
       "    }\n",
       "\n",
       "    .dataframe tbody tr th {\n",
       "        vertical-align: top;\n",
       "    }\n",
       "\n",
       "    .dataframe thead th {\n",
       "        text-align: right;\n",
       "    }\n",
       "</style>\n",
       "<table border=\"1\" class=\"dataframe\">\n",
       "  <thead>\n",
       "    <tr style=\"text-align: right;\">\n",
       "      <th></th>\n",
       "      <th>id</th>\n",
       "      <th>synopsis</th>\n",
       "      <th>rating</th>\n",
       "      <th>genre</th>\n",
       "      <th>director</th>\n",
       "      <th>writer</th>\n",
       "      <th>theater_date</th>\n",
       "      <th>dvd_date</th>\n",
       "      <th>currency</th>\n",
       "      <th>box_office</th>\n",
       "      <th>runtime</th>\n",
       "      <th>studio</th>\n",
       "    </tr>\n",
       "  </thead>\n",
       "  <tbody>\n",
       "    <tr>\n",
       "      <th>0</th>\n",
       "      <td>1</td>\n",
       "      <td>This gritty, fast-paced, and innovative police...</td>\n",
       "      <td>R</td>\n",
       "      <td>Action and Adventure|Classics|Drama</td>\n",
       "      <td>William Friedkin</td>\n",
       "      <td>Ernest Tidyman</td>\n",
       "      <td>Oct 9, 1971</td>\n",
       "      <td>Sep 25, 2001</td>\n",
       "      <td>NaN</td>\n",
       "      <td>NaN</td>\n",
       "      <td>104 minutes</td>\n",
       "      <td>NaN</td>\n",
       "    </tr>\n",
       "    <tr>\n",
       "      <th>1</th>\n",
       "      <td>3</td>\n",
       "      <td>New York City, not-too-distant-future: Eric Pa...</td>\n",
       "      <td>R</td>\n",
       "      <td>Drama|Science Fiction and Fantasy</td>\n",
       "      <td>David Cronenberg</td>\n",
       "      <td>David Cronenberg|Don DeLillo</td>\n",
       "      <td>Aug 17, 2012</td>\n",
       "      <td>Jan 1, 2013</td>\n",
       "      <td>$</td>\n",
       "      <td>600,000</td>\n",
       "      <td>108 minutes</td>\n",
       "      <td>Entertainment One</td>\n",
       "    </tr>\n",
       "    <tr>\n",
       "      <th>2</th>\n",
       "      <td>5</td>\n",
       "      <td>Illeana Douglas delivers a superb performance ...</td>\n",
       "      <td>R</td>\n",
       "      <td>Drama|Musical and Performing Arts</td>\n",
       "      <td>Allison Anders</td>\n",
       "      <td>Allison Anders</td>\n",
       "      <td>Sep 13, 1996</td>\n",
       "      <td>Apr 18, 2000</td>\n",
       "      <td>NaN</td>\n",
       "      <td>NaN</td>\n",
       "      <td>116 minutes</td>\n",
       "      <td>NaN</td>\n",
       "    </tr>\n",
       "    <tr>\n",
       "      <th>3</th>\n",
       "      <td>6</td>\n",
       "      <td>Michael Douglas runs afoul of a treacherous su...</td>\n",
       "      <td>R</td>\n",
       "      <td>Drama|Mystery and Suspense</td>\n",
       "      <td>Barry Levinson</td>\n",
       "      <td>Paul Attanasio|Michael Crichton</td>\n",
       "      <td>Dec 9, 1994</td>\n",
       "      <td>Aug 27, 1997</td>\n",
       "      <td>NaN</td>\n",
       "      <td>NaN</td>\n",
       "      <td>128 minutes</td>\n",
       "      <td>NaN</td>\n",
       "    </tr>\n",
       "    <tr>\n",
       "      <th>4</th>\n",
       "      <td>7</td>\n",
       "      <td>NaN</td>\n",
       "      <td>NR</td>\n",
       "      <td>Drama|Romance</td>\n",
       "      <td>Rodney Bennett</td>\n",
       "      <td>Giles Cooper</td>\n",
       "      <td>NaN</td>\n",
       "      <td>NaN</td>\n",
       "      <td>NaN</td>\n",
       "      <td>NaN</td>\n",
       "      <td>200 minutes</td>\n",
       "      <td>NaN</td>\n",
       "    </tr>\n",
       "  </tbody>\n",
       "</table>\n",
       "</div>"
      ],
      "text/plain": [
       "   id                                           synopsis rating  \\\n",
       "0   1  This gritty, fast-paced, and innovative police...      R   \n",
       "1   3  New York City, not-too-distant-future: Eric Pa...      R   \n",
       "2   5  Illeana Douglas delivers a superb performance ...      R   \n",
       "3   6  Michael Douglas runs afoul of a treacherous su...      R   \n",
       "4   7                                                NaN     NR   \n",
       "\n",
       "                                 genre          director  \\\n",
       "0  Action and Adventure|Classics|Drama  William Friedkin   \n",
       "1    Drama|Science Fiction and Fantasy  David Cronenberg   \n",
       "2    Drama|Musical and Performing Arts    Allison Anders   \n",
       "3           Drama|Mystery and Suspense    Barry Levinson   \n",
       "4                        Drama|Romance    Rodney Bennett   \n",
       "\n",
       "                            writer  theater_date      dvd_date currency  \\\n",
       "0                   Ernest Tidyman   Oct 9, 1971  Sep 25, 2001      NaN   \n",
       "1     David Cronenberg|Don DeLillo  Aug 17, 2012   Jan 1, 2013        $   \n",
       "2                   Allison Anders  Sep 13, 1996  Apr 18, 2000      NaN   \n",
       "3  Paul Attanasio|Michael Crichton   Dec 9, 1994  Aug 27, 1997      NaN   \n",
       "4                     Giles Cooper           NaN           NaN      NaN   \n",
       "\n",
       "  box_office      runtime             studio  \n",
       "0        NaN  104 minutes                NaN  \n",
       "1    600,000  108 minutes  Entertainment One  \n",
       "2        NaN  116 minutes                NaN  \n",
       "3        NaN  128 minutes                NaN  \n",
       "4        NaN  200 minutes                NaN  "
      ]
     },
     "execution_count": 41,
     "metadata": {},
     "output_type": "execute_result"
    }
   ],
   "source": [
    "data4 = pd.read_csv('zippedData/rt.movie_info.tsv.gz', sep = '\\t')\n",
    "data4.head()"
   ]
  },
  {
   "cell_type": "code",
   "execution_count": 42,
   "metadata": {},
   "outputs": [
    {
     "data": {
      "text/plain": [
       "(1560, 12)"
      ]
     },
     "execution_count": 42,
     "metadata": {},
     "output_type": "execute_result"
    }
   ],
   "source": [
    "data4.shape"
   ]
  },
  {
   "cell_type": "code",
   "execution_count": 43,
   "metadata": {},
   "outputs": [
    {
     "data": {
      "text/plain": [
       "id                 0\n",
       "synopsis          62\n",
       "rating             3\n",
       "genre              8\n",
       "director         199\n",
       "writer           449\n",
       "theater_date     359\n",
       "dvd_date         359\n",
       "currency        1220\n",
       "box_office      1220\n",
       "runtime           30\n",
       "studio          1066\n",
       "dtype: int64"
      ]
     },
     "execution_count": 43,
     "metadata": {},
     "output_type": "execute_result"
    }
   ],
   "source": [
    "data4.isna().sum()"
   ]
  },
  {
   "cell_type": "code",
   "execution_count": 44,
   "metadata": {},
   "outputs": [
    {
     "data": {
      "text/html": [
       "<div>\n",
       "<style scoped>\n",
       "    .dataframe tbody tr th:only-of-type {\n",
       "        vertical-align: middle;\n",
       "    }\n",
       "\n",
       "    .dataframe tbody tr th {\n",
       "        vertical-align: top;\n",
       "    }\n",
       "\n",
       "    .dataframe thead th {\n",
       "        text-align: right;\n",
       "    }\n",
       "</style>\n",
       "<table border=\"1\" class=\"dataframe\">\n",
       "  <thead>\n",
       "    <tr style=\"text-align: right;\">\n",
       "      <th></th>\n",
       "      <th>id</th>\n",
       "      <th>synopsis</th>\n",
       "      <th>rating</th>\n",
       "      <th>genre</th>\n",
       "      <th>director</th>\n",
       "      <th>writer</th>\n",
       "      <th>theater_date</th>\n",
       "      <th>dvd_date</th>\n",
       "      <th>currency</th>\n",
       "      <th>box_office</th>\n",
       "      <th>runtime</th>\n",
       "      <th>studio</th>\n",
       "    </tr>\n",
       "  </thead>\n",
       "  <tbody>\n",
       "    <tr>\n",
       "      <th>0</th>\n",
       "      <td>1</td>\n",
       "      <td>This gritty, fast-paced, and innovative police...</td>\n",
       "      <td>R</td>\n",
       "      <td>Action and Adventure|Classics|Drama</td>\n",
       "      <td>William Friedkin</td>\n",
       "      <td>Ernest Tidyman</td>\n",
       "      <td>Oct 9, 1971</td>\n",
       "      <td>Sep 25, 2001</td>\n",
       "      <td>NaN</td>\n",
       "      <td>NaN</td>\n",
       "      <td>104 minutes</td>\n",
       "      <td>NaN</td>\n",
       "    </tr>\n",
       "    <tr>\n",
       "      <th>1</th>\n",
       "      <td>3</td>\n",
       "      <td>New York City, not-too-distant-future: Eric Pa...</td>\n",
       "      <td>R</td>\n",
       "      <td>Drama|Science Fiction and Fantasy</td>\n",
       "      <td>David Cronenberg</td>\n",
       "      <td>David Cronenberg|Don DeLillo</td>\n",
       "      <td>Aug 17, 2012</td>\n",
       "      <td>Jan 1, 2013</td>\n",
       "      <td>$</td>\n",
       "      <td>600,000</td>\n",
       "      <td>108 minutes</td>\n",
       "      <td>Entertainment One</td>\n",
       "    </tr>\n",
       "    <tr>\n",
       "      <th>2</th>\n",
       "      <td>5</td>\n",
       "      <td>Illeana Douglas delivers a superb performance ...</td>\n",
       "      <td>R</td>\n",
       "      <td>Drama|Musical and Performing Arts</td>\n",
       "      <td>Allison Anders</td>\n",
       "      <td>Allison Anders</td>\n",
       "      <td>Sep 13, 1996</td>\n",
       "      <td>Apr 18, 2000</td>\n",
       "      <td>NaN</td>\n",
       "      <td>NaN</td>\n",
       "      <td>116 minutes</td>\n",
       "      <td>NaN</td>\n",
       "    </tr>\n",
       "    <tr>\n",
       "      <th>3</th>\n",
       "      <td>6</td>\n",
       "      <td>Michael Douglas runs afoul of a treacherous su...</td>\n",
       "      <td>R</td>\n",
       "      <td>Drama|Mystery and Suspense</td>\n",
       "      <td>Barry Levinson</td>\n",
       "      <td>Paul Attanasio|Michael Crichton</td>\n",
       "      <td>Dec 9, 1994</td>\n",
       "      <td>Aug 27, 1997</td>\n",
       "      <td>NaN</td>\n",
       "      <td>NaN</td>\n",
       "      <td>128 minutes</td>\n",
       "      <td>NaN</td>\n",
       "    </tr>\n",
       "    <tr>\n",
       "      <th>4</th>\n",
       "      <td>7</td>\n",
       "      <td>NaN</td>\n",
       "      <td>NR</td>\n",
       "      <td>Drama|Romance</td>\n",
       "      <td>Rodney Bennett</td>\n",
       "      <td>Giles Cooper</td>\n",
       "      <td>NaN</td>\n",
       "      <td>NaN</td>\n",
       "      <td>NaN</td>\n",
       "      <td>NaN</td>\n",
       "      <td>200 minutes</td>\n",
       "      <td>NaN</td>\n",
       "    </tr>\n",
       "  </tbody>\n",
       "</table>\n",
       "</div>"
      ],
      "text/plain": [
       "   id                                           synopsis rating  \\\n",
       "0   1  This gritty, fast-paced, and innovative police...      R   \n",
       "1   3  New York City, not-too-distant-future: Eric Pa...      R   \n",
       "2   5  Illeana Douglas delivers a superb performance ...      R   \n",
       "3   6  Michael Douglas runs afoul of a treacherous su...      R   \n",
       "4   7                                                NaN     NR   \n",
       "\n",
       "                                 genre          director  \\\n",
       "0  Action and Adventure|Classics|Drama  William Friedkin   \n",
       "1    Drama|Science Fiction and Fantasy  David Cronenberg   \n",
       "2    Drama|Musical and Performing Arts    Allison Anders   \n",
       "3           Drama|Mystery and Suspense    Barry Levinson   \n",
       "4                        Drama|Romance    Rodney Bennett   \n",
       "\n",
       "                            writer  theater_date      dvd_date currency  \\\n",
       "0                   Ernest Tidyman   Oct 9, 1971  Sep 25, 2001      NaN   \n",
       "1     David Cronenberg|Don DeLillo  Aug 17, 2012   Jan 1, 2013        $   \n",
       "2                   Allison Anders  Sep 13, 1996  Apr 18, 2000      NaN   \n",
       "3  Paul Attanasio|Michael Crichton   Dec 9, 1994  Aug 27, 1997      NaN   \n",
       "4                     Giles Cooper           NaN           NaN      NaN   \n",
       "\n",
       "  box_office      runtime             studio  \n",
       "0        NaN  104 minutes                NaN  \n",
       "1    600,000  108 minutes  Entertainment One  \n",
       "2        NaN  116 minutes                NaN  \n",
       "3        NaN  128 minutes                NaN  \n",
       "4        NaN  200 minutes                NaN  "
      ]
     },
     "execution_count": 44,
     "metadata": {},
     "output_type": "execute_result"
    }
   ],
   "source": [
    "data5 = pd.read_csv('zippedData/rt.movie_info.tsv.gz', sep = '\\t', encoding = 'latin -1' )\n",
    "data5.head()"
   ]
  },
  {
   "cell_type": "code",
   "execution_count": 45,
   "metadata": {},
   "outputs": [
    {
     "data": {
      "text/plain": [
       "(1560, 12)"
      ]
     },
<<<<<<< HEAD
     "execution_count": 45,
=======
     "execution_count": 43,
>>>>>>> 199658aace1f5a74b814925525fe9fbeac988378
     "metadata": {},
     "output_type": "execute_result"
    }
   ],
   "source": [
    "data5.shape"
   ]
  },
  {
   "cell_type": "code",
<<<<<<< HEAD
   "execution_count": 46,
=======
   "execution_count": 44,
>>>>>>> 199658aace1f5a74b814925525fe9fbeac988378
   "metadata": {},
   "outputs": [
    {
     "data": {
      "text/plain": [
       "id                 0\n",
       "synopsis          62\n",
       "rating             3\n",
       "genre              8\n",
       "director         199\n",
       "writer           449\n",
       "theater_date     359\n",
       "dvd_date         359\n",
       "currency        1220\n",
       "box_office      1220\n",
       "runtime           30\n",
       "studio          1066\n",
       "dtype: int64"
      ]
     },
<<<<<<< HEAD
     "execution_count": 46,
=======
     "execution_count": 44,
>>>>>>> 199658aace1f5a74b814925525fe9fbeac988378
     "metadata": {},
     "output_type": "execute_result"
    }
   ],
   "source": [
    "data5.isna().sum()"
   ]
  },
  {
   "cell_type": "code",
   "execution_count": 47,
   "metadata": {},
   "outputs": [
    {
     "ename": "DatabaseError",
     "evalue": "Execution failed on sql 'SELECT genres, averagerating, numvotes\n                FROM movie_basics\n                JOIN movie_ratings ON movie_ratings.movie_id = movie_basics.movie_id ;\n          \n          ': no such table: movie_basics",
     "output_type": "error",
     "traceback": [
      "\u001b[0;31m---------------------------------------------------------------------------\u001b[0m",
      "\u001b[0;31mOperationalError\u001b[0m                          Traceback (most recent call last)",
      "File \u001b[0;32m~/anaconda3/envs/learn-env/lib/python3.10/site-packages/pandas/io/sql.py:2674\u001b[0m, in \u001b[0;36mSQLiteDatabase.execute\u001b[0;34m(self, sql, params)\u001b[0m\n\u001b[1;32m   2673\u001b[0m \u001b[38;5;28;01mtry\u001b[39;00m:\n\u001b[0;32m-> 2674\u001b[0m     \u001b[43mcur\u001b[49m\u001b[38;5;241;43m.\u001b[39;49m\u001b[43mexecute\u001b[49m\u001b[43m(\u001b[49m\u001b[43msql\u001b[49m\u001b[43m,\u001b[49m\u001b[43m \u001b[49m\u001b[38;5;241;43m*\u001b[39;49m\u001b[43margs\u001b[49m\u001b[43m)\u001b[49m\n\u001b[1;32m   2675\u001b[0m     \u001b[38;5;28;01mreturn\u001b[39;00m cur\n",
      "\u001b[0;31mOperationalError\u001b[0m: no such table: movie_basics",
      "\nThe above exception was the direct cause of the following exception:\n",
      "\u001b[0;31mDatabaseError\u001b[0m                             Traceback (most recent call last)",
      "Cell \u001b[0;32mIn[47], line 12\u001b[0m\n\u001b[1;32m      4\u001b[0m cur \u001b[38;5;241m=\u001b[39m conn\u001b[38;5;241m.\u001b[39mcursor()\n\u001b[1;32m      6\u001b[0m datadata \u001b[38;5;241m=\u001b[39m \u001b[38;5;124m\"\"\"\u001b[39m\u001b[38;5;124mSELECT genres, averagerating, numvotes\u001b[39m\n\u001b[1;32m      7\u001b[0m \u001b[38;5;124m                FROM movie_basics\u001b[39m\n\u001b[1;32m      8\u001b[0m \u001b[38;5;124m                JOIN movie_ratings ON movie_ratings.movie_id = movie_basics.movie_id ;\u001b[39m\n\u001b[1;32m      9\u001b[0m \u001b[38;5;124m          \u001b[39m\n\u001b[1;32m     10\u001b[0m \u001b[38;5;124m          \u001b[39m\u001b[38;5;124m\"\"\"\u001b[39m\n\u001b[0;32m---> 12\u001b[0m \u001b[43mpd\u001b[49m\u001b[38;5;241;43m.\u001b[39;49m\u001b[43mread_sql\u001b[49m\u001b[43m(\u001b[49m\u001b[43mdatadata\u001b[49m\u001b[43m,\u001b[49m\u001b[43m \u001b[49m\u001b[43mconn\u001b[49m\u001b[43m)\u001b[49m\n",
      "File \u001b[0;32m~/anaconda3/envs/learn-env/lib/python3.10/site-packages/pandas/io/sql.py:706\u001b[0m, in \u001b[0;36mread_sql\u001b[0;34m(sql, con, index_col, coerce_float, params, parse_dates, columns, chunksize, dtype_backend, dtype)\u001b[0m\n\u001b[1;32m    704\u001b[0m \u001b[38;5;28;01mwith\u001b[39;00m pandasSQL_builder(con) \u001b[38;5;28;01mas\u001b[39;00m pandas_sql:\n\u001b[1;32m    705\u001b[0m     \u001b[38;5;28;01mif\u001b[39;00m \u001b[38;5;28misinstance\u001b[39m(pandas_sql, SQLiteDatabase):\n\u001b[0;32m--> 706\u001b[0m         \u001b[38;5;28;01mreturn\u001b[39;00m \u001b[43mpandas_sql\u001b[49m\u001b[38;5;241;43m.\u001b[39;49m\u001b[43mread_query\u001b[49m\u001b[43m(\u001b[49m\n\u001b[1;32m    707\u001b[0m \u001b[43m            \u001b[49m\u001b[43msql\u001b[49m\u001b[43m,\u001b[49m\n\u001b[1;32m    708\u001b[0m \u001b[43m            \u001b[49m\u001b[43mindex_col\u001b[49m\u001b[38;5;241;43m=\u001b[39;49m\u001b[43mindex_col\u001b[49m\u001b[43m,\u001b[49m\n\u001b[1;32m    709\u001b[0m \u001b[43m            \u001b[49m\u001b[43mparams\u001b[49m\u001b[38;5;241;43m=\u001b[39;49m\u001b[43mparams\u001b[49m\u001b[43m,\u001b[49m\n\u001b[1;32m    710\u001b[0m \u001b[43m            \u001b[49m\u001b[43mcoerce_float\u001b[49m\u001b[38;5;241;43m=\u001b[39;49m\u001b[43mcoerce_float\u001b[49m\u001b[43m,\u001b[49m\n\u001b[1;32m    711\u001b[0m \u001b[43m            \u001b[49m\u001b[43mparse_dates\u001b[49m\u001b[38;5;241;43m=\u001b[39;49m\u001b[43mparse_dates\u001b[49m\u001b[43m,\u001b[49m\n\u001b[1;32m    712\u001b[0m \u001b[43m            \u001b[49m\u001b[43mchunksize\u001b[49m\u001b[38;5;241;43m=\u001b[39;49m\u001b[43mchunksize\u001b[49m\u001b[43m,\u001b[49m\n\u001b[1;32m    713\u001b[0m \u001b[43m            \u001b[49m\u001b[43mdtype_backend\u001b[49m\u001b[38;5;241;43m=\u001b[39;49m\u001b[43mdtype_backend\u001b[49m\u001b[43m,\u001b[49m\n\u001b[1;32m    714\u001b[0m \u001b[43m            \u001b[49m\u001b[43mdtype\u001b[49m\u001b[38;5;241;43m=\u001b[39;49m\u001b[43mdtype\u001b[49m\u001b[43m,\u001b[49m\n\u001b[1;32m    715\u001b[0m \u001b[43m        \u001b[49m\u001b[43m)\u001b[49m\n\u001b[1;32m    717\u001b[0m     \u001b[38;5;28;01mtry\u001b[39;00m:\n\u001b[1;32m    718\u001b[0m         _is_table_name \u001b[38;5;241m=\u001b[39m pandas_sql\u001b[38;5;241m.\u001b[39mhas_table(sql)\n",
      "File \u001b[0;32m~/anaconda3/envs/learn-env/lib/python3.10/site-packages/pandas/io/sql.py:2738\u001b[0m, in \u001b[0;36mSQLiteDatabase.read_query\u001b[0;34m(self, sql, index_col, coerce_float, parse_dates, params, chunksize, dtype, dtype_backend)\u001b[0m\n\u001b[1;32m   2727\u001b[0m \u001b[38;5;28;01mdef\u001b[39;00m \u001b[38;5;21mread_query\u001b[39m(\n\u001b[1;32m   2728\u001b[0m     \u001b[38;5;28mself\u001b[39m,\n\u001b[1;32m   2729\u001b[0m     sql,\n\u001b[0;32m   (...)\u001b[0m\n\u001b[1;32m   2736\u001b[0m     dtype_backend: DtypeBackend \u001b[38;5;241m|\u001b[39m Literal[\u001b[38;5;124m\"\u001b[39m\u001b[38;5;124mnumpy\u001b[39m\u001b[38;5;124m\"\u001b[39m] \u001b[38;5;241m=\u001b[39m \u001b[38;5;124m\"\u001b[39m\u001b[38;5;124mnumpy\u001b[39m\u001b[38;5;124m\"\u001b[39m,\n\u001b[1;32m   2737\u001b[0m ) \u001b[38;5;241m-\u001b[39m\u001b[38;5;241m>\u001b[39m DataFrame \u001b[38;5;241m|\u001b[39m Iterator[DataFrame]:\n\u001b[0;32m-> 2738\u001b[0m     cursor \u001b[38;5;241m=\u001b[39m \u001b[38;5;28;43mself\u001b[39;49m\u001b[38;5;241;43m.\u001b[39;49m\u001b[43mexecute\u001b[49m\u001b[43m(\u001b[49m\u001b[43msql\u001b[49m\u001b[43m,\u001b[49m\u001b[43m \u001b[49m\u001b[43mparams\u001b[49m\u001b[43m)\u001b[49m\n\u001b[1;32m   2739\u001b[0m     columns \u001b[38;5;241m=\u001b[39m [col_desc[\u001b[38;5;241m0\u001b[39m] \u001b[38;5;28;01mfor\u001b[39;00m col_desc \u001b[38;5;129;01min\u001b[39;00m cursor\u001b[38;5;241m.\u001b[39mdescription]\n\u001b[1;32m   2741\u001b[0m     \u001b[38;5;28;01mif\u001b[39;00m chunksize \u001b[38;5;129;01mis\u001b[39;00m \u001b[38;5;129;01mnot\u001b[39;00m \u001b[38;5;28;01mNone\u001b[39;00m:\n",
      "File \u001b[0;32m~/anaconda3/envs/learn-env/lib/python3.10/site-packages/pandas/io/sql.py:2686\u001b[0m, in \u001b[0;36mSQLiteDatabase.execute\u001b[0;34m(self, sql, params)\u001b[0m\n\u001b[1;32m   2683\u001b[0m     \u001b[38;5;28;01mraise\u001b[39;00m ex \u001b[38;5;28;01mfrom\u001b[39;00m \u001b[38;5;21;01minner_exc\u001b[39;00m\n\u001b[1;32m   2685\u001b[0m ex \u001b[38;5;241m=\u001b[39m DatabaseError(\u001b[38;5;124mf\u001b[39m\u001b[38;5;124m\"\u001b[39m\u001b[38;5;124mExecution failed on sql \u001b[39m\u001b[38;5;124m'\u001b[39m\u001b[38;5;132;01m{\u001b[39;00msql\u001b[38;5;132;01m}\u001b[39;00m\u001b[38;5;124m'\u001b[39m\u001b[38;5;124m: \u001b[39m\u001b[38;5;132;01m{\u001b[39;00mexc\u001b[38;5;132;01m}\u001b[39;00m\u001b[38;5;124m\"\u001b[39m)\n\u001b[0;32m-> 2686\u001b[0m \u001b[38;5;28;01mraise\u001b[39;00m ex \u001b[38;5;28;01mfrom\u001b[39;00m \u001b[38;5;21;01mexc\u001b[39;00m\n",
      "\u001b[0;31mDatabaseError\u001b[0m: Execution failed on sql 'SELECT genres, averagerating, numvotes\n                FROM movie_basics\n                JOIN movie_ratings ON movie_ratings.movie_id = movie_basics.movie_id ;\n          \n          ': no such table: movie_basics"
     ]
    }
   ],
   "source": [
    "import sqlite3\n",
    "\n",
    "conn = sqlite3.connect('im.db')\n",
    "cur = conn.cursor()\n",
    "\n",
    "datadata = \"\"\"SELECT genres, averagerating, numvotes\n",
    "                FROM movie_basics\n",
    "                JOIN movie_ratings ON movie_ratings.movie_id = movie_basics.movie_id ;\n",
    "          \n",
    "          \"\"\"\n",
    "\n",
    "pd.read_sql(datadata, conn)"
   ]
  },
  {
   "cell_type": "code",
   "execution_count": null,
   "metadata": {},
   "outputs": [],
   "source": [
    "type(datadata)"
   ]
  },
  {
   "cell_type": "code",
   "execution_count": null,
   "metadata": {},
   "outputs": [],
   "source": [
    "data6 = pd.read_sql(datadata, conn)\n",
    "data6"
   ]
  },
  {
   "cell_type": "code",
   "execution_count": null,
   "metadata": {},
   "outputs": [],
   "source": [
    "type(data6)"
   ]
  },
  {
   "cell_type": "code",
   "execution_count": null,
   "metadata": {},
   "outputs": [],
   "source": [
    "data6.shape"
   ]
  },
  {
   "cell_type": "code",
   "execution_count": null,
   "metadata": {},
   "outputs": [],
   "source": [
    "data6.isna().sum()"
   ]
  },
  {
   "cell_type": "code",
   "execution_count": null,
   "metadata": {},
   "outputs": [],
   "source": []
  }
 ],
 "metadata": {
  "kernelspec": {
   "display_name": "Python 3 (ipykernel)",
   "language": "python",
   "name": "python3"
  },
  "language_info": {
   "codemirror_mode": {
    "name": "ipython",
    "version": 3
   },
   "file_extension": ".py",
   "mimetype": "text/x-python",
   "name": "python",
   "nbconvert_exporter": "python",
   "pygments_lexer": "ipython3",
   "version": "3.10.14"
  }
 },
 "nbformat": 4,
 "nbformat_minor": 4
}
